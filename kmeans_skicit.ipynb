{
 "cells": [
  {
   "cell_type": "code",
   "execution_count": null,
   "metadata": {
    "cell_id": "6039c2fb-fce6-4fef-bb95-422113ed0d71",
    "deepnote_cell_height": 117,
    "deepnote_cell_type": "code",
    "deepnote_to_be_reexecuted": false,
    "execution_millis": 1186,
    "execution_start": 1656426845686,
    "source_hash": "a42826a1",
    "tags": []
   },
   "outputs": [],
   "source": [
    "from sklearn.cluster import KMeans\n",
    "import sklearn.metrics as sm\n",
    "import numpy as np"
   ]
  },
  {
   "cell_type": "code",
   "execution_count": null,
   "metadata": {
    "cell_id": "0e61984a52e94c13a5ebd2fd55decb34",
    "deepnote_cell_height": 279,
    "deepnote_cell_type": "code",
    "deepnote_to_be_reexecuted": false,
    "execution_millis": 846,
    "execution_start": 1656410726742,
    "source_hash": "a6f8d333",
    "tags": []
   },
   "outputs": [],
   "source": [
    "import pandas as pd\n",
    "import pandas_gbq\n",
    "import io\n",
    "import datetime as dt\n",
    "from functools import reduce\n",
    "import requests\n",
    "import time\n",
    "from google.cloud import bigquery\n",
    "from google.oauth2 import service_account\n",
    "\n",
    "credentials = service_account.Credentials.from_service_account_file('/work/key.json')\n",
    "bq_client = bigquery.Client(credentials=credentials, project=credentials.project_id)"
   ]
  },
  {
   "cell_type": "code",
   "execution_count": null,
   "metadata": {
    "cell_id": "90ca2e52d5f049b292d696cbd5aeb4ed",
    "deepnote_cell_height": 621,
    "deepnote_cell_type": "code",
    "deepnote_to_be_reexecuted": false,
    "execution_millis": 1491,
    "execution_start": 1656410747036,
    "source_hash": "11ab96b",
    "tags": []
   },
   "outputs": [],
   "source": [
    "mdp_data= pd.io.gbq.read_gbq('''\n",
    "select\n",
    "    distinct cast(a.item_id as int64) as ID,\n",
    "    a.view_item_list_1d,\n",
    "    view_item_list_7d,\n",
    "    a.view_item_list_30d,\n",
    "    a.view_item_1d,\n",
    "    a.view_item_7d,\n",
    "    a.view_item_30d,\n",
    "    a.add_to_cart_1d,\n",
    "    a.add_to_cart_7d,\n",
    "    a.add_to_cart_30d,\n",
    "    a.begin_checkout_1d,\n",
    "    a.begin_checkout_7d,\n",
    "    a.begin_checkout_30d,\n",
    "    a.purchase_1d,\n",
    "    a.purchase_7d,\n",
    "    a.purchase_30d,\n",
    "    a.qty_sold,\n",
    "    a.nbre_commande,\n",
    "    a.product_marge,\n",
    "    a.order_recency,\n",
    "    a.order_seniority,\n",
    "    cast(a.stock as int64) as stock,\n",
    "from `mdp-paris.dbt_pipeline_prod.con_product_segmentation` a\n",
    "left join\n",
    "    `mdp-paris.dbt_pipeline_prod.stg_presta_product_performance` b\n",
    "    on a.item_id = b.product_id\n",
    "where collection = 'Collection 2022'\n",
    "\n",
    "''', project_id=credentials.project_id, dialect='standard', credentials = credentials )"
   ]
  },
  {
   "cell_type": "code",
   "execution_count": null,
   "metadata": {
    "cell_id": "9f6aa4254c364e9a8d99a68b767ccb41",
    "deepnote_cell_height": 153,
    "deepnote_cell_type": "code",
    "deepnote_to_be_reexecuted": false,
    "execution_millis": 1,
    "execution_start": 1656410841672,
    "source_hash": "7344941f",
    "tags": []
   },
   "outputs": [],
   "source": [
    "def clean_dataset(df):\n",
    "    assert isinstance(df, pd.DataFrame)\n",
    "    df.dropna(inplace=True)\n",
    "    indices_to_keep = ~df.isin([np.nan, np.inf, -np.inf]).any(1)\n",
    "    return df[indices_to_keep].astype(np.float64)"
   ]
  },
  {
   "cell_type": "code",
   "execution_count": null,
   "metadata": {
    "cell_id": "d323dda23e7a4defa2b2021a0989d866",
    "deepnote_cell_height": 251.375,
    "deepnote_cell_type": "code",
    "deepnote_output_heights": [
     136.375
    ],
    "deepnote_to_be_reexecuted": false,
    "execution_millis": 3,
    "execution_start": 1656412127231,
    "source_hash": "c6bae449",
    "tags": []
   },
   "outputs": [
    {
     "data": {
      "text/plain": [
       "Index(['ID', 'view_item_list_1d', 'view_item_list_7d', 'view_item_list_30d',\n",
       "       'view_item_1d', 'view_item_7d', 'view_item_30d', 'add_to_cart_1d',\n",
       "       'add_to_cart_7d', 'add_to_cart_30d', 'begin_checkout_1d',\n",
       "       'begin_checkout_7d', 'begin_checkout_30d', 'purchase_1d', 'purchase_7d',\n",
       "       'purchase_30d', 'qty_sold', 'nbre_commande', 'product_marge',\n",
       "       'order_recency', 'order_seniority', 'stock'],\n",
       "      dtype='object')"
      ]
     },
     "execution_count": 24,
     "metadata": {},
     "output_type": "execute_result"
    }
   ],
   "source": [
    "df=clean_dataset(mdp_data)\n",
    "df.columns"
   ]
  },
  {
   "cell_type": "code",
   "execution_count": null,
   "metadata": {
    "cell_id": "18fbadce8878496c9a19a3598a1b559f",
    "deepnote_cell_height": 226.1875,
    "deepnote_cell_type": "code",
    "deepnote_output_heights": [
     21.1875
    ],
    "deepnote_to_be_reexecuted": false,
    "execution_millis": 71,
    "execution_start": 1656412131764,
    "source_hash": "dd5dcffc",
    "tags": []
   },
   "outputs": [
    {
     "data": {
      "text/plain": [
       "KMeans(n_clusters=4)"
      ]
     },
     "execution_count": 25,
     "metadata": {},
     "output_type": "execute_result"
    }
   ],
   "source": [
    "model=KMeans(n_clusters=4)\n",
    "model.fit(df[['view_item_list_1d', 'view_item_list_7d', 'view_item_list_30d',\n",
    "       'view_item_1d', 'view_item_7d', 'view_item_30d', 'add_to_cart_1d',\n",
    "       'add_to_cart_7d', 'add_to_cart_30d', 'begin_checkout_1d',\n",
    "       'begin_checkout_7d', 'begin_checkout_30d', 'purchase_1d', 'purchase_7d',\n",
    "       'purchase_30d', 'qty_sold', 'nbre_commande', 'product_marge',\n",
    "       'order_recency', 'order_seniority', 'stock']])"
   ]
  },
  {
   "cell_type": "code",
   "execution_count": null,
   "metadata": {
    "cell_id": "34f305848ac94d948002b19f8c72cf18",
    "deepnote_cell_height": 81,
    "deepnote_cell_type": "code",
    "deepnote_to_be_reexecuted": false,
    "execution_millis": 0,
    "execution_start": 1656412135877,
    "source_hash": "65a223d2",
    "tags": []
   },
   "outputs": [],
   "source": [
    "df['Cluster']=model.labels_"
   ]
  },
  {
   "cell_type": "code",
   "execution_count": null,
   "metadata": {
    "cell_id": "1560eee4696742d19e3dba87f8d4a756",
    "deepnote_cell_height": 460.65625,
    "deepnote_cell_type": "code",
    "deepnote_to_be_reexecuted": false,
    "execution_millis": 134,
    "execution_start": 1656411415134,
    "source_hash": "8e87766b",
    "tags": []
   },
   "outputs": [
    {
     "data": {
      "application/vnd.deepnote.dataframe.v3+json": {
       "column_count": 21,
       "columns": [
        {
         "dtype": "float64",
         "name": "view_item_list_1d",
         "stats": {
          "histogram": [
           {
            "bin_end": 1102.0370588235294,
            "bin_start": 726.6078431372549,
            "count": 1
           },
           {
            "bin_end": 1477.466274509804,
            "bin_start": 1102.0370588235294,
            "count": 1
           },
           {
            "bin_end": 1852.8954901960783,
            "bin_start": 1477.466274509804,
            "count": 0
           },
           {
            "bin_end": 2228.3247058823526,
            "bin_start": 1852.8954901960783,
            "count": 0
           },
           {
            "bin_end": 2603.753921568627,
            "bin_start": 2228.3247058823526,
            "count": 1
           },
           {
            "bin_end": 2979.183137254902,
            "bin_start": 2603.753921568627,
            "count": 0
           },
           {
            "bin_end": 3354.612352941176,
            "bin_start": 2979.183137254902,
            "count": 0
           },
           {
            "bin_end": 3730.0415686274505,
            "bin_start": 3354.612352941176,
            "count": 0
           },
           {
            "bin_end": 4105.470784313725,
            "bin_start": 3730.0415686274505,
            "count": 0
           },
           {
            "bin_end": 4480.9,
            "bin_start": 4105.470784313725,
            "count": 1
           }
          ],
          "max": "4480.9",
          "min": "726.6078431372549",
          "nan_count": 0,
          "unique_count": 4
         }
        },
        {
         "dtype": "float64",
         "name": "view_item_list_7d",
         "stats": {
          "histogram": [
           {
            "bin_end": 11386.70882352941,
            "bin_start": 7556.176470588235,
            "count": 1
           },
           {
            "bin_end": 15217.241176470587,
            "bin_start": 11386.70882352941,
            "count": 1
           },
           {
            "bin_end": 19047.773529411763,
            "bin_start": 15217.241176470587,
            "count": 0
           },
           {
            "bin_end": 22878.30588235294,
            "bin_start": 19047.773529411763,
            "count": 0
           },
           {
            "bin_end": 26708.838235294115,
            "bin_start": 22878.30588235294,
            "count": 0
           },
           {
            "bin_end": 30539.37058823529,
            "bin_start": 26708.838235294115,
            "count": 1
           },
           {
            "bin_end": 34369.90294117647,
            "bin_start": 30539.37058823529,
            "count": 0
           },
           {
            "bin_end": 38200.43529411765,
            "bin_start": 34369.90294117647,
            "count": 0
           },
           {
            "bin_end": 42030.967647058824,
            "bin_start": 38200.43529411765,
            "count": 0
           },
           {
            "bin_end": 45861.5,
            "bin_start": 42030.967647058824,
            "count": 1
           }
          ],
          "max": "45861.5",
          "min": "7556.176470588235",
          "nan_count": 0,
          "unique_count": 4
         }
        },
        {
         "dtype": "float64",
         "name": "view_item_list_30d",
         "stats": {
          "histogram": [
           {
            "bin_end": 33549.440588235295,
            "bin_start": 22244.07843137255,
            "count": 1
           },
           {
            "bin_end": 44854.802745098044,
            "bin_start": 33549.440588235295,
            "count": 1
           },
           {
            "bin_end": 56160.16490196079,
            "bin_start": 44854.802745098044,
            "count": 0
           },
           {
            "bin_end": 67465.52705882353,
            "bin_start": 56160.16490196079,
            "count": 0
           },
           {
            "bin_end": 78770.88921568627,
            "bin_start": 67465.52705882353,
            "count": 1
           },
           {
            "bin_end": 90076.25137254903,
            "bin_start": 78770.88921568627,
            "count": 0
           },
           {
            "bin_end": 101381.61352941177,
            "bin_start": 90076.25137254903,
            "count": 0
           },
           {
            "bin_end": 112686.97568627451,
            "bin_start": 101381.61352941177,
            "count": 0
           },
           {
            "bin_end": 123992.33784313725,
            "bin_start": 112686.97568627451,
            "count": 0
           },
           {
            "bin_end": 135297.7,
            "bin_start": 123992.33784313725,
            "count": 1
           }
          ],
          "max": "135297.7",
          "min": "22244.07843137255",
          "nan_count": 0,
          "unique_count": 4
         }
        },
        {
         "dtype": "float64",
         "name": "view_item_1d",
         "stats": {
          "histogram": [
           {
            "bin_end": 39.69647058823529,
            "bin_start": 26.862745098039216,
            "count": 1
           },
           {
            "bin_end": 52.53019607843137,
            "bin_start": 39.69647058823529,
            "count": 1
           },
           {
            "bin_end": 65.36392156862745,
            "bin_start": 52.53019607843137,
            "count": 0
           },
           {
            "bin_end": 78.19764705882352,
            "bin_start": 65.36392156862745,
            "count": 1
           },
           {
            "bin_end": 91.0313725490196,
            "bin_start": 78.19764705882352,
            "count": 0
           },
           {
            "bin_end": 103.86509803921568,
            "bin_start": 91.0313725490196,
            "count": 0
           },
           {
            "bin_end": 116.69882352941175,
            "bin_start": 103.86509803921568,
            "count": 0
           },
           {
            "bin_end": 129.53254901960784,
            "bin_start": 116.69882352941175,
            "count": 0
           },
           {
            "bin_end": 142.3662745098039,
            "bin_start": 129.53254901960784,
            "count": 0
           },
           {
            "bin_end": 155.2,
            "bin_start": 142.3662745098039,
            "count": 1
           }
          ],
          "max": "155.2",
          "min": "26.862745098039216",
          "nan_count": 0,
          "unique_count": 4
         }
        },
        {
         "dtype": "float64",
         "name": "view_item_7d",
         "stats": {
          "histogram": [
           {
            "bin_end": 335.15,
            "bin_start": 232.16666666666666,
            "count": 1
           },
           {
            "bin_end": 438.1333333333333,
            "bin_start": 335.15,
            "count": 1
           },
           {
            "bin_end": 541.1166666666666,
            "bin_start": 438.1333333333333,
            "count": 0
           },
           {
            "bin_end": 644.0999999999999,
            "bin_start": 541.1166666666666,
            "count": 1
           },
           {
            "bin_end": 747.0833333333333,
            "bin_start": 644.0999999999999,
            "count": 0
           },
           {
            "bin_end": 850.0666666666665,
            "bin_start": 747.0833333333333,
            "count": 0
           },
           {
            "bin_end": 953.0499999999998,
            "bin_start": 850.0666666666665,
            "count": 0
           },
           {
            "bin_end": 1056.0333333333333,
            "bin_start": 953.0499999999998,
            "count": 0
           },
           {
            "bin_end": 1159.0166666666667,
            "bin_start": 1056.0333333333333,
            "count": 0
           },
           {
            "bin_end": 1262,
            "bin_start": 1159.0166666666667,
            "count": 1
           }
          ],
          "max": "1262.0",
          "min": "232.16666666666666",
          "nan_count": 0,
          "unique_count": 4
         }
        },
        {
         "dtype": "float64",
         "name": "view_item_30d",
         "stats": {
          "histogram": [
           {
            "bin_end": 1156.1717647058822,
            "bin_start": 849.7352941176471,
            "count": 1
           },
           {
            "bin_end": 1462.6082352941175,
            "bin_start": 1156.1717647058822,
            "count": 0
           },
           {
            "bin_end": 1769.044705882353,
            "bin_start": 1462.6082352941175,
            "count": 0
           },
           {
            "bin_end": 2075.4811764705883,
            "bin_start": 1769.044705882353,
            "count": 2
           },
           {
            "bin_end": 2381.9176470588236,
            "bin_start": 2075.4811764705883,
            "count": 0
           },
           {
            "bin_end": 2688.3541176470585,
            "bin_start": 2381.9176470588236,
            "count": 0
           },
           {
            "bin_end": 2994.7905882352934,
            "bin_start": 2688.3541176470585,
            "count": 0
           },
           {
            "bin_end": 3301.2270588235288,
            "bin_start": 2994.7905882352934,
            "count": 0
           },
           {
            "bin_end": 3607.663529411764,
            "bin_start": 3301.2270588235288,
            "count": 0
           },
           {
            "bin_end": 3914.1,
            "bin_start": 3607.663529411764,
            "count": 1
           }
          ],
          "max": "3914.1",
          "min": "849.7352941176471",
          "nan_count": 0,
          "unique_count": 4
         }
        },
        {
         "dtype": "float64",
         "name": "add_to_cart_1d",
         "stats": {
          "histogram": [
           {
            "bin_end": 1.436470588235294,
            "bin_start": 1.0294117647058822,
            "count": 1
           },
           {
            "bin_end": 1.8435294117647056,
            "bin_start": 1.436470588235294,
            "count": 0
           },
           {
            "bin_end": 2.2505882352941176,
            "bin_start": 1.8435294117647056,
            "count": 0
           },
           {
            "bin_end": 2.657647058823529,
            "bin_start": 2.2505882352941176,
            "count": 1
           },
           {
            "bin_end": 3.064705882352941,
            "bin_start": 2.657647058823529,
            "count": 0
           },
           {
            "bin_end": 3.471764705882353,
            "bin_start": 3.064705882352941,
            "count": 0
           },
           {
            "bin_end": 3.8788235294117643,
            "bin_start": 3.471764705882353,
            "count": 0
           },
           {
            "bin_end": 4.285882352941176,
            "bin_start": 3.8788235294117643,
            "count": 0
           },
           {
            "bin_end": 4.692941176470589,
            "bin_start": 4.285882352941176,
            "count": 1
           },
           {
            "bin_end": 5.1,
            "bin_start": 4.692941176470589,
            "count": 1
           }
          ],
          "max": "5.1",
          "min": "1.0294117647058822",
          "nan_count": 0,
          "unique_count": 4
         }
        },
        {
         "dtype": "float64",
         "name": "add_to_cart_7d",
         "stats": {
          "histogram": [
           {
            "bin_end": 15.444117647058825,
            "bin_start": 12.382352941176471,
            "count": 1
           },
           {
            "bin_end": 18.50588235294118,
            "bin_start": 15.444117647058825,
            "count": 0
           },
           {
            "bin_end": 21.56764705882353,
            "bin_start": 18.50588235294118,
            "count": 1
           },
           {
            "bin_end": 24.629411764705882,
            "bin_start": 21.56764705882353,
            "count": 0
           },
           {
            "bin_end": 27.691176470588236,
            "bin_start": 24.629411764705882,
            "count": 0
           },
           {
            "bin_end": 30.752941176470586,
            "bin_start": 27.691176470588236,
            "count": 1
           },
           {
            "bin_end": 33.81470588235294,
            "bin_start": 30.752941176470586,
            "count": 0
           },
           {
            "bin_end": 36.87647058823529,
            "bin_start": 33.81470588235294,
            "count": 0
           },
           {
            "bin_end": 39.938235294117646,
            "bin_start": 36.87647058823529,
            "count": 0
           },
           {
            "bin_end": 43,
            "bin_start": 39.938235294117646,
            "count": 1
           }
          ],
          "max": "43.0",
          "min": "12.382352941176471",
          "nan_count": 0,
          "unique_count": 4
         }
        },
        {
         "dtype": "float64",
         "name": "add_to_cart_30d",
         "stats": {
          "histogram": [
           {
            "bin_end": 45.13117647058823,
            "bin_start": 36.8235294117647,
            "count": 1
           },
           {
            "bin_end": 53.43882352941176,
            "bin_start": 45.13117647058823,
            "count": 0
           },
           {
            "bin_end": 61.7464705882353,
            "bin_start": 53.43882352941176,
            "count": 0
           },
           {
            "bin_end": 70.05411764705883,
            "bin_start": 61.7464705882353,
            "count": 1
           },
           {
            "bin_end": 78.36176470588236,
            "bin_start": 70.05411764705883,
            "count": 0
           },
           {
            "bin_end": 86.66941176470588,
            "bin_start": 78.36176470588236,
            "count": 1
           },
           {
            "bin_end": 94.9770588235294,
            "bin_start": 86.66941176470588,
            "count": 0
           },
           {
            "bin_end": 103.28470588235294,
            "bin_start": 94.9770588235294,
            "count": 0
           },
           {
            "bin_end": 111.59235294117647,
            "bin_start": 103.28470588235294,
            "count": 0
           },
           {
            "bin_end": 119.9,
            "bin_start": 111.59235294117647,
            "count": 1
           }
          ],
          "max": "119.9",
          "min": "36.8235294117647",
          "nan_count": 0,
          "unique_count": 4
         }
        },
        {
         "dtype": "float64",
         "name": "begin_checkout_1d",
         "stats": {
          "histogram": [
           {
            "bin_end": 1.8041176470588234,
            "bin_start": 1.3823529411764706,
            "count": 1
           },
           {
            "bin_end": 2.225882352941176,
            "bin_start": 1.8041176470588234,
            "count": 0
           },
           {
            "bin_end": 2.6476470588235292,
            "bin_start": 2.225882352941176,
            "count": 2
           },
           {
            "bin_end": 3.0694117647058823,
            "bin_start": 2.6476470588235292,
            "count": 0
           },
           {
            "bin_end": 3.491176470588235,
            "bin_start": 3.0694117647058823,
            "count": 0
           },
           {
            "bin_end": 3.912941176470588,
            "bin_start": 3.491176470588235,
            "count": 0
           },
           {
            "bin_end": 4.3347058823529405,
            "bin_start": 3.912941176470588,
            "count": 0
           },
           {
            "bin_end": 4.756470588235294,
            "bin_start": 4.3347058823529405,
            "count": 0
           },
           {
            "bin_end": 5.178235294117647,
            "bin_start": 4.756470588235294,
            "count": 0
           },
           {
            "bin_end": 5.6,
            "bin_start": 5.178235294117647,
            "count": 1
           }
          ],
          "max": "5.6",
          "min": "1.3823529411764706",
          "nan_count": 0,
          "unique_count": 4
         }
        },
        {
         "dtype": "float64",
         "name": "begin_checkout_7d",
         "stats": {
          "histogram": [
           {
            "bin_end": 16.69529411764706,
            "bin_start": 14.205882352941176,
            "count": 1
           },
           {
            "bin_end": 19.18470588235294,
            "bin_start": 16.69529411764706,
            "count": 0
           },
           {
            "bin_end": 21.67411764705882,
            "bin_start": 19.18470588235294,
            "count": 0
           },
           {
            "bin_end": 24.163529411764706,
            "bin_start": 21.67411764705882,
            "count": 1
           },
           {
            "bin_end": 26.65294117647059,
            "bin_start": 24.163529411764706,
            "count": 0
           },
           {
            "bin_end": 29.14235294117647,
            "bin_start": 26.65294117647059,
            "count": 1
           },
           {
            "bin_end": 31.631764705882354,
            "bin_start": 29.14235294117647,
            "count": 0
           },
           {
            "bin_end": 34.12117647058824,
            "bin_start": 31.631764705882354,
            "count": 0
           },
           {
            "bin_end": 36.61058823529412,
            "bin_start": 34.12117647058824,
            "count": 0
           },
           {
            "bin_end": 39.1,
            "bin_start": 36.61058823529412,
            "count": 1
           }
          ],
          "max": "39.1",
          "min": "14.205882352941176",
          "nan_count": 0,
          "unique_count": 4
         }
        },
        {
         "dtype": "float64",
         "name": "begin_checkout_30d",
         "stats": {
          "histogram": [
           {
            "bin_end": 47.40117647058823,
            "bin_start": 39.990196078431374,
            "count": 1
           },
           {
            "bin_end": 54.8121568627451,
            "bin_start": 47.40117647058823,
            "count": 0
           },
           {
            "bin_end": 62.22313725490196,
            "bin_start": 54.8121568627451,
            "count": 0
           },
           {
            "bin_end": 69.63411764705882,
            "bin_start": 62.22313725490196,
            "count": 1
           },
           {
            "bin_end": 77.04509803921567,
            "bin_start": 69.63411764705882,
            "count": 0
           },
           {
            "bin_end": 84.45607843137253,
            "bin_start": 77.04509803921567,
            "count": 0
           },
           {
            "bin_end": 91.8670588235294,
            "bin_start": 84.45607843137253,
            "count": 1
           },
           {
            "bin_end": 99.27803921568626,
            "bin_start": 91.8670588235294,
            "count": 0
           },
           {
            "bin_end": 106.68901960784314,
            "bin_start": 99.27803921568626,
            "count": 0
           },
           {
            "bin_end": 114.1,
            "bin_start": 106.68901960784314,
            "count": 1
           }
          ],
          "max": "114.1",
          "min": "39.990196078431374",
          "nan_count": 0,
          "unique_count": 4
         }
        },
        {
         "dtype": "float64",
         "name": "purchase_1d",
         "stats": {
          "histogram": [
           {
            "bin_end": 0.2280159521435693,
            "bin_start": 0.21568627450980393,
            "count": 1
           },
           {
            "bin_end": 0.24034562977733467,
            "bin_start": 0.2280159521435693,
            "count": 0
           },
           {
            "bin_end": 0.2526753074111,
            "bin_start": 0.24034562977733467,
            "count": 1
           },
           {
            "bin_end": 0.2650049850448654,
            "bin_start": 0.2526753074111,
            "count": 0
           },
           {
            "bin_end": 0.2773346626786308,
            "bin_start": 0.2650049850448654,
            "count": 0
           },
           {
            "bin_end": 0.28966434031239613,
            "bin_start": 0.2773346626786308,
            "count": 0
           },
           {
            "bin_end": 0.3019940179461615,
            "bin_start": 0.28966434031239613,
            "count": 1
           },
           {
            "bin_end": 0.3143236955799269,
            "bin_start": 0.3019940179461615,
            "count": 0
           },
           {
            "bin_end": 0.32665337321369226,
            "bin_start": 0.3143236955799269,
            "count": 0
           },
           {
            "bin_end": 0.3389830508474576,
            "bin_start": 0.32665337321369226,
            "count": 1
           }
          ],
          "max": "0.3389830508474576",
          "min": "0.21568627450980393",
          "nan_count": 0,
          "unique_count": 4
         }
        },
        {
         "dtype": "float64",
         "name": "purchase_7d",
         "stats": {
          "histogram": [
           {
            "bin_end": 2.2676470588235293,
            "bin_start": 1.8529411764705883,
            "count": 1
           },
           {
            "bin_end": 2.682352941176471,
            "bin_start": 2.2676470588235293,
            "count": 0
           },
           {
            "bin_end": 3.097058823529412,
            "bin_start": 2.682352941176471,
            "count": 1
           },
           {
            "bin_end": 3.511764705882353,
            "bin_start": 3.097058823529412,
            "count": 0
           },
           {
            "bin_end": 3.926470588235294,
            "bin_start": 3.511764705882353,
            "count": 0
           },
           {
            "bin_end": 4.341176470588236,
            "bin_start": 3.926470588235294,
            "count": 1
           },
           {
            "bin_end": 4.7558823529411764,
            "bin_start": 4.341176470588236,
            "count": 0
           },
           {
            "bin_end": 5.170588235294117,
            "bin_start": 4.7558823529411764,
            "count": 0
           },
           {
            "bin_end": 5.5852941176470585,
            "bin_start": 5.170588235294117,
            "count": 0
           },
           {
            "bin_end": 6,
            "bin_start": 5.5852941176470585,
            "count": 1
           }
          ],
          "max": "6.0",
          "min": "1.8529411764705883",
          "nan_count": 0,
          "unique_count": 4
         }
        },
        {
         "dtype": "float64",
         "name": "purchase_30d",
         "stats": {
          "histogram": [
           {
            "bin_end": 7.111176470588235,
            "bin_start": 5.990196078431373,
            "count": 1
           },
           {
            "bin_end": 8.232156862745098,
            "bin_start": 7.111176470588235,
            "count": 0
           },
           {
            "bin_end": 9.35313725490196,
            "bin_start": 8.232156862745098,
            "count": 0
           },
           {
            "bin_end": 10.474117647058822,
            "bin_start": 9.35313725490196,
            "count": 1
           },
           {
            "bin_end": 11.595098039215685,
            "bin_start": 10.474117647058822,
            "count": 0
           },
           {
            "bin_end": 12.716078431372548,
            "bin_start": 11.595098039215685,
            "count": 1
           },
           {
            "bin_end": 13.83705882352941,
            "bin_start": 12.716078431372548,
            "count": 0
           },
           {
            "bin_end": 14.958039215686274,
            "bin_start": 13.83705882352941,
            "count": 0
           },
           {
            "bin_end": 16.079019607843136,
            "bin_start": 14.958039215686274,
            "count": 0
           },
           {
            "bin_end": 17.2,
            "bin_start": 16.079019607843136,
            "count": 1
           }
          ],
          "max": "17.2",
          "min": "5.990196078431373",
          "nan_count": 0,
          "unique_count": 4
         }
        },
        {
         "dtype": "float64",
         "name": "qty_sold",
         "stats": {
          "histogram": [
           {
            "bin_end": 19.72941176470588,
            "bin_start": 18.254901960784313,
            "count": 1
           },
           {
            "bin_end": 21.20392156862745,
            "bin_start": 19.72941176470588,
            "count": 0
           },
           {
            "bin_end": 22.67843137254902,
            "bin_start": 21.20392156862745,
            "count": 0
           },
           {
            "bin_end": 24.152941176470588,
            "bin_start": 22.67843137254902,
            "count": 0
           },
           {
            "bin_end": 25.627450980392155,
            "bin_start": 24.152941176470588,
            "count": 0
           },
           {
            "bin_end": 27.101960784313725,
            "bin_start": 25.627450980392155,
            "count": 0
           },
           {
            "bin_end": 28.576470588235296,
            "bin_start": 27.101960784313725,
            "count": 0
           },
           {
            "bin_end": 30.050980392156863,
            "bin_start": 28.576470588235296,
            "count": 0
           },
           {
            "bin_end": 31.52549019607843,
            "bin_start": 30.050980392156863,
            "count": 0
           },
           {
            "bin_end": 33,
            "bin_start": 31.52549019607843,
            "count": 3
           }
          ],
          "max": "33.0",
          "min": "18.254901960784313",
          "nan_count": 0,
          "unique_count": 4
         }
        },
        {
         "dtype": "float64",
         "name": "nbre_commande",
         "stats": {
          "histogram": [
           {
            "bin_end": 19.22823529411765,
            "bin_start": 17.764705882352942,
            "count": 1
           },
           {
            "bin_end": 20.691764705882353,
            "bin_start": 19.22823529411765,
            "count": 0
           },
           {
            "bin_end": 22.15529411764706,
            "bin_start": 20.691764705882353,
            "count": 0
           },
           {
            "bin_end": 23.618823529411763,
            "bin_start": 22.15529411764706,
            "count": 0
           },
           {
            "bin_end": 25.08235294117647,
            "bin_start": 23.618823529411763,
            "count": 0
           },
           {
            "bin_end": 26.545882352941177,
            "bin_start": 25.08235294117647,
            "count": 0
           },
           {
            "bin_end": 28.00941176470588,
            "bin_start": 26.545882352941177,
            "count": 0
           },
           {
            "bin_end": 29.472941176470588,
            "bin_start": 28.00941176470588,
            "count": 0
           },
           {
            "bin_end": 30.936470588235295,
            "bin_start": 29.472941176470588,
            "count": 0
           },
           {
            "bin_end": 32.4,
            "bin_start": 30.936470588235295,
            "count": 3
           }
          ],
          "max": "32.4",
          "min": "17.764705882352942",
          "nan_count": 0,
          "unique_count": 4
         }
        },
        {
         "dtype": "float64",
         "name": "product_marge",
         "stats": {
          "histogram": [
           {
            "bin_end": 4687.578235294118,
            "bin_start": 4275.264705882353,
            "count": 1
           },
           {
            "bin_end": 5099.891764705882,
            "bin_start": 4687.578235294118,
            "count": 0
           },
           {
            "bin_end": 5512.205294117647,
            "bin_start": 5099.891764705882,
            "count": 0
           },
           {
            "bin_end": 5924.518823529412,
            "bin_start": 5512.205294117647,
            "count": 0
           },
           {
            "bin_end": 6336.832352941176,
            "bin_start": 5924.518823529412,
            "count": 0
           },
           {
            "bin_end": 6749.145882352941,
            "bin_start": 6336.832352941176,
            "count": 0
           },
           {
            "bin_end": 7161.459411764706,
            "bin_start": 6749.145882352941,
            "count": 0
           },
           {
            "bin_end": 7573.77294117647,
            "bin_start": 7161.459411764706,
            "count": 2
           },
           {
            "bin_end": 7986.086470588235,
            "bin_start": 7573.77294117647,
            "count": 0
           },
           {
            "bin_end": 8398.4,
            "bin_start": 7986.086470588235,
            "count": 1
           }
          ],
          "max": "8398.4",
          "min": "4275.264705882353",
          "nan_count": 0,
          "unique_count": 4
         }
        },
        {
         "dtype": "float64",
         "name": "order_recency",
         "stats": {
          "histogram": [
           {
            "bin_end": 2.6341176470588237,
            "bin_start": 2.1,
            "count": 1
           },
           {
            "bin_end": 3.1682352941176473,
            "bin_start": 2.6341176470588237,
            "count": 1
           },
           {
            "bin_end": 3.702352941176471,
            "bin_start": 3.1682352941176473,
            "count": 0
           },
           {
            "bin_end": 4.236470588235294,
            "bin_start": 3.702352941176471,
            "count": 0
           },
           {
            "bin_end": 4.7705882352941185,
            "bin_start": 4.236470588235294,
            "count": 1
           },
           {
            "bin_end": 5.304705882352941,
            "bin_start": 4.7705882352941185,
            "count": 0
           },
           {
            "bin_end": 5.838823529411766,
            "bin_start": 5.304705882352941,
            "count": 0
           },
           {
            "bin_end": 6.372941176470588,
            "bin_start": 5.838823529411766,
            "count": 0
           },
           {
            "bin_end": 6.907058823529413,
            "bin_start": 6.372941176470588,
            "count": 0
           },
           {
            "bin_end": 7.4411764705882355,
            "bin_start": 6.907058823529413,
            "count": 1
           }
          ],
          "max": "7.4411764705882355",
          "min": "2.1",
          "nan_count": 0,
          "unique_count": 4
         }
        },
        {
         "dtype": "float64",
         "name": "order_seniority",
         "stats": {
          "histogram": [
           {
            "bin_end": 85.27101694915255,
            "bin_start": 78.9,
            "count": 1
           },
           {
            "bin_end": 91.64203389830509,
            "bin_start": 85.27101694915255,
            "count": 0
           },
           {
            "bin_end": 98.01305084745763,
            "bin_start": 91.64203389830509,
            "count": 1
           },
           {
            "bin_end": 104.38406779661017,
            "bin_start": 98.01305084745763,
            "count": 0
           },
           {
            "bin_end": 110.75508474576272,
            "bin_start": 104.38406779661017,
            "count": 0
           },
           {
            "bin_end": 117.12610169491526,
            "bin_start": 110.75508474576272,
            "count": 0
           },
           {
            "bin_end": 123.4971186440678,
            "bin_start": 117.12610169491526,
            "count": 1
           },
           {
            "bin_end": 129.86813559322036,
            "bin_start": 123.4971186440678,
            "count": 0
           },
           {
            "bin_end": 136.2391525423729,
            "bin_start": 129.86813559322036,
            "count": 0
           },
           {
            "bin_end": 142.61016949152543,
            "bin_start": 136.2391525423729,
            "count": 1
           }
          ],
          "max": "142.61016949152543",
          "min": "78.9",
          "nan_count": 0,
          "unique_count": 4
         }
        },
        {
         "dtype": "float64",
         "name": "stock",
         "stats": {
          "histogram": [
           {
            "bin_end": 9.69764705882353,
            "bin_start": 6.7,
            "count": 1
           },
           {
            "bin_end": 12.695294117647059,
            "bin_start": 9.69764705882353,
            "count": 0
           },
           {
            "bin_end": 15.69294117647059,
            "bin_start": 12.695294117647059,
            "count": 1
           },
           {
            "bin_end": 18.69058823529412,
            "bin_start": 15.69294117647059,
            "count": 0
           },
           {
            "bin_end": 21.68823529411765,
            "bin_start": 18.69058823529412,
            "count": 0
           },
           {
            "bin_end": 24.685882352941178,
            "bin_start": 21.68823529411765,
            "count": 0
           },
           {
            "bin_end": 27.683529411764706,
            "bin_start": 24.685882352941178,
            "count": 0
           },
           {
            "bin_end": 30.681176470588237,
            "bin_start": 27.683529411764706,
            "count": 1
           },
           {
            "bin_end": 33.67882352941177,
            "bin_start": 30.681176470588237,
            "count": 0
           },
           {
            "bin_end": 36.6764705882353,
            "bin_start": 33.67882352941177,
            "count": 1
           }
          ],
          "max": "36.6764705882353",
          "min": "6.7",
          "nan_count": 0,
          "unique_count": 4
         }
        },
        {
         "dtype": "int64",
         "name": "_deepnote_index_column"
        }
       ],
       "row_count": 4,
       "rows": [
        {
         "_deepnote_index_column": 0,
         "add_to_cart_1d": 1.0294117647058822,
         "add_to_cart_30d": 36.8235294117647,
         "add_to_cart_7d": 12.382352941176471,
         "begin_checkout_1d": 1.3823529411764706,
         "begin_checkout_30d": 39.990196078431374,
         "begin_checkout_7d": 14.205882352941176,
         "nbre_commande": 17.764705882352942,
         "order_recency": 7.4411764705882355,
         "order_seniority": 123.34313725490196,
         "product_marge": 4275.264705882353,
         "purchase_1d": 0.21568627450980393,
         "purchase_30d": 5.990196078431373,
         "purchase_7d": 1.8529411764705883,
         "qty_sold": 18.254901960784313,
         "stock": 36.6764705882353,
         "view_item_1d": 26.862745098039216,
         "view_item_30d": 849.7352941176471,
         "view_item_7d": 232.16666666666666,
         "view_item_list_1d": 726.6078431372549,
         "view_item_list_30d": 22244.07843137255,
         "view_item_list_7d": 7556.176470588235
        },
        {
         "_deepnote_index_column": 1,
         "add_to_cart_1d": 4.571428571428571,
         "add_to_cart_30d": 82.78571428571429,
         "add_to_cart_7d": 30.714285714285715,
         "begin_checkout_1d": 2.5714285714285716,
         "begin_checkout_30d": 84.60714285714286,
         "begin_checkout_7d": 26.964285714285715,
         "nbre_commande": 31.607142857142858,
         "order_recency": 3.0714285714285716,
         "order_seniority": 95.96428571428571,
         "product_marge": 7167.714285714285,
         "purchase_1d": 0.25,
         "purchase_30d": 11.75,
         "purchase_7d": 4.107142857142857,
         "qty_sold": 31.892857142857142,
         "stock": 14.5,
         "view_item_1d": 74.57142857142857,
         "view_item_30d": 1796.75,
         "view_item_7d": 612.3928571428571,
         "view_item_list_1d": 2450.964285714286,
         "view_item_list_30d": 73445.25,
         "view_item_list_7d": 27116
        },
        {
         "_deepnote_index_column": 2,
         "add_to_cart_1d": 5.1,
         "add_to_cart_30d": 119.9,
         "add_to_cart_7d": 43,
         "begin_checkout_1d": 5.6,
         "begin_checkout_30d": 114.1,
         "begin_checkout_7d": 39.1,
         "nbre_commande": 32.4,
         "order_recency": 2.1,
         "order_seniority": 78.9,
         "product_marge": 8398.4,
         "purchase_1d": 0.3,
         "purchase_30d": 17.2,
         "purchase_7d": 6,
         "qty_sold": 33,
         "stock": 6.7,
         "view_item_1d": 155.2,
         "view_item_30d": 3914.1,
         "view_item_7d": 1262,
         "view_item_list_1d": 4480.9,
         "view_item_list_30d": 135297.7,
         "view_item_list_7d": 45861.5
        },
        {
         "_deepnote_index_column": 3,
         "add_to_cart_1d": 2.2711864406779663,
         "add_to_cart_30d": 64.69491525423729,
         "add_to_cart_7d": 21.23728813559322,
         "begin_checkout_1d": 2.4237288135593222,
         "begin_checkout_30d": 69.50847457627118,
         "begin_checkout_7d": 23.8135593220339,
         "nbre_commande": 31.491525423728813,
         "order_recency": 4.237288135593221,
         "order_seniority": 142.61016949152543,
         "product_marge": 7297.050847457627,
         "purchase_1d": 0.3389830508474576,
         "purchase_30d": 9.542372881355933,
         "purchase_7d": 3.0508474576271185,
         "qty_sold": 32.016949152542374,
         "stock": 29.084745762711865,
         "view_item_1d": 51.11864406779661,
         "view_item_30d": 1835.949152542373,
         "view_item_7d": 404.0169491525424,
         "view_item_list_1d": 1309.0338983050847,
         "view_item_list_30d": 43800.745762711864,
         "view_item_list_7d": 14591.847457627118
        }
       ]
      },
      "text/html": [
       "<div>\n",
       "<style scoped>\n",
       "    .dataframe tbody tr th:only-of-type {\n",
       "        vertical-align: middle;\n",
       "    }\n",
       "\n",
       "    .dataframe tbody tr th {\n",
       "        vertical-align: top;\n",
       "    }\n",
       "\n",
       "    .dataframe thead th {\n",
       "        text-align: right;\n",
       "    }\n",
       "</style>\n",
       "<table border=\"1\" class=\"dataframe\">\n",
       "  <thead>\n",
       "    <tr style=\"text-align: right;\">\n",
       "      <th></th>\n",
       "      <th>view_item_list_1d</th>\n",
       "      <th>view_item_list_7d</th>\n",
       "      <th>view_item_list_30d</th>\n",
       "      <th>view_item_1d</th>\n",
       "      <th>view_item_7d</th>\n",
       "      <th>view_item_30d</th>\n",
       "      <th>add_to_cart_1d</th>\n",
       "      <th>add_to_cart_7d</th>\n",
       "      <th>add_to_cart_30d</th>\n",
       "      <th>begin_checkout_1d</th>\n",
       "      <th>...</th>\n",
       "      <th>begin_checkout_30d</th>\n",
       "      <th>purchase_1d</th>\n",
       "      <th>purchase_7d</th>\n",
       "      <th>purchase_30d</th>\n",
       "      <th>qty_sold</th>\n",
       "      <th>nbre_commande</th>\n",
       "      <th>product_marge</th>\n",
       "      <th>order_recency</th>\n",
       "      <th>order_seniority</th>\n",
       "      <th>stock</th>\n",
       "    </tr>\n",
       "    <tr>\n",
       "      <th>Cluster</th>\n",
       "      <th></th>\n",
       "      <th></th>\n",
       "      <th></th>\n",
       "      <th></th>\n",
       "      <th></th>\n",
       "      <th></th>\n",
       "      <th></th>\n",
       "      <th></th>\n",
       "      <th></th>\n",
       "      <th></th>\n",
       "      <th></th>\n",
       "      <th></th>\n",
       "      <th></th>\n",
       "      <th></th>\n",
       "      <th></th>\n",
       "      <th></th>\n",
       "      <th></th>\n",
       "      <th></th>\n",
       "      <th></th>\n",
       "      <th></th>\n",
       "      <th></th>\n",
       "    </tr>\n",
       "  </thead>\n",
       "  <tbody>\n",
       "    <tr>\n",
       "      <th>0</th>\n",
       "      <td>726.607843</td>\n",
       "      <td>7556.176471</td>\n",
       "      <td>22244.078431</td>\n",
       "      <td>26.862745</td>\n",
       "      <td>232.166667</td>\n",
       "      <td>849.735294</td>\n",
       "      <td>1.029412</td>\n",
       "      <td>12.382353</td>\n",
       "      <td>36.823529</td>\n",
       "      <td>1.382353</td>\n",
       "      <td>...</td>\n",
       "      <td>39.990196</td>\n",
       "      <td>0.215686</td>\n",
       "      <td>1.852941</td>\n",
       "      <td>5.990196</td>\n",
       "      <td>18.254902</td>\n",
       "      <td>17.764706</td>\n",
       "      <td>4275.264706</td>\n",
       "      <td>7.441176</td>\n",
       "      <td>123.343137</td>\n",
       "      <td>36.676471</td>\n",
       "    </tr>\n",
       "    <tr>\n",
       "      <th>1</th>\n",
       "      <td>2450.964286</td>\n",
       "      <td>27116.000000</td>\n",
       "      <td>73445.250000</td>\n",
       "      <td>74.571429</td>\n",
       "      <td>612.392857</td>\n",
       "      <td>1796.750000</td>\n",
       "      <td>4.571429</td>\n",
       "      <td>30.714286</td>\n",
       "      <td>82.785714</td>\n",
       "      <td>2.571429</td>\n",
       "      <td>...</td>\n",
       "      <td>84.607143</td>\n",
       "      <td>0.250000</td>\n",
       "      <td>4.107143</td>\n",
       "      <td>11.750000</td>\n",
       "      <td>31.892857</td>\n",
       "      <td>31.607143</td>\n",
       "      <td>7167.714286</td>\n",
       "      <td>3.071429</td>\n",
       "      <td>95.964286</td>\n",
       "      <td>14.500000</td>\n",
       "    </tr>\n",
       "    <tr>\n",
       "      <th>2</th>\n",
       "      <td>4480.900000</td>\n",
       "      <td>45861.500000</td>\n",
       "      <td>135297.700000</td>\n",
       "      <td>155.200000</td>\n",
       "      <td>1262.000000</td>\n",
       "      <td>3914.100000</td>\n",
       "      <td>5.100000</td>\n",
       "      <td>43.000000</td>\n",
       "      <td>119.900000</td>\n",
       "      <td>5.600000</td>\n",
       "      <td>...</td>\n",
       "      <td>114.100000</td>\n",
       "      <td>0.300000</td>\n",
       "      <td>6.000000</td>\n",
       "      <td>17.200000</td>\n",
       "      <td>33.000000</td>\n",
       "      <td>32.400000</td>\n",
       "      <td>8398.400000</td>\n",
       "      <td>2.100000</td>\n",
       "      <td>78.900000</td>\n",
       "      <td>6.700000</td>\n",
       "    </tr>\n",
       "    <tr>\n",
       "      <th>3</th>\n",
       "      <td>1309.033898</td>\n",
       "      <td>14591.847458</td>\n",
       "      <td>43800.745763</td>\n",
       "      <td>51.118644</td>\n",
       "      <td>404.016949</td>\n",
       "      <td>1835.949153</td>\n",
       "      <td>2.271186</td>\n",
       "      <td>21.237288</td>\n",
       "      <td>64.694915</td>\n",
       "      <td>2.423729</td>\n",
       "      <td>...</td>\n",
       "      <td>69.508475</td>\n",
       "      <td>0.338983</td>\n",
       "      <td>3.050847</td>\n",
       "      <td>9.542373</td>\n",
       "      <td>32.016949</td>\n",
       "      <td>31.491525</td>\n",
       "      <td>7297.050847</td>\n",
       "      <td>4.237288</td>\n",
       "      <td>142.610169</td>\n",
       "      <td>29.084746</td>\n",
       "    </tr>\n",
       "  </tbody>\n",
       "</table>\n",
       "<p>4 rows × 21 columns</p>\n",
       "</div>"
      ],
      "text/plain": [
       "         view_item_list_1d  view_item_list_7d  view_item_list_30d  \\\n",
       "Cluster                                                             \n",
       "0               726.607843        7556.176471        22244.078431   \n",
       "1              2450.964286       27116.000000        73445.250000   \n",
       "2              4480.900000       45861.500000       135297.700000   \n",
       "3              1309.033898       14591.847458        43800.745763   \n",
       "\n",
       "         view_item_1d  view_item_7d  view_item_30d  add_to_cart_1d  \\\n",
       "Cluster                                                              \n",
       "0           26.862745    232.166667     849.735294        1.029412   \n",
       "1           74.571429    612.392857    1796.750000        4.571429   \n",
       "2          155.200000   1262.000000    3914.100000        5.100000   \n",
       "3           51.118644    404.016949    1835.949153        2.271186   \n",
       "\n",
       "         add_to_cart_7d  add_to_cart_30d  begin_checkout_1d  ...  \\\n",
       "Cluster                                                      ...   \n",
       "0             12.382353        36.823529           1.382353  ...   \n",
       "1             30.714286        82.785714           2.571429  ...   \n",
       "2             43.000000       119.900000           5.600000  ...   \n",
       "3             21.237288        64.694915           2.423729  ...   \n",
       "\n",
       "         begin_checkout_30d  purchase_1d  purchase_7d  purchase_30d  \\\n",
       "Cluster                                                               \n",
       "0                 39.990196     0.215686     1.852941      5.990196   \n",
       "1                 84.607143     0.250000     4.107143     11.750000   \n",
       "2                114.100000     0.300000     6.000000     17.200000   \n",
       "3                 69.508475     0.338983     3.050847      9.542373   \n",
       "\n",
       "          qty_sold  nbre_commande  product_marge  order_recency  \\\n",
       "Cluster                                                           \n",
       "0        18.254902      17.764706    4275.264706       7.441176   \n",
       "1        31.892857      31.607143    7167.714286       3.071429   \n",
       "2        33.000000      32.400000    8398.400000       2.100000   \n",
       "3        32.016949      31.491525    7297.050847       4.237288   \n",
       "\n",
       "         order_seniority      stock  \n",
       "Cluster                              \n",
       "0             123.343137  36.676471  \n",
       "1              95.964286  14.500000  \n",
       "2              78.900000   6.700000  \n",
       "3             142.610169  29.084746  \n",
       "\n",
       "[4 rows x 21 columns]"
      ]
     },
     "execution_count": 16,
     "metadata": {},
     "output_type": "execute_result"
    }
   ],
   "source": [
    "df[['view_item_list_1d', 'view_item_list_7d', 'view_item_list_30d',\n",
    "       'view_item_1d', 'view_item_7d', 'view_item_30d', 'add_to_cart_1d',\n",
    "       'add_to_cart_7d', 'add_to_cart_30d', 'begin_checkout_1d',\n",
    "       'begin_checkout_7d', 'begin_checkout_30d', 'purchase_1d', 'purchase_7d',\n",
    "       'purchase_30d', 'qty_sold', 'nbre_commande', 'product_marge',\n",
    "       'order_recency', 'order_seniority', 'stock','Cluster']].groupby('Cluster').mean()"
   ]
  },
  {
   "cell_type": "code",
   "execution_count": null,
   "metadata": {
    "cell_id": "ca94b5047a5244e78dd20ee944006402",
    "deepnote_cell_height": 135,
    "deepnote_cell_type": "code",
    "deepnote_to_be_reexecuted": false,
    "execution_millis": 2,
    "execution_start": 1656412149664,
    "owner_user_id": "41d3a4ee-4cc9-4ef0-b275-00e08b1a8409",
    "source_hash": "371021e8",
    "tags": []
   },
   "outputs": [],
   "source": [
    "df['Cluster'].replace([0,1,2,3],['Cold','Hot Old','Top Hot','Medium Old'],inplace=True)\n",
    "\n",
    "#rename cluster column\n",
    "df.rename(columns={\"Cluster\": \"Segments\"},inplace=True)"
   ]
  },
  {
   "cell_type": "code",
   "execution_count": null,
   "metadata": {
    "cell_id": "f2d7b351240f4b6da715f6f0a88860de",
    "deepnote_cell_height": 616.65625,
    "deepnote_cell_type": "code",
    "deepnote_to_be_reexecuted": false,
    "execution_millis": 93,
    "execution_start": 1656412154193,
    "source_hash": "f804c160",
    "tags": []
   },
   "outputs": [
    {
     "data": {
      "application/vnd.deepnote.dataframe.v3+json": {
       "column_count": 23,
       "columns": [
        {
         "dtype": "float64",
         "name": "ID",
         "stats": {
          "histogram": [
           {
            "bin_end": 7651.3,
            "bin_start": 7564,
            "count": 48
           },
           {
            "bin_end": 7738.6,
            "bin_start": 7651.3,
            "count": 10
           },
           {
            "bin_end": 7825.9,
            "bin_start": 7738.6,
            "count": 18
           },
           {
            "bin_end": 7913.2,
            "bin_start": 7825.9,
            "count": 26
           },
           {
            "bin_end": 8000.5,
            "bin_start": 7913.2,
            "count": 17
           },
           {
            "bin_end": 8087.8,
            "bin_start": 8000.5,
            "count": 19
           },
           {
            "bin_end": 8175.1,
            "bin_start": 8087.8,
            "count": 12
           },
           {
            "bin_end": 8262.4,
            "bin_start": 8175.1,
            "count": 15
           },
           {
            "bin_end": 8349.7,
            "bin_start": 8262.4,
            "count": 16
           },
           {
            "bin_end": 8437,
            "bin_start": 8349.7,
            "count": 18
           }
          ],
          "max": "8437.0",
          "min": "7564.0",
          "nan_count": 0,
          "unique_count": 199
         }
        },
        {
         "dtype": "float64",
         "name": "view_item_list_1d",
         "stats": {
          "histogram": [
           {
            "bin_end": 856,
            "bin_start": 333,
            "count": 75
           },
           {
            "bin_end": 1379,
            "bin_start": 856,
            "count": 66
           },
           {
            "bin_end": 1902,
            "bin_start": 1379,
            "count": 27
           },
           {
            "bin_end": 2425,
            "bin_start": 1902,
            "count": 12
           },
           {
            "bin_end": 2948,
            "bin_start": 2425,
            "count": 2
           },
           {
            "bin_end": 3471,
            "bin_start": 2948,
            "count": 4
           },
           {
            "bin_end": 3994,
            "bin_start": 3471,
            "count": 5
           },
           {
            "bin_end": 4517,
            "bin_start": 3994,
            "count": 2
           },
           {
            "bin_end": 5040,
            "bin_start": 4517,
            "count": 3
           },
           {
            "bin_end": 5563,
            "bin_start": 5040,
            "count": 3
           }
          ],
          "max": "5563.0",
          "min": "333.0",
          "nan_count": 0,
          "unique_count": 188
         }
        },
        {
         "dtype": "float64",
         "name": "view_item_list_7d",
         "stats": {
          "histogram": [
           {
            "bin_end": 8649.6,
            "bin_start": 3423,
            "count": 76
           },
           {
            "bin_end": 13876.2,
            "bin_start": 8649.6,
            "count": 49
           },
           {
            "bin_end": 19102.800000000003,
            "bin_start": 13876.2,
            "count": 35
           },
           {
            "bin_end": 24329.4,
            "bin_start": 19102.800000000003,
            "count": 16
           },
           {
            "bin_end": 29556,
            "bin_start": 24329.4,
            "count": 5
           },
           {
            "bin_end": 34782.600000000006,
            "bin_start": 29556,
            "count": 5
           },
           {
            "bin_end": 40009.200000000004,
            "bin_start": 34782.600000000006,
            "count": 3
           },
           {
            "bin_end": 45235.8,
            "bin_start": 40009.200000000004,
            "count": 3
           },
           {
            "bin_end": 50462.4,
            "bin_start": 45235.8,
            "count": 3
           },
           {
            "bin_end": 55689,
            "bin_start": 50462.4,
            "count": 4
           }
          ],
          "max": "55689.0",
          "min": "3423.0",
          "nan_count": 0,
          "unique_count": 198
         }
        },
        {
         "dtype": "float64",
         "name": "view_item_list_30d",
         "stats": {
          "histogram": [
           {
            "bin_end": 23338,
            "bin_start": 7499,
            "count": 59
           },
           {
            "bin_end": 39177,
            "bin_start": 23338,
            "count": 62
           },
           {
            "bin_end": 55016,
            "bin_start": 39177,
            "count": 36
           },
           {
            "bin_end": 70855,
            "bin_start": 55016,
            "count": 18
           },
           {
            "bin_end": 86694,
            "bin_start": 70855,
            "count": 11
           },
           {
            "bin_end": 102533,
            "bin_start": 86694,
            "count": 2
           },
           {
            "bin_end": 118372,
            "bin_start": 102533,
            "count": 3
           },
           {
            "bin_end": 134211,
            "bin_start": 118372,
            "count": 3
           },
           {
            "bin_end": 150050,
            "bin_start": 134211,
            "count": 4
           },
           {
            "bin_end": 165889,
            "bin_start": 150050,
            "count": 1
           }
          ],
          "max": "165889.0",
          "min": "7499.0",
          "nan_count": 0,
          "unique_count": 199
         }
        },
        {
         "dtype": "float64",
         "name": "view_item_1d",
         "stats": {
          "histogram": [
           {
            "bin_end": 43.5,
            "bin_start": 1,
            "count": 122
           },
           {
            "bin_end": 86,
            "bin_start": 43.5,
            "count": 52
           },
           {
            "bin_end": 128.5,
            "bin_start": 86,
            "count": 16
           },
           {
            "bin_end": 171,
            "bin_start": 128.5,
            "count": 5
           },
           {
            "bin_end": 213.5,
            "bin_start": 171,
            "count": 1
           },
           {
            "bin_end": 256,
            "bin_start": 213.5,
            "count": 1
           },
           {
            "bin_end": 298.5,
            "bin_start": 256,
            "count": 0
           },
           {
            "bin_end": 341,
            "bin_start": 298.5,
            "count": 0
           },
           {
            "bin_end": 383.5,
            "bin_start": 341,
            "count": 1
           },
           {
            "bin_end": 426,
            "bin_start": 383.5,
            "count": 1
           }
          ],
          "max": "426.0",
          "min": "1.0",
          "nan_count": 0,
          "unique_count": 92
         }
        },
        {
         "dtype": "float64",
         "name": "view_item_7d",
         "stats": {
          "histogram": [
           {
            "bin_end": 299.6,
            "bin_start": 27,
            "count": 105
           },
           {
            "bin_end": 572.2,
            "bin_start": 299.6,
            "count": 55
           },
           {
            "bin_end": 844.8000000000001,
            "bin_start": 572.2,
            "count": 24
           },
           {
            "bin_end": 1117.4,
            "bin_start": 844.8000000000001,
            "count": 9
           },
           {
            "bin_end": 1390,
            "bin_start": 1117.4,
            "count": 1
           },
           {
            "bin_end": 1662.6000000000001,
            "bin_start": 1390,
            "count": 3
           },
           {
            "bin_end": 1935.2000000000003,
            "bin_start": 1662.6000000000001,
            "count": 0
           },
           {
            "bin_end": 2207.8,
            "bin_start": 1935.2000000000003,
            "count": 0
           },
           {
            "bin_end": 2480.4,
            "bin_start": 2207.8,
            "count": 0
           },
           {
            "bin_end": 2753,
            "bin_start": 2480.4,
            "count": 2
           }
          ],
          "max": "2753.0",
          "min": "27.0",
          "nan_count": 0,
          "unique_count": 173
         }
        },
        {
         "dtype": "float64",
         "name": "view_item_30d",
         "stats": {
          "histogram": [
           {
            "bin_end": 3361.7,
            "bin_start": 147,
            "count": 186
           },
           {
            "bin_end": 6576.4,
            "bin_start": 3361.7,
            "count": 9
           },
           {
            "bin_end": 9791.099999999999,
            "bin_start": 6576.4,
            "count": 3
           },
           {
            "bin_end": 13005.8,
            "bin_start": 9791.099999999999,
            "count": 0
           },
           {
            "bin_end": 16220.5,
            "bin_start": 13005.8,
            "count": 0
           },
           {
            "bin_end": 19435.199999999997,
            "bin_start": 16220.5,
            "count": 0
           },
           {
            "bin_end": 22649.899999999998,
            "bin_start": 19435.199999999997,
            "count": 0
           },
           {
            "bin_end": 25864.6,
            "bin_start": 22649.899999999998,
            "count": 0
           },
           {
            "bin_end": 29079.3,
            "bin_start": 25864.6,
            "count": 0
           },
           {
            "bin_end": 32294,
            "bin_start": 29079.3,
            "count": 1
           }
          ],
          "max": "32294.0",
          "min": "147.0",
          "nan_count": 0,
          "unique_count": 189
         }
        },
        {
         "dtype": "float64",
         "name": "add_to_cart_1d",
         "stats": {
          "histogram": [
           {
            "bin_end": 3.2,
            "bin_start": 0,
            "count": 166
           },
           {
            "bin_end": 6.4,
            "bin_start": 3.2,
            "count": 21
           },
           {
            "bin_end": 9.600000000000001,
            "bin_start": 6.4,
            "count": 4
           },
           {
            "bin_end": 12.8,
            "bin_start": 9.600000000000001,
            "count": 4
           },
           {
            "bin_end": 16,
            "bin_start": 12.8,
            "count": 0
           },
           {
            "bin_end": 19.200000000000003,
            "bin_start": 16,
            "count": 1
           },
           {
            "bin_end": 22.400000000000002,
            "bin_start": 19.200000000000003,
            "count": 1
           },
           {
            "bin_end": 25.6,
            "bin_start": 22.400000000000002,
            "count": 1
           },
           {
            "bin_end": 28.8,
            "bin_start": 25.6,
            "count": 0
           },
           {
            "bin_end": 32,
            "bin_start": 28.8,
            "count": 1
           }
          ],
          "max": "32.0",
          "min": "0.0",
          "nan_count": 0,
          "unique_count": 15
         }
        },
        {
         "dtype": "float64",
         "name": "add_to_cart_7d",
         "stats": {
          "histogram": [
           {
            "bin_end": 10,
            "bin_start": 0,
            "count": 61
           },
           {
            "bin_end": 20,
            "bin_start": 10,
            "count": 74
           },
           {
            "bin_end": 30,
            "bin_start": 20,
            "count": 22
           },
           {
            "bin_end": 40,
            "bin_start": 30,
            "count": 16
           },
           {
            "bin_end": 50,
            "bin_start": 40,
            "count": 13
           },
           {
            "bin_end": 60,
            "bin_start": 50,
            "count": 8
           },
           {
            "bin_end": 70,
            "bin_start": 60,
            "count": 1
           },
           {
            "bin_end": 80,
            "bin_start": 70,
            "count": 2
           },
           {
            "bin_end": 90,
            "bin_start": 80,
            "count": 0
           },
           {
            "bin_end": 100,
            "bin_start": 90,
            "count": 2
           }
          ],
          "max": "100.0",
          "min": "0.0",
          "nan_count": 0,
          "unique_count": 54
         }
        },
        {
         "dtype": "float64",
         "name": "add_to_cart_30d",
         "stats": {
          "histogram": [
           {
            "bin_end": 38.3,
            "bin_start": 3,
            "count": 84
           },
           {
            "bin_end": 73.6,
            "bin_start": 38.3,
            "count": 68
           },
           {
            "bin_end": 108.89999999999999,
            "bin_start": 73.6,
            "count": 25
           },
           {
            "bin_end": 144.2,
            "bin_start": 108.89999999999999,
            "count": 15
           },
           {
            "bin_end": 179.5,
            "bin_start": 144.2,
            "count": 3
           },
           {
            "bin_end": 214.79999999999998,
            "bin_start": 179.5,
            "count": 3
           },
           {
            "bin_end": 250.09999999999997,
            "bin_start": 214.79999999999998,
            "count": 0
           },
           {
            "bin_end": 285.4,
            "bin_start": 250.09999999999997,
            "count": 0
           },
           {
            "bin_end": 320.7,
            "bin_start": 285.4,
            "count": 0
           },
           {
            "bin_end": 356,
            "bin_start": 320.7,
            "count": 1
           }
          ],
          "max": "356.0",
          "min": "3.0",
          "nan_count": 0,
          "unique_count": 95
         }
        },
        {
         "dtype": "float64",
         "name": "begin_checkout_1d",
         "stats": {
          "histogram": [
           {
            "bin_end": 3,
            "bin_start": 0,
            "count": 153
           },
           {
            "bin_end": 6,
            "bin_start": 3,
            "count": 20
           },
           {
            "bin_end": 9,
            "bin_start": 6,
            "count": 16
           },
           {
            "bin_end": 12,
            "bin_start": 9,
            "count": 3
           },
           {
            "bin_end": 15,
            "bin_start": 12,
            "count": 2
           },
           {
            "bin_end": 18,
            "bin_start": 15,
            "count": 2
           },
           {
            "bin_end": 21,
            "bin_start": 18,
            "count": 1
           },
           {
            "bin_end": 24,
            "bin_start": 21,
            "count": 1
           },
           {
            "bin_end": 27,
            "bin_start": 24,
            "count": 0
           },
           {
            "bin_end": 30,
            "bin_start": 27,
            "count": 1
           }
          ],
          "max": "30.0",
          "min": "0.0",
          "nan_count": 0,
          "unique_count": 18
         }
        },
        {
         "dtype": "float64",
         "name": "begin_checkout_7d",
         "stats": {
          "histogram": [
           {
            "bin_end": 15.2,
            "bin_start": 0,
            "count": 100
           },
           {
            "bin_end": 30.4,
            "bin_start": 15.2,
            "count": 58
           },
           {
            "bin_end": 45.599999999999994,
            "bin_start": 30.4,
            "count": 19
           },
           {
            "bin_end": 60.8,
            "bin_start": 45.599999999999994,
            "count": 14
           },
           {
            "bin_end": 76,
            "bin_start": 60.8,
            "count": 4
           },
           {
            "bin_end": 91.19999999999999,
            "bin_start": 76,
            "count": 2
           },
           {
            "bin_end": 106.39999999999999,
            "bin_start": 91.19999999999999,
            "count": 0
           },
           {
            "bin_end": 121.6,
            "bin_start": 106.39999999999999,
            "count": 1
           },
           {
            "bin_end": 136.79999999999998,
            "bin_start": 121.6,
            "count": 0
           },
           {
            "bin_end": 152,
            "bin_start": 136.79999999999998,
            "count": 1
           }
          ],
          "max": "152.0",
          "min": "0.0",
          "nan_count": 0,
          "unique_count": 56
         }
        },
        {
         "dtype": "float64",
         "name": "begin_checkout_30d",
         "stats": {
          "histogram": [
           {
            "bin_end": 31.9,
            "bin_start": 1,
            "count": 67
           },
           {
            "bin_end": 62.8,
            "bin_start": 31.9,
            "count": 62
           },
           {
            "bin_end": 93.69999999999999,
            "bin_start": 62.8,
            "count": 37
           },
           {
            "bin_end": 124.6,
            "bin_start": 93.69999999999999,
            "count": 14
           },
           {
            "bin_end": 155.5,
            "bin_start": 124.6,
            "count": 7
           },
           {
            "bin_end": 186.39999999999998,
            "bin_start": 155.5,
            "count": 7
           },
           {
            "bin_end": 217.29999999999998,
            "bin_start": 186.39999999999998,
            "count": 1
           },
           {
            "bin_end": 248.2,
            "bin_start": 217.29999999999998,
            "count": 2
           },
           {
            "bin_end": 279.09999999999997,
            "bin_start": 248.2,
            "count": 1
           },
           {
            "bin_end": 310,
            "bin_start": 279.09999999999997,
            "count": 1
           }
          ],
          "max": "310.0",
          "min": "1.0",
          "nan_count": 0,
          "unique_count": 109
         }
        },
        {
         "dtype": "float64",
         "name": "purchase_1d",
         "stats": {
          "histogram": [
           {
            "bin_end": 0.3,
            "bin_start": 0,
            "count": 156
           },
           {
            "bin_end": 0.6,
            "bin_start": 0.3,
            "count": 0
           },
           {
            "bin_end": 0.8999999999999999,
            "bin_start": 0.6,
            "count": 0
           },
           {
            "bin_end": 1.2,
            "bin_start": 0.8999999999999999,
            "count": 35
           },
           {
            "bin_end": 1.5,
            "bin_start": 1.2,
            "count": 0
           },
           {
            "bin_end": 1.7999999999999998,
            "bin_start": 1.5,
            "count": 0
           },
           {
            "bin_end": 2.1,
            "bin_start": 1.7999999999999998,
            "count": 7
           },
           {
            "bin_end": 2.4,
            "bin_start": 2.1,
            "count": 0
           },
           {
            "bin_end": 2.6999999999999997,
            "bin_start": 2.4,
            "count": 0
           },
           {
            "bin_end": 3,
            "bin_start": 2.6999999999999997,
            "count": 1
           }
          ],
          "max": "3.0",
          "min": "0.0",
          "nan_count": 0,
          "unique_count": 4
         }
        },
        {
         "dtype": "float64",
         "name": "purchase_7d",
         "stats": {
          "histogram": [
           {
            "bin_end": 1.8,
            "bin_start": 0,
            "count": 81
           },
           {
            "bin_end": 3.6,
            "bin_start": 1.8,
            "count": 60
           },
           {
            "bin_end": 5.4,
            "bin_start": 3.6,
            "count": 31
           },
           {
            "bin_end": 7.2,
            "bin_start": 5.4,
            "count": 15
           },
           {
            "bin_end": 9,
            "bin_start": 7.2,
            "count": 3
           },
           {
            "bin_end": 10.8,
            "bin_start": 9,
            "count": 5
           },
           {
            "bin_end": 12.6,
            "bin_start": 10.8,
            "count": 2
           },
           {
            "bin_end": 14.4,
            "bin_start": 12.6,
            "count": 1
           },
           {
            "bin_end": 16.2,
            "bin_start": 14.4,
            "count": 0
           },
           {
            "bin_end": 18,
            "bin_start": 16.2,
            "count": 1
           }
          ],
          "max": "18.0",
          "min": "0.0",
          "nan_count": 0,
          "unique_count": 14
         }
        },
        {
         "dtype": "float64",
         "name": "purchase_30d",
         "stats": {
          "histogram": [
           {
            "bin_end": 4.7,
            "bin_start": 0,
            "count": 73
           },
           {
            "bin_end": 9.4,
            "bin_start": 4.7,
            "count": 63
           },
           {
            "bin_end": 14.100000000000001,
            "bin_start": 9.4,
            "count": 32
           },
           {
            "bin_end": 18.8,
            "bin_start": 14.100000000000001,
            "count": 14
           },
           {
            "bin_end": 23.5,
            "bin_start": 18.8,
            "count": 7
           },
           {
            "bin_end": 28.200000000000003,
            "bin_start": 23.5,
            "count": 5
           },
           {
            "bin_end": 32.9,
            "bin_start": 28.200000000000003,
            "count": 2
           },
           {
            "bin_end": 37.6,
            "bin_start": 32.9,
            "count": 1
           },
           {
            "bin_end": 42.300000000000004,
            "bin_start": 37.6,
            "count": 1
           },
           {
            "bin_end": 47,
            "bin_start": 42.300000000000004,
            "count": 1
           }
          ],
          "max": "47.0",
          "min": "0.0",
          "nan_count": 0,
          "unique_count": 30
         }
        },
        {
         "dtype": "float64",
         "name": "qty_sold",
         "stats": {
          "histogram": [
           {
            "bin_end": 19.1,
            "bin_start": 1,
            "count": 103
           },
           {
            "bin_end": 37.2,
            "bin_start": 19.1,
            "count": 53
           },
           {
            "bin_end": 55.300000000000004,
            "bin_start": 37.2,
            "count": 29
           },
           {
            "bin_end": 73.4,
            "bin_start": 55.300000000000004,
            "count": 9
           },
           {
            "bin_end": 91.5,
            "bin_start": 73.4,
            "count": 1
           },
           {
            "bin_end": 109.60000000000001,
            "bin_start": 91.5,
            "count": 2
           },
           {
            "bin_end": 127.70000000000002,
            "bin_start": 109.60000000000001,
            "count": 0
           },
           {
            "bin_end": 145.8,
            "bin_start": 127.70000000000002,
            "count": 0
           },
           {
            "bin_end": 163.9,
            "bin_start": 145.8,
            "count": 1
           },
           {
            "bin_end": 182,
            "bin_start": 163.9,
            "count": 1
           }
          ],
          "max": "182.0",
          "min": "1.0",
          "nan_count": 0,
          "unique_count": 63
         }
        },
        {
         "dtype": "float64",
         "name": "nbre_commande",
         "stats": {
          "histogram": [
           {
            "bin_end": 19.1,
            "bin_start": 1,
            "count": 103
           },
           {
            "bin_end": 37.2,
            "bin_start": 19.1,
            "count": 55
           },
           {
            "bin_end": 55.300000000000004,
            "bin_start": 37.2,
            "count": 27
           },
           {
            "bin_end": 73.4,
            "bin_start": 55.300000000000004,
            "count": 9
           },
           {
            "bin_end": 91.5,
            "bin_start": 73.4,
            "count": 1
           },
           {
            "bin_end": 109.60000000000001,
            "bin_start": 91.5,
            "count": 2
           },
           {
            "bin_end": 127.70000000000002,
            "bin_start": 109.60000000000001,
            "count": 0
           },
           {
            "bin_end": 145.8,
            "bin_start": 127.70000000000002,
            "count": 1
           },
           {
            "bin_end": 163.9,
            "bin_start": 145.8,
            "count": 0
           },
           {
            "bin_end": 182,
            "bin_start": 163.9,
            "count": 1
           }
          ],
          "max": "182.0",
          "min": "1.0",
          "nan_count": 0,
          "unique_count": 61
         }
        },
        {
         "dtype": "float64",
         "name": "product_marge",
         "stats": {
          "histogram": [
           {
            "bin_end": 3568.3,
            "bin_start": 163,
            "count": 77
           },
           {
            "bin_end": 6973.6,
            "bin_start": 3568.3,
            "count": 58
           },
           {
            "bin_end": 10378.900000000001,
            "bin_start": 6973.6,
            "count": 37
           },
           {
            "bin_end": 13784.2,
            "bin_start": 10378.900000000001,
            "count": 16
           },
           {
            "bin_end": 17189.5,
            "bin_start": 13784.2,
            "count": 6
           },
           {
            "bin_end": 20594.800000000003,
            "bin_start": 17189.5,
            "count": 1
           },
           {
            "bin_end": 24000.100000000002,
            "bin_start": 20594.800000000003,
            "count": 2
           },
           {
            "bin_end": 27405.4,
            "bin_start": 24000.100000000002,
            "count": 1
           },
           {
            "bin_end": 30810.7,
            "bin_start": 27405.4,
            "count": 0
           },
           {
            "bin_end": 34216,
            "bin_start": 30810.7,
            "count": 1
           }
          ],
          "max": "34216.0",
          "min": "163.0",
          "nan_count": 0,
          "unique_count": 183
         }
        },
        {
         "dtype": "float64",
         "name": "order_recency",
         "stats": {
          "histogram": [
           {
            "bin_end": 13.2,
            "bin_start": 1,
            "count": 185
           },
           {
            "bin_end": 25.4,
            "bin_start": 13.2,
            "count": 11
           },
           {
            "bin_end": 37.599999999999994,
            "bin_start": 25.4,
            "count": 0
           },
           {
            "bin_end": 49.8,
            "bin_start": 37.599999999999994,
            "count": 0
           },
           {
            "bin_end": 62,
            "bin_start": 49.8,
            "count": 2
           },
           {
            "bin_end": 74.19999999999999,
            "bin_start": 62,
            "count": 0
           },
           {
            "bin_end": 86.39999999999999,
            "bin_start": 74.19999999999999,
            "count": 0
           },
           {
            "bin_end": 98.6,
            "bin_start": 86.39999999999999,
            "count": 0
           },
           {
            "bin_end": 110.8,
            "bin_start": 98.6,
            "count": 0
           },
           {
            "bin_end": 123,
            "bin_start": 110.8,
            "count": 1
           }
          ],
          "max": "123.0",
          "min": "1.0",
          "nan_count": 0,
          "unique_count": 21
         }
        },
        {
         "dtype": "float64",
         "name": "order_seniority",
         "stats": {
          "histogram": [
           {
            "bin_end": 23.4,
            "bin_start": 2,
            "count": 33
           },
           {
            "bin_end": 44.8,
            "bin_start": 23.4,
            "count": 0
           },
           {
            "bin_end": 66.19999999999999,
            "bin_start": 44.8,
            "count": 7
           },
           {
            "bin_end": 87.6,
            "bin_start": 66.19999999999999,
            "count": 21
           },
           {
            "bin_end": 109,
            "bin_start": 87.6,
            "count": 25
           },
           {
            "bin_end": 130.39999999999998,
            "bin_start": 109,
            "count": 14
           },
           {
            "bin_end": 151.79999999999998,
            "bin_start": 130.39999999999998,
            "count": 9
           },
           {
            "bin_end": 173.2,
            "bin_start": 151.79999999999998,
            "count": 53
           },
           {
            "bin_end": 194.6,
            "bin_start": 173.2,
            "count": 7
           },
           {
            "bin_end": 216,
            "bin_start": 194.6,
            "count": 30
           }
          ],
          "max": "216.0",
          "min": "2.0",
          "nan_count": 0,
          "unique_count": 83
         }
        },
        {
         "dtype": "float64",
         "name": "stock",
         "stats": {
          "histogram": [
           {
            "bin_end": 25.7,
            "bin_start": 1,
            "count": 113
           },
           {
            "bin_end": 50.4,
            "bin_start": 25.7,
            "count": 46
           },
           {
            "bin_end": 75.1,
            "bin_start": 50.4,
            "count": 28
           },
           {
            "bin_end": 99.8,
            "bin_start": 75.1,
            "count": 5
           },
           {
            "bin_end": 124.5,
            "bin_start": 99.8,
            "count": 6
           },
           {
            "bin_end": 149.2,
            "bin_start": 124.5,
            "count": 0
           },
           {
            "bin_end": 173.9,
            "bin_start": 149.2,
            "count": 0
           },
           {
            "bin_end": 198.6,
            "bin_start": 173.9,
            "count": 0
           },
           {
            "bin_end": 223.29999999999998,
            "bin_start": 198.6,
            "count": 0
           },
           {
            "bin_end": 248,
            "bin_start": 223.29999999999998,
            "count": 1
           }
          ],
          "max": "248.0",
          "min": "1.0",
          "nan_count": 0,
          "unique_count": 76
         }
        },
        {
         "dtype": "object",
         "name": "Segments",
         "stats": {
          "categories": [
           {
            "count": 104,
            "name": "Top Hot"
           },
           {
            "count": 61,
            "name": "Cold"
           },
           {
            "count": 34,
            "name": "2 others"
           }
          ],
          "nan_count": 0,
          "unique_count": 4
         }
        },
        {
         "dtype": "int64",
         "name": "_deepnote_index_column"
        }
       ],
       "row_count": 199,
       "rows": [
        {
         "ID": 7564,
         "Segments": "Top Hot",
         "_deepnote_index_column": 1,
         "add_to_cart_1d": 3,
         "add_to_cart_30d": 79,
         "add_to_cart_7d": 29,
         "begin_checkout_1d": 7,
         "begin_checkout_30d": 101,
         "begin_checkout_7d": 28,
         "nbre_commande": 27,
         "order_recency": 1,
         "order_seniority": 170,
         "product_marge": 6183,
         "purchase_1d": 1,
         "purchase_30d": 14,
         "purchase_7d": 5,
         "qty_sold": 27,
         "stock": 248,
         "view_item_1d": 30,
         "view_item_30d": 699,
         "view_item_7d": 238,
         "view_item_list_1d": 883,
         "view_item_list_30d": 28088,
         "view_item_list_7d": 10210
        },
        {
         "ID": 7565,
         "Segments": "Top Hot",
         "_deepnote_index_column": 2,
         "add_to_cart_1d": 1,
         "add_to_cart_30d": 19,
         "add_to_cart_7d": 10,
         "begin_checkout_1d": 1,
         "begin_checkout_30d": 11,
         "begin_checkout_7d": 9,
         "nbre_commande": 2,
         "order_recency": 14,
         "order_seniority": 148,
         "product_marge": 208,
         "purchase_1d": 0,
         "purchase_30d": 1,
         "purchase_7d": 0,
         "qty_sold": 2,
         "stock": 45,
         "view_item_1d": 23,
         "view_item_30d": 341,
         "view_item_7d": 151,
         "view_item_list_1d": 613,
         "view_item_list_30d": 18279,
         "view_item_list_7d": 6655
        },
        {
         "ID": 7566,
         "Segments": "Top Hot",
         "_deepnote_index_column": 3,
         "add_to_cart_1d": 1,
         "add_to_cart_30d": 31,
         "add_to_cart_7d": 16,
         "begin_checkout_1d": 0,
         "begin_checkout_30d": 18,
         "begin_checkout_7d": 10,
         "nbre_commande": 4,
         "order_recency": 2,
         "order_seniority": 84,
         "product_marge": 416,
         "purchase_1d": 0,
         "purchase_30d": 3,
         "purchase_7d": 1,
         "qty_sold": 9,
         "stock": 60,
         "view_item_1d": 14,
         "view_item_30d": 265,
         "view_item_7d": 121,
         "view_item_list_1d": 574,
         "view_item_list_30d": 17316,
         "view_item_list_7d": 6680
        },
        {
         "ID": 7567,
         "Segments": "Cold",
         "_deepnote_index_column": 4,
         "add_to_cart_1d": 0,
         "add_to_cart_30d": 37,
         "add_to_cart_7d": 13,
         "begin_checkout_1d": 0,
         "begin_checkout_30d": 50,
         "begin_checkout_7d": 4,
         "nbre_commande": 20,
         "order_recency": 2,
         "order_seniority": 171,
         "product_marge": 4760,
         "purchase_1d": 0,
         "purchase_30d": 5,
         "purchase_7d": 2,
         "qty_sold": 20,
         "stock": 3,
         "view_item_1d": 45,
         "view_item_30d": 1712,
         "view_item_7d": 377,
         "view_item_list_1d": 1214,
         "view_item_list_30d": 35223,
         "view_item_list_7d": 13127
        },
        {
         "ID": 7570,
         "Segments": "Top Hot",
         "_deepnote_index_column": 7,
         "add_to_cart_1d": 0,
         "add_to_cart_30d": 44,
         "add_to_cart_7d": 13,
         "begin_checkout_1d": 0,
         "begin_checkout_30d": 54,
         "begin_checkout_7d": 14,
         "nbre_commande": 34,
         "order_recency": 5,
         "order_seniority": 170,
         "product_marge": 7786,
         "purchase_1d": 0,
         "purchase_30d": 5,
         "purchase_7d": 2,
         "qty_sold": 34,
         "stock": 5,
         "view_item_1d": 14,
         "view_item_30d": 661,
         "view_item_7d": 165,
         "view_item_list_1d": 664,
         "view_item_list_30d": 19793,
         "view_item_list_7d": 7270
        },
        {
         "ID": 7571,
         "Segments": "Top Hot",
         "_deepnote_index_column": 8,
         "add_to_cart_1d": 3,
         "add_to_cart_30d": 27,
         "add_to_cart_7d": 6,
         "begin_checkout_1d": 0,
         "begin_checkout_30d": 20,
         "begin_checkout_7d": 3,
         "nbre_commande": 13,
         "order_recency": 9,
         "order_seniority": 170,
         "product_marge": 2873,
         "purchase_1d": 0,
         "purchase_30d": 8,
         "purchase_7d": 0,
         "qty_sold": 13,
         "stock": 40,
         "view_item_1d": 20,
         "view_item_30d": 344,
         "view_item_7d": 116,
         "view_item_list_1d": 635,
         "view_item_list_30d": 19375,
         "view_item_list_7d": 7192
        },
        {
         "ID": 7572,
         "Segments": "Top Hot",
         "_deepnote_index_column": 9,
         "add_to_cart_1d": 1,
         "add_to_cart_30d": 32,
         "add_to_cart_7d": 13,
         "begin_checkout_1d": 0,
         "begin_checkout_30d": 26,
         "begin_checkout_7d": 12,
         "nbre_commande": 10,
         "order_recency": 8,
         "order_seniority": 98,
         "product_marge": 2210,
         "purchase_1d": 0,
         "purchase_30d": 5,
         "purchase_7d": 0,
         "qty_sold": 10,
         "stock": 38,
         "view_item_1d": 6,
         "view_item_30d": 382,
         "view_item_7d": 138,
         "view_item_list_1d": 794,
         "view_item_list_30d": 23413,
         "view_item_list_7d": 8810
        },
        {
         "ID": 7573,
         "Segments": "Top Hot",
         "_deepnote_index_column": 10,
         "add_to_cart_1d": 4,
         "add_to_cart_30d": 88,
         "add_to_cart_7d": 28,
         "begin_checkout_1d": 8,
         "begin_checkout_30d": 118,
         "begin_checkout_7d": 51,
         "nbre_commande": 43,
         "order_recency": 1,
         "order_seniority": 167,
         "product_marge": 13772,
         "purchase_1d": 1,
         "purchase_30d": 21,
         "purchase_7d": 5,
         "qty_sold": 44,
         "stock": 33,
         "view_item_1d": 64,
         "view_item_30d": 898,
         "view_item_7d": 267,
         "view_item_list_1d": 724,
         "view_item_list_30d": 23150,
         "view_item_list_7d": 8176
        },
        {
         "ID": 7574,
         "Segments": "Top Hot",
         "_deepnote_index_column": 11,
         "add_to_cart_1d": 3,
         "add_to_cart_30d": 41,
         "add_to_cart_7d": 22,
         "begin_checkout_1d": 5,
         "begin_checkout_30d": 59,
         "begin_checkout_7d": 44,
         "nbre_commande": 18,
         "order_recency": 1,
         "order_seniority": 172,
         "product_marge": 5634,
         "purchase_1d": 2,
         "purchase_30d": 4,
         "purchase_7d": 3,
         "qty_sold": 18,
         "stock": 20,
         "view_item_1d": 39,
         "view_item_30d": 754,
         "view_item_7d": 222,
         "view_item_list_1d": 654,
         "view_item_list_30d": 22044,
         "view_item_list_7d": 7938
        },
        {
         "ID": 7575,
         "Segments": "Top Hot",
         "_deepnote_index_column": 12,
         "add_to_cart_1d": 0,
         "add_to_cart_30d": 22,
         "add_to_cart_7d": 11,
         "begin_checkout_1d": 0,
         "begin_checkout_30d": 26,
         "begin_checkout_7d": 13,
         "nbre_commande": 18,
         "order_recency": 5,
         "order_seniority": 170,
         "product_marge": 7434,
         "purchase_1d": 0,
         "purchase_30d": 6,
         "purchase_7d": 3,
         "qty_sold": 18,
         "stock": 20,
         "view_item_1d": 17,
         "view_item_30d": 455,
         "view_item_7d": 146,
         "view_item_list_1d": 658,
         "view_item_list_30d": 20592,
         "view_item_list_7d": 7557
        }
       ]
      },
      "text/html": [
       "<div>\n",
       "<style scoped>\n",
       "    .dataframe tbody tr th:only-of-type {\n",
       "        vertical-align: middle;\n",
       "    }\n",
       "\n",
       "    .dataframe tbody tr th {\n",
       "        vertical-align: top;\n",
       "    }\n",
       "\n",
       "    .dataframe thead th {\n",
       "        text-align: right;\n",
       "    }\n",
       "</style>\n",
       "<table border=\"1\" class=\"dataframe\">\n",
       "  <thead>\n",
       "    <tr style=\"text-align: right;\">\n",
       "      <th></th>\n",
       "      <th>ID</th>\n",
       "      <th>view_item_list_1d</th>\n",
       "      <th>view_item_list_7d</th>\n",
       "      <th>view_item_list_30d</th>\n",
       "      <th>view_item_1d</th>\n",
       "      <th>view_item_7d</th>\n",
       "      <th>view_item_30d</th>\n",
       "      <th>add_to_cart_1d</th>\n",
       "      <th>add_to_cart_7d</th>\n",
       "      <th>add_to_cart_30d</th>\n",
       "      <th>...</th>\n",
       "      <th>purchase_1d</th>\n",
       "      <th>purchase_7d</th>\n",
       "      <th>purchase_30d</th>\n",
       "      <th>qty_sold</th>\n",
       "      <th>nbre_commande</th>\n",
       "      <th>product_marge</th>\n",
       "      <th>order_recency</th>\n",
       "      <th>order_seniority</th>\n",
       "      <th>stock</th>\n",
       "      <th>Segments</th>\n",
       "    </tr>\n",
       "  </thead>\n",
       "  <tbody>\n",
       "    <tr>\n",
       "      <th>1</th>\n",
       "      <td>7564.0</td>\n",
       "      <td>883.0</td>\n",
       "      <td>10210.0</td>\n",
       "      <td>28088.0</td>\n",
       "      <td>30.0</td>\n",
       "      <td>238.0</td>\n",
       "      <td>699.0</td>\n",
       "      <td>3.0</td>\n",
       "      <td>29.0</td>\n",
       "      <td>79.0</td>\n",
       "      <td>...</td>\n",
       "      <td>1.0</td>\n",
       "      <td>5.0</td>\n",
       "      <td>14.0</td>\n",
       "      <td>27.0</td>\n",
       "      <td>27.0</td>\n",
       "      <td>6183.0</td>\n",
       "      <td>1.0</td>\n",
       "      <td>170.0</td>\n",
       "      <td>248.0</td>\n",
       "      <td>Top Hot</td>\n",
       "    </tr>\n",
       "    <tr>\n",
       "      <th>2</th>\n",
       "      <td>7565.0</td>\n",
       "      <td>613.0</td>\n",
       "      <td>6655.0</td>\n",
       "      <td>18279.0</td>\n",
       "      <td>23.0</td>\n",
       "      <td>151.0</td>\n",
       "      <td>341.0</td>\n",
       "      <td>1.0</td>\n",
       "      <td>10.0</td>\n",
       "      <td>19.0</td>\n",
       "      <td>...</td>\n",
       "      <td>0.0</td>\n",
       "      <td>0.0</td>\n",
       "      <td>1.0</td>\n",
       "      <td>2.0</td>\n",
       "      <td>2.0</td>\n",
       "      <td>208.0</td>\n",
       "      <td>14.0</td>\n",
       "      <td>148.0</td>\n",
       "      <td>45.0</td>\n",
       "      <td>Top Hot</td>\n",
       "    </tr>\n",
       "    <tr>\n",
       "      <th>3</th>\n",
       "      <td>7566.0</td>\n",
       "      <td>574.0</td>\n",
       "      <td>6680.0</td>\n",
       "      <td>17316.0</td>\n",
       "      <td>14.0</td>\n",
       "      <td>121.0</td>\n",
       "      <td>265.0</td>\n",
       "      <td>1.0</td>\n",
       "      <td>16.0</td>\n",
       "      <td>31.0</td>\n",
       "      <td>...</td>\n",
       "      <td>0.0</td>\n",
       "      <td>1.0</td>\n",
       "      <td>3.0</td>\n",
       "      <td>9.0</td>\n",
       "      <td>4.0</td>\n",
       "      <td>416.0</td>\n",
       "      <td>2.0</td>\n",
       "      <td>84.0</td>\n",
       "      <td>60.0</td>\n",
       "      <td>Top Hot</td>\n",
       "    </tr>\n",
       "    <tr>\n",
       "      <th>4</th>\n",
       "      <td>7567.0</td>\n",
       "      <td>1214.0</td>\n",
       "      <td>13127.0</td>\n",
       "      <td>35223.0</td>\n",
       "      <td>45.0</td>\n",
       "      <td>377.0</td>\n",
       "      <td>1712.0</td>\n",
       "      <td>0.0</td>\n",
       "      <td>13.0</td>\n",
       "      <td>37.0</td>\n",
       "      <td>...</td>\n",
       "      <td>0.0</td>\n",
       "      <td>2.0</td>\n",
       "      <td>5.0</td>\n",
       "      <td>20.0</td>\n",
       "      <td>20.0</td>\n",
       "      <td>4760.0</td>\n",
       "      <td>2.0</td>\n",
       "      <td>171.0</td>\n",
       "      <td>3.0</td>\n",
       "      <td>Cold</td>\n",
       "    </tr>\n",
       "    <tr>\n",
       "      <th>7</th>\n",
       "      <td>7570.0</td>\n",
       "      <td>664.0</td>\n",
       "      <td>7270.0</td>\n",
       "      <td>19793.0</td>\n",
       "      <td>14.0</td>\n",
       "      <td>165.0</td>\n",
       "      <td>661.0</td>\n",
       "      <td>0.0</td>\n",
       "      <td>13.0</td>\n",
       "      <td>44.0</td>\n",
       "      <td>...</td>\n",
       "      <td>0.0</td>\n",
       "      <td>2.0</td>\n",
       "      <td>5.0</td>\n",
       "      <td>34.0</td>\n",
       "      <td>34.0</td>\n",
       "      <td>7786.0</td>\n",
       "      <td>5.0</td>\n",
       "      <td>170.0</td>\n",
       "      <td>5.0</td>\n",
       "      <td>Top Hot</td>\n",
       "    </tr>\n",
       "    <tr>\n",
       "      <th>...</th>\n",
       "      <td>...</td>\n",
       "      <td>...</td>\n",
       "      <td>...</td>\n",
       "      <td>...</td>\n",
       "      <td>...</td>\n",
       "      <td>...</td>\n",
       "      <td>...</td>\n",
       "      <td>...</td>\n",
       "      <td>...</td>\n",
       "      <td>...</td>\n",
       "      <td>...</td>\n",
       "      <td>...</td>\n",
       "      <td>...</td>\n",
       "      <td>...</td>\n",
       "      <td>...</td>\n",
       "      <td>...</td>\n",
       "      <td>...</td>\n",
       "      <td>...</td>\n",
       "      <td>...</td>\n",
       "      <td>...</td>\n",
       "      <td>...</td>\n",
       "    </tr>\n",
       "    <tr>\n",
       "      <th>276</th>\n",
       "      <td>8409.0</td>\n",
       "      <td>848.0</td>\n",
       "      <td>7541.0</td>\n",
       "      <td>25577.0</td>\n",
       "      <td>30.0</td>\n",
       "      <td>233.0</td>\n",
       "      <td>626.0</td>\n",
       "      <td>0.0</td>\n",
       "      <td>10.0</td>\n",
       "      <td>24.0</td>\n",
       "      <td>...</td>\n",
       "      <td>0.0</td>\n",
       "      <td>2.0</td>\n",
       "      <td>5.0</td>\n",
       "      <td>8.0</td>\n",
       "      <td>8.0</td>\n",
       "      <td>968.0</td>\n",
       "      <td>4.0</td>\n",
       "      <td>18.0</td>\n",
       "      <td>31.0</td>\n",
       "      <td>Top Hot</td>\n",
       "    </tr>\n",
       "    <tr>\n",
       "      <th>277</th>\n",
       "      <td>8429.0</td>\n",
       "      <td>984.0</td>\n",
       "      <td>8378.0</td>\n",
       "      <td>30722.0</td>\n",
       "      <td>41.0</td>\n",
       "      <td>337.0</td>\n",
       "      <td>1414.0</td>\n",
       "      <td>2.0</td>\n",
       "      <td>9.0</td>\n",
       "      <td>34.0</td>\n",
       "      <td>...</td>\n",
       "      <td>0.0</td>\n",
       "      <td>3.0</td>\n",
       "      <td>4.0</td>\n",
       "      <td>4.0</td>\n",
       "      <td>4.0</td>\n",
       "      <td>816.0</td>\n",
       "      <td>3.0</td>\n",
       "      <td>8.0</td>\n",
       "      <td>89.0</td>\n",
       "      <td>Top Hot</td>\n",
       "    </tr>\n",
       "    <tr>\n",
       "      <th>278</th>\n",
       "      <td>8431.0</td>\n",
       "      <td>1026.0</td>\n",
       "      <td>9523.0</td>\n",
       "      <td>34023.0</td>\n",
       "      <td>69.0</td>\n",
       "      <td>534.0</td>\n",
       "      <td>2232.0</td>\n",
       "      <td>1.0</td>\n",
       "      <td>7.0</td>\n",
       "      <td>15.0</td>\n",
       "      <td>...</td>\n",
       "      <td>0.0</td>\n",
       "      <td>1.0</td>\n",
       "      <td>1.0</td>\n",
       "      <td>1.0</td>\n",
       "      <td>1.0</td>\n",
       "      <td>204.0</td>\n",
       "      <td>2.0</td>\n",
       "      <td>2.0</td>\n",
       "      <td>29.0</td>\n",
       "      <td>Top Hot</td>\n",
       "    </tr>\n",
       "    <tr>\n",
       "      <th>279</th>\n",
       "      <td>8433.0</td>\n",
       "      <td>1011.0</td>\n",
       "      <td>8751.0</td>\n",
       "      <td>31753.0</td>\n",
       "      <td>35.0</td>\n",
       "      <td>266.0</td>\n",
       "      <td>918.0</td>\n",
       "      <td>0.0</td>\n",
       "      <td>3.0</td>\n",
       "      <td>14.0</td>\n",
       "      <td>...</td>\n",
       "      <td>0.0</td>\n",
       "      <td>1.0</td>\n",
       "      <td>1.0</td>\n",
       "      <td>2.0</td>\n",
       "      <td>2.0</td>\n",
       "      <td>476.0</td>\n",
       "      <td>4.0</td>\n",
       "      <td>9.0</td>\n",
       "      <td>101.0</td>\n",
       "      <td>Top Hot</td>\n",
       "    </tr>\n",
       "    <tr>\n",
       "      <th>280</th>\n",
       "      <td>8437.0</td>\n",
       "      <td>546.0</td>\n",
       "      <td>4758.0</td>\n",
       "      <td>14579.0</td>\n",
       "      <td>27.0</td>\n",
       "      <td>216.0</td>\n",
       "      <td>674.0</td>\n",
       "      <td>1.0</td>\n",
       "      <td>12.0</td>\n",
       "      <td>17.0</td>\n",
       "      <td>...</td>\n",
       "      <td>1.0</td>\n",
       "      <td>2.0</td>\n",
       "      <td>2.0</td>\n",
       "      <td>2.0</td>\n",
       "      <td>2.0</td>\n",
       "      <td>476.0</td>\n",
       "      <td>1.0</td>\n",
       "      <td>4.0</td>\n",
       "      <td>49.0</td>\n",
       "      <td>Top Hot</td>\n",
       "    </tr>\n",
       "  </tbody>\n",
       "</table>\n",
       "<p>199 rows × 23 columns</p>\n",
       "</div>"
      ],
      "text/plain": [
       "         ID  view_item_list_1d  view_item_list_7d  view_item_list_30d  \\\n",
       "1    7564.0              883.0            10210.0             28088.0   \n",
       "2    7565.0              613.0             6655.0             18279.0   \n",
       "3    7566.0              574.0             6680.0             17316.0   \n",
       "4    7567.0             1214.0            13127.0             35223.0   \n",
       "7    7570.0              664.0             7270.0             19793.0   \n",
       "..      ...                ...                ...                 ...   \n",
       "276  8409.0              848.0             7541.0             25577.0   \n",
       "277  8429.0              984.0             8378.0             30722.0   \n",
       "278  8431.0             1026.0             9523.0             34023.0   \n",
       "279  8433.0             1011.0             8751.0             31753.0   \n",
       "280  8437.0              546.0             4758.0             14579.0   \n",
       "\n",
       "     view_item_1d  view_item_7d  view_item_30d  add_to_cart_1d  \\\n",
       "1            30.0         238.0          699.0             3.0   \n",
       "2            23.0         151.0          341.0             1.0   \n",
       "3            14.0         121.0          265.0             1.0   \n",
       "4            45.0         377.0         1712.0             0.0   \n",
       "7            14.0         165.0          661.0             0.0   \n",
       "..            ...           ...            ...             ...   \n",
       "276          30.0         233.0          626.0             0.0   \n",
       "277          41.0         337.0         1414.0             2.0   \n",
       "278          69.0         534.0         2232.0             1.0   \n",
       "279          35.0         266.0          918.0             0.0   \n",
       "280          27.0         216.0          674.0             1.0   \n",
       "\n",
       "     add_to_cart_7d  add_to_cart_30d  ...  purchase_1d  purchase_7d  \\\n",
       "1              29.0             79.0  ...          1.0          5.0   \n",
       "2              10.0             19.0  ...          0.0          0.0   \n",
       "3              16.0             31.0  ...          0.0          1.0   \n",
       "4              13.0             37.0  ...          0.0          2.0   \n",
       "7              13.0             44.0  ...          0.0          2.0   \n",
       "..              ...              ...  ...          ...          ...   \n",
       "276            10.0             24.0  ...          0.0          2.0   \n",
       "277             9.0             34.0  ...          0.0          3.0   \n",
       "278             7.0             15.0  ...          0.0          1.0   \n",
       "279             3.0             14.0  ...          0.0          1.0   \n",
       "280            12.0             17.0  ...          1.0          2.0   \n",
       "\n",
       "     purchase_30d  qty_sold  nbre_commande  product_marge  order_recency  \\\n",
       "1            14.0      27.0           27.0         6183.0            1.0   \n",
       "2             1.0       2.0            2.0          208.0           14.0   \n",
       "3             3.0       9.0            4.0          416.0            2.0   \n",
       "4             5.0      20.0           20.0         4760.0            2.0   \n",
       "7             5.0      34.0           34.0         7786.0            5.0   \n",
       "..            ...       ...            ...            ...            ...   \n",
       "276           5.0       8.0            8.0          968.0            4.0   \n",
       "277           4.0       4.0            4.0          816.0            3.0   \n",
       "278           1.0       1.0            1.0          204.0            2.0   \n",
       "279           1.0       2.0            2.0          476.0            4.0   \n",
       "280           2.0       2.0            2.0          476.0            1.0   \n",
       "\n",
       "     order_seniority  stock  Segments  \n",
       "1              170.0  248.0   Top Hot  \n",
       "2              148.0   45.0   Top Hot  \n",
       "3               84.0   60.0   Top Hot  \n",
       "4              171.0    3.0      Cold  \n",
       "7              170.0    5.0   Top Hot  \n",
       "..               ...    ...       ...  \n",
       "276             18.0   31.0   Top Hot  \n",
       "277              8.0   89.0   Top Hot  \n",
       "278              2.0   29.0   Top Hot  \n",
       "279              9.0  101.0   Top Hot  \n",
       "280              4.0   49.0   Top Hot  \n",
       "\n",
       "[199 rows x 23 columns]"
      ]
     },
     "execution_count": 28,
     "metadata": {},
     "output_type": "execute_result"
    }
   ],
   "source": [
    "df"
   ]
  },
  {
   "cell_type": "code",
   "execution_count": null,
   "metadata": {
    "cell_id": "7008ac4d20c74e7fbea306366c86ee92",
    "deepnote_cell_height": 81,
    "deepnote_cell_type": "code",
    "deepnote_to_be_reexecuted": false,
    "execution_millis": 10,
    "execution_start": 1656412225123,
    "source_hash": "d90fa677",
    "tags": []
   },
   "outputs": [],
   "source": [
    "base_image=pd.read_csv('base_image.csv',sep=',')"
   ]
  },
  {
   "cell_type": "code",
   "execution_count": null,
   "metadata": {
    "cell_id": "8c79668789ca43dd910d78c19a421fb1",
    "deepnote_cell_height": 652.65625,
    "deepnote_cell_type": "code",
    "deepnote_to_be_reexecuted": false,
    "execution_millis": 95,
    "execution_start": 1656412252966,
    "source_hash": "52c7faa9",
    "tags": []
   },
   "outputs": [
    {
     "data": {
      "application/vnd.deepnote.dataframe.v3+json": {
       "column_count": 24,
       "columns": [
        {
         "dtype": "float64",
         "name": "ID",
         "stats": {
          "histogram": [
           {
            "bin_end": 7651.3,
            "bin_start": 7564,
            "count": 48
           },
           {
            "bin_end": 7738.6,
            "bin_start": 7651.3,
            "count": 10
           },
           {
            "bin_end": 7825.9,
            "bin_start": 7738.6,
            "count": 18
           },
           {
            "bin_end": 7913.2,
            "bin_start": 7825.9,
            "count": 26
           },
           {
            "bin_end": 8000.5,
            "bin_start": 7913.2,
            "count": 17
           },
           {
            "bin_end": 8087.8,
            "bin_start": 8000.5,
            "count": 19
           },
           {
            "bin_end": 8175.1,
            "bin_start": 8087.8,
            "count": 12
           },
           {
            "bin_end": 8262.4,
            "bin_start": 8175.1,
            "count": 15
           },
           {
            "bin_end": 8349.7,
            "bin_start": 8262.4,
            "count": 16
           },
           {
            "bin_end": 8437,
            "bin_start": 8349.7,
            "count": 18
           }
          ],
          "max": "8437.0",
          "min": "7564.0",
          "nan_count": 0,
          "unique_count": 199
         }
        },
        {
         "dtype": "float64",
         "name": "view_item_list_1d",
         "stats": {
          "histogram": [
           {
            "bin_end": 856,
            "bin_start": 333,
            "count": 75
           },
           {
            "bin_end": 1379,
            "bin_start": 856,
            "count": 66
           },
           {
            "bin_end": 1902,
            "bin_start": 1379,
            "count": 27
           },
           {
            "bin_end": 2425,
            "bin_start": 1902,
            "count": 12
           },
           {
            "bin_end": 2948,
            "bin_start": 2425,
            "count": 2
           },
           {
            "bin_end": 3471,
            "bin_start": 2948,
            "count": 4
           },
           {
            "bin_end": 3994,
            "bin_start": 3471,
            "count": 5
           },
           {
            "bin_end": 4517,
            "bin_start": 3994,
            "count": 2
           },
           {
            "bin_end": 5040,
            "bin_start": 4517,
            "count": 3
           },
           {
            "bin_end": 5563,
            "bin_start": 5040,
            "count": 3
           }
          ],
          "max": "5563.0",
          "min": "333.0",
          "nan_count": 0,
          "unique_count": 188
         }
        },
        {
         "dtype": "float64",
         "name": "view_item_list_7d",
         "stats": {
          "histogram": [
           {
            "bin_end": 8649.6,
            "bin_start": 3423,
            "count": 76
           },
           {
            "bin_end": 13876.2,
            "bin_start": 8649.6,
            "count": 49
           },
           {
            "bin_end": 19102.800000000003,
            "bin_start": 13876.2,
            "count": 35
           },
           {
            "bin_end": 24329.4,
            "bin_start": 19102.800000000003,
            "count": 16
           },
           {
            "bin_end": 29556,
            "bin_start": 24329.4,
            "count": 5
           },
           {
            "bin_end": 34782.600000000006,
            "bin_start": 29556,
            "count": 5
           },
           {
            "bin_end": 40009.200000000004,
            "bin_start": 34782.600000000006,
            "count": 3
           },
           {
            "bin_end": 45235.8,
            "bin_start": 40009.200000000004,
            "count": 3
           },
           {
            "bin_end": 50462.4,
            "bin_start": 45235.8,
            "count": 3
           },
           {
            "bin_end": 55689,
            "bin_start": 50462.4,
            "count": 4
           }
          ],
          "max": "55689.0",
          "min": "3423.0",
          "nan_count": 0,
          "unique_count": 198
         }
        },
        {
         "dtype": "float64",
         "name": "view_item_list_30d",
         "stats": {
          "histogram": [
           {
            "bin_end": 23338,
            "bin_start": 7499,
            "count": 59
           },
           {
            "bin_end": 39177,
            "bin_start": 23338,
            "count": 62
           },
           {
            "bin_end": 55016,
            "bin_start": 39177,
            "count": 36
           },
           {
            "bin_end": 70855,
            "bin_start": 55016,
            "count": 18
           },
           {
            "bin_end": 86694,
            "bin_start": 70855,
            "count": 11
           },
           {
            "bin_end": 102533,
            "bin_start": 86694,
            "count": 2
           },
           {
            "bin_end": 118372,
            "bin_start": 102533,
            "count": 3
           },
           {
            "bin_end": 134211,
            "bin_start": 118372,
            "count": 3
           },
           {
            "bin_end": 150050,
            "bin_start": 134211,
            "count": 4
           },
           {
            "bin_end": 165889,
            "bin_start": 150050,
            "count": 1
           }
          ],
          "max": "165889.0",
          "min": "7499.0",
          "nan_count": 0,
          "unique_count": 199
         }
        },
        {
         "dtype": "float64",
         "name": "view_item_1d",
         "stats": {
          "histogram": [
           {
            "bin_end": 43.5,
            "bin_start": 1,
            "count": 122
           },
           {
            "bin_end": 86,
            "bin_start": 43.5,
            "count": 52
           },
           {
            "bin_end": 128.5,
            "bin_start": 86,
            "count": 16
           },
           {
            "bin_end": 171,
            "bin_start": 128.5,
            "count": 5
           },
           {
            "bin_end": 213.5,
            "bin_start": 171,
            "count": 1
           },
           {
            "bin_end": 256,
            "bin_start": 213.5,
            "count": 1
           },
           {
            "bin_end": 298.5,
            "bin_start": 256,
            "count": 0
           },
           {
            "bin_end": 341,
            "bin_start": 298.5,
            "count": 0
           },
           {
            "bin_end": 383.5,
            "bin_start": 341,
            "count": 1
           },
           {
            "bin_end": 426,
            "bin_start": 383.5,
            "count": 1
           }
          ],
          "max": "426.0",
          "min": "1.0",
          "nan_count": 0,
          "unique_count": 92
         }
        },
        {
         "dtype": "float64",
         "name": "view_item_7d",
         "stats": {
          "histogram": [
           {
            "bin_end": 299.6,
            "bin_start": 27,
            "count": 105
           },
           {
            "bin_end": 572.2,
            "bin_start": 299.6,
            "count": 55
           },
           {
            "bin_end": 844.8000000000001,
            "bin_start": 572.2,
            "count": 24
           },
           {
            "bin_end": 1117.4,
            "bin_start": 844.8000000000001,
            "count": 9
           },
           {
            "bin_end": 1390,
            "bin_start": 1117.4,
            "count": 1
           },
           {
            "bin_end": 1662.6000000000001,
            "bin_start": 1390,
            "count": 3
           },
           {
            "bin_end": 1935.2000000000003,
            "bin_start": 1662.6000000000001,
            "count": 0
           },
           {
            "bin_end": 2207.8,
            "bin_start": 1935.2000000000003,
            "count": 0
           },
           {
            "bin_end": 2480.4,
            "bin_start": 2207.8,
            "count": 0
           },
           {
            "bin_end": 2753,
            "bin_start": 2480.4,
            "count": 2
           }
          ],
          "max": "2753.0",
          "min": "27.0",
          "nan_count": 0,
          "unique_count": 173
         }
        },
        {
         "dtype": "float64",
         "name": "view_item_30d",
         "stats": {
          "histogram": [
           {
            "bin_end": 3361.7,
            "bin_start": 147,
            "count": 186
           },
           {
            "bin_end": 6576.4,
            "bin_start": 3361.7,
            "count": 9
           },
           {
            "bin_end": 9791.099999999999,
            "bin_start": 6576.4,
            "count": 3
           },
           {
            "bin_end": 13005.8,
            "bin_start": 9791.099999999999,
            "count": 0
           },
           {
            "bin_end": 16220.5,
            "bin_start": 13005.8,
            "count": 0
           },
           {
            "bin_end": 19435.199999999997,
            "bin_start": 16220.5,
            "count": 0
           },
           {
            "bin_end": 22649.899999999998,
            "bin_start": 19435.199999999997,
            "count": 0
           },
           {
            "bin_end": 25864.6,
            "bin_start": 22649.899999999998,
            "count": 0
           },
           {
            "bin_end": 29079.3,
            "bin_start": 25864.6,
            "count": 0
           },
           {
            "bin_end": 32294,
            "bin_start": 29079.3,
            "count": 1
           }
          ],
          "max": "32294.0",
          "min": "147.0",
          "nan_count": 0,
          "unique_count": 189
         }
        },
        {
         "dtype": "float64",
         "name": "add_to_cart_1d",
         "stats": {
          "histogram": [
           {
            "bin_end": 3.2,
            "bin_start": 0,
            "count": 166
           },
           {
            "bin_end": 6.4,
            "bin_start": 3.2,
            "count": 21
           },
           {
            "bin_end": 9.600000000000001,
            "bin_start": 6.4,
            "count": 4
           },
           {
            "bin_end": 12.8,
            "bin_start": 9.600000000000001,
            "count": 4
           },
           {
            "bin_end": 16,
            "bin_start": 12.8,
            "count": 0
           },
           {
            "bin_end": 19.200000000000003,
            "bin_start": 16,
            "count": 1
           },
           {
            "bin_end": 22.400000000000002,
            "bin_start": 19.200000000000003,
            "count": 1
           },
           {
            "bin_end": 25.6,
            "bin_start": 22.400000000000002,
            "count": 1
           },
           {
            "bin_end": 28.8,
            "bin_start": 25.6,
            "count": 0
           },
           {
            "bin_end": 32,
            "bin_start": 28.8,
            "count": 1
           }
          ],
          "max": "32.0",
          "min": "0.0",
          "nan_count": 0,
          "unique_count": 15
         }
        },
        {
         "dtype": "float64",
         "name": "add_to_cart_7d",
         "stats": {
          "histogram": [
           {
            "bin_end": 10,
            "bin_start": 0,
            "count": 61
           },
           {
            "bin_end": 20,
            "bin_start": 10,
            "count": 74
           },
           {
            "bin_end": 30,
            "bin_start": 20,
            "count": 22
           },
           {
            "bin_end": 40,
            "bin_start": 30,
            "count": 16
           },
           {
            "bin_end": 50,
            "bin_start": 40,
            "count": 13
           },
           {
            "bin_end": 60,
            "bin_start": 50,
            "count": 8
           },
           {
            "bin_end": 70,
            "bin_start": 60,
            "count": 1
           },
           {
            "bin_end": 80,
            "bin_start": 70,
            "count": 2
           },
           {
            "bin_end": 90,
            "bin_start": 80,
            "count": 0
           },
           {
            "bin_end": 100,
            "bin_start": 90,
            "count": 2
           }
          ],
          "max": "100.0",
          "min": "0.0",
          "nan_count": 0,
          "unique_count": 54
         }
        },
        {
         "dtype": "float64",
         "name": "add_to_cart_30d",
         "stats": {
          "histogram": [
           {
            "bin_end": 38.3,
            "bin_start": 3,
            "count": 84
           },
           {
            "bin_end": 73.6,
            "bin_start": 38.3,
            "count": 68
           },
           {
            "bin_end": 108.89999999999999,
            "bin_start": 73.6,
            "count": 25
           },
           {
            "bin_end": 144.2,
            "bin_start": 108.89999999999999,
            "count": 15
           },
           {
            "bin_end": 179.5,
            "bin_start": 144.2,
            "count": 3
           },
           {
            "bin_end": 214.79999999999998,
            "bin_start": 179.5,
            "count": 3
           },
           {
            "bin_end": 250.09999999999997,
            "bin_start": 214.79999999999998,
            "count": 0
           },
           {
            "bin_end": 285.4,
            "bin_start": 250.09999999999997,
            "count": 0
           },
           {
            "bin_end": 320.7,
            "bin_start": 285.4,
            "count": 0
           },
           {
            "bin_end": 356,
            "bin_start": 320.7,
            "count": 1
           }
          ],
          "max": "356.0",
          "min": "3.0",
          "nan_count": 0,
          "unique_count": 95
         }
        },
        {
         "dtype": "float64",
         "name": "begin_checkout_1d",
         "stats": {
          "histogram": [
           {
            "bin_end": 3,
            "bin_start": 0,
            "count": 153
           },
           {
            "bin_end": 6,
            "bin_start": 3,
            "count": 20
           },
           {
            "bin_end": 9,
            "bin_start": 6,
            "count": 16
           },
           {
            "bin_end": 12,
            "bin_start": 9,
            "count": 3
           },
           {
            "bin_end": 15,
            "bin_start": 12,
            "count": 2
           },
           {
            "bin_end": 18,
            "bin_start": 15,
            "count": 2
           },
           {
            "bin_end": 21,
            "bin_start": 18,
            "count": 1
           },
           {
            "bin_end": 24,
            "bin_start": 21,
            "count": 1
           },
           {
            "bin_end": 27,
            "bin_start": 24,
            "count": 0
           },
           {
            "bin_end": 30,
            "bin_start": 27,
            "count": 1
           }
          ],
          "max": "30.0",
          "min": "0.0",
          "nan_count": 0,
          "unique_count": 18
         }
        },
        {
         "dtype": "float64",
         "name": "begin_checkout_7d",
         "stats": {
          "histogram": [
           {
            "bin_end": 15.2,
            "bin_start": 0,
            "count": 100
           },
           {
            "bin_end": 30.4,
            "bin_start": 15.2,
            "count": 58
           },
           {
            "bin_end": 45.599999999999994,
            "bin_start": 30.4,
            "count": 19
           },
           {
            "bin_end": 60.8,
            "bin_start": 45.599999999999994,
            "count": 14
           },
           {
            "bin_end": 76,
            "bin_start": 60.8,
            "count": 4
           },
           {
            "bin_end": 91.19999999999999,
            "bin_start": 76,
            "count": 2
           },
           {
            "bin_end": 106.39999999999999,
            "bin_start": 91.19999999999999,
            "count": 0
           },
           {
            "bin_end": 121.6,
            "bin_start": 106.39999999999999,
            "count": 1
           },
           {
            "bin_end": 136.79999999999998,
            "bin_start": 121.6,
            "count": 0
           },
           {
            "bin_end": 152,
            "bin_start": 136.79999999999998,
            "count": 1
           }
          ],
          "max": "152.0",
          "min": "0.0",
          "nan_count": 0,
          "unique_count": 56
         }
        },
        {
         "dtype": "float64",
         "name": "begin_checkout_30d",
         "stats": {
          "histogram": [
           {
            "bin_end": 31.9,
            "bin_start": 1,
            "count": 67
           },
           {
            "bin_end": 62.8,
            "bin_start": 31.9,
            "count": 62
           },
           {
            "bin_end": 93.69999999999999,
            "bin_start": 62.8,
            "count": 37
           },
           {
            "bin_end": 124.6,
            "bin_start": 93.69999999999999,
            "count": 14
           },
           {
            "bin_end": 155.5,
            "bin_start": 124.6,
            "count": 7
           },
           {
            "bin_end": 186.39999999999998,
            "bin_start": 155.5,
            "count": 7
           },
           {
            "bin_end": 217.29999999999998,
            "bin_start": 186.39999999999998,
            "count": 1
           },
           {
            "bin_end": 248.2,
            "bin_start": 217.29999999999998,
            "count": 2
           },
           {
            "bin_end": 279.09999999999997,
            "bin_start": 248.2,
            "count": 1
           },
           {
            "bin_end": 310,
            "bin_start": 279.09999999999997,
            "count": 1
           }
          ],
          "max": "310.0",
          "min": "1.0",
          "nan_count": 0,
          "unique_count": 109
         }
        },
        {
         "dtype": "float64",
         "name": "purchase_1d",
         "stats": {
          "histogram": [
           {
            "bin_end": 0.3,
            "bin_start": 0,
            "count": 156
           },
           {
            "bin_end": 0.6,
            "bin_start": 0.3,
            "count": 0
           },
           {
            "bin_end": 0.8999999999999999,
            "bin_start": 0.6,
            "count": 0
           },
           {
            "bin_end": 1.2,
            "bin_start": 0.8999999999999999,
            "count": 35
           },
           {
            "bin_end": 1.5,
            "bin_start": 1.2,
            "count": 0
           },
           {
            "bin_end": 1.7999999999999998,
            "bin_start": 1.5,
            "count": 0
           },
           {
            "bin_end": 2.1,
            "bin_start": 1.7999999999999998,
            "count": 7
           },
           {
            "bin_end": 2.4,
            "bin_start": 2.1,
            "count": 0
           },
           {
            "bin_end": 2.6999999999999997,
            "bin_start": 2.4,
            "count": 0
           },
           {
            "bin_end": 3,
            "bin_start": 2.6999999999999997,
            "count": 1
           }
          ],
          "max": "3.0",
          "min": "0.0",
          "nan_count": 0,
          "unique_count": 4
         }
        },
        {
         "dtype": "float64",
         "name": "purchase_7d",
         "stats": {
          "histogram": [
           {
            "bin_end": 1.8,
            "bin_start": 0,
            "count": 81
           },
           {
            "bin_end": 3.6,
            "bin_start": 1.8,
            "count": 60
           },
           {
            "bin_end": 5.4,
            "bin_start": 3.6,
            "count": 31
           },
           {
            "bin_end": 7.2,
            "bin_start": 5.4,
            "count": 15
           },
           {
            "bin_end": 9,
            "bin_start": 7.2,
            "count": 3
           },
           {
            "bin_end": 10.8,
            "bin_start": 9,
            "count": 5
           },
           {
            "bin_end": 12.6,
            "bin_start": 10.8,
            "count": 2
           },
           {
            "bin_end": 14.4,
            "bin_start": 12.6,
            "count": 1
           },
           {
            "bin_end": 16.2,
            "bin_start": 14.4,
            "count": 0
           },
           {
            "bin_end": 18,
            "bin_start": 16.2,
            "count": 1
           }
          ],
          "max": "18.0",
          "min": "0.0",
          "nan_count": 0,
          "unique_count": 14
         }
        },
        {
         "dtype": "float64",
         "name": "purchase_30d",
         "stats": {
          "histogram": [
           {
            "bin_end": 4.7,
            "bin_start": 0,
            "count": 73
           },
           {
            "bin_end": 9.4,
            "bin_start": 4.7,
            "count": 63
           },
           {
            "bin_end": 14.100000000000001,
            "bin_start": 9.4,
            "count": 32
           },
           {
            "bin_end": 18.8,
            "bin_start": 14.100000000000001,
            "count": 14
           },
           {
            "bin_end": 23.5,
            "bin_start": 18.8,
            "count": 7
           },
           {
            "bin_end": 28.200000000000003,
            "bin_start": 23.5,
            "count": 5
           },
           {
            "bin_end": 32.9,
            "bin_start": 28.200000000000003,
            "count": 2
           },
           {
            "bin_end": 37.6,
            "bin_start": 32.9,
            "count": 1
           },
           {
            "bin_end": 42.300000000000004,
            "bin_start": 37.6,
            "count": 1
           },
           {
            "bin_end": 47,
            "bin_start": 42.300000000000004,
            "count": 1
           }
          ],
          "max": "47.0",
          "min": "0.0",
          "nan_count": 0,
          "unique_count": 30
         }
        },
        {
         "dtype": "float64",
         "name": "qty_sold",
         "stats": {
          "histogram": [
           {
            "bin_end": 19.1,
            "bin_start": 1,
            "count": 103
           },
           {
            "bin_end": 37.2,
            "bin_start": 19.1,
            "count": 53
           },
           {
            "bin_end": 55.300000000000004,
            "bin_start": 37.2,
            "count": 29
           },
           {
            "bin_end": 73.4,
            "bin_start": 55.300000000000004,
            "count": 9
           },
           {
            "bin_end": 91.5,
            "bin_start": 73.4,
            "count": 1
           },
           {
            "bin_end": 109.60000000000001,
            "bin_start": 91.5,
            "count": 2
           },
           {
            "bin_end": 127.70000000000002,
            "bin_start": 109.60000000000001,
            "count": 0
           },
           {
            "bin_end": 145.8,
            "bin_start": 127.70000000000002,
            "count": 0
           },
           {
            "bin_end": 163.9,
            "bin_start": 145.8,
            "count": 1
           },
           {
            "bin_end": 182,
            "bin_start": 163.9,
            "count": 1
           }
          ],
          "max": "182.0",
          "min": "1.0",
          "nan_count": 0,
          "unique_count": 63
         }
        },
        {
         "dtype": "float64",
         "name": "nbre_commande",
         "stats": {
          "histogram": [
           {
            "bin_end": 19.1,
            "bin_start": 1,
            "count": 103
           },
           {
            "bin_end": 37.2,
            "bin_start": 19.1,
            "count": 55
           },
           {
            "bin_end": 55.300000000000004,
            "bin_start": 37.2,
            "count": 27
           },
           {
            "bin_end": 73.4,
            "bin_start": 55.300000000000004,
            "count": 9
           },
           {
            "bin_end": 91.5,
            "bin_start": 73.4,
            "count": 1
           },
           {
            "bin_end": 109.60000000000001,
            "bin_start": 91.5,
            "count": 2
           },
           {
            "bin_end": 127.70000000000002,
            "bin_start": 109.60000000000001,
            "count": 0
           },
           {
            "bin_end": 145.8,
            "bin_start": 127.70000000000002,
            "count": 1
           },
           {
            "bin_end": 163.9,
            "bin_start": 145.8,
            "count": 0
           },
           {
            "bin_end": 182,
            "bin_start": 163.9,
            "count": 1
           }
          ],
          "max": "182.0",
          "min": "1.0",
          "nan_count": 0,
          "unique_count": 61
         }
        },
        {
         "dtype": "float64",
         "name": "product_marge",
         "stats": {
          "histogram": [
           {
            "bin_end": 3568.3,
            "bin_start": 163,
            "count": 77
           },
           {
            "bin_end": 6973.6,
            "bin_start": 3568.3,
            "count": 58
           },
           {
            "bin_end": 10378.900000000001,
            "bin_start": 6973.6,
            "count": 37
           },
           {
            "bin_end": 13784.2,
            "bin_start": 10378.900000000001,
            "count": 16
           },
           {
            "bin_end": 17189.5,
            "bin_start": 13784.2,
            "count": 6
           },
           {
            "bin_end": 20594.800000000003,
            "bin_start": 17189.5,
            "count": 1
           },
           {
            "bin_end": 24000.100000000002,
            "bin_start": 20594.800000000003,
            "count": 2
           },
           {
            "bin_end": 27405.4,
            "bin_start": 24000.100000000002,
            "count": 1
           },
           {
            "bin_end": 30810.7,
            "bin_start": 27405.4,
            "count": 0
           },
           {
            "bin_end": 34216,
            "bin_start": 30810.7,
            "count": 1
           }
          ],
          "max": "34216.0",
          "min": "163.0",
          "nan_count": 0,
          "unique_count": 183
         }
        },
        {
         "dtype": "float64",
         "name": "order_recency",
         "stats": {
          "histogram": [
           {
            "bin_end": 13.2,
            "bin_start": 1,
            "count": 185
           },
           {
            "bin_end": 25.4,
            "bin_start": 13.2,
            "count": 11
           },
           {
            "bin_end": 37.599999999999994,
            "bin_start": 25.4,
            "count": 0
           },
           {
            "bin_end": 49.8,
            "bin_start": 37.599999999999994,
            "count": 0
           },
           {
            "bin_end": 62,
            "bin_start": 49.8,
            "count": 2
           },
           {
            "bin_end": 74.19999999999999,
            "bin_start": 62,
            "count": 0
           },
           {
            "bin_end": 86.39999999999999,
            "bin_start": 74.19999999999999,
            "count": 0
           },
           {
            "bin_end": 98.6,
            "bin_start": 86.39999999999999,
            "count": 0
           },
           {
            "bin_end": 110.8,
            "bin_start": 98.6,
            "count": 0
           },
           {
            "bin_end": 123,
            "bin_start": 110.8,
            "count": 1
           }
          ],
          "max": "123.0",
          "min": "1.0",
          "nan_count": 0,
          "unique_count": 21
         }
        },
        {
         "dtype": "float64",
         "name": "order_seniority",
         "stats": {
          "histogram": [
           {
            "bin_end": 23.4,
            "bin_start": 2,
            "count": 33
           },
           {
            "bin_end": 44.8,
            "bin_start": 23.4,
            "count": 0
           },
           {
            "bin_end": 66.19999999999999,
            "bin_start": 44.8,
            "count": 7
           },
           {
            "bin_end": 87.6,
            "bin_start": 66.19999999999999,
            "count": 21
           },
           {
            "bin_end": 109,
            "bin_start": 87.6,
            "count": 25
           },
           {
            "bin_end": 130.39999999999998,
            "bin_start": 109,
            "count": 14
           },
           {
            "bin_end": 151.79999999999998,
            "bin_start": 130.39999999999998,
            "count": 9
           },
           {
            "bin_end": 173.2,
            "bin_start": 151.79999999999998,
            "count": 53
           },
           {
            "bin_end": 194.6,
            "bin_start": 173.2,
            "count": 7
           },
           {
            "bin_end": 216,
            "bin_start": 194.6,
            "count": 30
           }
          ],
          "max": "216.0",
          "min": "2.0",
          "nan_count": 0,
          "unique_count": 83
         }
        },
        {
         "dtype": "float64",
         "name": "stock",
         "stats": {
          "histogram": [
           {
            "bin_end": 25.7,
            "bin_start": 1,
            "count": 113
           },
           {
            "bin_end": 50.4,
            "bin_start": 25.7,
            "count": 46
           },
           {
            "bin_end": 75.1,
            "bin_start": 50.4,
            "count": 28
           },
           {
            "bin_end": 99.8,
            "bin_start": 75.1,
            "count": 5
           },
           {
            "bin_end": 124.5,
            "bin_start": 99.8,
            "count": 6
           },
           {
            "bin_end": 149.2,
            "bin_start": 124.5,
            "count": 0
           },
           {
            "bin_end": 173.9,
            "bin_start": 149.2,
            "count": 0
           },
           {
            "bin_end": 198.6,
            "bin_start": 173.9,
            "count": 0
           },
           {
            "bin_end": 223.29999999999998,
            "bin_start": 198.6,
            "count": 0
           },
           {
            "bin_end": 248,
            "bin_start": 223.29999999999998,
            "count": 1
           }
          ],
          "max": "248.0",
          "min": "1.0",
          "nan_count": 0,
          "unique_count": 76
         }
        },
        {
         "dtype": "object",
         "name": "Segments",
         "stats": {
          "categories": [
           {
            "count": 104,
            "name": "Top Hot"
           },
           {
            "count": 61,
            "name": "Cold"
           },
           {
            "count": 34,
            "name": "2 others"
           }
          ],
          "nan_count": 0,
          "unique_count": 4
         }
        },
        {
         "dtype": "object",
         "name": "image",
         "stats": {
          "categories": [
           {
            "count": 1,
            "name": "https://media.mesdemoisellesparis.com/20553-facebook_catalog/printemps-ete-2022-top-mara-imprime.jpg"
           },
           {
            "count": 155,
            "name": "155 others"
           },
           {
            "count": 43,
            "name": "Missing"
           }
          ],
          "nan_count": 43,
          "unique_count": 156
         }
        },
        {
         "dtype": "int64",
         "name": "_deepnote_index_column"
        }
       ],
       "row_count": 199,
       "rows": [
        {
         "ID": 7564,
         "Segments": "Top Hot",
         "_deepnote_index_column": 0,
         "add_to_cart_1d": 3,
         "add_to_cart_30d": 79,
         "add_to_cart_7d": 29,
         "begin_checkout_1d": 7,
         "begin_checkout_30d": 101,
         "begin_checkout_7d": 28,
         "image": "https://media.mesdemoisellesparis.com/20553-facebook_catalog/printemps-ete-2022-top-mara-imprime.jpg",
         "nbre_commande": 27,
         "order_recency": 1,
         "order_seniority": 170,
         "product_marge": 6183,
         "purchase_1d": 1,
         "purchase_30d": 14,
         "purchase_7d": 5,
         "qty_sold": 27,
         "stock": 248,
         "view_item_1d": 30,
         "view_item_30d": 699,
         "view_item_7d": 238,
         "view_item_list_1d": 883,
         "view_item_list_30d": 28088,
         "view_item_list_7d": 10210
        },
        {
         "ID": 7565,
         "Segments": "Top Hot",
         "_deepnote_index_column": 1,
         "add_to_cart_1d": 1,
         "add_to_cart_30d": 19,
         "add_to_cart_7d": 10,
         "begin_checkout_1d": 1,
         "begin_checkout_30d": 11,
         "begin_checkout_7d": 9,
         "image": "https://media.mesdemoisellesparis.com/20588-facebook_catalog/printemps-ete-2022-short-mia-imprime.jpg",
         "nbre_commande": 2,
         "order_recency": 14,
         "order_seniority": 148,
         "product_marge": 208,
         "purchase_1d": 0,
         "purchase_30d": 1,
         "purchase_7d": 0,
         "qty_sold": 2,
         "stock": 45,
         "view_item_1d": 23,
         "view_item_30d": 341,
         "view_item_7d": 151,
         "view_item_list_1d": 613,
         "view_item_list_30d": 18279,
         "view_item_list_7d": 6655
        },
        {
         "ID": 7566,
         "Segments": "Top Hot",
         "_deepnote_index_column": 2,
         "add_to_cart_1d": 1,
         "add_to_cart_30d": 31,
         "add_to_cart_7d": 16,
         "begin_checkout_1d": 0,
         "begin_checkout_30d": 18,
         "begin_checkout_7d": 10,
         "image": "https://media.mesdemoisellesparis.com/20653-facebook_catalog/printemps-ete-2022-coussin-meneo-imprime.jpg",
         "nbre_commande": 4,
         "order_recency": 2,
         "order_seniority": 84,
         "product_marge": 416,
         "purchase_1d": 0,
         "purchase_30d": 3,
         "purchase_7d": 1,
         "qty_sold": 9,
         "stock": 60,
         "view_item_1d": 14,
         "view_item_30d": 265,
         "view_item_7d": 121,
         "view_item_list_1d": 574,
         "view_item_list_30d": 17316,
         "view_item_list_7d": 6680
        },
        {
         "ID": 7567,
         "Segments": "Cold",
         "_deepnote_index_column": 3,
         "add_to_cart_1d": 0,
         "add_to_cart_30d": 37,
         "add_to_cart_7d": 13,
         "begin_checkout_1d": 0,
         "begin_checkout_30d": 50,
         "begin_checkout_7d": 4,
         "image": "https://media.mesdemoisellesparis.com/20552-facebook_catalog/printemps-ete-2022-kimono-mianni-imprime.jpg",
         "nbre_commande": 20,
         "order_recency": 2,
         "order_seniority": 171,
         "product_marge": 4760,
         "purchase_1d": 0,
         "purchase_30d": 5,
         "purchase_7d": 2,
         "qty_sold": 20,
         "stock": 3,
         "view_item_1d": 45,
         "view_item_30d": 1712,
         "view_item_7d": 377,
         "view_item_list_1d": 1214,
         "view_item_list_30d": 35223,
         "view_item_list_7d": 13127
        },
        {
         "ID": 7570,
         "Segments": "Top Hot",
         "_deepnote_index_column": 4,
         "add_to_cart_1d": 0,
         "add_to_cart_30d": 44,
         "add_to_cart_7d": 13,
         "begin_checkout_1d": 0,
         "begin_checkout_30d": 54,
         "begin_checkout_7d": 14,
         "image": "https://media.mesdemoisellesparis.com/20543-facebook_catalog/printemps-ete-2022-veste-madonna-ecru.jpg",
         "nbre_commande": 34,
         "order_recency": 5,
         "order_seniority": 170,
         "product_marge": 7786,
         "purchase_1d": 0,
         "purchase_30d": 5,
         "purchase_7d": 2,
         "qty_sold": 34,
         "stock": 5,
         "view_item_1d": 14,
         "view_item_30d": 661,
         "view_item_7d": 165,
         "view_item_list_1d": 664,
         "view_item_list_30d": 19793,
         "view_item_list_7d": 7270
        },
        {
         "ID": 7571,
         "Segments": "Top Hot",
         "_deepnote_index_column": 5,
         "add_to_cart_1d": 3,
         "add_to_cart_30d": 27,
         "add_to_cart_7d": 6,
         "begin_checkout_1d": 0,
         "begin_checkout_30d": 20,
         "begin_checkout_7d": 3,
         "image": "https://media.mesdemoisellesparis.com/20570-facebook_catalog/printemps-ete-2022-short-marilu.jpg",
         "nbre_commande": 13,
         "order_recency": 9,
         "order_seniority": 170,
         "product_marge": 2873,
         "purchase_1d": 0,
         "purchase_30d": 8,
         "purchase_7d": 0,
         "qty_sold": 13,
         "stock": 40,
         "view_item_1d": 20,
         "view_item_30d": 344,
         "view_item_7d": 116,
         "view_item_list_1d": 635,
         "view_item_list_30d": 19375,
         "view_item_list_7d": 7192
        },
        {
         "ID": 7572,
         "Segments": "Top Hot",
         "_deepnote_index_column": 6,
         "add_to_cart_1d": 1,
         "add_to_cart_30d": 32,
         "add_to_cart_7d": 13,
         "begin_checkout_1d": 0,
         "begin_checkout_30d": 26,
         "begin_checkout_7d": 12,
         "image": "nan",
         "nbre_commande": 10,
         "order_recency": 8,
         "order_seniority": 98,
         "product_marge": 2210,
         "purchase_1d": 0,
         "purchase_30d": 5,
         "purchase_7d": 0,
         "qty_sold": 10,
         "stock": 38,
         "view_item_1d": 6,
         "view_item_30d": 382,
         "view_item_7d": 138,
         "view_item_list_1d": 794,
         "view_item_list_30d": 23413,
         "view_item_list_7d": 8810
        },
        {
         "ID": 7573,
         "Segments": "Top Hot",
         "_deepnote_index_column": 7,
         "add_to_cart_1d": 4,
         "add_to_cart_30d": 88,
         "add_to_cart_7d": 28,
         "begin_checkout_1d": 8,
         "begin_checkout_30d": 118,
         "begin_checkout_7d": 51,
         "image": "https://media.mesdemoisellesparis.com/20339-facebook_catalog/printemps-ete-2022-pantalon-moricone-argile.jpg",
         "nbre_commande": 43,
         "order_recency": 1,
         "order_seniority": 167,
         "product_marge": 13772,
         "purchase_1d": 1,
         "purchase_30d": 21,
         "purchase_7d": 5,
         "qty_sold": 44,
         "stock": 33,
         "view_item_1d": 64,
         "view_item_30d": 898,
         "view_item_7d": 267,
         "view_item_list_1d": 724,
         "view_item_list_30d": 23150,
         "view_item_list_7d": 8176
        },
        {
         "ID": 7574,
         "Segments": "Top Hot",
         "_deepnote_index_column": 8,
         "add_to_cart_1d": 3,
         "add_to_cart_30d": 41,
         "add_to_cart_7d": 22,
         "begin_checkout_1d": 5,
         "begin_checkout_30d": 59,
         "begin_checkout_7d": 44,
         "image": "https://media.mesdemoisellesparis.com/20350-facebook_catalog/printemps-ete-2022-pantalon-moricone-ecru.jpg",
         "nbre_commande": 18,
         "order_recency": 1,
         "order_seniority": 172,
         "product_marge": 5634,
         "purchase_1d": 2,
         "purchase_30d": 4,
         "purchase_7d": 3,
         "qty_sold": 18,
         "stock": 20,
         "view_item_1d": 39,
         "view_item_30d": 754,
         "view_item_7d": 222,
         "view_item_list_1d": 654,
         "view_item_list_30d": 22044,
         "view_item_list_7d": 7938
        },
        {
         "ID": 7575,
         "Segments": "Top Hot",
         "_deepnote_index_column": 9,
         "add_to_cart_1d": 0,
         "add_to_cart_30d": 22,
         "add_to_cart_7d": 11,
         "begin_checkout_1d": 0,
         "begin_checkout_30d": 26,
         "begin_checkout_7d": 13,
         "image": "https://media.mesdemoisellesparis.com/20577-facebook_catalog/printemps-ete-2022-manteau-mastroianni-argile.jpg",
         "nbre_commande": 18,
         "order_recency": 5,
         "order_seniority": 170,
         "product_marge": 7434,
         "purchase_1d": 0,
         "purchase_30d": 6,
         "purchase_7d": 3,
         "qty_sold": 18,
         "stock": 20,
         "view_item_1d": 17,
         "view_item_30d": 455,
         "view_item_7d": 146,
         "view_item_list_1d": 658,
         "view_item_list_30d": 20592,
         "view_item_list_7d": 7557
        }
       ]
      },
      "text/html": [
       "<div>\n",
       "<style scoped>\n",
       "    .dataframe tbody tr th:only-of-type {\n",
       "        vertical-align: middle;\n",
       "    }\n",
       "\n",
       "    .dataframe tbody tr th {\n",
       "        vertical-align: top;\n",
       "    }\n",
       "\n",
       "    .dataframe thead th {\n",
       "        text-align: right;\n",
       "    }\n",
       "</style>\n",
       "<table border=\"1\" class=\"dataframe\">\n",
       "  <thead>\n",
       "    <tr style=\"text-align: right;\">\n",
       "      <th></th>\n",
       "      <th>ID</th>\n",
       "      <th>view_item_list_1d</th>\n",
       "      <th>view_item_list_7d</th>\n",
       "      <th>view_item_list_30d</th>\n",
       "      <th>view_item_1d</th>\n",
       "      <th>view_item_7d</th>\n",
       "      <th>view_item_30d</th>\n",
       "      <th>add_to_cart_1d</th>\n",
       "      <th>add_to_cart_7d</th>\n",
       "      <th>add_to_cart_30d</th>\n",
       "      <th>...</th>\n",
       "      <th>purchase_7d</th>\n",
       "      <th>purchase_30d</th>\n",
       "      <th>qty_sold</th>\n",
       "      <th>nbre_commande</th>\n",
       "      <th>product_marge</th>\n",
       "      <th>order_recency</th>\n",
       "      <th>order_seniority</th>\n",
       "      <th>stock</th>\n",
       "      <th>Segments</th>\n",
       "      <th>image</th>\n",
       "    </tr>\n",
       "  </thead>\n",
       "  <tbody>\n",
       "    <tr>\n",
       "      <th>0</th>\n",
       "      <td>7564.0</td>\n",
       "      <td>883.0</td>\n",
       "      <td>10210.0</td>\n",
       "      <td>28088.0</td>\n",
       "      <td>30.0</td>\n",
       "      <td>238.0</td>\n",
       "      <td>699.0</td>\n",
       "      <td>3.0</td>\n",
       "      <td>29.0</td>\n",
       "      <td>79.0</td>\n",
       "      <td>...</td>\n",
       "      <td>5.0</td>\n",
       "      <td>14.0</td>\n",
       "      <td>27.0</td>\n",
       "      <td>27.0</td>\n",
       "      <td>6183.0</td>\n",
       "      <td>1.0</td>\n",
       "      <td>170.0</td>\n",
       "      <td>248.0</td>\n",
       "      <td>Top Hot</td>\n",
       "      <td>https://media.mesdemoisellesparis.com/20553-fa...</td>\n",
       "    </tr>\n",
       "    <tr>\n",
       "      <th>1</th>\n",
       "      <td>7565.0</td>\n",
       "      <td>613.0</td>\n",
       "      <td>6655.0</td>\n",
       "      <td>18279.0</td>\n",
       "      <td>23.0</td>\n",
       "      <td>151.0</td>\n",
       "      <td>341.0</td>\n",
       "      <td>1.0</td>\n",
       "      <td>10.0</td>\n",
       "      <td>19.0</td>\n",
       "      <td>...</td>\n",
       "      <td>0.0</td>\n",
       "      <td>1.0</td>\n",
       "      <td>2.0</td>\n",
       "      <td>2.0</td>\n",
       "      <td>208.0</td>\n",
       "      <td>14.0</td>\n",
       "      <td>148.0</td>\n",
       "      <td>45.0</td>\n",
       "      <td>Top Hot</td>\n",
       "      <td>https://media.mesdemoisellesparis.com/20588-fa...</td>\n",
       "    </tr>\n",
       "    <tr>\n",
       "      <th>2</th>\n",
       "      <td>7566.0</td>\n",
       "      <td>574.0</td>\n",
       "      <td>6680.0</td>\n",
       "      <td>17316.0</td>\n",
       "      <td>14.0</td>\n",
       "      <td>121.0</td>\n",
       "      <td>265.0</td>\n",
       "      <td>1.0</td>\n",
       "      <td>16.0</td>\n",
       "      <td>31.0</td>\n",
       "      <td>...</td>\n",
       "      <td>1.0</td>\n",
       "      <td>3.0</td>\n",
       "      <td>9.0</td>\n",
       "      <td>4.0</td>\n",
       "      <td>416.0</td>\n",
       "      <td>2.0</td>\n",
       "      <td>84.0</td>\n",
       "      <td>60.0</td>\n",
       "      <td>Top Hot</td>\n",
       "      <td>https://media.mesdemoisellesparis.com/20653-fa...</td>\n",
       "    </tr>\n",
       "    <tr>\n",
       "      <th>3</th>\n",
       "      <td>7567.0</td>\n",
       "      <td>1214.0</td>\n",
       "      <td>13127.0</td>\n",
       "      <td>35223.0</td>\n",
       "      <td>45.0</td>\n",
       "      <td>377.0</td>\n",
       "      <td>1712.0</td>\n",
       "      <td>0.0</td>\n",
       "      <td>13.0</td>\n",
       "      <td>37.0</td>\n",
       "      <td>...</td>\n",
       "      <td>2.0</td>\n",
       "      <td>5.0</td>\n",
       "      <td>20.0</td>\n",
       "      <td>20.0</td>\n",
       "      <td>4760.0</td>\n",
       "      <td>2.0</td>\n",
       "      <td>171.0</td>\n",
       "      <td>3.0</td>\n",
       "      <td>Cold</td>\n",
       "      <td>https://media.mesdemoisellesparis.com/20552-fa...</td>\n",
       "    </tr>\n",
       "    <tr>\n",
       "      <th>4</th>\n",
       "      <td>7570.0</td>\n",
       "      <td>664.0</td>\n",
       "      <td>7270.0</td>\n",
       "      <td>19793.0</td>\n",
       "      <td>14.0</td>\n",
       "      <td>165.0</td>\n",
       "      <td>661.0</td>\n",
       "      <td>0.0</td>\n",
       "      <td>13.0</td>\n",
       "      <td>44.0</td>\n",
       "      <td>...</td>\n",
       "      <td>2.0</td>\n",
       "      <td>5.0</td>\n",
       "      <td>34.0</td>\n",
       "      <td>34.0</td>\n",
       "      <td>7786.0</td>\n",
       "      <td>5.0</td>\n",
       "      <td>170.0</td>\n",
       "      <td>5.0</td>\n",
       "      <td>Top Hot</td>\n",
       "      <td>https://media.mesdemoisellesparis.com/20543-fa...</td>\n",
       "    </tr>\n",
       "    <tr>\n",
       "      <th>...</th>\n",
       "      <td>...</td>\n",
       "      <td>...</td>\n",
       "      <td>...</td>\n",
       "      <td>...</td>\n",
       "      <td>...</td>\n",
       "      <td>...</td>\n",
       "      <td>...</td>\n",
       "      <td>...</td>\n",
       "      <td>...</td>\n",
       "      <td>...</td>\n",
       "      <td>...</td>\n",
       "      <td>...</td>\n",
       "      <td>...</td>\n",
       "      <td>...</td>\n",
       "      <td>...</td>\n",
       "      <td>...</td>\n",
       "      <td>...</td>\n",
       "      <td>...</td>\n",
       "      <td>...</td>\n",
       "      <td>...</td>\n",
       "      <td>...</td>\n",
       "    </tr>\n",
       "    <tr>\n",
       "      <th>194</th>\n",
       "      <td>8409.0</td>\n",
       "      <td>848.0</td>\n",
       "      <td>7541.0</td>\n",
       "      <td>25577.0</td>\n",
       "      <td>30.0</td>\n",
       "      <td>233.0</td>\n",
       "      <td>626.0</td>\n",
       "      <td>0.0</td>\n",
       "      <td>10.0</td>\n",
       "      <td>24.0</td>\n",
       "      <td>...</td>\n",
       "      <td>2.0</td>\n",
       "      <td>5.0</td>\n",
       "      <td>8.0</td>\n",
       "      <td>8.0</td>\n",
       "      <td>968.0</td>\n",
       "      <td>4.0</td>\n",
       "      <td>18.0</td>\n",
       "      <td>31.0</td>\n",
       "      <td>Top Hot</td>\n",
       "      <td>NaN</td>\n",
       "    </tr>\n",
       "    <tr>\n",
       "      <th>195</th>\n",
       "      <td>8429.0</td>\n",
       "      <td>984.0</td>\n",
       "      <td>8378.0</td>\n",
       "      <td>30722.0</td>\n",
       "      <td>41.0</td>\n",
       "      <td>337.0</td>\n",
       "      <td>1414.0</td>\n",
       "      <td>2.0</td>\n",
       "      <td>9.0</td>\n",
       "      <td>34.0</td>\n",
       "      <td>...</td>\n",
       "      <td>3.0</td>\n",
       "      <td>4.0</td>\n",
       "      <td>4.0</td>\n",
       "      <td>4.0</td>\n",
       "      <td>816.0</td>\n",
       "      <td>3.0</td>\n",
       "      <td>8.0</td>\n",
       "      <td>89.0</td>\n",
       "      <td>Top Hot</td>\n",
       "      <td>NaN</td>\n",
       "    </tr>\n",
       "    <tr>\n",
       "      <th>196</th>\n",
       "      <td>8431.0</td>\n",
       "      <td>1026.0</td>\n",
       "      <td>9523.0</td>\n",
       "      <td>34023.0</td>\n",
       "      <td>69.0</td>\n",
       "      <td>534.0</td>\n",
       "      <td>2232.0</td>\n",
       "      <td>1.0</td>\n",
       "      <td>7.0</td>\n",
       "      <td>15.0</td>\n",
       "      <td>...</td>\n",
       "      <td>1.0</td>\n",
       "      <td>1.0</td>\n",
       "      <td>1.0</td>\n",
       "      <td>1.0</td>\n",
       "      <td>204.0</td>\n",
       "      <td>2.0</td>\n",
       "      <td>2.0</td>\n",
       "      <td>29.0</td>\n",
       "      <td>Top Hot</td>\n",
       "      <td>NaN</td>\n",
       "    </tr>\n",
       "    <tr>\n",
       "      <th>197</th>\n",
       "      <td>8433.0</td>\n",
       "      <td>1011.0</td>\n",
       "      <td>8751.0</td>\n",
       "      <td>31753.0</td>\n",
       "      <td>35.0</td>\n",
       "      <td>266.0</td>\n",
       "      <td>918.0</td>\n",
       "      <td>0.0</td>\n",
       "      <td>3.0</td>\n",
       "      <td>14.0</td>\n",
       "      <td>...</td>\n",
       "      <td>1.0</td>\n",
       "      <td>1.0</td>\n",
       "      <td>2.0</td>\n",
       "      <td>2.0</td>\n",
       "      <td>476.0</td>\n",
       "      <td>4.0</td>\n",
       "      <td>9.0</td>\n",
       "      <td>101.0</td>\n",
       "      <td>Top Hot</td>\n",
       "      <td>NaN</td>\n",
       "    </tr>\n",
       "    <tr>\n",
       "      <th>198</th>\n",
       "      <td>8437.0</td>\n",
       "      <td>546.0</td>\n",
       "      <td>4758.0</td>\n",
       "      <td>14579.0</td>\n",
       "      <td>27.0</td>\n",
       "      <td>216.0</td>\n",
       "      <td>674.0</td>\n",
       "      <td>1.0</td>\n",
       "      <td>12.0</td>\n",
       "      <td>17.0</td>\n",
       "      <td>...</td>\n",
       "      <td>2.0</td>\n",
       "      <td>2.0</td>\n",
       "      <td>2.0</td>\n",
       "      <td>2.0</td>\n",
       "      <td>476.0</td>\n",
       "      <td>1.0</td>\n",
       "      <td>4.0</td>\n",
       "      <td>49.0</td>\n",
       "      <td>Top Hot</td>\n",
       "      <td>NaN</td>\n",
       "    </tr>\n",
       "  </tbody>\n",
       "</table>\n",
       "<p>199 rows × 24 columns</p>\n",
       "</div>"
      ],
      "text/plain": [
       "         ID  view_item_list_1d  view_item_list_7d  view_item_list_30d  \\\n",
       "0    7564.0              883.0            10210.0             28088.0   \n",
       "1    7565.0              613.0             6655.0             18279.0   \n",
       "2    7566.0              574.0             6680.0             17316.0   \n",
       "3    7567.0             1214.0            13127.0             35223.0   \n",
       "4    7570.0              664.0             7270.0             19793.0   \n",
       "..      ...                ...                ...                 ...   \n",
       "194  8409.0              848.0             7541.0             25577.0   \n",
       "195  8429.0              984.0             8378.0             30722.0   \n",
       "196  8431.0             1026.0             9523.0             34023.0   \n",
       "197  8433.0             1011.0             8751.0             31753.0   \n",
       "198  8437.0              546.0             4758.0             14579.0   \n",
       "\n",
       "     view_item_1d  view_item_7d  view_item_30d  add_to_cart_1d  \\\n",
       "0            30.0         238.0          699.0             3.0   \n",
       "1            23.0         151.0          341.0             1.0   \n",
       "2            14.0         121.0          265.0             1.0   \n",
       "3            45.0         377.0         1712.0             0.0   \n",
       "4            14.0         165.0          661.0             0.0   \n",
       "..            ...           ...            ...             ...   \n",
       "194          30.0         233.0          626.0             0.0   \n",
       "195          41.0         337.0         1414.0             2.0   \n",
       "196          69.0         534.0         2232.0             1.0   \n",
       "197          35.0         266.0          918.0             0.0   \n",
       "198          27.0         216.0          674.0             1.0   \n",
       "\n",
       "     add_to_cart_7d  add_to_cart_30d  ...  purchase_7d  purchase_30d  \\\n",
       "0              29.0             79.0  ...          5.0          14.0   \n",
       "1              10.0             19.0  ...          0.0           1.0   \n",
       "2              16.0             31.0  ...          1.0           3.0   \n",
       "3              13.0             37.0  ...          2.0           5.0   \n",
       "4              13.0             44.0  ...          2.0           5.0   \n",
       "..              ...              ...  ...          ...           ...   \n",
       "194            10.0             24.0  ...          2.0           5.0   \n",
       "195             9.0             34.0  ...          3.0           4.0   \n",
       "196             7.0             15.0  ...          1.0           1.0   \n",
       "197             3.0             14.0  ...          1.0           1.0   \n",
       "198            12.0             17.0  ...          2.0           2.0   \n",
       "\n",
       "     qty_sold  nbre_commande  product_marge  order_recency  order_seniority  \\\n",
       "0        27.0           27.0         6183.0            1.0            170.0   \n",
       "1         2.0            2.0          208.0           14.0            148.0   \n",
       "2         9.0            4.0          416.0            2.0             84.0   \n",
       "3        20.0           20.0         4760.0            2.0            171.0   \n",
       "4        34.0           34.0         7786.0            5.0            170.0   \n",
       "..        ...            ...            ...            ...              ...   \n",
       "194       8.0            8.0          968.0            4.0             18.0   \n",
       "195       4.0            4.0          816.0            3.0              8.0   \n",
       "196       1.0            1.0          204.0            2.0              2.0   \n",
       "197       2.0            2.0          476.0            4.0              9.0   \n",
       "198       2.0            2.0          476.0            1.0              4.0   \n",
       "\n",
       "     stock  Segments                                              image  \n",
       "0    248.0   Top Hot  https://media.mesdemoisellesparis.com/20553-fa...  \n",
       "1     45.0   Top Hot  https://media.mesdemoisellesparis.com/20588-fa...  \n",
       "2     60.0   Top Hot  https://media.mesdemoisellesparis.com/20653-fa...  \n",
       "3      3.0      Cold  https://media.mesdemoisellesparis.com/20552-fa...  \n",
       "4      5.0   Top Hot  https://media.mesdemoisellesparis.com/20543-fa...  \n",
       "..     ...       ...                                                ...  \n",
       "194   31.0   Top Hot                                                NaN  \n",
       "195   89.0   Top Hot                                                NaN  \n",
       "196   29.0   Top Hot                                                NaN  \n",
       "197  101.0   Top Hot                                                NaN  \n",
       "198   49.0   Top Hot                                                NaN  \n",
       "\n",
       "[199 rows x 24 columns]"
      ]
     },
     "execution_count": 32,
     "metadata": {},
     "output_type": "execute_result"
    }
   ],
   "source": [
    "final=df.merge(base_image[['ID','URL de l\\'image 1']],how='left',on='ID')\n",
    "final=final.rename(columns={\"URL de l\\'image 1\": \"image\"})\n",
    "final"
   ]
  },
  {
   "cell_type": "code",
   "execution_count": null,
   "metadata": {
    "cell_id": "6470fd7c0741453093ecc2640808fb66",
    "deepnote_cell_height": 261,
    "deepnote_cell_type": "code",
    "deepnote_to_be_reexecuted": false,
    "execution_millis": 1364,
    "execution_start": 1656412305970,
    "source_hash": "b4085fdc",
    "tags": []
   },
   "outputs": [],
   "source": [
    "mdp_ref= pd.io.gbq.read_gbq('''\n",
    "select\n",
    "    distinct cast(a.item_id as int64) as ID,\n",
    "    b.reference\n",
    "from `mdp-paris.dbt_pipeline_prod.con_product_segmentation` a\n",
    "left join\n",
    "    `mdp-paris.dbt_pipeline_prod.stg_presta_product_performance` b\n",
    "    on a.item_id = b.product_id\n",
    "where collection = 'Collection 2022'\n",
    "\n",
    "''', project_id=credentials.project_id, dialect='standard', credentials = credentials )"
   ]
  },
  {
   "cell_type": "code",
   "execution_count": null,
   "metadata": {
    "cell_id": "baba0311306b4433a1112700831c0dd6",
    "deepnote_cell_height": 66,
    "deepnote_cell_type": "code",
    "tags": []
   },
   "outputs": [],
   "source": []
  },
  {
   "cell_type": "markdown",
   "metadata": {
    "created_in_deepnote_cell": true,
    "deepnote_cell_type": "markdown",
    "tags": []
   },
   "source": [
    "<a style='text-decoration:none;line-height:16px;display:flex;color:#5B5B62;padding:10px;justify-content:end;' href='https://deepnote.com?utm_source=created-in-deepnote-cell&projectId=08a4d91e-cdf8-4f34-a2e4-ebb5990d58fe' target=\"_blank\">\n",
    "<img alt='Created in deepnote.com' style='display:inline;max-height:16px;margin:0px;margin-right:7.5px;' src='data:image/svg+xml;base64,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' > </img>\n",
    "Created in <span style='font-weight:600;margin-left:4px;'>Deepnote</span></a>"
   ]
  }
 ],
 "metadata": {
  "deepnote": {},
  "deepnote_execution_queue": [],
  "deepnote_notebook_id": "3f52f544-6a44-4653-bad6-2471b6988f37",
  "kernelspec": {
   "display_name": "Python 3",
   "language": "python",
   "name": "python3"
  },
  "language_info": {
   "codemirror_mode": {
    "name": "ipython",
    "version": 3
   },
   "file_extension": ".py",
   "mimetype": "text/x-python",
   "name": "python",
   "nbconvert_exporter": "python",
   "pygments_lexer": "ipython3",
   "version": "3.8.3"
  }
 },
 "nbformat": 4,
 "nbformat_minor": 2
}
