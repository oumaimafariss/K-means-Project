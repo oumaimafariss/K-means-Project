{
 "cells": [
  {
   "cell_type": "markdown",
   "metadata": {
    "cell_id": "b62c8f70ed7e4f57a7bf2de0ce76665f",
    "deepnote_cell_type": "text-cell-h2",
    "formattedRanges": [],
    "is_collapsed": false,
    "tags": []
   },
   "source": [
    "##                 MDP ITEMS COLLECTION 2022"
   ]
  },
  {
   "cell_type": "code",
   "execution_count": null,
   "metadata": {
    "cell_id": "8bd8c5b10544433890d8dc83407e6400",
    "deepnote_cell_height": 351,
    "deepnote_cell_type": "code",
    "deepnote_to_be_reexecuted": false,
    "execution_millis": 1252,
    "execution_start": 1656410075662,
    "source_hash": "d79fb0da",
    "tags": []
   },
   "outputs": [],
   "source": [
    "#import packages\n",
    "#from pycaret.clustering import *\n",
    "import pandas as pd\n",
    "import pandas_gbq\n",
    "import io\n",
    "import datetime as dt\n",
    "from functools import reduce\n",
    "import requests\n",
    "import time\n",
    "from google.cloud import bigquery\n",
    "from google.oauth2 import service_account\n",
    "\n",
    "credentials = service_account.Credentials.from_service_account_file('/work/key.json')\n",
    "bq_client = bigquery.Client(credentials=credentials, project=credentials.project_id)\n",
    "\n"
   ]
  },
  {
   "cell_type": "markdown",
   "metadata": {
    "cell_id": "4f862cbd7c0b46e0a3f412cadb0a9831",
    "deepnote_cell_type": "text-cell-h3",
    "formattedRanges": [],
    "is_collapsed": false,
    "tags": []
   },
   "source": [
    "### Get data from BigQuery"
   ]
  },
  {
   "cell_type": "code",
   "execution_count": null,
   "metadata": {
    "cell_id": "5654f2d41ab54e559d380db3cea293ea",
    "deepnote_cell_height": 639,
    "deepnote_cell_type": "code",
    "deepnote_to_be_reexecuted": false,
    "execution_millis": 1649,
    "execution_start": 1656410080526,
    "source_hash": "885c9ea6",
    "tags": []
   },
   "outputs": [],
   "source": [
    "#Call MDP data\n",
    "mdp_data= pd.io.gbq.read_gbq('''\n",
    "select\n",
    "    distinct cast(a.item_id as int64) as ID,\n",
    "    a.view_item_list_1d,\n",
    "    view_item_list_7d,\n",
    "    a.view_item_list_30d,\n",
    "    a.view_item_1d,\n",
    "    a.view_item_7d,\n",
    "    a.view_item_30d,\n",
    "    a.add_to_cart_1d,\n",
    "    a.add_to_cart_7d,\n",
    "    a.add_to_cart_30d,\n",
    "    a.begin_checkout_1d,\n",
    "    a.begin_checkout_7d,\n",
    "    a.begin_checkout_30d,\n",
    "    a.purchase_1d,\n",
    "    a.purchase_7d,\n",
    "    a.purchase_30d,\n",
    "    a.qty_sold,\n",
    "    a.nbre_commande,\n",
    "    a.product_marge,\n",
    "    a.order_recency,\n",
    "    a.order_seniority,\n",
    "    cast(a.stock as int64) as stock,\n",
    "from `mdp-paris.dbt_pipeline_prod.con_product_segmentation` a\n",
    "left join\n",
    "    `mdp-paris.dbt_pipeline_prod.stg_presta_product_performance` b\n",
    "    on a.item_id = b.product_id\n",
    "where collection = 'Collection 2022'\n",
    "\n",
    "''', project_id=credentials.project_id, dialect='standard', credentials = credentials )"
   ]
  },
  {
   "cell_type": "code",
   "execution_count": null,
   "metadata": {
    "cell_id": "4dae788ed25f42af80bec84d208622a7",
    "deepnote_cell_height": 616.65625,
    "deepnote_cell_type": "code",
    "deepnote_table_loading": false,
    "deepnote_table_state": {
     "filters": [],
     "pageIndex": 0,
     "pageSize": 10,
     "sortBy": []
    },
    "deepnote_to_be_reexecuted": false,
    "execution_millis": 1949,
    "execution_start": 1656410085616,
    "source_hash": "37d6155b",
    "tags": []
   },
   "outputs": [
    {
     "data": {
      "application/vnd.deepnote.dataframe.v3+json": {
       "column_count": 22,
       "columns": [
        {
         "dtype": "Int64",
         "name": "ID",
         "stats": {
          "categories": [
           {
            "count": 1,
            "name": "7563"
           },
           {
            "count": 1,
            "name": "7564"
           },
           {
            "count": 281,
            "name": "281 others"
           }
          ],
          "nan_count": 0,
          "unique_count": 283
         }
        },
        {
         "dtype": "Int64",
         "name": "view_item_list_1d",
         "stats": {
          "categories": [
           {
            "count": 2,
            "name": "654"
           },
           {
            "count": 279,
            "name": "262 others"
           },
           {
            "count": 2,
            "name": "Missing"
           }
          ],
          "nan_count": 2,
          "unique_count": 263
         }
        },
        {
         "dtype": "Int64",
         "name": "view_item_list_7d",
         "stats": {
          "categories": [
           {
            "count": 2,
            "name": "15835"
           },
           {
            "count": 280,
            "name": "280 others"
           },
           {
            "count": 1,
            "name": "Missing"
           }
          ],
          "nan_count": 1,
          "unique_count": 281
         }
        },
        {
         "dtype": "Int64",
         "name": "view_item_list_30d",
         "stats": {
          "categories": [
           {
            "count": 2,
            "name": "66330"
           },
           {
            "count": 2,
            "name": "0"
           },
           {
            "count": 279,
            "name": "279 others"
           }
          ],
          "nan_count": 0,
          "unique_count": 281
         }
        },
        {
         "dtype": "Int64",
         "name": "view_item_1d",
         "stats": {
          "categories": [
           {
            "count": 9,
            "name": "20"
           },
           {
            "count": 272,
            "name": "120 others"
           },
           {
            "count": 2,
            "name": "Missing"
           }
          ],
          "nan_count": 2,
          "unique_count": 121
         }
        },
        {
         "dtype": "Int64",
         "name": "view_item_7d",
         "stats": {
          "categories": [
           {
            "count": 4,
            "name": "490"
           },
           {
            "count": 278,
            "name": "240 others"
           },
           {
            "count": 1,
            "name": "Missing"
           }
          ],
          "nan_count": 1,
          "unique_count": 241
         }
        },
        {
         "dtype": "Int64",
         "name": "view_item_30d",
         "stats": {
          "categories": [
           {
            "count": 3,
            "name": "550"
           },
           {
            "count": 2,
            "name": "1712"
           },
           {
            "count": 278,
            "name": "265 others"
           }
          ],
          "nan_count": 0,
          "unique_count": 267
         }
        },
        {
         "dtype": "Int64",
         "name": "add_to_cart_1d",
         "stats": {
          "categories": [
           {
            "count": 129,
            "name": "0"
           },
           {
            "count": 152,
            "name": "19 others"
           },
           {
            "count": 2,
            "name": "Missing"
           }
          ],
          "nan_count": 2,
          "unique_count": 20
         }
        },
        {
         "dtype": "Int64",
         "name": "add_to_cart_7d",
         "stats": {
          "categories": [
           {
            "count": 17,
            "name": "0"
           },
           {
            "count": 265,
            "name": "64 others"
           },
           {
            "count": 1,
            "name": "Missing"
           }
          ],
          "nan_count": 1,
          "unique_count": 65
         }
        },
        {
         "dtype": "Int64",
         "name": "add_to_cart_30d",
         "stats": {
          "categories": [
           {
            "count": 8,
            "name": "28"
           },
           {
            "count": 7,
            "name": "19"
           },
           {
            "count": 268,
            "name": "121 others"
           }
          ],
          "nan_count": 0,
          "unique_count": 123
         }
        },
        {
         "dtype": "Int64",
         "name": "begin_checkout_1d",
         "stats": {
          "categories": [
           {
            "count": 152,
            "name": "0"
           },
           {
            "count": 129,
            "name": "22 others"
           },
           {
            "count": 2,
            "name": "Missing"
           }
          ],
          "nan_count": 2,
          "unique_count": 23
         }
        },
        {
         "dtype": "Int64",
         "name": "begin_checkout_7d",
         "stats": {
          "categories": [
           {
            "count": 21,
            "name": "0"
           },
           {
            "count": 261,
            "name": "69 others"
           },
           {
            "count": 1,
            "name": "Missing"
           }
          ],
          "nan_count": 1,
          "unique_count": 70
         }
        },
        {
         "dtype": "Int64",
         "name": "begin_checkout_30d",
         "stats": {
          "categories": [
           {
            "count": 6,
            "name": "11"
           },
           {
            "count": 6,
            "name": "18"
           },
           {
            "count": 271,
            "name": "134 others"
           }
          ],
          "nan_count": 0,
          "unique_count": 136
         }
        },
        {
         "dtype": "Int64",
         "name": "purchase_1d",
         "stats": {
          "categories": [
           {
            "count": 224,
            "name": "0"
           },
           {
            "count": 57,
            "name": "4 others"
           },
           {
            "count": 2,
            "name": "Missing"
           }
          ],
          "nan_count": 2,
          "unique_count": 5
         }
        },
        {
         "dtype": "Int64",
         "name": "purchase_7d",
         "stats": {
          "categories": [
           {
            "count": 62,
            "name": "1"
           },
           {
            "count": 220,
            "name": "17 others"
           },
           {
            "count": 1,
            "name": "Missing"
           }
          ],
          "nan_count": 1,
          "unique_count": 18
         }
        },
        {
         "dtype": "Int64",
         "name": "purchase_30d",
         "stats": {
          "categories": [
           {
            "count": 26,
            "name": "4"
           },
           {
            "count": 23,
            "name": "3"
           },
           {
            "count": 234,
            "name": "32 others"
           }
          ],
          "nan_count": 0,
          "unique_count": 34
         }
        },
        {
         "dtype": "Int64",
         "name": "qty_sold",
         "stats": {
          "categories": [
           {
            "count": 11,
            "name": "4"
           },
           {
            "count": 268,
            "name": "81 others"
           },
           {
            "count": 4,
            "name": "Missing"
           }
          ],
          "nan_count": 4,
          "unique_count": 82
         }
        },
        {
         "dtype": "Int64",
         "name": "nbre_commande",
         "stats": {
          "categories": [
           {
            "count": 10,
            "name": "4"
           },
           {
            "count": 269,
            "name": "75 others"
           },
           {
            "count": 4,
            "name": "Missing"
           }
          ],
          "nan_count": 4,
          "unique_count": 76
         }
        },
        {
         "dtype": "float64",
         "name": "product_marge",
         "stats": {
          "histogram": [
           {
            "bin_end": 5113.1,
            "bin_start": 163,
            "count": 119
           },
           {
            "bin_end": 10063.2,
            "bin_start": 5113.1,
            "count": 89
           },
           {
            "bin_end": 15013.300000000001,
            "bin_start": 10063.2,
            "count": 39
           },
           {
            "bin_end": 19963.4,
            "bin_start": 15013.300000000001,
            "count": 18
           },
           {
            "bin_end": 24913.5,
            "bin_start": 19963.4,
            "count": 7
           },
           {
            "bin_end": 29863.600000000002,
            "bin_start": 24913.5,
            "count": 3
           },
           {
            "bin_end": 34813.700000000004,
            "bin_start": 29863.600000000002,
            "count": 1
           },
           {
            "bin_end": 39763.8,
            "bin_start": 34813.700000000004,
            "count": 0
           },
           {
            "bin_end": 44713.9,
            "bin_start": 39763.8,
            "count": 1
           },
           {
            "bin_end": 49664,
            "bin_start": 44713.9,
            "count": 2
           }
          ],
          "max": "49664.0",
          "min": "163.0",
          "nan_count": 4,
          "unique_count": 257
         }
        },
        {
         "dtype": "Int64",
         "name": "order_recency",
         "stats": {
          "categories": [
           {
            "count": 63,
            "name": "1"
           },
           {
            "count": 216,
            "name": "27 others"
           },
           {
            "count": 4,
            "name": "Missing"
           }
          ],
          "nan_count": 4,
          "unique_count": 28
         }
        },
        {
         "dtype": "Int64",
         "name": "order_seniority",
         "stats": {
          "categories": [
           {
            "count": 20,
            "name": "19"
           },
           {
            "count": 259,
            "name": "86 others"
           },
           {
            "count": 4,
            "name": "Missing"
           }
          ],
          "nan_count": 4,
          "unique_count": 87
         }
        },
        {
         "dtype": "Int64",
         "name": "stock",
         "stats": {
          "categories": [
           {
            "count": 12,
            "name": "1"
           },
           {
            "count": 191,
            "name": "75 others"
           },
           {
            "count": 80,
            "name": "Missing"
           }
          ],
          "nan_count": 80,
          "unique_count": 76
         }
        },
        {
         "dtype": "int64",
         "name": "_deepnote_index_column"
        }
       ],
       "row_count": 283,
       "rows": [
        {
         "ID": 7563,
         "_deepnote_index_column": 0,
         "add_to_cart_1d": 0,
         "add_to_cart_30d": 13,
         "add_to_cart_7d": 3,
         "begin_checkout_1d": 0,
         "begin_checkout_30d": 27,
         "begin_checkout_7d": 2,
         "nbre_commande": 46,
         "order_recency": 6,
         "order_seniority": 172,
         "product_marge": 19411,
         "purchase_1d": 0,
         "purchase_30d": 5,
         "purchase_7d": 1,
         "qty_sold": 47,
         "stock": "<NA>",
         "view_item_1d": 31,
         "view_item_30d": 1623,
         "view_item_7d": 289,
         "view_item_list_1d": 2210,
         "view_item_list_30d": 71341,
         "view_item_list_7d": 21532
        },
        {
         "ID": 7564,
         "_deepnote_index_column": 1,
         "add_to_cart_1d": 3,
         "add_to_cart_30d": 79,
         "add_to_cart_7d": 29,
         "begin_checkout_1d": 7,
         "begin_checkout_30d": 101,
         "begin_checkout_7d": 28,
         "nbre_commande": 27,
         "order_recency": 1,
         "order_seniority": 170,
         "product_marge": 6183,
         "purchase_1d": 1,
         "purchase_30d": 14,
         "purchase_7d": 5,
         "qty_sold": 27,
         "stock": "248",
         "view_item_1d": 30,
         "view_item_30d": 699,
         "view_item_7d": 238,
         "view_item_list_1d": 883,
         "view_item_list_30d": 28088,
         "view_item_list_7d": 10210
        },
        {
         "ID": 7565,
         "_deepnote_index_column": 2,
         "add_to_cart_1d": 1,
         "add_to_cart_30d": 19,
         "add_to_cart_7d": 10,
         "begin_checkout_1d": 1,
         "begin_checkout_30d": 11,
         "begin_checkout_7d": 9,
         "nbre_commande": 2,
         "order_recency": 14,
         "order_seniority": 148,
         "product_marge": 208,
         "purchase_1d": 0,
         "purchase_30d": 1,
         "purchase_7d": 0,
         "qty_sold": 2,
         "stock": "45",
         "view_item_1d": 23,
         "view_item_30d": 341,
         "view_item_7d": 151,
         "view_item_list_1d": 613,
         "view_item_list_30d": 18279,
         "view_item_list_7d": 6655
        },
        {
         "ID": 7566,
         "_deepnote_index_column": 3,
         "add_to_cart_1d": 1,
         "add_to_cart_30d": 31,
         "add_to_cart_7d": 16,
         "begin_checkout_1d": 0,
         "begin_checkout_30d": 18,
         "begin_checkout_7d": 10,
         "nbre_commande": 4,
         "order_recency": 2,
         "order_seniority": 84,
         "product_marge": 416,
         "purchase_1d": 0,
         "purchase_30d": 3,
         "purchase_7d": 1,
         "qty_sold": 9,
         "stock": "60",
         "view_item_1d": 14,
         "view_item_30d": 265,
         "view_item_7d": 121,
         "view_item_list_1d": 574,
         "view_item_list_30d": 17316,
         "view_item_list_7d": 6680
        },
        {
         "ID": 7567,
         "_deepnote_index_column": 4,
         "add_to_cart_1d": 0,
         "add_to_cart_30d": 37,
         "add_to_cart_7d": 13,
         "begin_checkout_1d": 0,
         "begin_checkout_30d": 50,
         "begin_checkout_7d": 4,
         "nbre_commande": 20,
         "order_recency": 2,
         "order_seniority": 171,
         "product_marge": 4760,
         "purchase_1d": 0,
         "purchase_30d": 5,
         "purchase_7d": 2,
         "qty_sold": 20,
         "stock": "3",
         "view_item_1d": 45,
         "view_item_30d": 1712,
         "view_item_7d": 377,
         "view_item_list_1d": 1214,
         "view_item_list_30d": 35223,
         "view_item_list_7d": 13127
        },
        {
         "ID": 7568,
         "_deepnote_index_column": 5,
         "add_to_cart_1d": 0,
         "add_to_cart_30d": 6,
         "add_to_cart_7d": 5,
         "begin_checkout_1d": 0,
         "begin_checkout_30d": 7,
         "begin_checkout_7d": 5,
         "nbre_commande": 72,
         "order_recency": 4,
         "order_seniority": 167,
         "product_marge": 23688,
         "purchase_1d": 0,
         "purchase_30d": 3,
         "purchase_7d": 2,
         "qty_sold": 72,
         "stock": "<NA>",
         "view_item_1d": 120,
         "view_item_30d": 2902,
         "view_item_7d": 957,
         "view_item_list_1d": 1240,
         "view_item_list_30d": 40323,
         "view_item_list_7d": 13602
        },
        {
         "ID": 7569,
         "_deepnote_index_column": 6,
         "add_to_cart_1d": 0,
         "add_to_cart_30d": 2,
         "add_to_cart_7d": 0,
         "begin_checkout_1d": 0,
         "begin_checkout_30d": 6,
         "begin_checkout_7d": 0,
         "nbre_commande": 5,
         "order_recency": 29,
         "order_seniority": 61,
         "product_marge": 1145,
         "purchase_1d": 0,
         "purchase_30d": 1,
         "purchase_7d": 0,
         "qty_sold": 5,
         "stock": "<NA>",
         "view_item_1d": 6,
         "view_item_30d": 379,
         "view_item_7d": 94,
         "view_item_list_1d": 28,
         "view_item_list_30d": 629,
         "view_item_list_7d": 207
        },
        {
         "ID": 7570,
         "_deepnote_index_column": 7,
         "add_to_cart_1d": 0,
         "add_to_cart_30d": 44,
         "add_to_cart_7d": 13,
         "begin_checkout_1d": 0,
         "begin_checkout_30d": 54,
         "begin_checkout_7d": 14,
         "nbre_commande": 34,
         "order_recency": 5,
         "order_seniority": 170,
         "product_marge": 7786,
         "purchase_1d": 0,
         "purchase_30d": 5,
         "purchase_7d": 2,
         "qty_sold": 34,
         "stock": "5",
         "view_item_1d": 14,
         "view_item_30d": 661,
         "view_item_7d": 165,
         "view_item_list_1d": 664,
         "view_item_list_30d": 19793,
         "view_item_list_7d": 7270
        },
        {
         "ID": 7571,
         "_deepnote_index_column": 8,
         "add_to_cart_1d": 3,
         "add_to_cart_30d": 27,
         "add_to_cart_7d": 6,
         "begin_checkout_1d": 0,
         "begin_checkout_30d": 20,
         "begin_checkout_7d": 3,
         "nbre_commande": 13,
         "order_recency": 9,
         "order_seniority": 170,
         "product_marge": 2873,
         "purchase_1d": 0,
         "purchase_30d": 8,
         "purchase_7d": 0,
         "qty_sold": 13,
         "stock": "40",
         "view_item_1d": 20,
         "view_item_30d": 344,
         "view_item_7d": 116,
         "view_item_list_1d": 635,
         "view_item_list_30d": 19375,
         "view_item_list_7d": 7192
        },
        {
         "ID": 7572,
         "_deepnote_index_column": 9,
         "add_to_cart_1d": 1,
         "add_to_cart_30d": 32,
         "add_to_cart_7d": 13,
         "begin_checkout_1d": 0,
         "begin_checkout_30d": 26,
         "begin_checkout_7d": 12,
         "nbre_commande": 10,
         "order_recency": 8,
         "order_seniority": 98,
         "product_marge": 2210,
         "purchase_1d": 0,
         "purchase_30d": 5,
         "purchase_7d": 0,
         "qty_sold": 10,
         "stock": "38",
         "view_item_1d": 6,
         "view_item_30d": 382,
         "view_item_7d": 138,
         "view_item_list_1d": 794,
         "view_item_list_30d": 23413,
         "view_item_list_7d": 8810
        }
       ]
      },
      "text/html": [
       "<div>\n",
       "<style scoped>\n",
       "    .dataframe tbody tr th:only-of-type {\n",
       "        vertical-align: middle;\n",
       "    }\n",
       "\n",
       "    .dataframe tbody tr th {\n",
       "        vertical-align: top;\n",
       "    }\n",
       "\n",
       "    .dataframe thead th {\n",
       "        text-align: right;\n",
       "    }\n",
       "</style>\n",
       "<table border=\"1\" class=\"dataframe\">\n",
       "  <thead>\n",
       "    <tr style=\"text-align: right;\">\n",
       "      <th></th>\n",
       "      <th>ID</th>\n",
       "      <th>view_item_list_1d</th>\n",
       "      <th>view_item_list_7d</th>\n",
       "      <th>view_item_list_30d</th>\n",
       "      <th>view_item_1d</th>\n",
       "      <th>view_item_7d</th>\n",
       "      <th>view_item_30d</th>\n",
       "      <th>add_to_cart_1d</th>\n",
       "      <th>add_to_cart_7d</th>\n",
       "      <th>add_to_cart_30d</th>\n",
       "      <th>...</th>\n",
       "      <th>begin_checkout_30d</th>\n",
       "      <th>purchase_1d</th>\n",
       "      <th>purchase_7d</th>\n",
       "      <th>purchase_30d</th>\n",
       "      <th>qty_sold</th>\n",
       "      <th>nbre_commande</th>\n",
       "      <th>product_marge</th>\n",
       "      <th>order_recency</th>\n",
       "      <th>order_seniority</th>\n",
       "      <th>stock</th>\n",
       "    </tr>\n",
       "  </thead>\n",
       "  <tbody>\n",
       "    <tr>\n",
       "      <th>0</th>\n",
       "      <td>7563</td>\n",
       "      <td>2210</td>\n",
       "      <td>21532</td>\n",
       "      <td>71341</td>\n",
       "      <td>31</td>\n",
       "      <td>289</td>\n",
       "      <td>1623</td>\n",
       "      <td>0</td>\n",
       "      <td>3</td>\n",
       "      <td>13</td>\n",
       "      <td>...</td>\n",
       "      <td>27</td>\n",
       "      <td>0</td>\n",
       "      <td>1</td>\n",
       "      <td>5</td>\n",
       "      <td>47</td>\n",
       "      <td>46</td>\n",
       "      <td>19411.0</td>\n",
       "      <td>6</td>\n",
       "      <td>172</td>\n",
       "      <td>&lt;NA&gt;</td>\n",
       "    </tr>\n",
       "    <tr>\n",
       "      <th>1</th>\n",
       "      <td>7564</td>\n",
       "      <td>883</td>\n",
       "      <td>10210</td>\n",
       "      <td>28088</td>\n",
       "      <td>30</td>\n",
       "      <td>238</td>\n",
       "      <td>699</td>\n",
       "      <td>3</td>\n",
       "      <td>29</td>\n",
       "      <td>79</td>\n",
       "      <td>...</td>\n",
       "      <td>101</td>\n",
       "      <td>1</td>\n",
       "      <td>5</td>\n",
       "      <td>14</td>\n",
       "      <td>27</td>\n",
       "      <td>27</td>\n",
       "      <td>6183.0</td>\n",
       "      <td>1</td>\n",
       "      <td>170</td>\n",
       "      <td>248</td>\n",
       "    </tr>\n",
       "    <tr>\n",
       "      <th>2</th>\n",
       "      <td>7565</td>\n",
       "      <td>613</td>\n",
       "      <td>6655</td>\n",
       "      <td>18279</td>\n",
       "      <td>23</td>\n",
       "      <td>151</td>\n",
       "      <td>341</td>\n",
       "      <td>1</td>\n",
       "      <td>10</td>\n",
       "      <td>19</td>\n",
       "      <td>...</td>\n",
       "      <td>11</td>\n",
       "      <td>0</td>\n",
       "      <td>0</td>\n",
       "      <td>1</td>\n",
       "      <td>2</td>\n",
       "      <td>2</td>\n",
       "      <td>208.0</td>\n",
       "      <td>14</td>\n",
       "      <td>148</td>\n",
       "      <td>45</td>\n",
       "    </tr>\n",
       "    <tr>\n",
       "      <th>3</th>\n",
       "      <td>7566</td>\n",
       "      <td>574</td>\n",
       "      <td>6680</td>\n",
       "      <td>17316</td>\n",
       "      <td>14</td>\n",
       "      <td>121</td>\n",
       "      <td>265</td>\n",
       "      <td>1</td>\n",
       "      <td>16</td>\n",
       "      <td>31</td>\n",
       "      <td>...</td>\n",
       "      <td>18</td>\n",
       "      <td>0</td>\n",
       "      <td>1</td>\n",
       "      <td>3</td>\n",
       "      <td>9</td>\n",
       "      <td>4</td>\n",
       "      <td>416.0</td>\n",
       "      <td>2</td>\n",
       "      <td>84</td>\n",
       "      <td>60</td>\n",
       "    </tr>\n",
       "    <tr>\n",
       "      <th>4</th>\n",
       "      <td>7567</td>\n",
       "      <td>1214</td>\n",
       "      <td>13127</td>\n",
       "      <td>35223</td>\n",
       "      <td>45</td>\n",
       "      <td>377</td>\n",
       "      <td>1712</td>\n",
       "      <td>0</td>\n",
       "      <td>13</td>\n",
       "      <td>37</td>\n",
       "      <td>...</td>\n",
       "      <td>50</td>\n",
       "      <td>0</td>\n",
       "      <td>2</td>\n",
       "      <td>5</td>\n",
       "      <td>20</td>\n",
       "      <td>20</td>\n",
       "      <td>4760.0</td>\n",
       "      <td>2</td>\n",
       "      <td>171</td>\n",
       "      <td>3</td>\n",
       "    </tr>\n",
       "    <tr>\n",
       "      <th>...</th>\n",
       "      <td>...</td>\n",
       "      <td>...</td>\n",
       "      <td>...</td>\n",
       "      <td>...</td>\n",
       "      <td>...</td>\n",
       "      <td>...</td>\n",
       "      <td>...</td>\n",
       "      <td>...</td>\n",
       "      <td>...</td>\n",
       "      <td>...</td>\n",
       "      <td>...</td>\n",
       "      <td>...</td>\n",
       "      <td>...</td>\n",
       "      <td>...</td>\n",
       "      <td>...</td>\n",
       "      <td>...</td>\n",
       "      <td>...</td>\n",
       "      <td>...</td>\n",
       "      <td>...</td>\n",
       "      <td>...</td>\n",
       "      <td>...</td>\n",
       "    </tr>\n",
       "    <tr>\n",
       "      <th>278</th>\n",
       "      <td>8431</td>\n",
       "      <td>1026</td>\n",
       "      <td>9523</td>\n",
       "      <td>34023</td>\n",
       "      <td>69</td>\n",
       "      <td>534</td>\n",
       "      <td>2232</td>\n",
       "      <td>1</td>\n",
       "      <td>7</td>\n",
       "      <td>15</td>\n",
       "      <td>...</td>\n",
       "      <td>16</td>\n",
       "      <td>0</td>\n",
       "      <td>1</td>\n",
       "      <td>1</td>\n",
       "      <td>1</td>\n",
       "      <td>1</td>\n",
       "      <td>204.0</td>\n",
       "      <td>2</td>\n",
       "      <td>2</td>\n",
       "      <td>29</td>\n",
       "    </tr>\n",
       "    <tr>\n",
       "      <th>279</th>\n",
       "      <td>8433</td>\n",
       "      <td>1011</td>\n",
       "      <td>8751</td>\n",
       "      <td>31753</td>\n",
       "      <td>35</td>\n",
       "      <td>266</td>\n",
       "      <td>918</td>\n",
       "      <td>0</td>\n",
       "      <td>3</td>\n",
       "      <td>14</td>\n",
       "      <td>...</td>\n",
       "      <td>9</td>\n",
       "      <td>0</td>\n",
       "      <td>1</td>\n",
       "      <td>1</td>\n",
       "      <td>2</td>\n",
       "      <td>2</td>\n",
       "      <td>476.0</td>\n",
       "      <td>4</td>\n",
       "      <td>9</td>\n",
       "      <td>101</td>\n",
       "    </tr>\n",
       "    <tr>\n",
       "      <th>280</th>\n",
       "      <td>8437</td>\n",
       "      <td>546</td>\n",
       "      <td>4758</td>\n",
       "      <td>14579</td>\n",
       "      <td>27</td>\n",
       "      <td>216</td>\n",
       "      <td>674</td>\n",
       "      <td>1</td>\n",
       "      <td>12</td>\n",
       "      <td>17</td>\n",
       "      <td>...</td>\n",
       "      <td>10</td>\n",
       "      <td>1</td>\n",
       "      <td>2</td>\n",
       "      <td>2</td>\n",
       "      <td>2</td>\n",
       "      <td>2</td>\n",
       "      <td>476.0</td>\n",
       "      <td>1</td>\n",
       "      <td>4</td>\n",
       "      <td>49</td>\n",
       "    </tr>\n",
       "    <tr>\n",
       "      <th>281</th>\n",
       "      <td>8445</td>\n",
       "      <td>&lt;NA&gt;</td>\n",
       "      <td>0</td>\n",
       "      <td>0</td>\n",
       "      <td>&lt;NA&gt;</td>\n",
       "      <td>8</td>\n",
       "      <td>8</td>\n",
       "      <td>&lt;NA&gt;</td>\n",
       "      <td>0</td>\n",
       "      <td>0</td>\n",
       "      <td>...</td>\n",
       "      <td>0</td>\n",
       "      <td>&lt;NA&gt;</td>\n",
       "      <td>0</td>\n",
       "      <td>0</td>\n",
       "      <td>&lt;NA&gt;</td>\n",
       "      <td>&lt;NA&gt;</td>\n",
       "      <td>NaN</td>\n",
       "      <td>&lt;NA&gt;</td>\n",
       "      <td>&lt;NA&gt;</td>\n",
       "      <td>101</td>\n",
       "    </tr>\n",
       "    <tr>\n",
       "      <th>282</th>\n",
       "      <td>8447</td>\n",
       "      <td>1031</td>\n",
       "      <td>8696</td>\n",
       "      <td>29552</td>\n",
       "      <td>28</td>\n",
       "      <td>189</td>\n",
       "      <td>668</td>\n",
       "      <td>0</td>\n",
       "      <td>10</td>\n",
       "      <td>28</td>\n",
       "      <td>...</td>\n",
       "      <td>41</td>\n",
       "      <td>0</td>\n",
       "      <td>0</td>\n",
       "      <td>1</td>\n",
       "      <td>5</td>\n",
       "      <td>5</td>\n",
       "      <td>1190.0</td>\n",
       "      <td>4</td>\n",
       "      <td>19</td>\n",
       "      <td>&lt;NA&gt;</td>\n",
       "    </tr>\n",
       "  </tbody>\n",
       "</table>\n",
       "<p>283 rows × 22 columns</p>\n",
       "</div>"
      ],
      "text/plain": [
       "       ID  view_item_list_1d  view_item_list_7d  view_item_list_30d  \\\n",
       "0    7563               2210              21532               71341   \n",
       "1    7564                883              10210               28088   \n",
       "2    7565                613               6655               18279   \n",
       "3    7566                574               6680               17316   \n",
       "4    7567               1214              13127               35223   \n",
       "..    ...                ...                ...                 ...   \n",
       "278  8431               1026               9523               34023   \n",
       "279  8433               1011               8751               31753   \n",
       "280  8437                546               4758               14579   \n",
       "281  8445               <NA>                  0                   0   \n",
       "282  8447               1031               8696               29552   \n",
       "\n",
       "     view_item_1d  view_item_7d  view_item_30d  add_to_cart_1d  \\\n",
       "0              31           289           1623               0   \n",
       "1              30           238            699               3   \n",
       "2              23           151            341               1   \n",
       "3              14           121            265               1   \n",
       "4              45           377           1712               0   \n",
       "..            ...           ...            ...             ...   \n",
       "278            69           534           2232               1   \n",
       "279            35           266            918               0   \n",
       "280            27           216            674               1   \n",
       "281          <NA>             8              8            <NA>   \n",
       "282            28           189            668               0   \n",
       "\n",
       "     add_to_cart_7d  add_to_cart_30d  ...  begin_checkout_30d  purchase_1d  \\\n",
       "0                 3               13  ...                  27            0   \n",
       "1                29               79  ...                 101            1   \n",
       "2                10               19  ...                  11            0   \n",
       "3                16               31  ...                  18            0   \n",
       "4                13               37  ...                  50            0   \n",
       "..              ...              ...  ...                 ...          ...   \n",
       "278               7               15  ...                  16            0   \n",
       "279               3               14  ...                   9            0   \n",
       "280              12               17  ...                  10            1   \n",
       "281               0                0  ...                   0         <NA>   \n",
       "282              10               28  ...                  41            0   \n",
       "\n",
       "     purchase_7d  purchase_30d  qty_sold  nbre_commande  product_marge  \\\n",
       "0              1             5        47             46        19411.0   \n",
       "1              5            14        27             27         6183.0   \n",
       "2              0             1         2              2          208.0   \n",
       "3              1             3         9              4          416.0   \n",
       "4              2             5        20             20         4760.0   \n",
       "..           ...           ...       ...            ...            ...   \n",
       "278            1             1         1              1          204.0   \n",
       "279            1             1         2              2          476.0   \n",
       "280            2             2         2              2          476.0   \n",
       "281            0             0      <NA>           <NA>            NaN   \n",
       "282            0             1         5              5         1190.0   \n",
       "\n",
       "     order_recency  order_seniority  stock  \n",
       "0                6              172   <NA>  \n",
       "1                1              170    248  \n",
       "2               14              148     45  \n",
       "3                2               84     60  \n",
       "4                2              171      3  \n",
       "..             ...              ...    ...  \n",
       "278              2                2     29  \n",
       "279              4                9    101  \n",
       "280              1                4     49  \n",
       "281           <NA>             <NA>    101  \n",
       "282              4               19   <NA>  \n",
       "\n",
       "[283 rows x 22 columns]"
      ]
     },
     "execution_count": 7,
     "metadata": {},
     "output_type": "execute_result"
    }
   ],
   "source": [
    "mdp_data"
   ]
  },
  {
   "cell_type": "markdown",
   "metadata": {
    "cell_id": "f902e7f9cbae4a27958f19e660cfac79",
    "deepnote_cell_type": "text-cell-h3",
    "formattedRanges": [],
    "is_collapsed": false,
    "tags": []
   },
   "source": [
    "### Data processing"
   ]
  },
  {
   "cell_type": "code",
   "execution_count": null,
   "metadata": {
    "cell_id": "0c073560e6614155b88f63773335a9cc",
    "deepnote_cell_height": 744,
    "deepnote_cell_type": "code",
    "deepnote_output_heights": [
     611
    ],
    "deepnote_to_be_reexecuted": false,
    "execution_millis": 10098,
    "execution_start": 1654074830083,
    "source_hash": "25584202",
    "tags": []
   },
   "outputs": [
    {
     "data": {
      "text/html": [
       "<style  type=\"text/css\" >\n",
       "#T_ca9a9_row2_col1,#T_ca9a9_row21_col1{\n",
       "            background-color:  lightgreen;\n",
       "        }</style><table id=\"T_ca9a9_\" ><thead>    <tr>        <th class=\"blank level0\" ></th>        <th class=\"col_heading level0 col0\" >Description</th>        <th class=\"col_heading level0 col1\" >Value</th>    </tr></thead><tbody>\n",
       "                <tr>\n",
       "                        <th id=\"T_ca9a9_level0_row0\" class=\"row_heading level0 row0\" >0</th>\n",
       "                        <td id=\"T_ca9a9_row0_col0\" class=\"data row0 col0\" >session_id</td>\n",
       "                        <td id=\"T_ca9a9_row0_col1\" class=\"data row0 col1\" >123</td>\n",
       "            </tr>\n",
       "            <tr>\n",
       "                        <th id=\"T_ca9a9_level0_row1\" class=\"row_heading level0 row1\" >1</th>\n",
       "                        <td id=\"T_ca9a9_row1_col0\" class=\"data row1 col0\" >Original Data</td>\n",
       "                        <td id=\"T_ca9a9_row1_col1\" class=\"data row1 col1\" >(241, 22)</td>\n",
       "            </tr>\n",
       "            <tr>\n",
       "                        <th id=\"T_ca9a9_level0_row2\" class=\"row_heading level0 row2\" >2</th>\n",
       "                        <td id=\"T_ca9a9_row2_col0\" class=\"data row2 col0\" >Missing Values</td>\n",
       "                        <td id=\"T_ca9a9_row2_col1\" class=\"data row2 col1\" >True</td>\n",
       "            </tr>\n",
       "            <tr>\n",
       "                        <th id=\"T_ca9a9_level0_row3\" class=\"row_heading level0 row3\" >3</th>\n",
       "                        <td id=\"T_ca9a9_row3_col0\" class=\"data row3 col0\" >Numeric Features</td>\n",
       "                        <td id=\"T_ca9a9_row3_col1\" class=\"data row3 col1\" >21</td>\n",
       "            </tr>\n",
       "            <tr>\n",
       "                        <th id=\"T_ca9a9_level0_row4\" class=\"row_heading level0 row4\" >4</th>\n",
       "                        <td id=\"T_ca9a9_row4_col0\" class=\"data row4 col0\" >Categorical Features</td>\n",
       "                        <td id=\"T_ca9a9_row4_col1\" class=\"data row4 col1\" >0</td>\n",
       "            </tr>\n",
       "            <tr>\n",
       "                        <th id=\"T_ca9a9_level0_row5\" class=\"row_heading level0 row5\" >5</th>\n",
       "                        <td id=\"T_ca9a9_row5_col0\" class=\"data row5 col0\" >Ordinal Features</td>\n",
       "                        <td id=\"T_ca9a9_row5_col1\" class=\"data row5 col1\" >False</td>\n",
       "            </tr>\n",
       "            <tr>\n",
       "                        <th id=\"T_ca9a9_level0_row6\" class=\"row_heading level0 row6\" >6</th>\n",
       "                        <td id=\"T_ca9a9_row6_col0\" class=\"data row6 col0\" >High Cardinality Features</td>\n",
       "                        <td id=\"T_ca9a9_row6_col1\" class=\"data row6 col1\" >False</td>\n",
       "            </tr>\n",
       "            <tr>\n",
       "                        <th id=\"T_ca9a9_level0_row7\" class=\"row_heading level0 row7\" >7</th>\n",
       "                        <td id=\"T_ca9a9_row7_col0\" class=\"data row7 col0\" >High Cardinality Method</td>\n",
       "                        <td id=\"T_ca9a9_row7_col1\" class=\"data row7 col1\" >None</td>\n",
       "            </tr>\n",
       "            <tr>\n",
       "                        <th id=\"T_ca9a9_level0_row8\" class=\"row_heading level0 row8\" >8</th>\n",
       "                        <td id=\"T_ca9a9_row8_col0\" class=\"data row8 col0\" >Transformed Data</td>\n",
       "                        <td id=\"T_ca9a9_row8_col1\" class=\"data row8 col1\" >(241, 21)</td>\n",
       "            </tr>\n",
       "            <tr>\n",
       "                        <th id=\"T_ca9a9_level0_row9\" class=\"row_heading level0 row9\" >9</th>\n",
       "                        <td id=\"T_ca9a9_row9_col0\" class=\"data row9 col0\" >CPU Jobs</td>\n",
       "                        <td id=\"T_ca9a9_row9_col1\" class=\"data row9 col1\" >-1</td>\n",
       "            </tr>\n",
       "            <tr>\n",
       "                        <th id=\"T_ca9a9_level0_row10\" class=\"row_heading level0 row10\" >10</th>\n",
       "                        <td id=\"T_ca9a9_row10_col0\" class=\"data row10 col0\" >Use GPU</td>\n",
       "                        <td id=\"T_ca9a9_row10_col1\" class=\"data row10 col1\" >False</td>\n",
       "            </tr>\n",
       "            <tr>\n",
       "                        <th id=\"T_ca9a9_level0_row11\" class=\"row_heading level0 row11\" >11</th>\n",
       "                        <td id=\"T_ca9a9_row11_col0\" class=\"data row11 col0\" >Log Experiment</td>\n",
       "                        <td id=\"T_ca9a9_row11_col1\" class=\"data row11 col1\" >False</td>\n",
       "            </tr>\n",
       "            <tr>\n",
       "                        <th id=\"T_ca9a9_level0_row12\" class=\"row_heading level0 row12\" >12</th>\n",
       "                        <td id=\"T_ca9a9_row12_col0\" class=\"data row12 col0\" >Experiment Name</td>\n",
       "                        <td id=\"T_ca9a9_row12_col1\" class=\"data row12 col1\" >cluster-default-name</td>\n",
       "            </tr>\n",
       "            <tr>\n",
       "                        <th id=\"T_ca9a9_level0_row13\" class=\"row_heading level0 row13\" >13</th>\n",
       "                        <td id=\"T_ca9a9_row13_col0\" class=\"data row13 col0\" >USI</td>\n",
       "                        <td id=\"T_ca9a9_row13_col1\" class=\"data row13 col1\" >6236</td>\n",
       "            </tr>\n",
       "            <tr>\n",
       "                        <th id=\"T_ca9a9_level0_row14\" class=\"row_heading level0 row14\" >14</th>\n",
       "                        <td id=\"T_ca9a9_row14_col0\" class=\"data row14 col0\" >Imputation Type</td>\n",
       "                        <td id=\"T_ca9a9_row14_col1\" class=\"data row14 col1\" >simple</td>\n",
       "            </tr>\n",
       "            <tr>\n",
       "                        <th id=\"T_ca9a9_level0_row15\" class=\"row_heading level0 row15\" >15</th>\n",
       "                        <td id=\"T_ca9a9_row15_col0\" class=\"data row15 col0\" >Iterative Imputation Iteration</td>\n",
       "                        <td id=\"T_ca9a9_row15_col1\" class=\"data row15 col1\" >None</td>\n",
       "            </tr>\n",
       "            <tr>\n",
       "                        <th id=\"T_ca9a9_level0_row16\" class=\"row_heading level0 row16\" >16</th>\n",
       "                        <td id=\"T_ca9a9_row16_col0\" class=\"data row16 col0\" >Numeric Imputer</td>\n",
       "                        <td id=\"T_ca9a9_row16_col1\" class=\"data row16 col1\" >mean</td>\n",
       "            </tr>\n",
       "            <tr>\n",
       "                        <th id=\"T_ca9a9_level0_row17\" class=\"row_heading level0 row17\" >17</th>\n",
       "                        <td id=\"T_ca9a9_row17_col0\" class=\"data row17 col0\" >Iterative Imputation Numeric Model</td>\n",
       "                        <td id=\"T_ca9a9_row17_col1\" class=\"data row17 col1\" >None</td>\n",
       "            </tr>\n",
       "            <tr>\n",
       "                        <th id=\"T_ca9a9_level0_row18\" class=\"row_heading level0 row18\" >18</th>\n",
       "                        <td id=\"T_ca9a9_row18_col0\" class=\"data row18 col0\" >Categorical Imputer</td>\n",
       "                        <td id=\"T_ca9a9_row18_col1\" class=\"data row18 col1\" >mode</td>\n",
       "            </tr>\n",
       "            <tr>\n",
       "                        <th id=\"T_ca9a9_level0_row19\" class=\"row_heading level0 row19\" >19</th>\n",
       "                        <td id=\"T_ca9a9_row19_col0\" class=\"data row19 col0\" >Iterative Imputation Categorical Model</td>\n",
       "                        <td id=\"T_ca9a9_row19_col1\" class=\"data row19 col1\" >None</td>\n",
       "            </tr>\n",
       "            <tr>\n",
       "                        <th id=\"T_ca9a9_level0_row20\" class=\"row_heading level0 row20\" >20</th>\n",
       "                        <td id=\"T_ca9a9_row20_col0\" class=\"data row20 col0\" >Unknown Categoricals Handling</td>\n",
       "                        <td id=\"T_ca9a9_row20_col1\" class=\"data row20 col1\" >least_frequent</td>\n",
       "            </tr>\n",
       "            <tr>\n",
       "                        <th id=\"T_ca9a9_level0_row21\" class=\"row_heading level0 row21\" >21</th>\n",
       "                        <td id=\"T_ca9a9_row21_col0\" class=\"data row21 col0\" >Normalize</td>\n",
       "                        <td id=\"T_ca9a9_row21_col1\" class=\"data row21 col1\" >True</td>\n",
       "            </tr>\n",
       "            <tr>\n",
       "                        <th id=\"T_ca9a9_level0_row22\" class=\"row_heading level0 row22\" >22</th>\n",
       "                        <td id=\"T_ca9a9_row22_col0\" class=\"data row22 col0\" >Normalize Method</td>\n",
       "                        <td id=\"T_ca9a9_row22_col1\" class=\"data row22 col1\" >zscore</td>\n",
       "            </tr>\n",
       "            <tr>\n",
       "                        <th id=\"T_ca9a9_level0_row23\" class=\"row_heading level0 row23\" >23</th>\n",
       "                        <td id=\"T_ca9a9_row23_col0\" class=\"data row23 col0\" >Transformation</td>\n",
       "                        <td id=\"T_ca9a9_row23_col1\" class=\"data row23 col1\" >False</td>\n",
       "            </tr>\n",
       "            <tr>\n",
       "                        <th id=\"T_ca9a9_level0_row24\" class=\"row_heading level0 row24\" >24</th>\n",
       "                        <td id=\"T_ca9a9_row24_col0\" class=\"data row24 col0\" >Transformation Method</td>\n",
       "                        <td id=\"T_ca9a9_row24_col1\" class=\"data row24 col1\" >None</td>\n",
       "            </tr>\n",
       "            <tr>\n",
       "                        <th id=\"T_ca9a9_level0_row25\" class=\"row_heading level0 row25\" >25</th>\n",
       "                        <td id=\"T_ca9a9_row25_col0\" class=\"data row25 col0\" >PCA</td>\n",
       "                        <td id=\"T_ca9a9_row25_col1\" class=\"data row25 col1\" >False</td>\n",
       "            </tr>\n",
       "            <tr>\n",
       "                        <th id=\"T_ca9a9_level0_row26\" class=\"row_heading level0 row26\" >26</th>\n",
       "                        <td id=\"T_ca9a9_row26_col0\" class=\"data row26 col0\" >PCA Method</td>\n",
       "                        <td id=\"T_ca9a9_row26_col1\" class=\"data row26 col1\" >None</td>\n",
       "            </tr>\n",
       "            <tr>\n",
       "                        <th id=\"T_ca9a9_level0_row27\" class=\"row_heading level0 row27\" >27</th>\n",
       "                        <td id=\"T_ca9a9_row27_col0\" class=\"data row27 col0\" >PCA Components</td>\n",
       "                        <td id=\"T_ca9a9_row27_col1\" class=\"data row27 col1\" >None</td>\n",
       "            </tr>\n",
       "            <tr>\n",
       "                        <th id=\"T_ca9a9_level0_row28\" class=\"row_heading level0 row28\" >28</th>\n",
       "                        <td id=\"T_ca9a9_row28_col0\" class=\"data row28 col0\" >Ignore Low Variance</td>\n",
       "                        <td id=\"T_ca9a9_row28_col1\" class=\"data row28 col1\" >False</td>\n",
       "            </tr>\n",
       "            <tr>\n",
       "                        <th id=\"T_ca9a9_level0_row29\" class=\"row_heading level0 row29\" >29</th>\n",
       "                        <td id=\"T_ca9a9_row29_col0\" class=\"data row29 col0\" >Combine Rare Levels</td>\n",
       "                        <td id=\"T_ca9a9_row29_col1\" class=\"data row29 col1\" >False</td>\n",
       "            </tr>\n",
       "            <tr>\n",
       "                        <th id=\"T_ca9a9_level0_row30\" class=\"row_heading level0 row30\" >30</th>\n",
       "                        <td id=\"T_ca9a9_row30_col0\" class=\"data row30 col0\" >Rare Level Threshold</td>\n",
       "                        <td id=\"T_ca9a9_row30_col1\" class=\"data row30 col1\" >None</td>\n",
       "            </tr>\n",
       "            <tr>\n",
       "                        <th id=\"T_ca9a9_level0_row31\" class=\"row_heading level0 row31\" >31</th>\n",
       "                        <td id=\"T_ca9a9_row31_col0\" class=\"data row31 col0\" >Numeric Binning</td>\n",
       "                        <td id=\"T_ca9a9_row31_col1\" class=\"data row31 col1\" >False</td>\n",
       "            </tr>\n",
       "            <tr>\n",
       "                        <th id=\"T_ca9a9_level0_row32\" class=\"row_heading level0 row32\" >32</th>\n",
       "                        <td id=\"T_ca9a9_row32_col0\" class=\"data row32 col0\" >Remove Outliers</td>\n",
       "                        <td id=\"T_ca9a9_row32_col1\" class=\"data row32 col1\" >False</td>\n",
       "            </tr>\n",
       "            <tr>\n",
       "                        <th id=\"T_ca9a9_level0_row33\" class=\"row_heading level0 row33\" >33</th>\n",
       "                        <td id=\"T_ca9a9_row33_col0\" class=\"data row33 col0\" >Outliers Threshold</td>\n",
       "                        <td id=\"T_ca9a9_row33_col1\" class=\"data row33 col1\" >None</td>\n",
       "            </tr>\n",
       "            <tr>\n",
       "                        <th id=\"T_ca9a9_level0_row34\" class=\"row_heading level0 row34\" >34</th>\n",
       "                        <td id=\"T_ca9a9_row34_col0\" class=\"data row34 col0\" >Remove Multicollinearity</td>\n",
       "                        <td id=\"T_ca9a9_row34_col1\" class=\"data row34 col1\" >False</td>\n",
       "            </tr>\n",
       "            <tr>\n",
       "                        <th id=\"T_ca9a9_level0_row35\" class=\"row_heading level0 row35\" >35</th>\n",
       "                        <td id=\"T_ca9a9_row35_col0\" class=\"data row35 col0\" >Multicollinearity Threshold</td>\n",
       "                        <td id=\"T_ca9a9_row35_col1\" class=\"data row35 col1\" >None</td>\n",
       "            </tr>\n",
       "            <tr>\n",
       "                        <th id=\"T_ca9a9_level0_row36\" class=\"row_heading level0 row36\" >36</th>\n",
       "                        <td id=\"T_ca9a9_row36_col0\" class=\"data row36 col0\" >Remove Perfect Collinearity</td>\n",
       "                        <td id=\"T_ca9a9_row36_col1\" class=\"data row36 col1\" >False</td>\n",
       "            </tr>\n",
       "            <tr>\n",
       "                        <th id=\"T_ca9a9_level0_row37\" class=\"row_heading level0 row37\" >37</th>\n",
       "                        <td id=\"T_ca9a9_row37_col0\" class=\"data row37 col0\" >Clustering</td>\n",
       "                        <td id=\"T_ca9a9_row37_col1\" class=\"data row37 col1\" >False</td>\n",
       "            </tr>\n",
       "            <tr>\n",
       "                        <th id=\"T_ca9a9_level0_row38\" class=\"row_heading level0 row38\" >38</th>\n",
       "                        <td id=\"T_ca9a9_row38_col0\" class=\"data row38 col0\" >Clustering Iteration</td>\n",
       "                        <td id=\"T_ca9a9_row38_col1\" class=\"data row38 col1\" >None</td>\n",
       "            </tr>\n",
       "            <tr>\n",
       "                        <th id=\"T_ca9a9_level0_row39\" class=\"row_heading level0 row39\" >39</th>\n",
       "                        <td id=\"T_ca9a9_row39_col0\" class=\"data row39 col0\" >Polynomial Features</td>\n",
       "                        <td id=\"T_ca9a9_row39_col1\" class=\"data row39 col1\" >False</td>\n",
       "            </tr>\n",
       "            <tr>\n",
       "                        <th id=\"T_ca9a9_level0_row40\" class=\"row_heading level0 row40\" >40</th>\n",
       "                        <td id=\"T_ca9a9_row40_col0\" class=\"data row40 col0\" >Polynomial Degree</td>\n",
       "                        <td id=\"T_ca9a9_row40_col1\" class=\"data row40 col1\" >None</td>\n",
       "            </tr>\n",
       "            <tr>\n",
       "                        <th id=\"T_ca9a9_level0_row41\" class=\"row_heading level0 row41\" >41</th>\n",
       "                        <td id=\"T_ca9a9_row41_col0\" class=\"data row41 col0\" >Trignometry Features</td>\n",
       "                        <td id=\"T_ca9a9_row41_col1\" class=\"data row41 col1\" >False</td>\n",
       "            </tr>\n",
       "            <tr>\n",
       "                        <th id=\"T_ca9a9_level0_row42\" class=\"row_heading level0 row42\" >42</th>\n",
       "                        <td id=\"T_ca9a9_row42_col0\" class=\"data row42 col0\" >Polynomial Threshold</td>\n",
       "                        <td id=\"T_ca9a9_row42_col1\" class=\"data row42 col1\" >None</td>\n",
       "            </tr>\n",
       "            <tr>\n",
       "                        <th id=\"T_ca9a9_level0_row43\" class=\"row_heading level0 row43\" >43</th>\n",
       "                        <td id=\"T_ca9a9_row43_col0\" class=\"data row43 col0\" >Group Features</td>\n",
       "                        <td id=\"T_ca9a9_row43_col1\" class=\"data row43 col1\" >False</td>\n",
       "            </tr>\n",
       "            <tr>\n",
       "                        <th id=\"T_ca9a9_level0_row44\" class=\"row_heading level0 row44\" >44</th>\n",
       "                        <td id=\"T_ca9a9_row44_col0\" class=\"data row44 col0\" >Feature Selection</td>\n",
       "                        <td id=\"T_ca9a9_row44_col1\" class=\"data row44 col1\" >False</td>\n",
       "            </tr>\n",
       "            <tr>\n",
       "                        <th id=\"T_ca9a9_level0_row45\" class=\"row_heading level0 row45\" >45</th>\n",
       "                        <td id=\"T_ca9a9_row45_col0\" class=\"data row45 col0\" >Feature Selection Method</td>\n",
       "                        <td id=\"T_ca9a9_row45_col1\" class=\"data row45 col1\" >classic</td>\n",
       "            </tr>\n",
       "            <tr>\n",
       "                        <th id=\"T_ca9a9_level0_row46\" class=\"row_heading level0 row46\" >46</th>\n",
       "                        <td id=\"T_ca9a9_row46_col0\" class=\"data row46 col0\" >Features Selection Threshold</td>\n",
       "                        <td id=\"T_ca9a9_row46_col1\" class=\"data row46 col1\" >None</td>\n",
       "            </tr>\n",
       "            <tr>\n",
       "                        <th id=\"T_ca9a9_level0_row47\" class=\"row_heading level0 row47\" >47</th>\n",
       "                        <td id=\"T_ca9a9_row47_col0\" class=\"data row47 col0\" >Feature Interaction</td>\n",
       "                        <td id=\"T_ca9a9_row47_col1\" class=\"data row47 col1\" >False</td>\n",
       "            </tr>\n",
       "            <tr>\n",
       "                        <th id=\"T_ca9a9_level0_row48\" class=\"row_heading level0 row48\" >48</th>\n",
       "                        <td id=\"T_ca9a9_row48_col0\" class=\"data row48 col0\" >Feature Ratio</td>\n",
       "                        <td id=\"T_ca9a9_row48_col1\" class=\"data row48 col1\" >False</td>\n",
       "            </tr>\n",
       "            <tr>\n",
       "                        <th id=\"T_ca9a9_level0_row49\" class=\"row_heading level0 row49\" >49</th>\n",
       "                        <td id=\"T_ca9a9_row49_col0\" class=\"data row49 col0\" >Interaction Threshold</td>\n",
       "                        <td id=\"T_ca9a9_row49_col1\" class=\"data row49 col1\" >None</td>\n",
       "            </tr>\n",
       "    </tbody></table>"
      ],
      "text/plain": [
       "<pandas.io.formats.style.Styler at 0x7ff7544032d0>"
      ]
     },
     "metadata": {},
     "output_type": "display_data"
    }
   ],
   "source": [
    "#Data preprocessing\n",
    "s= setup(mdp_data,session_id=123,ignore_features=['ID'],numeric_features=['add_to_cart_1d','begin_checkout_1d','purchase_1d','purchase_7d'], normalize=True)\n"
   ]
  },
  {
   "cell_type": "code",
   "execution_count": null,
   "metadata": {
    "cell_id": "8683ee4667f8443d884614b63f35bbb4",
    "deepnote_cell_height": 279.59375,
    "deepnote_cell_type": "code",
    "deepnote_output_heights": [
     61
    ],
    "deepnote_to_be_reexecuted": false,
    "execution_millis": 1264,
    "execution_start": 1654074904508,
    "owner_user_id": "41d3a4ee-4cc9-4ef0-b275-00e08b1a8409",
    "source_hash": "c0ec2539",
    "tags": []
   },
   "outputs": [
    {
     "data": {
      "text/html": [
       "<div>\n",
       "<style scoped>\n",
       "    .dataframe tbody tr th:only-of-type {\n",
       "        vertical-align: middle;\n",
       "    }\n",
       "\n",
       "    .dataframe tbody tr th {\n",
       "        vertical-align: top;\n",
       "    }\n",
       "\n",
       "    .dataframe thead th {\n",
       "        text-align: right;\n",
       "    }\n",
       "</style>\n",
       "<table border=\"1\" class=\"dataframe\">\n",
       "  <thead>\n",
       "    <tr style=\"text-align: right;\">\n",
       "      <th></th>\n",
       "      <th>Silhouette</th>\n",
       "      <th>Calinski-Harabasz</th>\n",
       "      <th>Davies-Bouldin</th>\n",
       "      <th>Homogeneity</th>\n",
       "      <th>Rand Index</th>\n",
       "      <th>Completeness</th>\n",
       "    </tr>\n",
       "  </thead>\n",
       "  <tbody>\n",
       "    <tr>\n",
       "      <th>0</th>\n",
       "      <td>0.2188</td>\n",
       "      <td>79.7326</td>\n",
       "      <td>1.468</td>\n",
       "      <td>0</td>\n",
       "      <td>0</td>\n",
       "      <td>0</td>\n",
       "    </tr>\n",
       "  </tbody>\n",
       "</table>\n",
       "</div>"
      ],
      "text/plain": [
       "   Silhouette  Calinski-Harabasz  Davies-Bouldin  Homogeneity  Rand Index  \\\n",
       "0      0.2188            79.7326           1.468            0           0   \n",
       "\n",
       "   Completeness  \n",
       "0             0  "
      ]
     },
     "metadata": {},
     "output_type": "display_data"
    },
    {
     "name": "stdout",
     "output_type": "stream",
     "text": [
      "KMeans(algorithm='auto', copy_x=True, init='k-means++', max_iter=300,\n",
      "       n_clusters=4, n_init=10, n_jobs=-1, precompute_distances='deprecated',\n",
      "       random_state=123, tol=0.0001, verbose=0)\n"
     ]
    }
   ],
   "source": [
    "#generate analytical model\n",
    "kmeans=create_model('kmeans',num_clusters=4)\n",
    "print(kmeans)"
   ]
  },
  {
   "cell_type": "code",
   "execution_count": null,
   "metadata": {
    "cell_id": "46e214a073eb4209aada929cec07fdaf",
    "deepnote_cell_height": 447.65625,
    "deepnote_cell_type": "code",
    "deepnote_to_be_reexecuted": false,
    "execution_millis": 42,
    "execution_start": 1654074912329,
    "source_hash": "f12b12d4",
    "tags": []
   },
   "outputs": [
    {
     "data": {
      "application/vnd.deepnote.dataframe.v3+json": {
       "column_count": 23,
       "columns": [
        {
         "dtype": "Int64",
         "name": "ID",
         "stats": {
          "categories": [
           {
            "count": 1,
            "name": "7563"
           },
           {
            "count": 1,
            "name": "7564"
           },
           {
            "count": 3,
            "name": "3 others"
           }
          ],
          "nan_count": 0,
          "unique_count": 5
         }
        },
        {
         "dtype": "Int64",
         "name": "view_item_list_1d",
         "stats": {
          "categories": [
           {
            "count": 1,
            "name": "2068"
           },
           {
            "count": 1,
            "name": "691"
           },
           {
            "count": 3,
            "name": "3 others"
           }
          ],
          "nan_count": 0,
          "unique_count": 5
         }
        },
        {
         "dtype": "Int64",
         "name": "view_item_list_7d",
         "stats": {
          "categories": [
           {
            "count": 1,
            "name": "15669"
           },
           {
            "count": 1,
            "name": "4457"
           },
           {
            "count": 3,
            "name": "3 others"
           }
          ],
          "nan_count": 0,
          "unique_count": 5
         }
        },
        {
         "dtype": "Int64",
         "name": "view_item_list_30d",
         "stats": {
          "categories": [
           {
            "count": 1,
            "name": "65850"
           },
           {
            "count": 1,
            "name": "23470"
           },
           {
            "count": 3,
            "name": "3 others"
           }
          ],
          "nan_count": 0,
          "unique_count": 5
         }
        },
        {
         "dtype": "Int64",
         "name": "view_item_1d",
         "stats": {
          "categories": [
           {
            "count": 1,
            "name": "78"
           },
           {
            "count": 1,
            "name": "37"
           },
           {
            "count": 3,
            "name": "3 others"
           }
          ],
          "nan_count": 0,
          "unique_count": 5
         }
        },
        {
         "dtype": "Int64",
         "name": "view_item_7d",
         "stats": {
          "categories": [
           {
            "count": 1,
            "name": "625"
           },
           {
            "count": 1,
            "name": "118"
           },
           {
            "count": 3,
            "name": "3 others"
           }
          ],
          "nan_count": 0,
          "unique_count": 5
         }
        },
        {
         "dtype": "Int64",
         "name": "view_item_30d",
         "stats": {
          "categories": [
           {
            "count": 1,
            "name": "5215"
           },
           {
            "count": 1,
            "name": "393"
           },
           {
            "count": 3,
            "name": "3 others"
           }
          ],
          "nan_count": 0,
          "unique_count": 5
         }
        },
        {
         "dtype": "Int64",
         "name": "add_to_cart_1d",
         "stats": {
          "categories": [
           {
            "count": 3,
            "name": "0"
           },
           {
            "count": 2,
            "name": "1"
           }
          ],
          "nan_count": 0,
          "unique_count": 2
         }
        },
        {
         "dtype": "Int64",
         "name": "add_to_cart_7d",
         "stats": {
          "categories": [
           {
            "count": 2,
            "name": "1"
           },
           {
            "count": 2,
            "name": "0"
           },
           {
            "count": 1,
            "name": "4"
           }
          ],
          "nan_count": 0,
          "unique_count": 3
         }
        },
        {
         "dtype": "Int64",
         "name": "add_to_cart_30d",
         "stats": {
          "categories": [
           {
            "count": 1,
            "name": "44"
           },
           {
            "count": 1,
            "name": "7"
           },
           {
            "count": 3,
            "name": "3 others"
           }
          ],
          "nan_count": 0,
          "unique_count": 5
         }
        },
        {
         "dtype": "Int64",
         "name": "begin_checkout_1d",
         "stats": {
          "categories": [
           {
            "count": 5,
            "name": "0"
           }
          ],
          "nan_count": 0,
          "unique_count": 1
         }
        },
        {
         "dtype": "Int64",
         "name": "begin_checkout_7d",
         "stats": {
          "categories": [
           {
            "count": 3,
            "name": "0"
           },
           {
            "count": 1,
            "name": "2"
           },
           {
            "count": 1,
            "name": "4"
           }
          ],
          "nan_count": 0,
          "unique_count": 3
         }
        },
        {
         "dtype": "Int64",
         "name": "begin_checkout_30d",
         "stats": {
          "categories": [
           {
            "count": 2,
            "name": "0"
           },
           {
            "count": 1,
            "name": "31"
           },
           {
            "count": 2,
            "name": "2 others"
           }
          ],
          "nan_count": 0,
          "unique_count": 4
         }
        },
        {
         "dtype": "Int64",
         "name": "purchase_1d",
         "stats": {
          "categories": [
           {
            "count": 5,
            "name": "0"
           }
          ],
          "nan_count": 0,
          "unique_count": 1
         }
        },
        {
         "dtype": "Int64",
         "name": "purchase_7d",
         "stats": {
          "categories": [
           {
            "count": 4,
            "name": "0"
           },
           {
            "count": 1,
            "name": "1"
           }
          ],
          "nan_count": 0,
          "unique_count": 2
         }
        },
        {
         "dtype": "Int64",
         "name": "purchase_30d",
         "stats": {
          "categories": [
           {
            "count": 3,
            "name": "0"
           },
           {
            "count": 1,
            "name": "4"
           },
           {
            "count": 1,
            "name": "3"
           }
          ],
          "nan_count": 0,
          "unique_count": 3
         }
        },
        {
         "dtype": "Int64",
         "name": "qty_sold",
         "stats": {
          "categories": [
           {
            "count": 1,
            "name": "42"
           },
           {
            "count": 1,
            "name": "9"
           },
           {
            "count": 3,
            "name": "3 others"
           }
          ],
          "nan_count": 0,
          "unique_count": 5
         }
        },
        {
         "dtype": "Int64",
         "name": "nbre_commande",
         "stats": {
          "categories": [
           {
            "count": 2,
            "name": "1"
           },
           {
            "count": 1,
            "name": "42"
           },
           {
            "count": 2,
            "name": "2 others"
           }
          ],
          "nan_count": 0,
          "unique_count": 4
         }
        },
        {
         "dtype": "float64",
         "name": "product_marge",
         "stats": {
          "histogram": [
           {
            "bin_end": 1828.2,
            "bin_start": 104,
            "count": 2
           },
           {
            "bin_end": 3552.4,
            "bin_start": 1828.2,
            "count": 1
           },
           {
            "bin_end": 5276.6,
            "bin_start": 3552.4,
            "count": 1
           },
           {
            "bin_end": 7000.8,
            "bin_start": 5276.6,
            "count": 0
           },
           {
            "bin_end": 8725,
            "bin_start": 7000.8,
            "count": 0
           },
           {
            "bin_end": 10449.2,
            "bin_start": 8725,
            "count": 0
           },
           {
            "bin_end": 12173.4,
            "bin_start": 10449.2,
            "count": 0
           },
           {
            "bin_end": 13897.6,
            "bin_start": 12173.4,
            "count": 0
           },
           {
            "bin_end": 15621.800000000001,
            "bin_start": 13897.6,
            "count": 0
           },
           {
            "bin_end": 17346,
            "bin_start": 15621.800000000001,
            "count": 1
           }
          ],
          "max": "17346.0",
          "min": "104.0",
          "nan_count": 0,
          "unique_count": 4
         }
        },
        {
         "dtype": "Int64",
         "name": "order_recency",
         "stats": {
          "categories": [
           {
            "count": 1,
            "name": "4"
           },
           {
            "count": 1,
            "name": "52"
           },
           {
            "count": 3,
            "name": "3 others"
           }
          ],
          "nan_count": 0,
          "unique_count": 5
         }
        },
        {
         "dtype": "Int64",
         "name": "order_seniority",
         "stats": {
          "categories": [
           {
            "count": 1,
            "name": "145"
           },
           {
            "count": 1,
            "name": "143"
           },
           {
            "count": 3,
            "name": "3 others"
           }
          ],
          "nan_count": 0,
          "unique_count": 5
         }
        },
        {
         "dtype": "Int64",
         "name": "stock",
         "stats": {
          "categories": [
           {
            "count": 1,
            "name": "275"
           },
           {
            "count": 3,
            "name": "3 others"
           },
           {
            "count": 1,
            "name": "Missing"
           }
          ],
          "nan_count": 1,
          "unique_count": 4
         }
        },
        {
         "dtype": "object",
         "name": "Cluster",
         "stats": {
          "categories": [
           {
            "count": 4,
            "name": "Cluster 1"
           },
           {
            "count": 1,
            "name": "Cluster 2"
           }
          ],
          "nan_count": 0,
          "unique_count": 2
         }
        },
        {
         "dtype": "int64",
         "name": "_deepnote_index_column"
        }
       ],
       "row_count": 5,
       "rows": [
        {
         "Cluster": "Cluster 2",
         "ID": 7563,
         "_deepnote_index_column": 0,
         "add_to_cart_1d": 0,
         "add_to_cart_30d": 44,
         "add_to_cart_7d": 1,
         "begin_checkout_1d": 0,
         "begin_checkout_30d": 31,
         "begin_checkout_7d": 2,
         "nbre_commande": 42,
         "order_recency": 4,
         "order_seniority": 145,
         "product_marge": 17346,
         "purchase_1d": 0,
         "purchase_30d": 4,
         "purchase_7d": 1,
         "qty_sold": 42,
         "stock": "<NA>",
         "view_item_1d": 78,
         "view_item_30d": 5215,
         "view_item_7d": 625,
         "view_item_list_1d": 2068,
         "view_item_list_30d": 65850,
         "view_item_list_7d": 15669
        },
        {
         "Cluster": "Cluster 1",
         "ID": 7564,
         "_deepnote_index_column": 1,
         "add_to_cart_1d": 1,
         "add_to_cart_30d": 7,
         "add_to_cart_7d": 1,
         "begin_checkout_1d": 0,
         "begin_checkout_30d": 3,
         "begin_checkout_7d": 0,
         "nbre_commande": 9,
         "order_recency": 52,
         "order_seniority": 143,
         "product_marge": 2061,
         "purchase_1d": 0,
         "purchase_30d": 0,
         "purchase_7d": 0,
         "qty_sold": 9,
         "stock": "275",
         "view_item_1d": 37,
         "view_item_30d": 393,
         "view_item_7d": 118,
         "view_item_list_1d": 691,
         "view_item_list_30d": 23470,
         "view_item_list_7d": 4457
        },
        {
         "Cluster": "Cluster 1",
         "ID": 7565,
         "_deepnote_index_column": 2,
         "add_to_cart_1d": 0,
         "add_to_cart_30d": 2,
         "add_to_cart_7d": 0,
         "begin_checkout_1d": 0,
         "begin_checkout_30d": 0,
         "begin_checkout_7d": 0,
         "nbre_commande": 1,
         "order_recency": 121,
         "order_seniority": 121,
         "product_marge": 104,
         "purchase_1d": 0,
         "purchase_30d": 0,
         "purchase_7d": 0,
         "qty_sold": 1,
         "stock": "43",
         "view_item_1d": 10,
         "view_item_30d": 294,
         "view_item_7d": 72,
         "view_item_list_1d": 470,
         "view_item_list_30d": 15126,
         "view_item_list_7d": 2851
        },
        {
         "Cluster": "Cluster 1",
         "ID": 7566,
         "_deepnote_index_column": 3,
         "add_to_cart_1d": 0,
         "add_to_cart_30d": 1,
         "add_to_cart_7d": 0,
         "begin_checkout_1d": 0,
         "begin_checkout_30d": 0,
         "begin_checkout_7d": 0,
         "nbre_commande": 1,
         "order_recency": 57,
         "order_seniority": 57,
         "product_marge": 104,
         "purchase_1d": 0,
         "purchase_30d": 0,
         "purchase_7d": 0,
         "qty_sold": 2,
         "stock": "72",
         "view_item_1d": 5,
         "view_item_30d": 131,
         "view_item_7d": 27,
         "view_item_list_1d": 456,
         "view_item_list_30d": 16646,
         "view_item_list_7d": 3004
        },
        {
         "Cluster": "Cluster 1",
         "ID": 7567,
         "_deepnote_index_column": 4,
         "add_to_cart_1d": 1,
         "add_to_cart_30d": 33,
         "add_to_cart_7d": 4,
         "begin_checkout_1d": 0,
         "begin_checkout_30d": 27,
         "begin_checkout_7d": 4,
         "nbre_commande": 15,
         "order_recency": 19,
         "order_seniority": 144,
         "product_marge": 3570,
         "purchase_1d": 0,
         "purchase_30d": 3,
         "purchase_7d": 0,
         "qty_sold": 15,
         "stock": "12",
         "view_item_1d": 68,
         "view_item_30d": 5137,
         "view_item_7d": 689,
         "view_item_list_1d": 832,
         "view_item_list_30d": 27711,
         "view_item_list_7d": 5234
        }
       ]
      },
      "text/html": [
       "<div>\n",
       "<style scoped>\n",
       "    .dataframe tbody tr th:only-of-type {\n",
       "        vertical-align: middle;\n",
       "    }\n",
       "\n",
       "    .dataframe tbody tr th {\n",
       "        vertical-align: top;\n",
       "    }\n",
       "\n",
       "    .dataframe thead th {\n",
       "        text-align: right;\n",
       "    }\n",
       "</style>\n",
       "<table border=\"1\" class=\"dataframe\">\n",
       "  <thead>\n",
       "    <tr style=\"text-align: right;\">\n",
       "      <th></th>\n",
       "      <th>ID</th>\n",
       "      <th>view_item_list_1d</th>\n",
       "      <th>view_item_list_7d</th>\n",
       "      <th>view_item_list_30d</th>\n",
       "      <th>view_item_1d</th>\n",
       "      <th>view_item_7d</th>\n",
       "      <th>view_item_30d</th>\n",
       "      <th>add_to_cart_1d</th>\n",
       "      <th>add_to_cart_7d</th>\n",
       "      <th>add_to_cart_30d</th>\n",
       "      <th>...</th>\n",
       "      <th>purchase_1d</th>\n",
       "      <th>purchase_7d</th>\n",
       "      <th>purchase_30d</th>\n",
       "      <th>qty_sold</th>\n",
       "      <th>nbre_commande</th>\n",
       "      <th>product_marge</th>\n",
       "      <th>order_recency</th>\n",
       "      <th>order_seniority</th>\n",
       "      <th>stock</th>\n",
       "      <th>Cluster</th>\n",
       "    </tr>\n",
       "  </thead>\n",
       "  <tbody>\n",
       "    <tr>\n",
       "      <th>0</th>\n",
       "      <td>7563</td>\n",
       "      <td>2068</td>\n",
       "      <td>15669</td>\n",
       "      <td>65850</td>\n",
       "      <td>78</td>\n",
       "      <td>625</td>\n",
       "      <td>5215</td>\n",
       "      <td>0</td>\n",
       "      <td>1</td>\n",
       "      <td>44</td>\n",
       "      <td>...</td>\n",
       "      <td>0</td>\n",
       "      <td>1</td>\n",
       "      <td>4</td>\n",
       "      <td>42</td>\n",
       "      <td>42</td>\n",
       "      <td>17346.0</td>\n",
       "      <td>4</td>\n",
       "      <td>145</td>\n",
       "      <td>&lt;NA&gt;</td>\n",
       "      <td>Cluster 2</td>\n",
       "    </tr>\n",
       "    <tr>\n",
       "      <th>1</th>\n",
       "      <td>7564</td>\n",
       "      <td>691</td>\n",
       "      <td>4457</td>\n",
       "      <td>23470</td>\n",
       "      <td>37</td>\n",
       "      <td>118</td>\n",
       "      <td>393</td>\n",
       "      <td>1</td>\n",
       "      <td>1</td>\n",
       "      <td>7</td>\n",
       "      <td>...</td>\n",
       "      <td>0</td>\n",
       "      <td>0</td>\n",
       "      <td>0</td>\n",
       "      <td>9</td>\n",
       "      <td>9</td>\n",
       "      <td>2061.0</td>\n",
       "      <td>52</td>\n",
       "      <td>143</td>\n",
       "      <td>275</td>\n",
       "      <td>Cluster 1</td>\n",
       "    </tr>\n",
       "    <tr>\n",
       "      <th>2</th>\n",
       "      <td>7565</td>\n",
       "      <td>470</td>\n",
       "      <td>2851</td>\n",
       "      <td>15126</td>\n",
       "      <td>10</td>\n",
       "      <td>72</td>\n",
       "      <td>294</td>\n",
       "      <td>0</td>\n",
       "      <td>0</td>\n",
       "      <td>2</td>\n",
       "      <td>...</td>\n",
       "      <td>0</td>\n",
       "      <td>0</td>\n",
       "      <td>0</td>\n",
       "      <td>1</td>\n",
       "      <td>1</td>\n",
       "      <td>104.0</td>\n",
       "      <td>121</td>\n",
       "      <td>121</td>\n",
       "      <td>43</td>\n",
       "      <td>Cluster 1</td>\n",
       "    </tr>\n",
       "    <tr>\n",
       "      <th>3</th>\n",
       "      <td>7566</td>\n",
       "      <td>456</td>\n",
       "      <td>3004</td>\n",
       "      <td>16646</td>\n",
       "      <td>5</td>\n",
       "      <td>27</td>\n",
       "      <td>131</td>\n",
       "      <td>0</td>\n",
       "      <td>0</td>\n",
       "      <td>1</td>\n",
       "      <td>...</td>\n",
       "      <td>0</td>\n",
       "      <td>0</td>\n",
       "      <td>0</td>\n",
       "      <td>2</td>\n",
       "      <td>1</td>\n",
       "      <td>104.0</td>\n",
       "      <td>57</td>\n",
       "      <td>57</td>\n",
       "      <td>72</td>\n",
       "      <td>Cluster 1</td>\n",
       "    </tr>\n",
       "    <tr>\n",
       "      <th>4</th>\n",
       "      <td>7567</td>\n",
       "      <td>832</td>\n",
       "      <td>5234</td>\n",
       "      <td>27711</td>\n",
       "      <td>68</td>\n",
       "      <td>689</td>\n",
       "      <td>5137</td>\n",
       "      <td>1</td>\n",
       "      <td>4</td>\n",
       "      <td>33</td>\n",
       "      <td>...</td>\n",
       "      <td>0</td>\n",
       "      <td>0</td>\n",
       "      <td>3</td>\n",
       "      <td>15</td>\n",
       "      <td>15</td>\n",
       "      <td>3570.0</td>\n",
       "      <td>19</td>\n",
       "      <td>144</td>\n",
       "      <td>12</td>\n",
       "      <td>Cluster 1</td>\n",
       "    </tr>\n",
       "  </tbody>\n",
       "</table>\n",
       "<p>5 rows × 23 columns</p>\n",
       "</div>"
      ],
      "text/plain": [
       "     ID  view_item_list_1d  view_item_list_7d  view_item_list_30d  \\\n",
       "0  7563               2068              15669               65850   \n",
       "1  7564                691               4457               23470   \n",
       "2  7565                470               2851               15126   \n",
       "3  7566                456               3004               16646   \n",
       "4  7567                832               5234               27711   \n",
       "\n",
       "   view_item_1d  view_item_7d  view_item_30d  add_to_cart_1d  add_to_cart_7d  \\\n",
       "0            78           625           5215               0               1   \n",
       "1            37           118            393               1               1   \n",
       "2            10            72            294               0               0   \n",
       "3             5            27            131               0               0   \n",
       "4            68           689           5137               1               4   \n",
       "\n",
       "   add_to_cart_30d  ...  purchase_1d  purchase_7d  purchase_30d  qty_sold  \\\n",
       "0               44  ...            0            1             4        42   \n",
       "1                7  ...            0            0             0         9   \n",
       "2                2  ...            0            0             0         1   \n",
       "3                1  ...            0            0             0         2   \n",
       "4               33  ...            0            0             3        15   \n",
       "\n",
       "   nbre_commande  product_marge  order_recency  order_seniority  stock  \\\n",
       "0             42        17346.0              4              145   <NA>   \n",
       "1              9         2061.0             52              143    275   \n",
       "2              1          104.0            121              121     43   \n",
       "3              1          104.0             57               57     72   \n",
       "4             15         3570.0             19              144     12   \n",
       "\n",
       "     Cluster  \n",
       "0  Cluster 2  \n",
       "1  Cluster 1  \n",
       "2  Cluster 1  \n",
       "3  Cluster 1  \n",
       "4  Cluster 1  \n",
       "\n",
       "[5 rows x 23 columns]"
      ]
     },
     "execution_count": 20,
     "metadata": {},
     "output_type": "execute_result"
    }
   ],
   "source": [
    "#model assignment\n",
    "kmean_results = assign_model(kmeans)\n",
    "kmean_results.head()"
   ]
  },
  {
   "cell_type": "markdown",
   "metadata": {
    "cell_id": "9e3bdd3ac04c4ee4bab72bafc578de6c",
    "deepnote_cell_type": "text-cell-h3",
    "formattedRanges": [],
    "is_collapsed": false,
    "tags": []
   },
   "source": [
    "### Model Vizualisation"
   ]
  },
  {
   "cell_type": "code",
   "execution_count": null,
   "metadata": {
    "cell_id": "be7024595f464f44a5b57808fef8897c",
    "deepnote_cell_height": 717,
    "deepnote_cell_type": "code",
    "deepnote_output_heights": [
     602
    ],
    "deepnote_to_be_reexecuted": false,
    "execution_millis": 1938,
    "execution_start": 1654074926424,
    "source_hash": "88c46b9e",
    "tags": []
   },
   "outputs": [
    {
     "data": {
      "text/html": [
       "<html>\n",
       "<head><meta charset=\"utf-8\" /></head>\n",
       "<body>\n",
       "    <div>            <script src=\"https://cdnjs.cloudflare.com/ajax/libs/mathjax/2.7.5/MathJax.js?config=TeX-AMS-MML_SVG\"></script><script type=\"text/javascript\">if (window.MathJax) {MathJax.Hub.Config({SVG: {font: \"STIX-Web\"}});}</script>                <script type=\"text/javascript\">window.PlotlyConfig = {MathJaxConfig: 'local'};</script>\n",
       "        <script src=\"https://cdn.plot.ly/plotly-2.11.1.min.js\"></script>                <div id=\"d878fca6-1cef-467c-840a-600ebdbb36a7\" class=\"plotly-graph-div\" style=\"height:600px; width:100%;\"></div>            <script type=\"text/javascript\">                                    window.PLOTLYENV=window.PLOTLYENV || {};                                    if (document.getElementById(\"d878fca6-1cef-467c-840a-600ebdbb36a7\")) {                    Plotly.newPlot(                        \"d878fca6-1cef-467c-840a-600ebdbb36a7\",                        [{\"customdata\":[[7604],[7996],[7606],[8115],[8095],[8094],[8092],[8091],[7938],[8081],[8080],[7943],[7955],[8117],[7956],[8067],[8066],[7864],[7981],[7982],[7985],[8035],[8034],[7646],[8021],[7991],[8010],[7975],[7936],[7998],[7930],[7884],[8230],[7885],[7935],[8208],[8207],[8197],[8270],[8183],[7903],[8160],[8159],[7866],[8140],[8131],[7865],[7926],[7902]],\"hovertemplate\":\"Cluster=Cluster 0<br>PCA1=%{x}<br>PCA2=%{y}<br>Feature=%{customdata[0]}<extra></extra>\",\"legendgroup\":\"Cluster 0\",\"marker\":{\"color\":\"#636efa\",\"opacity\":0.5,\"symbol\":\"circle\"},\"mode\":\"markers\",\"name\":\"Cluster 0\",\"orientation\":\"v\",\"showlegend\":true,\"x\":[3.2700209617614746,4.828781604766846,3.3966424465179443,4.287132740020752,1.9725658893585205,-0.014687635004520416,2.760794162750244,0.6403030753135681,5.2790846824646,1.324139952659607,4.49923038482666,1.4473974704742432,2.9252991676330566,2.340214490890503,-0.2638227045536041,1.7111598253250122,0.1757977306842804,4.0153961181640625,2.492893934249878,2.3027451038360596,0.6136755347251892,1.166304349899292,1.7386159896850586,0.144540473818779,3.1049726009368896,2.7708890438079834,0.7544082403182983,6.359925746917725,6.117756366729736,3.5401785373687744,4.919866561889648,-0.5223605036735535,2.275841236114502,0.3968975245952606,3.0857157707214355,5.617940902709961,0.3123457431793213,5.6282477378845215,4.75718879699707,1.2816978693008423,2.0306572914123535,4.221704959869385,4.246830940246582,2.640625476837158,7.918725490570068,1.9318593740463257,1.865983486175537,1.9783016443252563,0.9589794874191284],\"xaxis\":\"x\",\"y\":[-0.7169905304908752,0.6413421034812927,-1.8077532052993774,-2.8060121536254883,-1.80900239944458,-3.3802998065948486,-1.897474765777588,-3.9520909786224365,0.6049124598503113,-2.1887338161468506,-2.8697028160095215,-1.527221441268921,-2.220233678817749,-2.046765089035034,-3.4608089923858643,-2.6759729385375977,-2.542510986328125,-2.9263970851898193,-1.144384741783142,-4.141986846923828,-2.991121530532837,-4.107928276062012,-1.127718448638916,-2.8505749702453613,-1.1006032228469849,-0.23896028101444244,-1.4717656373977661,-2.032158136367798,-2.241091728210449,-0.12045585364103317,-2.7263450622558594,-3.089749813079834,-1.6116276979446411,-2.234712600708008,-2.359628200531006,-3.9062106609344482,-3.201385974884033,-0.39843299984931946,-1.8241111040115356,-3.0979952812194824,-3.2268941402435303,-3.188413619995117,-3.978593587875366,-3.0621860027313232,-5.375992298126221,-2.1743597984313965,-3.513859510421753,-1.5287388563156128,-1.5095148086547852],\"yaxis\":\"y\",\"type\":\"scatter\",\"textposition\":\"top center\"},{\"customdata\":[[7989],[7872],[7870],[7871],[7987],[7873],[7977],[7882],[7980],[7894],[7976],[7899],[7908],[7925],[7879],[7896],[8063],[8000],[8161],[8163],[8181],[8182],[8224],[8225],[8232],[8233],[8234],[8236],[8240],[8241],[8242],[8243],[8244],[8158],[8128],[8127],[8126],[8011],[8019],[8023],[8055],[8057],[8062],[8064],[7999],[8069],[8072],[8075],[8076],[8077],[8090],[8118],[8121],[8070],[7861],[8281],[7579],[7663],[7662],[7661],[7618],[7585],[7586],[7587],[7608],[7624],[7658],[7657],[7655],[7652],[7588],[7665],[7589],[7591],[7651],[7650],[7594],[7595],[7649],[7596],[7597],[7643],[7598],[7599],[7625],[7607],[7628],[7590],[7859],[7603],[7575],[7858],[7856],[7615],[7564],[7565],[7829],[7566],[7827],[7826],[7825],[7567],[7824],[7569],[7818],[7576],[7611],[7815],[7802],[7574],[7803],[7804],[7610],[7808],[7570],[7573],[7811],[7812],[7813],[7814],[7571],[7572]],\"hovertemplate\":\"Cluster=Cluster 1<br>PCA1=%{x}<br>PCA2=%{y}<br>Feature=%{customdata[0]}<extra></extra>\",\"legendgroup\":\"Cluster 1\",\"marker\":{\"color\":\"#EF553B\",\"opacity\":0.5,\"symbol\":\"circle\"},\"mode\":\"markers\",\"name\":\"Cluster 1\",\"orientation\":\"v\",\"showlegend\":true,\"x\":[-1.112837791442871,-1.2486398220062256,-1.2339694499969482,-1.6734542846679688,-1.6552600860595703,-1.565690279006958,-2.376589298248291,-2.128316640853882,-2.6811344623565674,-2.755889415740967,-3.7182726860046387,-1.7794231176376343,-1.1412019729614258,-0.9954950213432312,-2.40684175491333,-1.40117609500885,-1.4356318712234497,-2.4566895961761475,-1.0796877145767212,-1.6318604946136475,-2.191232919692993,-2.4801266193389893,-1.8240249156951904,-2.5456929206848145,-2.8969624042510986,-3.229431629180908,-1.3022308349609375,-2.355588912963867,-2.856754779815674,-2.4141499996185303,-1.4324449300765991,-3.5624663829803467,-2.765532970428467,-1.0978367328643799,-0.5751939415931702,-0.9505223631858826,-2.1932151317596436,-1.433746099472046,-1.0642894506454468,-1.8985450267791748,-0.47313255071640015,-1.3436994552612305,-1.3518003225326538,-1.1934536695480347,-1.1430143117904663,-0.6837524771690369,-0.9827243685722351,-1.0853395462036133,-1.2760883569717407,-2.988473415374756,-1.9574648141860962,-1.7207107543945312,-1.0345152616500854,-0.5800015926361084,-1.425218939781189,-2.667553663253784,-1.4953795671463013,-3.4005467891693115,-2.1555888652801514,-1.9639167785644531,-1.5014615058898926,-2.381164312362671,-2.1334035396575928,-3.975512981414795,-2.5622940063476562,-1.4485424757003784,-1.621093988418579,-2.705444812774658,-2.692843437194824,-2.5515191555023193,-3.335926055908203,-3.1019952297210693,-3.303633689880371,-2.5266764163970947,-3.5562453269958496,-3.3335535526275635,-2.409602165222168,-3.0358548164367676,-0.5737715363502502,-2.9570705890655518,-2.491220474243164,-2.782886505126953,-2.9788947105407715,-2.4122085571289062,-1.428804636001587,-3.0247275829315186,-3.0695173740386963,-2.866973638534546,-3.242293119430542,-0.46670472621917725,-2.437405824661255,-1.1599236726760864,-3.854957342147827,-1.9396848678588867,-3.4750266075134277,-3.8572332859039307,-2.576265335083008,-3.4436607360839844,-1.5825139284133911,-3.687974214553833,-3.2767438888549805,-1.2019742727279663,-1.9450548887252808,-2.5774526596069336,-2.831404685974121,-2.682435989379883,-0.9863756895065308,-2.42883563041687,-1.4408023357391357,-2.049926280975342,-2.6517386436462402,-0.6766758561134338,-0.8455960750579834,-1.6205182075500488,-1.456900715827942,-1.309748888015747,-2.3256888389587402,-1.4875624179840088,-3.146066665649414,-2.3550374507904053,-2.7116379737854004,-2.85060977935791],\"xaxis\":\"x\",\"y\":[-1.7542387247085571,-2.3999826908111572,0.14952892065048218,-0.22793345153331757,-1.0142090320587158,-1.8035168647766113,0.8998003005981445,-0.7662294507026672,-0.6619256734848022,-1.160378336906433,0.25530996918678284,-2.493000030517578,-1.827927589416504,-0.6419864296913147,-0.23190413415431976,-1.082925796508789,-0.8804725408554077,-1.1548950672149658,-1.0545240640640259,-0.5227522253990173,-0.9146495461463928,-0.1161046177148819,0.03498683124780655,-0.29307690262794495,-0.28854048252105713,0.6114089488983154,-1.0913338661193848,-0.7368922233581543,0.2373935729265213,0.4416548013687134,0.9915205240249634,0.23118774592876434,0.4904260039329529,-1.6499089002609253,-1.605150818824768,-0.5905916094779968,-0.8005915284156799,0.38622549176216125,0.02814411371946335,-2.210007905960083,-0.5558090806007385,0.17772690951824188,1.4912652969360352,-2.804708480834961,-0.9742664098739624,-0.513579249382019,0.03055889531970024,-0.05445713922381401,-0.34931179881095886,-0.8909979462623596,-1.2806000709533691,0.8405885100364685,0.4240722954273224,-2.0044443607330322,0.6591196060180664,1.0690020322799683,1.216637134552002,0.9035338759422302,0.4386773109436035,0.8740194439888,1.2427237033843994,0.8555479645729065,0.7016957402229309,0.640891432762146,0.8373075723648071,1.6105914115905762,1.5410468578338623,1.1813710927963257,0.2843308746814728,0.8426382541656494,0.9590935707092285,0.46437206864356995,1.1737605333328247,0.7535209059715271,0.5214048624038696,1.2433950901031494,0.4274606704711914,0.5601239800453186,0.08023980259895325,0.6874226331710815,0.7055153846740723,1.3487868309020996,0.2616516649723053,0.917347252368927,0.8563637137413025,1.0731505155563354,0.14743435382843018,0.49197545647621155,0.47837406396865845,-0.5316209197044373,0.6329873204231262,0.5365074872970581,0.3168926239013672,1.668886423110962,0.8952561616897583,0.21897953748703003,0.5108693838119507,-0.3797532916069031,0.17554208636283875,-0.27839896082878113,0.8991090059280396,0.5916801691055298,1.8425790071487427,-0.0716957077383995,0.2882547676563263,0.18018591403961182,0.19035355746746063,1.0301518440246582,2.0983407497406006,0.6395867466926575,0.9298998713493347,0.4200552999973297,0.9219200015068054,-0.35304176807403564,1.1543796062469482,1.1439846754074097,1.2058407068252563,0.6861431002616882,0.18896742165088654,1.0190554857254028,0.43368425965309143,-0.32961946725845337],\"yaxis\":\"y\",\"type\":\"scatter\",\"textposition\":\"top center\"},{\"customdata\":[[7613],[7609],[7860],[8196],[7602],[7600],[8123],[8172],[8173],[7581],[8226],[8235],[7568],[8246],[8116],[7616],[7638],[7617],[7992],[7659],[7990],[7660],[7983],[7793],[7794],[7795],[7972],[7806],[7809],[7810],[7904],[7816],[7817],[7820],[7822],[7883],[7828],[7831],[7832],[7994],[8003],[7995],[7563],[7621],[7623],[7626],[7637],[8061],[7641],[8004],[8054],[8051],[8074],[7642],[7645],[7648],[8016],[7619],[8015],[8007],[8006],[7620],[8073]],\"hovertemplate\":\"Cluster=Cluster 2<br>PCA1=%{x}<br>PCA2=%{y}<br>Feature=%{customdata[0]}<extra></extra>\",\"legendgroup\":\"Cluster 2\",\"marker\":{\"color\":\"#00cc96\",\"opacity\":0.5,\"symbol\":\"circle\"},\"mode\":\"markers\",\"name\":\"Cluster 2\",\"orientation\":\"v\",\"showlegend\":true,\"x\":[-0.0810774639248848,0.3765946626663208,-0.9088655710220337,2.1848673820495605,-0.6981289982795715,-1.1214947700500488,1.4469226598739624,1.4138851165771484,-0.05186810344457626,0.06419114023447037,4.073505401611328,-0.5522016286849976,0.4592808485031128,-0.05170330032706261,0.05165430158376694,0.4649532735347748,-0.3412691056728363,-0.36589959263801575,1.4661903381347656,1.0703299045562744,0.2717110812664032,-0.07403424382209778,0.06352949887514114,2.1968135833740234,0.4670915901660919,-0.695490300655365,3.984651565551758,-0.4500678479671478,-0.738569438457489,3.0276939868927,-0.4780071973800659,1.1563256978988647,0.5657684803009033,0.35145777463912964,-0.5977434515953064,0.5988181829452515,1.5293902158737183,4.212964057922363,0.8203407526016235,0.9314672350883484,-0.45489171147346497,2.050910711288452,0.5729617476463318,-0.22943170368671417,-0.8460407257080078,-0.5748258233070374,1.168603539466858,0.3158458471298218,-0.8793035745620728,-0.6687967777252197,3.5427005290985107,0.09657769650220871,1.7343876361846924,0.9481898546218872,0.9604634046554565,0.9367241859436035,1.6677788496017456,0.1973545104265213,0.5164604783058167,-0.14459648728370667,0.09164435416460037,0.038958590477705,1.0086984634399414],\"xaxis\":\"x\",\"y\":[1.433189034461975,1.1843457221984863,1.3212106227874756,0.6402044892311096,1.683457374572754,2.6794440746307373,0.18573006987571716,0.2365100383758545,0.7034258842468262,0.30483341217041016,2.6693766117095947,-0.08511272072792053,2.99737811088562,0.5398081541061401,0.8658409118652344,0.879044234752655,1.4762386083602905,1.8372524976730347,-0.25425082445144653,1.015896201133728,0.2399284690618515,1.711235523223877,-0.959335446357727,3.4955432415008545,1.3992397785186768,1.6175297498703003,1.6559685468673706,0.48867037892341614,1.6841740608215332,1.8298941850662231,0.03992593660950661,2.309582471847534,3.8372182846069336,0.9543869495391846,0.6565741896629333,-1.1982299089431763,1.580622673034668,4.837492942810059,1.8166111707687378,-0.4876073896884918,0.5056748986244202,0.4326154887676239,1.0040161609649658,1.9038597345352173,1.6895651817321777,0.6076425313949585,1.006407380104065,1.2074533700942993,2.820124864578247,0.8162623643875122,1.5549253225326538,2.1450111865997314,1.2438305616378784,2.40920352935791,0.7296419739723206,-0.06865998357534409,-0.4440453350543976,3.1043078899383545,-0.5625633597373962,1.0354652404785156,0.6775042414665222,2.1669180393218994,-0.060706932097673416],\"yaxis\":\"y\",\"type\":\"scatter\",\"textposition\":\"top center\"},{\"customdata\":[[8249],[8171],[8036],[8141],[8079],[7830],[8120]],\"hovertemplate\":\"Cluster=Cluster 3<br>PCA1=%{x}<br>PCA2=%{y}<br>Feature=%{customdata[0]}<extra></extra>\",\"legendgroup\":\"Cluster 3\",\"marker\":{\"color\":\"#ab63fa\",\"opacity\":0.5,\"symbol\":\"circle\"},\"mode\":\"markers\",\"name\":\"Cluster 3\",\"orientation\":\"v\",\"showlegend\":true,\"x\":[9.251855850219727,14.93366813659668,15.663002014160156,10.355276107788086,12.423906326293945,14.065510749816895,11.778714179992676],\"xaxis\":\"x\",\"y\":[4.836942195892334,4.953647136688232,1.2727917432785034,-2.391559600830078,0.4900641143321991,7.144140243530273,5.861025333404541],\"yaxis\":\"y\",\"type\":\"scatter\",\"textposition\":\"top center\"}],                        {\"template\":{\"data\":{\"histogram2dcontour\":[{\"type\":\"histogram2dcontour\",\"colorbar\":{\"outlinewidth\":0,\"ticks\":\"\"},\"colorscale\":[[0.0,\"#0d0887\"],[0.1111111111111111,\"#46039f\"],[0.2222222222222222,\"#7201a8\"],[0.3333333333333333,\"#9c179e\"],[0.4444444444444444,\"#bd3786\"],[0.5555555555555556,\"#d8576b\"],[0.6666666666666666,\"#ed7953\"],[0.7777777777777778,\"#fb9f3a\"],[0.8888888888888888,\"#fdca26\"],[1.0,\"#f0f921\"]]}],\"choropleth\":[{\"type\":\"choropleth\",\"colorbar\":{\"outlinewidth\":0,\"ticks\":\"\"}}],\"histogram2d\":[{\"type\":\"histogram2d\",\"colorbar\":{\"outlinewidth\":0,\"ticks\":\"\"},\"colorscale\":[[0.0,\"#0d0887\"],[0.1111111111111111,\"#46039f\"],[0.2222222222222222,\"#7201a8\"],[0.3333333333333333,\"#9c179e\"],[0.4444444444444444,\"#bd3786\"],[0.5555555555555556,\"#d8576b\"],[0.6666666666666666,\"#ed7953\"],[0.7777777777777778,\"#fb9f3a\"],[0.8888888888888888,\"#fdca26\"],[1.0,\"#f0f921\"]]}],\"heatmap\":[{\"type\":\"heatmap\",\"colorbar\":{\"outlinewidth\":0,\"ticks\":\"\"},\"colorscale\":[[0.0,\"#0d0887\"],[0.1111111111111111,\"#46039f\"],[0.2222222222222222,\"#7201a8\"],[0.3333333333333333,\"#9c179e\"],[0.4444444444444444,\"#bd3786\"],[0.5555555555555556,\"#d8576b\"],[0.6666666666666666,\"#ed7953\"],[0.7777777777777778,\"#fb9f3a\"],[0.8888888888888888,\"#fdca26\"],[1.0,\"#f0f921\"]]}],\"heatmapgl\":[{\"type\":\"heatmapgl\",\"colorbar\":{\"outlinewidth\":0,\"ticks\":\"\"},\"colorscale\":[[0.0,\"#0d0887\"],[0.1111111111111111,\"#46039f\"],[0.2222222222222222,\"#7201a8\"],[0.3333333333333333,\"#9c179e\"],[0.4444444444444444,\"#bd3786\"],[0.5555555555555556,\"#d8576b\"],[0.6666666666666666,\"#ed7953\"],[0.7777777777777778,\"#fb9f3a\"],[0.8888888888888888,\"#fdca26\"],[1.0,\"#f0f921\"]]}],\"contourcarpet\":[{\"type\":\"contourcarpet\",\"colorbar\":{\"outlinewidth\":0,\"ticks\":\"\"}}],\"contour\":[{\"type\":\"contour\",\"colorbar\":{\"outlinewidth\":0,\"ticks\":\"\"},\"colorscale\":[[0.0,\"#0d0887\"],[0.1111111111111111,\"#46039f\"],[0.2222222222222222,\"#7201a8\"],[0.3333333333333333,\"#9c179e\"],[0.4444444444444444,\"#bd3786\"],[0.5555555555555556,\"#d8576b\"],[0.6666666666666666,\"#ed7953\"],[0.7777777777777778,\"#fb9f3a\"],[0.8888888888888888,\"#fdca26\"],[1.0,\"#f0f921\"]]}],\"surface\":[{\"type\":\"surface\",\"colorbar\":{\"outlinewidth\":0,\"ticks\":\"\"},\"colorscale\":[[0.0,\"#0d0887\"],[0.1111111111111111,\"#46039f\"],[0.2222222222222222,\"#7201a8\"],[0.3333333333333333,\"#9c179e\"],[0.4444444444444444,\"#bd3786\"],[0.5555555555555556,\"#d8576b\"],[0.6666666666666666,\"#ed7953\"],[0.7777777777777778,\"#fb9f3a\"],[0.8888888888888888,\"#fdca26\"],[1.0,\"#f0f921\"]]}],\"mesh3d\":[{\"type\":\"mesh3d\",\"colorbar\":{\"outlinewidth\":0,\"ticks\":\"\"}}],\"scatter\":[{\"fillpattern\":{\"fillmode\":\"overlay\",\"size\":10,\"solidity\":0.2},\"type\":\"scatter\"}],\"parcoords\":[{\"type\":\"parcoords\",\"line\":{\"colorbar\":{\"outlinewidth\":0,\"ticks\":\"\"}}}],\"scatterpolargl\":[{\"type\":\"scatterpolargl\",\"marker\":{\"colorbar\":{\"outlinewidth\":0,\"ticks\":\"\"}}}],\"bar\":[{\"error_x\":{\"color\":\"#2a3f5f\"},\"error_y\":{\"color\":\"#2a3f5f\"},\"marker\":{\"line\":{\"color\":\"#E5ECF6\",\"width\":0.5},\"pattern\":{\"fillmode\":\"overlay\",\"size\":10,\"solidity\":0.2}},\"type\":\"bar\"}],\"scattergeo\":[{\"type\":\"scattergeo\",\"marker\":{\"colorbar\":{\"outlinewidth\":0,\"ticks\":\"\"}}}],\"scatterpolar\":[{\"type\":\"scatterpolar\",\"marker\":{\"colorbar\":{\"outlinewidth\":0,\"ticks\":\"\"}}}],\"histogram\":[{\"marker\":{\"pattern\":{\"fillmode\":\"overlay\",\"size\":10,\"solidity\":0.2}},\"type\":\"histogram\"}],\"scattergl\":[{\"type\":\"scattergl\",\"marker\":{\"colorbar\":{\"outlinewidth\":0,\"ticks\":\"\"}}}],\"scatter3d\":[{\"type\":\"scatter3d\",\"line\":{\"colorbar\":{\"outlinewidth\":0,\"ticks\":\"\"}},\"marker\":{\"colorbar\":{\"outlinewidth\":0,\"ticks\":\"\"}}}],\"scattermapbox\":[{\"type\":\"scattermapbox\",\"marker\":{\"colorbar\":{\"outlinewidth\":0,\"ticks\":\"\"}}}],\"scatterternary\":[{\"type\":\"scatterternary\",\"marker\":{\"colorbar\":{\"outlinewidth\":0,\"ticks\":\"\"}}}],\"scattercarpet\":[{\"type\":\"scattercarpet\",\"marker\":{\"colorbar\":{\"outlinewidth\":0,\"ticks\":\"\"}}}],\"carpet\":[{\"aaxis\":{\"endlinecolor\":\"#2a3f5f\",\"gridcolor\":\"white\",\"linecolor\":\"white\",\"minorgridcolor\":\"white\",\"startlinecolor\":\"#2a3f5f\"},\"baxis\":{\"endlinecolor\":\"#2a3f5f\",\"gridcolor\":\"white\",\"linecolor\":\"white\",\"minorgridcolor\":\"white\",\"startlinecolor\":\"#2a3f5f\"},\"type\":\"carpet\"}],\"table\":[{\"cells\":{\"fill\":{\"color\":\"#EBF0F8\"},\"line\":{\"color\":\"white\"}},\"header\":{\"fill\":{\"color\":\"#C8D4E3\"},\"line\":{\"color\":\"white\"}},\"type\":\"table\"}],\"barpolar\":[{\"marker\":{\"line\":{\"color\":\"#E5ECF6\",\"width\":0.5},\"pattern\":{\"fillmode\":\"overlay\",\"size\":10,\"solidity\":0.2}},\"type\":\"barpolar\"}],\"pie\":[{\"automargin\":true,\"type\":\"pie\"}]},\"layout\":{\"autotypenumbers\":\"strict\",\"colorway\":[\"#636efa\",\"#EF553B\",\"#00cc96\",\"#ab63fa\",\"#FFA15A\",\"#19d3f3\",\"#FF6692\",\"#B6E880\",\"#FF97FF\",\"#FECB52\"],\"font\":{\"color\":\"#2a3f5f\"},\"hovermode\":\"closest\",\"hoverlabel\":{\"align\":\"left\"},\"paper_bgcolor\":\"white\",\"plot_bgcolor\":\"#E5ECF6\",\"polar\":{\"bgcolor\":\"#E5ECF6\",\"angularaxis\":{\"gridcolor\":\"white\",\"linecolor\":\"white\",\"ticks\":\"\"},\"radialaxis\":{\"gridcolor\":\"white\",\"linecolor\":\"white\",\"ticks\":\"\"}},\"ternary\":{\"bgcolor\":\"#E5ECF6\",\"aaxis\":{\"gridcolor\":\"white\",\"linecolor\":\"white\",\"ticks\":\"\"},\"baxis\":{\"gridcolor\":\"white\",\"linecolor\":\"white\",\"ticks\":\"\"},\"caxis\":{\"gridcolor\":\"white\",\"linecolor\":\"white\",\"ticks\":\"\"}},\"coloraxis\":{\"colorbar\":{\"outlinewidth\":0,\"ticks\":\"\"}},\"colorscale\":{\"sequential\":[[0.0,\"#0d0887\"],[0.1111111111111111,\"#46039f\"],[0.2222222222222222,\"#7201a8\"],[0.3333333333333333,\"#9c179e\"],[0.4444444444444444,\"#bd3786\"],[0.5555555555555556,\"#d8576b\"],[0.6666666666666666,\"#ed7953\"],[0.7777777777777778,\"#fb9f3a\"],[0.8888888888888888,\"#fdca26\"],[1.0,\"#f0f921\"]],\"sequentialminus\":[[0.0,\"#0d0887\"],[0.1111111111111111,\"#46039f\"],[0.2222222222222222,\"#7201a8\"],[0.3333333333333333,\"#9c179e\"],[0.4444444444444444,\"#bd3786\"],[0.5555555555555556,\"#d8576b\"],[0.6666666666666666,\"#ed7953\"],[0.7777777777777778,\"#fb9f3a\"],[0.8888888888888888,\"#fdca26\"],[1.0,\"#f0f921\"]],\"diverging\":[[0,\"#8e0152\"],[0.1,\"#c51b7d\"],[0.2,\"#de77ae\"],[0.3,\"#f1b6da\"],[0.4,\"#fde0ef\"],[0.5,\"#f7f7f7\"],[0.6,\"#e6f5d0\"],[0.7,\"#b8e186\"],[0.8,\"#7fbc41\"],[0.9,\"#4d9221\"],[1,\"#276419\"]]},\"xaxis\":{\"gridcolor\":\"white\",\"linecolor\":\"white\",\"ticks\":\"\",\"title\":{\"standoff\":15},\"zerolinecolor\":\"white\",\"automargin\":true,\"zerolinewidth\":2},\"yaxis\":{\"gridcolor\":\"white\",\"linecolor\":\"white\",\"ticks\":\"\",\"title\":{\"standoff\":15},\"zerolinecolor\":\"white\",\"automargin\":true,\"zerolinewidth\":2},\"scene\":{\"xaxis\":{\"backgroundcolor\":\"#E5ECF6\",\"gridcolor\":\"white\",\"linecolor\":\"white\",\"showbackground\":true,\"ticks\":\"\",\"zerolinecolor\":\"white\",\"gridwidth\":2},\"yaxis\":{\"backgroundcolor\":\"#E5ECF6\",\"gridcolor\":\"white\",\"linecolor\":\"white\",\"showbackground\":true,\"ticks\":\"\",\"zerolinecolor\":\"white\",\"gridwidth\":2},\"zaxis\":{\"backgroundcolor\":\"#E5ECF6\",\"gridcolor\":\"white\",\"linecolor\":\"white\",\"showbackground\":true,\"ticks\":\"\",\"zerolinecolor\":\"white\",\"gridwidth\":2}},\"shapedefaults\":{\"line\":{\"color\":\"#2a3f5f\"}},\"annotationdefaults\":{\"arrowcolor\":\"#2a3f5f\",\"arrowhead\":0,\"arrowwidth\":1},\"geo\":{\"bgcolor\":\"white\",\"landcolor\":\"#E5ECF6\",\"subunitcolor\":\"white\",\"showland\":true,\"showlakes\":true,\"lakecolor\":\"white\"},\"title\":{\"x\":0.05},\"mapbox\":{\"style\":\"light\"}}},\"xaxis\":{\"anchor\":\"y\",\"domain\":[0.0,1.0],\"title\":{\"text\":\"PCA1\"}},\"yaxis\":{\"anchor\":\"x\",\"domain\":[0.0,1.0],\"title\":{\"text\":\"PCA2\"}},\"legend\":{\"title\":{\"text\":\"Cluster\"},\"tracegroupgap\":0},\"margin\":{\"t\":60},\"plot_bgcolor\":\"rgb(240,240,240)\",\"title\":{\"text\":\"2D Cluster PCA Plot\"},\"height\":600},                        {\"responsive\": true}                    ).then(function(){\n",
       "                            \n",
       "var gd = document.getElementById('d878fca6-1cef-467c-840a-600ebdbb36a7');\n",
       "var x = new MutationObserver(function (mutations, observer) {{\n",
       "        var display = window.getComputedStyle(gd).display;\n",
       "        if (!display || display === 'none') {{\n",
       "            console.log([gd, 'removed!']);\n",
       "            Plotly.purge(gd);\n",
       "            observer.disconnect();\n",
       "        }}\n",
       "}});\n",
       "\n",
       "// Listen for the removal of the full notebook cells\n",
       "var notebookContainer = gd.closest('#notebook-container');\n",
       "if (notebookContainer) {{\n",
       "    x.observe(notebookContainer, {childList: true});\n",
       "}}\n",
       "\n",
       "// Listen for the clearing of the current output cell\n",
       "var outputEl = gd.closest('.output');\n",
       "if (outputEl) {{\n",
       "    x.observe(outputEl, {childList: true});\n",
       "}}\n",
       "\n",
       "                        })                };                            </script>        </div>\n",
       "</body>\n",
       "</html>"
      ]
     },
     "metadata": {},
     "output_type": "display_data"
    }
   ],
   "source": [
    "#PCA plot\n",
    "plot_model(kmeans)"
   ]
  },
  {
   "cell_type": "code",
   "execution_count": null,
   "metadata": {
    "cell_id": "0408c62ea32847e2b40ccdc52d7e198f",
    "deepnote_cell_height": 544.84375,
    "deepnote_cell_type": "code",
    "deepnote_output_heights": [
     null,
     280
    ],
    "deepnote_to_be_reexecuted": false,
    "execution_millis": 1428,
    "execution_start": 1654074955375,
    "source_hash": "84f2449b",
    "tags": []
   },
   "outputs": [
    {
     "name": "stderr",
     "output_type": "stream",
     "text": [
      "findfont: Font family ['sans-serif'] not found. Falling back to DejaVu Sans.\n",
      "findfont: Generic family 'sans-serif' not found because none of the following families were found: Arial, Liberation Sans, Bitstream Vera Sans, sans-serif\n",
      "findfont: Font family ['sans-serif'] not found. Falling back to DejaVu Sans.\n",
      "findfont: Generic family 'sans-serif' not found because none of the following families were found: Arial, Liberation Sans, Bitstream Vera Sans, sans-serif\n",
      "findfont: Font family ['sans-serif'] not found. Falling back to DejaVu Sans.\n",
      "findfont: Generic family 'sans-serif' not found because none of the following families were found: Arial, Liberation Sans, Bitstream Vera Sans, sans-serif\n"
     ]
    },
    {
     "data": {
      "image/png": "[encoded data removed]",
      "text/plain": [
       "<Figure size 432x288 with 1 Axes>"
      ]
     },
     "metadata": {
      "image/png": {
       "height": 278,
       "width": 395
      },
      "needs_background": "light"
     },
     "output_type": "display_data"
    }
   ],
   "source": [
    "#Elbow Plot\n",
    "plot_model(kmeans, plot = 'elbow')"
   ]
  },
  {
   "cell_type": "code",
   "execution_count": null,
   "metadata": {
    "cell_id": "087ffb1f92f64bccaee2632c9a30a4ff",
    "deepnote_cell_height": 395,
    "deepnote_cell_type": "code",
    "deepnote_output_heights": [
     280
    ],
    "deepnote_to_be_reexecuted": false,
    "execution_millis": 690,
    "execution_start": 1654074963715,
    "source_hash": "a35627d4",
    "tags": []
   },
   "outputs": [
    {
     "data": {
      "image/png": "[encoded data removed]",
      "text/plain": [
       "<Figure size 432x288 with 1 Axes>"
      ]
     },
     "metadata": {
      "image/png": {
       "height": 278,
       "width": 412
      },
      "needs_background": "light"
     },
     "output_type": "display_data"
    }
   ],
   "source": [
    "#Silhouette Plot\n",
    "plot_model(kmeans, plot = 'silhouette')"
   ]
  },
  {
   "cell_type": "markdown",
   "metadata": {
    "cell_id": "8fc7ea4452a041079d1514e085b69372",
    "deepnote_cell_type": "text-cell-h3",
    "formattedRanges": [],
    "is_collapsed": false,
    "tags": []
   },
   "source": [
    "### Means of variables"
   ]
  },
  {
   "cell_type": "code",
   "execution_count": null,
   "metadata": {
    "cell_id": "1641a234624d404180aae5971729d38e",
    "deepnote_cell_height": 370.65625,
    "deepnote_cell_type": "code",
    "deepnote_to_be_reexecuted": false,
    "execution_millis": 82,
    "execution_start": 1654074979190,
    "source_hash": "8a4bf49c",
    "tags": []
   },
   "outputs": [
    {
     "data": {
      "application/vnd.deepnote.dataframe.v3+json": {
       "column_count": 22,
       "columns": [
        {
         "dtype": "Float64",
         "name": "ID",
         "stats": {
          "categories": [
           {
            "count": 1,
            "name": "8006.836734693878"
           },
           {
            "count": 1,
            "name": "7849.9672131147545"
           },
           {
            "count": 2,
            "name": "2 others"
           }
          ],
          "nan_count": 0,
          "unique_count": 4
         }
        },
        {
         "dtype": "Float64",
         "name": "view_item_list_1d",
         "stats": {
          "categories": [
           {
            "count": 1,
            "name": "3623.122448979592"
           },
           {
            "count": 1,
            "name": "971.0491803278688"
           },
           {
            "count": 2,
            "name": "2 others"
           }
          ],
          "nan_count": 0,
          "unique_count": 4
         }
        },
        {
         "dtype": "Float64",
         "name": "view_item_list_7d",
         "stats": {
          "categories": [
           {
            "count": 1,
            "name": "23420.0"
           },
           {
            "count": 1,
            "name": "6138.975409836065"
           },
           {
            "count": 2,
            "name": "2 others"
           }
          ],
          "nan_count": 0,
          "unique_count": 4
         }
        },
        {
         "dtype": "Float64",
         "name": "view_item_list_30d",
         "stats": {
          "categories": [
           {
            "count": 1,
            "name": "99850.87755102041"
           },
           {
            "count": 1,
            "name": "30779.688524590165"
           },
           {
            "count": 2,
            "name": "2 others"
           }
          ],
          "nan_count": 0,
          "unique_count": 4
         }
        },
        {
         "dtype": "Float64",
         "name": "view_item_1d",
         "stats": {
          "categories": [
           {
            "count": 1,
            "name": "129.71428571428572"
           },
           {
            "count": 1,
            "name": "24.040983606557376"
           },
           {
            "count": 2,
            "name": "2 others"
           }
          ],
          "nan_count": 0,
          "unique_count": 4
         }
        },
        {
         "dtype": "Float64",
         "name": "view_item_7d",
         "stats": {
          "categories": [
           {
            "count": 1,
            "name": "828.9591836734694"
           },
           {
            "count": 1,
            "name": "150.12295081967213"
           },
           {
            "count": 2,
            "name": "2 others"
           }
          ],
          "nan_count": 0,
          "unique_count": 4
         }
        },
        {
         "dtype": "Float64",
         "name": "view_item_30d",
         "stats": {
          "categories": [
           {
            "count": 1,
            "name": "3339.469387755102"
           },
           {
            "count": 1,
            "name": "677.0245901639345"
           },
           {
            "count": 2,
            "name": "2 others"
           }
          ],
          "nan_count": 0,
          "unique_count": 4
         }
        },
        {
         "dtype": "Float64",
         "name": "add_to_cart_1d",
         "stats": {
          "categories": [
           {
            "count": 1,
            "name": "3.0"
           },
           {
            "count": 1,
            "name": "0.45901639344262296"
           },
           {
            "count": 2,
            "name": "2 others"
           }
          ],
          "nan_count": 0,
          "unique_count": 4
         }
        },
        {
         "dtype": "Float64",
         "name": "add_to_cart_7d",
         "stats": {
          "categories": [
           {
            "count": 1,
            "name": "15.571428571428571"
           },
           {
            "count": 1,
            "name": "3.5655737704918034"
           },
           {
            "count": 2,
            "name": "2 others"
           }
          ],
          "nan_count": 0,
          "unique_count": 4
         }
        },
        {
         "dtype": "Float64",
         "name": "add_to_cart_30d",
         "stats": {
          "categories": [
           {
            "count": 1,
            "name": "71.16326530612245"
           },
           {
            "count": 1,
            "name": "18.483606557377048"
           },
           {
            "count": 2,
            "name": "2 others"
           }
          ],
          "nan_count": 0,
          "unique_count": 4
         }
        },
        {
         "dtype": "Float64",
         "name": "begin_checkout_1d",
         "stats": {
          "categories": [
           {
            "count": 1,
            "name": "3.877551020408163"
           },
           {
            "count": 1,
            "name": "0.5491803278688525"
           },
           {
            "count": 2,
            "name": "2 others"
           }
          ],
          "nan_count": 0,
          "unique_count": 4
         }
        },
        {
         "dtype": "Float64",
         "name": "begin_checkout_7d",
         "stats": {
          "categories": [
           {
            "count": 1,
            "name": "17.836734693877553"
           },
           {
            "count": 1,
            "name": "2.918032786885246"
           },
           {
            "count": 2,
            "name": "2 others"
           }
          ],
          "nan_count": 0,
          "unique_count": 4
         }
        },
        {
         "dtype": "Float64",
         "name": "begin_checkout_30d",
         "stats": {
          "categories": [
           {
            "count": 1,
            "name": "70.6938775510204"
           },
           {
            "count": 1,
            "name": "17.581967213114755"
           },
           {
            "count": 2,
            "name": "2 others"
           }
          ],
          "nan_count": 0,
          "unique_count": 4
         }
        },
        {
         "dtype": "Float64",
         "name": "purchase_1d",
         "stats": {
          "categories": [
           {
            "count": 1,
            "name": "0.46938775510204084"
           },
           {
            "count": 1,
            "name": "0.040983606557377046"
           },
           {
            "count": 2,
            "name": "2 others"
           }
          ],
          "nan_count": 0,
          "unique_count": 4
         }
        },
        {
         "dtype": "Float64",
         "name": "purchase_7d",
         "stats": {
          "categories": [
           {
            "count": 1,
            "name": "2.163265306122449"
           },
           {
            "count": 1,
            "name": "0.2540983606557377"
           },
           {
            "count": 2,
            "name": "2 others"
           }
          ],
          "nan_count": 0,
          "unique_count": 4
         }
        },
        {
         "dtype": "Float64",
         "name": "purchase_30d",
         "stats": {
          "categories": [
           {
            "count": 1,
            "name": "10.10204081632653"
           },
           {
            "count": 1,
            "name": "1.8360655737704918"
           },
           {
            "count": 2,
            "name": "2 others"
           }
          ],
          "nan_count": 0,
          "unique_count": 4
         }
        },
        {
         "dtype": "Float64",
         "name": "qty_sold",
         "stats": {
          "categories": [
           {
            "count": 1,
            "name": "23.857142857142858"
           },
           {
            "count": 1,
            "name": "13.024590163934427"
           },
           {
            "count": 2,
            "name": "2 others"
           }
          ],
          "nan_count": 0,
          "unique_count": 4
         }
        },
        {
         "dtype": "Float64",
         "name": "nbre_commande",
         "stats": {
          "categories": [
           {
            "count": 1,
            "name": "23.489795918367346"
           },
           {
            "count": 1,
            "name": "12.721311475409836"
           },
           {
            "count": 2,
            "name": "2 others"
           }
          ],
          "nan_count": 0,
          "unique_count": 4
         }
        },
        {
         "dtype": "float64",
         "name": "product_marge",
         "stats": {
          "histogram": [
           {
            "bin_end": 5503.750351288056,
            "bin_start": 3227.2622950819673,
            "count": 1
           },
           {
            "bin_end": 7780.238407494146,
            "bin_start": 5503.750351288056,
            "count": 1
           },
           {
            "bin_end": 10056.726463700234,
            "bin_start": 7780.238407494146,
            "count": 1
           },
           {
            "bin_end": 12333.214519906323,
            "bin_start": 10056.726463700234,
            "count": 0
           },
           {
            "bin_end": 14609.702576112413,
            "bin_start": 12333.214519906323,
            "count": 0
           },
           {
            "bin_end": 16886.1906323185,
            "bin_start": 14609.702576112413,
            "count": 0
           },
           {
            "bin_end": 19162.67868852459,
            "bin_start": 16886.1906323185,
            "count": 0
           },
           {
            "bin_end": 21439.16674473068,
            "bin_start": 19162.67868852459,
            "count": 0
           },
           {
            "bin_end": 23715.65480093677,
            "bin_start": 21439.16674473068,
            "count": 0
           },
           {
            "bin_end": 25992.14285714286,
            "bin_start": 23715.65480093677,
            "count": 1
           }
          ],
          "max": "25992.14285714286",
          "min": "3227.2622950819673",
          "nan_count": 0,
          "unique_count": 4
         }
        },
        {
         "dtype": "Float64",
         "name": "order_recency",
         "stats": {
          "categories": [
           {
            "count": 1,
            "name": "3.795918367346939"
           },
           {
            "count": 1,
            "name": "25.581967213114755"
           },
           {
            "count": 2,
            "name": "2 others"
           }
          ],
          "nan_count": 0,
          "unique_count": 4
         }
        },
        {
         "dtype": "Float64",
         "name": "order_seniority",
         "stats": {
          "categories": [
           {
            "count": 1,
            "name": "54.10204081632653"
           },
           {
            "count": 1,
            "name": "119.63934426229508"
           },
           {
            "count": 2,
            "name": "2 others"
           }
          ],
          "nan_count": 0,
          "unique_count": 4
         }
        },
        {
         "dtype": "Float64",
         "name": "stock",
         "stats": {
          "categories": [
           {
            "count": 1,
            "name": "25.244444444444444"
           },
           {
            "count": 1,
            "name": "46.2436974789916"
           },
           {
            "count": 2,
            "name": "2 others"
           }
          ],
          "nan_count": 0,
          "unique_count": 4
         }
        },
        {
         "dtype": "object",
         "name": "_deepnote_index_column"
        }
       ],
       "row_count": 4,
       "rows": [
        {
         "ID": 8006.836734693878,
         "_deepnote_index_column": "Cluster 0",
         "add_to_cart_1d": 3,
         "add_to_cart_30d": 71.16326530612245,
         "add_to_cart_7d": 15.571428571428571,
         "begin_checkout_1d": 3.877551020408163,
         "begin_checkout_30d": 70.6938775510204,
         "begin_checkout_7d": 17.836734693877553,
         "nbre_commande": 23.489795918367346,
         "order_recency": 3.795918367346939,
         "order_seniority": 54.10204081632653,
         "product_marge": 5729.591836734694,
         "purchase_1d": 0.46938775510204084,
         "purchase_30d": 10.10204081632653,
         "purchase_7d": 2.163265306122449,
         "qty_sold": 23.857142857142858,
         "stock": 25.244444444444444,
         "view_item_1d": 129.71428571428572,
         "view_item_30d": 3339.469387755102,
         "view_item_7d": 828.9591836734694,
         "view_item_list_1d": 3623.122448979592,
         "view_item_list_30d": 99850.87755102041,
         "view_item_list_7d": 23420
        },
        {
         "ID": 7849.9672131147545,
         "_deepnote_index_column": "Cluster 1",
         "add_to_cart_1d": 0.45901639344262296,
         "add_to_cart_30d": 18.483606557377048,
         "add_to_cart_7d": 3.5655737704918034,
         "begin_checkout_1d": 0.5491803278688525,
         "begin_checkout_30d": 17.581967213114755,
         "begin_checkout_7d": 2.918032786885246,
         "nbre_commande": 12.721311475409836,
         "order_recency": 25.581967213114755,
         "order_seniority": 119.63934426229508,
         "product_marge": 3227.2622950819673,
         "purchase_1d": 0.040983606557377046,
         "purchase_30d": 1.8360655737704918,
         "purchase_7d": 0.2540983606557377,
         "qty_sold": 13.024590163934427,
         "stock": 46.2436974789916,
         "view_item_1d": 24.040983606557376,
         "view_item_30d": 677.0245901639345,
         "view_item_7d": 150.12295081967213,
         "view_item_list_1d": 971.0491803278688,
         "view_item_list_30d": 30779.688524590165,
         "view_item_list_7d": 6138.975409836065
        },
        {
         "ID": 7851.507936507936,
         "_deepnote_index_column": "Cluster 2",
         "add_to_cart_1d": 1.0476190476190477,
         "add_to_cart_30d": 49.82539682539682,
         "add_to_cart_7d": 9.634920634920634,
         "begin_checkout_1d": 1.253968253968254,
         "begin_checkout_30d": 51.77777777777778,
         "begin_checkout_7d": 11.952380952380953,
         "nbre_commande": 41.682539682539684,
         "order_recency": 4.746031746031746,
         "order_seniority": 127.36507936507937,
         "product_marge": 9917.301587301587,
         "purchase_1d": 0.25396825396825395,
         "purchase_30d": 7.650793650793651,
         "purchase_7d": 1.6031746031746033,
         "qty_sold": 42.333333333333336,
         "stock": 34.75471698113208,
         "view_item_1d": 67.98412698412699,
         "view_item_30d": 2090.031746031746,
         "view_item_7d": 490.73015873015873,
         "view_item_list_1d": 1291.3650793650793,
         "view_item_list_30d": 39331.90476190476,
         "view_item_list_7d": 8624.047619047618
        },
        {
         "ID": 8089.428571428572,
         "_deepnote_index_column": "Cluster 3",
         "add_to_cart_1d": 4.714285714285714,
         "add_to_cart_30d": 232.57142857142858,
         "add_to_cart_7d": 46.142857142857146,
         "begin_checkout_1d": 7,
         "begin_checkout_30d": 252.85714285714286,
         "begin_checkout_7d": 49.285714285714285,
         "nbre_commande": 101.14285714285714,
         "order_recency": 1.7142857142857142,
         "order_seniority": 90.85714285714286,
         "product_marge": 25992.14285714286,
         "purchase_1d": 1.2857142857142858,
         "purchase_30d": 38.57142857142857,
         "purchase_7d": 6.571428571428571,
         "qty_sold": 102.14285714285714,
         "stock": 26.2,
         "view_item_1d": 719.4285714285714,
         "view_item_30d": 10261.42857142857,
         "view_item_7d": 4376,
         "view_item_list_1d": 3088.714285714286,
         "view_item_list_30d": 79789,
         "view_item_list_7d": 19675.428571428572
        }
       ]
      },
      "text/html": [
       "<div>\n",
       "<style scoped>\n",
       "    .dataframe tbody tr th:only-of-type {\n",
       "        vertical-align: middle;\n",
       "    }\n",
       "\n",
       "    .dataframe tbody tr th {\n",
       "        vertical-align: top;\n",
       "    }\n",
       "\n",
       "    .dataframe thead th {\n",
       "        text-align: right;\n",
       "    }\n",
       "</style>\n",
       "<table border=\"1\" class=\"dataframe\">\n",
       "  <thead>\n",
       "    <tr style=\"text-align: right;\">\n",
       "      <th></th>\n",
       "      <th>ID</th>\n",
       "      <th>view_item_list_1d</th>\n",
       "      <th>view_item_list_7d</th>\n",
       "      <th>view_item_list_30d</th>\n",
       "      <th>view_item_1d</th>\n",
       "      <th>view_item_7d</th>\n",
       "      <th>view_item_30d</th>\n",
       "      <th>add_to_cart_1d</th>\n",
       "      <th>add_to_cart_7d</th>\n",
       "      <th>add_to_cart_30d</th>\n",
       "      <th>...</th>\n",
       "      <th>begin_checkout_30d</th>\n",
       "      <th>purchase_1d</th>\n",
       "      <th>purchase_7d</th>\n",
       "      <th>purchase_30d</th>\n",
       "      <th>qty_sold</th>\n",
       "      <th>nbre_commande</th>\n",
       "      <th>product_marge</th>\n",
       "      <th>order_recency</th>\n",
       "      <th>order_seniority</th>\n",
       "      <th>stock</th>\n",
       "    </tr>\n",
       "    <tr>\n",
       "      <th>Cluster</th>\n",
       "      <th></th>\n",
       "      <th></th>\n",
       "      <th></th>\n",
       "      <th></th>\n",
       "      <th></th>\n",
       "      <th></th>\n",
       "      <th></th>\n",
       "      <th></th>\n",
       "      <th></th>\n",
       "      <th></th>\n",
       "      <th></th>\n",
       "      <th></th>\n",
       "      <th></th>\n",
       "      <th></th>\n",
       "      <th></th>\n",
       "      <th></th>\n",
       "      <th></th>\n",
       "      <th></th>\n",
       "      <th></th>\n",
       "      <th></th>\n",
       "      <th></th>\n",
       "    </tr>\n",
       "  </thead>\n",
       "  <tbody>\n",
       "    <tr>\n",
       "      <th>Cluster 0</th>\n",
       "      <td>8006.836735</td>\n",
       "      <td>3623.122449</td>\n",
       "      <td>23420.0</td>\n",
       "      <td>99850.877551</td>\n",
       "      <td>129.714286</td>\n",
       "      <td>828.959184</td>\n",
       "      <td>3339.469388</td>\n",
       "      <td>3.0</td>\n",
       "      <td>15.571429</td>\n",
       "      <td>71.163265</td>\n",
       "      <td>...</td>\n",
       "      <td>70.693878</td>\n",
       "      <td>0.469388</td>\n",
       "      <td>2.163265</td>\n",
       "      <td>10.102041</td>\n",
       "      <td>23.857143</td>\n",
       "      <td>23.489796</td>\n",
       "      <td>5729.591837</td>\n",
       "      <td>3.795918</td>\n",
       "      <td>54.102041</td>\n",
       "      <td>25.244444</td>\n",
       "    </tr>\n",
       "    <tr>\n",
       "      <th>Cluster 1</th>\n",
       "      <td>7849.967213</td>\n",
       "      <td>971.04918</td>\n",
       "      <td>6138.97541</td>\n",
       "      <td>30779.688525</td>\n",
       "      <td>24.040984</td>\n",
       "      <td>150.122951</td>\n",
       "      <td>677.02459</td>\n",
       "      <td>0.459016</td>\n",
       "      <td>3.565574</td>\n",
       "      <td>18.483607</td>\n",
       "      <td>...</td>\n",
       "      <td>17.581967</td>\n",
       "      <td>0.040984</td>\n",
       "      <td>0.254098</td>\n",
       "      <td>1.836066</td>\n",
       "      <td>13.02459</td>\n",
       "      <td>12.721311</td>\n",
       "      <td>3227.262295</td>\n",
       "      <td>25.581967</td>\n",
       "      <td>119.639344</td>\n",
       "      <td>46.243697</td>\n",
       "    </tr>\n",
       "    <tr>\n",
       "      <th>Cluster 2</th>\n",
       "      <td>7851.507937</td>\n",
       "      <td>1291.365079</td>\n",
       "      <td>8624.047619</td>\n",
       "      <td>39331.904762</td>\n",
       "      <td>67.984127</td>\n",
       "      <td>490.730159</td>\n",
       "      <td>2090.031746</td>\n",
       "      <td>1.047619</td>\n",
       "      <td>9.634921</td>\n",
       "      <td>49.825397</td>\n",
       "      <td>...</td>\n",
       "      <td>51.777778</td>\n",
       "      <td>0.253968</td>\n",
       "      <td>1.603175</td>\n",
       "      <td>7.650794</td>\n",
       "      <td>42.333333</td>\n",
       "      <td>41.68254</td>\n",
       "      <td>9917.301587</td>\n",
       "      <td>4.746032</td>\n",
       "      <td>127.365079</td>\n",
       "      <td>34.754717</td>\n",
       "    </tr>\n",
       "    <tr>\n",
       "      <th>Cluster 3</th>\n",
       "      <td>8089.428571</td>\n",
       "      <td>3088.714286</td>\n",
       "      <td>19675.428571</td>\n",
       "      <td>79789.0</td>\n",
       "      <td>719.428571</td>\n",
       "      <td>4376.0</td>\n",
       "      <td>10261.428571</td>\n",
       "      <td>4.714286</td>\n",
       "      <td>46.142857</td>\n",
       "      <td>232.571429</td>\n",
       "      <td>...</td>\n",
       "      <td>252.857143</td>\n",
       "      <td>1.285714</td>\n",
       "      <td>6.571429</td>\n",
       "      <td>38.571429</td>\n",
       "      <td>102.142857</td>\n",
       "      <td>101.142857</td>\n",
       "      <td>25992.142857</td>\n",
       "      <td>1.714286</td>\n",
       "      <td>90.857143</td>\n",
       "      <td>26.2</td>\n",
       "    </tr>\n",
       "  </tbody>\n",
       "</table>\n",
       "<p>4 rows × 22 columns</p>\n",
       "</div>"
      ],
      "text/plain": [
       "                    ID  view_item_list_1d  view_item_list_7d  \\\n",
       "Cluster                                                        \n",
       "Cluster 0  8006.836735        3623.122449            23420.0   \n",
       "Cluster 1  7849.967213          971.04918         6138.97541   \n",
       "Cluster 2  7851.507937        1291.365079        8624.047619   \n",
       "Cluster 3  8089.428571        3088.714286       19675.428571   \n",
       "\n",
       "           view_item_list_30d  view_item_1d  view_item_7d  view_item_30d  \\\n",
       "Cluster                                                                    \n",
       "Cluster 0        99850.877551    129.714286    828.959184    3339.469388   \n",
       "Cluster 1        30779.688525     24.040984    150.122951      677.02459   \n",
       "Cluster 2        39331.904762     67.984127    490.730159    2090.031746   \n",
       "Cluster 3             79789.0    719.428571        4376.0   10261.428571   \n",
       "\n",
       "           add_to_cart_1d  add_to_cart_7d  add_to_cart_30d  ...  \\\n",
       "Cluster                                                     ...   \n",
       "Cluster 0             3.0       15.571429        71.163265  ...   \n",
       "Cluster 1        0.459016        3.565574        18.483607  ...   \n",
       "Cluster 2        1.047619        9.634921        49.825397  ...   \n",
       "Cluster 3        4.714286       46.142857       232.571429  ...   \n",
       "\n",
       "           begin_checkout_30d  purchase_1d  purchase_7d  purchase_30d  \\\n",
       "Cluster                                                                 \n",
       "Cluster 0           70.693878     0.469388     2.163265     10.102041   \n",
       "Cluster 1           17.581967     0.040984     0.254098      1.836066   \n",
       "Cluster 2           51.777778     0.253968     1.603175      7.650794   \n",
       "Cluster 3          252.857143     1.285714     6.571429     38.571429   \n",
       "\n",
       "             qty_sold  nbre_commande  product_marge  order_recency  \\\n",
       "Cluster                                                              \n",
       "Cluster 0   23.857143      23.489796    5729.591837       3.795918   \n",
       "Cluster 1    13.02459      12.721311    3227.262295      25.581967   \n",
       "Cluster 2   42.333333       41.68254    9917.301587       4.746032   \n",
       "Cluster 3  102.142857     101.142857   25992.142857       1.714286   \n",
       "\n",
       "           order_seniority      stock  \n",
       "Cluster                                \n",
       "Cluster 0        54.102041  25.244444  \n",
       "Cluster 1       119.639344  46.243697  \n",
       "Cluster 2       127.365079  34.754717  \n",
       "Cluster 3        90.857143       26.2  \n",
       "\n",
       "[4 rows x 22 columns]"
      ]
     },
     "execution_count": 24,
     "metadata": {},
     "output_type": "execute_result"
    }
   ],
   "source": [
    "kmean_results.groupby('Cluster').mean()"
   ]
  },
  {
   "cell_type": "code",
   "execution_count": null,
   "metadata": {
    "cell_id": "a1f0076155634d7c8290cd362703f5d6",
    "deepnote_cell_type": "visualization",
    "deepnote_to_be_reexecuted": true,
    "source_hash": "b623e53d"
   },
   "outputs": [],
   "source": []
  },
  {
   "cell_type": "markdown",
   "metadata": {
    "cell_id": "b2648eeccc8841828efc0ede961fd13c",
    "deepnote_cell_type": "text-cell-h3",
    "formattedRanges": [],
    "is_collapsed": false,
    "tags": []
   },
   "source": [
    "### Prediction"
   ]
  },
  {
   "cell_type": "code",
   "execution_count": null,
   "metadata": {
    "cell_id": "27edb5a27dcd488d8f3a822c460d3822",
    "deepnote_cell_height": 652.65625,
    "deepnote_cell_type": "code",
    "deepnote_to_be_reexecuted": false,
    "execution_millis": 133,
    "execution_start": 1654077085766,
    "source_hash": "8ac21582",
    "tags": []
   },
   "outputs": [
    {
     "data": {
      "application/vnd.deepnote.dataframe.v3+json": {
       "column_count": 23,
       "columns": [
        {
         "dtype": "Int64",
         "name": "ID",
         "stats": {
          "categories": [
           {
            "count": 1,
            "name": "7563"
           },
           {
            "count": 1,
            "name": "7564"
           },
           {
            "count": 239,
            "name": "239 others"
           }
          ],
          "nan_count": 0,
          "unique_count": 241
         }
        },
        {
         "dtype": "Int64",
         "name": "view_item_list_1d",
         "stats": {
          "categories": [
           {
            "count": 2,
            "name": "2068"
           },
           {
            "count": 2,
            "name": "641"
           },
           {
            "count": 237,
            "name": "230 others"
           }
          ],
          "nan_count": 0,
          "unique_count": 232
         }
        },
        {
         "dtype": "Int64",
         "name": "view_item_list_7d",
         "stats": {
          "categories": [
           {
            "count": 2,
            "name": "3746"
           },
           {
            "count": 2,
            "name": "3788"
           },
           {
            "count": 237,
            "name": "237 others"
           }
          ],
          "nan_count": 0,
          "unique_count": 239
         }
        },
        {
         "dtype": "Int64",
         "name": "view_item_list_30d",
         "stats": {
          "categories": [
           {
            "count": 2,
            "name": "39887"
           },
           {
            "count": 1,
            "name": "65850"
           },
           {
            "count": 238,
            "name": "238 others"
           }
          ],
          "nan_count": 0,
          "unique_count": 240
         }
        },
        {
         "dtype": "Int64",
         "name": "view_item_1d",
         "stats": {
          "categories": [
           {
            "count": 11,
            "name": "19"
           },
           {
            "count": 7,
            "name": "4"
           },
           {
            "count": 223,
            "name": "114 others"
           }
          ],
          "nan_count": 0,
          "unique_count": 116
         }
        },
        {
         "dtype": "Int64",
         "name": "view_item_7d",
         "stats": {
          "categories": [
           {
            "count": 4,
            "name": "51"
           },
           {
            "count": 4,
            "name": "96"
           },
           {
            "count": 233,
            "name": "202 others"
           }
          ],
          "nan_count": 0,
          "unique_count": 204
         }
        },
        {
         "dtype": "Int64",
         "name": "view_item_30d",
         "stats": {
          "categories": [
           {
            "count": 3,
            "name": "788"
           },
           {
            "count": 2,
            "name": "286"
           },
           {
            "count": 236,
            "name": "225 others"
           }
          ],
          "nan_count": 0,
          "unique_count": 227
         }
        },
        {
         "dtype": "Int64",
         "name": "add_to_cart_1d",
         "stats": {
          "categories": [
           {
            "count": 122,
            "name": "0"
           },
           {
            "count": 48,
            "name": "1"
           },
           {
            "count": 71,
            "name": "9 others"
           }
          ],
          "nan_count": 0,
          "unique_count": 11
         }
        },
        {
         "dtype": "Int64",
         "name": "add_to_cart_7d",
         "stats": {
          "categories": [
           {
            "count": 25,
            "name": "2"
           },
           {
            "count": 23,
            "name": "1"
           },
           {
            "count": 193,
            "name": "35 others"
           }
          ],
          "nan_count": 0,
          "unique_count": 37
         }
        },
        {
         "dtype": "Int64",
         "name": "add_to_cart_30d",
         "stats": {
          "categories": [
           {
            "count": 9,
            "name": "7"
           },
           {
            "count": 8,
            "name": "8"
           },
           {
            "count": 224,
            "name": "95 others"
           }
          ],
          "nan_count": 0,
          "unique_count": 97
         }
        },
        {
         "dtype": "Int64",
         "name": "begin_checkout_1d",
         "stats": {
          "categories": [
           {
            "count": 150,
            "name": "0"
           },
           {
            "count": 30,
            "name": "1"
           },
           {
            "count": 61,
            "name": "15 others"
           }
          ],
          "nan_count": 0,
          "unique_count": 17
         }
        },
        {
         "dtype": "Int64",
         "name": "begin_checkout_7d",
         "stats": {
          "categories": [
           {
            "count": 44,
            "name": "0"
           },
           {
            "count": 23,
            "name": "1"
           },
           {
            "count": 174,
            "name": "42 others"
           }
          ],
          "nan_count": 0,
          "unique_count": 44
         }
        },
        {
         "dtype": "Int64",
         "name": "begin_checkout_30d",
         "stats": {
          "categories": [
           {
            "count": 8,
            "name": "2"
           },
           {
            "count": 7,
            "name": "3"
           },
           {
            "count": 226,
            "name": "91 others"
           }
          ],
          "nan_count": 0,
          "unique_count": 93
         }
        },
        {
         "dtype": "Int64",
         "name": "purchase_1d",
         "stats": {
          "categories": [
           {
            "count": 198,
            "name": "0"
           },
           {
            "count": 34,
            "name": "1"
           },
           {
            "count": 9,
            "name": "2 others"
           }
          ],
          "nan_count": 0,
          "unique_count": 4
         }
        },
        {
         "dtype": "Int64",
         "name": "purchase_7d",
         "stats": {
          "categories": [
           {
            "count": 110,
            "name": "0"
           },
           {
            "count": 62,
            "name": "1"
           },
           {
            "count": 69,
            "name": "8 others"
           }
          ],
          "nan_count": 0,
          "unique_count": 10
         }
        },
        {
         "dtype": "Int64",
         "name": "purchase_30d",
         "stats": {
          "categories": [
           {
            "count": 35,
            "name": "1"
           },
           {
            "count": 32,
            "name": "0"
           },
           {
            "count": 174,
            "name": "27 others"
           }
          ],
          "nan_count": 0,
          "unique_count": 29
         }
        },
        {
         "dtype": "Int64",
         "name": "qty_sold",
         "stats": {
          "categories": [
           {
            "count": 10,
            "name": "22"
           },
           {
            "count": 9,
            "name": "6"
           },
           {
            "count": 222,
            "name": "66 others"
           }
          ],
          "nan_count": 0,
          "unique_count": 68
         }
        },
        {
         "dtype": "Int64",
         "name": "nbre_commande",
         "stats": {
          "categories": [
           {
            "count": 11,
            "name": "17"
           },
           {
            "count": 10,
            "name": "6"
           },
           {
            "count": 220,
            "name": "66 others"
           }
          ],
          "nan_count": 0,
          "unique_count": 68
         }
        },
        {
         "dtype": "float64",
         "name": "product_marge",
         "stats": {
          "histogram": [
           {
            "bin_end": 4090,
            "bin_start": 104,
            "count": 106
           },
           {
            "bin_end": 8076,
            "bin_start": 4090,
            "count": 75
           },
           {
            "bin_end": 12062,
            "bin_start": 8076,
            "count": 31
           },
           {
            "bin_end": 16048,
            "bin_start": 12062,
            "count": 13
           },
           {
            "bin_end": 20034,
            "bin_start": 16048,
            "count": 7
           },
           {
            "bin_end": 24020,
            "bin_start": 20034,
            "count": 5
           },
           {
            "bin_end": 28006,
            "bin_start": 24020,
            "count": 1
           },
           {
            "bin_end": 31992,
            "bin_start": 28006,
            "count": 1
           },
           {
            "bin_end": 35978,
            "bin_start": 31992,
            "count": 1
           },
           {
            "bin_end": 39964,
            "bin_start": 35978,
            "count": 1
           }
          ],
          "max": "39964.0",
          "min": "104.0",
          "nan_count": 0,
          "unique_count": 204
         }
        },
        {
         "dtype": "Int64",
         "name": "order_recency",
         "stats": {
          "categories": [
           {
            "count": 48,
            "name": "1"
           },
           {
            "count": 25,
            "name": "2"
           },
           {
            "count": 168,
            "name": "50 others"
           }
          ],
          "nan_count": 0,
          "unique_count": 52
         }
        },
        {
         "dtype": "Int64",
         "name": "order_seniority",
         "stats": {
          "categories": [
           {
            "count": 18,
            "name": "61"
           },
           {
            "count": 16,
            "name": "145"
           },
           {
            "count": 207,
            "name": "74 others"
           }
          ],
          "nan_count": 0,
          "unique_count": 76
         }
        },
        {
         "dtype": "Int64",
         "name": "stock",
         "stats": {
          "categories": [
           {
            "count": 9,
            "name": "2"
           },
           {
            "count": 213,
            "name": "85 others"
           },
           {
            "count": 19,
            "name": "Missing"
           }
          ],
          "nan_count": 19,
          "unique_count": 86
         }
        },
        {
         "dtype": "object",
         "name": "Cluster",
         "stats": {
          "categories": [
           {
            "count": 122,
            "name": "Cluster 1"
           },
           {
            "count": 63,
            "name": "Cluster 2"
           },
           {
            "count": 56,
            "name": "2 others"
           }
          ],
          "nan_count": 0,
          "unique_count": 4
         }
        },
        {
         "dtype": "int64",
         "name": "_deepnote_index_column"
        }
       ],
       "row_count": 241,
       "rows": [
        {
         "Cluster": "Cluster 2",
         "ID": 7563,
         "_deepnote_index_column": 0,
         "add_to_cart_1d": 0,
         "add_to_cart_30d": 44,
         "add_to_cart_7d": 1,
         "begin_checkout_1d": 0,
         "begin_checkout_30d": 31,
         "begin_checkout_7d": 2,
         "nbre_commande": 42,
         "order_recency": 4,
         "order_seniority": 145,
         "product_marge": 17346,
         "purchase_1d": 0,
         "purchase_30d": 4,
         "purchase_7d": 1,
         "qty_sold": 42,
         "stock": "<NA>",
         "view_item_1d": 78,
         "view_item_30d": 5215,
         "view_item_7d": 625,
         "view_item_list_1d": 2068,
         "view_item_list_30d": 65850,
         "view_item_list_7d": 15669
        },
        {
         "Cluster": "Cluster 1",
         "ID": 7564,
         "_deepnote_index_column": 1,
         "add_to_cart_1d": 1,
         "add_to_cart_30d": 7,
         "add_to_cart_7d": 1,
         "begin_checkout_1d": 0,
         "begin_checkout_30d": 3,
         "begin_checkout_7d": 0,
         "nbre_commande": 9,
         "order_recency": 52,
         "order_seniority": 143,
         "product_marge": 2061,
         "purchase_1d": 0,
         "purchase_30d": 0,
         "purchase_7d": 0,
         "qty_sold": 9,
         "stock": "275",
         "view_item_1d": 37,
         "view_item_30d": 393,
         "view_item_7d": 118,
         "view_item_list_1d": 691,
         "view_item_list_30d": 23470,
         "view_item_list_7d": 4457
        },
        {
         "Cluster": "Cluster 1",
         "ID": 7565,
         "_deepnote_index_column": 2,
         "add_to_cart_1d": 0,
         "add_to_cart_30d": 2,
         "add_to_cart_7d": 0,
         "begin_checkout_1d": 0,
         "begin_checkout_30d": 0,
         "begin_checkout_7d": 0,
         "nbre_commande": 1,
         "order_recency": 121,
         "order_seniority": 121,
         "product_marge": 104,
         "purchase_1d": 0,
         "purchase_30d": 0,
         "purchase_7d": 0,
         "qty_sold": 1,
         "stock": "43",
         "view_item_1d": 10,
         "view_item_30d": 294,
         "view_item_7d": 72,
         "view_item_list_1d": 470,
         "view_item_list_30d": 15126,
         "view_item_list_7d": 2851
        },
        {
         "Cluster": "Cluster 1",
         "ID": 7566,
         "_deepnote_index_column": 3,
         "add_to_cart_1d": 0,
         "add_to_cart_30d": 1,
         "add_to_cart_7d": 0,
         "begin_checkout_1d": 0,
         "begin_checkout_30d": 0,
         "begin_checkout_7d": 0,
         "nbre_commande": 1,
         "order_recency": 57,
         "order_seniority": 57,
         "product_marge": 104,
         "purchase_1d": 0,
         "purchase_30d": 0,
         "purchase_7d": 0,
         "qty_sold": 2,
         "stock": "72",
         "view_item_1d": 5,
         "view_item_30d": 131,
         "view_item_7d": 27,
         "view_item_list_1d": 456,
         "view_item_list_30d": 16646,
         "view_item_list_7d": 3004
        },
        {
         "Cluster": "Cluster 1",
         "ID": 7567,
         "_deepnote_index_column": 4,
         "add_to_cart_1d": 1,
         "add_to_cart_30d": 33,
         "add_to_cart_7d": 4,
         "begin_checkout_1d": 0,
         "begin_checkout_30d": 27,
         "begin_checkout_7d": 4,
         "nbre_commande": 15,
         "order_recency": 19,
         "order_seniority": 144,
         "product_marge": 3570,
         "purchase_1d": 0,
         "purchase_30d": 3,
         "purchase_7d": 0,
         "qty_sold": 15,
         "stock": "12",
         "view_item_1d": 68,
         "view_item_30d": 5137,
         "view_item_7d": 689,
         "view_item_list_1d": 832,
         "view_item_list_30d": 27711,
         "view_item_list_7d": 5234
        },
        {
         "Cluster": "Cluster 2",
         "ID": 7568,
         "_deepnote_index_column": 5,
         "add_to_cart_1d": 0,
         "add_to_cart_30d": 22,
         "add_to_cart_7d": 0,
         "begin_checkout_1d": 0,
         "begin_checkout_30d": 42,
         "begin_checkout_7d": 0,
         "nbre_commande": 69,
         "order_recency": 11,
         "order_seniority": 140,
         "product_marge": 22701,
         "purchase_1d": 0,
         "purchase_30d": 6,
         "purchase_7d": 0,
         "qty_sold": 69,
         "stock": "<NA>",
         "view_item_1d": 101,
         "view_item_30d": 3801,
         "view_item_7d": 713,
         "view_item_list_1d": 1086,
         "view_item_list_30d": 37567,
         "view_item_list_7d": 8405
        },
        {
         "Cluster": "Cluster 1",
         "ID": 7569,
         "_deepnote_index_column": 6,
         "add_to_cart_1d": 0,
         "add_to_cart_30d": 8,
         "add_to_cart_7d": 4,
         "begin_checkout_1d": 0,
         "begin_checkout_30d": 12,
         "begin_checkout_7d": 3,
         "nbre_commande": 5,
         "order_recency": 2,
         "order_seniority": 34,
         "product_marge": 1145,
         "purchase_1d": 0,
         "purchase_30d": 2,
         "purchase_7d": 1,
         "qty_sold": 5,
         "stock": "<NA>",
         "view_item_1d": 6,
         "view_item_30d": 278,
         "view_item_7d": 78,
         "view_item_list_1d": 13,
         "view_item_list_30d": 527,
         "view_item_list_7d": 108
        },
        {
         "Cluster": "Cluster 1",
         "ID": 7570,
         "_deepnote_index_column": 7,
         "add_to_cart_1d": 2,
         "add_to_cart_30d": 27,
         "add_to_cart_7d": 6,
         "begin_checkout_1d": 1,
         "begin_checkout_30d": 28,
         "begin_checkout_7d": 4,
         "nbre_commande": 28,
         "order_recency": 20,
         "order_seniority": 143,
         "product_marge": 6412,
         "purchase_1d": 0,
         "purchase_30d": 4,
         "purchase_7d": 0,
         "qty_sold": 28,
         "stock": "13",
         "view_item_1d": 19,
         "view_item_30d": 458,
         "view_item_7d": 104,
         "view_item_list_1d": 563,
         "view_item_list_30d": 19889,
         "view_item_list_7d": 3588
        },
        {
         "Cluster": "Cluster 1",
         "ID": 7571,
         "_deepnote_index_column": 8,
         "add_to_cart_1d": 0,
         "add_to_cart_30d": 10,
         "add_to_cart_7d": 3,
         "begin_checkout_1d": 0,
         "begin_checkout_30d": 5,
         "begin_checkout_7d": 3,
         "nbre_commande": 6,
         "order_recency": 3,
         "order_seniority": 143,
         "product_marge": 1326,
         "purchase_1d": 0,
         "purchase_30d": 1,
         "purchase_7d": 1,
         "qty_sold": 6,
         "stock": "57",
         "view_item_1d": 2,
         "view_item_30d": 227,
         "view_item_7d": 51,
         "view_item_list_1d": 497,
         "view_item_list_30d": 16498,
         "view_item_list_7d": 3170
        },
        {
         "Cluster": "Cluster 1",
         "ID": 7572,
         "_deepnote_index_column": 9,
         "add_to_cart_1d": 0,
         "add_to_cart_30d": 7,
         "add_to_cart_7d": 1,
         "begin_checkout_1d": 0,
         "begin_checkout_30d": 5,
         "begin_checkout_7d": 0,
         "nbre_commande": 5,
         "order_recency": 11,
         "order_seniority": 71,
         "product_marge": 1105,
         "purchase_1d": 0,
         "purchase_30d": 1,
         "purchase_7d": 0,
         "qty_sold": 5,
         "stock": "52",
         "view_item_1d": 4,
         "view_item_30d": 286,
         "view_item_7d": 64,
         "view_item_list_1d": 657,
         "view_item_list_30d": 19465,
         "view_item_list_7d": 3793
        }
       ]
      },
      "text/html": [
       "<div>\n",
       "<style scoped>\n",
       "    .dataframe tbody tr th:only-of-type {\n",
       "        vertical-align: middle;\n",
       "    }\n",
       "\n",
       "    .dataframe tbody tr th {\n",
       "        vertical-align: top;\n",
       "    }\n",
       "\n",
       "    .dataframe thead th {\n",
       "        text-align: right;\n",
       "    }\n",
       "</style>\n",
       "<table border=\"1\" class=\"dataframe\">\n",
       "  <thead>\n",
       "    <tr style=\"text-align: right;\">\n",
       "      <th></th>\n",
       "      <th>ID</th>\n",
       "      <th>view_item_list_1d</th>\n",
       "      <th>view_item_list_7d</th>\n",
       "      <th>view_item_list_30d</th>\n",
       "      <th>view_item_1d</th>\n",
       "      <th>view_item_7d</th>\n",
       "      <th>view_item_30d</th>\n",
       "      <th>add_to_cart_1d</th>\n",
       "      <th>add_to_cart_7d</th>\n",
       "      <th>add_to_cart_30d</th>\n",
       "      <th>...</th>\n",
       "      <th>purchase_1d</th>\n",
       "      <th>purchase_7d</th>\n",
       "      <th>purchase_30d</th>\n",
       "      <th>qty_sold</th>\n",
       "      <th>nbre_commande</th>\n",
       "      <th>product_marge</th>\n",
       "      <th>order_recency</th>\n",
       "      <th>order_seniority</th>\n",
       "      <th>stock</th>\n",
       "      <th>Cluster</th>\n",
       "    </tr>\n",
       "  </thead>\n",
       "  <tbody>\n",
       "    <tr>\n",
       "      <th>0</th>\n",
       "      <td>7563</td>\n",
       "      <td>2068</td>\n",
       "      <td>15669</td>\n",
       "      <td>65850</td>\n",
       "      <td>78</td>\n",
       "      <td>625</td>\n",
       "      <td>5215</td>\n",
       "      <td>0</td>\n",
       "      <td>1</td>\n",
       "      <td>44</td>\n",
       "      <td>...</td>\n",
       "      <td>0</td>\n",
       "      <td>1</td>\n",
       "      <td>4</td>\n",
       "      <td>42</td>\n",
       "      <td>42</td>\n",
       "      <td>17346.0</td>\n",
       "      <td>4</td>\n",
       "      <td>145</td>\n",
       "      <td>&lt;NA&gt;</td>\n",
       "      <td>Cluster 2</td>\n",
       "    </tr>\n",
       "    <tr>\n",
       "      <th>1</th>\n",
       "      <td>7564</td>\n",
       "      <td>691</td>\n",
       "      <td>4457</td>\n",
       "      <td>23470</td>\n",
       "      <td>37</td>\n",
       "      <td>118</td>\n",
       "      <td>393</td>\n",
       "      <td>1</td>\n",
       "      <td>1</td>\n",
       "      <td>7</td>\n",
       "      <td>...</td>\n",
       "      <td>0</td>\n",
       "      <td>0</td>\n",
       "      <td>0</td>\n",
       "      <td>9</td>\n",
       "      <td>9</td>\n",
       "      <td>2061.0</td>\n",
       "      <td>52</td>\n",
       "      <td>143</td>\n",
       "      <td>275</td>\n",
       "      <td>Cluster 1</td>\n",
       "    </tr>\n",
       "    <tr>\n",
       "      <th>2</th>\n",
       "      <td>7565</td>\n",
       "      <td>470</td>\n",
       "      <td>2851</td>\n",
       "      <td>15126</td>\n",
       "      <td>10</td>\n",
       "      <td>72</td>\n",
       "      <td>294</td>\n",
       "      <td>0</td>\n",
       "      <td>0</td>\n",
       "      <td>2</td>\n",
       "      <td>...</td>\n",
       "      <td>0</td>\n",
       "      <td>0</td>\n",
       "      <td>0</td>\n",
       "      <td>1</td>\n",
       "      <td>1</td>\n",
       "      <td>104.0</td>\n",
       "      <td>121</td>\n",
       "      <td>121</td>\n",
       "      <td>43</td>\n",
       "      <td>Cluster 1</td>\n",
       "    </tr>\n",
       "    <tr>\n",
       "      <th>3</th>\n",
       "      <td>7566</td>\n",
       "      <td>456</td>\n",
       "      <td>3004</td>\n",
       "      <td>16646</td>\n",
       "      <td>5</td>\n",
       "      <td>27</td>\n",
       "      <td>131</td>\n",
       "      <td>0</td>\n",
       "      <td>0</td>\n",
       "      <td>1</td>\n",
       "      <td>...</td>\n",
       "      <td>0</td>\n",
       "      <td>0</td>\n",
       "      <td>0</td>\n",
       "      <td>2</td>\n",
       "      <td>1</td>\n",
       "      <td>104.0</td>\n",
       "      <td>57</td>\n",
       "      <td>57</td>\n",
       "      <td>72</td>\n",
       "      <td>Cluster 1</td>\n",
       "    </tr>\n",
       "    <tr>\n",
       "      <th>4</th>\n",
       "      <td>7567</td>\n",
       "      <td>832</td>\n",
       "      <td>5234</td>\n",
       "      <td>27711</td>\n",
       "      <td>68</td>\n",
       "      <td>689</td>\n",
       "      <td>5137</td>\n",
       "      <td>1</td>\n",
       "      <td>4</td>\n",
       "      <td>33</td>\n",
       "      <td>...</td>\n",
       "      <td>0</td>\n",
       "      <td>0</td>\n",
       "      <td>3</td>\n",
       "      <td>15</td>\n",
       "      <td>15</td>\n",
       "      <td>3570.0</td>\n",
       "      <td>19</td>\n",
       "      <td>144</td>\n",
       "      <td>12</td>\n",
       "      <td>Cluster 1</td>\n",
       "    </tr>\n",
       "    <tr>\n",
       "      <th>...</th>\n",
       "      <td>...</td>\n",
       "      <td>...</td>\n",
       "      <td>...</td>\n",
       "      <td>...</td>\n",
       "      <td>...</td>\n",
       "      <td>...</td>\n",
       "      <td>...</td>\n",
       "      <td>...</td>\n",
       "      <td>...</td>\n",
       "      <td>...</td>\n",
       "      <td>...</td>\n",
       "      <td>...</td>\n",
       "      <td>...</td>\n",
       "      <td>...</td>\n",
       "      <td>...</td>\n",
       "      <td>...</td>\n",
       "      <td>...</td>\n",
       "      <td>...</td>\n",
       "      <td>...</td>\n",
       "      <td>...</td>\n",
       "      <td>...</td>\n",
       "    </tr>\n",
       "    <tr>\n",
       "      <th>236</th>\n",
       "      <td>8244</td>\n",
       "      <td>945</td>\n",
       "      <td>6793</td>\n",
       "      <td>36900</td>\n",
       "      <td>68</td>\n",
       "      <td>224</td>\n",
       "      <td>788</td>\n",
       "      <td>0</td>\n",
       "      <td>0</td>\n",
       "      <td>4</td>\n",
       "      <td>...</td>\n",
       "      <td>0</td>\n",
       "      <td>0</td>\n",
       "      <td>0</td>\n",
       "      <td>12</td>\n",
       "      <td>12</td>\n",
       "      <td>3456.0</td>\n",
       "      <td>49</td>\n",
       "      <td>170</td>\n",
       "      <td>46</td>\n",
       "      <td>Cluster 1</td>\n",
       "    </tr>\n",
       "    <tr>\n",
       "      <th>237</th>\n",
       "      <td>8246</td>\n",
       "      <td>1372</td>\n",
       "      <td>7722</td>\n",
       "      <td>37219</td>\n",
       "      <td>44</td>\n",
       "      <td>380</td>\n",
       "      <td>1248</td>\n",
       "      <td>1</td>\n",
       "      <td>14</td>\n",
       "      <td>55</td>\n",
       "      <td>...</td>\n",
       "      <td>0</td>\n",
       "      <td>2</td>\n",
       "      <td>7</td>\n",
       "      <td>25</td>\n",
       "      <td>25</td>\n",
       "      <td>6975.0</td>\n",
       "      <td>2</td>\n",
       "      <td>83</td>\n",
       "      <td>155</td>\n",
       "      <td>Cluster 2</td>\n",
       "    </tr>\n",
       "    <tr>\n",
       "      <th>238</th>\n",
       "      <td>8249</td>\n",
       "      <td>2183</td>\n",
       "      <td>15704</td>\n",
       "      <td>60915</td>\n",
       "      <td>146</td>\n",
       "      <td>1264</td>\n",
       "      <td>6563</td>\n",
       "      <td>2</td>\n",
       "      <td>10</td>\n",
       "      <td>262</td>\n",
       "      <td>...</td>\n",
       "      <td>0</td>\n",
       "      <td>3</td>\n",
       "      <td>54</td>\n",
       "      <td>103</td>\n",
       "      <td>102</td>\n",
       "      <td>39964.0</td>\n",
       "      <td>3</td>\n",
       "      <td>95</td>\n",
       "      <td>1</td>\n",
       "      <td>Cluster 3</td>\n",
       "    </tr>\n",
       "    <tr>\n",
       "      <th>239</th>\n",
       "      <td>8270</td>\n",
       "      <td>3731</td>\n",
       "      <td>26649</td>\n",
       "      <td>113383</td>\n",
       "      <td>256</td>\n",
       "      <td>1398</td>\n",
       "      <td>6077</td>\n",
       "      <td>4</td>\n",
       "      <td>9</td>\n",
       "      <td>55</td>\n",
       "      <td>...</td>\n",
       "      <td>2</td>\n",
       "      <td>3</td>\n",
       "      <td>9</td>\n",
       "      <td>45</td>\n",
       "      <td>43</td>\n",
       "      <td>12960.0</td>\n",
       "      <td>1</td>\n",
       "      <td>61</td>\n",
       "      <td>&lt;NA&gt;</td>\n",
       "      <td>Cluster 0</td>\n",
       "    </tr>\n",
       "    <tr>\n",
       "      <th>240</th>\n",
       "      <td>8281</td>\n",
       "      <td>396</td>\n",
       "      <td>2505</td>\n",
       "      <td>12277</td>\n",
       "      <td>26</td>\n",
       "      <td>114</td>\n",
       "      <td>462</td>\n",
       "      <td>0</td>\n",
       "      <td>4</td>\n",
       "      <td>19</td>\n",
       "      <td>...</td>\n",
       "      <td>0</td>\n",
       "      <td>0</td>\n",
       "      <td>0</td>\n",
       "      <td>21</td>\n",
       "      <td>21</td>\n",
       "      <td>2016.0</td>\n",
       "      <td>46</td>\n",
       "      <td>129</td>\n",
       "      <td>88</td>\n",
       "      <td>Cluster 1</td>\n",
       "    </tr>\n",
       "  </tbody>\n",
       "</table>\n",
       "<p>241 rows × 23 columns</p>\n",
       "</div>"
      ],
      "text/plain": [
       "       ID  view_item_list_1d  view_item_list_7d  view_item_list_30d  \\\n",
       "0    7563               2068              15669               65850   \n",
       "1    7564                691               4457               23470   \n",
       "2    7565                470               2851               15126   \n",
       "3    7566                456               3004               16646   \n",
       "4    7567                832               5234               27711   \n",
       "..    ...                ...                ...                 ...   \n",
       "236  8244                945               6793               36900   \n",
       "237  8246               1372               7722               37219   \n",
       "238  8249               2183              15704               60915   \n",
       "239  8270               3731              26649              113383   \n",
       "240  8281                396               2505               12277   \n",
       "\n",
       "     view_item_1d  view_item_7d  view_item_30d  add_to_cart_1d  \\\n",
       "0              78           625           5215               0   \n",
       "1              37           118            393               1   \n",
       "2              10            72            294               0   \n",
       "3               5            27            131               0   \n",
       "4              68           689           5137               1   \n",
       "..            ...           ...            ...             ...   \n",
       "236            68           224            788               0   \n",
       "237            44           380           1248               1   \n",
       "238           146          1264           6563               2   \n",
       "239           256          1398           6077               4   \n",
       "240            26           114            462               0   \n",
       "\n",
       "     add_to_cart_7d  add_to_cart_30d  ...  purchase_1d  purchase_7d  \\\n",
       "0                 1               44  ...            0            1   \n",
       "1                 1                7  ...            0            0   \n",
       "2                 0                2  ...            0            0   \n",
       "3                 0                1  ...            0            0   \n",
       "4                 4               33  ...            0            0   \n",
       "..              ...              ...  ...          ...          ...   \n",
       "236               0                4  ...            0            0   \n",
       "237              14               55  ...            0            2   \n",
       "238              10              262  ...            0            3   \n",
       "239               9               55  ...            2            3   \n",
       "240               4               19  ...            0            0   \n",
       "\n",
       "     purchase_30d  qty_sold  nbre_commande  product_marge  order_recency  \\\n",
       "0               4        42             42        17346.0              4   \n",
       "1               0         9              9         2061.0             52   \n",
       "2               0         1              1          104.0            121   \n",
       "3               0         2              1          104.0             57   \n",
       "4               3        15             15         3570.0             19   \n",
       "..            ...       ...            ...            ...            ...   \n",
       "236             0        12             12         3456.0             49   \n",
       "237             7        25             25         6975.0              2   \n",
       "238            54       103            102        39964.0              3   \n",
       "239             9        45             43        12960.0              1   \n",
       "240             0        21             21         2016.0             46   \n",
       "\n",
       "     order_seniority  stock    Cluster  \n",
       "0                145   <NA>  Cluster 2  \n",
       "1                143    275  Cluster 1  \n",
       "2                121     43  Cluster 1  \n",
       "3                 57     72  Cluster 1  \n",
       "4                144     12  Cluster 1  \n",
       "..               ...    ...        ...  \n",
       "236              170     46  Cluster 1  \n",
       "237               83    155  Cluster 2  \n",
       "238               95      1  Cluster 3  \n",
       "239               61   <NA>  Cluster 0  \n",
       "240              129     88  Cluster 1  \n",
       "\n",
       "[241 rows x 23 columns]"
      ]
     },
     "execution_count": 30,
     "metadata": {},
     "output_type": "execute_result"
    }
   ],
   "source": [
    "unseen_predictions = predict_model(kmeans, mdp_data)\n",
    "unseen_predictions\n"
   ]
  },
  {
   "cell_type": "code",
   "execution_count": null,
   "metadata": {
    "cell_id": "9c3cda07ef5f4e6983bebcb7611d57c2",
    "deepnote_cell_type": "visualization",
    "deepnote_to_be_reexecuted": false,
    "deepnote_variable_name": "unseen_predictions",
    "deepnote_visualization_spec": {
     "$schema": "https://vega.github.io/schema/vega-lite/v4.json",
     "autosize": {
      "type": "fit"
     },
     "data": {
      "name": "placeholder"
     },
     "encoding": {
      "color": {
       "field": "",
       "scale": {
        "type": "linear",
        "zero": false
       },
       "sort": null,
       "type": "nominal"
      },
      "x": {
       "aggregate": "count",
       "field": "COUNT(*)",
       "scale": {
        "type": "linear",
        "zero": false
       },
       "sort": null,
       "type": "quantitative"
      },
      "y": {
       "field": "Cluster",
       "scale": {
        "type": "linear",
        "zero": true
       },
       "sort": null,
       "type": "nominal"
      }
     },
     "height": 220,
     "mark": {
      "tooltip": true,
      "type": "bar"
     }
    },
    "execution_millis": 108,
    "execution_start": 1654077089559,
    "source_hash": "dbd1ec1e"
   },
   "outputs": [
    {
     "data": {
      "text/html": [
       "\n",
       "<div id=\"altair-viz-c1050aa228e648acaf17e1e6eb0e8f0b\"></div>\n",
       "<script type=\"text/javascript\">\n",
       "  (function(spec, embedOpt){\n",
       "    let outputDiv = document.currentScript.previousElementSibling;\n",
       "    if (outputDiv.id !== \"altair-viz-c1050aa228e648acaf17e1e6eb0e8f0b\") {\n",
       "      outputDiv = document.getElementById(\"altair-viz-c1050aa228e648acaf17e1e6eb0e8f0b\");\n",
       "    }\n",
       "    const paths = {\n",
       "      \"vega\": \"https://cdn.jsdelivr.net/npm//vega@5?noext\",\n",
       "      \"vega-lib\": \"https://cdn.jsdelivr.net/npm//vega-lib?noext\",\n",
       "      \"vega-lite\": \"https://cdn.jsdelivr.net/npm//vega-lite@4.8.1?noext\",\n",
       "      \"vega-embed\": \"https://cdn.jsdelivr.net/npm//vega-embed@6?noext\",\n",
       "    };\n",
       "\n",
       "    function loadScript(lib) {\n",
       "      return new Promise(function(resolve, reject) {\n",
       "        var s = document.createElement('script');\n",
       "        s.src = paths[lib];\n",
       "        s.async = true;\n",
       "        s.onload = () => resolve(paths[lib]);\n",
       "        s.onerror = () => reject(`Error loading script: ${paths[lib]}`);\n",
       "        document.getElementsByTagName(\"head\")[0].appendChild(s);\n",
       "      });\n",
       "    }\n",
       "\n",
       "    function showError(err) {\n",
       "      outputDiv.innerHTML = `<div class=\"error\" style=\"color:red;\">${err}</div>`;\n",
       "      throw err;\n",
       "    }\n",
       "\n",
       "    function displayChart(vegaEmbed) {\n",
       "      vegaEmbed(outputDiv, spec, embedOpt)\n",
       "        .catch(err => showError(`Javascript Error: ${err.message}<br>This usually means there's a typo in your chart specification. See the javascript console for the full traceback.`));\n",
       "    }\n",
       "\n",
       "    if(typeof define === \"function\" && define.amd) {\n",
       "      requirejs.config({paths});\n",
       "      require([\"vega-embed\"], displayChart, err => showError(`Error loading script: ${err.message}`));\n",
       "    } else if (typeof vegaEmbed === \"function\") {\n",
       "      displayChart(vegaEmbed);\n",
       "    } else {\n",
       "      loadScript(\"vega\")\n",
       "        .then(() => loadScript(\"vega-lite\"))\n",
       "        .then(() => loadScript(\"vega-embed\"))\n",
       "        .catch(showError)\n",
       "        .then(() => displayChart(vegaEmbed));\n",
       "    }\n",
       "  })({\"config\": {\"view\": {\"continuousWidth\": 400, \"continuousHeight\": 300}, \"area\": {\"fill\": \"#51C0E9\"}, \"axis\": {\"labelFont\": \"Inter, sans-serif\", \"labelFontSize\": 12, \"labelFontWeight\": \"normal\", \"labelLimit\": 60, \"labelOverlap\": \"greedy\", \"titleFont\": \"Inter, sans-serif\", \"titleFontSize\": 12, \"titleFontWeight\": \"bold\"}, \"background\": \"#ffffff\", \"legend\": {\"labelFont\": \"Inter, sans-serif\", \"labelFontSize\": 12, \"titleFont\": \"Inter, sans-serif\", \"titleFontSize\": 12, \"titleFontWeight\": \"bold\"}, \"line\": {\"stroke\": \"#51C0E9\", \"strokeWidth\": 2}, \"rect\": {\"fill\": \"#51C0E9\"}, \"title\": {\"anchor\": \"start\", \"color\": \"#000000\", \"font\": \"Inter, sans-serif\", \"fontSize\": 22, \"fontWeight\": \"normal\"}}, \"data\": {\"name\": \"data-b7620d9ab0fdf43bfbb05104e76654e2\"}, \"mark\": {\"type\": \"bar\", \"tooltip\": true}, \"autosize\": {\"type\": \"fit\"}, \"encoding\": {\"color\": {\"type\": \"nominal\", \"field\": \"\", \"scale\": {\"type\": \"linear\", \"zero\": false}, \"sort\": null}, \"x\": {\"type\": \"quantitative\", \"aggregate\": \"count\", \"field\": \"COUNT(*)\", \"scale\": {\"type\": \"linear\", \"zero\": false}, \"sort\": null}, \"y\": {\"type\": \"nominal\", \"field\": \"Cluster\", \"scale\": {\"type\": \"linear\", \"zero\": true}, \"sort\": null}}, \"height\": 300, \"width\": \"container\", \"$schema\": \"https://vega.github.io/schema/vega-lite/v4.json\", \"datasets\": {\"data-b7620d9ab0fdf43bfbb05104e76654e2\": [{\"ID\": 7563, \"view_item_list_1d\": 2068, \"view_item_list_7d\": 15669, \"view_item_list_30d\": 65850, \"view_item_1d\": 78, \"view_item_7d\": 625, \"view_item_30d\": 5215, \"add_to_cart_1d\": 0, \"add_to_cart_7d\": 1, \"add_to_cart_30d\": 44, \"begin_checkout_1d\": 0, \"begin_checkout_7d\": 2, \"begin_checkout_30d\": 31, \"purchase_1d\": 0, \"purchase_7d\": 1, \"purchase_30d\": 4, \"qty_sold\": 42, \"nbre_commande\": 42, \"product_marge\": 17346.0, \"order_recency\": 4, \"order_seniority\": 145, \"stock\": null, \"Cluster\": \"Cluster 2\"}, {\"ID\": 7564, \"view_item_list_1d\": 691, \"view_item_list_7d\": 4457, \"view_item_list_30d\": 23470, \"view_item_1d\": 37, \"view_item_7d\": 118, \"view_item_30d\": 393, \"add_to_cart_1d\": 1, \"add_to_cart_7d\": 1, \"add_to_cart_30d\": 7, \"begin_checkout_1d\": 0, \"begin_checkout_7d\": 0, \"begin_checkout_30d\": 3, \"purchase_1d\": 0, \"purchase_7d\": 0, \"purchase_30d\": 0, \"qty_sold\": 9, \"nbre_commande\": 9, \"product_marge\": 2061.0, \"order_recency\": 52, \"order_seniority\": 143, \"stock\": 275, \"Cluster\": \"Cluster 1\"}, {\"ID\": 7565, \"view_item_list_1d\": 470, \"view_item_list_7d\": 2851, \"view_item_list_30d\": 15126, \"view_item_1d\": 10, \"view_item_7d\": 72, \"view_item_30d\": 294, \"add_to_cart_1d\": 0, \"add_to_cart_7d\": 0, \"add_to_cart_30d\": 2, \"begin_checkout_1d\": 0, \"begin_checkout_7d\": 0, \"begin_checkout_30d\": 0, \"purchase_1d\": 0, \"purchase_7d\": 0, \"purchase_30d\": 0, \"qty_sold\": 1, \"nbre_commande\": 1, \"product_marge\": 104.0, \"order_recency\": 121, \"order_seniority\": 121, \"stock\": 43, \"Cluster\": \"Cluster 1\"}, {\"ID\": 7566, \"view_item_list_1d\": 456, \"view_item_list_7d\": 3004, \"view_item_list_30d\": 16646, \"view_item_1d\": 5, \"view_item_7d\": 27, \"view_item_30d\": 131, \"add_to_cart_1d\": 0, \"add_to_cart_7d\": 0, \"add_to_cart_30d\": 1, \"begin_checkout_1d\": 0, \"begin_checkout_7d\": 0, \"begin_checkout_30d\": 0, \"purchase_1d\": 0, \"purchase_7d\": 0, \"purchase_30d\": 0, \"qty_sold\": 2, \"nbre_commande\": 1, \"product_marge\": 104.0, \"order_recency\": 57, \"order_seniority\": 57, \"stock\": 72, \"Cluster\": \"Cluster 1\"}, {\"ID\": 7567, \"view_item_list_1d\": 832, \"view_item_list_7d\": 5234, \"view_item_list_30d\": 27711, \"view_item_1d\": 68, \"view_item_7d\": 689, \"view_item_30d\": 5137, \"add_to_cart_1d\": 1, \"add_to_cart_7d\": 4, \"add_to_cart_30d\": 33, \"begin_checkout_1d\": 0, \"begin_checkout_7d\": 4, \"begin_checkout_30d\": 27, \"purchase_1d\": 0, \"purchase_7d\": 0, \"purchase_30d\": 3, \"qty_sold\": 15, \"nbre_commande\": 15, \"product_marge\": 3570.0, \"order_recency\": 19, \"order_seniority\": 144, \"stock\": 12, \"Cluster\": \"Cluster 1\"}, {\"ID\": 7568, \"view_item_list_1d\": 1086, \"view_item_list_7d\": 8405, \"view_item_list_30d\": 37567, \"view_item_1d\": 101, \"view_item_7d\": 713, \"view_item_30d\": 3801, \"add_to_cart_1d\": 0, \"add_to_cart_7d\": 0, \"add_to_cart_30d\": 22, \"begin_checkout_1d\": 0, \"begin_checkout_7d\": 0, \"begin_checkout_30d\": 42, \"purchase_1d\": 0, \"purchase_7d\": 0, \"purchase_30d\": 6, \"qty_sold\": 69, \"nbre_commande\": 69, \"product_marge\": 22701.0, \"order_recency\": 11, \"order_seniority\": 140, \"stock\": null, \"Cluster\": \"Cluster 2\"}, {\"ID\": 7569, \"view_item_list_1d\": 13, \"view_item_list_7d\": 108, \"view_item_list_30d\": 527, \"view_item_1d\": 6, \"view_item_7d\": 78, \"view_item_30d\": 278, \"add_to_cart_1d\": 0, \"add_to_cart_7d\": 4, \"add_to_cart_30d\": 8, \"begin_checkout_1d\": 0, \"begin_checkout_7d\": 3, \"begin_checkout_30d\": 12, \"purchase_1d\": 0, \"purchase_7d\": 1, \"purchase_30d\": 2, \"qty_sold\": 5, \"nbre_commande\": 5, \"product_marge\": 1145.0, \"order_recency\": 2, \"order_seniority\": 34, \"stock\": null, \"Cluster\": \"Cluster 1\"}, {\"ID\": 7570, \"view_item_list_1d\": 563, \"view_item_list_7d\": 3588, \"view_item_list_30d\": 19889, \"view_item_1d\": 19, \"view_item_7d\": 104, \"view_item_30d\": 458, \"add_to_cart_1d\": 2, \"add_to_cart_7d\": 6, \"add_to_cart_30d\": 27, \"begin_checkout_1d\": 1, \"begin_checkout_7d\": 4, \"begin_checkout_30d\": 28, \"purchase_1d\": 0, \"purchase_7d\": 0, \"purchase_30d\": 4, \"qty_sold\": 28, \"nbre_commande\": 28, \"product_marge\": 6412.0, \"order_recency\": 20, \"order_seniority\": 143, \"stock\": 13, \"Cluster\": \"Cluster 1\"}, {\"ID\": 7571, \"view_item_list_1d\": 497, \"view_item_list_7d\": 3170, \"view_item_list_30d\": 16498, \"view_item_1d\": 2, \"view_item_7d\": 51, \"view_item_30d\": 227, \"add_to_cart_1d\": 0, \"add_to_cart_7d\": 3, \"add_to_cart_30d\": 10, \"begin_checkout_1d\": 0, \"begin_checkout_7d\": 3, \"begin_checkout_30d\": 5, \"purchase_1d\": 0, \"purchase_7d\": 1, \"purchase_30d\": 1, \"qty_sold\": 6, \"nbre_commande\": 6, \"product_marge\": 1326.0, \"order_recency\": 3, \"order_seniority\": 143, \"stock\": 57, \"Cluster\": \"Cluster 1\"}, {\"ID\": 7572, \"view_item_list_1d\": 657, \"view_item_list_7d\": 3793, \"view_item_list_30d\": 19465, \"view_item_1d\": 4, \"view_item_7d\": 64, \"view_item_30d\": 286, \"add_to_cart_1d\": 0, \"add_to_cart_7d\": 1, \"add_to_cart_30d\": 7, \"begin_checkout_1d\": 0, \"begin_checkout_7d\": 0, \"begin_checkout_30d\": 5, \"purchase_1d\": 0, \"purchase_7d\": 0, \"purchase_30d\": 1, \"qty_sold\": 5, \"nbre_commande\": 5, \"product_marge\": 1105.0, \"order_recency\": 11, \"order_seniority\": 71, \"stock\": 52, \"Cluster\": \"Cluster 1\"}, {\"ID\": 7573, \"view_item_list_1d\": 654, \"view_item_list_7d\": 3888, \"view_item_list_30d\": 19775, \"view_item_1d\": 20, \"view_item_7d\": 127, \"view_item_30d\": 614, \"add_to_cart_1d\": 1, \"add_to_cart_7d\": 11, \"add_to_cart_30d\": 40, \"begin_checkout_1d\": 0, \"begin_checkout_7d\": 4, \"begin_checkout_30d\": 41, \"purchase_1d\": 0, \"purchase_7d\": 1, \"purchase_30d\": 2, \"qty_sold\": 22, \"nbre_commande\": 22, \"product_marge\": 6886.0, \"order_recency\": 6, \"order_seniority\": 140, \"stock\": 59, \"Cluster\": \"Cluster 1\"}, {\"ID\": 7574, \"view_item_list_1d\": 607, \"view_item_list_7d\": 3627, \"view_item_list_30d\": 19235, \"view_item_1d\": 35, \"view_item_7d\": 128, \"view_item_30d\": 621, \"add_to_cart_1d\": 1, \"add_to_cart_7d\": 2, \"add_to_cart_30d\": 13, \"begin_checkout_1d\": 2, \"begin_checkout_7d\": 8, \"begin_checkout_30d\": 29, \"purchase_1d\": 0, \"purchase_7d\": 0, \"purchase_30d\": 3, \"qty_sold\": 13, \"nbre_commande\": 13, \"product_marge\": 4069.0, \"order_recency\": 20, \"order_seniority\": 145, \"stock\": 33, \"Cluster\": \"Cluster 1\"}, {\"ID\": 7575, \"view_item_list_1d\": 678, \"view_item_list_7d\": 3642, \"view_item_list_30d\": 20047, \"view_item_1d\": 2, \"view_item_7d\": 81, \"view_item_30d\": 387, \"add_to_cart_1d\": 0, \"add_to_cart_7d\": 0, \"add_to_cart_30d\": 16, \"begin_checkout_1d\": 0, \"begin_checkout_7d\": 2, \"begin_checkout_30d\": 36, \"purchase_1d\": 0, \"purchase_7d\": 0, \"purchase_30d\": 3, \"qty_sold\": 10, \"nbre_commande\": 10, \"product_marge\": 4130.0, \"order_recency\": 8, \"order_seniority\": 143, \"stock\": 41, \"Cluster\": \"Cluster 1\"}, {\"ID\": 7576, \"view_item_list_1d\": 615, \"view_item_list_7d\": 3870, \"view_item_list_30d\": 20530, \"view_item_1d\": 22, \"view_item_7d\": 109, \"view_item_30d\": 472, \"add_to_cart_1d\": 1, \"add_to_cart_7d\": 4, \"add_to_cart_30d\": 8, \"begin_checkout_1d\": 0, \"begin_checkout_7d\": 0, \"begin_checkout_30d\": 3, \"purchase_1d\": 0, \"purchase_7d\": 0, \"purchase_30d\": 0, \"qty_sold\": 8, \"nbre_commande\": 8, \"product_marge\": 3304.0, \"order_recency\": 36, \"order_seniority\": 117, \"stock\": 23, \"Cluster\": \"Cluster 1\"}, {\"ID\": 7579, \"view_item_list_1d\": 668, \"view_item_list_7d\": 3847, \"view_item_list_30d\": 20347, \"view_item_1d\": 10, \"view_item_7d\": 106, \"view_item_30d\": 519, \"add_to_cart_1d\": 1, \"add_to_cart_7d\": 2, \"add_to_cart_30d\": 19, \"begin_checkout_1d\": 2, \"begin_checkout_7d\": 2, \"begin_checkout_30d\": 20, \"purchase_1d\": 0, \"purchase_7d\": 0, \"purchase_30d\": 7, \"qty_sold\": 28, \"nbre_commande\": 26, \"product_marge\": 8883.0, \"order_recency\": 11, \"order_seniority\": 144, \"stock\": 4, \"Cluster\": \"Cluster 1\"}, {\"ID\": 7581, \"view_item_list_1d\": 1535, \"view_item_list_7d\": 9984, \"view_item_list_30d\": 45381, \"view_item_1d\": 86, \"view_item_7d\": 369, \"view_item_30d\": 1201, \"add_to_cart_1d\": 1, \"add_to_cart_7d\": 9, \"add_to_cart_30d\": 28, \"begin_checkout_1d\": 1, \"begin_checkout_7d\": 7, \"begin_checkout_30d\": 21, \"purchase_1d\": 1, \"purchase_7d\": 3, \"purchase_30d\": 5, \"qty_sold\": 27, \"nbre_commande\": 27, \"product_marge\": 5076.0, \"order_recency\": 1, \"order_seniority\": 144, \"stock\": 41, \"Cluster\": \"Cluster 2\"}, {\"ID\": 7585, \"view_item_list_1d\": 641, \"view_item_list_7d\": 3550, \"view_item_list_30d\": 17133, \"view_item_1d\": 8, \"view_item_7d\": 75, \"view_item_30d\": 295, \"add_to_cart_1d\": 1, \"add_to_cart_7d\": 3, \"add_to_cart_30d\": 7, \"begin_checkout_1d\": 0, \"begin_checkout_7d\": 4, \"begin_checkout_30d\": 8, \"purchase_1d\": 0, \"purchase_7d\": 1, \"purchase_30d\": 1, \"qty_sold\": 16, \"nbre_commande\": 16, \"product_marge\": 3536.0, \"order_recency\": 6, \"order_seniority\": 144, \"stock\": 106, \"Cluster\": \"Cluster 1\"}, {\"ID\": 7586, \"view_item_list_1d\": 590, \"view_item_list_7d\": 3746, \"view_item_list_30d\": 17806, \"view_item_1d\": 19, \"view_item_7d\": 137, \"view_item_30d\": 624, \"add_to_cart_1d\": 0, \"add_to_cart_7d\": 2, \"add_to_cart_30d\": 20, \"begin_checkout_1d\": 0, \"begin_checkout_7d\": 2, \"begin_checkout_30d\": 16, \"purchase_1d\": 0, \"purchase_7d\": 1, \"purchase_30d\": 2, \"qty_sold\": 17, \"nbre_commande\": 17, \"product_marge\": 3893.0, \"order_recency\": 7, \"order_seniority\": 121, \"stock\": 51, \"Cluster\": \"Cluster 1\"}, {\"ID\": 7587, \"view_item_list_1d\": 223, \"view_item_list_7d\": 1519, \"view_item_list_30d\": 8173, \"view_item_1d\": 13, \"view_item_7d\": 71, \"view_item_30d\": 281, \"add_to_cart_1d\": 0, \"add_to_cart_7d\": 2, \"add_to_cart_30d\": 11, \"begin_checkout_1d\": 0, \"begin_checkout_7d\": 1, \"begin_checkout_30d\": 2, \"purchase_1d\": 0, \"purchase_7d\": 0, \"purchase_30d\": 0, \"qty_sold\": 1, \"nbre_commande\": 1, \"product_marge\": 396.0, \"order_recency\": 127, \"order_seniority\": 127, \"stock\": 94, \"Cluster\": \"Cluster 1\"}, {\"ID\": 7588, \"view_item_list_1d\": 318, \"view_item_list_7d\": 2109, \"view_item_list_30d\": 12165, \"view_item_1d\": 14, \"view_item_7d\": 71, \"view_item_30d\": 261, \"add_to_cart_1d\": 0, \"add_to_cart_7d\": 2, \"add_to_cart_30d\": 2, \"begin_checkout_1d\": 0, \"begin_checkout_7d\": 1, \"begin_checkout_30d\": 1, \"purchase_1d\": 0, \"purchase_7d\": 0, \"purchase_30d\": 0, \"qty_sold\": 7, \"nbre_commande\": 7, \"product_marge\": 2772.0, \"order_recency\": 53, \"order_seniority\": 174, \"stock\": 37, \"Cluster\": \"Cluster 1\"}, {\"ID\": 7589, \"view_item_list_1d\": 228, \"view_item_list_7d\": 1613, \"view_item_list_30d\": 8765, \"view_item_1d\": 6, \"view_item_7d\": 88, \"view_item_30d\": 422, \"add_to_cart_1d\": 0, \"add_to_cart_7d\": 1, \"add_to_cart_30d\": 13, \"begin_checkout_1d\": 1, \"begin_checkout_7d\": 1, \"begin_checkout_30d\": 2, \"purchase_1d\": 0, \"purchase_7d\": 0, \"purchase_30d\": 0, \"qty_sold\": 9, \"nbre_commande\": 9, \"product_marge\": 3564.0, \"order_recency\": 66, \"order_seniority\": 173, \"stock\": 48, \"Cluster\": \"Cluster 1\"}, {\"ID\": 7590, \"view_item_list_1d\": 564, \"view_item_list_7d\": 3297, \"view_item_list_30d\": 18873, \"view_item_1d\": 18, \"view_item_7d\": 74, \"view_item_30d\": 342, \"add_to_cart_1d\": 0, \"add_to_cart_7d\": 1, \"add_to_cart_30d\": 8, \"begin_checkout_1d\": 0, \"begin_checkout_7d\": 1, \"begin_checkout_30d\": 2, \"purchase_1d\": 0, \"purchase_7d\": 0, \"purchase_30d\": 1, \"qty_sold\": 8, \"nbre_commande\": 8, \"product_marge\": 3168.0, \"order_recency\": 18, \"order_seniority\": 141, \"stock\": 37, \"Cluster\": \"Cluster 1\"}, {\"ID\": 7591, \"view_item_list_1d\": 471, \"view_item_list_7d\": 2882, \"view_item_list_30d\": 14555, \"view_item_1d\": 9, \"view_item_7d\": 74, \"view_item_30d\": 327, \"add_to_cart_1d\": 0, \"add_to_cart_7d\": 2, \"add_to_cart_30d\": 6, \"begin_checkout_1d\": 0, \"begin_checkout_7d\": 3, \"begin_checkout_30d\": 3, \"purchase_1d\": 0, \"purchase_7d\": 1, \"purchase_30d\": 1, \"qty_sold\": 11, \"nbre_commande\": 11, \"product_marge\": 4543.0, \"order_recency\": 4, \"order_seniority\": 141, \"stock\": 46, \"Cluster\": \"Cluster 1\"}, {\"ID\": 7594, \"view_item_list_1d\": 676, \"view_item_list_7d\": 4534, \"view_item_list_30d\": 30685, \"view_item_1d\": 19, \"view_item_7d\": 131, \"view_item_30d\": 576, \"add_to_cart_1d\": 0, \"add_to_cart_7d\": 4, \"add_to_cart_30d\": 25, \"begin_checkout_1d\": 0, \"begin_checkout_7d\": 1, \"begin_checkout_30d\": 16, \"purchase_1d\": 0, \"purchase_7d\": 0, \"purchase_30d\": 1, \"qty_sold\": 10, \"nbre_commande\": 10, \"product_marge\": 4130.0, \"order_recency\": 26, \"order_seniority\": 141, \"stock\": 29, \"Cluster\": \"Cluster 1\"}, {\"ID\": 7595, \"view_item_list_1d\": 343, \"view_item_list_7d\": 2212, \"view_item_list_30d\": 10842, \"view_item_1d\": 12, \"view_item_7d\": 96, \"view_item_30d\": 398, \"add_to_cart_1d\": 0, \"add_to_cart_7d\": 0, \"add_to_cart_30d\": 11, \"begin_checkout_1d\": 0, \"begin_checkout_7d\": 0, \"begin_checkout_30d\": 9, \"purchase_1d\": 0, \"purchase_7d\": 0, \"purchase_30d\": 2, \"qty_sold\": 7, \"nbre_commande\": 7, \"product_marge\": 1141.0, \"order_recency\": 8, \"order_seniority\": 127, \"stock\": 82, \"Cluster\": \"Cluster 1\"}, {\"ID\": 7596, \"view_item_list_1d\": 697, \"view_item_list_7d\": 4372, \"view_item_list_30d\": 22400, \"view_item_1d\": 9, \"view_item_7d\": 98, \"view_item_30d\": 386, \"add_to_cart_1d\": 0, \"add_to_cart_7d\": 3, \"add_to_cart_30d\": 9, \"begin_checkout_1d\": 0, \"begin_checkout_7d\": 2, \"begin_checkout_30d\": 7, \"purchase_1d\": 0, \"purchase_7d\": 0, \"purchase_30d\": 0, \"qty_sold\": 12, \"nbre_commande\": 12, \"product_marge\": 1956.0, \"order_recency\": 53, \"order_seniority\": 165, \"stock\": 43, \"Cluster\": \"Cluster 1\"}, {\"ID\": 7597, \"view_item_list_1d\": 711, \"view_item_list_7d\": 4588, \"view_item_list_30d\": 21649, \"view_item_1d\": 9, \"view_item_7d\": 62, \"view_item_30d\": 306, \"add_to_cart_1d\": 0, \"add_to_cart_7d\": 2, \"add_to_cart_30d\": 16, \"begin_checkout_1d\": 1, \"begin_checkout_7d\": 4, \"begin_checkout_30d\": 17, \"purchase_1d\": 0, \"purchase_7d\": 0, \"purchase_30d\": 3, \"qty_sold\": 12, \"nbre_commande\": 12, \"product_marge\": 1956.0, \"order_recency\": 11, \"order_seniority\": 175, \"stock\": 40, \"Cluster\": \"Cluster 1\"}, {\"ID\": 7598, \"view_item_list_1d\": 478, \"view_item_list_7d\": 3079, \"view_item_list_30d\": 15565, \"view_item_1d\": 6, \"view_item_7d\": 52, \"view_item_30d\": 313, \"add_to_cart_1d\": 0, \"add_to_cart_7d\": 0, \"add_to_cart_30d\": 11, \"begin_checkout_1d\": 0, \"begin_checkout_7d\": 3, \"begin_checkout_30d\": 15, \"purchase_1d\": 0, \"purchase_7d\": 0, \"purchase_30d\": 1, \"qty_sold\": 6, \"nbre_commande\": 6, \"product_marge\": 978.0, \"order_recency\": 26, \"order_seniority\": 117, \"stock\": 56, \"Cluster\": \"Cluster 1\"}, {\"ID\": 7599, \"view_item_list_1d\": 585, \"view_item_list_7d\": 3746, \"view_item_list_30d\": 20499, \"view_item_1d\": 19, \"view_item_7d\": 165, \"view_item_30d\": 635, \"add_to_cart_1d\": 0, \"add_to_cart_7d\": 3, \"add_to_cart_30d\": 18, \"begin_checkout_1d\": 0, \"begin_checkout_7d\": 0, \"begin_checkout_30d\": 14, \"purchase_1d\": 0, \"purchase_7d\": 0, \"purchase_30d\": 2, \"qty_sold\": 14, \"nbre_commande\": 14, \"product_marge\": 5782.0, \"order_recency\": 9, \"order_seniority\": 146, \"stock\": 67, \"Cluster\": \"Cluster 1\"}, {\"ID\": 7600, \"view_item_list_1d\": 728, \"view_item_list_7d\": 4070, \"view_item_list_30d\": 14525, \"view_item_1d\": 34, \"view_item_7d\": 309, \"view_item_30d\": 1022, \"add_to_cart_1d\": 0, \"add_to_cart_7d\": 3, \"add_to_cart_30d\": 20, \"begin_checkout_1d\": 0, \"begin_checkout_7d\": 3, \"begin_checkout_30d\": 6, \"purchase_1d\": 0, \"purchase_7d\": 1, \"purchase_30d\": 1, \"qty_sold\": 43, \"nbre_commande\": 43, \"product_marge\": 17759.0, \"order_recency\": 4, \"order_seniority\": 184, \"stock\": null, \"Cluster\": \"Cluster 2\"}, {\"ID\": 7602, \"view_item_list_1d\": 753, \"view_item_list_7d\": 4601, \"view_item_list_30d\": 24352, \"view_item_1d\": 38, \"view_item_7d\": 172, \"view_item_30d\": 788, \"add_to_cart_1d\": 0, \"add_to_cart_7d\": 2, \"add_to_cart_30d\": 28, \"begin_checkout_1d\": 0, \"begin_checkout_7d\": 21, \"begin_checkout_30d\": 57, \"purchase_1d\": 0, \"purchase_7d\": 1, \"purchase_30d\": 3, \"qty_sold\": 30, \"nbre_commande\": 30, \"product_marge\": 12390.0, \"order_recency\": 3, \"order_seniority\": 162, \"stock\": 10, \"Cluster\": \"Cluster 2\"}, {\"ID\": 7603, \"view_item_list_1d\": 1679, \"view_item_list_7d\": 9750, \"view_item_list_30d\": 50071, \"view_item_1d\": 182, \"view_item_7d\": 323, \"view_item_30d\": 1337, \"add_to_cart_1d\": 2, \"add_to_cart_7d\": 10, \"add_to_cart_30d\": 32, \"begin_checkout_1d\": 0, \"begin_checkout_7d\": 4, \"begin_checkout_30d\": 32, \"purchase_1d\": 0, \"purchase_7d\": 0, \"purchase_30d\": 4, \"qty_sold\": 21, \"nbre_commande\": 21, \"product_marge\": 6741.0, \"order_recency\": 15, \"order_seniority\": 61, \"stock\": 18, \"Cluster\": \"Cluster 1\"}, {\"ID\": 7604, \"view_item_list_1d\": 2030, \"view_item_list_7d\": 11668, \"view_item_list_30d\": 54784, \"view_item_1d\": 94, \"view_item_7d\": 417, \"view_item_30d\": 1449, \"add_to_cart_1d\": 5, \"add_to_cart_7d\": 22, \"add_to_cart_30d\": 96, \"begin_checkout_1d\": 5, \"begin_checkout_7d\": 45, \"begin_checkout_30d\": 124, \"purchase_1d\": 1, \"purchase_7d\": 1, \"purchase_30d\": 11, \"qty_sold\": 33, \"nbre_commande\": 32, \"product_marge\": 5907.0, \"order_recency\": 1, \"order_seniority\": 59, \"stock\": 14, \"Cluster\": \"Cluster 0\"}, {\"ID\": 7606, \"view_item_list_1d\": 3025, \"view_item_list_7d\": 24095, \"view_item_list_30d\": 110620, \"view_item_1d\": 90, \"view_item_7d\": 814, \"view_item_30d\": 3217, \"add_to_cart_1d\": 3, \"add_to_cart_7d\": 16, \"add_to_cart_30d\": 87, \"begin_checkout_1d\": 7, \"begin_checkout_7d\": 10, \"begin_checkout_30d\": 72, \"purchase_1d\": 1, \"purchase_7d\": 3, \"purchase_30d\": 11, \"qty_sold\": 36, \"nbre_commande\": 35, \"product_marge\": 8856.0, \"order_recency\": 1, \"order_seniority\": 61, \"stock\": 29, \"Cluster\": \"Cluster 0\"}, {\"ID\": 7607, \"view_item_list_1d\": 760, \"view_item_list_7d\": 4354, \"view_item_list_30d\": 18104, \"view_item_1d\": 5, \"view_item_7d\": 73, \"view_item_30d\": 327, \"add_to_cart_1d\": 0, \"add_to_cart_7d\": 2, \"add_to_cart_30d\": 8, \"begin_checkout_1d\": 0, \"begin_checkout_7d\": 0, \"begin_checkout_30d\": 6, \"purchase_1d\": 0, \"purchase_7d\": 0, \"purchase_30d\": 0, \"qty_sold\": 15, \"nbre_commande\": 15, \"product_marge\": 3435.0, \"order_recency\": 46, \"order_seniority\": 180, \"stock\": 76, \"Cluster\": \"Cluster 1\"}, {\"ID\": 7608, \"view_item_list_1d\": 1034, \"view_item_list_7d\": 5785, \"view_item_list_30d\": 24472, \"view_item_1d\": 11, \"view_item_7d\": 77, \"view_item_30d\": 302, \"add_to_cart_1d\": 0, \"add_to_cart_7d\": 2, \"add_to_cart_30d\": 7, \"begin_checkout_1d\": 0, \"begin_checkout_7d\": 2, \"begin_checkout_30d\": 10, \"purchase_1d\": 0, \"purchase_7d\": 0, \"purchase_30d\": 2, \"qty_sold\": 15, \"nbre_commande\": 15, \"product_marge\": 3690.0, \"order_recency\": 12, \"order_seniority\": 184, \"stock\": 63, \"Cluster\": \"Cluster 1\"}, {\"ID\": 7609, \"view_item_list_1d\": 1459, \"view_item_list_7d\": 10666, \"view_item_list_30d\": 52085, \"view_item_1d\": 95, \"view_item_7d\": 859, \"view_item_30d\": 4099, \"add_to_cart_1d\": 0, \"add_to_cart_7d\": 9, \"add_to_cart_30d\": 78, \"begin_checkout_1d\": 0, \"begin_checkout_7d\": 10, \"begin_checkout_30d\": 36, \"purchase_1d\": 0, \"purchase_7d\": 2, \"purchase_30d\": 9, \"qty_sold\": 30, \"nbre_commande\": 29, \"product_marge\": 9541.0, \"order_recency\": 4, \"order_seniority\": 145, \"stock\": 160, \"Cluster\": \"Cluster 2\"}, {\"ID\": 7610, \"view_item_list_1d\": 1314, \"view_item_list_7d\": 9822, \"view_item_list_30d\": 42665, \"view_item_1d\": 98, \"view_item_7d\": 737, \"view_item_30d\": 4020, \"add_to_cart_1d\": 0, \"add_to_cart_7d\": 5, \"add_to_cart_30d\": 44, \"begin_checkout_1d\": 1, \"begin_checkout_7d\": 3, \"begin_checkout_30d\": 24, \"purchase_1d\": 0, \"purchase_7d\": 0, \"purchase_30d\": 2, \"qty_sold\": 26, \"nbre_commande\": 26, \"product_marge\": 8554.0, \"order_recency\": 8, \"order_seniority\": 145, \"stock\": 120, \"Cluster\": \"Cluster 1\"}, {\"ID\": 7611, \"view_item_list_1d\": 618, \"view_item_list_7d\": 3549, \"view_item_list_30d\": 17504, \"view_item_1d\": 22, \"view_item_7d\": 61, \"view_item_30d\": 231, \"add_to_cart_1d\": 3, \"add_to_cart_7d\": 6, \"add_to_cart_30d\": 14, \"begin_checkout_1d\": 5, \"begin_checkout_7d\": 12, \"begin_checkout_30d\": 21, \"purchase_1d\": 1, \"purchase_7d\": 1, \"purchase_30d\": 2, \"qty_sold\": 17, \"nbre_commande\": 17, \"product_marge\": 1343.0, \"order_recency\": 1, \"order_seniority\": 141, \"stock\": 9, \"Cluster\": \"Cluster 1\"}, {\"ID\": 7613, \"view_item_list_1d\": 775, \"view_item_list_7d\": 4452, \"view_item_list_30d\": 24123, \"view_item_1d\": 171, \"view_item_7d\": 1094, \"view_item_30d\": 3051, \"add_to_cart_1d\": 1, \"add_to_cart_7d\": 7, \"add_to_cart_30d\": 60, \"begin_checkout_1d\": 0, \"begin_checkout_7d\": 3, \"begin_checkout_30d\": 48, \"purchase_1d\": 0, \"purchase_7d\": 1, \"purchase_30d\": 10, \"qty_sold\": 32, \"nbre_commande\": 30, \"product_marge\": 4928.0, \"order_recency\": 5, \"order_seniority\": 145, \"stock\": 12, \"Cluster\": \"Cluster 2\"}, {\"ID\": 7615, \"view_item_list_1d\": 639, \"view_item_list_7d\": 3806, \"view_item_list_30d\": 19548, \"view_item_1d\": 26, \"view_item_7d\": 227, \"view_item_30d\": 786, \"add_to_cart_1d\": 0, \"add_to_cart_7d\": 0, \"add_to_cart_30d\": 10, \"begin_checkout_1d\": 0, \"begin_checkout_7d\": 0, \"begin_checkout_30d\": 8, \"purchase_1d\": 0, \"purchase_7d\": 0, \"purchase_30d\": 2, \"qty_sold\": 39, \"nbre_commande\": 39, \"product_marge\": 7644.0, \"order_recency\": 18, \"order_seniority\": 144, \"stock\": null, \"Cluster\": \"Cluster 1\"}, {\"ID\": 7616, \"view_item_list_1d\": 611, \"view_item_list_7d\": 3535, \"view_item_list_30d\": 17868, \"view_item_1d\": 40, \"view_item_7d\": 232, \"view_item_30d\": 768, \"add_to_cart_1d\": 2, \"add_to_cart_7d\": 9, \"add_to_cart_30d\": 27, \"begin_checkout_1d\": 4, \"begin_checkout_7d\": 8, \"begin_checkout_30d\": 43, \"purchase_1d\": 2, \"purchase_7d\": 4, \"purchase_30d\": 8, \"qty_sold\": 25, \"nbre_commande\": 24, \"product_marge\": 4900.0, \"order_recency\": 1, \"order_seniority\": 141, \"stock\": 32, \"Cluster\": \"Cluster 2\"}, {\"ID\": 7617, \"view_item_list_1d\": 643, \"view_item_list_7d\": 3788, \"view_item_list_30d\": 20625, \"view_item_1d\": 9, \"view_item_7d\": 167, \"view_item_30d\": 667, \"add_to_cart_1d\": 0, \"add_to_cart_7d\": 8, \"add_to_cart_30d\": 30, \"begin_checkout_1d\": 1, \"begin_checkout_7d\": 9, \"begin_checkout_30d\": 35, \"purchase_1d\": 1, \"purchase_7d\": 1, \"purchase_30d\": 7, \"qty_sold\": 47, \"nbre_commande\": 46, \"product_marge\": 6862.0, \"order_recency\": 1, \"order_seniority\": 146, \"stock\": 44, \"Cluster\": \"Cluster 2\"}, {\"ID\": 7618, \"view_item_list_1d\": 746, \"view_item_list_7d\": 4451, \"view_item_list_30d\": 20500, \"view_item_1d\": 28, \"view_item_7d\": 193, \"view_item_30d\": 667, \"add_to_cart_1d\": 1, \"add_to_cart_7d\": 7, \"add_to_cart_30d\": 26, \"begin_checkout_1d\": 0, \"begin_checkout_7d\": 9, \"begin_checkout_30d\": 16, \"purchase_1d\": 0, \"purchase_7d\": 1, \"purchase_30d\": 3, \"qty_sold\": 29, \"nbre_commande\": 29, \"product_marge\": 4234.0, \"order_recency\": 5, \"order_seniority\": 145, \"stock\": 105, \"Cluster\": \"Cluster 1\"}, {\"ID\": 7619, \"view_item_list_1d\": 641, \"view_item_list_7d\": 3799, \"view_item_list_30d\": 15388, \"view_item_1d\": 25, \"view_item_7d\": 323, \"view_item_30d\": 1125, \"add_to_cart_1d\": 0, \"add_to_cart_7d\": 2, \"add_to_cart_30d\": 58, \"begin_checkout_1d\": 0, \"begin_checkout_7d\": 5, \"begin_checkout_30d\": 102, \"purchase_1d\": 0, \"purchase_7d\": 0, \"purchase_30d\": 10, \"qty_sold\": 76, \"nbre_commande\": 75, \"product_marge\": 8588.0, \"order_recency\": 8, \"order_seniority\": 146, \"stock\": 14, \"Cluster\": \"Cluster 2\"}, {\"ID\": 7620, \"view_item_list_1d\": 822, \"view_item_list_7d\": 4721, \"view_item_list_30d\": 23697, \"view_item_1d\": 27, \"view_item_7d\": 224, \"view_item_30d\": 917, \"add_to_cart_1d\": 1, \"add_to_cart_7d\": 10, \"add_to_cart_30d\": 54, \"begin_checkout_1d\": 0, \"begin_checkout_7d\": 14, \"begin_checkout_30d\": 76, \"purchase_1d\": 0, \"purchase_7d\": 1, \"purchase_30d\": 6, \"qty_sold\": 56, \"nbre_commande\": 55, \"product_marge\": 6328.0, \"order_recency\": 2, \"order_seniority\": 146, \"stock\": 75, \"Cluster\": \"Cluster 2\"}, {\"ID\": 7621, \"view_item_list_1d\": 595, \"view_item_list_7d\": 3566, \"view_item_list_30d\": 18484, \"view_item_1d\": 35, \"view_item_7d\": 178, \"view_item_30d\": 691, \"add_to_cart_1d\": 1, \"add_to_cart_7d\": 8, \"add_to_cart_30d\": 46, \"begin_checkout_1d\": 0, \"begin_checkout_7d\": 9, \"begin_checkout_30d\": 51, \"purchase_1d\": 0, \"purchase_7d\": 2, \"purchase_30d\": 10, \"qty_sold\": 45, \"nbre_commande\": 43, \"product_marge\": 6210.0, \"order_recency\": 2, \"order_seniority\": 146, \"stock\": 24, \"Cluster\": \"Cluster 2\"}, {\"ID\": 7623, \"view_item_list_1d\": 670, \"view_item_list_7d\": 3943, \"view_item_list_30d\": 19228, \"view_item_1d\": 19, \"view_item_7d\": 196, \"view_item_30d\": 1034, \"add_to_cart_1d\": 0, \"add_to_cart_7d\": 2, \"add_to_cart_30d\": 41, \"begin_checkout_1d\": 0, \"begin_checkout_7d\": 12, \"begin_checkout_30d\": 41, \"purchase_1d\": 0, \"purchase_7d\": 1, \"purchase_30d\": 9, \"qty_sold\": 38, \"nbre_commande\": 37, \"product_marge\": 6194.0, \"order_recency\": 4, \"order_seniority\": 145, \"stock\": null, \"Cluster\": \"Cluster 2\"}, {\"ID\": 7624, \"view_item_list_1d\": 374, \"view_item_list_7d\": 2661, \"view_item_list_30d\": 13371, \"view_item_1d\": 27, \"view_item_7d\": 194, \"view_item_30d\": 806, \"add_to_cart_1d\": 0, \"add_to_cart_7d\": 7, \"add_to_cart_30d\": 32, \"begin_checkout_1d\": 0, \"begin_checkout_7d\": 5, \"begin_checkout_30d\": 29, \"purchase_1d\": 0, \"purchase_7d\": 1, \"purchase_30d\": 3, \"qty_sold\": 33, \"nbre_commande\": 31, \"product_marge\": 5379.0, \"order_recency\": 4, \"order_seniority\": 146, \"stock\": 37, \"Cluster\": \"Cluster 1\"}, {\"ID\": 7625, \"view_item_list_1d\": 1363, \"view_item_list_7d\": 9095, \"view_item_list_30d\": 49177, \"view_item_1d\": 29, \"view_item_7d\": 196, \"view_item_30d\": 871, \"add_to_cart_1d\": 0, \"add_to_cart_7d\": 4, \"add_to_cart_30d\": 22, \"begin_checkout_1d\": 0, \"begin_checkout_7d\": 5, \"begin_checkout_30d\": 36, \"purchase_1d\": 0, \"purchase_7d\": 0, \"purchase_30d\": 2, \"qty_sold\": 31, \"nbre_commande\": 31, \"product_marge\": 5053.0, \"order_recency\": 27, \"order_seniority\": 188, \"stock\": 4, \"Cluster\": \"Cluster 1\"}, {\"ID\": 7626, \"view_item_list_1d\": 1121, \"view_item_list_7d\": 7366, \"view_item_list_30d\": 42922, \"view_item_1d\": 30, \"view_item_7d\": 253, \"view_item_30d\": 1110, \"add_to_cart_1d\": 0, \"add_to_cart_7d\": 9, \"add_to_cart_30d\": 26, \"begin_checkout_1d\": 0, \"begin_checkout_7d\": 15, \"begin_checkout_30d\": 23, \"purchase_1d\": 0, \"purchase_7d\": 3, \"purchase_30d\": 3, \"qty_sold\": 27, \"nbre_commande\": 27, \"product_marge\": 4401.0, \"order_recency\": 2, \"order_seniority\": 146, \"stock\": 24, \"Cluster\": \"Cluster 2\"}, {\"ID\": 7628, \"view_item_list_1d\": 600, \"view_item_list_7d\": 3788, \"view_item_list_30d\": 17751, \"view_item_1d\": 12, \"view_item_7d\": 93, \"view_item_30d\": 422, \"add_to_cart_1d\": 0, \"add_to_cart_7d\": 1, \"add_to_cart_30d\": 5, \"begin_checkout_1d\": 0, \"begin_checkout_7d\": 1, \"begin_checkout_30d\": 19, \"purchase_1d\": 0, \"purchase_7d\": 0, \"purchase_30d\": 1, \"qty_sold\": 4, \"nbre_commande\": 4, \"product_marge\": 652.0, \"order_recency\": 29, \"order_seniority\": 113, \"stock\": 88, \"Cluster\": \"Cluster 1\"}, {\"ID\": 7637, \"view_item_list_1d\": 1444, \"view_item_list_7d\": 9796, \"view_item_list_30d\": 55974, \"view_item_1d\": 73, \"view_item_7d\": 423, \"view_item_30d\": 2940, \"add_to_cart_1d\": 1, \"add_to_cart_7d\": 16, \"add_to_cart_30d\": 46, \"begin_checkout_1d\": 1, \"begin_checkout_7d\": 19, \"begin_checkout_30d\": 50, \"purchase_1d\": 1, \"purchase_7d\": 3, \"purchase_30d\": 5, \"qty_sold\": 39, \"nbre_commande\": 38, \"product_marge\": 6006.0, \"order_recency\": 1, \"order_seniority\": 182, \"stock\": 47, \"Cluster\": \"Cluster 2\"}, {\"ID\": 7638, \"view_item_list_1d\": 842, \"view_item_list_7d\": 5010, \"view_item_list_30d\": 26651, \"view_item_1d\": 25, \"view_item_7d\": 194, \"view_item_30d\": 947, \"add_to_cart_1d\": 2, \"add_to_cart_7d\": 7, \"add_to_cart_30d\": 40, \"begin_checkout_1d\": 3, \"begin_checkout_7d\": 5, \"begin_checkout_30d\": 33, \"purchase_1d\": 0, \"purchase_7d\": 1, \"purchase_30d\": 6, \"qty_sold\": 46, \"nbre_commande\": 45, \"product_marge\": 6930.0, \"order_recency\": 6, \"order_seniority\": 144, \"stock\": 15, \"Cluster\": \"Cluster 2\"}, {\"ID\": 7641, \"view_item_list_1d\": 471, \"view_item_list_7d\": 3118, \"view_item_list_30d\": 15584, \"view_item_1d\": 19, \"view_item_7d\": 168, \"view_item_30d\": 2376, \"add_to_cart_1d\": 0, \"add_to_cart_7d\": 3, \"add_to_cart_30d\": 42, \"begin_checkout_1d\": 0, \"begin_checkout_7d\": 1, \"begin_checkout_30d\": 37, \"purchase_1d\": 0, \"purchase_7d\": 0, \"purchase_30d\": 5, \"qty_sold\": 51, \"nbre_commande\": 50, \"product_marge\": 12546.0, \"order_recency\": 14, \"order_seniority\": 188, \"stock\": 5, \"Cluster\": \"Cluster 2\"}, {\"ID\": 7642, \"view_item_list_1d\": 1172, \"view_item_list_7d\": 8977, \"view_item_list_30d\": 38926, \"view_item_1d\": 53, \"view_item_7d\": 411, \"view_item_30d\": 2031, \"add_to_cart_1d\": 1, \"add_to_cart_7d\": 14, \"add_to_cart_30d\": 63, \"begin_checkout_1d\": 0, \"begin_checkout_7d\": 13, \"begin_checkout_30d\": 76, \"purchase_1d\": 0, \"purchase_7d\": 1, \"purchase_30d\": 6, \"qty_sold\": 54, \"nbre_commande\": 52, \"product_marge\": 15984.0, \"order_recency\": 5, \"order_seniority\": 188, \"stock\": 14, \"Cluster\": \"Cluster 2\"}, {\"ID\": 7643, \"view_item_list_1d\": 279, \"view_item_list_7d\": 1728, \"view_item_list_30d\": 9199, \"view_item_1d\": 18, \"view_item_7d\": 132, \"view_item_30d\": 748, \"add_to_cart_1d\": 0, \"add_to_cart_7d\": 1, \"add_to_cart_30d\": 9, \"begin_checkout_1d\": 0, \"begin_checkout_7d\": 0, \"begin_checkout_30d\": 7, \"purchase_1d\": 0, \"purchase_7d\": 0, \"purchase_30d\": 1, \"qty_sold\": 17, \"nbre_commande\": 17, \"product_marge\": 3621.0, \"order_recency\": 21, \"order_seniority\": 180, \"stock\": 14, \"Cluster\": \"Cluster 1\"}, {\"ID\": 7645, \"view_item_list_1d\": 1219, \"view_item_list_7d\": 7580, \"view_item_list_30d\": 34719, \"view_item_1d\": 29, \"view_item_7d\": 355, \"view_item_30d\": 1358, \"add_to_cart_1d\": 0, \"add_to_cart_7d\": 11, \"add_to_cart_30d\": 66, \"begin_checkout_1d\": 0, \"begin_checkout_7d\": 19, \"begin_checkout_30d\": 57, \"purchase_1d\": 0, \"purchase_7d\": 3, \"purchase_30d\": 14, \"qty_sold\": 37, \"nbre_commande\": 37, \"product_marge\": 9102.0, \"order_recency\": 4, \"order_seniority\": 61, \"stock\": 17, \"Cluster\": \"Cluster 2\"}, {\"ID\": 7646, \"view_item_list_1d\": 3984, \"view_item_list_7d\": 28741, \"view_item_list_30d\": 116963, \"view_item_1d\": 66, \"view_item_7d\": 453, \"view_item_30d\": 1973, \"add_to_cart_1d\": 0, \"add_to_cart_7d\": 0, \"add_to_cart_30d\": 40, \"begin_checkout_1d\": 1, \"begin_checkout_7d\": 1, \"begin_checkout_30d\": 45, \"purchase_1d\": 0, \"purchase_7d\": 0, \"purchase_30d\": 5, \"qty_sold\": 19, \"nbre_commande\": 19, \"product_marge\": 4997.0, \"order_recency\": 17, \"order_seniority\": 60, \"stock\": null, \"Cluster\": \"Cluster 0\"}, {\"ID\": 7648, \"view_item_list_1d\": 1066, \"view_item_list_7d\": 6692, \"view_item_list_30d\": 31478, \"view_item_1d\": 26, \"view_item_7d\": 241, \"view_item_30d\": 849, \"add_to_cart_1d\": 2, \"add_to_cart_7d\": 17, \"add_to_cart_30d\": 41, \"begin_checkout_1d\": 1, \"begin_checkout_7d\": 47, \"begin_checkout_30d\": 65, \"purchase_1d\": 0, \"purchase_7d\": 2, \"purchase_30d\": 7, \"qty_sold\": 24, \"nbre_commande\": 24, \"product_marge\": 5712.0, \"order_recency\": 5, \"order_seniority\": 61, \"stock\": 11, \"Cluster\": \"Cluster 2\"}, {\"ID\": 7649, \"view_item_list_1d\": 920, \"view_item_list_7d\": 5741, \"view_item_list_30d\": 26637, \"view_item_1d\": 30, \"view_item_7d\": 180, \"view_item_30d\": 681, \"add_to_cart_1d\": 3, \"add_to_cart_7d\": 15, \"add_to_cart_30d\": 41, \"begin_checkout_1d\": 0, \"begin_checkout_7d\": 6, \"begin_checkout_30d\": 44, \"purchase_1d\": 0, \"purchase_7d\": 1, \"purchase_30d\": 4, \"qty_sold\": 21, \"nbre_commande\": 21, \"product_marge\": 4998.0, \"order_recency\": 7, \"order_seniority\": 76, \"stock\": 24, \"Cluster\": \"Cluster 1\"}, {\"ID\": 7650, \"view_item_list_1d\": 218, \"view_item_list_7d\": 1404, \"view_item_list_30d\": 7867, \"view_item_1d\": 4, \"view_item_7d\": 21, \"view_item_30d\": 108, \"add_to_cart_1d\": 0, \"add_to_cart_7d\": 1, \"add_to_cart_30d\": 3, \"begin_checkout_1d\": 0, \"begin_checkout_7d\": 1, \"begin_checkout_30d\": 5, \"purchase_1d\": 0, \"purchase_7d\": 0, \"purchase_30d\": 0, \"qty_sold\": 11, \"nbre_commande\": 11, \"product_marge\": 2519.0, \"order_recency\": 52, \"order_seniority\": 189, \"stock\": 14, \"Cluster\": \"Cluster 1\"}, {\"ID\": 7651, \"view_item_list_1d\": 559, \"view_item_list_7d\": 3703, \"view_item_list_30d\": 19403, \"view_item_1d\": 15, \"view_item_7d\": 74, \"view_item_30d\": 334, \"add_to_cart_1d\": 0, \"add_to_cart_7d\": 2, \"add_to_cart_30d\": 5, \"begin_checkout_1d\": 0, \"begin_checkout_7d\": 0, \"begin_checkout_30d\": 0, \"purchase_1d\": 0, \"purchase_7d\": 0, \"purchase_30d\": 0, \"qty_sold\": 4, \"nbre_commande\": 4, \"product_marge\": 984.0, \"order_recency\": 97, \"order_seniority\": 162, \"stock\": 32, \"Cluster\": \"Cluster 1\"}, {\"ID\": 7652, \"view_item_list_1d\": 539, \"view_item_list_7d\": 3391, \"view_item_list_30d\": 17468, \"view_item_1d\": 12, \"view_item_7d\": 81, \"view_item_30d\": 432, \"add_to_cart_1d\": 0, \"add_to_cart_7d\": 0, \"add_to_cart_30d\": 11, \"begin_checkout_1d\": 0, \"begin_checkout_7d\": 0, \"begin_checkout_30d\": 3, \"purchase_1d\": 0, \"purchase_7d\": 0, \"purchase_30d\": 1, \"qty_sold\": 18, \"nbre_commande\": 18, \"product_marge\": 4428.0, \"order_recency\": 9, \"order_seniority\": 145, \"stock\": 13, \"Cluster\": \"Cluster 1\"}, {\"ID\": 7655, \"view_item_list_1d\": 440, \"view_item_list_7d\": 2745, \"view_item_list_30d\": 13151, \"view_item_1d\": 7, \"view_item_7d\": 41, \"view_item_30d\": 196, \"add_to_cart_1d\": 2, \"add_to_cart_7d\": 5, \"add_to_cart_30d\": 16, \"begin_checkout_1d\": 0, \"begin_checkout_7d\": 5, \"begin_checkout_30d\": 12, \"purchase_1d\": 0, \"purchase_7d\": 0, \"purchase_30d\": 0, \"qty_sold\": 8, \"nbre_commande\": 7, \"product_marge\": 1704.0, \"order_recency\": 38, \"order_seniority\": 110, \"stock\": 78, \"Cluster\": \"Cluster 1\"}, {\"ID\": 7657, \"view_item_list_1d\": 365, \"view_item_list_7d\": 2540, \"view_item_list_30d\": 12340, \"view_item_1d\": 24, \"view_item_7d\": 115, \"view_item_30d\": 502, \"add_to_cart_1d\": 0, \"add_to_cart_7d\": 6, \"add_to_cart_30d\": 14, \"begin_checkout_1d\": 0, \"begin_checkout_7d\": 1, \"begin_checkout_30d\": 8, \"purchase_1d\": 0, \"purchase_7d\": 0, \"purchase_30d\": 2, \"qty_sold\": 12, \"nbre_commande\": 12, \"product_marge\": 3948.0, \"order_recency\": 15, \"order_seniority\": 170, \"stock\": 75, \"Cluster\": \"Cluster 1\"}, {\"ID\": 7658, \"view_item_list_1d\": 750, \"view_item_list_7d\": 4552, \"view_item_list_30d\": 24849, \"view_item_1d\": 4, \"view_item_7d\": 47, \"view_item_30d\": 370, \"add_to_cart_1d\": 0, \"add_to_cart_7d\": 5, \"add_to_cart_30d\": 38, \"begin_checkout_1d\": 0, \"begin_checkout_7d\": 3, \"begin_checkout_30d\": 31, \"purchase_1d\": 0, \"purchase_7d\": 0, \"purchase_30d\": 1, \"qty_sold\": 36, \"nbre_commande\": 35, \"product_marge\": 8610.0, \"order_recency\": 28, \"order_seniority\": 145, \"stock\": 37, \"Cluster\": \"Cluster 1\"}, {\"ID\": 7659, \"view_item_list_1d\": 1050, \"view_item_list_7d\": 7599, \"view_item_list_30d\": 35496, \"view_item_1d\": 10, \"view_item_7d\": 135, \"view_item_30d\": 913, \"add_to_cart_1d\": 2, \"add_to_cart_7d\": 11, \"add_to_cart_30d\": 64, \"begin_checkout_1d\": 6, \"begin_checkout_7d\": 23, \"begin_checkout_30d\": 93, \"purchase_1d\": 0, \"purchase_7d\": 3, \"purchase_30d\": 10, \"qty_sold\": 33, \"nbre_commande\": 33, \"product_marge\": 8118.0, \"order_recency\": 3, \"order_seniority\": 143, \"stock\": 45, \"Cluster\": \"Cluster 2\"}, {\"ID\": 7660, \"view_item_list_1d\": 880, \"view_item_list_7d\": 5389, \"view_item_list_30d\": 32185, \"view_item_1d\": 39, \"view_item_7d\": 140, \"view_item_30d\": 778, \"add_to_cart_1d\": 4, \"add_to_cart_7d\": 4, \"add_to_cart_30d\": 22, \"begin_checkout_1d\": 5, \"begin_checkout_7d\": 5, \"begin_checkout_30d\": 43, \"purchase_1d\": 1, \"purchase_7d\": 1, \"purchase_30d\": 4, \"qty_sold\": 42, \"nbre_commande\": 42, \"product_marge\": 10332.0, \"order_recency\": 1, \"order_seniority\": 183, \"stock\": 107, \"Cluster\": \"Cluster 2\"}, {\"ID\": 7661, \"view_item_list_1d\": 519, \"view_item_list_7d\": 3601, \"view_item_list_30d\": 20962, \"view_item_1d\": 12, \"view_item_7d\": 48, \"view_item_30d\": 230, \"add_to_cart_1d\": 0, \"add_to_cart_7d\": 3, \"add_to_cart_30d\": 13, \"begin_checkout_1d\": 0, \"begin_checkout_7d\": 7, \"begin_checkout_30d\": 15, \"purchase_1d\": 0, \"purchase_7d\": 1, \"purchase_30d\": 3, \"qty_sold\": 20, \"nbre_commande\": 19, \"product_marge\": 4522.0, \"order_recency\": 5, \"order_seniority\": 143, \"stock\": 16, \"Cluster\": \"Cluster 1\"}, {\"ID\": 7662, \"view_item_list_1d\": 617, \"view_item_list_7d\": 3744, \"view_item_list_30d\": 21379, \"view_item_1d\": 6, \"view_item_7d\": 69, \"view_item_30d\": 274, \"add_to_cart_1d\": 0, \"add_to_cart_7d\": 10, \"add_to_cart_30d\": 14, \"begin_checkout_1d\": 0, \"begin_checkout_7d\": 7, \"begin_checkout_30d\": 8, \"purchase_1d\": 0, \"purchase_7d\": 1, \"purchase_30d\": 2, \"qty_sold\": 9, \"nbre_commande\": 9, \"product_marge\": 2592.0, \"order_recency\": 5, \"order_seniority\": 141, \"stock\": 42, \"Cluster\": \"Cluster 1\"}, {\"ID\": 7663, \"view_item_list_1d\": 421, \"view_item_list_7d\": 2949, \"view_item_list_30d\": 15576, \"view_item_1d\": 13, \"view_item_7d\": 89, \"view_item_30d\": 350, \"add_to_cart_1d\": 0, \"add_to_cart_7d\": 2, \"add_to_cart_30d\": 3, \"begin_checkout_1d\": 0, \"begin_checkout_7d\": 1, \"begin_checkout_30d\": 1, \"purchase_1d\": 0, \"purchase_7d\": 0, \"purchase_30d\": 0, \"qty_sold\": 8, \"nbre_commande\": 8, \"product_marge\": 2304.0, \"order_recency\": 83, \"order_seniority\": 177, \"stock\": 22, \"Cluster\": \"Cluster 1\"}, {\"ID\": 7665, \"view_item_list_1d\": 435, \"view_item_list_7d\": 2598, \"view_item_list_30d\": 13150, \"view_item_1d\": 2, \"view_item_7d\": 22, \"view_item_30d\": 169, \"add_to_cart_1d\": 0, \"add_to_cart_7d\": 1, \"add_to_cart_30d\": 7, \"begin_checkout_1d\": 0, \"begin_checkout_7d\": 0, \"begin_checkout_30d\": 10, \"purchase_1d\": 0, \"purchase_7d\": 0, \"purchase_30d\": 0, \"qty_sold\": 7, \"nbre_commande\": 7, \"product_marge\": 2016.0, \"order_recency\": 26, \"order_seniority\": 130, \"stock\": 44, \"Cluster\": \"Cluster 1\"}, {\"ID\": 7793, \"view_item_list_1d\": 997, \"view_item_list_7d\": 5610, \"view_item_list_30d\": 24981, \"view_item_1d\": 53, \"view_item_7d\": 353, \"view_item_30d\": 1474, \"add_to_cart_1d\": 1, \"add_to_cart_7d\": 20, \"add_to_cart_30d\": 79, \"begin_checkout_1d\": 1, \"begin_checkout_7d\": 34, \"begin_checkout_30d\": 80, \"purchase_1d\": 0, \"purchase_7d\": 3, \"purchase_30d\": 11, \"qty_sold\": 76, \"nbre_commande\": 73, \"product_marge\": 17175.0, \"order_recency\": 5, \"order_seniority\": 146, \"stock\": 164, \"Cluster\": \"Cluster 2\"}, {\"ID\": 7794, \"view_item_list_1d\": 1162, \"view_item_list_7d\": 9107, \"view_item_list_30d\": 43658, \"view_item_1d\": 85, \"view_item_7d\": 598, \"view_item_30d\": 3047, \"add_to_cart_1d\": 2, \"add_to_cart_7d\": 11, \"add_to_cart_30d\": 50, \"begin_checkout_1d\": 0, \"begin_checkout_7d\": 8, \"begin_checkout_30d\": 42, \"purchase_1d\": 0, \"purchase_7d\": 0, \"purchase_30d\": 7, \"qty_sold\": 43, \"nbre_commande\": 43, \"product_marge\": 12384.0, \"order_recency\": 8, \"order_seniority\": 145, \"stock\": 2, \"Cluster\": \"Cluster 2\"}, {\"ID\": 7795, \"view_item_list_1d\": 699, \"view_item_list_7d\": 4795, \"view_item_list_30d\": 25416, \"view_item_1d\": 17, \"view_item_7d\": 138, \"view_item_30d\": 1049, \"add_to_cart_1d\": 0, \"add_to_cart_7d\": 4, \"add_to_cart_30d\": 24, \"begin_checkout_1d\": 1, \"begin_checkout_7d\": 6, \"begin_checkout_30d\": 32, \"purchase_1d\": 1, \"purchase_7d\": 1, \"purchase_30d\": 9, \"qty_sold\": 38, \"nbre_commande\": 37, \"product_marge\": 7448.0, \"order_recency\": 1, \"order_seniority\": 144, \"stock\": 97, \"Cluster\": \"Cluster 2\"}, {\"ID\": 7802, \"view_item_list_1d\": 335, \"view_item_list_7d\": 2246, \"view_item_list_30d\": 13373, \"view_item_1d\": 157, \"view_item_7d\": 868, \"view_item_30d\": 2675, \"add_to_cart_1d\": 0, \"add_to_cart_7d\": 6, \"add_to_cart_30d\": 31, \"begin_checkout_1d\": 0, \"begin_checkout_7d\": 0, \"begin_checkout_30d\": 12, \"purchase_1d\": 0, \"purchase_7d\": 0, \"purchase_30d\": 2, \"qty_sold\": 28, \"nbre_commande\": 27, \"product_marge\": 8883.0, \"order_recency\": 13, \"order_seniority\": 189, \"stock\": 12, \"Cluster\": \"Cluster 1\"}, {\"ID\": 7803, \"view_item_list_1d\": 687, \"view_item_list_7d\": 4889, \"view_item_list_30d\": 35054, \"view_item_1d\": 18, \"view_item_7d\": 121, \"view_item_30d\": 469, \"add_to_cart_1d\": 0, \"add_to_cart_7d\": 1, \"add_to_cart_30d\": 7, \"begin_checkout_1d\": 0, \"begin_checkout_7d\": 1, \"begin_checkout_30d\": 3, \"purchase_1d\": 0, \"purchase_7d\": 0, \"purchase_30d\": 0, \"qty_sold\": 16, \"nbre_commande\": 16, \"product_marge\": 5136.0, \"order_recency\": 31, \"order_seniority\": 189, \"stock\": 25, \"Cluster\": \"Cluster 1\"}, {\"ID\": 7804, \"view_item_list_1d\": 1004, \"view_item_list_7d\": 6471, \"view_item_list_30d\": 34314, \"view_item_1d\": 9, \"view_item_7d\": 120, \"view_item_30d\": 613, \"add_to_cart_1d\": 1, \"add_to_cart_7d\": 11, \"add_to_cart_30d\": 61, \"begin_checkout_1d\": 0, \"begin_checkout_7d\": 4, \"begin_checkout_30d\": 61, \"purchase_1d\": 0, \"purchase_7d\": 2, \"purchase_30d\": 8, \"qty_sold\": 17, \"nbre_commande\": 17, \"product_marge\": 2618.0, \"order_recency\": 5, \"order_seniority\": 139, \"stock\": 17, \"Cluster\": \"Cluster 1\"}, {\"ID\": 7806, \"view_item_list_1d\": 1383, \"view_item_list_7d\": 10137, \"view_item_list_30d\": 46461, \"view_item_1d\": 17, \"view_item_7d\": 255, \"view_item_30d\": 848, \"add_to_cart_1d\": 0, \"add_to_cart_7d\": 7, \"add_to_cart_30d\": 50, \"begin_checkout_1d\": 1, \"begin_checkout_7d\": 21, \"begin_checkout_30d\": 37, \"purchase_1d\": 0, \"purchase_7d\": 1, \"purchase_30d\": 6, \"qty_sold\": 25, \"nbre_commande\": 24, \"product_marge\": 5496.0, \"order_recency\": 6, \"order_seniority\": 162, \"stock\": 22, \"Cluster\": \"Cluster 2\"}, {\"ID\": 7808, \"view_item_list_1d\": 1376, \"view_item_list_7d\": 10081, \"view_item_list_30d\": 44307, \"view_item_1d\": 72, \"view_item_7d\": 617, \"view_item_30d\": 1831, \"add_to_cart_1d\": 0, \"add_to_cart_7d\": 7, \"add_to_cart_30d\": 21, \"begin_checkout_1d\": 0, \"begin_checkout_7d\": 0, \"begin_checkout_30d\": 9, \"purchase_1d\": 0, \"purchase_7d\": 0, \"purchase_30d\": 1, \"qty_sold\": 13, \"nbre_commande\": 12, \"product_marge\": 3198.0, \"order_recency\": 11, \"order_seniority\": 117, \"stock\": 20, \"Cluster\": \"Cluster 1\"}, {\"ID\": 7809, \"view_item_list_1d\": 1453, \"view_item_list_7d\": 10171, \"view_item_list_30d\": 47179, \"view_item_1d\": 70, \"view_item_7d\": 691, \"view_item_30d\": 2727, \"add_to_cart_1d\": 0, \"add_to_cart_7d\": 0, \"add_to_cart_30d\": 6, \"begin_checkout_1d\": 0, \"begin_checkout_7d\": 0, \"begin_checkout_30d\": 6, \"purchase_1d\": 0, \"purchase_7d\": 0, \"purchase_30d\": 1, \"qty_sold\": 55, \"nbre_commande\": 54, \"product_marge\": 13530.0, \"order_recency\": 26, \"order_seniority\": 146, \"stock\": null, \"Cluster\": \"Cluster 2\"}, {\"ID\": 7810, \"view_item_list_1d\": 1794, \"view_item_list_7d\": 13848, \"view_item_list_30d\": 66411, \"view_item_1d\": 88, \"view_item_7d\": 971, \"view_item_30d\": 2908, \"add_to_cart_1d\": 2, \"add_to_cart_7d\": 17, \"add_to_cart_30d\": 70, \"begin_checkout_1d\": 2, \"begin_checkout_7d\": 25, \"begin_checkout_30d\": 87, \"purchase_1d\": 0, \"purchase_7d\": 4, \"purchase_30d\": 16, \"qty_sold\": 57, \"nbre_commande\": 57, \"product_marge\": 14022.0, \"order_recency\": 2, \"order_seniority\": 182, \"stock\": 41, \"Cluster\": \"Cluster 2\"}, {\"ID\": 7811, \"view_item_list_1d\": 581, \"view_item_list_7d\": 3990, \"view_item_list_30d\": 20580, \"view_item_1d\": 49, \"view_item_7d\": 251, \"view_item_30d\": 845, \"add_to_cart_1d\": 0, \"add_to_cart_7d\": 3, \"add_to_cart_30d\": 12, \"begin_checkout_1d\": 0, \"begin_checkout_7d\": 3, \"begin_checkout_30d\": 7, \"purchase_1d\": 0, \"purchase_7d\": 0, \"purchase_30d\": 1, \"qty_sold\": 18, \"nbre_commande\": 18, \"product_marge\": 5022.0, \"order_recency\": 12, \"order_seniority\": 186, \"stock\": 23, \"Cluster\": \"Cluster 1\"}, {\"ID\": 7812, \"view_item_list_1d\": 842, \"view_item_list_7d\": 5273, \"view_item_list_30d\": 25741, \"view_item_1d\": 21, \"view_item_7d\": 112, \"view_item_30d\": 349, \"add_to_cart_1d\": 1, \"add_to_cart_7d\": 5, \"add_to_cart_30d\": 9, \"begin_checkout_1d\": 3, \"begin_checkout_7d\": 6, \"begin_checkout_30d\": 7, \"purchase_1d\": 1, \"purchase_7d\": 1, \"purchase_30d\": 2, \"qty_sold\": 19, \"nbre_commande\": 18, \"product_marge\": 2774.0, \"order_recency\": 1, \"order_seniority\": 188, \"stock\": 34, \"Cluster\": \"Cluster 1\"}, {\"ID\": 7813, \"view_item_list_1d\": 447, \"view_item_list_7d\": 3081, \"view_item_list_30d\": 17235, \"view_item_1d\": 19, \"view_item_7d\": 76, \"view_item_30d\": 189, \"add_to_cart_1d\": 1, \"add_to_cart_7d\": 1, \"add_to_cart_30d\": 7, \"begin_checkout_1d\": 0, \"begin_checkout_7d\": 0, \"begin_checkout_30d\": 4, \"purchase_1d\": 0, \"purchase_7d\": 0, \"purchase_30d\": 0, \"qty_sold\": 4, \"nbre_commande\": 4, \"product_marge\": 852.0, \"order_recency\": 32, \"order_seniority\": 120, \"stock\": 76, \"Cluster\": \"Cluster 1\"}, {\"ID\": 7814, \"view_item_list_1d\": 457, \"view_item_list_7d\": 2921, \"view_item_list_30d\": 15332, \"view_item_1d\": 4, \"view_item_7d\": 56, \"view_item_30d\": 321, \"add_to_cart_1d\": 0, \"add_to_cart_7d\": 2, \"add_to_cart_30d\": 19, \"begin_checkout_1d\": 0, \"begin_checkout_7d\": 0, \"begin_checkout_30d\": 38, \"purchase_1d\": 0, \"purchase_7d\": 0, \"purchase_30d\": 1, \"qty_sold\": 20, \"nbre_commande\": 17, \"product_marge\": 4760.0, \"order_recency\": 13, \"order_seniority\": 141, \"stock\": 29, \"Cluster\": \"Cluster 1\"}, {\"ID\": 7815, \"view_item_list_1d\": 370, \"view_item_list_7d\": 2582, \"view_item_list_30d\": 16800, \"view_item_1d\": 4, \"view_item_7d\": 60, \"view_item_30d\": 368, \"add_to_cart_1d\": 0, \"add_to_cart_7d\": 4, \"add_to_cart_30d\": 23, \"begin_checkout_1d\": 0, \"begin_checkout_7d\": 1, \"begin_checkout_30d\": 5, \"purchase_1d\": 0, \"purchase_7d\": 0, \"purchase_30d\": 1, \"qty_sold\": 20, \"nbre_commande\": 20, \"product_marge\": 4420.0, \"order_recency\": 17, \"order_seniority\": 144, \"stock\": 21, \"Cluster\": \"Cluster 1\"}, {\"ID\": 7816, \"view_item_list_1d\": 1051, \"view_item_list_7d\": 8517, \"view_item_list_30d\": 40488, \"view_item_1d\": 56, \"view_item_7d\": 500, \"view_item_30d\": 2103, \"add_to_cart_1d\": 0, \"add_to_cart_7d\": 15, \"add_to_cart_30d\": 66, \"begin_checkout_1d\": 0, \"begin_checkout_7d\": 13, \"begin_checkout_30d\": 69, \"purchase_1d\": 0, \"purchase_7d\": 1, \"purchase_30d\": 7, \"qty_sold\": 58, \"nbre_commande\": 58, \"product_marge\": 16704.0, \"order_recency\": 3, \"order_seniority\": 145, \"stock\": 2, \"Cluster\": \"Cluster 2\"}, {\"ID\": 7817, \"view_item_list_1d\": 790, \"view_item_list_7d\": 4696, \"view_item_list_30d\": 22683, \"view_item_1d\": 47, \"view_item_7d\": 283, \"view_item_30d\": 1417, \"add_to_cart_1d\": 0, \"add_to_cart_7d\": 3, \"add_to_cart_30d\": 34, \"begin_checkout_1d\": 0, \"begin_checkout_7d\": 2, \"begin_checkout_30d\": 57, \"purchase_1d\": 0, \"purchase_7d\": 0, \"purchase_30d\": 7, \"qty_sold\": 90, \"nbre_commande\": 90, \"product_marge\": 20610.0, \"order_recency\": 9, \"order_seniority\": 144, \"stock\": 3, \"Cluster\": \"Cluster 2\"}, {\"ID\": 7818, \"view_item_list_1d\": 952, \"view_item_list_7d\": 5384, \"view_item_list_30d\": 26017, \"view_item_1d\": 15, \"view_item_7d\": 96, \"view_item_30d\": 607, \"add_to_cart_1d\": 0, \"add_to_cart_7d\": 2, \"add_to_cart_30d\": 12, \"begin_checkout_1d\": 0, \"begin_checkout_7d\": 0, \"begin_checkout_30d\": 12, \"purchase_1d\": 0, \"purchase_7d\": 0, \"purchase_30d\": 0, \"qty_sold\": 9, \"nbre_commande\": 9, \"product_marge\": 1764.0, \"order_recency\": 35, \"order_seniority\": 145, \"stock\": 60, \"Cluster\": \"Cluster 1\"}, {\"ID\": 7820, \"view_item_list_1d\": 1009, \"view_item_list_7d\": 5482, \"view_item_list_30d\": 25624, \"view_item_1d\": 33, \"view_item_7d\": 193, \"view_item_30d\": 672, \"add_to_cart_1d\": 4, \"add_to_cart_7d\": 14, \"add_to_cart_30d\": 42, \"begin_checkout_1d\": 2, \"begin_checkout_7d\": 4, \"begin_checkout_30d\": 14, \"purchase_1d\": 1, \"purchase_7d\": 2, \"purchase_30d\": 4, \"qty_sold\": 37, \"nbre_commande\": 37, \"product_marge\": 9102.0, \"order_recency\": 1, \"order_seniority\": 130, \"stock\": 10, \"Cluster\": \"Cluster 2\"}, {\"ID\": 7822, \"view_item_list_1d\": 826, \"view_item_list_7d\": 5214, \"view_item_list_30d\": 27308, \"view_item_1d\": 25, \"view_item_7d\": 76, \"view_item_30d\": 286, \"add_to_cart_1d\": 3, \"add_to_cart_7d\": 12, \"add_to_cart_30d\": 33, \"begin_checkout_1d\": 1, \"begin_checkout_7d\": 1, \"begin_checkout_30d\": 19, \"purchase_1d\": 1, \"purchase_7d\": 1, \"purchase_30d\": 3, \"qty_sold\": 30, \"nbre_commande\": 30, \"product_marge\": 4620.0, \"order_recency\": 1, \"order_seniority\": 133, \"stock\": 24, \"Cluster\": \"Cluster 2\"}, {\"ID\": 7824, \"view_item_list_1d\": 566, \"view_item_list_7d\": 3880, \"view_item_list_30d\": 18465, \"view_item_1d\": 26, \"view_item_7d\": 96, \"view_item_30d\": 430, \"add_to_cart_1d\": 1, \"add_to_cart_7d\": 1, \"add_to_cart_30d\": 18, \"begin_checkout_1d\": 0, \"begin_checkout_7d\": 0, \"begin_checkout_30d\": 41, \"purchase_1d\": 0, \"purchase_7d\": 0, \"purchase_30d\": 0, \"qty_sold\": 22, \"nbre_commande\": 20, \"product_marge\": 14388.0, \"order_recency\": 26, \"order_seniority\": 188, \"stock\": 19, \"Cluster\": \"Cluster 1\"}, {\"ID\": 7825, \"view_item_list_1d\": 516, \"view_item_list_7d\": 3736, \"view_item_list_30d\": 18774, \"view_item_1d\": 23, \"view_item_7d\": 75, \"view_item_30d\": 264, \"add_to_cart_1d\": 0, \"add_to_cart_7d\": 2, \"add_to_cart_30d\": 11, \"begin_checkout_1d\": 0, \"begin_checkout_7d\": 0, \"begin_checkout_30d\": 11, \"purchase_1d\": 0, \"purchase_7d\": 0, \"purchase_30d\": 0, \"qty_sold\": 7, \"nbre_commande\": 7, \"product_marge\": 4578.0, \"order_recency\": 73, \"order_seniority\": 155, \"stock\": 97, \"Cluster\": \"Cluster 1\"}, {\"ID\": 7826, \"view_item_list_1d\": 1378, \"view_item_list_7d\": 8480, \"view_item_list_30d\": 45476, \"view_item_1d\": 4, \"view_item_7d\": 49, \"view_item_30d\": 402, \"add_to_cart_1d\": 0, \"add_to_cart_7d\": 0, \"add_to_cart_30d\": 1, \"begin_checkout_1d\": 0, \"begin_checkout_7d\": 0, \"begin_checkout_30d\": 0, \"purchase_1d\": 0, \"purchase_7d\": 0, \"purchase_30d\": 0, \"qty_sold\": 1, \"nbre_commande\": 1, \"product_marge\": 821.0, \"order_recency\": 145, \"order_seniority\": 145, \"stock\": 85, \"Cluster\": \"Cluster 1\"}, {\"ID\": 7827, \"view_item_list_1d\": 774, \"view_item_list_7d\": 4944, \"view_item_list_30d\": 24096, \"view_item_1d\": 37, \"view_item_7d\": 208, \"view_item_30d\": 694, \"add_to_cart_1d\": 3, \"add_to_cart_7d\": 5, \"add_to_cart_30d\": 15, \"begin_checkout_1d\": 0, \"begin_checkout_7d\": 3, \"begin_checkout_30d\": 8, \"purchase_1d\": 0, \"purchase_7d\": 1, \"purchase_30d\": 2, \"qty_sold\": 10, \"nbre_commande\": 9, \"product_marge\": 7389.0, \"order_recency\": 6, \"order_seniority\": 112, \"stock\": 25, \"Cluster\": \"Cluster 1\"}, {\"ID\": 7828, \"view_item_list_1d\": 1411, \"view_item_list_7d\": 10326, \"view_item_list_30d\": 45062, \"view_item_1d\": 116, \"view_item_7d\": 916, \"view_item_30d\": 2861, \"add_to_cart_1d\": 1, \"add_to_cart_7d\": 12, \"add_to_cart_30d\": 54, \"begin_checkout_1d\": 0, \"begin_checkout_7d\": 12, \"begin_checkout_30d\": 37, \"purchase_1d\": 0, \"purchase_7d\": 4, \"purchase_30d\": 10, \"qty_sold\": 51, \"nbre_commande\": 49, \"product_marge\": 11271.0, \"order_recency\": 2, \"order_seniority\": 145, \"stock\": 5, \"Cluster\": \"Cluster 2\"}, {\"ID\": 7829, \"view_item_list_1d\": 726, \"view_item_list_7d\": 4408, \"view_item_list_30d\": 23640, \"view_item_1d\": 23, \"view_item_7d\": 105, \"view_item_30d\": 371, \"add_to_cart_1d\": 2, \"add_to_cart_7d\": 3, \"add_to_cart_30d\": 13, \"begin_checkout_1d\": 0, \"begin_checkout_7d\": 0, \"begin_checkout_30d\": 1, \"purchase_1d\": 0, \"purchase_7d\": 0, \"purchase_30d\": 0, \"qty_sold\": 17, \"nbre_commande\": 17, \"product_marge\": 2482.0, \"order_recency\": 34, \"order_seniority\": 128, \"stock\": 95, \"Cluster\": \"Cluster 1\"}, {\"ID\": 7830, \"view_item_list_1d\": 1274, \"view_item_list_7d\": 9342, \"view_item_list_30d\": 40559, \"view_item_1d\": 2152, \"view_item_7d\": 10657, \"view_item_30d\": 19145, \"add_to_cart_1d\": 6, \"add_to_cart_7d\": 49, \"add_to_cart_30d\": 141, \"begin_checkout_1d\": 5, \"begin_checkout_7d\": 32, \"begin_checkout_30d\": 104, \"purchase_1d\": 1, \"purchase_7d\": 8, \"purchase_30d\": 16, \"qty_sold\": 136, \"nbre_commande\": 136, \"product_marge\": 25568.0, \"order_recency\": 1, \"order_seniority\": 188, \"stock\": 64, \"Cluster\": \"Cluster 3\"}, {\"ID\": 7831, \"view_item_list_1d\": 855, \"view_item_list_7d\": 5419, \"view_item_list_30d\": 22359, \"view_item_1d\": 126, \"view_item_7d\": 1290, \"view_item_30d\": 2584, \"add_to_cart_1d\": 0, \"add_to_cart_7d\": 25, \"add_to_cart_30d\": 101, \"begin_checkout_1d\": 2, \"begin_checkout_7d\": 19, \"begin_checkout_30d\": 112, \"purchase_1d\": 1, \"purchase_7d\": 4, \"purchase_30d\": 20, \"qty_sold\": 107, \"nbre_commande\": 106, \"product_marge\": 15622.0, \"order_recency\": 1, \"order_seniority\": 187, \"stock\": 62, \"Cluster\": \"Cluster 2\"}, {\"ID\": 7832, \"view_item_list_1d\": 560, \"view_item_list_7d\": 3774, \"view_item_list_30d\": 19166, \"view_item_1d\": 150, \"view_item_7d\": 770, \"view_item_30d\": 2882, \"add_to_cart_1d\": 2, \"add_to_cart_7d\": 9, \"add_to_cart_30d\": 63, \"begin_checkout_1d\": 3, \"begin_checkout_7d\": 6, \"begin_checkout_30d\": 80, \"purchase_1d\": 1, \"purchase_7d\": 1, \"purchase_30d\": 12, \"qty_sold\": 36, \"nbre_commande\": 32, \"product_marge\": 7956.0, \"order_recency\": 1, \"order_seniority\": 162, \"stock\": 28, \"Cluster\": \"Cluster 2\"}, {\"ID\": 7856, \"view_item_list_1d\": 866, \"view_item_list_7d\": 5825, \"view_item_list_30d\": 36735, \"view_item_1d\": 7, \"view_item_7d\": 86, \"view_item_30d\": 350, \"add_to_cart_1d\": 0, \"add_to_cart_7d\": 1, \"add_to_cart_30d\": 4, \"begin_checkout_1d\": 0, \"begin_checkout_7d\": 0, \"begin_checkout_30d\": 2, \"purchase_1d\": 0, \"purchase_7d\": 0, \"purchase_30d\": 0, \"qty_sold\": 2, \"nbre_commande\": 2, \"product_marge\": 1326.0, \"order_recency\": 156, \"order_seniority\": 164, \"stock\": 75, \"Cluster\": \"Cluster 1\"}, {\"ID\": 7858, \"view_item_list_1d\": 1111, \"view_item_list_7d\": 7328, \"view_item_list_30d\": 39449, \"view_item_1d\": 26, \"view_item_7d\": 325, \"view_item_30d\": 2648, \"add_to_cart_1d\": 1, \"add_to_cart_7d\": 7, \"add_to_cart_30d\": 30, \"begin_checkout_1d\": 2, \"begin_checkout_7d\": 10, \"begin_checkout_30d\": 30, \"purchase_1d\": 0, \"purchase_7d\": 0, \"purchase_30d\": 3, \"qty_sold\": 21, \"nbre_commande\": 21, \"product_marge\": 2016.0, \"order_recency\": 17, \"order_seniority\": 184, \"stock\": 8, \"Cluster\": \"Cluster 1\"}, {\"ID\": 7859, \"view_item_list_1d\": 1166, \"view_item_list_7d\": 8468, \"view_item_list_30d\": 46366, \"view_item_1d\": 30, \"view_item_7d\": 180, \"view_item_30d\": 949, \"add_to_cart_1d\": 0, \"add_to_cart_7d\": 3, \"add_to_cart_30d\": 9, \"begin_checkout_1d\": 0, \"begin_checkout_7d\": 0, \"begin_checkout_30d\": 0, \"purchase_1d\": 0, \"purchase_7d\": 0, \"purchase_30d\": 0, \"qty_sold\": 7, \"nbre_commande\": 6, \"product_marge\": 4578.0, \"order_recency\": 124, \"order_seniority\": 177, \"stock\": 116, \"Cluster\": \"Cluster 1\"}, {\"ID\": 7860, \"view_item_list_1d\": 954, \"view_item_list_7d\": 5783, \"view_item_list_30d\": 34837, \"view_item_1d\": 14, \"view_item_7d\": 134, \"view_item_30d\": 568, \"add_to_cart_1d\": 0, \"add_to_cart_7d\": 9, \"add_to_cart_30d\": 40, \"begin_checkout_1d\": 0, \"begin_checkout_7d\": 8, \"begin_checkout_30d\": 52, \"purchase_1d\": 0, \"purchase_7d\": 1, \"purchase_30d\": 6, \"qty_sold\": 27, \"nbre_commande\": 26, \"product_marge\": 7776.0, \"order_recency\": 7, \"order_seniority\": 178, \"stock\": 22, \"Cluster\": \"Cluster 2\"}, {\"ID\": 7861, \"view_item_list_1d\": 1162, \"view_item_list_7d\": 7117, \"view_item_list_30d\": 41643, \"view_item_1d\": 26, \"view_item_7d\": 236, \"view_item_30d\": 967, \"add_to_cart_1d\": 0, \"add_to_cart_7d\": 9, \"add_to_cart_30d\": 31, \"begin_checkout_1d\": 0, \"begin_checkout_7d\": 9, \"begin_checkout_30d\": 33, \"purchase_1d\": 0, \"purchase_7d\": 2, \"purchase_30d\": 2, \"qty_sold\": 12, \"nbre_commande\": 12, \"product_marge\": 4548.0, \"order_recency\": 3, \"order_seniority\": 178, \"stock\": 110, \"Cluster\": \"Cluster 1\"}, {\"ID\": 7864, \"view_item_list_1d\": 2225, \"view_item_list_7d\": 12253, \"view_item_list_30d\": 51378, \"view_item_1d\": 50, \"view_item_7d\": 231, \"view_item_30d\": 1216, \"add_to_cart_1d\": 10, \"add_to_cart_7d\": 19, \"add_to_cart_30d\": 55, \"begin_checkout_1d\": 30, \"begin_checkout_7d\": 42, \"begin_checkout_30d\": 88, \"purchase_1d\": 1, \"purchase_7d\": 3, \"purchase_30d\": 9, \"qty_sold\": 13, \"nbre_commande\": 13, \"product_marge\": 2002.0, \"order_recency\": 1, \"order_seniority\": 39, \"stock\": 19, \"Cluster\": \"Cluster 0\"}, {\"ID\": 7865, \"view_item_list_1d\": 4458, \"view_item_list_7d\": 32009, \"view_item_list_30d\": 126885, \"view_item_1d\": 42, \"view_item_7d\": 359, \"view_item_30d\": 1876, \"add_to_cart_1d\": 1, \"add_to_cart_7d\": 13, \"add_to_cart_30d\": 67, \"begin_checkout_1d\": 0, \"begin_checkout_7d\": 14, \"begin_checkout_30d\": 60, \"purchase_1d\": 0, \"purchase_7d\": 2, \"purchase_30d\": 12, \"qty_sold\": 17, \"nbre_commande\": 17, \"product_marge\": 3621.0, \"order_recency\": 5, \"order_seniority\": 40, \"stock\": 19, \"Cluster\": \"Cluster 0\"}, {\"ID\": 7866, \"view_item_list_1d\": 5200, \"view_item_list_7d\": 28340, \"view_item_list_30d\": 103111, \"view_item_1d\": 116, \"view_item_7d\": 555, \"view_item_30d\": 2073, \"add_to_cart_1d\": 2, \"add_to_cart_7d\": 13, \"add_to_cart_30d\": 69, \"begin_checkout_1d\": 3, \"begin_checkout_7d\": 11, \"begin_checkout_30d\": 45, \"purchase_1d\": 1, \"purchase_7d\": 3, \"purchase_30d\": 8, \"qty_sold\": 22, \"nbre_commande\": 22, \"product_marge\": 7238.0, \"order_recency\": 1, \"order_seniority\": 57, \"stock\": 12, \"Cluster\": \"Cluster 0\"}, {\"ID\": 7870, \"view_item_list_1d\": 994, \"view_item_list_7d\": 6196, \"view_item_list_30d\": 28558, \"view_item_1d\": 30, \"view_item_7d\": 164, \"view_item_30d\": 891, \"add_to_cart_1d\": 1, \"add_to_cart_7d\": 3, \"add_to_cart_30d\": 31, \"begin_checkout_1d\": 2, \"begin_checkout_7d\": 9, \"begin_checkout_30d\": 41, \"purchase_1d\": 0, \"purchase_7d\": 0, \"purchase_30d\": 6, \"qty_sold\": 19, \"nbre_commande\": 19, \"product_marge\": 4674.0, \"order_recency\": 9, \"order_seniority\": 90, \"stock\": 49, \"Cluster\": \"Cluster 1\"}, {\"ID\": 7871, \"view_item_list_1d\": 1298, \"view_item_list_7d\": 7721, \"view_item_list_30d\": 36561, \"view_item_1d\": 42, \"view_item_7d\": 218, \"view_item_30d\": 1384, \"add_to_cart_1d\": 0, \"add_to_cart_7d\": 2, \"add_to_cart_30d\": 24, \"begin_checkout_1d\": 0, \"begin_checkout_7d\": 0, \"begin_checkout_30d\": 46, \"purchase_1d\": 0, \"purchase_7d\": 0, \"purchase_30d\": 4, \"qty_sold\": 13, \"nbre_commande\": 13, \"product_marge\": 3198.0, \"order_recency\": 9, \"order_seniority\": 95, \"stock\": 30, \"Cluster\": \"Cluster 1\"}, {\"ID\": 7872, \"view_item_list_1d\": 2069, \"view_item_list_7d\": 14898, \"view_item_list_30d\": 90372, \"view_item_1d\": 38, \"view_item_7d\": 257, \"view_item_30d\": 1562, \"add_to_cart_1d\": 0, \"add_to_cart_7d\": 0, \"add_to_cart_30d\": 27, \"begin_checkout_1d\": 0, \"begin_checkout_7d\": 0, \"begin_checkout_30d\": 35, \"purchase_1d\": 0, \"purchase_7d\": 0, \"purchase_30d\": 4, \"qty_sold\": 4, \"nbre_commande\": 4, \"product_marge\": 984.0, \"order_recency\": 8, \"order_seniority\": 25, \"stock\": 22, \"Cluster\": \"Cluster 1\"}, {\"ID\": 7873, \"view_item_list_1d\": 2785, \"view_item_list_7d\": 14238, \"view_item_list_30d\": 53054, \"view_item_1d\": 93, \"view_item_7d\": 344, \"view_item_30d\": 1454, \"add_to_cart_1d\": 0, \"add_to_cart_7d\": 2, \"add_to_cart_30d\": 17, \"begin_checkout_1d\": 0, \"begin_checkout_7d\": 2, \"begin_checkout_30d\": 17, \"purchase_1d\": 0, \"purchase_7d\": 0, \"purchase_30d\": 2, \"qty_sold\": 5, \"nbre_commande\": 5, \"product_marge\": 1230.0, \"order_recency\": 18, \"order_seniority\": 60, \"stock\": 40, \"Cluster\": \"Cluster 1\"}, {\"ID\": 7879, \"view_item_list_1d\": 990, \"view_item_list_7d\": 5927, \"view_item_list_30d\": 28008, \"view_item_1d\": 9, \"view_item_7d\": 32, \"view_item_30d\": 242, \"add_to_cart_1d\": 0, \"add_to_cart_7d\": 2, \"add_to_cart_30d\": 12, \"begin_checkout_1d\": 0, \"begin_checkout_7d\": 2, \"begin_checkout_30d\": 21, \"purchase_1d\": 0, \"purchase_7d\": 0, \"purchase_30d\": 2, \"qty_sold\": 10, \"nbre_commande\": 9, \"product_marge\": 2460.0, \"order_recency\": 23, \"order_seniority\": 93, \"stock\": 26, \"Cluster\": \"Cluster 1\"}, {\"ID\": 7882, \"view_item_list_1d\": 1327, \"view_item_list_7d\": 7612, \"view_item_list_30d\": 36091, \"view_item_1d\": 9, \"view_item_7d\": 214, \"view_item_30d\": 806, \"add_to_cart_1d\": 0, \"add_to_cart_7d\": 2, \"add_to_cart_30d\": 5, \"begin_checkout_1d\": 0, \"begin_checkout_7d\": 8, \"begin_checkout_30d\": 19, \"purchase_1d\": 0, \"purchase_7d\": 0, \"purchase_30d\": 1, \"qty_sold\": 5, \"nbre_commande\": 5, \"product_marge\": 1230.0, \"order_recency\": 2, \"order_seniority\": 94, \"stock\": 17, \"Cluster\": \"Cluster 1\"}, {\"ID\": 7883, \"view_item_list_1d\": 3232, \"view_item_list_7d\": 15658, \"view_item_list_30d\": 54829, \"view_item_1d\": 43, \"view_item_7d\": 280, \"view_item_30d\": 1259, \"add_to_cart_1d\": 0, \"add_to_cart_7d\": 10, \"add_to_cart_30d\": 43, \"begin_checkout_1d\": 0, \"begin_checkout_7d\": 17, \"begin_checkout_30d\": 48, \"purchase_1d\": 0, \"purchase_7d\": 4, \"purchase_30d\": 7, \"qty_sold\": 17, \"nbre_commande\": 17, \"product_marge\": 4182.0, \"order_recency\": 2, \"order_seniority\": 91, \"stock\": 8, \"Cluster\": \"Cluster 2\"}, {\"ID\": 7884, \"view_item_list_1d\": 3363, \"view_item_list_7d\": 19940, \"view_item_list_30d\": 99804, \"view_item_1d\": 22, \"view_item_7d\": 298, \"view_item_30d\": 1206, \"add_to_cart_1d\": 0, \"add_to_cart_7d\": 6, \"add_to_cart_30d\": 23, \"begin_checkout_1d\": 0, \"begin_checkout_7d\": 29, \"begin_checkout_30d\": 32, \"purchase_1d\": 0, \"purchase_7d\": 0, \"purchase_30d\": 1, \"qty_sold\": 3, \"nbre_commande\": 3, \"product_marge\": 738.0, \"order_recency\": 30, \"order_seniority\": 38, \"stock\": 42, \"Cluster\": \"Cluster 0\"}, {\"ID\": 7885, \"view_item_list_1d\": 3462, \"view_item_list_7d\": 17421, \"view_item_list_30d\": 66861, \"view_item_1d\": 40, \"view_item_7d\": 255, \"view_item_30d\": 1022, \"add_to_cart_1d\": 1, \"add_to_cart_7d\": 11, \"add_to_cart_30d\": 33, \"begin_checkout_1d\": 0, \"begin_checkout_7d\": 24, \"begin_checkout_30d\": 52, \"purchase_1d\": 0, \"purchase_7d\": 2, \"purchase_30d\": 5, \"qty_sold\": 10, \"nbre_commande\": 9, \"product_marge\": 2460.0, \"order_recency\": 2, \"order_seniority\": 54, \"stock\": 15, \"Cluster\": \"Cluster 0\"}, {\"ID\": 7894, \"view_item_list_1d\": 1349, \"view_item_list_7d\": 9066, \"view_item_list_30d\": 42169, \"view_item_1d\": 12, \"view_item_7d\": 41, \"view_item_30d\": 184, \"add_to_cart_1d\": 0, \"add_to_cart_7d\": 0, \"add_to_cart_30d\": 7, \"begin_checkout_1d\": 0, \"begin_checkout_7d\": 0, \"begin_checkout_30d\": 3, \"purchase_1d\": 0, \"purchase_7d\": 0, \"purchase_30d\": 0, \"qty_sold\": 4, \"nbre_commande\": 4, \"product_marge\": 652.0, \"order_recency\": 42, \"order_seniority\": 58, \"stock\": 50, \"Cluster\": \"Cluster 1\"}, {\"ID\": 7896, \"view_item_list_1d\": 1799, \"view_item_list_7d\": 11376, \"view_item_list_30d\": 49753, \"view_item_1d\": 18, \"view_item_7d\": 139, \"view_item_30d\": 645, \"add_to_cart_1d\": 1, \"add_to_cart_7d\": 4, \"add_to_cart_30d\": 21, \"begin_checkout_1d\": 2, \"begin_checkout_7d\": 4, \"begin_checkout_30d\": 17, \"purchase_1d\": 0, \"purchase_7d\": 0, \"purchase_30d\": 2, \"qty_sold\": 14, \"nbre_commande\": 14, \"product_marge\": 3332.0, \"order_recency\": 14, \"order_seniority\": 74, \"stock\": 19, \"Cluster\": \"Cluster 1\"}, {\"ID\": 7899, \"view_item_list_1d\": 2269, \"view_item_list_7d\": 15027, \"view_item_list_30d\": 88802, \"view_item_1d\": 23, \"view_item_7d\": 162, \"view_item_30d\": 934, \"add_to_cart_1d\": 0, \"add_to_cart_7d\": 1, \"add_to_cart_30d\": 12, \"begin_checkout_1d\": 0, \"begin_checkout_7d\": 1, \"begin_checkout_30d\": 4, \"purchase_1d\": 0, \"purchase_7d\": 0, \"purchase_30d\": 1, \"qty_sold\": 2, \"nbre_commande\": 2, \"product_marge\": 808.0, \"order_recency\": 15, \"order_seniority\": 40, \"stock\": 30, \"Cluster\": \"Cluster 1\"}, {\"ID\": 7902, \"view_item_list_1d\": 3236, \"view_item_list_7d\": 22237, \"view_item_list_30d\": 93297, \"view_item_1d\": 172, \"view_item_7d\": 1232, \"view_item_30d\": 5270, \"add_to_cart_1d\": 0, \"add_to_cart_7d\": 8, \"add_to_cart_30d\": 43, \"begin_checkout_1d\": 0, \"begin_checkout_7d\": 13, \"begin_checkout_30d\": 39, \"purchase_1d\": 0, \"purchase_7d\": 0, \"purchase_30d\": 2, \"qty_sold\": 23, \"nbre_commande\": 22, \"product_marge\": 9499.0, \"order_recency\": 18, \"order_seniority\": 77, \"stock\": 19, \"Cluster\": \"Cluster 0\"}, {\"ID\": 7903, \"view_item_list_1d\": 3616, \"view_item_list_7d\": 28139, \"view_item_list_30d\": 140338, \"view_item_1d\": 176, \"view_item_7d\": 1149, \"view_item_30d\": 4951, \"add_to_cart_1d\": 1, \"add_to_cart_7d\": 14, \"add_to_cart_30d\": 83, \"begin_checkout_1d\": 0, \"begin_checkout_7d\": 7, \"begin_checkout_30d\": 53, \"purchase_1d\": 0, \"purchase_7d\": 2, \"purchase_30d\": 7, \"qty_sold\": 11, \"nbre_commande\": 11, \"product_marge\": 4543.0, \"order_recency\": 5, \"order_seniority\": 37, \"stock\": 38, \"Cluster\": \"Cluster 0\"}, {\"ID\": 7904, \"view_item_list_1d\": 1726, \"view_item_list_7d\": 10411, \"view_item_list_30d\": 48816, \"view_item_1d\": 32, \"view_item_7d\": 212, \"view_item_30d\": 926, \"add_to_cart_1d\": 1, \"add_to_cart_7d\": 5, \"add_to_cart_30d\": 33, \"begin_checkout_1d\": 0, \"begin_checkout_7d\": 9, \"begin_checkout_30d\": 29, \"purchase_1d\": 0, \"purchase_7d\": 0, \"purchase_30d\": 4, \"qty_sold\": 35, \"nbre_commande\": 35, \"product_marge\": 8610.0, \"order_recency\": 8, \"order_seniority\": 78, \"stock\": 16, \"Cluster\": \"Cluster 2\"}, {\"ID\": 7908, \"view_item_list_1d\": 2219, \"view_item_list_7d\": 16443, \"view_item_list_30d\": 69802, \"view_item_1d\": 16, \"view_item_7d\": 195, \"view_item_30d\": 770, \"add_to_cart_1d\": 0, \"add_to_cart_7d\": 2, \"add_to_cart_30d\": 33, \"begin_checkout_1d\": 0, \"begin_checkout_7d\": 15, \"begin_checkout_30d\": 16, \"purchase_1d\": 0, \"purchase_7d\": 1, \"purchase_30d\": 1, \"qty_sold\": 5, \"nbre_commande\": 5, \"product_marge\": 1940.0, \"order_recency\": 3, \"order_seniority\": 75, \"stock\": 48, \"Cluster\": \"Cluster 1\"}, {\"ID\": 7925, \"view_item_list_1d\": 1754, \"view_item_list_7d\": 10977, \"view_item_list_30d\": 50702, \"view_item_1d\": 23, \"view_item_7d\": 223, \"view_item_30d\": 857, \"add_to_cart_1d\": 1, \"add_to_cart_7d\": 4, \"add_to_cart_30d\": 41, \"begin_checkout_1d\": 1, \"begin_checkout_7d\": 3, \"begin_checkout_30d\": 18, \"purchase_1d\": 0, \"purchase_7d\": 0, \"purchase_30d\": 4, \"qty_sold\": 26, \"nbre_commande\": 26, \"product_marge\": 3588.0, \"order_recency\": 8, \"order_seniority\": 61, \"stock\": 51, \"Cluster\": \"Cluster 1\"}, {\"ID\": 7926, \"view_item_list_1d\": 4068, \"view_item_list_7d\": 19859, \"view_item_list_30d\": 72005, \"view_item_1d\": 128, \"view_item_7d\": 583, \"view_item_30d\": 2364, \"add_to_cart_1d\": 4, \"add_to_cart_7d\": 15, \"add_to_cart_30d\": 82, \"begin_checkout_1d\": 1, \"begin_checkout_7d\": 9, \"begin_checkout_30d\": 49, \"purchase_1d\": 0, \"purchase_7d\": 2, \"purchase_30d\": 11, \"qty_sold\": 34, \"nbre_commande\": 34, \"product_marge\": 4692.0, \"order_recency\": 5, \"order_seniority\": 61, \"stock\": 59, \"Cluster\": \"Cluster 0\"}, {\"ID\": 7930, \"view_item_list_1d\": 3639, \"view_item_list_7d\": 28856, \"view_item_list_30d\": 126719, \"view_item_1d\": 261, \"view_item_7d\": 2398, \"view_item_30d\": 5843, \"add_to_cart_1d\": 4, \"add_to_cart_7d\": 42, \"add_to_cart_30d\": 81, \"begin_checkout_1d\": 3, \"begin_checkout_7d\": 25, \"begin_checkout_30d\": 72, \"purchase_1d\": 1, \"purchase_7d\": 4, \"purchase_30d\": 11, \"qty_sold\": 18, \"nbre_commande\": 18, \"product_marge\": 4284.0, \"order_recency\": 1, \"order_seniority\": 59, \"stock\": 103, \"Cluster\": \"Cluster 0\"}, {\"ID\": 7935, \"view_item_list_1d\": 3521, \"view_item_list_7d\": 25134, \"view_item_list_30d\": 101097, \"view_item_1d\": 222, \"view_item_7d\": 1317, \"view_item_30d\": 4944, \"add_to_cart_1d\": 4, \"add_to_cart_7d\": 20, \"add_to_cart_30d\": 66, \"begin_checkout_1d\": 4, \"begin_checkout_7d\": 10, \"begin_checkout_30d\": 48, \"purchase_1d\": 1, \"purchase_7d\": 2, \"purchase_30d\": 9, \"qty_sold\": 24, \"nbre_commande\": 24, \"product_marge\": 5112.0, \"order_recency\": 1, \"order_seniority\": 60, \"stock\": 43, \"Cluster\": \"Cluster 0\"}, {\"ID\": 7936, \"view_item_list_1d\": 5558, \"view_item_list_7d\": 34506, \"view_item_list_30d\": 125967, \"view_item_1d\": 369, \"view_item_7d\": 2179, \"view_item_30d\": 7664, \"add_to_cart_1d\": 1, \"add_to_cart_7d\": 32, \"add_to_cart_30d\": 112, \"begin_checkout_1d\": 4, \"begin_checkout_7d\": 30, \"begin_checkout_30d\": 111, \"purchase_1d\": 0, \"purchase_7d\": 3, \"purchase_30d\": 15, \"qty_sold\": 46, \"nbre_commande\": 44, \"product_marge\": 9798.0, \"order_recency\": 2, \"order_seniority\": 61, \"stock\": 15, \"Cluster\": \"Cluster 0\"}, {\"ID\": 7938, \"view_item_list_1d\": 2272, \"view_item_list_7d\": 15919, \"view_item_list_30d\": 64349, \"view_item_1d\": 186, \"view_item_7d\": 1704, \"view_item_30d\": 7100, \"add_to_cart_1d\": 5, \"add_to_cart_7d\": 21, \"add_to_cart_30d\": 92, \"begin_checkout_1d\": 10, \"begin_checkout_7d\": 27, \"begin_checkout_30d\": 75, \"purchase_1d\": 1, \"purchase_7d\": 2, \"purchase_30d\": 13, \"qty_sold\": 69, \"nbre_commande\": 68, \"product_marge\": 14697.0, \"order_recency\": 1, \"order_seniority\": 77, \"stock\": 2, \"Cluster\": \"Cluster 0\"}, {\"ID\": 7943, \"view_item_list_1d\": 2628, \"view_item_list_7d\": 14406, \"view_item_list_30d\": 69948, \"view_item_1d\": 63, \"view_item_7d\": 270, \"view_item_30d\": 1269, \"add_to_cart_1d\": 3, \"add_to_cart_7d\": 16, \"add_to_cart_30d\": 54, \"begin_checkout_1d\": 4, \"begin_checkout_7d\": 13, \"begin_checkout_30d\": 44, \"purchase_1d\": 1, \"purchase_7d\": 2, \"purchase_30d\": 9, \"qty_sold\": 24, \"nbre_commande\": 24, \"product_marge\": 3696.0, \"order_recency\": 1, \"order_seniority\": 61, \"stock\": 27, \"Cluster\": \"Cluster 0\"}, {\"ID\": 7955, \"view_item_list_1d\": 3160, \"view_item_list_7d\": 24127, \"view_item_list_30d\": 104910, \"view_item_1d\": 81, \"view_item_7d\": 565, \"view_item_30d\": 1963, \"add_to_cart_1d\": 4, \"add_to_cart_7d\": 16, \"add_to_cart_30d\": 79, \"begin_checkout_1d\": 4, \"begin_checkout_7d\": 18, \"begin_checkout_30d\": 48, \"purchase_1d\": 1, \"purchase_7d\": 3, \"purchase_30d\": 10, \"qty_sold\": 28, \"nbre_commande\": 28, \"product_marge\": 6888.0, \"order_recency\": 1, \"order_seniority\": 61, \"stock\": 15, \"Cluster\": \"Cluster 0\"}, {\"ID\": 7956, \"view_item_list_1d\": 4815, \"view_item_list_7d\": 26589, \"view_item_list_30d\": 98434, \"view_item_1d\": 52, \"view_item_7d\": 261, \"view_item_30d\": 1077, \"add_to_cart_1d\": 1, \"add_to_cart_7d\": 7, \"add_to_cart_30d\": 24, \"begin_checkout_1d\": 0, \"begin_checkout_7d\": 2, \"begin_checkout_30d\": 24, \"purchase_1d\": 0, \"purchase_7d\": 1, \"purchase_30d\": 1, \"qty_sold\": 7, \"nbre_commande\": 7, \"product_marge\": 1722.0, \"order_recency\": 6, \"order_seniority\": 61, \"stock\": 45, \"Cluster\": \"Cluster 0\"}, {\"ID\": 7972, \"view_item_list_1d\": 2155, \"view_item_list_7d\": 15643, \"view_item_list_30d\": 66105, \"view_item_1d\": 165, \"view_item_7d\": 1081, \"view_item_30d\": 5188, \"add_to_cart_1d\": 1, \"add_to_cart_7d\": 6, \"add_to_cart_30d\": 82, \"begin_checkout_1d\": 5, \"begin_checkout_7d\": 20, \"begin_checkout_30d\": 92, \"purchase_1d\": 1, \"purchase_7d\": 2, \"purchase_30d\": 11, \"qty_sold\": 78, \"nbre_commande\": 78, \"product_marge\": 21138.0, \"order_recency\": 1, \"order_seniority\": 77, \"stock\": null, \"Cluster\": \"Cluster 2\"}, {\"ID\": 7975, \"view_item_list_1d\": 5089, \"view_item_list_7d\": 33266, \"view_item_list_30d\": 134737, \"view_item_1d\": 177, \"view_item_7d\": 1311, \"view_item_30d\": 6187, \"add_to_cart_1d\": 1, \"add_to_cart_7d\": 15, \"add_to_cart_30d\": 160, \"begin_checkout_1d\": 3, \"begin_checkout_7d\": 20, \"begin_checkout_30d\": 195, \"purchase_1d\": 0, \"purchase_7d\": 4, \"purchase_30d\": 33, \"qty_sold\": 43, \"nbre_commande\": 43, \"product_marge\": 10578.0, \"order_recency\": 3, \"order_seniority\": 40, \"stock\": 2, \"Cluster\": \"Cluster 0\"}, {\"ID\": 7976, \"view_item_list_1d\": 672, \"view_item_list_7d\": 4730, \"view_item_list_30d\": 33087, \"view_item_1d\": 0, \"view_item_7d\": 51, \"view_item_30d\": 197, \"add_to_cart_1d\": 0, \"add_to_cart_7d\": 3, \"add_to_cart_30d\": 9, \"begin_checkout_1d\": 0, \"begin_checkout_7d\": 0, \"begin_checkout_30d\": 2, \"purchase_1d\": 0, \"purchase_7d\": 0, \"purchase_30d\": 0, \"qty_sold\": 2, \"nbre_commande\": 2, \"product_marge\": 992.0, \"order_recency\": 127, \"order_seniority\": 143, \"stock\": 91, \"Cluster\": \"Cluster 1\"}, {\"ID\": 7977, \"view_item_list_1d\": 875, \"view_item_list_7d\": 5369, \"view_item_list_30d\": 33044, \"view_item_1d\": 22, \"view_item_7d\": 158, \"view_item_30d\": 570, \"add_to_cart_1d\": 0, \"add_to_cart_7d\": 3, \"add_to_cart_30d\": 9, \"begin_checkout_1d\": 0, \"begin_checkout_7d\": 0, \"begin_checkout_30d\": 9, \"purchase_1d\": 0, \"purchase_7d\": 0, \"purchase_30d\": 0, \"qty_sold\": 18, \"nbre_commande\": 17, \"product_marge\": 8928.0, \"order_recency\": 30, \"order_seniority\": 145, \"stock\": 80, \"Cluster\": \"Cluster 1\"}, {\"ID\": 7980, \"view_item_list_1d\": 679, \"view_item_list_7d\": 4605, \"view_item_list_30d\": 20265, \"view_item_1d\": 19, \"view_item_7d\": 189, \"view_item_30d\": 792, \"add_to_cart_1d\": 0, \"add_to_cart_7d\": 1, \"add_to_cart_30d\": 8, \"begin_checkout_1d\": 0, \"begin_checkout_7d\": 0, \"begin_checkout_30d\": 13, \"purchase_1d\": 0, \"purchase_7d\": 0, \"purchase_30d\": 1, \"qty_sold\": 4, \"nbre_commande\": 4, \"product_marge\": 784.0, \"order_recency\": 27, \"order_seniority\": 41, \"stock\": 31, \"Cluster\": \"Cluster 1\"}, {\"ID\": 7981, \"view_item_list_1d\": 2436, \"view_item_list_7d\": 15962, \"view_item_list_30d\": 90236, \"view_item_1d\": 59, \"view_item_7d\": 488, \"view_item_30d\": 2291, \"add_to_cart_1d\": 0, \"add_to_cart_7d\": 19, \"add_to_cart_30d\": 70, \"begin_checkout_1d\": 0, \"begin_checkout_7d\": 23, \"begin_checkout_30d\": 84, \"purchase_1d\": 0, \"purchase_7d\": 5, \"purchase_30d\": 19, \"qty_sold\": 27, \"nbre_commande\": 27, \"product_marge\": 5292.0, \"order_recency\": 1, \"order_seniority\": 40, \"stock\": 23, \"Cluster\": \"Cluster 0\"}, {\"ID\": 7982, \"view_item_list_1d\": 5067, \"view_item_list_7d\": 33370, \"view_item_list_30d\": 129812, \"view_item_1d\": 122, \"view_item_7d\": 879, \"view_item_30d\": 3410, \"add_to_cart_1d\": 3, \"add_to_cart_7d\": 21, \"add_to_cart_30d\": 64, \"begin_checkout_1d\": 1, \"begin_checkout_7d\": 14, \"begin_checkout_30d\": 65, \"purchase_1d\": 0, \"purchase_7d\": 1, \"purchase_30d\": 6, \"qty_sold\": 11, \"nbre_commande\": 11, \"product_marge\": 2519.0, \"order_recency\": 5, \"order_seniority\": 39, \"stock\": 31, \"Cluster\": \"Cluster 0\"}, {\"ID\": 7983, \"view_item_list_1d\": 2180, \"view_item_list_7d\": 16329, \"view_item_list_30d\": 68346, \"view_item_1d\": 101, \"view_item_7d\": 603, \"view_item_30d\": 2579, \"add_to_cart_1d\": 0, \"add_to_cart_7d\": 5, \"add_to_cart_30d\": 21, \"begin_checkout_1d\": 0, \"begin_checkout_7d\": 7, \"begin_checkout_30d\": 23, \"purchase_1d\": 0, \"purchase_7d\": 3, \"purchase_30d\": 5, \"qty_sold\": 22, \"nbre_commande\": 22, \"product_marge\": 5038.0, \"order_recency\": 3, \"order_seniority\": 77, \"stock\": 33, \"Cluster\": \"Cluster 2\"}, {\"ID\": 7985, \"view_item_list_1d\": 3789, \"view_item_list_7d\": 26085, \"view_item_list_30d\": 109733, \"view_item_1d\": 103, \"view_item_7d\": 735, \"view_item_30d\": 2865, \"add_to_cart_1d\": 1, \"add_to_cart_7d\": 10, \"add_to_cart_30d\": 38, \"begin_checkout_1d\": 0, \"begin_checkout_7d\": 13, \"begin_checkout_30d\": 32, \"purchase_1d\": 0, \"purchase_7d\": 1, \"purchase_30d\": 2, \"qty_sold\": 12, \"nbre_commande\": 12, \"product_marge\": 2748.0, \"order_recency\": 7, \"order_seniority\": 57, \"stock\": 45, \"Cluster\": \"Cluster 0\"}, {\"ID\": 7987, \"view_item_list_1d\": 1408, \"view_item_list_7d\": 8359, \"view_item_list_30d\": 39971, \"view_item_1d\": 8, \"view_item_7d\": 94, \"view_item_30d\": 386, \"add_to_cart_1d\": 0, \"add_to_cart_7d\": 6, \"add_to_cart_30d\": 10, \"begin_checkout_1d\": 0, \"begin_checkout_7d\": 7, \"begin_checkout_30d\": 15, \"purchase_1d\": 0, \"purchase_7d\": 2, \"purchase_30d\": 3, \"qty_sold\": 6, \"nbre_commande\": 6, \"product_marge\": 1128.0, \"order_recency\": 2, \"order_seniority\": 56, \"stock\": 62, \"Cluster\": \"Cluster 1\"}, {\"ID\": 7989, \"view_item_list_1d\": 2428, \"view_item_list_7d\": 14200, \"view_item_list_30d\": 64412, \"view_item_1d\": 18, \"view_item_7d\": 152, \"view_item_30d\": 529, \"add_to_cart_1d\": 0, \"add_to_cart_7d\": 9, \"add_to_cart_30d\": 35, \"begin_checkout_1d\": 0, \"begin_checkout_7d\": 4, \"begin_checkout_30d\": 28, \"purchase_1d\": 0, \"purchase_7d\": 1, \"purchase_30d\": 3, \"qty_sold\": 7, \"nbre_commande\": 7, \"product_marge\": 1316.0, \"order_recency\": 3, \"order_seniority\": 56, \"stock\": 67, \"Cluster\": \"Cluster 1\"}, {\"ID\": 7990, \"view_item_list_1d\": 1506, \"view_item_list_7d\": 9299, \"view_item_list_30d\": 42120, \"view_item_1d\": 61, \"view_item_7d\": 364, \"view_item_30d\": 1389, \"add_to_cart_1d\": 0, \"add_to_cart_7d\": 9, \"add_to_cart_30d\": 54, \"begin_checkout_1d\": 0, \"begin_checkout_7d\": 8, \"begin_checkout_30d\": 69, \"purchase_1d\": 0, \"purchase_7d\": 3, \"purchase_30d\": 10, \"qty_sold\": 30, \"nbre_commande\": 30, \"product_marge\": 4620.0, \"order_recency\": 4, \"order_seniority\": 77, \"stock\": 49, \"Cluster\": \"Cluster 2\"}, {\"ID\": 7991, \"view_item_list_1d\": 2171, \"view_item_list_7d\": 12628, \"view_item_list_30d\": 58757, \"view_item_1d\": 88, \"view_item_7d\": 373, \"view_item_30d\": 1691, \"add_to_cart_1d\": 7, \"add_to_cart_7d\": 16, \"add_to_cart_30d\": 71, \"begin_checkout_1d\": 4, \"begin_checkout_7d\": 18, \"begin_checkout_30d\": 119, \"purchase_1d\": 0, \"purchase_7d\": 3, \"purchase_30d\": 13, \"qty_sold\": 44, \"nbre_commande\": 41, \"product_marge\": 6468.0, \"order_recency\": 1, \"order_seniority\": 77, \"stock\": 39, \"Cluster\": \"Cluster 0\"}, {\"ID\": 7992, \"view_item_list_1d\": 1369, \"view_item_list_7d\": 9048, \"view_item_list_30d\": 42468, \"view_item_1d\": 61, \"view_item_7d\": 272, \"view_item_30d\": 1101, \"add_to_cart_1d\": 3, \"add_to_cart_7d\": 17, \"add_to_cart_30d\": 85, \"begin_checkout_1d\": 2, \"begin_checkout_7d\": 16, \"begin_checkout_30d\": 60, \"purchase_1d\": 1, \"purchase_7d\": 3, \"purchase_30d\": 10, \"qty_sold\": 26, \"nbre_commande\": 26, \"product_marge\": 4004.0, \"order_recency\": 1, \"order_seniority\": 75, \"stock\": 24, \"Cluster\": \"Cluster 2\"}, {\"ID\": 7994, \"view_item_list_1d\": 2834, \"view_item_list_7d\": 19392, \"view_item_list_30d\": 83247, \"view_item_1d\": 182, \"view_item_7d\": 1597, \"view_item_30d\": 7541, \"add_to_cart_1d\": 0, \"add_to_cart_7d\": 0, \"add_to_cart_30d\": 22, \"begin_checkout_1d\": 1, \"begin_checkout_7d\": 1, \"begin_checkout_30d\": 14, \"purchase_1d\": 0, \"purchase_7d\": 0, \"purchase_30d\": 4, \"qty_sold\": 38, \"nbre_commande\": 38, \"product_marge\": 12502.0, \"order_recency\": 9, \"order_seniority\": 77, \"stock\": null, \"Cluster\": \"Cluster 2\"}, {\"ID\": 7995, \"view_item_list_1d\": 2479, \"view_item_list_7d\": 16163, \"view_item_list_30d\": 69023, \"view_item_1d\": 151, \"view_item_7d\": 1064, \"view_item_30d\": 9427, \"add_to_cart_1d\": 0, \"add_to_cart_7d\": 0, \"add_to_cart_30d\": 95, \"begin_checkout_1d\": 0, \"begin_checkout_7d\": 0, \"begin_checkout_30d\": 106, \"purchase_1d\": 0, \"purchase_7d\": 0, \"purchase_30d\": 13, \"qty_sold\": 41, \"nbre_commande\": 41, \"product_marge\": 13489.0, \"order_recency\": 9, \"order_seniority\": 76, \"stock\": null, \"Cluster\": \"Cluster 2\"}, {\"ID\": 7996, \"view_item_list_1d\": 2476, \"view_item_list_7d\": 17009, \"view_item_list_30d\": 73254, \"view_item_1d\": 130, \"view_item_7d\": 959, \"view_item_30d\": 3734, \"add_to_cart_1d\": 2, \"add_to_cart_7d\": 20, \"add_to_cart_30d\": 115, \"begin_checkout_1d\": 1, \"begin_checkout_7d\": 37, \"begin_checkout_30d\": 188, \"purchase_1d\": 0, \"purchase_7d\": 3, \"purchase_30d\": 27, \"qty_sold\": 52, \"nbre_commande\": 52, \"product_marge\": 12792.0, \"order_recency\": 2, \"order_seniority\": 77, \"stock\": 18, \"Cluster\": \"Cluster 0\"}, {\"ID\": 7998, \"view_item_list_1d\": 2818, \"view_item_list_7d\": 18911, \"view_item_list_30d\": 82710, \"view_item_1d\": 103, \"view_item_7d\": 988, \"view_item_30d\": 4376, \"add_to_cart_1d\": 2, \"add_to_cart_7d\": 19, \"add_to_cart_30d\": 93, \"begin_checkout_1d\": 0, \"begin_checkout_7d\": 17, \"begin_checkout_30d\": 71, \"purchase_1d\": 0, \"purchase_7d\": 4, \"purchase_30d\": 18, \"qty_sold\": 48, \"nbre_commande\": 47, \"product_marge\": 11808.0, \"order_recency\": 2, \"order_seniority\": 77, \"stock\": 2, \"Cluster\": \"Cluster 0\"}, {\"ID\": 7999, \"view_item_list_1d\": 1279, \"view_item_list_7d\": 7389, \"view_item_list_30d\": 37215, \"view_item_1d\": 24, \"view_item_7d\": 100, \"view_item_30d\": 518, \"add_to_cart_1d\": 2, \"add_to_cart_7d\": 2, \"add_to_cart_30d\": 22, \"begin_checkout_1d\": 3, \"begin_checkout_7d\": 6, \"begin_checkout_30d\": 8, \"purchase_1d\": 1, \"purchase_7d\": 1, \"purchase_30d\": 2, \"qty_sold\": 9, \"nbre_commande\": 9, \"product_marge\": 2142.0, \"order_recency\": 1, \"order_seniority\": 73, \"stock\": 36, \"Cluster\": \"Cluster 1\"}, {\"ID\": 8000, \"view_item_list_1d\": 1646, \"view_item_list_7d\": 10290, \"view_item_list_30d\": 47446, \"view_item_1d\": 14, \"view_item_7d\": 95, \"view_item_30d\": 357, \"add_to_cart_1d\": 1, \"add_to_cart_7d\": 2, \"add_to_cart_30d\": 13, \"begin_checkout_1d\": 1, \"begin_checkout_7d\": 1, \"begin_checkout_30d\": 5, \"purchase_1d\": 0, \"purchase_7d\": 0, \"purchase_30d\": 0, \"qty_sold\": 6, \"nbre_commande\": 6, \"product_marge\": 1278.0, \"order_recency\": 43, \"order_seniority\": 61, \"stock\": 120, \"Cluster\": \"Cluster 1\"}, {\"ID\": 8003, \"view_item_list_1d\": 993, \"view_item_list_7d\": 6383, \"view_item_list_30d\": 29304, \"view_item_1d\": 32, \"view_item_7d\": 257, \"view_item_30d\": 935, \"add_to_cart_1d\": 1, \"add_to_cart_7d\": 12, \"add_to_cart_30d\": 45, \"begin_checkout_1d\": 1, \"begin_checkout_7d\": 14, \"begin_checkout_30d\": 30, \"purchase_1d\": 0, \"purchase_7d\": 1, \"purchase_30d\": 4, \"qty_sold\": 28, \"nbre_commande\": 28, \"product_marge\": 6664.0, \"order_recency\": 7, \"order_seniority\": 95, \"stock\": 24, \"Cluster\": \"Cluster 2\"}, {\"ID\": 8004, \"view_item_list_1d\": 1413, \"view_item_list_7d\": 10481, \"view_item_list_30d\": 46487, \"view_item_1d\": 150, \"view_item_7d\": 722, \"view_item_30d\": 3401, \"add_to_cart_1d\": 0, \"add_to_cart_7d\": 7, \"add_to_cart_30d\": 36, \"begin_checkout_1d\": 0, \"begin_checkout_7d\": 0, \"begin_checkout_30d\": 27, \"purchase_1d\": 0, \"purchase_7d\": 0, \"purchase_30d\": 4, \"qty_sold\": 32, \"nbre_commande\": 30, \"product_marge\": 6816.0, \"order_recency\": 9, \"order_seniority\": 145, \"stock\": 65, \"Cluster\": \"Cluster 2\"}, {\"ID\": 8006, \"view_item_list_1d\": 1432, \"view_item_list_7d\": 10125, \"view_item_list_30d\": 47384, \"view_item_1d\": 71, \"view_item_7d\": 539, \"view_item_30d\": 1695, \"add_to_cart_1d\": 2, \"add_to_cart_7d\": 12, \"add_to_cart_30d\": 40, \"begin_checkout_1d\": 0, \"begin_checkout_7d\": 8, \"begin_checkout_30d\": 41, \"purchase_1d\": 0, \"purchase_7d\": 1, \"purchase_30d\": 7, \"qty_sold\": 36, \"nbre_commande\": 36, \"product_marge\": 5868.0, \"order_recency\": 6, \"order_seniority\": 144, \"stock\": 20, \"Cluster\": \"Cluster 2\"}, {\"ID\": 8007, \"view_item_list_1d\": 1236, \"view_item_list_7d\": 8536, \"view_item_list_30d\": 37953, \"view_item_1d\": 71, \"view_item_7d\": 540, \"view_item_30d\": 2078, \"add_to_cart_1d\": 3, \"add_to_cart_7d\": 10, \"add_to_cart_30d\": 44, \"begin_checkout_1d\": 0, \"begin_checkout_7d\": 3, \"begin_checkout_30d\": 28, \"purchase_1d\": 0, \"purchase_7d\": 1, \"purchase_30d\": 7, \"qty_sold\": 36, \"nbre_commande\": 36, \"product_marge\": 5868.0, \"order_recency\": 6, \"order_seniority\": 162, \"stock\": 30, \"Cluster\": \"Cluster 2\"}, {\"ID\": 8010, \"view_item_list_1d\": 2309, \"view_item_list_7d\": 15247, \"view_item_list_30d\": 82086, \"view_item_1d\": 44, \"view_item_7d\": 350, \"view_item_30d\": 1633, \"add_to_cart_1d\": 1, \"add_to_cart_7d\": 7, \"add_to_cart_30d\": 68, \"begin_checkout_1d\": 0, \"begin_checkout_7d\": 14, \"begin_checkout_30d\": 70, \"purchase_1d\": 0, \"purchase_7d\": 1, \"purchase_30d\": 13, \"qty_sold\": 22, \"nbre_commande\": 22, \"product_marge\": 3586.0, \"order_recency\": 7, \"order_seniority\": 39, \"stock\": 10, \"Cluster\": \"Cluster 0\"}, {\"ID\": 8011, \"view_item_list_1d\": 450, \"view_item_list_7d\": 2825, \"view_item_list_30d\": 14429, \"view_item_1d\": 16, \"view_item_7d\": 89, \"view_item_30d\": 311, \"add_to_cart_1d\": 2, \"add_to_cart_7d\": 3, \"add_to_cart_30d\": 8, \"begin_checkout_1d\": 6, \"begin_checkout_7d\": 6, \"begin_checkout_30d\": 15, \"purchase_1d\": 1, \"purchase_7d\": 1, \"purchase_30d\": 2, \"qty_sold\": 22, \"nbre_commande\": 13, \"product_marge\": 1248.0, \"order_recency\": 1, \"order_seniority\": 139, \"stock\": 38, \"Cluster\": \"Cluster 1\"}, {\"ID\": 8015, \"view_item_list_1d\": 1510, \"view_item_list_7d\": 9126, \"view_item_list_30d\": 42250, \"view_item_1d\": 156, \"view_item_7d\": 693, \"view_item_30d\": 2350, \"add_to_cart_1d\": 4, \"add_to_cart_7d\": 14, \"add_to_cart_30d\": 54, \"begin_checkout_1d\": 10, \"begin_checkout_7d\": 14, \"begin_checkout_30d\": 31, \"purchase_1d\": 0, \"purchase_7d\": 0, \"purchase_30d\": 2, \"qty_sold\": 21, \"nbre_commande\": 20, \"product_marge\": 5691.0, \"order_recency\": 14, \"order_seniority\": 93, \"stock\": 31, \"Cluster\": \"Cluster 2\"}, {\"ID\": 8016, \"view_item_list_1d\": 2258, \"view_item_list_7d\": 16298, \"view_item_list_30d\": 68742, \"view_item_1d\": 56, \"view_item_7d\": 451, \"view_item_30d\": 1744, \"add_to_cart_1d\": 2, \"add_to_cart_7d\": 17, \"add_to_cart_30d\": 52, \"begin_checkout_1d\": 4, \"begin_checkout_7d\": 33, \"begin_checkout_30d\": 65, \"purchase_1d\": 0, \"purchase_7d\": 2, \"purchase_30d\": 3, \"qty_sold\": 37, \"nbre_commande\": 37, \"product_marge\": 8177.0, \"order_recency\": 4, \"order_seniority\": 95, \"stock\": 55, \"Cluster\": \"Cluster 2\"}, {\"ID\": 8019, \"view_item_list_1d\": 444, \"view_item_list_7d\": 2914, \"view_item_list_30d\": 12866, \"view_item_1d\": 27, \"view_item_7d\": 156, \"view_item_30d\": 788, \"add_to_cart_1d\": 1, \"add_to_cart_7d\": 9, \"add_to_cart_30d\": 60, \"begin_checkout_1d\": 0, \"begin_checkout_7d\": 6, \"begin_checkout_30d\": 47, \"purchase_1d\": 0, \"purchase_7d\": 1, \"purchase_30d\": 5, \"qty_sold\": 14, \"nbre_commande\": 14, \"product_marge\": 3444.0, \"order_recency\": 7, \"order_seniority\": 41, \"stock\": 2, \"Cluster\": \"Cluster 1\"}, {\"ID\": 8021, \"view_item_list_1d\": 2196, \"view_item_list_7d\": 14673, \"view_item_list_30d\": 85630, \"view_item_1d\": 186, \"view_item_7d\": 937, \"view_item_30d\": 6022, \"add_to_cart_1d\": 4, \"add_to_cart_7d\": 4, \"add_to_cart_30d\": 55, \"begin_checkout_1d\": 11, \"begin_checkout_7d\": 11, \"begin_checkout_30d\": 90, \"purchase_1d\": 1, \"purchase_7d\": 1, \"purchase_30d\": 16, \"qty_sold\": 37, \"nbre_commande\": 36, \"product_marge\": 8177.0, \"order_recency\": 1, \"order_seniority\": 39, \"stock\": null, \"Cluster\": \"Cluster 0\"}, {\"ID\": 8023, \"view_item_list_1d\": 1876, \"view_item_list_7d\": 12818, \"view_item_list_30d\": 79564, \"view_item_1d\": 16, \"view_item_7d\": 68, \"view_item_30d\": 476, \"add_to_cart_1d\": 0, \"add_to_cart_7d\": 1, \"add_to_cart_30d\": 14, \"begin_checkout_1d\": 0, \"begin_checkout_7d\": 2, \"begin_checkout_30d\": 7, \"purchase_1d\": 0, \"purchase_7d\": 0, \"purchase_30d\": 1, \"qty_sold\": 4, \"nbre_commande\": 3, \"product_marge\": 852.0, \"order_recency\": 8, \"order_seniority\": 30, \"stock\": 39, \"Cluster\": \"Cluster 1\"}, {\"ID\": 8034, \"view_item_list_1d\": 3496, \"view_item_list_7d\": 17253, \"view_item_list_30d\": 62680, \"view_item_1d\": 123, \"view_item_7d\": 800, \"view_item_30d\": 3088, \"add_to_cart_1d\": 0, \"add_to_cart_7d\": 10, \"add_to_cart_30d\": 48, \"begin_checkout_1d\": 0, \"begin_checkout_7d\": 24, \"begin_checkout_30d\": 50, \"purchase_1d\": 0, \"purchase_7d\": 4, \"purchase_30d\": 7, \"qty_sold\": 24, \"nbre_commande\": 24, \"product_marge\": 9504.0, \"order_recency\": 2, \"order_seniority\": 60, \"stock\": 2, \"Cluster\": \"Cluster 0\"}, {\"ID\": 8035, \"view_item_list_1d\": 5545, \"view_item_list_7d\": 33439, \"view_item_list_30d\": 118343, \"view_item_1d\": 95, \"view_item_7d\": 624, \"view_item_30d\": 1986, \"add_to_cart_1d\": 2, \"add_to_cart_7d\": 14, \"add_to_cart_30d\": 43, \"begin_checkout_1d\": 1, \"begin_checkout_7d\": 10, \"begin_checkout_30d\": 18, \"purchase_1d\": 0, \"purchase_7d\": 1, \"purchase_30d\": 3, \"qty_sold\": 9, \"nbre_commande\": 9, \"product_marge\": 3717.0, \"order_recency\": 6, \"order_seniority\": 60, \"stock\": 28, \"Cluster\": \"Cluster 0\"}, {\"ID\": 8036, \"view_item_list_1d\": 5166, \"view_item_list_7d\": 28858, \"view_item_list_30d\": 103327, \"view_item_1d\": 1690, \"view_item_7d\": 9973, \"view_item_30d\": 14860, \"add_to_cart_1d\": 5, \"add_to_cart_7d\": 71, \"add_to_cart_30d\": 199, \"begin_checkout_1d\": 5, \"begin_checkout_7d\": 58, \"begin_checkout_30d\": 190, \"purchase_1d\": 2, \"purchase_7d\": 6, \"purchase_30d\": 30, \"qty_sold\": 79, \"nbre_commande\": 78, \"product_marge\": 20777.0, \"order_recency\": 1, \"order_seniority\": 61, \"stock\": null, \"Cluster\": \"Cluster 3\"}, {\"ID\": 8051, \"view_item_list_1d\": 1355, \"view_item_list_7d\": 7785, \"view_item_list_30d\": 36616, \"view_item_1d\": 73, \"view_item_7d\": 418, \"view_item_30d\": 1898, \"add_to_cart_1d\": 0, \"add_to_cart_7d\": 1, \"add_to_cart_30d\": 43, \"begin_checkout_1d\": 0, \"begin_checkout_7d\": 1, \"begin_checkout_30d\": 39, \"purchase_1d\": 0, \"purchase_7d\": 0, \"purchase_30d\": 6, \"qty_sold\": 65, \"nbre_commande\": 65, \"product_marge\": 17095.0, \"order_recency\": 19, \"order_seniority\": 96, \"stock\": null, \"Cluster\": \"Cluster 2\"}, {\"ID\": 8054, \"view_item_list_1d\": 1998, \"view_item_list_7d\": 14213, \"view_item_list_30d\": 57672, \"view_item_1d\": 74, \"view_item_7d\": 647, \"view_item_30d\": 2609, \"add_to_cart_1d\": 2, \"add_to_cart_7d\": 9, \"add_to_cart_30d\": 86, \"begin_checkout_1d\": 8, \"begin_checkout_7d\": 11, \"begin_checkout_30d\": 104, \"purchase_1d\": 1, \"purchase_7d\": 2, \"purchase_30d\": 12, \"qty_sold\": 70, \"nbre_commande\": 67, \"product_marge\": 22701.0, \"order_recency\": 1, \"order_seniority\": 96, \"stock\": 9, \"Cluster\": \"Cluster 2\"}, {\"ID\": 8055, \"view_item_list_1d\": 1955, \"view_item_list_7d\": 14095, \"view_item_list_30d\": 58955, \"view_item_1d\": 71, \"view_item_7d\": 363, \"view_item_30d\": 1118, \"add_to_cart_1d\": 1, \"add_to_cart_7d\": 10, \"add_to_cart_30d\": 38, \"begin_checkout_1d\": 0, \"begin_checkout_7d\": 8, \"begin_checkout_30d\": 43, \"purchase_1d\": 0, \"purchase_7d\": 0, \"purchase_30d\": 5, \"qty_sold\": 22, \"nbre_commande\": 22, \"product_marge\": 5412.0, \"order_recency\": 11, \"order_seniority\": 95, \"stock\": 54, \"Cluster\": \"Cluster 1\"}, {\"ID\": 8057, \"view_item_list_1d\": 1181, \"view_item_list_7d\": 7290, \"view_item_list_30d\": 33180, \"view_item_1d\": 11, \"view_item_7d\": 96, \"view_item_30d\": 365, \"add_to_cart_1d\": 0, \"add_to_cart_7d\": 3, \"add_to_cart_30d\": 14, \"begin_checkout_1d\": 0, \"begin_checkout_7d\": 5, \"begin_checkout_30d\": 20, \"purchase_1d\": 0, \"purchase_7d\": 1, \"purchase_30d\": 5, \"qty_sold\": 26, \"nbre_commande\": 24, \"product_marge\": 5325.0, \"order_recency\": 2, \"order_seniority\": 93, \"stock\": 9, \"Cluster\": \"Cluster 1\"}, {\"ID\": 8061, \"view_item_list_1d\": 1123, \"view_item_list_7d\": 9563, \"view_item_list_30d\": 39887, \"view_item_1d\": 80, \"view_item_7d\": 520, \"view_item_30d\": 2752, \"add_to_cart_1d\": 2, \"add_to_cart_7d\": 8, \"add_to_cart_30d\": 41, \"begin_checkout_1d\": 2, \"begin_checkout_7d\": 5, \"begin_checkout_30d\": 28, \"purchase_1d\": 1, \"purchase_7d\": 1, \"purchase_30d\": 4, \"qty_sold\": 37, \"nbre_commande\": 37, \"product_marge\": 9102.0, \"order_recency\": 1, \"order_seniority\": 182, \"stock\": 15, \"Cluster\": \"Cluster 2\"}, {\"ID\": 8062, \"view_item_list_1d\": 1068, \"view_item_list_7d\": 6506, \"view_item_list_30d\": 37153, \"view_item_1d\": 8, \"view_item_7d\": 89, \"view_item_30d\": 640, \"add_to_cart_1d\": 1, \"add_to_cart_7d\": 1, \"add_to_cart_30d\": 20, \"begin_checkout_1d\": 2, \"begin_checkout_7d\": 2, \"begin_checkout_30d\": 37, \"purchase_1d\": 0, \"purchase_7d\": 0, \"purchase_30d\": 6, \"qty_sold\": 37, \"nbre_commande\": 35, \"product_marge\": 7956.0, \"order_recency\": 16, \"order_seniority\": 182, \"stock\": 67, \"Cluster\": \"Cluster 1\"}, {\"ID\": 8063, \"view_item_list_1d\": 1665, \"view_item_list_7d\": 9189, \"view_item_list_30d\": 42023, \"view_item_1d\": 55, \"view_item_7d\": 241, \"view_item_30d\": 1071, \"add_to_cart_1d\": 2, \"add_to_cart_7d\": 6, \"add_to_cart_30d\": 23, \"begin_checkout_1d\": 1, \"begin_checkout_7d\": 2, \"begin_checkout_30d\": 9, \"purchase_1d\": 0, \"purchase_7d\": 0, \"purchase_30d\": 1, \"qty_sold\": 13, \"nbre_commande\": 13, \"product_marge\": 3198.0, \"order_recency\": 17, \"order_seniority\": 77, \"stock\": 16, \"Cluster\": \"Cluster 1\"}, {\"ID\": 8064, \"view_item_list_1d\": 3152, \"view_item_list_7d\": 18958, \"view_item_list_30d\": 94371, \"view_item_1d\": 29, \"view_item_7d\": 172, \"view_item_30d\": 986, \"add_to_cart_1d\": 0, \"add_to_cart_7d\": 1, \"add_to_cart_30d\": 16, \"begin_checkout_1d\": 0, \"begin_checkout_7d\": 0, \"begin_checkout_30d\": 15, \"purchase_1d\": 0, \"purchase_7d\": 0, \"purchase_30d\": 4, \"qty_sold\": 6, \"nbre_commande\": 6, \"product_marge\": 1476.0, \"order_recency\": 10, \"order_seniority\": 40, \"stock\": 22, \"Cluster\": \"Cluster 1\"}, {\"ID\": 8066, \"view_item_list_1d\": 3394, \"view_item_list_7d\": 19073, \"view_item_list_30d\": 88634, \"view_item_1d\": 26, \"view_item_7d\": 226, \"view_item_30d\": 1201, \"add_to_cart_1d\": 0, \"add_to_cart_7d\": 8, \"add_to_cart_30d\": 56, \"begin_checkout_1d\": 0, \"begin_checkout_7d\": 12, \"begin_checkout_30d\": 34, \"purchase_1d\": 0, \"purchase_7d\": 2, \"purchase_30d\": 8, \"qty_sold\": 10, \"nbre_commande\": 10, \"product_marge\": 1290.0, \"order_recency\": 2, \"order_seniority\": 37, \"stock\": 47, \"Cluster\": \"Cluster 0\"}, {\"ID\": 8067, \"view_item_list_1d\": 3712, \"view_item_list_7d\": 21631, \"view_item_list_30d\": 99961, \"view_item_1d\": 66, \"view_item_7d\": 514, \"view_item_30d\": 2663, \"add_to_cart_1d\": 3, \"add_to_cart_7d\": 19, \"add_to_cart_30d\": 71, \"begin_checkout_1d\": 1, \"begin_checkout_7d\": 14, \"begin_checkout_30d\": 59, \"purchase_1d\": 0, \"purchase_7d\": 1, \"purchase_30d\": 10, \"qty_sold\": 16, \"nbre_commande\": 16, \"product_marge\": 3936.0, \"order_recency\": 4, \"order_seniority\": 40, \"stock\": 20, \"Cluster\": \"Cluster 0\"}, {\"ID\": 8069, \"view_item_list_1d\": 1764, \"view_item_list_7d\": 10270, \"view_item_list_30d\": 47078, \"view_item_1d\": 37, \"view_item_7d\": 317, \"view_item_30d\": 1228, \"add_to_cart_1d\": 0, \"add_to_cart_7d\": 5, \"add_to_cart_30d\": 44, \"begin_checkout_1d\": 0, \"begin_checkout_7d\": 5, \"begin_checkout_30d\": 52, \"purchase_1d\": 0, \"purchase_7d\": 1, \"purchase_30d\": 6, \"qty_sold\": 16, \"nbre_commande\": 16, \"product_marge\": 5264.0, \"order_recency\": 4, \"order_seniority\": 77, \"stock\": 21, \"Cluster\": \"Cluster 1\"}, {\"ID\": 8070, \"view_item_list_1d\": 1964, \"view_item_list_7d\": 13294, \"view_item_list_30d\": 79259, \"view_item_1d\": 51, \"view_item_7d\": 391, \"view_item_30d\": 1884, \"add_to_cart_1d\": 0, \"add_to_cart_7d\": 14, \"add_to_cart_30d\": 47, \"begin_checkout_1d\": 0, \"begin_checkout_7d\": 18, \"begin_checkout_30d\": 26, \"purchase_1d\": 0, \"purchase_7d\": 0, \"purchase_30d\": 2, \"qty_sold\": 5, \"nbre_commande\": 5, \"product_marge\": 1645.0, \"order_recency\": 22, \"order_seniority\": 38, \"stock\": 23, \"Cluster\": \"Cluster 1\"}, {\"ID\": 8072, \"view_item_list_1d\": 1098, \"view_item_list_7d\": 6415, \"view_item_list_30d\": 30552, \"view_item_1d\": 38, \"view_item_7d\": 237, \"view_item_30d\": 1211, \"add_to_cart_1d\": 1, \"add_to_cart_7d\": 9, \"add_to_cart_30d\": 54, \"begin_checkout_1d\": 1, \"begin_checkout_7d\": 5, \"begin_checkout_30d\": 32, \"purchase_1d\": 0, \"purchase_7d\": 0, \"purchase_30d\": 5, \"qty_sold\": 20, \"nbre_commande\": 20, \"product_marge\": 2920.0, \"order_recency\": 1, \"order_seniority\": 96, \"stock\": 13, \"Cluster\": \"Cluster 1\"}, {\"ID\": 8073, \"view_item_list_1d\": 2279, \"view_item_list_7d\": 15360, \"view_item_list_30d\": 63533, \"view_item_1d\": 21, \"view_item_7d\": 309, \"view_item_30d\": 1645, \"add_to_cart_1d\": 0, \"add_to_cart_7d\": 10, \"add_to_cart_30d\": 61, \"begin_checkout_1d\": 0, \"begin_checkout_7d\": 9, \"begin_checkout_30d\": 57, \"purchase_1d\": 0, \"purchase_7d\": 2, \"purchase_30d\": 14, \"qty_sold\": 37, \"nbre_commande\": 37, \"product_marge\": 9102.0, \"order_recency\": 3, \"order_seniority\": 91, \"stock\": 1, \"Cluster\": \"Cluster 2\"}, {\"ID\": 8074, \"view_item_list_1d\": 1165, \"view_item_list_7d\": 7097, \"view_item_list_30d\": 32652, \"view_item_1d\": 79, \"view_item_7d\": 433, \"view_item_30d\": 1639, \"add_to_cart_1d\": 3, \"add_to_cart_7d\": 12, \"add_to_cart_30d\": 71, \"begin_checkout_1d\": 1, \"begin_checkout_7d\": 32, \"begin_checkout_30d\": 79, \"purchase_1d\": 0, \"purchase_7d\": 1, \"purchase_30d\": 13, \"qty_sold\": 47, \"nbre_commande\": 47, \"product_marge\": 11186.0, \"order_recency\": 2, \"order_seniority\": 95, \"stock\": 1, \"Cluster\": \"Cluster 2\"}, {\"ID\": 8075, \"view_item_list_1d\": 1407, \"view_item_list_7d\": 8484, \"view_item_list_30d\": 40520, \"view_item_1d\": 16, \"view_item_7d\": 134, \"view_item_30d\": 726, \"add_to_cart_1d\": 0, \"add_to_cart_7d\": 6, \"add_to_cart_30d\": 103, \"begin_checkout_1d\": 0, \"begin_checkout_7d\": 1, \"begin_checkout_30d\": 18, \"purchase_1d\": 0, \"purchase_7d\": 0, \"purchase_30d\": 2, \"qty_sold\": 19, \"nbre_commande\": 19, \"product_marge\": 5472.0, \"order_recency\": 1, \"order_seniority\": 96, \"stock\": 24, \"Cluster\": \"Cluster 1\"}, {\"ID\": 8076, \"view_item_list_1d\": 735, \"view_item_list_7d\": 3825, \"view_item_list_30d\": 17937, \"view_item_1d\": 10, \"view_item_7d\": 51, \"view_item_30d\": 246, \"add_to_cart_1d\": 0, \"add_to_cart_7d\": 4, \"add_to_cart_30d\": 18, \"begin_checkout_1d\": 6, \"begin_checkout_7d\": 6, \"begin_checkout_30d\": 36, \"purchase_1d\": 1, \"purchase_7d\": 1, \"purchase_30d\": 3, \"qty_sold\": 12, \"nbre_commande\": 12, \"product_marge\": 1656.0, \"order_recency\": 1, \"order_seniority\": 71, \"stock\": 29, \"Cluster\": \"Cluster 1\"}, {\"ID\": 8077, \"view_item_list_1d\": 902, \"view_item_list_7d\": 5870, \"view_item_list_30d\": 26991, \"view_item_1d\": 0, \"view_item_7d\": 25, \"view_item_30d\": 99, \"add_to_cart_1d\": 0, \"add_to_cart_7d\": 0, \"add_to_cart_30d\": 3, \"begin_checkout_1d\": 0, \"begin_checkout_7d\": 0, \"begin_checkout_30d\": 1, \"purchase_1d\": 0, \"purchase_7d\": 0, \"purchase_30d\": 0, \"qty_sold\": 2, \"nbre_commande\": 2, \"product_marge\": 226.0, \"order_recency\": 24, \"order_seniority\": 51, \"stock\": 53, \"Cluster\": \"Cluster 1\"}, {\"ID\": 8079, \"view_item_list_1d\": 4449, \"view_item_list_7d\": 25085, \"view_item_list_30d\": 95801, \"view_item_1d\": 402, \"view_item_7d\": 3320, \"view_item_30d\": 8911, \"add_to_cart_1d\": 6, \"add_to_cart_7d\": 46, \"add_to_cart_30d\": 190, \"begin_checkout_1d\": 14, \"begin_checkout_7d\": 55, \"begin_checkout_30d\": 206, \"purchase_1d\": 3, \"purchase_7d\": 6, \"purchase_30d\": 39, \"qty_sold\": 88, \"nbre_commande\": 86, \"product_marge\": 19448.0, \"order_recency\": 1, \"order_seniority\": 60, \"stock\": null, \"Cluster\": \"Cluster 3\"}, {\"ID\": 8080, \"view_item_list_1d\": 6016, \"view_item_list_7d\": 35670, \"view_item_list_30d\": 128011, \"view_item_1d\": 188, \"view_item_7d\": 1263, \"view_item_30d\": 3907, \"add_to_cart_1d\": 0, \"add_to_cart_7d\": 21, \"add_to_cart_30d\": 126, \"begin_checkout_1d\": 0, \"begin_checkout_7d\": 25, \"begin_checkout_30d\": 117, \"purchase_1d\": 0, \"purchase_7d\": 3, \"purchase_30d\": 15, \"qty_sold\": 34, \"nbre_commande\": 33, \"product_marge\": 7514.0, \"order_recency\": 2, \"order_seniority\": 61, \"stock\": 20, \"Cluster\": \"Cluster 0\"}, {\"ID\": 8081, \"view_item_list_1d\": 3876, \"view_item_list_7d\": 19458, \"view_item_list_30d\": 69884, \"view_item_1d\": 77, \"view_item_7d\": 331, \"view_item_30d\": 1433, \"add_to_cart_1d\": 4, \"add_to_cart_7d\": 13, \"add_to_cart_30d\": 65, \"begin_checkout_1d\": 2, \"begin_checkout_7d\": 18, \"begin_checkout_30d\": 76, \"purchase_1d\": 0, \"purchase_7d\": 1, \"purchase_30d\": 5, \"qty_sold\": 20, \"nbre_commande\": 20, \"product_marge\": 3260.0, \"order_recency\": 5, \"order_seniority\": 61, \"stock\": 16, \"Cluster\": \"Cluster 0\"}, {\"ID\": 8090, \"view_item_list_1d\": 1610, \"view_item_list_7d\": 10030, \"view_item_list_30d\": 45269, \"view_item_1d\": 17, \"view_item_7d\": 127, \"view_item_30d\": 531, \"add_to_cart_1d\": 1, \"add_to_cart_7d\": 2, \"add_to_cart_30d\": 17, \"begin_checkout_1d\": 0, \"begin_checkout_7d\": 0, \"begin_checkout_30d\": 16, \"purchase_1d\": 0, \"purchase_7d\": 0, \"purchase_30d\": 3, \"qty_sold\": 6, \"nbre_commande\": 6, \"product_marge\": 1278.0, \"order_recency\": 9, \"order_seniority\": 56, \"stock\": 46, \"Cluster\": \"Cluster 1\"}, {\"ID\": 8091, \"view_item_list_1d\": 4265, \"view_item_list_7d\": 27791, \"view_item_list_30d\": 117094, \"view_item_1d\": 23, \"view_item_7d\": 385, \"view_item_30d\": 1083, \"add_to_cart_1d\": 3, \"add_to_cart_7d\": 13, \"add_to_cart_30d\": 23, \"begin_checkout_1d\": 0, \"begin_checkout_7d\": 21, \"begin_checkout_30d\": 26, \"purchase_1d\": 0, \"purchase_7d\": 1, \"purchase_30d\": 2, \"qty_sold\": 6, \"nbre_commande\": 6, \"product_marge\": 1278.0, \"order_recency\": 4, \"order_seniority\": 41, \"stock\": 37, \"Cluster\": \"Cluster 0\"}, {\"ID\": 8092, \"view_item_list_1d\": 3969, \"view_item_list_7d\": 26807, \"view_item_list_30d\": 112816, \"view_item_1d\": 247, \"view_item_7d\": 749, \"view_item_30d\": 2907, \"add_to_cart_1d\": 4, \"add_to_cart_7d\": 19, \"add_to_cart_30d\": 80, \"begin_checkout_1d\": 0, \"begin_checkout_7d\": 6, \"begin_checkout_30d\": 63, \"purchase_1d\": 0, \"purchase_7d\": 1, \"purchase_30d\": 9, \"qty_sold\": 40, \"nbre_commande\": 38, \"product_marge\": 9044.0, \"order_recency\": 2, \"order_seniority\": 61, \"stock\": 25, \"Cluster\": \"Cluster 0\"}, {\"ID\": 8094, \"view_item_list_1d\": 3572, \"view_item_list_7d\": 27417, \"view_item_list_30d\": 118173, \"view_item_1d\": 50, \"view_item_7d\": 322, \"view_item_30d\": 1345, \"add_to_cart_1d\": 0, \"add_to_cart_7d\": 10, \"add_to_cart_30d\": 20, \"begin_checkout_1d\": 0, \"begin_checkout_7d\": 7, \"begin_checkout_30d\": 19, \"purchase_1d\": 0, \"purchase_7d\": 2, \"purchase_30d\": 3, \"qty_sold\": 6, \"nbre_commande\": 6, \"product_marge\": 978.0, \"order_recency\": 2, \"order_seniority\": 61, \"stock\": 34, \"Cluster\": \"Cluster 0\"}, {\"ID\": 8095, \"view_item_list_1d\": 2263, \"view_item_list_7d\": 13184, \"view_item_list_30d\": 61033, \"view_item_1d\": 342, \"view_item_7d\": 663, \"view_item_30d\": 1915, \"add_to_cart_1d\": 10, \"add_to_cart_7d\": 19, \"add_to_cart_30d\": 54, \"begin_checkout_1d\": 8, \"begin_checkout_7d\": 13, \"begin_checkout_30d\": 60, \"purchase_1d\": 0, \"purchase_7d\": 0, \"purchase_30d\": 7, \"qty_sold\": 17, \"nbre_commande\": 17, \"product_marge\": 3332.0, \"order_recency\": 2, \"order_seniority\": 60, \"stock\": 25, \"Cluster\": \"Cluster 0\"}, {\"ID\": 8115, \"view_item_list_1d\": 5001, \"view_item_list_7d\": 33716, \"view_item_list_30d\": 132336, \"view_item_1d\": 187, \"view_item_7d\": 1554, \"view_item_30d\": 6835, \"add_to_cart_1d\": 0, \"add_to_cart_7d\": 18, \"add_to_cart_30d\": 127, \"begin_checkout_1d\": 0, \"begin_checkout_7d\": 19, \"begin_checkout_30d\": 134, \"purchase_1d\": 0, \"purchase_7d\": 2, \"purchase_30d\": 13, \"qty_sold\": 25, \"nbre_commande\": 24, \"product_marge\": 9275.0, \"order_recency\": 4, \"order_seniority\": 41, \"stock\": 17, \"Cluster\": \"Cluster 0\"}, {\"ID\": 8116, \"view_item_list_1d\": 705, \"view_item_list_7d\": 4516, \"view_item_list_30d\": 19681, \"view_item_1d\": 81, \"view_item_7d\": 563, \"view_item_30d\": 2744, \"add_to_cart_1d\": 0, \"add_to_cart_7d\": 5, \"add_to_cart_30d\": 80, \"begin_checkout_1d\": 0, \"begin_checkout_7d\": 3, \"begin_checkout_30d\": 61, \"purchase_1d\": 0, \"purchase_7d\": 1, \"purchase_30d\": 15, \"qty_sold\": 30, \"nbre_commande\": 29, \"product_marge\": 7380.0, \"order_recency\": 7, \"order_seniority\": 41, \"stock\": null, \"Cluster\": \"Cluster 2\"}, {\"ID\": 8117, \"view_item_list_1d\": 4015, \"view_item_list_7d\": 22784, \"view_item_list_30d\": 102322, \"view_item_1d\": 107, \"view_item_7d\": 974, \"view_item_30d\": 6484, \"add_to_cart_1d\": 0, \"add_to_cart_7d\": 6, \"add_to_cart_30d\": 91, \"begin_checkout_1d\": 0, \"begin_checkout_7d\": 13, \"begin_checkout_30d\": 108, \"purchase_1d\": 0, \"purchase_7d\": 1, \"purchase_30d\": 15, \"qty_sold\": 21, \"nbre_commande\": 21, \"product_marge\": 6384.0, \"order_recency\": 2, \"order_seniority\": 40, \"stock\": null, \"Cluster\": \"Cluster 0\"}, {\"ID\": 8118, \"view_item_list_1d\": 831, \"view_item_list_7d\": 5347, \"view_item_list_30d\": 24985, \"view_item_1d\": 18, \"view_item_7d\": 137, \"view_item_30d\": 748, \"add_to_cart_1d\": 0, \"add_to_cart_7d\": 0, \"add_to_cart_30d\": 15, \"begin_checkout_1d\": 0, \"begin_checkout_7d\": 0, \"begin_checkout_30d\": 48, \"purchase_1d\": 0, \"purchase_7d\": 0, \"purchase_30d\": 4, \"qty_sold\": 40, \"nbre_commande\": 39, \"product_marge\": 1131.0, \"order_recency\": 23, \"order_seniority\": 96, \"stock\": null, \"Cluster\": \"Cluster 1\"}, {\"ID\": 8120, \"view_item_list_1d\": 1006, \"view_item_list_7d\": 6339, \"view_item_list_30d\": 27352, \"view_item_1d\": 238, \"view_item_7d\": 2487, \"view_item_30d\": 10713, \"add_to_cart_1d\": 3, \"add_to_cart_7d\": 52, \"add_to_cart_30d\": 399, \"begin_checkout_1d\": 1, \"begin_checkout_7d\": 39, \"begin_checkout_30d\": 372, \"purchase_1d\": 0, \"purchase_7d\": 6, \"purchase_30d\": 48, \"qty_sold\": 98, \"nbre_commande\": 98, \"product_marge\": 31458.0, \"order_recency\": 4, \"order_seniority\": 96, \"stock\": 45, \"Cluster\": \"Cluster 3\"}, {\"ID\": 8121, \"view_item_list_1d\": 1024, \"view_item_list_7d\": 6143, \"view_item_list_30d\": 29207, \"view_item_1d\": 62, \"view_item_7d\": 365, \"view_item_30d\": 1777, \"add_to_cart_1d\": 0, \"add_to_cart_7d\": 3, \"add_to_cart_30d\": 43, \"begin_checkout_1d\": 0, \"begin_checkout_7d\": 3, \"begin_checkout_30d\": 42, \"purchase_1d\": 0, \"purchase_7d\": 0, \"purchase_30d\": 6, \"qty_sold\": 24, \"nbre_commande\": 23, \"product_marge\": 5658.0, \"order_recency\": 2, \"order_seniority\": 93, \"stock\": 5, \"Cluster\": \"Cluster 1\"}, {\"ID\": 8123, \"view_item_list_1d\": 855, \"view_item_list_7d\": 7179, \"view_item_list_30d\": 28743, \"view_item_1d\": 25, \"view_item_7d\": 683, \"view_item_30d\": 1301, \"add_to_cart_1d\": 1, \"add_to_cart_7d\": 43, \"add_to_cart_30d\": 67, \"begin_checkout_1d\": 1, \"begin_checkout_7d\": 37, \"begin_checkout_30d\": 94, \"purchase_1d\": 0, \"purchase_7d\": 1, \"purchase_30d\": 6, \"qty_sold\": 22, \"nbre_commande\": 22, \"product_marge\": 5412.0, \"order_recency\": 6, \"order_seniority\": 71, \"stock\": 16, \"Cluster\": \"Cluster 2\"}, {\"ID\": 8126, \"view_item_list_1d\": 1274, \"view_item_list_7d\": 8246, \"view_item_list_30d\": 38708, \"view_item_1d\": 10, \"view_item_7d\": 65, \"view_item_30d\": 409, \"add_to_cart_1d\": 0, \"add_to_cart_7d\": 1, \"add_to_cart_30d\": 10, \"begin_checkout_1d\": 0, \"begin_checkout_7d\": 1, \"begin_checkout_30d\": 91, \"purchase_1d\": 0, \"purchase_7d\": 0, \"purchase_30d\": 0, \"qty_sold\": 4, \"nbre_commande\": 4, \"product_marge\": 716.0, \"order_recency\": 31, \"order_seniority\": 76, \"stock\": 37, \"Cluster\": \"Cluster 1\"}, {\"ID\": 8127, \"view_item_list_1d\": 1384, \"view_item_list_7d\": 9008, \"view_item_list_30d\": 41261, \"view_item_1d\": 19, \"view_item_7d\": 120, \"view_item_30d\": 743, \"add_to_cart_1d\": 1, \"add_to_cart_7d\": 14, \"add_to_cart_30d\": 39, \"begin_checkout_1d\": 0, \"begin_checkout_7d\": 7, \"begin_checkout_30d\": 56, \"purchase_1d\": 0, \"purchase_7d\": 0, \"purchase_30d\": 3, \"qty_sold\": 15, \"nbre_commande\": 15, \"product_marge\": 2685.0, \"order_recency\": 8, \"order_seniority\": 75, \"stock\": 25, \"Cluster\": \"Cluster 1\"}, {\"ID\": 8128, \"view_item_list_1d\": 1392, \"view_item_list_7d\": 8337, \"view_item_list_30d\": 39806, \"view_item_1d\": 54, \"view_item_7d\": 348, \"view_item_30d\": 1451, \"add_to_cart_1d\": 1, \"add_to_cart_7d\": 12, \"add_to_cart_30d\": 24, \"begin_checkout_1d\": 15, \"begin_checkout_7d\": 22, \"begin_checkout_30d\": 33, \"purchase_1d\": 0, \"purchase_7d\": 0, \"purchase_30d\": 1, \"qty_sold\": 2, \"nbre_commande\": 2, \"product_marge\": 658.0, \"order_recency\": 27, \"order_seniority\": 71, \"stock\": 23, \"Cluster\": \"Cluster 1\"}, {\"ID\": 8131, \"view_item_list_1d\": 2522, \"view_item_list_7d\": 17677, \"view_item_list_30d\": 76447, \"view_item_1d\": 38, \"view_item_7d\": 305, \"view_item_30d\": 1207, \"add_to_cart_1d\": 5, \"add_to_cart_7d\": 12, \"add_to_cart_30d\": 39, \"begin_checkout_1d\": 8, \"begin_checkout_7d\": 13, \"begin_checkout_30d\": 51, \"purchase_1d\": 2, \"purchase_7d\": 2, \"purchase_30d\": 7, \"qty_sold\": 17, \"nbre_commande\": 17, \"product_marge\": 4607.0, \"order_recency\": 1, \"order_seniority\": 71, \"stock\": 16, \"Cluster\": \"Cluster 0\"}, {\"ID\": 8140, \"view_item_list_1d\": 5636, \"view_item_list_7d\": 35397, \"view_item_list_30d\": 138317, \"view_item_1d\": 219, \"view_item_7d\": 1268, \"view_item_30d\": 5596, \"add_to_cart_1d\": 8, \"add_to_cart_7d\": 38, \"add_to_cart_30d\": 117, \"begin_checkout_1d\": 28, \"begin_checkout_7d\": 50, \"begin_checkout_30d\": 94, \"purchase_1d\": 2, \"purchase_7d\": 4, \"purchase_30d\": 9, \"qty_sold\": 14, \"nbre_commande\": 14, \"product_marge\": 5544.0, \"order_recency\": 1, \"order_seniority\": 39, \"stock\": 16, \"Cluster\": \"Cluster 0\"}, {\"ID\": 8141, \"view_item_list_1d\": 5305, \"view_item_list_7d\": 35570, \"view_item_list_30d\": 162293, \"view_item_1d\": 209, \"view_item_7d\": 1549, \"view_item_30d\": 6077, \"add_to_cart_1d\": 2, \"add_to_cart_7d\": 39, \"add_to_cart_30d\": 186, \"begin_checkout_1d\": 12, \"begin_checkout_7d\": 61, \"begin_checkout_30d\": 237, \"purchase_1d\": 1, \"purchase_7d\": 7, \"purchase_30d\": 36, \"qty_sold\": 56, \"nbre_commande\": 55, \"product_marge\": 11715.0, \"order_recency\": 1, \"order_seniority\": 40, \"stock\": 2, \"Cluster\": \"Cluster 3\"}, {\"ID\": 8158, \"view_item_list_1d\": 2068, \"view_item_list_7d\": 11270, \"view_item_list_30d\": 54259, \"view_item_1d\": 24, \"view_item_7d\": 131, \"view_item_30d\": 540, \"add_to_cart_1d\": 3, \"add_to_cart_7d\": 6, \"add_to_cart_30d\": 17, \"begin_checkout_1d\": 4, \"begin_checkout_7d\": 5, \"begin_checkout_30d\": 14, \"purchase_1d\": 0, \"purchase_7d\": 0, \"purchase_30d\": 3, \"qty_sold\": 10, \"nbre_commande\": 10, \"product_marge\": 2130.0, \"order_recency\": 15, \"order_seniority\": 61, \"stock\": 30, \"Cluster\": \"Cluster 1\"}, {\"ID\": 8159, \"view_item_list_1d\": 3882, \"view_item_list_7d\": 29920, \"view_item_list_30d\": 140320, \"view_item_1d\": 145, \"view_item_7d\": 1842, \"view_item_30d\": 4293, \"add_to_cart_1d\": 5, \"add_to_cart_7d\": 15, \"add_to_cart_30d\": 55, \"begin_checkout_1d\": 12, \"begin_checkout_7d\": 26, \"begin_checkout_30d\": 70, \"purchase_1d\": 1, \"purchase_7d\": 4, \"purchase_30d\": 8, \"qty_sold\": 14, \"nbre_commande\": 14, \"product_marge\": 3682.0, \"order_recency\": 1, \"order_seniority\": 41, \"stock\": 39, \"Cluster\": \"Cluster 0\"}, {\"ID\": 8160, \"view_item_list_1d\": 4032, \"view_item_list_7d\": 28772, \"view_item_list_30d\": 127633, \"view_item_1d\": 83, \"view_item_7d\": 618, \"view_item_30d\": 4014, \"add_to_cart_1d\": 6, \"add_to_cart_7d\": 16, \"add_to_cart_30d\": 109, \"begin_checkout_1d\": 3, \"begin_checkout_7d\": 12, \"begin_checkout_30d\": 108, \"purchase_1d\": 1, \"purchase_7d\": 3, \"purchase_30d\": 17, \"qty_sold\": 22, \"nbre_commande\": 22, \"product_marge\": 6138.0, \"order_recency\": 1, \"order_seniority\": 35, \"stock\": 15, \"Cluster\": \"Cluster 0\"}, {\"ID\": 8161, \"view_item_list_1d\": 2197, \"view_item_list_7d\": 16633, \"view_item_list_30d\": 67238, \"view_item_1d\": 54, \"view_item_7d\": 354, \"view_item_30d\": 1286, \"add_to_cart_1d\": 0, \"add_to_cart_7d\": 6, \"add_to_cart_30d\": 41, \"begin_checkout_1d\": 0, \"begin_checkout_7d\": 3, \"begin_checkout_30d\": 30, \"purchase_1d\": 0, \"purchase_7d\": 0, \"purchase_30d\": 2, \"qty_sold\": 15, \"nbre_commande\": 15, \"product_marge\": 4185.0, \"order_recency\": 22, \"order_seniority\": 96, \"stock\": 62, \"Cluster\": \"Cluster 1\"}, {\"ID\": 8163, \"view_item_list_1d\": 1387, \"view_item_list_7d\": 8467, \"view_item_list_30d\": 39998, \"view_item_1d\": 19, \"view_item_7d\": 72, \"view_item_30d\": 269, \"add_to_cart_1d\": 0, \"add_to_cart_7d\": 5, \"add_to_cart_30d\": 20, \"begin_checkout_1d\": 0, \"begin_checkout_7d\": 2, \"begin_checkout_30d\": 16, \"purchase_1d\": 0, \"purchase_7d\": 1, \"purchase_30d\": 3, \"qty_sold\": 13, \"nbre_commande\": 13, \"product_marge\": 3744.0, \"order_recency\": 5, \"order_seniority\": 84, \"stock\": 16, \"Cluster\": \"Cluster 1\"}, {\"ID\": 8171, \"view_item_list_1d\": 2238, \"view_item_list_7d\": 16830, \"view_item_list_30d\": 68276, \"view_item_1d\": 199, \"view_item_7d\": 1382, \"view_item_30d\": 5561, \"add_to_cart_1d\": 9, \"add_to_cart_7d\": 56, \"add_to_cart_30d\": 251, \"begin_checkout_1d\": 10, \"begin_checkout_7d\": 75, \"begin_checkout_30d\": 320, \"purchase_1d\": 2, \"purchase_7d\": 10, \"purchase_30d\": 47, \"qty_sold\": 155, \"nbre_commande\": 153, \"product_marge\": 33015.0, \"order_recency\": 1, \"order_seniority\": 96, \"stock\": 19, \"Cluster\": \"Cluster 3\"}, {\"ID\": 8172, \"view_item_list_1d\": 1907, \"view_item_list_7d\": 14455, \"view_item_list_30d\": 61095, \"view_item_1d\": 213, \"view_item_7d\": 1545, \"view_item_30d\": 4284, \"add_to_cart_1d\": 1, \"add_to_cart_7d\": 8, \"add_to_cart_30d\": 34, \"begin_checkout_1d\": 0, \"begin_checkout_7d\": 16, \"begin_checkout_30d\": 37, \"purchase_1d\": 0, \"purchase_7d\": 2, \"purchase_30d\": 6, \"qty_sold\": 45, \"nbre_commande\": 44, \"product_marge\": 6930.0, \"order_recency\": 4, \"order_seniority\": 95, \"stock\": 2, \"Cluster\": \"Cluster 2\"}, {\"ID\": 8173, \"view_item_list_1d\": 956, \"view_item_list_7d\": 5809, \"view_item_list_30d\": 27286, \"view_item_1d\": 47, \"view_item_7d\": 275, \"view_item_30d\": 1115, \"add_to_cart_1d\": 0, \"add_to_cart_7d\": 9, \"add_to_cart_30d\": 26, \"begin_checkout_1d\": 2, \"begin_checkout_7d\": 23, \"begin_checkout_30d\": 41, \"purchase_1d\": 0, \"purchase_7d\": 2, \"purchase_30d\": 6, \"qty_sold\": 36, \"nbre_commande\": 35, \"product_marge\": 5110.0, \"order_recency\": 1, \"order_seniority\": 95, \"stock\": 8, \"Cluster\": \"Cluster 2\"}, {\"ID\": 8181, \"view_item_list_1d\": 1014, \"view_item_list_7d\": 5754, \"view_item_list_30d\": 27906, \"view_item_1d\": 6, \"view_item_7d\": 70, \"view_item_30d\": 331, \"add_to_cart_1d\": 0, \"add_to_cart_7d\": 4, \"add_to_cart_30d\": 10, \"begin_checkout_1d\": 0, \"begin_checkout_7d\": 6, \"begin_checkout_30d\": 19, \"purchase_1d\": 0, \"purchase_7d\": 1, \"purchase_30d\": 1, \"qty_sold\": 2, \"nbre_commande\": 2, \"product_marge\": 426.0, \"order_recency\": 3, \"order_seniority\": 53, \"stock\": 36, \"Cluster\": \"Cluster 1\"}, {\"ID\": 8182, \"view_item_list_1d\": 944, \"view_item_list_7d\": 5737, \"view_item_list_30d\": 27635, \"view_item_1d\": 19, \"view_item_7d\": 171, \"view_item_30d\": 779, \"add_to_cart_1d\": 0, \"add_to_cart_7d\": 3, \"add_to_cart_30d\": 26, \"begin_checkout_1d\": 0, \"begin_checkout_7d\": 0, \"begin_checkout_30d\": 15, \"purchase_1d\": 0, \"purchase_7d\": 0, \"purchase_30d\": 1, \"qty_sold\": 8, \"nbre_commande\": 8, \"product_marge\": 2632.0, \"order_recency\": 27, \"order_seniority\": 89, \"stock\": 81, \"Cluster\": \"Cluster 1\"}, {\"ID\": 8183, \"view_item_list_1d\": 3950, \"view_item_list_7d\": 28188, \"view_item_list_30d\": 118431, \"view_item_1d\": 135, \"view_item_7d\": 656, \"view_item_30d\": 2958, \"add_to_cart_1d\": 2, \"add_to_cart_7d\": 9, \"add_to_cart_30d\": 57, \"begin_checkout_1d\": 2, \"begin_checkout_7d\": 7, \"begin_checkout_30d\": 30, \"purchase_1d\": 0, \"purchase_7d\": 1, \"purchase_30d\": 8, \"qty_sold\": 16, \"nbre_commande\": 16, \"product_marge\": 3664.0, \"order_recency\": 6, \"order_seniority\": 60, \"stock\": 23, \"Cluster\": \"Cluster 0\"}, {\"ID\": 8196, \"view_item_list_1d\": 1214, \"view_item_list_7d\": 7237, \"view_item_list_30d\": 33849, \"view_item_1d\": 152, \"view_item_7d\": 714, \"view_item_30d\": 2636, \"add_to_cart_1d\": 2, \"add_to_cart_7d\": 15, \"add_to_cart_30d\": 83, \"begin_checkout_1d\": 4, \"begin_checkout_7d\": 15, \"begin_checkout_30d\": 79, \"purchase_1d\": 1, \"purchase_7d\": 3, \"purchase_30d\": 14, \"qty_sold\": 31, \"nbre_commande\": 29, \"product_marge\": 10726.0, \"order_recency\": 1, \"order_seniority\": 79, \"stock\": 21, \"Cluster\": \"Cluster 2\"}, {\"ID\": 8197, \"view_item_list_1d\": 2211, \"view_item_list_7d\": 14634, \"view_item_list_30d\": 58924, \"view_item_1d\": 309, \"view_item_7d\": 1419, \"view_item_30d\": 4969, \"add_to_cart_1d\": 7, \"add_to_cart_7d\": 24, \"add_to_cart_30d\": 99, \"begin_checkout_1d\": 12, \"begin_checkout_7d\": 28, \"begin_checkout_30d\": 99, \"purchase_1d\": 2, \"purchase_7d\": 5, \"purchase_30d\": 14, \"qty_sold\": 33, \"nbre_commande\": 33, \"product_marge\": 11979.0, \"order_recency\": 1, \"order_seniority\": 95, \"stock\": 17, \"Cluster\": \"Cluster 0\"}, {\"ID\": 8207, \"view_item_list_1d\": 2634, \"view_item_list_7d\": 19088, \"view_item_list_30d\": 112403, \"view_item_1d\": 53, \"view_item_7d\": 283, \"view_item_30d\": 1549, \"add_to_cart_1d\": 3, \"add_to_cart_7d\": 4, \"add_to_cart_30d\": 26, \"begin_checkout_1d\": 2, \"begin_checkout_7d\": 4, \"begin_checkout_30d\": 26, \"purchase_1d\": 1, \"purchase_7d\": 2, \"purchase_30d\": 3, \"qty_sold\": 5, \"nbre_commande\": 5, \"product_marge\": 730.0, \"order_recency\": 1, \"order_seniority\": 39, \"stock\": 18, \"Cluster\": \"Cluster 0\"}, {\"ID\": 8208, \"view_item_list_1d\": 4990, \"view_item_list_7d\": 32574, \"view_item_list_30d\": 136017, \"view_item_1d\": 273, \"view_item_7d\": 1963, \"view_item_30d\": 7351, \"add_to_cart_1d\": 5, \"add_to_cart_7d\": 23, \"add_to_cart_30d\": 116, \"begin_checkout_1d\": 5, \"begin_checkout_7d\": 15, \"begin_checkout_30d\": 84, \"purchase_1d\": 2, \"purchase_7d\": 3, \"purchase_30d\": 13, \"qty_sold\": 20, \"nbre_commande\": 20, \"product_marge\": 3080.0, \"order_recency\": 1, \"order_seniority\": 39, \"stock\": 3, \"Cluster\": \"Cluster 0\"}, {\"ID\": 8224, \"view_item_list_1d\": 973, \"view_item_list_7d\": 5912, \"view_item_list_30d\": 28264, \"view_item_1d\": 16, \"view_item_7d\": 91, \"view_item_30d\": 354, \"add_to_cart_1d\": 0, \"add_to_cart_7d\": 3, \"add_to_cart_30d\": 19, \"begin_checkout_1d\": 0, \"begin_checkout_7d\": 4, \"begin_checkout_30d\": 26, \"purchase_1d\": 0, \"purchase_7d\": 0, \"purchase_30d\": 6, \"qty_sold\": 21, \"nbre_commande\": 20, \"product_marge\": 1386.0, \"order_recency\": 16, \"order_seniority\": 92, \"stock\": 4, \"Cluster\": \"Cluster 1\"}, {\"ID\": 8225, \"view_item_list_1d\": 879, \"view_item_list_7d\": 5819, \"view_item_list_30d\": 26910, \"view_item_1d\": 5, \"view_item_7d\": 50, \"view_item_30d\": 146, \"add_to_cart_1d\": 0, \"add_to_cart_7d\": 4, \"add_to_cart_30d\": 13, \"begin_checkout_1d\": 0, \"begin_checkout_7d\": 2, \"begin_checkout_30d\": 21, \"purchase_1d\": 0, \"purchase_7d\": 0, \"purchase_30d\": 1, \"qty_sold\": 7, \"nbre_commande\": 7, \"product_marge\": 1141.0, \"order_recency\": 17, \"order_seniority\": 92, \"stock\": 54, \"Cluster\": \"Cluster 1\"}, {\"ID\": 8226, \"view_item_list_1d\": 1816, \"view_item_list_7d\": 13656, \"view_item_list_30d\": 61978, \"view_item_1d\": 80, \"view_item_7d\": 711, \"view_item_30d\": 2519, \"add_to_cart_1d\": 3, \"add_to_cart_7d\": 26, \"add_to_cart_30d\": 96, \"begin_checkout_1d\": 3, \"begin_checkout_7d\": 27, \"begin_checkout_30d\": 84, \"purchase_1d\": 0, \"purchase_7d\": 5, \"purchase_30d\": 12, \"qty_sold\": 78, \"nbre_commande\": 77, \"product_marge\": 18942.0, \"order_recency\": 3, \"order_seniority\": 186, \"stock\": 44, \"Cluster\": \"Cluster 2\"}, {\"ID\": 8230, \"view_item_list_1d\": 2210, \"view_item_list_7d\": 15068, \"view_item_list_30d\": 85106, \"view_item_1d\": 72, \"view_item_7d\": 402, \"view_item_30d\": 2087, \"add_to_cart_1d\": 6, \"add_to_cart_7d\": 21, \"add_to_cart_30d\": 90, \"begin_checkout_1d\": 1, \"begin_checkout_7d\": 20, \"begin_checkout_30d\": 84, \"purchase_1d\": 0, \"purchase_7d\": 2, \"purchase_30d\": 13, \"qty_sold\": 22, \"nbre_commande\": 22, \"product_marge\": 4136.0, \"order_recency\": 7, \"order_seniority\": 40, \"stock\": 32, \"Cluster\": \"Cluster 0\"}, {\"ID\": 8232, \"view_item_list_1d\": 915, \"view_item_list_7d\": 6789, \"view_item_list_30d\": 39327, \"view_item_1d\": 15, \"view_item_7d\": 65, \"view_item_30d\": 246, \"add_to_cart_1d\": 0, \"add_to_cart_7d\": 0, \"add_to_cart_30d\": 8, \"begin_checkout_1d\": 0, \"begin_checkout_7d\": 0, \"begin_checkout_30d\": 2, \"purchase_1d\": 0, \"purchase_7d\": 0, \"purchase_30d\": 1, \"qty_sold\": 4, \"nbre_commande\": 4, \"product_marge\": 216.0, \"order_recency\": 24, \"order_seniority\": 140, \"stock\": 33, \"Cluster\": \"Cluster 1\"}, {\"ID\": 8233, \"view_item_list_1d\": 779, \"view_item_list_7d\": 4469, \"view_item_list_30d\": 15011, \"view_item_1d\": 13, \"view_item_7d\": 55, \"view_item_30d\": 214, \"add_to_cart_1d\": 0, \"add_to_cart_7d\": 0, \"add_to_cart_30d\": 3, \"begin_checkout_1d\": 0, \"begin_checkout_7d\": 0, \"begin_checkout_30d\": 2, \"purchase_1d\": 0, \"purchase_7d\": 0, \"purchase_30d\": 1, \"qty_sold\": 6, \"nbre_commande\": 6, \"product_marge\": 378.0, \"order_recency\": 27, \"order_seniority\": 188, \"stock\": 37, \"Cluster\": \"Cluster 1\"}, {\"ID\": 8234, \"view_item_list_1d\": 1833, \"view_item_list_7d\": 9452, \"view_item_list_30d\": 51274, \"view_item_1d\": 25, \"view_item_7d\": 142, \"view_item_30d\": 653, \"add_to_cart_1d\": 2, \"add_to_cart_7d\": 4, \"add_to_cart_30d\": 26, \"begin_checkout_1d\": 3, \"begin_checkout_7d\": 3, \"begin_checkout_30d\": 24, \"purchase_1d\": 0, \"purchase_7d\": 0, \"purchase_30d\": 3, \"qty_sold\": 10, \"nbre_commande\": 10, \"product_marge\": 4080.0, \"order_recency\": 15, \"order_seniority\": 75, \"stock\": 41, \"Cluster\": \"Cluster 1\"}, {\"ID\": 8235, \"view_item_list_1d\": 1693, \"view_item_list_7d\": 10226, \"view_item_list_30d\": 45884, \"view_item_1d\": 23, \"view_item_7d\": 94, \"view_item_30d\": 562, \"add_to_cart_1d\": 1, \"add_to_cart_7d\": 3, \"add_to_cart_30d\": 32, \"begin_checkout_1d\": 0, \"begin_checkout_7d\": 2, \"begin_checkout_30d\": 43, \"purchase_1d\": 0, \"purchase_7d\": 1, \"purchase_30d\": 9, \"qty_sold\": 24, \"nbre_commande\": 24, \"product_marge\": 9792.0, \"order_recency\": 2, \"order_seniority\": 72, \"stock\": 36, \"Cluster\": \"Cluster 2\"}, {\"ID\": 8236, \"view_item_list_1d\": 1007, \"view_item_list_7d\": 6594, \"view_item_list_30d\": 29972, \"view_item_1d\": 18, \"view_item_7d\": 70, \"view_item_30d\": 307, \"add_to_cart_1d\": 3, \"add_to_cart_7d\": 4, \"add_to_cart_30d\": 8, \"begin_checkout_1d\": 1, \"begin_checkout_7d\": 1, \"begin_checkout_30d\": 3, \"purchase_1d\": 0, \"purchase_7d\": 0, \"purchase_30d\": 1, \"qty_sold\": 3, \"nbre_commande\": 3, \"product_marge\": 1224.0, \"order_recency\": 22, \"order_seniority\": 88, \"stock\": 65, \"Cluster\": \"Cluster 1\"}, {\"ID\": 8240, \"view_item_list_1d\": 990, \"view_item_list_7d\": 7037, \"view_item_list_30d\": 37534, \"view_item_1d\": 4, \"view_item_7d\": 51, \"view_item_30d\": 293, \"add_to_cart_1d\": 0, \"add_to_cart_7d\": 1, \"add_to_cart_30d\": 7, \"begin_checkout_1d\": 0, \"begin_checkout_7d\": 0, \"begin_checkout_30d\": 5, \"purchase_1d\": 0, \"purchase_7d\": 0, \"purchase_30d\": 1, \"qty_sold\": 7, \"nbre_commande\": 7, \"product_marge\": 2772.0, \"order_recency\": 27, \"order_seniority\": 169, \"stock\": 62, \"Cluster\": \"Cluster 1\"}, {\"ID\": 8241, \"view_item_list_1d\": 994, \"view_item_list_7d\": 6982, \"view_item_list_30d\": 39640, \"view_item_1d\": 29, \"view_item_7d\": 210, \"view_item_30d\": 580, \"add_to_cart_1d\": 0, \"add_to_cart_7d\": 1, \"add_to_cart_30d\": 6, \"begin_checkout_1d\": 0, \"begin_checkout_7d\": 1, \"begin_checkout_30d\": 12, \"purchase_1d\": 0, \"purchase_7d\": 1, \"purchase_30d\": 1, \"qty_sold\": 8, \"nbre_commande\": 8, \"product_marge\": 3304.0, \"order_recency\": 7, \"order_seniority\": 188, \"stock\": 59, \"Cluster\": \"Cluster 1\"}, {\"ID\": 8242, \"view_item_list_1d\": 1018, \"view_item_list_7d\": 7014, \"view_item_list_30d\": 39887, \"view_item_1d\": 44, \"view_item_7d\": 195, \"view_item_30d\": 757, \"add_to_cart_1d\": 1, \"add_to_cart_7d\": 6, \"add_to_cart_30d\": 23, \"begin_checkout_1d\": 1, \"begin_checkout_7d\": 1, \"begin_checkout_30d\": 26, \"purchase_1d\": 0, \"purchase_7d\": 0, \"purchase_30d\": 1, \"qty_sold\": 23, \"nbre_commande\": 23, \"product_marge\": 9499.0, \"order_recency\": 9, \"order_seniority\": 182, \"stock\": 10, \"Cluster\": \"Cluster 1\"}, {\"ID\": 8243, \"view_item_list_1d\": 682, \"view_item_list_7d\": 4254, \"view_item_list_30d\": 20747, \"view_item_1d\": 7, \"view_item_7d\": 53, \"view_item_30d\": 218, \"add_to_cart_1d\": 0, \"add_to_cart_7d\": 1, \"add_to_cart_30d\": 3, \"begin_checkout_1d\": 0, \"begin_checkout_7d\": 0, \"begin_checkout_30d\": 0, \"purchase_1d\": 0, \"purchase_7d\": 0, \"purchase_30d\": 0, \"qty_sold\": 5, \"nbre_commande\": 5, \"product_marge\": 815.0, \"order_recency\": 96, \"order_seniority\": 126, \"stock\": 66, \"Cluster\": \"Cluster 1\"}, {\"ID\": 8244, \"view_item_list_1d\": 945, \"view_item_list_7d\": 6793, \"view_item_list_30d\": 36900, \"view_item_1d\": 68, \"view_item_7d\": 224, \"view_item_30d\": 788, \"add_to_cart_1d\": 0, \"add_to_cart_7d\": 0, \"add_to_cart_30d\": 4, \"begin_checkout_1d\": 0, \"begin_checkout_7d\": 0, \"begin_checkout_30d\": 2, \"purchase_1d\": 0, \"purchase_7d\": 0, \"purchase_30d\": 0, \"qty_sold\": 12, \"nbre_commande\": 12, \"product_marge\": 3456.0, \"order_recency\": 49, \"order_seniority\": 170, \"stock\": 46, \"Cluster\": \"Cluster 1\"}, {\"ID\": 8246, \"view_item_list_1d\": 1372, \"view_item_list_7d\": 7722, \"view_item_list_30d\": 37219, \"view_item_1d\": 44, \"view_item_7d\": 380, \"view_item_30d\": 1248, \"add_to_cart_1d\": 1, \"add_to_cart_7d\": 14, \"add_to_cart_30d\": 55, \"begin_checkout_1d\": 0, \"begin_checkout_7d\": 13, \"begin_checkout_30d\": 63, \"purchase_1d\": 0, \"purchase_7d\": 2, \"purchase_30d\": 7, \"qty_sold\": 25, \"nbre_commande\": 25, \"product_marge\": 6975.0, \"order_recency\": 2, \"order_seniority\": 83, \"stock\": 155, \"Cluster\": \"Cluster 2\"}, {\"ID\": 8249, \"view_item_list_1d\": 2183, \"view_item_list_7d\": 15704, \"view_item_list_30d\": 60915, \"view_item_1d\": 146, \"view_item_7d\": 1264, \"view_item_30d\": 6563, \"add_to_cart_1d\": 2, \"add_to_cart_7d\": 10, \"add_to_cart_30d\": 262, \"begin_checkout_1d\": 2, \"begin_checkout_7d\": 25, \"begin_checkout_30d\": 341, \"purchase_1d\": 0, \"purchase_7d\": 3, \"purchase_30d\": 54, \"qty_sold\": 103, \"nbre_commande\": 102, \"product_marge\": 39964.0, \"order_recency\": 3, \"order_seniority\": 95, \"stock\": 1, \"Cluster\": \"Cluster 3\"}, {\"ID\": 8270, \"view_item_list_1d\": 3731, \"view_item_list_7d\": 26649, \"view_item_list_30d\": 113383, \"view_item_1d\": 256, \"view_item_7d\": 1398, \"view_item_30d\": 6077, \"add_to_cart_1d\": 4, \"add_to_cart_7d\": 9, \"add_to_cart_30d\": 55, \"begin_checkout_1d\": 9, \"begin_checkout_7d\": 20, \"begin_checkout_30d\": 59, \"purchase_1d\": 2, \"purchase_7d\": 3, \"purchase_30d\": 9, \"qty_sold\": 45, \"nbre_commande\": 43, \"product_marge\": 12960.0, \"order_recency\": 1, \"order_seniority\": 61, \"stock\": null, \"Cluster\": \"Cluster 0\"}, {\"ID\": 8281, \"view_item_list_1d\": 396, \"view_item_list_7d\": 2505, \"view_item_list_30d\": 12277, \"view_item_1d\": 26, \"view_item_7d\": 114, \"view_item_30d\": 462, \"add_to_cart_1d\": 0, \"add_to_cart_7d\": 4, \"add_to_cart_30d\": 19, \"begin_checkout_1d\": 0, \"begin_checkout_7d\": 5, \"begin_checkout_30d\": 17, \"purchase_1d\": 0, \"purchase_7d\": 0, \"purchase_30d\": 0, \"qty_sold\": 21, \"nbre_commande\": 21, \"product_marge\": 2016.0, \"order_recency\": 46, \"order_seniority\": 129, \"stock\": 88, \"Cluster\": \"Cluster 1\"}]}}, {\"actions\": false, \"mode\": \"vega-lite\"});\n",
       "</script>"
      ],
      "text/plain": [
       "alt.Chart(...)"
      ]
     },
     "execution_count": 31,
     "metadata": {},
     "output_type": "execute_result"
    }
   ],
   "source": [
    "_deepnote_run_altair(unseen_predictions, \"\"\"{\"$schema\":\"https://vega.github.io/schema/vega-lite/v4.json\",\"mark\":{\"type\":\"bar\",\"tooltip\":true},\"height\":220,\"autosize\":{\"type\":\"fit\"},\"data\":{\"name\":\"placeholder\"},\"encoding\":{\"x\":{\"field\":\"COUNT(*)\",\"type\":\"quantitative\",\"sort\":null,\"aggregate\":\"count\",\"scale\":{\"type\":\"linear\",\"zero\":false}},\"y\":{\"field\":\"Cluster\",\"type\":\"nominal\",\"sort\":null,\"scale\":{\"type\":\"linear\",\"zero\":true}},\"color\":{\"field\":\"\",\"type\":\"nominal\",\"sort\":null,\"scale\":{\"type\":\"linear\",\"zero\":false}}}}\"\"\")"
   ]
  },
  {
   "cell_type": "code",
   "execution_count": null,
   "metadata": {
    "cell_id": "9dc921198d4b4de4ab9159bb03735afa",
    "deepnote_cell_height": 706.65625,
    "deepnote_cell_type": "code",
    "deepnote_to_be_reexecuted": false,
    "execution_millis": 45,
    "execution_start": 1654077096565,
    "source_hash": "ddcea3fb",
    "tags": []
   },
   "outputs": [
    {
     "data": {
      "application/vnd.deepnote.dataframe.v3+json": {
       "column_count": 23,
       "columns": [
        {
         "dtype": "Int64",
         "name": "ID",
         "stats": {
          "categories": [
           {
            "count": 1,
            "name": "7563"
           },
           {
            "count": 1,
            "name": "7564"
           },
           {
            "count": 239,
            "name": "239 others"
           }
          ],
          "nan_count": 0,
          "unique_count": 241
         }
        },
        {
         "dtype": "Int64",
         "name": "view_item_list_1d",
         "stats": {
          "categories": [
           {
            "count": 2,
            "name": "2068"
           },
           {
            "count": 2,
            "name": "641"
           },
           {
            "count": 237,
            "name": "230 others"
           }
          ],
          "nan_count": 0,
          "unique_count": 232
         }
        },
        {
         "dtype": "Int64",
         "name": "view_item_list_7d",
         "stats": {
          "categories": [
           {
            "count": 2,
            "name": "3746"
           },
           {
            "count": 2,
            "name": "3788"
           },
           {
            "count": 237,
            "name": "237 others"
           }
          ],
          "nan_count": 0,
          "unique_count": 239
         }
        },
        {
         "dtype": "Int64",
         "name": "view_item_list_30d",
         "stats": {
          "categories": [
           {
            "count": 2,
            "name": "39887"
           },
           {
            "count": 1,
            "name": "65850"
           },
           {
            "count": 238,
            "name": "238 others"
           }
          ],
          "nan_count": 0,
          "unique_count": 240
         }
        },
        {
         "dtype": "Int64",
         "name": "view_item_1d",
         "stats": {
          "categories": [
           {
            "count": 11,
            "name": "19"
           },
           {
            "count": 7,
            "name": "4"
           },
           {
            "count": 223,
            "name": "114 others"
           }
          ],
          "nan_count": 0,
          "unique_count": 116
         }
        },
        {
         "dtype": "Int64",
         "name": "view_item_7d",
         "stats": {
          "categories": [
           {
            "count": 4,
            "name": "51"
           },
           {
            "count": 4,
            "name": "96"
           },
           {
            "count": 233,
            "name": "202 others"
           }
          ],
          "nan_count": 0,
          "unique_count": 204
         }
        },
        {
         "dtype": "Int64",
         "name": "view_item_30d",
         "stats": {
          "categories": [
           {
            "count": 3,
            "name": "788"
           },
           {
            "count": 2,
            "name": "286"
           },
           {
            "count": 236,
            "name": "225 others"
           }
          ],
          "nan_count": 0,
          "unique_count": 227
         }
        },
        {
         "dtype": "Int64",
         "name": "add_to_cart_1d",
         "stats": {
          "categories": [
           {
            "count": 122,
            "name": "0"
           },
           {
            "count": 48,
            "name": "1"
           },
           {
            "count": 71,
            "name": "9 others"
           }
          ],
          "nan_count": 0,
          "unique_count": 11
         }
        },
        {
         "dtype": "Int64",
         "name": "add_to_cart_7d",
         "stats": {
          "categories": [
           {
            "count": 25,
            "name": "2"
           },
           {
            "count": 23,
            "name": "1"
           },
           {
            "count": 193,
            "name": "35 others"
           }
          ],
          "nan_count": 0,
          "unique_count": 37
         }
        },
        {
         "dtype": "Int64",
         "name": "add_to_cart_30d",
         "stats": {
          "categories": [
           {
            "count": 9,
            "name": "7"
           },
           {
            "count": 8,
            "name": "8"
           },
           {
            "count": 224,
            "name": "95 others"
           }
          ],
          "nan_count": 0,
          "unique_count": 97
         }
        },
        {
         "dtype": "Int64",
         "name": "begin_checkout_1d",
         "stats": {
          "categories": [
           {
            "count": 150,
            "name": "0"
           },
           {
            "count": 30,
            "name": "1"
           },
           {
            "count": 61,
            "name": "15 others"
           }
          ],
          "nan_count": 0,
          "unique_count": 17
         }
        },
        {
         "dtype": "Int64",
         "name": "begin_checkout_7d",
         "stats": {
          "categories": [
           {
            "count": 44,
            "name": "0"
           },
           {
            "count": 23,
            "name": "1"
           },
           {
            "count": 174,
            "name": "42 others"
           }
          ],
          "nan_count": 0,
          "unique_count": 44
         }
        },
        {
         "dtype": "Int64",
         "name": "begin_checkout_30d",
         "stats": {
          "categories": [
           {
            "count": 8,
            "name": "2"
           },
           {
            "count": 7,
            "name": "3"
           },
           {
            "count": 226,
            "name": "91 others"
           }
          ],
          "nan_count": 0,
          "unique_count": 93
         }
        },
        {
         "dtype": "Int64",
         "name": "purchase_1d",
         "stats": {
          "categories": [
           {
            "count": 198,
            "name": "0"
           },
           {
            "count": 34,
            "name": "1"
           },
           {
            "count": 9,
            "name": "2 others"
           }
          ],
          "nan_count": 0,
          "unique_count": 4
         }
        },
        {
         "dtype": "Int64",
         "name": "purchase_7d",
         "stats": {
          "categories": [
           {
            "count": 110,
            "name": "0"
           },
           {
            "count": 62,
            "name": "1"
           },
           {
            "count": 69,
            "name": "8 others"
           }
          ],
          "nan_count": 0,
          "unique_count": 10
         }
        },
        {
         "dtype": "Int64",
         "name": "purchase_30d",
         "stats": {
          "categories": [
           {
            "count": 35,
            "name": "1"
           },
           {
            "count": 32,
            "name": "0"
           },
           {
            "count": 174,
            "name": "27 others"
           }
          ],
          "nan_count": 0,
          "unique_count": 29
         }
        },
        {
         "dtype": "Int64",
         "name": "qty_sold",
         "stats": {
          "categories": [
           {
            "count": 10,
            "name": "22"
           },
           {
            "count": 9,
            "name": "6"
           },
           {
            "count": 222,
            "name": "66 others"
           }
          ],
          "nan_count": 0,
          "unique_count": 68
         }
        },
        {
         "dtype": "Int64",
         "name": "nbre_commande",
         "stats": {
          "categories": [
           {
            "count": 11,
            "name": "17"
           },
           {
            "count": 10,
            "name": "6"
           },
           {
            "count": 220,
            "name": "66 others"
           }
          ],
          "nan_count": 0,
          "unique_count": 68
         }
        },
        {
         "dtype": "float64",
         "name": "product_marge",
         "stats": {
          "histogram": [
           {
            "bin_end": 4090,
            "bin_start": 104,
            "count": 106
           },
           {
            "bin_end": 8076,
            "bin_start": 4090,
            "count": 75
           },
           {
            "bin_end": 12062,
            "bin_start": 8076,
            "count": 31
           },
           {
            "bin_end": 16048,
            "bin_start": 12062,
            "count": 13
           },
           {
            "bin_end": 20034,
            "bin_start": 16048,
            "count": 7
           },
           {
            "bin_end": 24020,
            "bin_start": 20034,
            "count": 5
           },
           {
            "bin_end": 28006,
            "bin_start": 24020,
            "count": 1
           },
           {
            "bin_end": 31992,
            "bin_start": 28006,
            "count": 1
           },
           {
            "bin_end": 35978,
            "bin_start": 31992,
            "count": 1
           },
           {
            "bin_end": 39964,
            "bin_start": 35978,
            "count": 1
           }
          ],
          "max": "39964.0",
          "min": "104.0",
          "nan_count": 0,
          "unique_count": 204
         }
        },
        {
         "dtype": "Int64",
         "name": "order_recency",
         "stats": {
          "categories": [
           {
            "count": 48,
            "name": "1"
           },
           {
            "count": 25,
            "name": "2"
           },
           {
            "count": 168,
            "name": "50 others"
           }
          ],
          "nan_count": 0,
          "unique_count": 52
         }
        },
        {
         "dtype": "Int64",
         "name": "order_seniority",
         "stats": {
          "categories": [
           {
            "count": 18,
            "name": "61"
           },
           {
            "count": 16,
            "name": "145"
           },
           {
            "count": 207,
            "name": "74 others"
           }
          ],
          "nan_count": 0,
          "unique_count": 76
         }
        },
        {
         "dtype": "Int64",
         "name": "stock",
         "stats": {
          "categories": [
           {
            "count": 9,
            "name": "2"
           },
           {
            "count": 213,
            "name": "85 others"
           },
           {
            "count": 19,
            "name": "Missing"
           }
          ],
          "nan_count": 19,
          "unique_count": 86
         }
        },
        {
         "dtype": "object",
         "name": "Segments",
         "stats": {
          "categories": [
           {
            "count": 122,
            "name": "Cold"
           },
           {
            "count": 63,
            "name": "Hot Old"
           },
           {
            "count": 56,
            "name": "2 others"
           }
          ],
          "nan_count": 0,
          "unique_count": 4
         }
        },
        {
         "dtype": "int64",
         "name": "_deepnote_index_column"
        }
       ],
       "row_count": 241,
       "rows": [
        {
         "ID": 7563,
         "Segments": "Hot Old",
         "_deepnote_index_column": 0,
         "add_to_cart_1d": 0,
         "add_to_cart_30d": 44,
         "add_to_cart_7d": 1,
         "begin_checkout_1d": 0,
         "begin_checkout_30d": 31,
         "begin_checkout_7d": 2,
         "nbre_commande": 42,
         "order_recency": 4,
         "order_seniority": 145,
         "product_marge": 17346,
         "purchase_1d": 0,
         "purchase_30d": 4,
         "purchase_7d": 1,
         "qty_sold": 42,
         "stock": "<NA>",
         "view_item_1d": 78,
         "view_item_30d": 5215,
         "view_item_7d": 625,
         "view_item_list_1d": 2068,
         "view_item_list_30d": 65850,
         "view_item_list_7d": 15669
        },
        {
         "ID": 7564,
         "Segments": "Cold",
         "_deepnote_index_column": 1,
         "add_to_cart_1d": 1,
         "add_to_cart_30d": 7,
         "add_to_cart_7d": 1,
         "begin_checkout_1d": 0,
         "begin_checkout_30d": 3,
         "begin_checkout_7d": 0,
         "nbre_commande": 9,
         "order_recency": 52,
         "order_seniority": 143,
         "product_marge": 2061,
         "purchase_1d": 0,
         "purchase_30d": 0,
         "purchase_7d": 0,
         "qty_sold": 9,
         "stock": "275",
         "view_item_1d": 37,
         "view_item_30d": 393,
         "view_item_7d": 118,
         "view_item_list_1d": 691,
         "view_item_list_30d": 23470,
         "view_item_list_7d": 4457
        },
        {
         "ID": 7565,
         "Segments": "Cold",
         "_deepnote_index_column": 2,
         "add_to_cart_1d": 0,
         "add_to_cart_30d": 2,
         "add_to_cart_7d": 0,
         "begin_checkout_1d": 0,
         "begin_checkout_30d": 0,
         "begin_checkout_7d": 0,
         "nbre_commande": 1,
         "order_recency": 121,
         "order_seniority": 121,
         "product_marge": 104,
         "purchase_1d": 0,
         "purchase_30d": 0,
         "purchase_7d": 0,
         "qty_sold": 1,
         "stock": "43",
         "view_item_1d": 10,
         "view_item_30d": 294,
         "view_item_7d": 72,
         "view_item_list_1d": 470,
         "view_item_list_30d": 15126,
         "view_item_list_7d": 2851
        },
        {
         "ID": 7566,
         "Segments": "Cold",
         "_deepnote_index_column": 3,
         "add_to_cart_1d": 0,
         "add_to_cart_30d": 1,
         "add_to_cart_7d": 0,
         "begin_checkout_1d": 0,
         "begin_checkout_30d": 0,
         "begin_checkout_7d": 0,
         "nbre_commande": 1,
         "order_recency": 57,
         "order_seniority": 57,
         "product_marge": 104,
         "purchase_1d": 0,
         "purchase_30d": 0,
         "purchase_7d": 0,
         "qty_sold": 2,
         "stock": "72",
         "view_item_1d": 5,
         "view_item_30d": 131,
         "view_item_7d": 27,
         "view_item_list_1d": 456,
         "view_item_list_30d": 16646,
         "view_item_list_7d": 3004
        },
        {
         "ID": 7567,
         "Segments": "Cold",
         "_deepnote_index_column": 4,
         "add_to_cart_1d": 1,
         "add_to_cart_30d": 33,
         "add_to_cart_7d": 4,
         "begin_checkout_1d": 0,
         "begin_checkout_30d": 27,
         "begin_checkout_7d": 4,
         "nbre_commande": 15,
         "order_recency": 19,
         "order_seniority": 144,
         "product_marge": 3570,
         "purchase_1d": 0,
         "purchase_30d": 3,
         "purchase_7d": 0,
         "qty_sold": 15,
         "stock": "12",
         "view_item_1d": 68,
         "view_item_30d": 5137,
         "view_item_7d": 689,
         "view_item_list_1d": 832,
         "view_item_list_30d": 27711,
         "view_item_list_7d": 5234
        },
        {
         "ID": 7568,
         "Segments": "Hot Old",
         "_deepnote_index_column": 5,
         "add_to_cart_1d": 0,
         "add_to_cart_30d": 22,
         "add_to_cart_7d": 0,
         "begin_checkout_1d": 0,
         "begin_checkout_30d": 42,
         "begin_checkout_7d": 0,
         "nbre_commande": 69,
         "order_recency": 11,
         "order_seniority": 140,
         "product_marge": 22701,
         "purchase_1d": 0,
         "purchase_30d": 6,
         "purchase_7d": 0,
         "qty_sold": 69,
         "stock": "<NA>",
         "view_item_1d": 101,
         "view_item_30d": 3801,
         "view_item_7d": 713,
         "view_item_list_1d": 1086,
         "view_item_list_30d": 37567,
         "view_item_list_7d": 8405
        },
        {
         "ID": 7569,
         "Segments": "Cold",
         "_deepnote_index_column": 6,
         "add_to_cart_1d": 0,
         "add_to_cart_30d": 8,
         "add_to_cart_7d": 4,
         "begin_checkout_1d": 0,
         "begin_checkout_30d": 12,
         "begin_checkout_7d": 3,
         "nbre_commande": 5,
         "order_recency": 2,
         "order_seniority": 34,
         "product_marge": 1145,
         "purchase_1d": 0,
         "purchase_30d": 2,
         "purchase_7d": 1,
         "qty_sold": 5,
         "stock": "<NA>",
         "view_item_1d": 6,
         "view_item_30d": 278,
         "view_item_7d": 78,
         "view_item_list_1d": 13,
         "view_item_list_30d": 527,
         "view_item_list_7d": 108
        },
        {
         "ID": 7570,
         "Segments": "Cold",
         "_deepnote_index_column": 7,
         "add_to_cart_1d": 2,
         "add_to_cart_30d": 27,
         "add_to_cart_7d": 6,
         "begin_checkout_1d": 1,
         "begin_checkout_30d": 28,
         "begin_checkout_7d": 4,
         "nbre_commande": 28,
         "order_recency": 20,
         "order_seniority": 143,
         "product_marge": 6412,
         "purchase_1d": 0,
         "purchase_30d": 4,
         "purchase_7d": 0,
         "qty_sold": 28,
         "stock": "13",
         "view_item_1d": 19,
         "view_item_30d": 458,
         "view_item_7d": 104,
         "view_item_list_1d": 563,
         "view_item_list_30d": 19889,
         "view_item_list_7d": 3588
        },
        {
         "ID": 7571,
         "Segments": "Cold",
         "_deepnote_index_column": 8,
         "add_to_cart_1d": 0,
         "add_to_cart_30d": 10,
         "add_to_cart_7d": 3,
         "begin_checkout_1d": 0,
         "begin_checkout_30d": 5,
         "begin_checkout_7d": 3,
         "nbre_commande": 6,
         "order_recency": 3,
         "order_seniority": 143,
         "product_marge": 1326,
         "purchase_1d": 0,
         "purchase_30d": 1,
         "purchase_7d": 1,
         "qty_sold": 6,
         "stock": "57",
         "view_item_1d": 2,
         "view_item_30d": 227,
         "view_item_7d": 51,
         "view_item_list_1d": 497,
         "view_item_list_30d": 16498,
         "view_item_list_7d": 3170
        },
        {
         "ID": 7572,
         "Segments": "Cold",
         "_deepnote_index_column": 9,
         "add_to_cart_1d": 0,
         "add_to_cart_30d": 7,
         "add_to_cart_7d": 1,
         "begin_checkout_1d": 0,
         "begin_checkout_30d": 5,
         "begin_checkout_7d": 0,
         "nbre_commande": 5,
         "order_recency": 11,
         "order_seniority": 71,
         "product_marge": 1105,
         "purchase_1d": 0,
         "purchase_30d": 1,
         "purchase_7d": 0,
         "qty_sold": 5,
         "stock": "52",
         "view_item_1d": 4,
         "view_item_30d": 286,
         "view_item_7d": 64,
         "view_item_list_1d": 657,
         "view_item_list_30d": 19465,
         "view_item_list_7d": 3793
        }
       ]
      },
      "text/html": [
       "<div>\n",
       "<style scoped>\n",
       "    .dataframe tbody tr th:only-of-type {\n",
       "        vertical-align: middle;\n",
       "    }\n",
       "\n",
       "    .dataframe tbody tr th {\n",
       "        vertical-align: top;\n",
       "    }\n",
       "\n",
       "    .dataframe thead th {\n",
       "        text-align: right;\n",
       "    }\n",
       "</style>\n",
       "<table border=\"1\" class=\"dataframe\">\n",
       "  <thead>\n",
       "    <tr style=\"text-align: right;\">\n",
       "      <th></th>\n",
       "      <th>ID</th>\n",
       "      <th>view_item_list_1d</th>\n",
       "      <th>view_item_list_7d</th>\n",
       "      <th>view_item_list_30d</th>\n",
       "      <th>view_item_1d</th>\n",
       "      <th>view_item_7d</th>\n",
       "      <th>view_item_30d</th>\n",
       "      <th>add_to_cart_1d</th>\n",
       "      <th>add_to_cart_7d</th>\n",
       "      <th>add_to_cart_30d</th>\n",
       "      <th>...</th>\n",
       "      <th>purchase_1d</th>\n",
       "      <th>purchase_7d</th>\n",
       "      <th>purchase_30d</th>\n",
       "      <th>qty_sold</th>\n",
       "      <th>nbre_commande</th>\n",
       "      <th>product_marge</th>\n",
       "      <th>order_recency</th>\n",
       "      <th>order_seniority</th>\n",
       "      <th>stock</th>\n",
       "      <th>Segments</th>\n",
       "    </tr>\n",
       "  </thead>\n",
       "  <tbody>\n",
       "    <tr>\n",
       "      <th>0</th>\n",
       "      <td>7563</td>\n",
       "      <td>2068</td>\n",
       "      <td>15669</td>\n",
       "      <td>65850</td>\n",
       "      <td>78</td>\n",
       "      <td>625</td>\n",
       "      <td>5215</td>\n",
       "      <td>0</td>\n",
       "      <td>1</td>\n",
       "      <td>44</td>\n",
       "      <td>...</td>\n",
       "      <td>0</td>\n",
       "      <td>1</td>\n",
       "      <td>4</td>\n",
       "      <td>42</td>\n",
       "      <td>42</td>\n",
       "      <td>17346.0</td>\n",
       "      <td>4</td>\n",
       "      <td>145</td>\n",
       "      <td>&lt;NA&gt;</td>\n",
       "      <td>Hot Old</td>\n",
       "    </tr>\n",
       "    <tr>\n",
       "      <th>1</th>\n",
       "      <td>7564</td>\n",
       "      <td>691</td>\n",
       "      <td>4457</td>\n",
       "      <td>23470</td>\n",
       "      <td>37</td>\n",
       "      <td>118</td>\n",
       "      <td>393</td>\n",
       "      <td>1</td>\n",
       "      <td>1</td>\n",
       "      <td>7</td>\n",
       "      <td>...</td>\n",
       "      <td>0</td>\n",
       "      <td>0</td>\n",
       "      <td>0</td>\n",
       "      <td>9</td>\n",
       "      <td>9</td>\n",
       "      <td>2061.0</td>\n",
       "      <td>52</td>\n",
       "      <td>143</td>\n",
       "      <td>275</td>\n",
       "      <td>Cold</td>\n",
       "    </tr>\n",
       "    <tr>\n",
       "      <th>2</th>\n",
       "      <td>7565</td>\n",
       "      <td>470</td>\n",
       "      <td>2851</td>\n",
       "      <td>15126</td>\n",
       "      <td>10</td>\n",
       "      <td>72</td>\n",
       "      <td>294</td>\n",
       "      <td>0</td>\n",
       "      <td>0</td>\n",
       "      <td>2</td>\n",
       "      <td>...</td>\n",
       "      <td>0</td>\n",
       "      <td>0</td>\n",
       "      <td>0</td>\n",
       "      <td>1</td>\n",
       "      <td>1</td>\n",
       "      <td>104.0</td>\n",
       "      <td>121</td>\n",
       "      <td>121</td>\n",
       "      <td>43</td>\n",
       "      <td>Cold</td>\n",
       "    </tr>\n",
       "    <tr>\n",
       "      <th>3</th>\n",
       "      <td>7566</td>\n",
       "      <td>456</td>\n",
       "      <td>3004</td>\n",
       "      <td>16646</td>\n",
       "      <td>5</td>\n",
       "      <td>27</td>\n",
       "      <td>131</td>\n",
       "      <td>0</td>\n",
       "      <td>0</td>\n",
       "      <td>1</td>\n",
       "      <td>...</td>\n",
       "      <td>0</td>\n",
       "      <td>0</td>\n",
       "      <td>0</td>\n",
       "      <td>2</td>\n",
       "      <td>1</td>\n",
       "      <td>104.0</td>\n",
       "      <td>57</td>\n",
       "      <td>57</td>\n",
       "      <td>72</td>\n",
       "      <td>Cold</td>\n",
       "    </tr>\n",
       "    <tr>\n",
       "      <th>4</th>\n",
       "      <td>7567</td>\n",
       "      <td>832</td>\n",
       "      <td>5234</td>\n",
       "      <td>27711</td>\n",
       "      <td>68</td>\n",
       "      <td>689</td>\n",
       "      <td>5137</td>\n",
       "      <td>1</td>\n",
       "      <td>4</td>\n",
       "      <td>33</td>\n",
       "      <td>...</td>\n",
       "      <td>0</td>\n",
       "      <td>0</td>\n",
       "      <td>3</td>\n",
       "      <td>15</td>\n",
       "      <td>15</td>\n",
       "      <td>3570.0</td>\n",
       "      <td>19</td>\n",
       "      <td>144</td>\n",
       "      <td>12</td>\n",
       "      <td>Cold</td>\n",
       "    </tr>\n",
       "    <tr>\n",
       "      <th>...</th>\n",
       "      <td>...</td>\n",
       "      <td>...</td>\n",
       "      <td>...</td>\n",
       "      <td>...</td>\n",
       "      <td>...</td>\n",
       "      <td>...</td>\n",
       "      <td>...</td>\n",
       "      <td>...</td>\n",
       "      <td>...</td>\n",
       "      <td>...</td>\n",
       "      <td>...</td>\n",
       "      <td>...</td>\n",
       "      <td>...</td>\n",
       "      <td>...</td>\n",
       "      <td>...</td>\n",
       "      <td>...</td>\n",
       "      <td>...</td>\n",
       "      <td>...</td>\n",
       "      <td>...</td>\n",
       "      <td>...</td>\n",
       "      <td>...</td>\n",
       "    </tr>\n",
       "    <tr>\n",
       "      <th>236</th>\n",
       "      <td>8244</td>\n",
       "      <td>945</td>\n",
       "      <td>6793</td>\n",
       "      <td>36900</td>\n",
       "      <td>68</td>\n",
       "      <td>224</td>\n",
       "      <td>788</td>\n",
       "      <td>0</td>\n",
       "      <td>0</td>\n",
       "      <td>4</td>\n",
       "      <td>...</td>\n",
       "      <td>0</td>\n",
       "      <td>0</td>\n",
       "      <td>0</td>\n",
       "      <td>12</td>\n",
       "      <td>12</td>\n",
       "      <td>3456.0</td>\n",
       "      <td>49</td>\n",
       "      <td>170</td>\n",
       "      <td>46</td>\n",
       "      <td>Cold</td>\n",
       "    </tr>\n",
       "    <tr>\n",
       "      <th>237</th>\n",
       "      <td>8246</td>\n",
       "      <td>1372</td>\n",
       "      <td>7722</td>\n",
       "      <td>37219</td>\n",
       "      <td>44</td>\n",
       "      <td>380</td>\n",
       "      <td>1248</td>\n",
       "      <td>1</td>\n",
       "      <td>14</td>\n",
       "      <td>55</td>\n",
       "      <td>...</td>\n",
       "      <td>0</td>\n",
       "      <td>2</td>\n",
       "      <td>7</td>\n",
       "      <td>25</td>\n",
       "      <td>25</td>\n",
       "      <td>6975.0</td>\n",
       "      <td>2</td>\n",
       "      <td>83</td>\n",
       "      <td>155</td>\n",
       "      <td>Hot Old</td>\n",
       "    </tr>\n",
       "    <tr>\n",
       "      <th>238</th>\n",
       "      <td>8249</td>\n",
       "      <td>2183</td>\n",
       "      <td>15704</td>\n",
       "      <td>60915</td>\n",
       "      <td>146</td>\n",
       "      <td>1264</td>\n",
       "      <td>6563</td>\n",
       "      <td>2</td>\n",
       "      <td>10</td>\n",
       "      <td>262</td>\n",
       "      <td>...</td>\n",
       "      <td>0</td>\n",
       "      <td>3</td>\n",
       "      <td>54</td>\n",
       "      <td>103</td>\n",
       "      <td>102</td>\n",
       "      <td>39964.0</td>\n",
       "      <td>3</td>\n",
       "      <td>95</td>\n",
       "      <td>1</td>\n",
       "      <td>Top Hot</td>\n",
       "    </tr>\n",
       "    <tr>\n",
       "      <th>239</th>\n",
       "      <td>8270</td>\n",
       "      <td>3731</td>\n",
       "      <td>26649</td>\n",
       "      <td>113383</td>\n",
       "      <td>256</td>\n",
       "      <td>1398</td>\n",
       "      <td>6077</td>\n",
       "      <td>4</td>\n",
       "      <td>9</td>\n",
       "      <td>55</td>\n",
       "      <td>...</td>\n",
       "      <td>2</td>\n",
       "      <td>3</td>\n",
       "      <td>9</td>\n",
       "      <td>45</td>\n",
       "      <td>43</td>\n",
       "      <td>12960.0</td>\n",
       "      <td>1</td>\n",
       "      <td>61</td>\n",
       "      <td>&lt;NA&gt;</td>\n",
       "      <td>Medium Hot</td>\n",
       "    </tr>\n",
       "    <tr>\n",
       "      <th>240</th>\n",
       "      <td>8281</td>\n",
       "      <td>396</td>\n",
       "      <td>2505</td>\n",
       "      <td>12277</td>\n",
       "      <td>26</td>\n",
       "      <td>114</td>\n",
       "      <td>462</td>\n",
       "      <td>0</td>\n",
       "      <td>4</td>\n",
       "      <td>19</td>\n",
       "      <td>...</td>\n",
       "      <td>0</td>\n",
       "      <td>0</td>\n",
       "      <td>0</td>\n",
       "      <td>21</td>\n",
       "      <td>21</td>\n",
       "      <td>2016.0</td>\n",
       "      <td>46</td>\n",
       "      <td>129</td>\n",
       "      <td>88</td>\n",
       "      <td>Cold</td>\n",
       "    </tr>\n",
       "  </tbody>\n",
       "</table>\n",
       "<p>241 rows × 23 columns</p>\n",
       "</div>"
      ],
      "text/plain": [
       "       ID  view_item_list_1d  view_item_list_7d  view_item_list_30d  \\\n",
       "0    7563               2068              15669               65850   \n",
       "1    7564                691               4457               23470   \n",
       "2    7565                470               2851               15126   \n",
       "3    7566                456               3004               16646   \n",
       "4    7567                832               5234               27711   \n",
       "..    ...                ...                ...                 ...   \n",
       "236  8244                945               6793               36900   \n",
       "237  8246               1372               7722               37219   \n",
       "238  8249               2183              15704               60915   \n",
       "239  8270               3731              26649              113383   \n",
       "240  8281                396               2505               12277   \n",
       "\n",
       "     view_item_1d  view_item_7d  view_item_30d  add_to_cart_1d  \\\n",
       "0              78           625           5215               0   \n",
       "1              37           118            393               1   \n",
       "2              10            72            294               0   \n",
       "3               5            27            131               0   \n",
       "4              68           689           5137               1   \n",
       "..            ...           ...            ...             ...   \n",
       "236            68           224            788               0   \n",
       "237            44           380           1248               1   \n",
       "238           146          1264           6563               2   \n",
       "239           256          1398           6077               4   \n",
       "240            26           114            462               0   \n",
       "\n",
       "     add_to_cart_7d  add_to_cart_30d  ...  purchase_1d  purchase_7d  \\\n",
       "0                 1               44  ...            0            1   \n",
       "1                 1                7  ...            0            0   \n",
       "2                 0                2  ...            0            0   \n",
       "3                 0                1  ...            0            0   \n",
       "4                 4               33  ...            0            0   \n",
       "..              ...              ...  ...          ...          ...   \n",
       "236               0                4  ...            0            0   \n",
       "237              14               55  ...            0            2   \n",
       "238              10              262  ...            0            3   \n",
       "239               9               55  ...            2            3   \n",
       "240               4               19  ...            0            0   \n",
       "\n",
       "     purchase_30d  qty_sold  nbre_commande  product_marge  order_recency  \\\n",
       "0               4        42             42        17346.0              4   \n",
       "1               0         9              9         2061.0             52   \n",
       "2               0         1              1          104.0            121   \n",
       "3               0         2              1          104.0             57   \n",
       "4               3        15             15         3570.0             19   \n",
       "..            ...       ...            ...            ...            ...   \n",
       "236             0        12             12         3456.0             49   \n",
       "237             7        25             25         6975.0              2   \n",
       "238            54       103            102        39964.0              3   \n",
       "239             9        45             43        12960.0              1   \n",
       "240             0        21             21         2016.0             46   \n",
       "\n",
       "     order_seniority  stock    Segments  \n",
       "0                145   <NA>     Hot Old  \n",
       "1                143    275        Cold  \n",
       "2                121     43        Cold  \n",
       "3                 57     72        Cold  \n",
       "4                144     12        Cold  \n",
       "..               ...    ...         ...  \n",
       "236              170     46        Cold  \n",
       "237               83    155     Hot Old  \n",
       "238               95      1     Top Hot  \n",
       "239               61   <NA>  Medium Hot  \n",
       "240              129     88        Cold  \n",
       "\n",
       "[241 rows x 23 columns]"
      ]
     },
     "execution_count": 32,
     "metadata": {},
     "output_type": "execute_result"
    }
   ],
   "source": [
    "#naming of segments \n",
    "unseen_predictions['Cluster'].replace(['Cluster 0','Cluster 1','Cluster 2','Cluster 3'],['Medium Hot','Cold','Hot Old','Top Hot'],inplace=True)\n",
    "\n",
    "#rename cluster column\n",
    "unseen_predictions.rename(columns={\"Cluster\": \"Segments\"},inplace=True)\n",
    "unseen_predictions"
   ]
  },
  {
   "cell_type": "code",
   "execution_count": null,
   "metadata": {
    "cell_id": "c749565cc09e46869e2d1cd12122867a",
    "deepnote_cell_type": "visualization",
    "deepnote_to_be_reexecuted": false,
    "deepnote_variable_name": "unseen_predictions",
    "deepnote_visualization_spec": {
     "$schema": "https://vega.github.io/schema/vega-lite/v4.json",
     "autosize": {
      "type": "fit"
     },
     "data": {
      "name": "placeholder"
     },
     "encoding": {
      "color": {
       "field": "",
       "scale": {
        "type": "linear",
        "zero": false
       },
       "sort": null,
       "type": "nominal"
      },
      "x": {
       "aggregate": "count",
       "field": "COUNT(*)",
       "scale": {
        "type": "linear",
        "zero": false
       },
       "sort": null,
       "type": "quantitative"
      },
      "y": {
       "field": "Segments",
       "scale": {
        "type": "linear",
        "zero": true
       },
       "sort": null,
       "type": "nominal"
      }
     },
     "height": 220,
     "mark": {
      "tooltip": true,
      "type": "bar"
     }
    },
    "execution_millis": 37,
    "execution_start": 1654077101541,
    "source_hash": "7bca048c"
   },
   "outputs": [
    {
     "data": {
      "text/html": [
       "\n",
       "<div id=\"altair-viz-ce530b102e3a431f94addf6857f43ce3\"></div>\n",
       "<script type=\"text/javascript\">\n",
       "  (function(spec, embedOpt){\n",
       "    let outputDiv = document.currentScript.previousElementSibling;\n",
       "    if (outputDiv.id !== \"altair-viz-ce530b102e3a431f94addf6857f43ce3\") {\n",
       "      outputDiv = document.getElementById(\"altair-viz-ce530b102e3a431f94addf6857f43ce3\");\n",
       "    }\n",
       "    const paths = {\n",
       "      \"vega\": \"https://cdn.jsdelivr.net/npm//vega@5?noext\",\n",
       "      \"vega-lib\": \"https://cdn.jsdelivr.net/npm//vega-lib?noext\",\n",
       "      \"vega-lite\": \"https://cdn.jsdelivr.net/npm//vega-lite@4.8.1?noext\",\n",
       "      \"vega-embed\": \"https://cdn.jsdelivr.net/npm//vega-embed@6?noext\",\n",
       "    };\n",
       "\n",
       "    function loadScript(lib) {\n",
       "      return new Promise(function(resolve, reject) {\n",
       "        var s = document.createElement('script');\n",
       "        s.src = paths[lib];\n",
       "        s.async = true;\n",
       "        s.onload = () => resolve(paths[lib]);\n",
       "        s.onerror = () => reject(`Error loading script: ${paths[lib]}`);\n",
       "        document.getElementsByTagName(\"head\")[0].appendChild(s);\n",
       "      });\n",
       "    }\n",
       "\n",
       "    function showError(err) {\n",
       "      outputDiv.innerHTML = `<div class=\"error\" style=\"color:red;\">${err}</div>`;\n",
       "      throw err;\n",
       "    }\n",
       "\n",
       "    function displayChart(vegaEmbed) {\n",
       "      vegaEmbed(outputDiv, spec, embedOpt)\n",
       "        .catch(err => showError(`Javascript Error: ${err.message}<br>This usually means there's a typo in your chart specification. See the javascript console for the full traceback.`));\n",
       "    }\n",
       "\n",
       "    if(typeof define === \"function\" && define.amd) {\n",
       "      requirejs.config({paths});\n",
       "      require([\"vega-embed\"], displayChart, err => showError(`Error loading script: ${err.message}`));\n",
       "    } else if (typeof vegaEmbed === \"function\") {\n",
       "      displayChart(vegaEmbed);\n",
       "    } else {\n",
       "      loadScript(\"vega\")\n",
       "        .then(() => loadScript(\"vega-lite\"))\n",
       "        .then(() => loadScript(\"vega-embed\"))\n",
       "        .catch(showError)\n",
       "        .then(() => displayChart(vegaEmbed));\n",
       "    }\n",
       "  })({\"config\": {\"view\": {\"continuousWidth\": 400, \"continuousHeight\": 300}, \"area\": {\"fill\": \"#51C0E9\"}, \"axis\": {\"labelFont\": \"Inter, sans-serif\", \"labelFontSize\": 12, \"labelFontWeight\": \"normal\", \"labelLimit\": 60, \"labelOverlap\": \"greedy\", \"titleFont\": \"Inter, sans-serif\", \"titleFontSize\": 12, \"titleFontWeight\": \"bold\"}, \"background\": \"#ffffff\", \"legend\": {\"labelFont\": \"Inter, sans-serif\", \"labelFontSize\": 12, \"titleFont\": \"Inter, sans-serif\", \"titleFontSize\": 12, \"titleFontWeight\": \"bold\"}, \"line\": {\"stroke\": \"#51C0E9\", \"strokeWidth\": 2}, \"rect\": {\"fill\": \"#51C0E9\"}, \"title\": {\"anchor\": \"start\", \"color\": \"#000000\", \"font\": \"Inter, sans-serif\", \"fontSize\": 22, \"fontWeight\": \"normal\"}}, \"data\": {\"name\": \"data-f5f2e55b4d2978b2a26d273c223aaef5\"}, \"mark\": {\"type\": \"bar\", \"tooltip\": true}, \"autosize\": {\"type\": \"fit\"}, \"encoding\": {\"color\": {\"type\": \"nominal\", \"field\": \"\", \"scale\": {\"type\": \"linear\", \"zero\": false}, \"sort\": null}, \"x\": {\"type\": \"quantitative\", \"aggregate\": \"count\", \"field\": \"COUNT(*)\", \"scale\": {\"type\": \"linear\", \"zero\": false}, \"sort\": null}, \"y\": {\"type\": \"nominal\", \"field\": \"Segments\", \"scale\": {\"type\": \"linear\", \"zero\": true}, \"sort\": null}}, \"height\": 300, \"width\": \"container\", \"$schema\": \"https://vega.github.io/schema/vega-lite/v4.json\", \"datasets\": {\"data-f5f2e55b4d2978b2a26d273c223aaef5\": [{\"ID\": 7563, \"view_item_list_1d\": 2068, \"view_item_list_7d\": 15669, \"view_item_list_30d\": 65850, \"view_item_1d\": 78, \"view_item_7d\": 625, \"view_item_30d\": 5215, \"add_to_cart_1d\": 0, \"add_to_cart_7d\": 1, \"add_to_cart_30d\": 44, \"begin_checkout_1d\": 0, \"begin_checkout_7d\": 2, \"begin_checkout_30d\": 31, \"purchase_1d\": 0, \"purchase_7d\": 1, \"purchase_30d\": 4, \"qty_sold\": 42, \"nbre_commande\": 42, \"product_marge\": 17346.0, \"order_recency\": 4, \"order_seniority\": 145, \"stock\": null, \"Segments\": \"Hot Old\"}, {\"ID\": 7564, \"view_item_list_1d\": 691, \"view_item_list_7d\": 4457, \"view_item_list_30d\": 23470, \"view_item_1d\": 37, \"view_item_7d\": 118, \"view_item_30d\": 393, \"add_to_cart_1d\": 1, \"add_to_cart_7d\": 1, \"add_to_cart_30d\": 7, \"begin_checkout_1d\": 0, \"begin_checkout_7d\": 0, \"begin_checkout_30d\": 3, \"purchase_1d\": 0, \"purchase_7d\": 0, \"purchase_30d\": 0, \"qty_sold\": 9, \"nbre_commande\": 9, \"product_marge\": 2061.0, \"order_recency\": 52, \"order_seniority\": 143, \"stock\": 275, \"Segments\": \"Cold\"}, {\"ID\": 7565, \"view_item_list_1d\": 470, \"view_item_list_7d\": 2851, \"view_item_list_30d\": 15126, \"view_item_1d\": 10, \"view_item_7d\": 72, \"view_item_30d\": 294, \"add_to_cart_1d\": 0, \"add_to_cart_7d\": 0, \"add_to_cart_30d\": 2, \"begin_checkout_1d\": 0, \"begin_checkout_7d\": 0, \"begin_checkout_30d\": 0, \"purchase_1d\": 0, \"purchase_7d\": 0, \"purchase_30d\": 0, \"qty_sold\": 1, \"nbre_commande\": 1, \"product_marge\": 104.0, \"order_recency\": 121, \"order_seniority\": 121, \"stock\": 43, \"Segments\": \"Cold\"}, {\"ID\": 7566, \"view_item_list_1d\": 456, \"view_item_list_7d\": 3004, \"view_item_list_30d\": 16646, \"view_item_1d\": 5, \"view_item_7d\": 27, \"view_item_30d\": 131, \"add_to_cart_1d\": 0, \"add_to_cart_7d\": 0, \"add_to_cart_30d\": 1, \"begin_checkout_1d\": 0, \"begin_checkout_7d\": 0, \"begin_checkout_30d\": 0, \"purchase_1d\": 0, \"purchase_7d\": 0, \"purchase_30d\": 0, \"qty_sold\": 2, \"nbre_commande\": 1, \"product_marge\": 104.0, \"order_recency\": 57, \"order_seniority\": 57, \"stock\": 72, \"Segments\": \"Cold\"}, {\"ID\": 7567, \"view_item_list_1d\": 832, \"view_item_list_7d\": 5234, \"view_item_list_30d\": 27711, \"view_item_1d\": 68, \"view_item_7d\": 689, \"view_item_30d\": 5137, \"add_to_cart_1d\": 1, \"add_to_cart_7d\": 4, \"add_to_cart_30d\": 33, \"begin_checkout_1d\": 0, \"begin_checkout_7d\": 4, \"begin_checkout_30d\": 27, \"purchase_1d\": 0, \"purchase_7d\": 0, \"purchase_30d\": 3, \"qty_sold\": 15, \"nbre_commande\": 15, \"product_marge\": 3570.0, \"order_recency\": 19, \"order_seniority\": 144, \"stock\": 12, \"Segments\": \"Cold\"}, {\"ID\": 7568, \"view_item_list_1d\": 1086, \"view_item_list_7d\": 8405, \"view_item_list_30d\": 37567, \"view_item_1d\": 101, \"view_item_7d\": 713, \"view_item_30d\": 3801, \"add_to_cart_1d\": 0, \"add_to_cart_7d\": 0, \"add_to_cart_30d\": 22, \"begin_checkout_1d\": 0, \"begin_checkout_7d\": 0, \"begin_checkout_30d\": 42, \"purchase_1d\": 0, \"purchase_7d\": 0, \"purchase_30d\": 6, \"qty_sold\": 69, \"nbre_commande\": 69, \"product_marge\": 22701.0, \"order_recency\": 11, \"order_seniority\": 140, \"stock\": null, \"Segments\": \"Hot Old\"}, {\"ID\": 7569, \"view_item_list_1d\": 13, \"view_item_list_7d\": 108, \"view_item_list_30d\": 527, \"view_item_1d\": 6, \"view_item_7d\": 78, \"view_item_30d\": 278, \"add_to_cart_1d\": 0, \"add_to_cart_7d\": 4, \"add_to_cart_30d\": 8, \"begin_checkout_1d\": 0, \"begin_checkout_7d\": 3, \"begin_checkout_30d\": 12, \"purchase_1d\": 0, \"purchase_7d\": 1, \"purchase_30d\": 2, \"qty_sold\": 5, \"nbre_commande\": 5, \"product_marge\": 1145.0, \"order_recency\": 2, \"order_seniority\": 34, \"stock\": null, \"Segments\": \"Cold\"}, {\"ID\": 7570, \"view_item_list_1d\": 563, \"view_item_list_7d\": 3588, \"view_item_list_30d\": 19889, \"view_item_1d\": 19, \"view_item_7d\": 104, \"view_item_30d\": 458, \"add_to_cart_1d\": 2, \"add_to_cart_7d\": 6, \"add_to_cart_30d\": 27, \"begin_checkout_1d\": 1, \"begin_checkout_7d\": 4, \"begin_checkout_30d\": 28, \"purchase_1d\": 0, \"purchase_7d\": 0, \"purchase_30d\": 4, \"qty_sold\": 28, \"nbre_commande\": 28, \"product_marge\": 6412.0, \"order_recency\": 20, \"order_seniority\": 143, \"stock\": 13, \"Segments\": \"Cold\"}, {\"ID\": 7571, \"view_item_list_1d\": 497, \"view_item_list_7d\": 3170, \"view_item_list_30d\": 16498, \"view_item_1d\": 2, \"view_item_7d\": 51, \"view_item_30d\": 227, \"add_to_cart_1d\": 0, \"add_to_cart_7d\": 3, \"add_to_cart_30d\": 10, \"begin_checkout_1d\": 0, \"begin_checkout_7d\": 3, \"begin_checkout_30d\": 5, \"purchase_1d\": 0, \"purchase_7d\": 1, \"purchase_30d\": 1, \"qty_sold\": 6, \"nbre_commande\": 6, \"product_marge\": 1326.0, \"order_recency\": 3, \"order_seniority\": 143, \"stock\": 57, \"Segments\": \"Cold\"}, {\"ID\": 7572, \"view_item_list_1d\": 657, \"view_item_list_7d\": 3793, \"view_item_list_30d\": 19465, \"view_item_1d\": 4, \"view_item_7d\": 64, \"view_item_30d\": 286, \"add_to_cart_1d\": 0, \"add_to_cart_7d\": 1, \"add_to_cart_30d\": 7, \"begin_checkout_1d\": 0, \"begin_checkout_7d\": 0, \"begin_checkout_30d\": 5, \"purchase_1d\": 0, \"purchase_7d\": 0, \"purchase_30d\": 1, \"qty_sold\": 5, \"nbre_commande\": 5, \"product_marge\": 1105.0, \"order_recency\": 11, \"order_seniority\": 71, \"stock\": 52, \"Segments\": \"Cold\"}, {\"ID\": 7573, \"view_item_list_1d\": 654, \"view_item_list_7d\": 3888, \"view_item_list_30d\": 19775, \"view_item_1d\": 20, \"view_item_7d\": 127, \"view_item_30d\": 614, \"add_to_cart_1d\": 1, \"add_to_cart_7d\": 11, \"add_to_cart_30d\": 40, \"begin_checkout_1d\": 0, \"begin_checkout_7d\": 4, \"begin_checkout_30d\": 41, \"purchase_1d\": 0, \"purchase_7d\": 1, \"purchase_30d\": 2, \"qty_sold\": 22, \"nbre_commande\": 22, \"product_marge\": 6886.0, \"order_recency\": 6, \"order_seniority\": 140, \"stock\": 59, \"Segments\": \"Cold\"}, {\"ID\": 7574, \"view_item_list_1d\": 607, \"view_item_list_7d\": 3627, \"view_item_list_30d\": 19235, \"view_item_1d\": 35, \"view_item_7d\": 128, \"view_item_30d\": 621, \"add_to_cart_1d\": 1, \"add_to_cart_7d\": 2, \"add_to_cart_30d\": 13, \"begin_checkout_1d\": 2, \"begin_checkout_7d\": 8, \"begin_checkout_30d\": 29, \"purchase_1d\": 0, \"purchase_7d\": 0, \"purchase_30d\": 3, \"qty_sold\": 13, \"nbre_commande\": 13, \"product_marge\": 4069.0, \"order_recency\": 20, \"order_seniority\": 145, \"stock\": 33, \"Segments\": \"Cold\"}, {\"ID\": 7575, \"view_item_list_1d\": 678, \"view_item_list_7d\": 3642, \"view_item_list_30d\": 20047, \"view_item_1d\": 2, \"view_item_7d\": 81, \"view_item_30d\": 387, \"add_to_cart_1d\": 0, \"add_to_cart_7d\": 0, \"add_to_cart_30d\": 16, \"begin_checkout_1d\": 0, \"begin_checkout_7d\": 2, \"begin_checkout_30d\": 36, \"purchase_1d\": 0, \"purchase_7d\": 0, \"purchase_30d\": 3, \"qty_sold\": 10, \"nbre_commande\": 10, \"product_marge\": 4130.0, \"order_recency\": 8, \"order_seniority\": 143, \"stock\": 41, \"Segments\": \"Cold\"}, {\"ID\": 7576, \"view_item_list_1d\": 615, \"view_item_list_7d\": 3870, \"view_item_list_30d\": 20530, \"view_item_1d\": 22, \"view_item_7d\": 109, \"view_item_30d\": 472, \"add_to_cart_1d\": 1, \"add_to_cart_7d\": 4, \"add_to_cart_30d\": 8, \"begin_checkout_1d\": 0, \"begin_checkout_7d\": 0, \"begin_checkout_30d\": 3, \"purchase_1d\": 0, \"purchase_7d\": 0, \"purchase_30d\": 0, \"qty_sold\": 8, \"nbre_commande\": 8, \"product_marge\": 3304.0, \"order_recency\": 36, \"order_seniority\": 117, \"stock\": 23, \"Segments\": \"Cold\"}, {\"ID\": 7579, \"view_item_list_1d\": 668, \"view_item_list_7d\": 3847, \"view_item_list_30d\": 20347, \"view_item_1d\": 10, \"view_item_7d\": 106, \"view_item_30d\": 519, \"add_to_cart_1d\": 1, \"add_to_cart_7d\": 2, \"add_to_cart_30d\": 19, \"begin_checkout_1d\": 2, \"begin_checkout_7d\": 2, \"begin_checkout_30d\": 20, \"purchase_1d\": 0, \"purchase_7d\": 0, \"purchase_30d\": 7, \"qty_sold\": 28, \"nbre_commande\": 26, \"product_marge\": 8883.0, \"order_recency\": 11, \"order_seniority\": 144, \"stock\": 4, \"Segments\": \"Cold\"}, {\"ID\": 7581, \"view_item_list_1d\": 1535, \"view_item_list_7d\": 9984, \"view_item_list_30d\": 45381, \"view_item_1d\": 86, \"view_item_7d\": 369, \"view_item_30d\": 1201, \"add_to_cart_1d\": 1, \"add_to_cart_7d\": 9, \"add_to_cart_30d\": 28, \"begin_checkout_1d\": 1, \"begin_checkout_7d\": 7, \"begin_checkout_30d\": 21, \"purchase_1d\": 1, \"purchase_7d\": 3, \"purchase_30d\": 5, \"qty_sold\": 27, \"nbre_commande\": 27, \"product_marge\": 5076.0, \"order_recency\": 1, \"order_seniority\": 144, \"stock\": 41, \"Segments\": \"Hot Old\"}, {\"ID\": 7585, \"view_item_list_1d\": 641, \"view_item_list_7d\": 3550, \"view_item_list_30d\": 17133, \"view_item_1d\": 8, \"view_item_7d\": 75, \"view_item_30d\": 295, \"add_to_cart_1d\": 1, \"add_to_cart_7d\": 3, \"add_to_cart_30d\": 7, \"begin_checkout_1d\": 0, \"begin_checkout_7d\": 4, \"begin_checkout_30d\": 8, \"purchase_1d\": 0, \"purchase_7d\": 1, \"purchase_30d\": 1, \"qty_sold\": 16, \"nbre_commande\": 16, \"product_marge\": 3536.0, \"order_recency\": 6, \"order_seniority\": 144, \"stock\": 106, \"Segments\": \"Cold\"}, {\"ID\": 7586, \"view_item_list_1d\": 590, \"view_item_list_7d\": 3746, \"view_item_list_30d\": 17806, \"view_item_1d\": 19, \"view_item_7d\": 137, \"view_item_30d\": 624, \"add_to_cart_1d\": 0, \"add_to_cart_7d\": 2, \"add_to_cart_30d\": 20, \"begin_checkout_1d\": 0, \"begin_checkout_7d\": 2, \"begin_checkout_30d\": 16, \"purchase_1d\": 0, \"purchase_7d\": 1, \"purchase_30d\": 2, \"qty_sold\": 17, \"nbre_commande\": 17, \"product_marge\": 3893.0, \"order_recency\": 7, \"order_seniority\": 121, \"stock\": 51, \"Segments\": \"Cold\"}, {\"ID\": 7587, \"view_item_list_1d\": 223, \"view_item_list_7d\": 1519, \"view_item_list_30d\": 8173, \"view_item_1d\": 13, \"view_item_7d\": 71, \"view_item_30d\": 281, \"add_to_cart_1d\": 0, \"add_to_cart_7d\": 2, \"add_to_cart_30d\": 11, \"begin_checkout_1d\": 0, \"begin_checkout_7d\": 1, \"begin_checkout_30d\": 2, \"purchase_1d\": 0, \"purchase_7d\": 0, \"purchase_30d\": 0, \"qty_sold\": 1, \"nbre_commande\": 1, \"product_marge\": 396.0, \"order_recency\": 127, \"order_seniority\": 127, \"stock\": 94, \"Segments\": \"Cold\"}, {\"ID\": 7588, \"view_item_list_1d\": 318, \"view_item_list_7d\": 2109, \"view_item_list_30d\": 12165, \"view_item_1d\": 14, \"view_item_7d\": 71, \"view_item_30d\": 261, \"add_to_cart_1d\": 0, \"add_to_cart_7d\": 2, \"add_to_cart_30d\": 2, \"begin_checkout_1d\": 0, \"begin_checkout_7d\": 1, \"begin_checkout_30d\": 1, \"purchase_1d\": 0, \"purchase_7d\": 0, \"purchase_30d\": 0, \"qty_sold\": 7, \"nbre_commande\": 7, \"product_marge\": 2772.0, \"order_recency\": 53, \"order_seniority\": 174, \"stock\": 37, \"Segments\": \"Cold\"}, {\"ID\": 7589, \"view_item_list_1d\": 228, \"view_item_list_7d\": 1613, \"view_item_list_30d\": 8765, \"view_item_1d\": 6, \"view_item_7d\": 88, \"view_item_30d\": 422, \"add_to_cart_1d\": 0, \"add_to_cart_7d\": 1, \"add_to_cart_30d\": 13, \"begin_checkout_1d\": 1, \"begin_checkout_7d\": 1, \"begin_checkout_30d\": 2, \"purchase_1d\": 0, \"purchase_7d\": 0, \"purchase_30d\": 0, \"qty_sold\": 9, \"nbre_commande\": 9, \"product_marge\": 3564.0, \"order_recency\": 66, \"order_seniority\": 173, \"stock\": 48, \"Segments\": \"Cold\"}, {\"ID\": 7590, \"view_item_list_1d\": 564, \"view_item_list_7d\": 3297, \"view_item_list_30d\": 18873, \"view_item_1d\": 18, \"view_item_7d\": 74, \"view_item_30d\": 342, \"add_to_cart_1d\": 0, \"add_to_cart_7d\": 1, \"add_to_cart_30d\": 8, \"begin_checkout_1d\": 0, \"begin_checkout_7d\": 1, \"begin_checkout_30d\": 2, \"purchase_1d\": 0, \"purchase_7d\": 0, \"purchase_30d\": 1, \"qty_sold\": 8, \"nbre_commande\": 8, \"product_marge\": 3168.0, \"order_recency\": 18, \"order_seniority\": 141, \"stock\": 37, \"Segments\": \"Cold\"}, {\"ID\": 7591, \"view_item_list_1d\": 471, \"view_item_list_7d\": 2882, \"view_item_list_30d\": 14555, \"view_item_1d\": 9, \"view_item_7d\": 74, \"view_item_30d\": 327, \"add_to_cart_1d\": 0, \"add_to_cart_7d\": 2, \"add_to_cart_30d\": 6, \"begin_checkout_1d\": 0, \"begin_checkout_7d\": 3, \"begin_checkout_30d\": 3, \"purchase_1d\": 0, \"purchase_7d\": 1, \"purchase_30d\": 1, \"qty_sold\": 11, \"nbre_commande\": 11, \"product_marge\": 4543.0, \"order_recency\": 4, \"order_seniority\": 141, \"stock\": 46, \"Segments\": \"Cold\"}, {\"ID\": 7594, \"view_item_list_1d\": 676, \"view_item_list_7d\": 4534, \"view_item_list_30d\": 30685, \"view_item_1d\": 19, \"view_item_7d\": 131, \"view_item_30d\": 576, \"add_to_cart_1d\": 0, \"add_to_cart_7d\": 4, \"add_to_cart_30d\": 25, \"begin_checkout_1d\": 0, \"begin_checkout_7d\": 1, \"begin_checkout_30d\": 16, \"purchase_1d\": 0, \"purchase_7d\": 0, \"purchase_30d\": 1, \"qty_sold\": 10, \"nbre_commande\": 10, \"product_marge\": 4130.0, \"order_recency\": 26, \"order_seniority\": 141, \"stock\": 29, \"Segments\": \"Cold\"}, {\"ID\": 7595, \"view_item_list_1d\": 343, \"view_item_list_7d\": 2212, \"view_item_list_30d\": 10842, \"view_item_1d\": 12, \"view_item_7d\": 96, \"view_item_30d\": 398, \"add_to_cart_1d\": 0, \"add_to_cart_7d\": 0, \"add_to_cart_30d\": 11, \"begin_checkout_1d\": 0, \"begin_checkout_7d\": 0, \"begin_checkout_30d\": 9, \"purchase_1d\": 0, \"purchase_7d\": 0, \"purchase_30d\": 2, \"qty_sold\": 7, \"nbre_commande\": 7, \"product_marge\": 1141.0, \"order_recency\": 8, \"order_seniority\": 127, \"stock\": 82, \"Segments\": \"Cold\"}, {\"ID\": 7596, \"view_item_list_1d\": 697, \"view_item_list_7d\": 4372, \"view_item_list_30d\": 22400, \"view_item_1d\": 9, \"view_item_7d\": 98, \"view_item_30d\": 386, \"add_to_cart_1d\": 0, \"add_to_cart_7d\": 3, \"add_to_cart_30d\": 9, \"begin_checkout_1d\": 0, \"begin_checkout_7d\": 2, \"begin_checkout_30d\": 7, \"purchase_1d\": 0, \"purchase_7d\": 0, \"purchase_30d\": 0, \"qty_sold\": 12, \"nbre_commande\": 12, \"product_marge\": 1956.0, \"order_recency\": 53, \"order_seniority\": 165, \"stock\": 43, \"Segments\": \"Cold\"}, {\"ID\": 7597, \"view_item_list_1d\": 711, \"view_item_list_7d\": 4588, \"view_item_list_30d\": 21649, \"view_item_1d\": 9, \"view_item_7d\": 62, \"view_item_30d\": 306, \"add_to_cart_1d\": 0, \"add_to_cart_7d\": 2, \"add_to_cart_30d\": 16, \"begin_checkout_1d\": 1, \"begin_checkout_7d\": 4, \"begin_checkout_30d\": 17, \"purchase_1d\": 0, \"purchase_7d\": 0, \"purchase_30d\": 3, \"qty_sold\": 12, \"nbre_commande\": 12, \"product_marge\": 1956.0, \"order_recency\": 11, \"order_seniority\": 175, \"stock\": 40, \"Segments\": \"Cold\"}, {\"ID\": 7598, \"view_item_list_1d\": 478, \"view_item_list_7d\": 3079, \"view_item_list_30d\": 15565, \"view_item_1d\": 6, \"view_item_7d\": 52, \"view_item_30d\": 313, \"add_to_cart_1d\": 0, \"add_to_cart_7d\": 0, \"add_to_cart_30d\": 11, \"begin_checkout_1d\": 0, \"begin_checkout_7d\": 3, \"begin_checkout_30d\": 15, \"purchase_1d\": 0, \"purchase_7d\": 0, \"purchase_30d\": 1, \"qty_sold\": 6, \"nbre_commande\": 6, \"product_marge\": 978.0, \"order_recency\": 26, \"order_seniority\": 117, \"stock\": 56, \"Segments\": \"Cold\"}, {\"ID\": 7599, \"view_item_list_1d\": 585, \"view_item_list_7d\": 3746, \"view_item_list_30d\": 20499, \"view_item_1d\": 19, \"view_item_7d\": 165, \"view_item_30d\": 635, \"add_to_cart_1d\": 0, \"add_to_cart_7d\": 3, \"add_to_cart_30d\": 18, \"begin_checkout_1d\": 0, \"begin_checkout_7d\": 0, \"begin_checkout_30d\": 14, \"purchase_1d\": 0, \"purchase_7d\": 0, \"purchase_30d\": 2, \"qty_sold\": 14, \"nbre_commande\": 14, \"product_marge\": 5782.0, \"order_recency\": 9, \"order_seniority\": 146, \"stock\": 67, \"Segments\": \"Cold\"}, {\"ID\": 7600, \"view_item_list_1d\": 728, \"view_item_list_7d\": 4070, \"view_item_list_30d\": 14525, \"view_item_1d\": 34, \"view_item_7d\": 309, \"view_item_30d\": 1022, \"add_to_cart_1d\": 0, \"add_to_cart_7d\": 3, \"add_to_cart_30d\": 20, \"begin_checkout_1d\": 0, \"begin_checkout_7d\": 3, \"begin_checkout_30d\": 6, \"purchase_1d\": 0, \"purchase_7d\": 1, \"purchase_30d\": 1, \"qty_sold\": 43, \"nbre_commande\": 43, \"product_marge\": 17759.0, \"order_recency\": 4, \"order_seniority\": 184, \"stock\": null, \"Segments\": \"Hot Old\"}, {\"ID\": 7602, \"view_item_list_1d\": 753, \"view_item_list_7d\": 4601, \"view_item_list_30d\": 24352, \"view_item_1d\": 38, \"view_item_7d\": 172, \"view_item_30d\": 788, \"add_to_cart_1d\": 0, \"add_to_cart_7d\": 2, \"add_to_cart_30d\": 28, \"begin_checkout_1d\": 0, \"begin_checkout_7d\": 21, \"begin_checkout_30d\": 57, \"purchase_1d\": 0, \"purchase_7d\": 1, \"purchase_30d\": 3, \"qty_sold\": 30, \"nbre_commande\": 30, \"product_marge\": 12390.0, \"order_recency\": 3, \"order_seniority\": 162, \"stock\": 10, \"Segments\": \"Hot Old\"}, {\"ID\": 7603, \"view_item_list_1d\": 1679, \"view_item_list_7d\": 9750, \"view_item_list_30d\": 50071, \"view_item_1d\": 182, \"view_item_7d\": 323, \"view_item_30d\": 1337, \"add_to_cart_1d\": 2, \"add_to_cart_7d\": 10, \"add_to_cart_30d\": 32, \"begin_checkout_1d\": 0, \"begin_checkout_7d\": 4, \"begin_checkout_30d\": 32, \"purchase_1d\": 0, \"purchase_7d\": 0, \"purchase_30d\": 4, \"qty_sold\": 21, \"nbre_commande\": 21, \"product_marge\": 6741.0, \"order_recency\": 15, \"order_seniority\": 61, \"stock\": 18, \"Segments\": \"Cold\"}, {\"ID\": 7604, \"view_item_list_1d\": 2030, \"view_item_list_7d\": 11668, \"view_item_list_30d\": 54784, \"view_item_1d\": 94, \"view_item_7d\": 417, \"view_item_30d\": 1449, \"add_to_cart_1d\": 5, \"add_to_cart_7d\": 22, \"add_to_cart_30d\": 96, \"begin_checkout_1d\": 5, \"begin_checkout_7d\": 45, \"begin_checkout_30d\": 124, \"purchase_1d\": 1, \"purchase_7d\": 1, \"purchase_30d\": 11, \"qty_sold\": 33, \"nbre_commande\": 32, \"product_marge\": 5907.0, \"order_recency\": 1, \"order_seniority\": 59, \"stock\": 14, \"Segments\": \"Medium Hot\"}, {\"ID\": 7606, \"view_item_list_1d\": 3025, \"view_item_list_7d\": 24095, \"view_item_list_30d\": 110620, \"view_item_1d\": 90, \"view_item_7d\": 814, \"view_item_30d\": 3217, \"add_to_cart_1d\": 3, \"add_to_cart_7d\": 16, \"add_to_cart_30d\": 87, \"begin_checkout_1d\": 7, \"begin_checkout_7d\": 10, \"begin_checkout_30d\": 72, \"purchase_1d\": 1, \"purchase_7d\": 3, \"purchase_30d\": 11, \"qty_sold\": 36, \"nbre_commande\": 35, \"product_marge\": 8856.0, \"order_recency\": 1, \"order_seniority\": 61, \"stock\": 29, \"Segments\": \"Medium Hot\"}, {\"ID\": 7607, \"view_item_list_1d\": 760, \"view_item_list_7d\": 4354, \"view_item_list_30d\": 18104, \"view_item_1d\": 5, \"view_item_7d\": 73, \"view_item_30d\": 327, \"add_to_cart_1d\": 0, \"add_to_cart_7d\": 2, \"add_to_cart_30d\": 8, \"begin_checkout_1d\": 0, \"begin_checkout_7d\": 0, \"begin_checkout_30d\": 6, \"purchase_1d\": 0, \"purchase_7d\": 0, \"purchase_30d\": 0, \"qty_sold\": 15, \"nbre_commande\": 15, \"product_marge\": 3435.0, \"order_recency\": 46, \"order_seniority\": 180, \"stock\": 76, \"Segments\": \"Cold\"}, {\"ID\": 7608, \"view_item_list_1d\": 1034, \"view_item_list_7d\": 5785, \"view_item_list_30d\": 24472, \"view_item_1d\": 11, \"view_item_7d\": 77, \"view_item_30d\": 302, \"add_to_cart_1d\": 0, \"add_to_cart_7d\": 2, \"add_to_cart_30d\": 7, \"begin_checkout_1d\": 0, \"begin_checkout_7d\": 2, \"begin_checkout_30d\": 10, \"purchase_1d\": 0, \"purchase_7d\": 0, \"purchase_30d\": 2, \"qty_sold\": 15, \"nbre_commande\": 15, \"product_marge\": 3690.0, \"order_recency\": 12, \"order_seniority\": 184, \"stock\": 63, \"Segments\": \"Cold\"}, {\"ID\": 7609, \"view_item_list_1d\": 1459, \"view_item_list_7d\": 10666, \"view_item_list_30d\": 52085, \"view_item_1d\": 95, \"view_item_7d\": 859, \"view_item_30d\": 4099, \"add_to_cart_1d\": 0, \"add_to_cart_7d\": 9, \"add_to_cart_30d\": 78, \"begin_checkout_1d\": 0, \"begin_checkout_7d\": 10, \"begin_checkout_30d\": 36, \"purchase_1d\": 0, \"purchase_7d\": 2, \"purchase_30d\": 9, \"qty_sold\": 30, \"nbre_commande\": 29, \"product_marge\": 9541.0, \"order_recency\": 4, \"order_seniority\": 145, \"stock\": 160, \"Segments\": \"Hot Old\"}, {\"ID\": 7610, \"view_item_list_1d\": 1314, \"view_item_list_7d\": 9822, \"view_item_list_30d\": 42665, \"view_item_1d\": 98, \"view_item_7d\": 737, \"view_item_30d\": 4020, \"add_to_cart_1d\": 0, \"add_to_cart_7d\": 5, \"add_to_cart_30d\": 44, \"begin_checkout_1d\": 1, \"begin_checkout_7d\": 3, \"begin_checkout_30d\": 24, \"purchase_1d\": 0, \"purchase_7d\": 0, \"purchase_30d\": 2, \"qty_sold\": 26, \"nbre_commande\": 26, \"product_marge\": 8554.0, \"order_recency\": 8, \"order_seniority\": 145, \"stock\": 120, \"Segments\": \"Cold\"}, {\"ID\": 7611, \"view_item_list_1d\": 618, \"view_item_list_7d\": 3549, \"view_item_list_30d\": 17504, \"view_item_1d\": 22, \"view_item_7d\": 61, \"view_item_30d\": 231, \"add_to_cart_1d\": 3, \"add_to_cart_7d\": 6, \"add_to_cart_30d\": 14, \"begin_checkout_1d\": 5, \"begin_checkout_7d\": 12, \"begin_checkout_30d\": 21, \"purchase_1d\": 1, \"purchase_7d\": 1, \"purchase_30d\": 2, \"qty_sold\": 17, \"nbre_commande\": 17, \"product_marge\": 1343.0, \"order_recency\": 1, \"order_seniority\": 141, \"stock\": 9, \"Segments\": \"Cold\"}, {\"ID\": 7613, \"view_item_list_1d\": 775, \"view_item_list_7d\": 4452, \"view_item_list_30d\": 24123, \"view_item_1d\": 171, \"view_item_7d\": 1094, \"view_item_30d\": 3051, \"add_to_cart_1d\": 1, \"add_to_cart_7d\": 7, \"add_to_cart_30d\": 60, \"begin_checkout_1d\": 0, \"begin_checkout_7d\": 3, \"begin_checkout_30d\": 48, \"purchase_1d\": 0, \"purchase_7d\": 1, \"purchase_30d\": 10, \"qty_sold\": 32, \"nbre_commande\": 30, \"product_marge\": 4928.0, \"order_recency\": 5, \"order_seniority\": 145, \"stock\": 12, \"Segments\": \"Hot Old\"}, {\"ID\": 7615, \"view_item_list_1d\": 639, \"view_item_list_7d\": 3806, \"view_item_list_30d\": 19548, \"view_item_1d\": 26, \"view_item_7d\": 227, \"view_item_30d\": 786, \"add_to_cart_1d\": 0, \"add_to_cart_7d\": 0, \"add_to_cart_30d\": 10, \"begin_checkout_1d\": 0, \"begin_checkout_7d\": 0, \"begin_checkout_30d\": 8, \"purchase_1d\": 0, \"purchase_7d\": 0, \"purchase_30d\": 2, \"qty_sold\": 39, \"nbre_commande\": 39, \"product_marge\": 7644.0, \"order_recency\": 18, \"order_seniority\": 144, \"stock\": null, \"Segments\": \"Cold\"}, {\"ID\": 7616, \"view_item_list_1d\": 611, \"view_item_list_7d\": 3535, \"view_item_list_30d\": 17868, \"view_item_1d\": 40, \"view_item_7d\": 232, \"view_item_30d\": 768, \"add_to_cart_1d\": 2, \"add_to_cart_7d\": 9, \"add_to_cart_30d\": 27, \"begin_checkout_1d\": 4, \"begin_checkout_7d\": 8, \"begin_checkout_30d\": 43, \"purchase_1d\": 2, \"purchase_7d\": 4, \"purchase_30d\": 8, \"qty_sold\": 25, \"nbre_commande\": 24, \"product_marge\": 4900.0, \"order_recency\": 1, \"order_seniority\": 141, \"stock\": 32, \"Segments\": \"Hot Old\"}, {\"ID\": 7617, \"view_item_list_1d\": 643, \"view_item_list_7d\": 3788, \"view_item_list_30d\": 20625, \"view_item_1d\": 9, \"view_item_7d\": 167, \"view_item_30d\": 667, \"add_to_cart_1d\": 0, \"add_to_cart_7d\": 8, \"add_to_cart_30d\": 30, \"begin_checkout_1d\": 1, \"begin_checkout_7d\": 9, \"begin_checkout_30d\": 35, \"purchase_1d\": 1, \"purchase_7d\": 1, \"purchase_30d\": 7, \"qty_sold\": 47, \"nbre_commande\": 46, \"product_marge\": 6862.0, \"order_recency\": 1, \"order_seniority\": 146, \"stock\": 44, \"Segments\": \"Hot Old\"}, {\"ID\": 7618, \"view_item_list_1d\": 746, \"view_item_list_7d\": 4451, \"view_item_list_30d\": 20500, \"view_item_1d\": 28, \"view_item_7d\": 193, \"view_item_30d\": 667, \"add_to_cart_1d\": 1, \"add_to_cart_7d\": 7, \"add_to_cart_30d\": 26, \"begin_checkout_1d\": 0, \"begin_checkout_7d\": 9, \"begin_checkout_30d\": 16, \"purchase_1d\": 0, \"purchase_7d\": 1, \"purchase_30d\": 3, \"qty_sold\": 29, \"nbre_commande\": 29, \"product_marge\": 4234.0, \"order_recency\": 5, \"order_seniority\": 145, \"stock\": 105, \"Segments\": \"Cold\"}, {\"ID\": 7619, \"view_item_list_1d\": 641, \"view_item_list_7d\": 3799, \"view_item_list_30d\": 15388, \"view_item_1d\": 25, \"view_item_7d\": 323, \"view_item_30d\": 1125, \"add_to_cart_1d\": 0, \"add_to_cart_7d\": 2, \"add_to_cart_30d\": 58, \"begin_checkout_1d\": 0, \"begin_checkout_7d\": 5, \"begin_checkout_30d\": 102, \"purchase_1d\": 0, \"purchase_7d\": 0, \"purchase_30d\": 10, \"qty_sold\": 76, \"nbre_commande\": 75, \"product_marge\": 8588.0, \"order_recency\": 8, \"order_seniority\": 146, \"stock\": 14, \"Segments\": \"Hot Old\"}, {\"ID\": 7620, \"view_item_list_1d\": 822, \"view_item_list_7d\": 4721, \"view_item_list_30d\": 23697, \"view_item_1d\": 27, \"view_item_7d\": 224, \"view_item_30d\": 917, \"add_to_cart_1d\": 1, \"add_to_cart_7d\": 10, \"add_to_cart_30d\": 54, \"begin_checkout_1d\": 0, \"begin_checkout_7d\": 14, \"begin_checkout_30d\": 76, \"purchase_1d\": 0, \"purchase_7d\": 1, \"purchase_30d\": 6, \"qty_sold\": 56, \"nbre_commande\": 55, \"product_marge\": 6328.0, \"order_recency\": 2, \"order_seniority\": 146, \"stock\": 75, \"Segments\": \"Hot Old\"}, {\"ID\": 7621, \"view_item_list_1d\": 595, \"view_item_list_7d\": 3566, \"view_item_list_30d\": 18484, \"view_item_1d\": 35, \"view_item_7d\": 178, \"view_item_30d\": 691, \"add_to_cart_1d\": 1, \"add_to_cart_7d\": 8, \"add_to_cart_30d\": 46, \"begin_checkout_1d\": 0, \"begin_checkout_7d\": 9, \"begin_checkout_30d\": 51, \"purchase_1d\": 0, \"purchase_7d\": 2, \"purchase_30d\": 10, \"qty_sold\": 45, \"nbre_commande\": 43, \"product_marge\": 6210.0, \"order_recency\": 2, \"order_seniority\": 146, \"stock\": 24, \"Segments\": \"Hot Old\"}, {\"ID\": 7623, \"view_item_list_1d\": 670, \"view_item_list_7d\": 3943, \"view_item_list_30d\": 19228, \"view_item_1d\": 19, \"view_item_7d\": 196, \"view_item_30d\": 1034, \"add_to_cart_1d\": 0, \"add_to_cart_7d\": 2, \"add_to_cart_30d\": 41, \"begin_checkout_1d\": 0, \"begin_checkout_7d\": 12, \"begin_checkout_30d\": 41, \"purchase_1d\": 0, \"purchase_7d\": 1, \"purchase_30d\": 9, \"qty_sold\": 38, \"nbre_commande\": 37, \"product_marge\": 6194.0, \"order_recency\": 4, \"order_seniority\": 145, \"stock\": null, \"Segments\": \"Hot Old\"}, {\"ID\": 7624, \"view_item_list_1d\": 374, \"view_item_list_7d\": 2661, \"view_item_list_30d\": 13371, \"view_item_1d\": 27, \"view_item_7d\": 194, \"view_item_30d\": 806, \"add_to_cart_1d\": 0, \"add_to_cart_7d\": 7, \"add_to_cart_30d\": 32, \"begin_checkout_1d\": 0, \"begin_checkout_7d\": 5, \"begin_checkout_30d\": 29, \"purchase_1d\": 0, \"purchase_7d\": 1, \"purchase_30d\": 3, \"qty_sold\": 33, \"nbre_commande\": 31, \"product_marge\": 5379.0, \"order_recency\": 4, \"order_seniority\": 146, \"stock\": 37, \"Segments\": \"Cold\"}, {\"ID\": 7625, \"view_item_list_1d\": 1363, \"view_item_list_7d\": 9095, \"view_item_list_30d\": 49177, \"view_item_1d\": 29, \"view_item_7d\": 196, \"view_item_30d\": 871, \"add_to_cart_1d\": 0, \"add_to_cart_7d\": 4, \"add_to_cart_30d\": 22, \"begin_checkout_1d\": 0, \"begin_checkout_7d\": 5, \"begin_checkout_30d\": 36, \"purchase_1d\": 0, \"purchase_7d\": 0, \"purchase_30d\": 2, \"qty_sold\": 31, \"nbre_commande\": 31, \"product_marge\": 5053.0, \"order_recency\": 27, \"order_seniority\": 188, \"stock\": 4, \"Segments\": \"Cold\"}, {\"ID\": 7626, \"view_item_list_1d\": 1121, \"view_item_list_7d\": 7366, \"view_item_list_30d\": 42922, \"view_item_1d\": 30, \"view_item_7d\": 253, \"view_item_30d\": 1110, \"add_to_cart_1d\": 0, \"add_to_cart_7d\": 9, \"add_to_cart_30d\": 26, \"begin_checkout_1d\": 0, \"begin_checkout_7d\": 15, \"begin_checkout_30d\": 23, \"purchase_1d\": 0, \"purchase_7d\": 3, \"purchase_30d\": 3, \"qty_sold\": 27, \"nbre_commande\": 27, \"product_marge\": 4401.0, \"order_recency\": 2, \"order_seniority\": 146, \"stock\": 24, \"Segments\": \"Hot Old\"}, {\"ID\": 7628, \"view_item_list_1d\": 600, \"view_item_list_7d\": 3788, \"view_item_list_30d\": 17751, \"view_item_1d\": 12, \"view_item_7d\": 93, \"view_item_30d\": 422, \"add_to_cart_1d\": 0, \"add_to_cart_7d\": 1, \"add_to_cart_30d\": 5, \"begin_checkout_1d\": 0, \"begin_checkout_7d\": 1, \"begin_checkout_30d\": 19, \"purchase_1d\": 0, \"purchase_7d\": 0, \"purchase_30d\": 1, \"qty_sold\": 4, \"nbre_commande\": 4, \"product_marge\": 652.0, \"order_recency\": 29, \"order_seniority\": 113, \"stock\": 88, \"Segments\": \"Cold\"}, {\"ID\": 7637, \"view_item_list_1d\": 1444, \"view_item_list_7d\": 9796, \"view_item_list_30d\": 55974, \"view_item_1d\": 73, \"view_item_7d\": 423, \"view_item_30d\": 2940, \"add_to_cart_1d\": 1, \"add_to_cart_7d\": 16, \"add_to_cart_30d\": 46, \"begin_checkout_1d\": 1, \"begin_checkout_7d\": 19, \"begin_checkout_30d\": 50, \"purchase_1d\": 1, \"purchase_7d\": 3, \"purchase_30d\": 5, \"qty_sold\": 39, \"nbre_commande\": 38, \"product_marge\": 6006.0, \"order_recency\": 1, \"order_seniority\": 182, \"stock\": 47, \"Segments\": \"Hot Old\"}, {\"ID\": 7638, \"view_item_list_1d\": 842, \"view_item_list_7d\": 5010, \"view_item_list_30d\": 26651, \"view_item_1d\": 25, \"view_item_7d\": 194, \"view_item_30d\": 947, \"add_to_cart_1d\": 2, \"add_to_cart_7d\": 7, \"add_to_cart_30d\": 40, \"begin_checkout_1d\": 3, \"begin_checkout_7d\": 5, \"begin_checkout_30d\": 33, \"purchase_1d\": 0, \"purchase_7d\": 1, \"purchase_30d\": 6, \"qty_sold\": 46, \"nbre_commande\": 45, \"product_marge\": 6930.0, \"order_recency\": 6, \"order_seniority\": 144, \"stock\": 15, \"Segments\": \"Hot Old\"}, {\"ID\": 7641, \"view_item_list_1d\": 471, \"view_item_list_7d\": 3118, \"view_item_list_30d\": 15584, \"view_item_1d\": 19, \"view_item_7d\": 168, \"view_item_30d\": 2376, \"add_to_cart_1d\": 0, \"add_to_cart_7d\": 3, \"add_to_cart_30d\": 42, \"begin_checkout_1d\": 0, \"begin_checkout_7d\": 1, \"begin_checkout_30d\": 37, \"purchase_1d\": 0, \"purchase_7d\": 0, \"purchase_30d\": 5, \"qty_sold\": 51, \"nbre_commande\": 50, \"product_marge\": 12546.0, \"order_recency\": 14, \"order_seniority\": 188, \"stock\": 5, \"Segments\": \"Hot Old\"}, {\"ID\": 7642, \"view_item_list_1d\": 1172, \"view_item_list_7d\": 8977, \"view_item_list_30d\": 38926, \"view_item_1d\": 53, \"view_item_7d\": 411, \"view_item_30d\": 2031, \"add_to_cart_1d\": 1, \"add_to_cart_7d\": 14, \"add_to_cart_30d\": 63, \"begin_checkout_1d\": 0, \"begin_checkout_7d\": 13, \"begin_checkout_30d\": 76, \"purchase_1d\": 0, \"purchase_7d\": 1, \"purchase_30d\": 6, \"qty_sold\": 54, \"nbre_commande\": 52, \"product_marge\": 15984.0, \"order_recency\": 5, \"order_seniority\": 188, \"stock\": 14, \"Segments\": \"Hot Old\"}, {\"ID\": 7643, \"view_item_list_1d\": 279, \"view_item_list_7d\": 1728, \"view_item_list_30d\": 9199, \"view_item_1d\": 18, \"view_item_7d\": 132, \"view_item_30d\": 748, \"add_to_cart_1d\": 0, \"add_to_cart_7d\": 1, \"add_to_cart_30d\": 9, \"begin_checkout_1d\": 0, \"begin_checkout_7d\": 0, \"begin_checkout_30d\": 7, \"purchase_1d\": 0, \"purchase_7d\": 0, \"purchase_30d\": 1, \"qty_sold\": 17, \"nbre_commande\": 17, \"product_marge\": 3621.0, \"order_recency\": 21, \"order_seniority\": 180, \"stock\": 14, \"Segments\": \"Cold\"}, {\"ID\": 7645, \"view_item_list_1d\": 1219, \"view_item_list_7d\": 7580, \"view_item_list_30d\": 34719, \"view_item_1d\": 29, \"view_item_7d\": 355, \"view_item_30d\": 1358, \"add_to_cart_1d\": 0, \"add_to_cart_7d\": 11, \"add_to_cart_30d\": 66, \"begin_checkout_1d\": 0, \"begin_checkout_7d\": 19, \"begin_checkout_30d\": 57, \"purchase_1d\": 0, \"purchase_7d\": 3, \"purchase_30d\": 14, \"qty_sold\": 37, \"nbre_commande\": 37, \"product_marge\": 9102.0, \"order_recency\": 4, \"order_seniority\": 61, \"stock\": 17, \"Segments\": \"Hot Old\"}, {\"ID\": 7646, \"view_item_list_1d\": 3984, \"view_item_list_7d\": 28741, \"view_item_list_30d\": 116963, \"view_item_1d\": 66, \"view_item_7d\": 453, \"view_item_30d\": 1973, \"add_to_cart_1d\": 0, \"add_to_cart_7d\": 0, \"add_to_cart_30d\": 40, \"begin_checkout_1d\": 1, \"begin_checkout_7d\": 1, \"begin_checkout_30d\": 45, \"purchase_1d\": 0, \"purchase_7d\": 0, \"purchase_30d\": 5, \"qty_sold\": 19, \"nbre_commande\": 19, \"product_marge\": 4997.0, \"order_recency\": 17, \"order_seniority\": 60, \"stock\": null, \"Segments\": \"Medium Hot\"}, {\"ID\": 7648, \"view_item_list_1d\": 1066, \"view_item_list_7d\": 6692, \"view_item_list_30d\": 31478, \"view_item_1d\": 26, \"view_item_7d\": 241, \"view_item_30d\": 849, \"add_to_cart_1d\": 2, \"add_to_cart_7d\": 17, \"add_to_cart_30d\": 41, \"begin_checkout_1d\": 1, \"begin_checkout_7d\": 47, \"begin_checkout_30d\": 65, \"purchase_1d\": 0, \"purchase_7d\": 2, \"purchase_30d\": 7, \"qty_sold\": 24, \"nbre_commande\": 24, \"product_marge\": 5712.0, \"order_recency\": 5, \"order_seniority\": 61, \"stock\": 11, \"Segments\": \"Hot Old\"}, {\"ID\": 7649, \"view_item_list_1d\": 920, \"view_item_list_7d\": 5741, \"view_item_list_30d\": 26637, \"view_item_1d\": 30, \"view_item_7d\": 180, \"view_item_30d\": 681, \"add_to_cart_1d\": 3, \"add_to_cart_7d\": 15, \"add_to_cart_30d\": 41, \"begin_checkout_1d\": 0, \"begin_checkout_7d\": 6, \"begin_checkout_30d\": 44, \"purchase_1d\": 0, \"purchase_7d\": 1, \"purchase_30d\": 4, \"qty_sold\": 21, \"nbre_commande\": 21, \"product_marge\": 4998.0, \"order_recency\": 7, \"order_seniority\": 76, \"stock\": 24, \"Segments\": \"Cold\"}, {\"ID\": 7650, \"view_item_list_1d\": 218, \"view_item_list_7d\": 1404, \"view_item_list_30d\": 7867, \"view_item_1d\": 4, \"view_item_7d\": 21, \"view_item_30d\": 108, \"add_to_cart_1d\": 0, \"add_to_cart_7d\": 1, \"add_to_cart_30d\": 3, \"begin_checkout_1d\": 0, \"begin_checkout_7d\": 1, \"begin_checkout_30d\": 5, \"purchase_1d\": 0, \"purchase_7d\": 0, \"purchase_30d\": 0, \"qty_sold\": 11, \"nbre_commande\": 11, \"product_marge\": 2519.0, \"order_recency\": 52, \"order_seniority\": 189, \"stock\": 14, \"Segments\": \"Cold\"}, {\"ID\": 7651, \"view_item_list_1d\": 559, \"view_item_list_7d\": 3703, \"view_item_list_30d\": 19403, \"view_item_1d\": 15, \"view_item_7d\": 74, \"view_item_30d\": 334, \"add_to_cart_1d\": 0, \"add_to_cart_7d\": 2, \"add_to_cart_30d\": 5, \"begin_checkout_1d\": 0, \"begin_checkout_7d\": 0, \"begin_checkout_30d\": 0, \"purchase_1d\": 0, \"purchase_7d\": 0, \"purchase_30d\": 0, \"qty_sold\": 4, \"nbre_commande\": 4, \"product_marge\": 984.0, \"order_recency\": 97, \"order_seniority\": 162, \"stock\": 32, \"Segments\": \"Cold\"}, {\"ID\": 7652, \"view_item_list_1d\": 539, \"view_item_list_7d\": 3391, \"view_item_list_30d\": 17468, \"view_item_1d\": 12, \"view_item_7d\": 81, \"view_item_30d\": 432, \"add_to_cart_1d\": 0, \"add_to_cart_7d\": 0, \"add_to_cart_30d\": 11, \"begin_checkout_1d\": 0, \"begin_checkout_7d\": 0, \"begin_checkout_30d\": 3, \"purchase_1d\": 0, \"purchase_7d\": 0, \"purchase_30d\": 1, \"qty_sold\": 18, \"nbre_commande\": 18, \"product_marge\": 4428.0, \"order_recency\": 9, \"order_seniority\": 145, \"stock\": 13, \"Segments\": \"Cold\"}, {\"ID\": 7655, \"view_item_list_1d\": 440, \"view_item_list_7d\": 2745, \"view_item_list_30d\": 13151, \"view_item_1d\": 7, \"view_item_7d\": 41, \"view_item_30d\": 196, \"add_to_cart_1d\": 2, \"add_to_cart_7d\": 5, \"add_to_cart_30d\": 16, \"begin_checkout_1d\": 0, \"begin_checkout_7d\": 5, \"begin_checkout_30d\": 12, \"purchase_1d\": 0, \"purchase_7d\": 0, \"purchase_30d\": 0, \"qty_sold\": 8, \"nbre_commande\": 7, \"product_marge\": 1704.0, \"order_recency\": 38, \"order_seniority\": 110, \"stock\": 78, \"Segments\": \"Cold\"}, {\"ID\": 7657, \"view_item_list_1d\": 365, \"view_item_list_7d\": 2540, \"view_item_list_30d\": 12340, \"view_item_1d\": 24, \"view_item_7d\": 115, \"view_item_30d\": 502, \"add_to_cart_1d\": 0, \"add_to_cart_7d\": 6, \"add_to_cart_30d\": 14, \"begin_checkout_1d\": 0, \"begin_checkout_7d\": 1, \"begin_checkout_30d\": 8, \"purchase_1d\": 0, \"purchase_7d\": 0, \"purchase_30d\": 2, \"qty_sold\": 12, \"nbre_commande\": 12, \"product_marge\": 3948.0, \"order_recency\": 15, \"order_seniority\": 170, \"stock\": 75, \"Segments\": \"Cold\"}, {\"ID\": 7658, \"view_item_list_1d\": 750, \"view_item_list_7d\": 4552, \"view_item_list_30d\": 24849, \"view_item_1d\": 4, \"view_item_7d\": 47, \"view_item_30d\": 370, \"add_to_cart_1d\": 0, \"add_to_cart_7d\": 5, \"add_to_cart_30d\": 38, \"begin_checkout_1d\": 0, \"begin_checkout_7d\": 3, \"begin_checkout_30d\": 31, \"purchase_1d\": 0, \"purchase_7d\": 0, \"purchase_30d\": 1, \"qty_sold\": 36, \"nbre_commande\": 35, \"product_marge\": 8610.0, \"order_recency\": 28, \"order_seniority\": 145, \"stock\": 37, \"Segments\": \"Cold\"}, {\"ID\": 7659, \"view_item_list_1d\": 1050, \"view_item_list_7d\": 7599, \"view_item_list_30d\": 35496, \"view_item_1d\": 10, \"view_item_7d\": 135, \"view_item_30d\": 913, \"add_to_cart_1d\": 2, \"add_to_cart_7d\": 11, \"add_to_cart_30d\": 64, \"begin_checkout_1d\": 6, \"begin_checkout_7d\": 23, \"begin_checkout_30d\": 93, \"purchase_1d\": 0, \"purchase_7d\": 3, \"purchase_30d\": 10, \"qty_sold\": 33, \"nbre_commande\": 33, \"product_marge\": 8118.0, \"order_recency\": 3, \"order_seniority\": 143, \"stock\": 45, \"Segments\": \"Hot Old\"}, {\"ID\": 7660, \"view_item_list_1d\": 880, \"view_item_list_7d\": 5389, \"view_item_list_30d\": 32185, \"view_item_1d\": 39, \"view_item_7d\": 140, \"view_item_30d\": 778, \"add_to_cart_1d\": 4, \"add_to_cart_7d\": 4, \"add_to_cart_30d\": 22, \"begin_checkout_1d\": 5, \"begin_checkout_7d\": 5, \"begin_checkout_30d\": 43, \"purchase_1d\": 1, \"purchase_7d\": 1, \"purchase_30d\": 4, \"qty_sold\": 42, \"nbre_commande\": 42, \"product_marge\": 10332.0, \"order_recency\": 1, \"order_seniority\": 183, \"stock\": 107, \"Segments\": \"Hot Old\"}, {\"ID\": 7661, \"view_item_list_1d\": 519, \"view_item_list_7d\": 3601, \"view_item_list_30d\": 20962, \"view_item_1d\": 12, \"view_item_7d\": 48, \"view_item_30d\": 230, \"add_to_cart_1d\": 0, \"add_to_cart_7d\": 3, \"add_to_cart_30d\": 13, \"begin_checkout_1d\": 0, \"begin_checkout_7d\": 7, \"begin_checkout_30d\": 15, \"purchase_1d\": 0, \"purchase_7d\": 1, \"purchase_30d\": 3, \"qty_sold\": 20, \"nbre_commande\": 19, \"product_marge\": 4522.0, \"order_recency\": 5, \"order_seniority\": 143, \"stock\": 16, \"Segments\": \"Cold\"}, {\"ID\": 7662, \"view_item_list_1d\": 617, \"view_item_list_7d\": 3744, \"view_item_list_30d\": 21379, \"view_item_1d\": 6, \"view_item_7d\": 69, \"view_item_30d\": 274, \"add_to_cart_1d\": 0, \"add_to_cart_7d\": 10, \"add_to_cart_30d\": 14, \"begin_checkout_1d\": 0, \"begin_checkout_7d\": 7, \"begin_checkout_30d\": 8, \"purchase_1d\": 0, \"purchase_7d\": 1, \"purchase_30d\": 2, \"qty_sold\": 9, \"nbre_commande\": 9, \"product_marge\": 2592.0, \"order_recency\": 5, \"order_seniority\": 141, \"stock\": 42, \"Segments\": \"Cold\"}, {\"ID\": 7663, \"view_item_list_1d\": 421, \"view_item_list_7d\": 2949, \"view_item_list_30d\": 15576, \"view_item_1d\": 13, \"view_item_7d\": 89, \"view_item_30d\": 350, \"add_to_cart_1d\": 0, \"add_to_cart_7d\": 2, \"add_to_cart_30d\": 3, \"begin_checkout_1d\": 0, \"begin_checkout_7d\": 1, \"begin_checkout_30d\": 1, \"purchase_1d\": 0, \"purchase_7d\": 0, \"purchase_30d\": 0, \"qty_sold\": 8, \"nbre_commande\": 8, \"product_marge\": 2304.0, \"order_recency\": 83, \"order_seniority\": 177, \"stock\": 22, \"Segments\": \"Cold\"}, {\"ID\": 7665, \"view_item_list_1d\": 435, \"view_item_list_7d\": 2598, \"view_item_list_30d\": 13150, \"view_item_1d\": 2, \"view_item_7d\": 22, \"view_item_30d\": 169, \"add_to_cart_1d\": 0, \"add_to_cart_7d\": 1, \"add_to_cart_30d\": 7, \"begin_checkout_1d\": 0, \"begin_checkout_7d\": 0, \"begin_checkout_30d\": 10, \"purchase_1d\": 0, \"purchase_7d\": 0, \"purchase_30d\": 0, \"qty_sold\": 7, \"nbre_commande\": 7, \"product_marge\": 2016.0, \"order_recency\": 26, \"order_seniority\": 130, \"stock\": 44, \"Segments\": \"Cold\"}, {\"ID\": 7793, \"view_item_list_1d\": 997, \"view_item_list_7d\": 5610, \"view_item_list_30d\": 24981, \"view_item_1d\": 53, \"view_item_7d\": 353, \"view_item_30d\": 1474, \"add_to_cart_1d\": 1, \"add_to_cart_7d\": 20, \"add_to_cart_30d\": 79, \"begin_checkout_1d\": 1, \"begin_checkout_7d\": 34, \"begin_checkout_30d\": 80, \"purchase_1d\": 0, \"purchase_7d\": 3, \"purchase_30d\": 11, \"qty_sold\": 76, \"nbre_commande\": 73, \"product_marge\": 17175.0, \"order_recency\": 5, \"order_seniority\": 146, \"stock\": 164, \"Segments\": \"Hot Old\"}, {\"ID\": 7794, \"view_item_list_1d\": 1162, \"view_item_list_7d\": 9107, \"view_item_list_30d\": 43658, \"view_item_1d\": 85, \"view_item_7d\": 598, \"view_item_30d\": 3047, \"add_to_cart_1d\": 2, \"add_to_cart_7d\": 11, \"add_to_cart_30d\": 50, \"begin_checkout_1d\": 0, \"begin_checkout_7d\": 8, \"begin_checkout_30d\": 42, \"purchase_1d\": 0, \"purchase_7d\": 0, \"purchase_30d\": 7, \"qty_sold\": 43, \"nbre_commande\": 43, \"product_marge\": 12384.0, \"order_recency\": 8, \"order_seniority\": 145, \"stock\": 2, \"Segments\": \"Hot Old\"}, {\"ID\": 7795, \"view_item_list_1d\": 699, \"view_item_list_7d\": 4795, \"view_item_list_30d\": 25416, \"view_item_1d\": 17, \"view_item_7d\": 138, \"view_item_30d\": 1049, \"add_to_cart_1d\": 0, \"add_to_cart_7d\": 4, \"add_to_cart_30d\": 24, \"begin_checkout_1d\": 1, \"begin_checkout_7d\": 6, \"begin_checkout_30d\": 32, \"purchase_1d\": 1, \"purchase_7d\": 1, \"purchase_30d\": 9, \"qty_sold\": 38, \"nbre_commande\": 37, \"product_marge\": 7448.0, \"order_recency\": 1, \"order_seniority\": 144, \"stock\": 97, \"Segments\": \"Hot Old\"}, {\"ID\": 7802, \"view_item_list_1d\": 335, \"view_item_list_7d\": 2246, \"view_item_list_30d\": 13373, \"view_item_1d\": 157, \"view_item_7d\": 868, \"view_item_30d\": 2675, \"add_to_cart_1d\": 0, \"add_to_cart_7d\": 6, \"add_to_cart_30d\": 31, \"begin_checkout_1d\": 0, \"begin_checkout_7d\": 0, \"begin_checkout_30d\": 12, \"purchase_1d\": 0, \"purchase_7d\": 0, \"purchase_30d\": 2, \"qty_sold\": 28, \"nbre_commande\": 27, \"product_marge\": 8883.0, \"order_recency\": 13, \"order_seniority\": 189, \"stock\": 12, \"Segments\": \"Cold\"}, {\"ID\": 7803, \"view_item_list_1d\": 687, \"view_item_list_7d\": 4889, \"view_item_list_30d\": 35054, \"view_item_1d\": 18, \"view_item_7d\": 121, \"view_item_30d\": 469, \"add_to_cart_1d\": 0, \"add_to_cart_7d\": 1, \"add_to_cart_30d\": 7, \"begin_checkout_1d\": 0, \"begin_checkout_7d\": 1, \"begin_checkout_30d\": 3, \"purchase_1d\": 0, \"purchase_7d\": 0, \"purchase_30d\": 0, \"qty_sold\": 16, \"nbre_commande\": 16, \"product_marge\": 5136.0, \"order_recency\": 31, \"order_seniority\": 189, \"stock\": 25, \"Segments\": \"Cold\"}, {\"ID\": 7804, \"view_item_list_1d\": 1004, \"view_item_list_7d\": 6471, \"view_item_list_30d\": 34314, \"view_item_1d\": 9, \"view_item_7d\": 120, \"view_item_30d\": 613, \"add_to_cart_1d\": 1, \"add_to_cart_7d\": 11, \"add_to_cart_30d\": 61, \"begin_checkout_1d\": 0, \"begin_checkout_7d\": 4, \"begin_checkout_30d\": 61, \"purchase_1d\": 0, \"purchase_7d\": 2, \"purchase_30d\": 8, \"qty_sold\": 17, \"nbre_commande\": 17, \"product_marge\": 2618.0, \"order_recency\": 5, \"order_seniority\": 139, \"stock\": 17, \"Segments\": \"Cold\"}, {\"ID\": 7806, \"view_item_list_1d\": 1383, \"view_item_list_7d\": 10137, \"view_item_list_30d\": 46461, \"view_item_1d\": 17, \"view_item_7d\": 255, \"view_item_30d\": 848, \"add_to_cart_1d\": 0, \"add_to_cart_7d\": 7, \"add_to_cart_30d\": 50, \"begin_checkout_1d\": 1, \"begin_checkout_7d\": 21, \"begin_checkout_30d\": 37, \"purchase_1d\": 0, \"purchase_7d\": 1, \"purchase_30d\": 6, \"qty_sold\": 25, \"nbre_commande\": 24, \"product_marge\": 5496.0, \"order_recency\": 6, \"order_seniority\": 162, \"stock\": 22, \"Segments\": \"Hot Old\"}, {\"ID\": 7808, \"view_item_list_1d\": 1376, \"view_item_list_7d\": 10081, \"view_item_list_30d\": 44307, \"view_item_1d\": 72, \"view_item_7d\": 617, \"view_item_30d\": 1831, \"add_to_cart_1d\": 0, \"add_to_cart_7d\": 7, \"add_to_cart_30d\": 21, \"begin_checkout_1d\": 0, \"begin_checkout_7d\": 0, \"begin_checkout_30d\": 9, \"purchase_1d\": 0, \"purchase_7d\": 0, \"purchase_30d\": 1, \"qty_sold\": 13, \"nbre_commande\": 12, \"product_marge\": 3198.0, \"order_recency\": 11, \"order_seniority\": 117, \"stock\": 20, \"Segments\": \"Cold\"}, {\"ID\": 7809, \"view_item_list_1d\": 1453, \"view_item_list_7d\": 10171, \"view_item_list_30d\": 47179, \"view_item_1d\": 70, \"view_item_7d\": 691, \"view_item_30d\": 2727, \"add_to_cart_1d\": 0, \"add_to_cart_7d\": 0, \"add_to_cart_30d\": 6, \"begin_checkout_1d\": 0, \"begin_checkout_7d\": 0, \"begin_checkout_30d\": 6, \"purchase_1d\": 0, \"purchase_7d\": 0, \"purchase_30d\": 1, \"qty_sold\": 55, \"nbre_commande\": 54, \"product_marge\": 13530.0, \"order_recency\": 26, \"order_seniority\": 146, \"stock\": null, \"Segments\": \"Hot Old\"}, {\"ID\": 7810, \"view_item_list_1d\": 1794, \"view_item_list_7d\": 13848, \"view_item_list_30d\": 66411, \"view_item_1d\": 88, \"view_item_7d\": 971, \"view_item_30d\": 2908, \"add_to_cart_1d\": 2, \"add_to_cart_7d\": 17, \"add_to_cart_30d\": 70, \"begin_checkout_1d\": 2, \"begin_checkout_7d\": 25, \"begin_checkout_30d\": 87, \"purchase_1d\": 0, \"purchase_7d\": 4, \"purchase_30d\": 16, \"qty_sold\": 57, \"nbre_commande\": 57, \"product_marge\": 14022.0, \"order_recency\": 2, \"order_seniority\": 182, \"stock\": 41, \"Segments\": \"Hot Old\"}, {\"ID\": 7811, \"view_item_list_1d\": 581, \"view_item_list_7d\": 3990, \"view_item_list_30d\": 20580, \"view_item_1d\": 49, \"view_item_7d\": 251, \"view_item_30d\": 845, \"add_to_cart_1d\": 0, \"add_to_cart_7d\": 3, \"add_to_cart_30d\": 12, \"begin_checkout_1d\": 0, \"begin_checkout_7d\": 3, \"begin_checkout_30d\": 7, \"purchase_1d\": 0, \"purchase_7d\": 0, \"purchase_30d\": 1, \"qty_sold\": 18, \"nbre_commande\": 18, \"product_marge\": 5022.0, \"order_recency\": 12, \"order_seniority\": 186, \"stock\": 23, \"Segments\": \"Cold\"}, {\"ID\": 7812, \"view_item_list_1d\": 842, \"view_item_list_7d\": 5273, \"view_item_list_30d\": 25741, \"view_item_1d\": 21, \"view_item_7d\": 112, \"view_item_30d\": 349, \"add_to_cart_1d\": 1, \"add_to_cart_7d\": 5, \"add_to_cart_30d\": 9, \"begin_checkout_1d\": 3, \"begin_checkout_7d\": 6, \"begin_checkout_30d\": 7, \"purchase_1d\": 1, \"purchase_7d\": 1, \"purchase_30d\": 2, \"qty_sold\": 19, \"nbre_commande\": 18, \"product_marge\": 2774.0, \"order_recency\": 1, \"order_seniority\": 188, \"stock\": 34, \"Segments\": \"Cold\"}, {\"ID\": 7813, \"view_item_list_1d\": 447, \"view_item_list_7d\": 3081, \"view_item_list_30d\": 17235, \"view_item_1d\": 19, \"view_item_7d\": 76, \"view_item_30d\": 189, \"add_to_cart_1d\": 1, \"add_to_cart_7d\": 1, \"add_to_cart_30d\": 7, \"begin_checkout_1d\": 0, \"begin_checkout_7d\": 0, \"begin_checkout_30d\": 4, \"purchase_1d\": 0, \"purchase_7d\": 0, \"purchase_30d\": 0, \"qty_sold\": 4, \"nbre_commande\": 4, \"product_marge\": 852.0, \"order_recency\": 32, \"order_seniority\": 120, \"stock\": 76, \"Segments\": \"Cold\"}, {\"ID\": 7814, \"view_item_list_1d\": 457, \"view_item_list_7d\": 2921, \"view_item_list_30d\": 15332, \"view_item_1d\": 4, \"view_item_7d\": 56, \"view_item_30d\": 321, \"add_to_cart_1d\": 0, \"add_to_cart_7d\": 2, \"add_to_cart_30d\": 19, \"begin_checkout_1d\": 0, \"begin_checkout_7d\": 0, \"begin_checkout_30d\": 38, \"purchase_1d\": 0, \"purchase_7d\": 0, \"purchase_30d\": 1, \"qty_sold\": 20, \"nbre_commande\": 17, \"product_marge\": 4760.0, \"order_recency\": 13, \"order_seniority\": 141, \"stock\": 29, \"Segments\": \"Cold\"}, {\"ID\": 7815, \"view_item_list_1d\": 370, \"view_item_list_7d\": 2582, \"view_item_list_30d\": 16800, \"view_item_1d\": 4, \"view_item_7d\": 60, \"view_item_30d\": 368, \"add_to_cart_1d\": 0, \"add_to_cart_7d\": 4, \"add_to_cart_30d\": 23, \"begin_checkout_1d\": 0, \"begin_checkout_7d\": 1, \"begin_checkout_30d\": 5, \"purchase_1d\": 0, \"purchase_7d\": 0, \"purchase_30d\": 1, \"qty_sold\": 20, \"nbre_commande\": 20, \"product_marge\": 4420.0, \"order_recency\": 17, \"order_seniority\": 144, \"stock\": 21, \"Segments\": \"Cold\"}, {\"ID\": 7816, \"view_item_list_1d\": 1051, \"view_item_list_7d\": 8517, \"view_item_list_30d\": 40488, \"view_item_1d\": 56, \"view_item_7d\": 500, \"view_item_30d\": 2103, \"add_to_cart_1d\": 0, \"add_to_cart_7d\": 15, \"add_to_cart_30d\": 66, \"begin_checkout_1d\": 0, \"begin_checkout_7d\": 13, \"begin_checkout_30d\": 69, \"purchase_1d\": 0, \"purchase_7d\": 1, \"purchase_30d\": 7, \"qty_sold\": 58, \"nbre_commande\": 58, \"product_marge\": 16704.0, \"order_recency\": 3, \"order_seniority\": 145, \"stock\": 2, \"Segments\": \"Hot Old\"}, {\"ID\": 7817, \"view_item_list_1d\": 790, \"view_item_list_7d\": 4696, \"view_item_list_30d\": 22683, \"view_item_1d\": 47, \"view_item_7d\": 283, \"view_item_30d\": 1417, \"add_to_cart_1d\": 0, \"add_to_cart_7d\": 3, \"add_to_cart_30d\": 34, \"begin_checkout_1d\": 0, \"begin_checkout_7d\": 2, \"begin_checkout_30d\": 57, \"purchase_1d\": 0, \"purchase_7d\": 0, \"purchase_30d\": 7, \"qty_sold\": 90, \"nbre_commande\": 90, \"product_marge\": 20610.0, \"order_recency\": 9, \"order_seniority\": 144, \"stock\": 3, \"Segments\": \"Hot Old\"}, {\"ID\": 7818, \"view_item_list_1d\": 952, \"view_item_list_7d\": 5384, \"view_item_list_30d\": 26017, \"view_item_1d\": 15, \"view_item_7d\": 96, \"view_item_30d\": 607, \"add_to_cart_1d\": 0, \"add_to_cart_7d\": 2, \"add_to_cart_30d\": 12, \"begin_checkout_1d\": 0, \"begin_checkout_7d\": 0, \"begin_checkout_30d\": 12, \"purchase_1d\": 0, \"purchase_7d\": 0, \"purchase_30d\": 0, \"qty_sold\": 9, \"nbre_commande\": 9, \"product_marge\": 1764.0, \"order_recency\": 35, \"order_seniority\": 145, \"stock\": 60, \"Segments\": \"Cold\"}, {\"ID\": 7820, \"view_item_list_1d\": 1009, \"view_item_list_7d\": 5482, \"view_item_list_30d\": 25624, \"view_item_1d\": 33, \"view_item_7d\": 193, \"view_item_30d\": 672, \"add_to_cart_1d\": 4, \"add_to_cart_7d\": 14, \"add_to_cart_30d\": 42, \"begin_checkout_1d\": 2, \"begin_checkout_7d\": 4, \"begin_checkout_30d\": 14, \"purchase_1d\": 1, \"purchase_7d\": 2, \"purchase_30d\": 4, \"qty_sold\": 37, \"nbre_commande\": 37, \"product_marge\": 9102.0, \"order_recency\": 1, \"order_seniority\": 130, \"stock\": 10, \"Segments\": \"Hot Old\"}, {\"ID\": 7822, \"view_item_list_1d\": 826, \"view_item_list_7d\": 5214, \"view_item_list_30d\": 27308, \"view_item_1d\": 25, \"view_item_7d\": 76, \"view_item_30d\": 286, \"add_to_cart_1d\": 3, \"add_to_cart_7d\": 12, \"add_to_cart_30d\": 33, \"begin_checkout_1d\": 1, \"begin_checkout_7d\": 1, \"begin_checkout_30d\": 19, \"purchase_1d\": 1, \"purchase_7d\": 1, \"purchase_30d\": 3, \"qty_sold\": 30, \"nbre_commande\": 30, \"product_marge\": 4620.0, \"order_recency\": 1, \"order_seniority\": 133, \"stock\": 24, \"Segments\": \"Hot Old\"}, {\"ID\": 7824, \"view_item_list_1d\": 566, \"view_item_list_7d\": 3880, \"view_item_list_30d\": 18465, \"view_item_1d\": 26, \"view_item_7d\": 96, \"view_item_30d\": 430, \"add_to_cart_1d\": 1, \"add_to_cart_7d\": 1, \"add_to_cart_30d\": 18, \"begin_checkout_1d\": 0, \"begin_checkout_7d\": 0, \"begin_checkout_30d\": 41, \"purchase_1d\": 0, \"purchase_7d\": 0, \"purchase_30d\": 0, \"qty_sold\": 22, \"nbre_commande\": 20, \"product_marge\": 14388.0, \"order_recency\": 26, \"order_seniority\": 188, \"stock\": 19, \"Segments\": \"Cold\"}, {\"ID\": 7825, \"view_item_list_1d\": 516, \"view_item_list_7d\": 3736, \"view_item_list_30d\": 18774, \"view_item_1d\": 23, \"view_item_7d\": 75, \"view_item_30d\": 264, \"add_to_cart_1d\": 0, \"add_to_cart_7d\": 2, \"add_to_cart_30d\": 11, \"begin_checkout_1d\": 0, \"begin_checkout_7d\": 0, \"begin_checkout_30d\": 11, \"purchase_1d\": 0, \"purchase_7d\": 0, \"purchase_30d\": 0, \"qty_sold\": 7, \"nbre_commande\": 7, \"product_marge\": 4578.0, \"order_recency\": 73, \"order_seniority\": 155, \"stock\": 97, \"Segments\": \"Cold\"}, {\"ID\": 7826, \"view_item_list_1d\": 1378, \"view_item_list_7d\": 8480, \"view_item_list_30d\": 45476, \"view_item_1d\": 4, \"view_item_7d\": 49, \"view_item_30d\": 402, \"add_to_cart_1d\": 0, \"add_to_cart_7d\": 0, \"add_to_cart_30d\": 1, \"begin_checkout_1d\": 0, \"begin_checkout_7d\": 0, \"begin_checkout_30d\": 0, \"purchase_1d\": 0, \"purchase_7d\": 0, \"purchase_30d\": 0, \"qty_sold\": 1, \"nbre_commande\": 1, \"product_marge\": 821.0, \"order_recency\": 145, \"order_seniority\": 145, \"stock\": 85, \"Segments\": \"Cold\"}, {\"ID\": 7827, \"view_item_list_1d\": 774, \"view_item_list_7d\": 4944, \"view_item_list_30d\": 24096, \"view_item_1d\": 37, \"view_item_7d\": 208, \"view_item_30d\": 694, \"add_to_cart_1d\": 3, \"add_to_cart_7d\": 5, \"add_to_cart_30d\": 15, \"begin_checkout_1d\": 0, \"begin_checkout_7d\": 3, \"begin_checkout_30d\": 8, \"purchase_1d\": 0, \"purchase_7d\": 1, \"purchase_30d\": 2, \"qty_sold\": 10, \"nbre_commande\": 9, \"product_marge\": 7389.0, \"order_recency\": 6, \"order_seniority\": 112, \"stock\": 25, \"Segments\": \"Cold\"}, {\"ID\": 7828, \"view_item_list_1d\": 1411, \"view_item_list_7d\": 10326, \"view_item_list_30d\": 45062, \"view_item_1d\": 116, \"view_item_7d\": 916, \"view_item_30d\": 2861, \"add_to_cart_1d\": 1, \"add_to_cart_7d\": 12, \"add_to_cart_30d\": 54, \"begin_checkout_1d\": 0, \"begin_checkout_7d\": 12, \"begin_checkout_30d\": 37, \"purchase_1d\": 0, \"purchase_7d\": 4, \"purchase_30d\": 10, \"qty_sold\": 51, \"nbre_commande\": 49, \"product_marge\": 11271.0, \"order_recency\": 2, \"order_seniority\": 145, \"stock\": 5, \"Segments\": \"Hot Old\"}, {\"ID\": 7829, \"view_item_list_1d\": 726, \"view_item_list_7d\": 4408, \"view_item_list_30d\": 23640, \"view_item_1d\": 23, \"view_item_7d\": 105, \"view_item_30d\": 371, \"add_to_cart_1d\": 2, \"add_to_cart_7d\": 3, \"add_to_cart_30d\": 13, \"begin_checkout_1d\": 0, \"begin_checkout_7d\": 0, \"begin_checkout_30d\": 1, \"purchase_1d\": 0, \"purchase_7d\": 0, \"purchase_30d\": 0, \"qty_sold\": 17, \"nbre_commande\": 17, \"product_marge\": 2482.0, \"order_recency\": 34, \"order_seniority\": 128, \"stock\": 95, \"Segments\": \"Cold\"}, {\"ID\": 7830, \"view_item_list_1d\": 1274, \"view_item_list_7d\": 9342, \"view_item_list_30d\": 40559, \"view_item_1d\": 2152, \"view_item_7d\": 10657, \"view_item_30d\": 19145, \"add_to_cart_1d\": 6, \"add_to_cart_7d\": 49, \"add_to_cart_30d\": 141, \"begin_checkout_1d\": 5, \"begin_checkout_7d\": 32, \"begin_checkout_30d\": 104, \"purchase_1d\": 1, \"purchase_7d\": 8, \"purchase_30d\": 16, \"qty_sold\": 136, \"nbre_commande\": 136, \"product_marge\": 25568.0, \"order_recency\": 1, \"order_seniority\": 188, \"stock\": 64, \"Segments\": \"Top Hot\"}, {\"ID\": 7831, \"view_item_list_1d\": 855, \"view_item_list_7d\": 5419, \"view_item_list_30d\": 22359, \"view_item_1d\": 126, \"view_item_7d\": 1290, \"view_item_30d\": 2584, \"add_to_cart_1d\": 0, \"add_to_cart_7d\": 25, \"add_to_cart_30d\": 101, \"begin_checkout_1d\": 2, \"begin_checkout_7d\": 19, \"begin_checkout_30d\": 112, \"purchase_1d\": 1, \"purchase_7d\": 4, \"purchase_30d\": 20, \"qty_sold\": 107, \"nbre_commande\": 106, \"product_marge\": 15622.0, \"order_recency\": 1, \"order_seniority\": 187, \"stock\": 62, \"Segments\": \"Hot Old\"}, {\"ID\": 7832, \"view_item_list_1d\": 560, \"view_item_list_7d\": 3774, \"view_item_list_30d\": 19166, \"view_item_1d\": 150, \"view_item_7d\": 770, \"view_item_30d\": 2882, \"add_to_cart_1d\": 2, \"add_to_cart_7d\": 9, \"add_to_cart_30d\": 63, \"begin_checkout_1d\": 3, \"begin_checkout_7d\": 6, \"begin_checkout_30d\": 80, \"purchase_1d\": 1, \"purchase_7d\": 1, \"purchase_30d\": 12, \"qty_sold\": 36, \"nbre_commande\": 32, \"product_marge\": 7956.0, \"order_recency\": 1, \"order_seniority\": 162, \"stock\": 28, \"Segments\": \"Hot Old\"}, {\"ID\": 7856, \"view_item_list_1d\": 866, \"view_item_list_7d\": 5825, \"view_item_list_30d\": 36735, \"view_item_1d\": 7, \"view_item_7d\": 86, \"view_item_30d\": 350, \"add_to_cart_1d\": 0, \"add_to_cart_7d\": 1, \"add_to_cart_30d\": 4, \"begin_checkout_1d\": 0, \"begin_checkout_7d\": 0, \"begin_checkout_30d\": 2, \"purchase_1d\": 0, \"purchase_7d\": 0, \"purchase_30d\": 0, \"qty_sold\": 2, \"nbre_commande\": 2, \"product_marge\": 1326.0, \"order_recency\": 156, \"order_seniority\": 164, \"stock\": 75, \"Segments\": \"Cold\"}, {\"ID\": 7858, \"view_item_list_1d\": 1111, \"view_item_list_7d\": 7328, \"view_item_list_30d\": 39449, \"view_item_1d\": 26, \"view_item_7d\": 325, \"view_item_30d\": 2648, \"add_to_cart_1d\": 1, \"add_to_cart_7d\": 7, \"add_to_cart_30d\": 30, \"begin_checkout_1d\": 2, \"begin_checkout_7d\": 10, \"begin_checkout_30d\": 30, \"purchase_1d\": 0, \"purchase_7d\": 0, \"purchase_30d\": 3, \"qty_sold\": 21, \"nbre_commande\": 21, \"product_marge\": 2016.0, \"order_recency\": 17, \"order_seniority\": 184, \"stock\": 8, \"Segments\": \"Cold\"}, {\"ID\": 7859, \"view_item_list_1d\": 1166, \"view_item_list_7d\": 8468, \"view_item_list_30d\": 46366, \"view_item_1d\": 30, \"view_item_7d\": 180, \"view_item_30d\": 949, \"add_to_cart_1d\": 0, \"add_to_cart_7d\": 3, \"add_to_cart_30d\": 9, \"begin_checkout_1d\": 0, \"begin_checkout_7d\": 0, \"begin_checkout_30d\": 0, \"purchase_1d\": 0, \"purchase_7d\": 0, \"purchase_30d\": 0, \"qty_sold\": 7, \"nbre_commande\": 6, \"product_marge\": 4578.0, \"order_recency\": 124, \"order_seniority\": 177, \"stock\": 116, \"Segments\": \"Cold\"}, {\"ID\": 7860, \"view_item_list_1d\": 954, \"view_item_list_7d\": 5783, \"view_item_list_30d\": 34837, \"view_item_1d\": 14, \"view_item_7d\": 134, \"view_item_30d\": 568, \"add_to_cart_1d\": 0, \"add_to_cart_7d\": 9, \"add_to_cart_30d\": 40, \"begin_checkout_1d\": 0, \"begin_checkout_7d\": 8, \"begin_checkout_30d\": 52, \"purchase_1d\": 0, \"purchase_7d\": 1, \"purchase_30d\": 6, \"qty_sold\": 27, \"nbre_commande\": 26, \"product_marge\": 7776.0, \"order_recency\": 7, \"order_seniority\": 178, \"stock\": 22, \"Segments\": \"Hot Old\"}, {\"ID\": 7861, \"view_item_list_1d\": 1162, \"view_item_list_7d\": 7117, \"view_item_list_30d\": 41643, \"view_item_1d\": 26, \"view_item_7d\": 236, \"view_item_30d\": 967, \"add_to_cart_1d\": 0, \"add_to_cart_7d\": 9, \"add_to_cart_30d\": 31, \"begin_checkout_1d\": 0, \"begin_checkout_7d\": 9, \"begin_checkout_30d\": 33, \"purchase_1d\": 0, \"purchase_7d\": 2, \"purchase_30d\": 2, \"qty_sold\": 12, \"nbre_commande\": 12, \"product_marge\": 4548.0, \"order_recency\": 3, \"order_seniority\": 178, \"stock\": 110, \"Segments\": \"Cold\"}, {\"ID\": 7864, \"view_item_list_1d\": 2225, \"view_item_list_7d\": 12253, \"view_item_list_30d\": 51378, \"view_item_1d\": 50, \"view_item_7d\": 231, \"view_item_30d\": 1216, \"add_to_cart_1d\": 10, \"add_to_cart_7d\": 19, \"add_to_cart_30d\": 55, \"begin_checkout_1d\": 30, \"begin_checkout_7d\": 42, \"begin_checkout_30d\": 88, \"purchase_1d\": 1, \"purchase_7d\": 3, \"purchase_30d\": 9, \"qty_sold\": 13, \"nbre_commande\": 13, \"product_marge\": 2002.0, \"order_recency\": 1, \"order_seniority\": 39, \"stock\": 19, \"Segments\": \"Medium Hot\"}, {\"ID\": 7865, \"view_item_list_1d\": 4458, \"view_item_list_7d\": 32009, \"view_item_list_30d\": 126885, \"view_item_1d\": 42, \"view_item_7d\": 359, \"view_item_30d\": 1876, \"add_to_cart_1d\": 1, \"add_to_cart_7d\": 13, \"add_to_cart_30d\": 67, \"begin_checkout_1d\": 0, \"begin_checkout_7d\": 14, \"begin_checkout_30d\": 60, \"purchase_1d\": 0, \"purchase_7d\": 2, \"purchase_30d\": 12, \"qty_sold\": 17, \"nbre_commande\": 17, \"product_marge\": 3621.0, \"order_recency\": 5, \"order_seniority\": 40, \"stock\": 19, \"Segments\": \"Medium Hot\"}, {\"ID\": 7866, \"view_item_list_1d\": 5200, \"view_item_list_7d\": 28340, \"view_item_list_30d\": 103111, \"view_item_1d\": 116, \"view_item_7d\": 555, \"view_item_30d\": 2073, \"add_to_cart_1d\": 2, \"add_to_cart_7d\": 13, \"add_to_cart_30d\": 69, \"begin_checkout_1d\": 3, \"begin_checkout_7d\": 11, \"begin_checkout_30d\": 45, \"purchase_1d\": 1, \"purchase_7d\": 3, \"purchase_30d\": 8, \"qty_sold\": 22, \"nbre_commande\": 22, \"product_marge\": 7238.0, \"order_recency\": 1, \"order_seniority\": 57, \"stock\": 12, \"Segments\": \"Medium Hot\"}, {\"ID\": 7870, \"view_item_list_1d\": 994, \"view_item_list_7d\": 6196, \"view_item_list_30d\": 28558, \"view_item_1d\": 30, \"view_item_7d\": 164, \"view_item_30d\": 891, \"add_to_cart_1d\": 1, \"add_to_cart_7d\": 3, \"add_to_cart_30d\": 31, \"begin_checkout_1d\": 2, \"begin_checkout_7d\": 9, \"begin_checkout_30d\": 41, \"purchase_1d\": 0, \"purchase_7d\": 0, \"purchase_30d\": 6, \"qty_sold\": 19, \"nbre_commande\": 19, \"product_marge\": 4674.0, \"order_recency\": 9, \"order_seniority\": 90, \"stock\": 49, \"Segments\": \"Cold\"}, {\"ID\": 7871, \"view_item_list_1d\": 1298, \"view_item_list_7d\": 7721, \"view_item_list_30d\": 36561, \"view_item_1d\": 42, \"view_item_7d\": 218, \"view_item_30d\": 1384, \"add_to_cart_1d\": 0, \"add_to_cart_7d\": 2, \"add_to_cart_30d\": 24, \"begin_checkout_1d\": 0, \"begin_checkout_7d\": 0, \"begin_checkout_30d\": 46, \"purchase_1d\": 0, \"purchase_7d\": 0, \"purchase_30d\": 4, \"qty_sold\": 13, \"nbre_commande\": 13, \"product_marge\": 3198.0, \"order_recency\": 9, \"order_seniority\": 95, \"stock\": 30, \"Segments\": \"Cold\"}, {\"ID\": 7872, \"view_item_list_1d\": 2069, \"view_item_list_7d\": 14898, \"view_item_list_30d\": 90372, \"view_item_1d\": 38, \"view_item_7d\": 257, \"view_item_30d\": 1562, \"add_to_cart_1d\": 0, \"add_to_cart_7d\": 0, \"add_to_cart_30d\": 27, \"begin_checkout_1d\": 0, \"begin_checkout_7d\": 0, \"begin_checkout_30d\": 35, \"purchase_1d\": 0, \"purchase_7d\": 0, \"purchase_30d\": 4, \"qty_sold\": 4, \"nbre_commande\": 4, \"product_marge\": 984.0, \"order_recency\": 8, \"order_seniority\": 25, \"stock\": 22, \"Segments\": \"Cold\"}, {\"ID\": 7873, \"view_item_list_1d\": 2785, \"view_item_list_7d\": 14238, \"view_item_list_30d\": 53054, \"view_item_1d\": 93, \"view_item_7d\": 344, \"view_item_30d\": 1454, \"add_to_cart_1d\": 0, \"add_to_cart_7d\": 2, \"add_to_cart_30d\": 17, \"begin_checkout_1d\": 0, \"begin_checkout_7d\": 2, \"begin_checkout_30d\": 17, \"purchase_1d\": 0, \"purchase_7d\": 0, \"purchase_30d\": 2, \"qty_sold\": 5, \"nbre_commande\": 5, \"product_marge\": 1230.0, \"order_recency\": 18, \"order_seniority\": 60, \"stock\": 40, \"Segments\": \"Cold\"}, {\"ID\": 7879, \"view_item_list_1d\": 990, \"view_item_list_7d\": 5927, \"view_item_list_30d\": 28008, \"view_item_1d\": 9, \"view_item_7d\": 32, \"view_item_30d\": 242, \"add_to_cart_1d\": 0, \"add_to_cart_7d\": 2, \"add_to_cart_30d\": 12, \"begin_checkout_1d\": 0, \"begin_checkout_7d\": 2, \"begin_checkout_30d\": 21, \"purchase_1d\": 0, \"purchase_7d\": 0, \"purchase_30d\": 2, \"qty_sold\": 10, \"nbre_commande\": 9, \"product_marge\": 2460.0, \"order_recency\": 23, \"order_seniority\": 93, \"stock\": 26, \"Segments\": \"Cold\"}, {\"ID\": 7882, \"view_item_list_1d\": 1327, \"view_item_list_7d\": 7612, \"view_item_list_30d\": 36091, \"view_item_1d\": 9, \"view_item_7d\": 214, \"view_item_30d\": 806, \"add_to_cart_1d\": 0, \"add_to_cart_7d\": 2, \"add_to_cart_30d\": 5, \"begin_checkout_1d\": 0, \"begin_checkout_7d\": 8, \"begin_checkout_30d\": 19, \"purchase_1d\": 0, \"purchase_7d\": 0, \"purchase_30d\": 1, \"qty_sold\": 5, \"nbre_commande\": 5, \"product_marge\": 1230.0, \"order_recency\": 2, \"order_seniority\": 94, \"stock\": 17, \"Segments\": \"Cold\"}, {\"ID\": 7883, \"view_item_list_1d\": 3232, \"view_item_list_7d\": 15658, \"view_item_list_30d\": 54829, \"view_item_1d\": 43, \"view_item_7d\": 280, \"view_item_30d\": 1259, \"add_to_cart_1d\": 0, \"add_to_cart_7d\": 10, \"add_to_cart_30d\": 43, \"begin_checkout_1d\": 0, \"begin_checkout_7d\": 17, \"begin_checkout_30d\": 48, \"purchase_1d\": 0, \"purchase_7d\": 4, \"purchase_30d\": 7, \"qty_sold\": 17, \"nbre_commande\": 17, \"product_marge\": 4182.0, \"order_recency\": 2, \"order_seniority\": 91, \"stock\": 8, \"Segments\": \"Hot Old\"}, {\"ID\": 7884, \"view_item_list_1d\": 3363, \"view_item_list_7d\": 19940, \"view_item_list_30d\": 99804, \"view_item_1d\": 22, \"view_item_7d\": 298, \"view_item_30d\": 1206, \"add_to_cart_1d\": 0, \"add_to_cart_7d\": 6, \"add_to_cart_30d\": 23, \"begin_checkout_1d\": 0, \"begin_checkout_7d\": 29, \"begin_checkout_30d\": 32, \"purchase_1d\": 0, \"purchase_7d\": 0, \"purchase_30d\": 1, \"qty_sold\": 3, \"nbre_commande\": 3, \"product_marge\": 738.0, \"order_recency\": 30, \"order_seniority\": 38, \"stock\": 42, \"Segments\": \"Medium Hot\"}, {\"ID\": 7885, \"view_item_list_1d\": 3462, \"view_item_list_7d\": 17421, \"view_item_list_30d\": 66861, \"view_item_1d\": 40, \"view_item_7d\": 255, \"view_item_30d\": 1022, \"add_to_cart_1d\": 1, \"add_to_cart_7d\": 11, \"add_to_cart_30d\": 33, \"begin_checkout_1d\": 0, \"begin_checkout_7d\": 24, \"begin_checkout_30d\": 52, \"purchase_1d\": 0, \"purchase_7d\": 2, \"purchase_30d\": 5, \"qty_sold\": 10, \"nbre_commande\": 9, \"product_marge\": 2460.0, \"order_recency\": 2, \"order_seniority\": 54, \"stock\": 15, \"Segments\": \"Medium Hot\"}, {\"ID\": 7894, \"view_item_list_1d\": 1349, \"view_item_list_7d\": 9066, \"view_item_list_30d\": 42169, \"view_item_1d\": 12, \"view_item_7d\": 41, \"view_item_30d\": 184, \"add_to_cart_1d\": 0, \"add_to_cart_7d\": 0, \"add_to_cart_30d\": 7, \"begin_checkout_1d\": 0, \"begin_checkout_7d\": 0, \"begin_checkout_30d\": 3, \"purchase_1d\": 0, \"purchase_7d\": 0, \"purchase_30d\": 0, \"qty_sold\": 4, \"nbre_commande\": 4, \"product_marge\": 652.0, \"order_recency\": 42, \"order_seniority\": 58, \"stock\": 50, \"Segments\": \"Cold\"}, {\"ID\": 7896, \"view_item_list_1d\": 1799, \"view_item_list_7d\": 11376, \"view_item_list_30d\": 49753, \"view_item_1d\": 18, \"view_item_7d\": 139, \"view_item_30d\": 645, \"add_to_cart_1d\": 1, \"add_to_cart_7d\": 4, \"add_to_cart_30d\": 21, \"begin_checkout_1d\": 2, \"begin_checkout_7d\": 4, \"begin_checkout_30d\": 17, \"purchase_1d\": 0, \"purchase_7d\": 0, \"purchase_30d\": 2, \"qty_sold\": 14, \"nbre_commande\": 14, \"product_marge\": 3332.0, \"order_recency\": 14, \"order_seniority\": 74, \"stock\": 19, \"Segments\": \"Cold\"}, {\"ID\": 7899, \"view_item_list_1d\": 2269, \"view_item_list_7d\": 15027, \"view_item_list_30d\": 88802, \"view_item_1d\": 23, \"view_item_7d\": 162, \"view_item_30d\": 934, \"add_to_cart_1d\": 0, \"add_to_cart_7d\": 1, \"add_to_cart_30d\": 12, \"begin_checkout_1d\": 0, \"begin_checkout_7d\": 1, \"begin_checkout_30d\": 4, \"purchase_1d\": 0, \"purchase_7d\": 0, \"purchase_30d\": 1, \"qty_sold\": 2, \"nbre_commande\": 2, \"product_marge\": 808.0, \"order_recency\": 15, \"order_seniority\": 40, \"stock\": 30, \"Segments\": \"Cold\"}, {\"ID\": 7902, \"view_item_list_1d\": 3236, \"view_item_list_7d\": 22237, \"view_item_list_30d\": 93297, \"view_item_1d\": 172, \"view_item_7d\": 1232, \"view_item_30d\": 5270, \"add_to_cart_1d\": 0, \"add_to_cart_7d\": 8, \"add_to_cart_30d\": 43, \"begin_checkout_1d\": 0, \"begin_checkout_7d\": 13, \"begin_checkout_30d\": 39, \"purchase_1d\": 0, \"purchase_7d\": 0, \"purchase_30d\": 2, \"qty_sold\": 23, \"nbre_commande\": 22, \"product_marge\": 9499.0, \"order_recency\": 18, \"order_seniority\": 77, \"stock\": 19, \"Segments\": \"Medium Hot\"}, {\"ID\": 7903, \"view_item_list_1d\": 3616, \"view_item_list_7d\": 28139, \"view_item_list_30d\": 140338, \"view_item_1d\": 176, \"view_item_7d\": 1149, \"view_item_30d\": 4951, \"add_to_cart_1d\": 1, \"add_to_cart_7d\": 14, \"add_to_cart_30d\": 83, \"begin_checkout_1d\": 0, \"begin_checkout_7d\": 7, \"begin_checkout_30d\": 53, \"purchase_1d\": 0, \"purchase_7d\": 2, \"purchase_30d\": 7, \"qty_sold\": 11, \"nbre_commande\": 11, \"product_marge\": 4543.0, \"order_recency\": 5, \"order_seniority\": 37, \"stock\": 38, \"Segments\": \"Medium Hot\"}, {\"ID\": 7904, \"view_item_list_1d\": 1726, \"view_item_list_7d\": 10411, \"view_item_list_30d\": 48816, \"view_item_1d\": 32, \"view_item_7d\": 212, \"view_item_30d\": 926, \"add_to_cart_1d\": 1, \"add_to_cart_7d\": 5, \"add_to_cart_30d\": 33, \"begin_checkout_1d\": 0, \"begin_checkout_7d\": 9, \"begin_checkout_30d\": 29, \"purchase_1d\": 0, \"purchase_7d\": 0, \"purchase_30d\": 4, \"qty_sold\": 35, \"nbre_commande\": 35, \"product_marge\": 8610.0, \"order_recency\": 8, \"order_seniority\": 78, \"stock\": 16, \"Segments\": \"Hot Old\"}, {\"ID\": 7908, \"view_item_list_1d\": 2219, \"view_item_list_7d\": 16443, \"view_item_list_30d\": 69802, \"view_item_1d\": 16, \"view_item_7d\": 195, \"view_item_30d\": 770, \"add_to_cart_1d\": 0, \"add_to_cart_7d\": 2, \"add_to_cart_30d\": 33, \"begin_checkout_1d\": 0, \"begin_checkout_7d\": 15, \"begin_checkout_30d\": 16, \"purchase_1d\": 0, \"purchase_7d\": 1, \"purchase_30d\": 1, \"qty_sold\": 5, \"nbre_commande\": 5, \"product_marge\": 1940.0, \"order_recency\": 3, \"order_seniority\": 75, \"stock\": 48, \"Segments\": \"Cold\"}, {\"ID\": 7925, \"view_item_list_1d\": 1754, \"view_item_list_7d\": 10977, \"view_item_list_30d\": 50702, \"view_item_1d\": 23, \"view_item_7d\": 223, \"view_item_30d\": 857, \"add_to_cart_1d\": 1, \"add_to_cart_7d\": 4, \"add_to_cart_30d\": 41, \"begin_checkout_1d\": 1, \"begin_checkout_7d\": 3, \"begin_checkout_30d\": 18, \"purchase_1d\": 0, \"purchase_7d\": 0, \"purchase_30d\": 4, \"qty_sold\": 26, \"nbre_commande\": 26, \"product_marge\": 3588.0, \"order_recency\": 8, \"order_seniority\": 61, \"stock\": 51, \"Segments\": \"Cold\"}, {\"ID\": 7926, \"view_item_list_1d\": 4068, \"view_item_list_7d\": 19859, \"view_item_list_30d\": 72005, \"view_item_1d\": 128, \"view_item_7d\": 583, \"view_item_30d\": 2364, \"add_to_cart_1d\": 4, \"add_to_cart_7d\": 15, \"add_to_cart_30d\": 82, \"begin_checkout_1d\": 1, \"begin_checkout_7d\": 9, \"begin_checkout_30d\": 49, \"purchase_1d\": 0, \"purchase_7d\": 2, \"purchase_30d\": 11, \"qty_sold\": 34, \"nbre_commande\": 34, \"product_marge\": 4692.0, \"order_recency\": 5, \"order_seniority\": 61, \"stock\": 59, \"Segments\": \"Medium Hot\"}, {\"ID\": 7930, \"view_item_list_1d\": 3639, \"view_item_list_7d\": 28856, \"view_item_list_30d\": 126719, \"view_item_1d\": 261, \"view_item_7d\": 2398, \"view_item_30d\": 5843, \"add_to_cart_1d\": 4, \"add_to_cart_7d\": 42, \"add_to_cart_30d\": 81, \"begin_checkout_1d\": 3, \"begin_checkout_7d\": 25, \"begin_checkout_30d\": 72, \"purchase_1d\": 1, \"purchase_7d\": 4, \"purchase_30d\": 11, \"qty_sold\": 18, \"nbre_commande\": 18, \"product_marge\": 4284.0, \"order_recency\": 1, \"order_seniority\": 59, \"stock\": 103, \"Segments\": \"Medium Hot\"}, {\"ID\": 7935, \"view_item_list_1d\": 3521, \"view_item_list_7d\": 25134, \"view_item_list_30d\": 101097, \"view_item_1d\": 222, \"view_item_7d\": 1317, \"view_item_30d\": 4944, \"add_to_cart_1d\": 4, \"add_to_cart_7d\": 20, \"add_to_cart_30d\": 66, \"begin_checkout_1d\": 4, \"begin_checkout_7d\": 10, \"begin_checkout_30d\": 48, \"purchase_1d\": 1, \"purchase_7d\": 2, \"purchase_30d\": 9, \"qty_sold\": 24, \"nbre_commande\": 24, \"product_marge\": 5112.0, \"order_recency\": 1, \"order_seniority\": 60, \"stock\": 43, \"Segments\": \"Medium Hot\"}, {\"ID\": 7936, \"view_item_list_1d\": 5558, \"view_item_list_7d\": 34506, \"view_item_list_30d\": 125967, \"view_item_1d\": 369, \"view_item_7d\": 2179, \"view_item_30d\": 7664, \"add_to_cart_1d\": 1, \"add_to_cart_7d\": 32, \"add_to_cart_30d\": 112, \"begin_checkout_1d\": 4, \"begin_checkout_7d\": 30, \"begin_checkout_30d\": 111, \"purchase_1d\": 0, \"purchase_7d\": 3, \"purchase_30d\": 15, \"qty_sold\": 46, \"nbre_commande\": 44, \"product_marge\": 9798.0, \"order_recency\": 2, \"order_seniority\": 61, \"stock\": 15, \"Segments\": \"Medium Hot\"}, {\"ID\": 7938, \"view_item_list_1d\": 2272, \"view_item_list_7d\": 15919, \"view_item_list_30d\": 64349, \"view_item_1d\": 186, \"view_item_7d\": 1704, \"view_item_30d\": 7100, \"add_to_cart_1d\": 5, \"add_to_cart_7d\": 21, \"add_to_cart_30d\": 92, \"begin_checkout_1d\": 10, \"begin_checkout_7d\": 27, \"begin_checkout_30d\": 75, \"purchase_1d\": 1, \"purchase_7d\": 2, \"purchase_30d\": 13, \"qty_sold\": 69, \"nbre_commande\": 68, \"product_marge\": 14697.0, \"order_recency\": 1, \"order_seniority\": 77, \"stock\": 2, \"Segments\": \"Medium Hot\"}, {\"ID\": 7943, \"view_item_list_1d\": 2628, \"view_item_list_7d\": 14406, \"view_item_list_30d\": 69948, \"view_item_1d\": 63, \"view_item_7d\": 270, \"view_item_30d\": 1269, \"add_to_cart_1d\": 3, \"add_to_cart_7d\": 16, \"add_to_cart_30d\": 54, \"begin_checkout_1d\": 4, \"begin_checkout_7d\": 13, \"begin_checkout_30d\": 44, \"purchase_1d\": 1, \"purchase_7d\": 2, \"purchase_30d\": 9, \"qty_sold\": 24, \"nbre_commande\": 24, \"product_marge\": 3696.0, \"order_recency\": 1, \"order_seniority\": 61, \"stock\": 27, \"Segments\": \"Medium Hot\"}, {\"ID\": 7955, \"view_item_list_1d\": 3160, \"view_item_list_7d\": 24127, \"view_item_list_30d\": 104910, \"view_item_1d\": 81, \"view_item_7d\": 565, \"view_item_30d\": 1963, \"add_to_cart_1d\": 4, \"add_to_cart_7d\": 16, \"add_to_cart_30d\": 79, \"begin_checkout_1d\": 4, \"begin_checkout_7d\": 18, \"begin_checkout_30d\": 48, \"purchase_1d\": 1, \"purchase_7d\": 3, \"purchase_30d\": 10, \"qty_sold\": 28, \"nbre_commande\": 28, \"product_marge\": 6888.0, \"order_recency\": 1, \"order_seniority\": 61, \"stock\": 15, \"Segments\": \"Medium Hot\"}, {\"ID\": 7956, \"view_item_list_1d\": 4815, \"view_item_list_7d\": 26589, \"view_item_list_30d\": 98434, \"view_item_1d\": 52, \"view_item_7d\": 261, \"view_item_30d\": 1077, \"add_to_cart_1d\": 1, \"add_to_cart_7d\": 7, \"add_to_cart_30d\": 24, \"begin_checkout_1d\": 0, \"begin_checkout_7d\": 2, \"begin_checkout_30d\": 24, \"purchase_1d\": 0, \"purchase_7d\": 1, \"purchase_30d\": 1, \"qty_sold\": 7, \"nbre_commande\": 7, \"product_marge\": 1722.0, \"order_recency\": 6, \"order_seniority\": 61, \"stock\": 45, \"Segments\": \"Medium Hot\"}, {\"ID\": 7972, \"view_item_list_1d\": 2155, \"view_item_list_7d\": 15643, \"view_item_list_30d\": 66105, \"view_item_1d\": 165, \"view_item_7d\": 1081, \"view_item_30d\": 5188, \"add_to_cart_1d\": 1, \"add_to_cart_7d\": 6, \"add_to_cart_30d\": 82, \"begin_checkout_1d\": 5, \"begin_checkout_7d\": 20, \"begin_checkout_30d\": 92, \"purchase_1d\": 1, \"purchase_7d\": 2, \"purchase_30d\": 11, \"qty_sold\": 78, \"nbre_commande\": 78, \"product_marge\": 21138.0, \"order_recency\": 1, \"order_seniority\": 77, \"stock\": null, \"Segments\": \"Hot Old\"}, {\"ID\": 7975, \"view_item_list_1d\": 5089, \"view_item_list_7d\": 33266, \"view_item_list_30d\": 134737, \"view_item_1d\": 177, \"view_item_7d\": 1311, \"view_item_30d\": 6187, \"add_to_cart_1d\": 1, \"add_to_cart_7d\": 15, \"add_to_cart_30d\": 160, \"begin_checkout_1d\": 3, \"begin_checkout_7d\": 20, \"begin_checkout_30d\": 195, \"purchase_1d\": 0, \"purchase_7d\": 4, \"purchase_30d\": 33, \"qty_sold\": 43, \"nbre_commande\": 43, \"product_marge\": 10578.0, \"order_recency\": 3, \"order_seniority\": 40, \"stock\": 2, \"Segments\": \"Medium Hot\"}, {\"ID\": 7976, \"view_item_list_1d\": 672, \"view_item_list_7d\": 4730, \"view_item_list_30d\": 33087, \"view_item_1d\": 0, \"view_item_7d\": 51, \"view_item_30d\": 197, \"add_to_cart_1d\": 0, \"add_to_cart_7d\": 3, \"add_to_cart_30d\": 9, \"begin_checkout_1d\": 0, \"begin_checkout_7d\": 0, \"begin_checkout_30d\": 2, \"purchase_1d\": 0, \"purchase_7d\": 0, \"purchase_30d\": 0, \"qty_sold\": 2, \"nbre_commande\": 2, \"product_marge\": 992.0, \"order_recency\": 127, \"order_seniority\": 143, \"stock\": 91, \"Segments\": \"Cold\"}, {\"ID\": 7977, \"view_item_list_1d\": 875, \"view_item_list_7d\": 5369, \"view_item_list_30d\": 33044, \"view_item_1d\": 22, \"view_item_7d\": 158, \"view_item_30d\": 570, \"add_to_cart_1d\": 0, \"add_to_cart_7d\": 3, \"add_to_cart_30d\": 9, \"begin_checkout_1d\": 0, \"begin_checkout_7d\": 0, \"begin_checkout_30d\": 9, \"purchase_1d\": 0, \"purchase_7d\": 0, \"purchase_30d\": 0, \"qty_sold\": 18, \"nbre_commande\": 17, \"product_marge\": 8928.0, \"order_recency\": 30, \"order_seniority\": 145, \"stock\": 80, \"Segments\": \"Cold\"}, {\"ID\": 7980, \"view_item_list_1d\": 679, \"view_item_list_7d\": 4605, \"view_item_list_30d\": 20265, \"view_item_1d\": 19, \"view_item_7d\": 189, \"view_item_30d\": 792, \"add_to_cart_1d\": 0, \"add_to_cart_7d\": 1, \"add_to_cart_30d\": 8, \"begin_checkout_1d\": 0, \"begin_checkout_7d\": 0, \"begin_checkout_30d\": 13, \"purchase_1d\": 0, \"purchase_7d\": 0, \"purchase_30d\": 1, \"qty_sold\": 4, \"nbre_commande\": 4, \"product_marge\": 784.0, \"order_recency\": 27, \"order_seniority\": 41, \"stock\": 31, \"Segments\": \"Cold\"}, {\"ID\": 7981, \"view_item_list_1d\": 2436, \"view_item_list_7d\": 15962, \"view_item_list_30d\": 90236, \"view_item_1d\": 59, \"view_item_7d\": 488, \"view_item_30d\": 2291, \"add_to_cart_1d\": 0, \"add_to_cart_7d\": 19, \"add_to_cart_30d\": 70, \"begin_checkout_1d\": 0, \"begin_checkout_7d\": 23, \"begin_checkout_30d\": 84, \"purchase_1d\": 0, \"purchase_7d\": 5, \"purchase_30d\": 19, \"qty_sold\": 27, \"nbre_commande\": 27, \"product_marge\": 5292.0, \"order_recency\": 1, \"order_seniority\": 40, \"stock\": 23, \"Segments\": \"Medium Hot\"}, {\"ID\": 7982, \"view_item_list_1d\": 5067, \"view_item_list_7d\": 33370, \"view_item_list_30d\": 129812, \"view_item_1d\": 122, \"view_item_7d\": 879, \"view_item_30d\": 3410, \"add_to_cart_1d\": 3, \"add_to_cart_7d\": 21, \"add_to_cart_30d\": 64, \"begin_checkout_1d\": 1, \"begin_checkout_7d\": 14, \"begin_checkout_30d\": 65, \"purchase_1d\": 0, \"purchase_7d\": 1, \"purchase_30d\": 6, \"qty_sold\": 11, \"nbre_commande\": 11, \"product_marge\": 2519.0, \"order_recency\": 5, \"order_seniority\": 39, \"stock\": 31, \"Segments\": \"Medium Hot\"}, {\"ID\": 7983, \"view_item_list_1d\": 2180, \"view_item_list_7d\": 16329, \"view_item_list_30d\": 68346, \"view_item_1d\": 101, \"view_item_7d\": 603, \"view_item_30d\": 2579, \"add_to_cart_1d\": 0, \"add_to_cart_7d\": 5, \"add_to_cart_30d\": 21, \"begin_checkout_1d\": 0, \"begin_checkout_7d\": 7, \"begin_checkout_30d\": 23, \"purchase_1d\": 0, \"purchase_7d\": 3, \"purchase_30d\": 5, \"qty_sold\": 22, \"nbre_commande\": 22, \"product_marge\": 5038.0, \"order_recency\": 3, \"order_seniority\": 77, \"stock\": 33, \"Segments\": \"Hot Old\"}, {\"ID\": 7985, \"view_item_list_1d\": 3789, \"view_item_list_7d\": 26085, \"view_item_list_30d\": 109733, \"view_item_1d\": 103, \"view_item_7d\": 735, \"view_item_30d\": 2865, \"add_to_cart_1d\": 1, \"add_to_cart_7d\": 10, \"add_to_cart_30d\": 38, \"begin_checkout_1d\": 0, \"begin_checkout_7d\": 13, \"begin_checkout_30d\": 32, \"purchase_1d\": 0, \"purchase_7d\": 1, \"purchase_30d\": 2, \"qty_sold\": 12, \"nbre_commande\": 12, \"product_marge\": 2748.0, \"order_recency\": 7, \"order_seniority\": 57, \"stock\": 45, \"Segments\": \"Medium Hot\"}, {\"ID\": 7987, \"view_item_list_1d\": 1408, \"view_item_list_7d\": 8359, \"view_item_list_30d\": 39971, \"view_item_1d\": 8, \"view_item_7d\": 94, \"view_item_30d\": 386, \"add_to_cart_1d\": 0, \"add_to_cart_7d\": 6, \"add_to_cart_30d\": 10, \"begin_checkout_1d\": 0, \"begin_checkout_7d\": 7, \"begin_checkout_30d\": 15, \"purchase_1d\": 0, \"purchase_7d\": 2, \"purchase_30d\": 3, \"qty_sold\": 6, \"nbre_commande\": 6, \"product_marge\": 1128.0, \"order_recency\": 2, \"order_seniority\": 56, \"stock\": 62, \"Segments\": \"Cold\"}, {\"ID\": 7989, \"view_item_list_1d\": 2428, \"view_item_list_7d\": 14200, \"view_item_list_30d\": 64412, \"view_item_1d\": 18, \"view_item_7d\": 152, \"view_item_30d\": 529, \"add_to_cart_1d\": 0, \"add_to_cart_7d\": 9, \"add_to_cart_30d\": 35, \"begin_checkout_1d\": 0, \"begin_checkout_7d\": 4, \"begin_checkout_30d\": 28, \"purchase_1d\": 0, \"purchase_7d\": 1, \"purchase_30d\": 3, \"qty_sold\": 7, \"nbre_commande\": 7, \"product_marge\": 1316.0, \"order_recency\": 3, \"order_seniority\": 56, \"stock\": 67, \"Segments\": \"Cold\"}, {\"ID\": 7990, \"view_item_list_1d\": 1506, \"view_item_list_7d\": 9299, \"view_item_list_30d\": 42120, \"view_item_1d\": 61, \"view_item_7d\": 364, \"view_item_30d\": 1389, \"add_to_cart_1d\": 0, \"add_to_cart_7d\": 9, \"add_to_cart_30d\": 54, \"begin_checkout_1d\": 0, \"begin_checkout_7d\": 8, \"begin_checkout_30d\": 69, \"purchase_1d\": 0, \"purchase_7d\": 3, \"purchase_30d\": 10, \"qty_sold\": 30, \"nbre_commande\": 30, \"product_marge\": 4620.0, \"order_recency\": 4, \"order_seniority\": 77, \"stock\": 49, \"Segments\": \"Hot Old\"}, {\"ID\": 7991, \"view_item_list_1d\": 2171, \"view_item_list_7d\": 12628, \"view_item_list_30d\": 58757, \"view_item_1d\": 88, \"view_item_7d\": 373, \"view_item_30d\": 1691, \"add_to_cart_1d\": 7, \"add_to_cart_7d\": 16, \"add_to_cart_30d\": 71, \"begin_checkout_1d\": 4, \"begin_checkout_7d\": 18, \"begin_checkout_30d\": 119, \"purchase_1d\": 0, \"purchase_7d\": 3, \"purchase_30d\": 13, \"qty_sold\": 44, \"nbre_commande\": 41, \"product_marge\": 6468.0, \"order_recency\": 1, \"order_seniority\": 77, \"stock\": 39, \"Segments\": \"Medium Hot\"}, {\"ID\": 7992, \"view_item_list_1d\": 1369, \"view_item_list_7d\": 9048, \"view_item_list_30d\": 42468, \"view_item_1d\": 61, \"view_item_7d\": 272, \"view_item_30d\": 1101, \"add_to_cart_1d\": 3, \"add_to_cart_7d\": 17, \"add_to_cart_30d\": 85, \"begin_checkout_1d\": 2, \"begin_checkout_7d\": 16, \"begin_checkout_30d\": 60, \"purchase_1d\": 1, \"purchase_7d\": 3, \"purchase_30d\": 10, \"qty_sold\": 26, \"nbre_commande\": 26, \"product_marge\": 4004.0, \"order_recency\": 1, \"order_seniority\": 75, \"stock\": 24, \"Segments\": \"Hot Old\"}, {\"ID\": 7994, \"view_item_list_1d\": 2834, \"view_item_list_7d\": 19392, \"view_item_list_30d\": 83247, \"view_item_1d\": 182, \"view_item_7d\": 1597, \"view_item_30d\": 7541, \"add_to_cart_1d\": 0, \"add_to_cart_7d\": 0, \"add_to_cart_30d\": 22, \"begin_checkout_1d\": 1, \"begin_checkout_7d\": 1, \"begin_checkout_30d\": 14, \"purchase_1d\": 0, \"purchase_7d\": 0, \"purchase_30d\": 4, \"qty_sold\": 38, \"nbre_commande\": 38, \"product_marge\": 12502.0, \"order_recency\": 9, \"order_seniority\": 77, \"stock\": null, \"Segments\": \"Hot Old\"}, {\"ID\": 7995, \"view_item_list_1d\": 2479, \"view_item_list_7d\": 16163, \"view_item_list_30d\": 69023, \"view_item_1d\": 151, \"view_item_7d\": 1064, \"view_item_30d\": 9427, \"add_to_cart_1d\": 0, \"add_to_cart_7d\": 0, \"add_to_cart_30d\": 95, \"begin_checkout_1d\": 0, \"begin_checkout_7d\": 0, \"begin_checkout_30d\": 106, \"purchase_1d\": 0, \"purchase_7d\": 0, \"purchase_30d\": 13, \"qty_sold\": 41, \"nbre_commande\": 41, \"product_marge\": 13489.0, \"order_recency\": 9, \"order_seniority\": 76, \"stock\": null, \"Segments\": \"Hot Old\"}, {\"ID\": 7996, \"view_item_list_1d\": 2476, \"view_item_list_7d\": 17009, \"view_item_list_30d\": 73254, \"view_item_1d\": 130, \"view_item_7d\": 959, \"view_item_30d\": 3734, \"add_to_cart_1d\": 2, \"add_to_cart_7d\": 20, \"add_to_cart_30d\": 115, \"begin_checkout_1d\": 1, \"begin_checkout_7d\": 37, \"begin_checkout_30d\": 188, \"purchase_1d\": 0, \"purchase_7d\": 3, \"purchase_30d\": 27, \"qty_sold\": 52, \"nbre_commande\": 52, \"product_marge\": 12792.0, \"order_recency\": 2, \"order_seniority\": 77, \"stock\": 18, \"Segments\": \"Medium Hot\"}, {\"ID\": 7998, \"view_item_list_1d\": 2818, \"view_item_list_7d\": 18911, \"view_item_list_30d\": 82710, \"view_item_1d\": 103, \"view_item_7d\": 988, \"view_item_30d\": 4376, \"add_to_cart_1d\": 2, \"add_to_cart_7d\": 19, \"add_to_cart_30d\": 93, \"begin_checkout_1d\": 0, \"begin_checkout_7d\": 17, \"begin_checkout_30d\": 71, \"purchase_1d\": 0, \"purchase_7d\": 4, \"purchase_30d\": 18, \"qty_sold\": 48, \"nbre_commande\": 47, \"product_marge\": 11808.0, \"order_recency\": 2, \"order_seniority\": 77, \"stock\": 2, \"Segments\": \"Medium Hot\"}, {\"ID\": 7999, \"view_item_list_1d\": 1279, \"view_item_list_7d\": 7389, \"view_item_list_30d\": 37215, \"view_item_1d\": 24, \"view_item_7d\": 100, \"view_item_30d\": 518, \"add_to_cart_1d\": 2, \"add_to_cart_7d\": 2, \"add_to_cart_30d\": 22, \"begin_checkout_1d\": 3, \"begin_checkout_7d\": 6, \"begin_checkout_30d\": 8, \"purchase_1d\": 1, \"purchase_7d\": 1, \"purchase_30d\": 2, \"qty_sold\": 9, \"nbre_commande\": 9, \"product_marge\": 2142.0, \"order_recency\": 1, \"order_seniority\": 73, \"stock\": 36, \"Segments\": \"Cold\"}, {\"ID\": 8000, \"view_item_list_1d\": 1646, \"view_item_list_7d\": 10290, \"view_item_list_30d\": 47446, \"view_item_1d\": 14, \"view_item_7d\": 95, \"view_item_30d\": 357, \"add_to_cart_1d\": 1, \"add_to_cart_7d\": 2, \"add_to_cart_30d\": 13, \"begin_checkout_1d\": 1, \"begin_checkout_7d\": 1, \"begin_checkout_30d\": 5, \"purchase_1d\": 0, \"purchase_7d\": 0, \"purchase_30d\": 0, \"qty_sold\": 6, \"nbre_commande\": 6, \"product_marge\": 1278.0, \"order_recency\": 43, \"order_seniority\": 61, \"stock\": 120, \"Segments\": \"Cold\"}, {\"ID\": 8003, \"view_item_list_1d\": 993, \"view_item_list_7d\": 6383, \"view_item_list_30d\": 29304, \"view_item_1d\": 32, \"view_item_7d\": 257, \"view_item_30d\": 935, \"add_to_cart_1d\": 1, \"add_to_cart_7d\": 12, \"add_to_cart_30d\": 45, \"begin_checkout_1d\": 1, \"begin_checkout_7d\": 14, \"begin_checkout_30d\": 30, \"purchase_1d\": 0, \"purchase_7d\": 1, \"purchase_30d\": 4, \"qty_sold\": 28, \"nbre_commande\": 28, \"product_marge\": 6664.0, \"order_recency\": 7, \"order_seniority\": 95, \"stock\": 24, \"Segments\": \"Hot Old\"}, {\"ID\": 8004, \"view_item_list_1d\": 1413, \"view_item_list_7d\": 10481, \"view_item_list_30d\": 46487, \"view_item_1d\": 150, \"view_item_7d\": 722, \"view_item_30d\": 3401, \"add_to_cart_1d\": 0, \"add_to_cart_7d\": 7, \"add_to_cart_30d\": 36, \"begin_checkout_1d\": 0, \"begin_checkout_7d\": 0, \"begin_checkout_30d\": 27, \"purchase_1d\": 0, \"purchase_7d\": 0, \"purchase_30d\": 4, \"qty_sold\": 32, \"nbre_commande\": 30, \"product_marge\": 6816.0, \"order_recency\": 9, \"order_seniority\": 145, \"stock\": 65, \"Segments\": \"Hot Old\"}, {\"ID\": 8006, \"view_item_list_1d\": 1432, \"view_item_list_7d\": 10125, \"view_item_list_30d\": 47384, \"view_item_1d\": 71, \"view_item_7d\": 539, \"view_item_30d\": 1695, \"add_to_cart_1d\": 2, \"add_to_cart_7d\": 12, \"add_to_cart_30d\": 40, \"begin_checkout_1d\": 0, \"begin_checkout_7d\": 8, \"begin_checkout_30d\": 41, \"purchase_1d\": 0, \"purchase_7d\": 1, \"purchase_30d\": 7, \"qty_sold\": 36, \"nbre_commande\": 36, \"product_marge\": 5868.0, \"order_recency\": 6, \"order_seniority\": 144, \"stock\": 20, \"Segments\": \"Hot Old\"}, {\"ID\": 8007, \"view_item_list_1d\": 1236, \"view_item_list_7d\": 8536, \"view_item_list_30d\": 37953, \"view_item_1d\": 71, \"view_item_7d\": 540, \"view_item_30d\": 2078, \"add_to_cart_1d\": 3, \"add_to_cart_7d\": 10, \"add_to_cart_30d\": 44, \"begin_checkout_1d\": 0, \"begin_checkout_7d\": 3, \"begin_checkout_30d\": 28, \"purchase_1d\": 0, \"purchase_7d\": 1, \"purchase_30d\": 7, \"qty_sold\": 36, \"nbre_commande\": 36, \"product_marge\": 5868.0, \"order_recency\": 6, \"order_seniority\": 162, \"stock\": 30, \"Segments\": \"Hot Old\"}, {\"ID\": 8010, \"view_item_list_1d\": 2309, \"view_item_list_7d\": 15247, \"view_item_list_30d\": 82086, \"view_item_1d\": 44, \"view_item_7d\": 350, \"view_item_30d\": 1633, \"add_to_cart_1d\": 1, \"add_to_cart_7d\": 7, \"add_to_cart_30d\": 68, \"begin_checkout_1d\": 0, \"begin_checkout_7d\": 14, \"begin_checkout_30d\": 70, \"purchase_1d\": 0, \"purchase_7d\": 1, \"purchase_30d\": 13, \"qty_sold\": 22, \"nbre_commande\": 22, \"product_marge\": 3586.0, \"order_recency\": 7, \"order_seniority\": 39, \"stock\": 10, \"Segments\": \"Medium Hot\"}, {\"ID\": 8011, \"view_item_list_1d\": 450, \"view_item_list_7d\": 2825, \"view_item_list_30d\": 14429, \"view_item_1d\": 16, \"view_item_7d\": 89, \"view_item_30d\": 311, \"add_to_cart_1d\": 2, \"add_to_cart_7d\": 3, \"add_to_cart_30d\": 8, \"begin_checkout_1d\": 6, \"begin_checkout_7d\": 6, \"begin_checkout_30d\": 15, \"purchase_1d\": 1, \"purchase_7d\": 1, \"purchase_30d\": 2, \"qty_sold\": 22, \"nbre_commande\": 13, \"product_marge\": 1248.0, \"order_recency\": 1, \"order_seniority\": 139, \"stock\": 38, \"Segments\": \"Cold\"}, {\"ID\": 8015, \"view_item_list_1d\": 1510, \"view_item_list_7d\": 9126, \"view_item_list_30d\": 42250, \"view_item_1d\": 156, \"view_item_7d\": 693, \"view_item_30d\": 2350, \"add_to_cart_1d\": 4, \"add_to_cart_7d\": 14, \"add_to_cart_30d\": 54, \"begin_checkout_1d\": 10, \"begin_checkout_7d\": 14, \"begin_checkout_30d\": 31, \"purchase_1d\": 0, \"purchase_7d\": 0, \"purchase_30d\": 2, \"qty_sold\": 21, \"nbre_commande\": 20, \"product_marge\": 5691.0, \"order_recency\": 14, \"order_seniority\": 93, \"stock\": 31, \"Segments\": \"Hot Old\"}, {\"ID\": 8016, \"view_item_list_1d\": 2258, \"view_item_list_7d\": 16298, \"view_item_list_30d\": 68742, \"view_item_1d\": 56, \"view_item_7d\": 451, \"view_item_30d\": 1744, \"add_to_cart_1d\": 2, \"add_to_cart_7d\": 17, \"add_to_cart_30d\": 52, \"begin_checkout_1d\": 4, \"begin_checkout_7d\": 33, \"begin_checkout_30d\": 65, \"purchase_1d\": 0, \"purchase_7d\": 2, \"purchase_30d\": 3, \"qty_sold\": 37, \"nbre_commande\": 37, \"product_marge\": 8177.0, \"order_recency\": 4, \"order_seniority\": 95, \"stock\": 55, \"Segments\": \"Hot Old\"}, {\"ID\": 8019, \"view_item_list_1d\": 444, \"view_item_list_7d\": 2914, \"view_item_list_30d\": 12866, \"view_item_1d\": 27, \"view_item_7d\": 156, \"view_item_30d\": 788, \"add_to_cart_1d\": 1, \"add_to_cart_7d\": 9, \"add_to_cart_30d\": 60, \"begin_checkout_1d\": 0, \"begin_checkout_7d\": 6, \"begin_checkout_30d\": 47, \"purchase_1d\": 0, \"purchase_7d\": 1, \"purchase_30d\": 5, \"qty_sold\": 14, \"nbre_commande\": 14, \"product_marge\": 3444.0, \"order_recency\": 7, \"order_seniority\": 41, \"stock\": 2, \"Segments\": \"Cold\"}, {\"ID\": 8021, \"view_item_list_1d\": 2196, \"view_item_list_7d\": 14673, \"view_item_list_30d\": 85630, \"view_item_1d\": 186, \"view_item_7d\": 937, \"view_item_30d\": 6022, \"add_to_cart_1d\": 4, \"add_to_cart_7d\": 4, \"add_to_cart_30d\": 55, \"begin_checkout_1d\": 11, \"begin_checkout_7d\": 11, \"begin_checkout_30d\": 90, \"purchase_1d\": 1, \"purchase_7d\": 1, \"purchase_30d\": 16, \"qty_sold\": 37, \"nbre_commande\": 36, \"product_marge\": 8177.0, \"order_recency\": 1, \"order_seniority\": 39, \"stock\": null, \"Segments\": \"Medium Hot\"}, {\"ID\": 8023, \"view_item_list_1d\": 1876, \"view_item_list_7d\": 12818, \"view_item_list_30d\": 79564, \"view_item_1d\": 16, \"view_item_7d\": 68, \"view_item_30d\": 476, \"add_to_cart_1d\": 0, \"add_to_cart_7d\": 1, \"add_to_cart_30d\": 14, \"begin_checkout_1d\": 0, \"begin_checkout_7d\": 2, \"begin_checkout_30d\": 7, \"purchase_1d\": 0, \"purchase_7d\": 0, \"purchase_30d\": 1, \"qty_sold\": 4, \"nbre_commande\": 3, \"product_marge\": 852.0, \"order_recency\": 8, \"order_seniority\": 30, \"stock\": 39, \"Segments\": \"Cold\"}, {\"ID\": 8034, \"view_item_list_1d\": 3496, \"view_item_list_7d\": 17253, \"view_item_list_30d\": 62680, \"view_item_1d\": 123, \"view_item_7d\": 800, \"view_item_30d\": 3088, \"add_to_cart_1d\": 0, \"add_to_cart_7d\": 10, \"add_to_cart_30d\": 48, \"begin_checkout_1d\": 0, \"begin_checkout_7d\": 24, \"begin_checkout_30d\": 50, \"purchase_1d\": 0, \"purchase_7d\": 4, \"purchase_30d\": 7, \"qty_sold\": 24, \"nbre_commande\": 24, \"product_marge\": 9504.0, \"order_recency\": 2, \"order_seniority\": 60, \"stock\": 2, \"Segments\": \"Medium Hot\"}, {\"ID\": 8035, \"view_item_list_1d\": 5545, \"view_item_list_7d\": 33439, \"view_item_list_30d\": 118343, \"view_item_1d\": 95, \"view_item_7d\": 624, \"view_item_30d\": 1986, \"add_to_cart_1d\": 2, \"add_to_cart_7d\": 14, \"add_to_cart_30d\": 43, \"begin_checkout_1d\": 1, \"begin_checkout_7d\": 10, \"begin_checkout_30d\": 18, \"purchase_1d\": 0, \"purchase_7d\": 1, \"purchase_30d\": 3, \"qty_sold\": 9, \"nbre_commande\": 9, \"product_marge\": 3717.0, \"order_recency\": 6, \"order_seniority\": 60, \"stock\": 28, \"Segments\": \"Medium Hot\"}, {\"ID\": 8036, \"view_item_list_1d\": 5166, \"view_item_list_7d\": 28858, \"view_item_list_30d\": 103327, \"view_item_1d\": 1690, \"view_item_7d\": 9973, \"view_item_30d\": 14860, \"add_to_cart_1d\": 5, \"add_to_cart_7d\": 71, \"add_to_cart_30d\": 199, \"begin_checkout_1d\": 5, \"begin_checkout_7d\": 58, \"begin_checkout_30d\": 190, \"purchase_1d\": 2, \"purchase_7d\": 6, \"purchase_30d\": 30, \"qty_sold\": 79, \"nbre_commande\": 78, \"product_marge\": 20777.0, \"order_recency\": 1, \"order_seniority\": 61, \"stock\": null, \"Segments\": \"Top Hot\"}, {\"ID\": 8051, \"view_item_list_1d\": 1355, \"view_item_list_7d\": 7785, \"view_item_list_30d\": 36616, \"view_item_1d\": 73, \"view_item_7d\": 418, \"view_item_30d\": 1898, \"add_to_cart_1d\": 0, \"add_to_cart_7d\": 1, \"add_to_cart_30d\": 43, \"begin_checkout_1d\": 0, \"begin_checkout_7d\": 1, \"begin_checkout_30d\": 39, \"purchase_1d\": 0, \"purchase_7d\": 0, \"purchase_30d\": 6, \"qty_sold\": 65, \"nbre_commande\": 65, \"product_marge\": 17095.0, \"order_recency\": 19, \"order_seniority\": 96, \"stock\": null, \"Segments\": \"Hot Old\"}, {\"ID\": 8054, \"view_item_list_1d\": 1998, \"view_item_list_7d\": 14213, \"view_item_list_30d\": 57672, \"view_item_1d\": 74, \"view_item_7d\": 647, \"view_item_30d\": 2609, \"add_to_cart_1d\": 2, \"add_to_cart_7d\": 9, \"add_to_cart_30d\": 86, \"begin_checkout_1d\": 8, \"begin_checkout_7d\": 11, \"begin_checkout_30d\": 104, \"purchase_1d\": 1, \"purchase_7d\": 2, \"purchase_30d\": 12, \"qty_sold\": 70, \"nbre_commande\": 67, \"product_marge\": 22701.0, \"order_recency\": 1, \"order_seniority\": 96, \"stock\": 9, \"Segments\": \"Hot Old\"}, {\"ID\": 8055, \"view_item_list_1d\": 1955, \"view_item_list_7d\": 14095, \"view_item_list_30d\": 58955, \"view_item_1d\": 71, \"view_item_7d\": 363, \"view_item_30d\": 1118, \"add_to_cart_1d\": 1, \"add_to_cart_7d\": 10, \"add_to_cart_30d\": 38, \"begin_checkout_1d\": 0, \"begin_checkout_7d\": 8, \"begin_checkout_30d\": 43, \"purchase_1d\": 0, \"purchase_7d\": 0, \"purchase_30d\": 5, \"qty_sold\": 22, \"nbre_commande\": 22, \"product_marge\": 5412.0, \"order_recency\": 11, \"order_seniority\": 95, \"stock\": 54, \"Segments\": \"Cold\"}, {\"ID\": 8057, \"view_item_list_1d\": 1181, \"view_item_list_7d\": 7290, \"view_item_list_30d\": 33180, \"view_item_1d\": 11, \"view_item_7d\": 96, \"view_item_30d\": 365, \"add_to_cart_1d\": 0, \"add_to_cart_7d\": 3, \"add_to_cart_30d\": 14, \"begin_checkout_1d\": 0, \"begin_checkout_7d\": 5, \"begin_checkout_30d\": 20, \"purchase_1d\": 0, \"purchase_7d\": 1, \"purchase_30d\": 5, \"qty_sold\": 26, \"nbre_commande\": 24, \"product_marge\": 5325.0, \"order_recency\": 2, \"order_seniority\": 93, \"stock\": 9, \"Segments\": \"Cold\"}, {\"ID\": 8061, \"view_item_list_1d\": 1123, \"view_item_list_7d\": 9563, \"view_item_list_30d\": 39887, \"view_item_1d\": 80, \"view_item_7d\": 520, \"view_item_30d\": 2752, \"add_to_cart_1d\": 2, \"add_to_cart_7d\": 8, \"add_to_cart_30d\": 41, \"begin_checkout_1d\": 2, \"begin_checkout_7d\": 5, \"begin_checkout_30d\": 28, \"purchase_1d\": 1, \"purchase_7d\": 1, \"purchase_30d\": 4, \"qty_sold\": 37, \"nbre_commande\": 37, \"product_marge\": 9102.0, \"order_recency\": 1, \"order_seniority\": 182, \"stock\": 15, \"Segments\": \"Hot Old\"}, {\"ID\": 8062, \"view_item_list_1d\": 1068, \"view_item_list_7d\": 6506, \"view_item_list_30d\": 37153, \"view_item_1d\": 8, \"view_item_7d\": 89, \"view_item_30d\": 640, \"add_to_cart_1d\": 1, \"add_to_cart_7d\": 1, \"add_to_cart_30d\": 20, \"begin_checkout_1d\": 2, \"begin_checkout_7d\": 2, \"begin_checkout_30d\": 37, \"purchase_1d\": 0, \"purchase_7d\": 0, \"purchase_30d\": 6, \"qty_sold\": 37, \"nbre_commande\": 35, \"product_marge\": 7956.0, \"order_recency\": 16, \"order_seniority\": 182, \"stock\": 67, \"Segments\": \"Cold\"}, {\"ID\": 8063, \"view_item_list_1d\": 1665, \"view_item_list_7d\": 9189, \"view_item_list_30d\": 42023, \"view_item_1d\": 55, \"view_item_7d\": 241, \"view_item_30d\": 1071, \"add_to_cart_1d\": 2, \"add_to_cart_7d\": 6, \"add_to_cart_30d\": 23, \"begin_checkout_1d\": 1, \"begin_checkout_7d\": 2, \"begin_checkout_30d\": 9, \"purchase_1d\": 0, \"purchase_7d\": 0, \"purchase_30d\": 1, \"qty_sold\": 13, \"nbre_commande\": 13, \"product_marge\": 3198.0, \"order_recency\": 17, \"order_seniority\": 77, \"stock\": 16, \"Segments\": \"Cold\"}, {\"ID\": 8064, \"view_item_list_1d\": 3152, \"view_item_list_7d\": 18958, \"view_item_list_30d\": 94371, \"view_item_1d\": 29, \"view_item_7d\": 172, \"view_item_30d\": 986, \"add_to_cart_1d\": 0, \"add_to_cart_7d\": 1, \"add_to_cart_30d\": 16, \"begin_checkout_1d\": 0, \"begin_checkout_7d\": 0, \"begin_checkout_30d\": 15, \"purchase_1d\": 0, \"purchase_7d\": 0, \"purchase_30d\": 4, \"qty_sold\": 6, \"nbre_commande\": 6, \"product_marge\": 1476.0, \"order_recency\": 10, \"order_seniority\": 40, \"stock\": 22, \"Segments\": \"Cold\"}, {\"ID\": 8066, \"view_item_list_1d\": 3394, \"view_item_list_7d\": 19073, \"view_item_list_30d\": 88634, \"view_item_1d\": 26, \"view_item_7d\": 226, \"view_item_30d\": 1201, \"add_to_cart_1d\": 0, \"add_to_cart_7d\": 8, \"add_to_cart_30d\": 56, \"begin_checkout_1d\": 0, \"begin_checkout_7d\": 12, \"begin_checkout_30d\": 34, \"purchase_1d\": 0, \"purchase_7d\": 2, \"purchase_30d\": 8, \"qty_sold\": 10, \"nbre_commande\": 10, \"product_marge\": 1290.0, \"order_recency\": 2, \"order_seniority\": 37, \"stock\": 47, \"Segments\": \"Medium Hot\"}, {\"ID\": 8067, \"view_item_list_1d\": 3712, \"view_item_list_7d\": 21631, \"view_item_list_30d\": 99961, \"view_item_1d\": 66, \"view_item_7d\": 514, \"view_item_30d\": 2663, \"add_to_cart_1d\": 3, \"add_to_cart_7d\": 19, \"add_to_cart_30d\": 71, \"begin_checkout_1d\": 1, \"begin_checkout_7d\": 14, \"begin_checkout_30d\": 59, \"purchase_1d\": 0, \"purchase_7d\": 1, \"purchase_30d\": 10, \"qty_sold\": 16, \"nbre_commande\": 16, \"product_marge\": 3936.0, \"order_recency\": 4, \"order_seniority\": 40, \"stock\": 20, \"Segments\": \"Medium Hot\"}, {\"ID\": 8069, \"view_item_list_1d\": 1764, \"view_item_list_7d\": 10270, \"view_item_list_30d\": 47078, \"view_item_1d\": 37, \"view_item_7d\": 317, \"view_item_30d\": 1228, \"add_to_cart_1d\": 0, \"add_to_cart_7d\": 5, \"add_to_cart_30d\": 44, \"begin_checkout_1d\": 0, \"begin_checkout_7d\": 5, \"begin_checkout_30d\": 52, \"purchase_1d\": 0, \"purchase_7d\": 1, \"purchase_30d\": 6, \"qty_sold\": 16, \"nbre_commande\": 16, \"product_marge\": 5264.0, \"order_recency\": 4, \"order_seniority\": 77, \"stock\": 21, \"Segments\": \"Cold\"}, {\"ID\": 8070, \"view_item_list_1d\": 1964, \"view_item_list_7d\": 13294, \"view_item_list_30d\": 79259, \"view_item_1d\": 51, \"view_item_7d\": 391, \"view_item_30d\": 1884, \"add_to_cart_1d\": 0, \"add_to_cart_7d\": 14, \"add_to_cart_30d\": 47, \"begin_checkout_1d\": 0, \"begin_checkout_7d\": 18, \"begin_checkout_30d\": 26, \"purchase_1d\": 0, \"purchase_7d\": 0, \"purchase_30d\": 2, \"qty_sold\": 5, \"nbre_commande\": 5, \"product_marge\": 1645.0, \"order_recency\": 22, \"order_seniority\": 38, \"stock\": 23, \"Segments\": \"Cold\"}, {\"ID\": 8072, \"view_item_list_1d\": 1098, \"view_item_list_7d\": 6415, \"view_item_list_30d\": 30552, \"view_item_1d\": 38, \"view_item_7d\": 237, \"view_item_30d\": 1211, \"add_to_cart_1d\": 1, \"add_to_cart_7d\": 9, \"add_to_cart_30d\": 54, \"begin_checkout_1d\": 1, \"begin_checkout_7d\": 5, \"begin_checkout_30d\": 32, \"purchase_1d\": 0, \"purchase_7d\": 0, \"purchase_30d\": 5, \"qty_sold\": 20, \"nbre_commande\": 20, \"product_marge\": 2920.0, \"order_recency\": 1, \"order_seniority\": 96, \"stock\": 13, \"Segments\": \"Cold\"}, {\"ID\": 8073, \"view_item_list_1d\": 2279, \"view_item_list_7d\": 15360, \"view_item_list_30d\": 63533, \"view_item_1d\": 21, \"view_item_7d\": 309, \"view_item_30d\": 1645, \"add_to_cart_1d\": 0, \"add_to_cart_7d\": 10, \"add_to_cart_30d\": 61, \"begin_checkout_1d\": 0, \"begin_checkout_7d\": 9, \"begin_checkout_30d\": 57, \"purchase_1d\": 0, \"purchase_7d\": 2, \"purchase_30d\": 14, \"qty_sold\": 37, \"nbre_commande\": 37, \"product_marge\": 9102.0, \"order_recency\": 3, \"order_seniority\": 91, \"stock\": 1, \"Segments\": \"Hot Old\"}, {\"ID\": 8074, \"view_item_list_1d\": 1165, \"view_item_list_7d\": 7097, \"view_item_list_30d\": 32652, \"view_item_1d\": 79, \"view_item_7d\": 433, \"view_item_30d\": 1639, \"add_to_cart_1d\": 3, \"add_to_cart_7d\": 12, \"add_to_cart_30d\": 71, \"begin_checkout_1d\": 1, \"begin_checkout_7d\": 32, \"begin_checkout_30d\": 79, \"purchase_1d\": 0, \"purchase_7d\": 1, \"purchase_30d\": 13, \"qty_sold\": 47, \"nbre_commande\": 47, \"product_marge\": 11186.0, \"order_recency\": 2, \"order_seniority\": 95, \"stock\": 1, \"Segments\": \"Hot Old\"}, {\"ID\": 8075, \"view_item_list_1d\": 1407, \"view_item_list_7d\": 8484, \"view_item_list_30d\": 40520, \"view_item_1d\": 16, \"view_item_7d\": 134, \"view_item_30d\": 726, \"add_to_cart_1d\": 0, \"add_to_cart_7d\": 6, \"add_to_cart_30d\": 103, \"begin_checkout_1d\": 0, \"begin_checkout_7d\": 1, \"begin_checkout_30d\": 18, \"purchase_1d\": 0, \"purchase_7d\": 0, \"purchase_30d\": 2, \"qty_sold\": 19, \"nbre_commande\": 19, \"product_marge\": 5472.0, \"order_recency\": 1, \"order_seniority\": 96, \"stock\": 24, \"Segments\": \"Cold\"}, {\"ID\": 8076, \"view_item_list_1d\": 735, \"view_item_list_7d\": 3825, \"view_item_list_30d\": 17937, \"view_item_1d\": 10, \"view_item_7d\": 51, \"view_item_30d\": 246, \"add_to_cart_1d\": 0, \"add_to_cart_7d\": 4, \"add_to_cart_30d\": 18, \"begin_checkout_1d\": 6, \"begin_checkout_7d\": 6, \"begin_checkout_30d\": 36, \"purchase_1d\": 1, \"purchase_7d\": 1, \"purchase_30d\": 3, \"qty_sold\": 12, \"nbre_commande\": 12, \"product_marge\": 1656.0, \"order_recency\": 1, \"order_seniority\": 71, \"stock\": 29, \"Segments\": \"Cold\"}, {\"ID\": 8077, \"view_item_list_1d\": 902, \"view_item_list_7d\": 5870, \"view_item_list_30d\": 26991, \"view_item_1d\": 0, \"view_item_7d\": 25, \"view_item_30d\": 99, \"add_to_cart_1d\": 0, \"add_to_cart_7d\": 0, \"add_to_cart_30d\": 3, \"begin_checkout_1d\": 0, \"begin_checkout_7d\": 0, \"begin_checkout_30d\": 1, \"purchase_1d\": 0, \"purchase_7d\": 0, \"purchase_30d\": 0, \"qty_sold\": 2, \"nbre_commande\": 2, \"product_marge\": 226.0, \"order_recency\": 24, \"order_seniority\": 51, \"stock\": 53, \"Segments\": \"Cold\"}, {\"ID\": 8079, \"view_item_list_1d\": 4449, \"view_item_list_7d\": 25085, \"view_item_list_30d\": 95801, \"view_item_1d\": 402, \"view_item_7d\": 3320, \"view_item_30d\": 8911, \"add_to_cart_1d\": 6, \"add_to_cart_7d\": 46, \"add_to_cart_30d\": 190, \"begin_checkout_1d\": 14, \"begin_checkout_7d\": 55, \"begin_checkout_30d\": 206, \"purchase_1d\": 3, \"purchase_7d\": 6, \"purchase_30d\": 39, \"qty_sold\": 88, \"nbre_commande\": 86, \"product_marge\": 19448.0, \"order_recency\": 1, \"order_seniority\": 60, \"stock\": null, \"Segments\": \"Top Hot\"}, {\"ID\": 8080, \"view_item_list_1d\": 6016, \"view_item_list_7d\": 35670, \"view_item_list_30d\": 128011, \"view_item_1d\": 188, \"view_item_7d\": 1263, \"view_item_30d\": 3907, \"add_to_cart_1d\": 0, \"add_to_cart_7d\": 21, \"add_to_cart_30d\": 126, \"begin_checkout_1d\": 0, \"begin_checkout_7d\": 25, \"begin_checkout_30d\": 117, \"purchase_1d\": 0, \"purchase_7d\": 3, \"purchase_30d\": 15, \"qty_sold\": 34, \"nbre_commande\": 33, \"product_marge\": 7514.0, \"order_recency\": 2, \"order_seniority\": 61, \"stock\": 20, \"Segments\": \"Medium Hot\"}, {\"ID\": 8081, \"view_item_list_1d\": 3876, \"view_item_list_7d\": 19458, \"view_item_list_30d\": 69884, \"view_item_1d\": 77, \"view_item_7d\": 331, \"view_item_30d\": 1433, \"add_to_cart_1d\": 4, \"add_to_cart_7d\": 13, \"add_to_cart_30d\": 65, \"begin_checkout_1d\": 2, \"begin_checkout_7d\": 18, \"begin_checkout_30d\": 76, \"purchase_1d\": 0, \"purchase_7d\": 1, \"purchase_30d\": 5, \"qty_sold\": 20, \"nbre_commande\": 20, \"product_marge\": 3260.0, \"order_recency\": 5, \"order_seniority\": 61, \"stock\": 16, \"Segments\": \"Medium Hot\"}, {\"ID\": 8090, \"view_item_list_1d\": 1610, \"view_item_list_7d\": 10030, \"view_item_list_30d\": 45269, \"view_item_1d\": 17, \"view_item_7d\": 127, \"view_item_30d\": 531, \"add_to_cart_1d\": 1, \"add_to_cart_7d\": 2, \"add_to_cart_30d\": 17, \"begin_checkout_1d\": 0, \"begin_checkout_7d\": 0, \"begin_checkout_30d\": 16, \"purchase_1d\": 0, \"purchase_7d\": 0, \"purchase_30d\": 3, \"qty_sold\": 6, \"nbre_commande\": 6, \"product_marge\": 1278.0, \"order_recency\": 9, \"order_seniority\": 56, \"stock\": 46, \"Segments\": \"Cold\"}, {\"ID\": 8091, \"view_item_list_1d\": 4265, \"view_item_list_7d\": 27791, \"view_item_list_30d\": 117094, \"view_item_1d\": 23, \"view_item_7d\": 385, \"view_item_30d\": 1083, \"add_to_cart_1d\": 3, \"add_to_cart_7d\": 13, \"add_to_cart_30d\": 23, \"begin_checkout_1d\": 0, \"begin_checkout_7d\": 21, \"begin_checkout_30d\": 26, \"purchase_1d\": 0, \"purchase_7d\": 1, \"purchase_30d\": 2, \"qty_sold\": 6, \"nbre_commande\": 6, \"product_marge\": 1278.0, \"order_recency\": 4, \"order_seniority\": 41, \"stock\": 37, \"Segments\": \"Medium Hot\"}, {\"ID\": 8092, \"view_item_list_1d\": 3969, \"view_item_list_7d\": 26807, \"view_item_list_30d\": 112816, \"view_item_1d\": 247, \"view_item_7d\": 749, \"view_item_30d\": 2907, \"add_to_cart_1d\": 4, \"add_to_cart_7d\": 19, \"add_to_cart_30d\": 80, \"begin_checkout_1d\": 0, \"begin_checkout_7d\": 6, \"begin_checkout_30d\": 63, \"purchase_1d\": 0, \"purchase_7d\": 1, \"purchase_30d\": 9, \"qty_sold\": 40, \"nbre_commande\": 38, \"product_marge\": 9044.0, \"order_recency\": 2, \"order_seniority\": 61, \"stock\": 25, \"Segments\": \"Medium Hot\"}, {\"ID\": 8094, \"view_item_list_1d\": 3572, \"view_item_list_7d\": 27417, \"view_item_list_30d\": 118173, \"view_item_1d\": 50, \"view_item_7d\": 322, \"view_item_30d\": 1345, \"add_to_cart_1d\": 0, \"add_to_cart_7d\": 10, \"add_to_cart_30d\": 20, \"begin_checkout_1d\": 0, \"begin_checkout_7d\": 7, \"begin_checkout_30d\": 19, \"purchase_1d\": 0, \"purchase_7d\": 2, \"purchase_30d\": 3, \"qty_sold\": 6, \"nbre_commande\": 6, \"product_marge\": 978.0, \"order_recency\": 2, \"order_seniority\": 61, \"stock\": 34, \"Segments\": \"Medium Hot\"}, {\"ID\": 8095, \"view_item_list_1d\": 2263, \"view_item_list_7d\": 13184, \"view_item_list_30d\": 61033, \"view_item_1d\": 342, \"view_item_7d\": 663, \"view_item_30d\": 1915, \"add_to_cart_1d\": 10, \"add_to_cart_7d\": 19, \"add_to_cart_30d\": 54, \"begin_checkout_1d\": 8, \"begin_checkout_7d\": 13, \"begin_checkout_30d\": 60, \"purchase_1d\": 0, \"purchase_7d\": 0, \"purchase_30d\": 7, \"qty_sold\": 17, \"nbre_commande\": 17, \"product_marge\": 3332.0, \"order_recency\": 2, \"order_seniority\": 60, \"stock\": 25, \"Segments\": \"Medium Hot\"}, {\"ID\": 8115, \"view_item_list_1d\": 5001, \"view_item_list_7d\": 33716, \"view_item_list_30d\": 132336, \"view_item_1d\": 187, \"view_item_7d\": 1554, \"view_item_30d\": 6835, \"add_to_cart_1d\": 0, \"add_to_cart_7d\": 18, \"add_to_cart_30d\": 127, \"begin_checkout_1d\": 0, \"begin_checkout_7d\": 19, \"begin_checkout_30d\": 134, \"purchase_1d\": 0, \"purchase_7d\": 2, \"purchase_30d\": 13, \"qty_sold\": 25, \"nbre_commande\": 24, \"product_marge\": 9275.0, \"order_recency\": 4, \"order_seniority\": 41, \"stock\": 17, \"Segments\": \"Medium Hot\"}, {\"ID\": 8116, \"view_item_list_1d\": 705, \"view_item_list_7d\": 4516, \"view_item_list_30d\": 19681, \"view_item_1d\": 81, \"view_item_7d\": 563, \"view_item_30d\": 2744, \"add_to_cart_1d\": 0, \"add_to_cart_7d\": 5, \"add_to_cart_30d\": 80, \"begin_checkout_1d\": 0, \"begin_checkout_7d\": 3, \"begin_checkout_30d\": 61, \"purchase_1d\": 0, \"purchase_7d\": 1, \"purchase_30d\": 15, \"qty_sold\": 30, \"nbre_commande\": 29, \"product_marge\": 7380.0, \"order_recency\": 7, \"order_seniority\": 41, \"stock\": null, \"Segments\": \"Hot Old\"}, {\"ID\": 8117, \"view_item_list_1d\": 4015, \"view_item_list_7d\": 22784, \"view_item_list_30d\": 102322, \"view_item_1d\": 107, \"view_item_7d\": 974, \"view_item_30d\": 6484, \"add_to_cart_1d\": 0, \"add_to_cart_7d\": 6, \"add_to_cart_30d\": 91, \"begin_checkout_1d\": 0, \"begin_checkout_7d\": 13, \"begin_checkout_30d\": 108, \"purchase_1d\": 0, \"purchase_7d\": 1, \"purchase_30d\": 15, \"qty_sold\": 21, \"nbre_commande\": 21, \"product_marge\": 6384.0, \"order_recency\": 2, \"order_seniority\": 40, \"stock\": null, \"Segments\": \"Medium Hot\"}, {\"ID\": 8118, \"view_item_list_1d\": 831, \"view_item_list_7d\": 5347, \"view_item_list_30d\": 24985, \"view_item_1d\": 18, \"view_item_7d\": 137, \"view_item_30d\": 748, \"add_to_cart_1d\": 0, \"add_to_cart_7d\": 0, \"add_to_cart_30d\": 15, \"begin_checkout_1d\": 0, \"begin_checkout_7d\": 0, \"begin_checkout_30d\": 48, \"purchase_1d\": 0, \"purchase_7d\": 0, \"purchase_30d\": 4, \"qty_sold\": 40, \"nbre_commande\": 39, \"product_marge\": 1131.0, \"order_recency\": 23, \"order_seniority\": 96, \"stock\": null, \"Segments\": \"Cold\"}, {\"ID\": 8120, \"view_item_list_1d\": 1006, \"view_item_list_7d\": 6339, \"view_item_list_30d\": 27352, \"view_item_1d\": 238, \"view_item_7d\": 2487, \"view_item_30d\": 10713, \"add_to_cart_1d\": 3, \"add_to_cart_7d\": 52, \"add_to_cart_30d\": 399, \"begin_checkout_1d\": 1, \"begin_checkout_7d\": 39, \"begin_checkout_30d\": 372, \"purchase_1d\": 0, \"purchase_7d\": 6, \"purchase_30d\": 48, \"qty_sold\": 98, \"nbre_commande\": 98, \"product_marge\": 31458.0, \"order_recency\": 4, \"order_seniority\": 96, \"stock\": 45, \"Segments\": \"Top Hot\"}, {\"ID\": 8121, \"view_item_list_1d\": 1024, \"view_item_list_7d\": 6143, \"view_item_list_30d\": 29207, \"view_item_1d\": 62, \"view_item_7d\": 365, \"view_item_30d\": 1777, \"add_to_cart_1d\": 0, \"add_to_cart_7d\": 3, \"add_to_cart_30d\": 43, \"begin_checkout_1d\": 0, \"begin_checkout_7d\": 3, \"begin_checkout_30d\": 42, \"purchase_1d\": 0, \"purchase_7d\": 0, \"purchase_30d\": 6, \"qty_sold\": 24, \"nbre_commande\": 23, \"product_marge\": 5658.0, \"order_recency\": 2, \"order_seniority\": 93, \"stock\": 5, \"Segments\": \"Cold\"}, {\"ID\": 8123, \"view_item_list_1d\": 855, \"view_item_list_7d\": 7179, \"view_item_list_30d\": 28743, \"view_item_1d\": 25, \"view_item_7d\": 683, \"view_item_30d\": 1301, \"add_to_cart_1d\": 1, \"add_to_cart_7d\": 43, \"add_to_cart_30d\": 67, \"begin_checkout_1d\": 1, \"begin_checkout_7d\": 37, \"begin_checkout_30d\": 94, \"purchase_1d\": 0, \"purchase_7d\": 1, \"purchase_30d\": 6, \"qty_sold\": 22, \"nbre_commande\": 22, \"product_marge\": 5412.0, \"order_recency\": 6, \"order_seniority\": 71, \"stock\": 16, \"Segments\": \"Hot Old\"}, {\"ID\": 8126, \"view_item_list_1d\": 1274, \"view_item_list_7d\": 8246, \"view_item_list_30d\": 38708, \"view_item_1d\": 10, \"view_item_7d\": 65, \"view_item_30d\": 409, \"add_to_cart_1d\": 0, \"add_to_cart_7d\": 1, \"add_to_cart_30d\": 10, \"begin_checkout_1d\": 0, \"begin_checkout_7d\": 1, \"begin_checkout_30d\": 91, \"purchase_1d\": 0, \"purchase_7d\": 0, \"purchase_30d\": 0, \"qty_sold\": 4, \"nbre_commande\": 4, \"product_marge\": 716.0, \"order_recency\": 31, \"order_seniority\": 76, \"stock\": 37, \"Segments\": \"Cold\"}, {\"ID\": 8127, \"view_item_list_1d\": 1384, \"view_item_list_7d\": 9008, \"view_item_list_30d\": 41261, \"view_item_1d\": 19, \"view_item_7d\": 120, \"view_item_30d\": 743, \"add_to_cart_1d\": 1, \"add_to_cart_7d\": 14, \"add_to_cart_30d\": 39, \"begin_checkout_1d\": 0, \"begin_checkout_7d\": 7, \"begin_checkout_30d\": 56, \"purchase_1d\": 0, \"purchase_7d\": 0, \"purchase_30d\": 3, \"qty_sold\": 15, \"nbre_commande\": 15, \"product_marge\": 2685.0, \"order_recency\": 8, \"order_seniority\": 75, \"stock\": 25, \"Segments\": \"Cold\"}, {\"ID\": 8128, \"view_item_list_1d\": 1392, \"view_item_list_7d\": 8337, \"view_item_list_30d\": 39806, \"view_item_1d\": 54, \"view_item_7d\": 348, \"view_item_30d\": 1451, \"add_to_cart_1d\": 1, \"add_to_cart_7d\": 12, \"add_to_cart_30d\": 24, \"begin_checkout_1d\": 15, \"begin_checkout_7d\": 22, \"begin_checkout_30d\": 33, \"purchase_1d\": 0, \"purchase_7d\": 0, \"purchase_30d\": 1, \"qty_sold\": 2, \"nbre_commande\": 2, \"product_marge\": 658.0, \"order_recency\": 27, \"order_seniority\": 71, \"stock\": 23, \"Segments\": \"Cold\"}, {\"ID\": 8131, \"view_item_list_1d\": 2522, \"view_item_list_7d\": 17677, \"view_item_list_30d\": 76447, \"view_item_1d\": 38, \"view_item_7d\": 305, \"view_item_30d\": 1207, \"add_to_cart_1d\": 5, \"add_to_cart_7d\": 12, \"add_to_cart_30d\": 39, \"begin_checkout_1d\": 8, \"begin_checkout_7d\": 13, \"begin_checkout_30d\": 51, \"purchase_1d\": 2, \"purchase_7d\": 2, \"purchase_30d\": 7, \"qty_sold\": 17, \"nbre_commande\": 17, \"product_marge\": 4607.0, \"order_recency\": 1, \"order_seniority\": 71, \"stock\": 16, \"Segments\": \"Medium Hot\"}, {\"ID\": 8140, \"view_item_list_1d\": 5636, \"view_item_list_7d\": 35397, \"view_item_list_30d\": 138317, \"view_item_1d\": 219, \"view_item_7d\": 1268, \"view_item_30d\": 5596, \"add_to_cart_1d\": 8, \"add_to_cart_7d\": 38, \"add_to_cart_30d\": 117, \"begin_checkout_1d\": 28, \"begin_checkout_7d\": 50, \"begin_checkout_30d\": 94, \"purchase_1d\": 2, \"purchase_7d\": 4, \"purchase_30d\": 9, \"qty_sold\": 14, \"nbre_commande\": 14, \"product_marge\": 5544.0, \"order_recency\": 1, \"order_seniority\": 39, \"stock\": 16, \"Segments\": \"Medium Hot\"}, {\"ID\": 8141, \"view_item_list_1d\": 5305, \"view_item_list_7d\": 35570, \"view_item_list_30d\": 162293, \"view_item_1d\": 209, \"view_item_7d\": 1549, \"view_item_30d\": 6077, \"add_to_cart_1d\": 2, \"add_to_cart_7d\": 39, \"add_to_cart_30d\": 186, \"begin_checkout_1d\": 12, \"begin_checkout_7d\": 61, \"begin_checkout_30d\": 237, \"purchase_1d\": 1, \"purchase_7d\": 7, \"purchase_30d\": 36, \"qty_sold\": 56, \"nbre_commande\": 55, \"product_marge\": 11715.0, \"order_recency\": 1, \"order_seniority\": 40, \"stock\": 2, \"Segments\": \"Top Hot\"}, {\"ID\": 8158, \"view_item_list_1d\": 2068, \"view_item_list_7d\": 11270, \"view_item_list_30d\": 54259, \"view_item_1d\": 24, \"view_item_7d\": 131, \"view_item_30d\": 540, \"add_to_cart_1d\": 3, \"add_to_cart_7d\": 6, \"add_to_cart_30d\": 17, \"begin_checkout_1d\": 4, \"begin_checkout_7d\": 5, \"begin_checkout_30d\": 14, \"purchase_1d\": 0, \"purchase_7d\": 0, \"purchase_30d\": 3, \"qty_sold\": 10, \"nbre_commande\": 10, \"product_marge\": 2130.0, \"order_recency\": 15, \"order_seniority\": 61, \"stock\": 30, \"Segments\": \"Cold\"}, {\"ID\": 8159, \"view_item_list_1d\": 3882, \"view_item_list_7d\": 29920, \"view_item_list_30d\": 140320, \"view_item_1d\": 145, \"view_item_7d\": 1842, \"view_item_30d\": 4293, \"add_to_cart_1d\": 5, \"add_to_cart_7d\": 15, \"add_to_cart_30d\": 55, \"begin_checkout_1d\": 12, \"begin_checkout_7d\": 26, \"begin_checkout_30d\": 70, \"purchase_1d\": 1, \"purchase_7d\": 4, \"purchase_30d\": 8, \"qty_sold\": 14, \"nbre_commande\": 14, \"product_marge\": 3682.0, \"order_recency\": 1, \"order_seniority\": 41, \"stock\": 39, \"Segments\": \"Medium Hot\"}, {\"ID\": 8160, \"view_item_list_1d\": 4032, \"view_item_list_7d\": 28772, \"view_item_list_30d\": 127633, \"view_item_1d\": 83, \"view_item_7d\": 618, \"view_item_30d\": 4014, \"add_to_cart_1d\": 6, \"add_to_cart_7d\": 16, \"add_to_cart_30d\": 109, \"begin_checkout_1d\": 3, \"begin_checkout_7d\": 12, \"begin_checkout_30d\": 108, \"purchase_1d\": 1, \"purchase_7d\": 3, \"purchase_30d\": 17, \"qty_sold\": 22, \"nbre_commande\": 22, \"product_marge\": 6138.0, \"order_recency\": 1, \"order_seniority\": 35, \"stock\": 15, \"Segments\": \"Medium Hot\"}, {\"ID\": 8161, \"view_item_list_1d\": 2197, \"view_item_list_7d\": 16633, \"view_item_list_30d\": 67238, \"view_item_1d\": 54, \"view_item_7d\": 354, \"view_item_30d\": 1286, \"add_to_cart_1d\": 0, \"add_to_cart_7d\": 6, \"add_to_cart_30d\": 41, \"begin_checkout_1d\": 0, \"begin_checkout_7d\": 3, \"begin_checkout_30d\": 30, \"purchase_1d\": 0, \"purchase_7d\": 0, \"purchase_30d\": 2, \"qty_sold\": 15, \"nbre_commande\": 15, \"product_marge\": 4185.0, \"order_recency\": 22, \"order_seniority\": 96, \"stock\": 62, \"Segments\": \"Cold\"}, {\"ID\": 8163, \"view_item_list_1d\": 1387, \"view_item_list_7d\": 8467, \"view_item_list_30d\": 39998, \"view_item_1d\": 19, \"view_item_7d\": 72, \"view_item_30d\": 269, \"add_to_cart_1d\": 0, \"add_to_cart_7d\": 5, \"add_to_cart_30d\": 20, \"begin_checkout_1d\": 0, \"begin_checkout_7d\": 2, \"begin_checkout_30d\": 16, \"purchase_1d\": 0, \"purchase_7d\": 1, \"purchase_30d\": 3, \"qty_sold\": 13, \"nbre_commande\": 13, \"product_marge\": 3744.0, \"order_recency\": 5, \"order_seniority\": 84, \"stock\": 16, \"Segments\": \"Cold\"}, {\"ID\": 8171, \"view_item_list_1d\": 2238, \"view_item_list_7d\": 16830, \"view_item_list_30d\": 68276, \"view_item_1d\": 199, \"view_item_7d\": 1382, \"view_item_30d\": 5561, \"add_to_cart_1d\": 9, \"add_to_cart_7d\": 56, \"add_to_cart_30d\": 251, \"begin_checkout_1d\": 10, \"begin_checkout_7d\": 75, \"begin_checkout_30d\": 320, \"purchase_1d\": 2, \"purchase_7d\": 10, \"purchase_30d\": 47, \"qty_sold\": 155, \"nbre_commande\": 153, \"product_marge\": 33015.0, \"order_recency\": 1, \"order_seniority\": 96, \"stock\": 19, \"Segments\": \"Top Hot\"}, {\"ID\": 8172, \"view_item_list_1d\": 1907, \"view_item_list_7d\": 14455, \"view_item_list_30d\": 61095, \"view_item_1d\": 213, \"view_item_7d\": 1545, \"view_item_30d\": 4284, \"add_to_cart_1d\": 1, \"add_to_cart_7d\": 8, \"add_to_cart_30d\": 34, \"begin_checkout_1d\": 0, \"begin_checkout_7d\": 16, \"begin_checkout_30d\": 37, \"purchase_1d\": 0, \"purchase_7d\": 2, \"purchase_30d\": 6, \"qty_sold\": 45, \"nbre_commande\": 44, \"product_marge\": 6930.0, \"order_recency\": 4, \"order_seniority\": 95, \"stock\": 2, \"Segments\": \"Hot Old\"}, {\"ID\": 8173, \"view_item_list_1d\": 956, \"view_item_list_7d\": 5809, \"view_item_list_30d\": 27286, \"view_item_1d\": 47, \"view_item_7d\": 275, \"view_item_30d\": 1115, \"add_to_cart_1d\": 0, \"add_to_cart_7d\": 9, \"add_to_cart_30d\": 26, \"begin_checkout_1d\": 2, \"begin_checkout_7d\": 23, \"begin_checkout_30d\": 41, \"purchase_1d\": 0, \"purchase_7d\": 2, \"purchase_30d\": 6, \"qty_sold\": 36, \"nbre_commande\": 35, \"product_marge\": 5110.0, \"order_recency\": 1, \"order_seniority\": 95, \"stock\": 8, \"Segments\": \"Hot Old\"}, {\"ID\": 8181, \"view_item_list_1d\": 1014, \"view_item_list_7d\": 5754, \"view_item_list_30d\": 27906, \"view_item_1d\": 6, \"view_item_7d\": 70, \"view_item_30d\": 331, \"add_to_cart_1d\": 0, \"add_to_cart_7d\": 4, \"add_to_cart_30d\": 10, \"begin_checkout_1d\": 0, \"begin_checkout_7d\": 6, \"begin_checkout_30d\": 19, \"purchase_1d\": 0, \"purchase_7d\": 1, \"purchase_30d\": 1, \"qty_sold\": 2, \"nbre_commande\": 2, \"product_marge\": 426.0, \"order_recency\": 3, \"order_seniority\": 53, \"stock\": 36, \"Segments\": \"Cold\"}, {\"ID\": 8182, \"view_item_list_1d\": 944, \"view_item_list_7d\": 5737, \"view_item_list_30d\": 27635, \"view_item_1d\": 19, \"view_item_7d\": 171, \"view_item_30d\": 779, \"add_to_cart_1d\": 0, \"add_to_cart_7d\": 3, \"add_to_cart_30d\": 26, \"begin_checkout_1d\": 0, \"begin_checkout_7d\": 0, \"begin_checkout_30d\": 15, \"purchase_1d\": 0, \"purchase_7d\": 0, \"purchase_30d\": 1, \"qty_sold\": 8, \"nbre_commande\": 8, \"product_marge\": 2632.0, \"order_recency\": 27, \"order_seniority\": 89, \"stock\": 81, \"Segments\": \"Cold\"}, {\"ID\": 8183, \"view_item_list_1d\": 3950, \"view_item_list_7d\": 28188, \"view_item_list_30d\": 118431, \"view_item_1d\": 135, \"view_item_7d\": 656, \"view_item_30d\": 2958, \"add_to_cart_1d\": 2, \"add_to_cart_7d\": 9, \"add_to_cart_30d\": 57, \"begin_checkout_1d\": 2, \"begin_checkout_7d\": 7, \"begin_checkout_30d\": 30, \"purchase_1d\": 0, \"purchase_7d\": 1, \"purchase_30d\": 8, \"qty_sold\": 16, \"nbre_commande\": 16, \"product_marge\": 3664.0, \"order_recency\": 6, \"order_seniority\": 60, \"stock\": 23, \"Segments\": \"Medium Hot\"}, {\"ID\": 8196, \"view_item_list_1d\": 1214, \"view_item_list_7d\": 7237, \"view_item_list_30d\": 33849, \"view_item_1d\": 152, \"view_item_7d\": 714, \"view_item_30d\": 2636, \"add_to_cart_1d\": 2, \"add_to_cart_7d\": 15, \"add_to_cart_30d\": 83, \"begin_checkout_1d\": 4, \"begin_checkout_7d\": 15, \"begin_checkout_30d\": 79, \"purchase_1d\": 1, \"purchase_7d\": 3, \"purchase_30d\": 14, \"qty_sold\": 31, \"nbre_commande\": 29, \"product_marge\": 10726.0, \"order_recency\": 1, \"order_seniority\": 79, \"stock\": 21, \"Segments\": \"Hot Old\"}, {\"ID\": 8197, \"view_item_list_1d\": 2211, \"view_item_list_7d\": 14634, \"view_item_list_30d\": 58924, \"view_item_1d\": 309, \"view_item_7d\": 1419, \"view_item_30d\": 4969, \"add_to_cart_1d\": 7, \"add_to_cart_7d\": 24, \"add_to_cart_30d\": 99, \"begin_checkout_1d\": 12, \"begin_checkout_7d\": 28, \"begin_checkout_30d\": 99, \"purchase_1d\": 2, \"purchase_7d\": 5, \"purchase_30d\": 14, \"qty_sold\": 33, \"nbre_commande\": 33, \"product_marge\": 11979.0, \"order_recency\": 1, \"order_seniority\": 95, \"stock\": 17, \"Segments\": \"Medium Hot\"}, {\"ID\": 8207, \"view_item_list_1d\": 2634, \"view_item_list_7d\": 19088, \"view_item_list_30d\": 112403, \"view_item_1d\": 53, \"view_item_7d\": 283, \"view_item_30d\": 1549, \"add_to_cart_1d\": 3, \"add_to_cart_7d\": 4, \"add_to_cart_30d\": 26, \"begin_checkout_1d\": 2, \"begin_checkout_7d\": 4, \"begin_checkout_30d\": 26, \"purchase_1d\": 1, \"purchase_7d\": 2, \"purchase_30d\": 3, \"qty_sold\": 5, \"nbre_commande\": 5, \"product_marge\": 730.0, \"order_recency\": 1, \"order_seniority\": 39, \"stock\": 18, \"Segments\": \"Medium Hot\"}, {\"ID\": 8208, \"view_item_list_1d\": 4990, \"view_item_list_7d\": 32574, \"view_item_list_30d\": 136017, \"view_item_1d\": 273, \"view_item_7d\": 1963, \"view_item_30d\": 7351, \"add_to_cart_1d\": 5, \"add_to_cart_7d\": 23, \"add_to_cart_30d\": 116, \"begin_checkout_1d\": 5, \"begin_checkout_7d\": 15, \"begin_checkout_30d\": 84, \"purchase_1d\": 2, \"purchase_7d\": 3, \"purchase_30d\": 13, \"qty_sold\": 20, \"nbre_commande\": 20, \"product_marge\": 3080.0, \"order_recency\": 1, \"order_seniority\": 39, \"stock\": 3, \"Segments\": \"Medium Hot\"}, {\"ID\": 8224, \"view_item_list_1d\": 973, \"view_item_list_7d\": 5912, \"view_item_list_30d\": 28264, \"view_item_1d\": 16, \"view_item_7d\": 91, \"view_item_30d\": 354, \"add_to_cart_1d\": 0, \"add_to_cart_7d\": 3, \"add_to_cart_30d\": 19, \"begin_checkout_1d\": 0, \"begin_checkout_7d\": 4, \"begin_checkout_30d\": 26, \"purchase_1d\": 0, \"purchase_7d\": 0, \"purchase_30d\": 6, \"qty_sold\": 21, \"nbre_commande\": 20, \"product_marge\": 1386.0, \"order_recency\": 16, \"order_seniority\": 92, \"stock\": 4, \"Segments\": \"Cold\"}, {\"ID\": 8225, \"view_item_list_1d\": 879, \"view_item_list_7d\": 5819, \"view_item_list_30d\": 26910, \"view_item_1d\": 5, \"view_item_7d\": 50, \"view_item_30d\": 146, \"add_to_cart_1d\": 0, \"add_to_cart_7d\": 4, \"add_to_cart_30d\": 13, \"begin_checkout_1d\": 0, \"begin_checkout_7d\": 2, \"begin_checkout_30d\": 21, \"purchase_1d\": 0, \"purchase_7d\": 0, \"purchase_30d\": 1, \"qty_sold\": 7, \"nbre_commande\": 7, \"product_marge\": 1141.0, \"order_recency\": 17, \"order_seniority\": 92, \"stock\": 54, \"Segments\": \"Cold\"}, {\"ID\": 8226, \"view_item_list_1d\": 1816, \"view_item_list_7d\": 13656, \"view_item_list_30d\": 61978, \"view_item_1d\": 80, \"view_item_7d\": 711, \"view_item_30d\": 2519, \"add_to_cart_1d\": 3, \"add_to_cart_7d\": 26, \"add_to_cart_30d\": 96, \"begin_checkout_1d\": 3, \"begin_checkout_7d\": 27, \"begin_checkout_30d\": 84, \"purchase_1d\": 0, \"purchase_7d\": 5, \"purchase_30d\": 12, \"qty_sold\": 78, \"nbre_commande\": 77, \"product_marge\": 18942.0, \"order_recency\": 3, \"order_seniority\": 186, \"stock\": 44, \"Segments\": \"Hot Old\"}, {\"ID\": 8230, \"view_item_list_1d\": 2210, \"view_item_list_7d\": 15068, \"view_item_list_30d\": 85106, \"view_item_1d\": 72, \"view_item_7d\": 402, \"view_item_30d\": 2087, \"add_to_cart_1d\": 6, \"add_to_cart_7d\": 21, \"add_to_cart_30d\": 90, \"begin_checkout_1d\": 1, \"begin_checkout_7d\": 20, \"begin_checkout_30d\": 84, \"purchase_1d\": 0, \"purchase_7d\": 2, \"purchase_30d\": 13, \"qty_sold\": 22, \"nbre_commande\": 22, \"product_marge\": 4136.0, \"order_recency\": 7, \"order_seniority\": 40, \"stock\": 32, \"Segments\": \"Medium Hot\"}, {\"ID\": 8232, \"view_item_list_1d\": 915, \"view_item_list_7d\": 6789, \"view_item_list_30d\": 39327, \"view_item_1d\": 15, \"view_item_7d\": 65, \"view_item_30d\": 246, \"add_to_cart_1d\": 0, \"add_to_cart_7d\": 0, \"add_to_cart_30d\": 8, \"begin_checkout_1d\": 0, \"begin_checkout_7d\": 0, \"begin_checkout_30d\": 2, \"purchase_1d\": 0, \"purchase_7d\": 0, \"purchase_30d\": 1, \"qty_sold\": 4, \"nbre_commande\": 4, \"product_marge\": 216.0, \"order_recency\": 24, \"order_seniority\": 140, \"stock\": 33, \"Segments\": \"Cold\"}, {\"ID\": 8233, \"view_item_list_1d\": 779, \"view_item_list_7d\": 4469, \"view_item_list_30d\": 15011, \"view_item_1d\": 13, \"view_item_7d\": 55, \"view_item_30d\": 214, \"add_to_cart_1d\": 0, \"add_to_cart_7d\": 0, \"add_to_cart_30d\": 3, \"begin_checkout_1d\": 0, \"begin_checkout_7d\": 0, \"begin_checkout_30d\": 2, \"purchase_1d\": 0, \"purchase_7d\": 0, \"purchase_30d\": 1, \"qty_sold\": 6, \"nbre_commande\": 6, \"product_marge\": 378.0, \"order_recency\": 27, \"order_seniority\": 188, \"stock\": 37, \"Segments\": \"Cold\"}, {\"ID\": 8234, \"view_item_list_1d\": 1833, \"view_item_list_7d\": 9452, \"view_item_list_30d\": 51274, \"view_item_1d\": 25, \"view_item_7d\": 142, \"view_item_30d\": 653, \"add_to_cart_1d\": 2, \"add_to_cart_7d\": 4, \"add_to_cart_30d\": 26, \"begin_checkout_1d\": 3, \"begin_checkout_7d\": 3, \"begin_checkout_30d\": 24, \"purchase_1d\": 0, \"purchase_7d\": 0, \"purchase_30d\": 3, \"qty_sold\": 10, \"nbre_commande\": 10, \"product_marge\": 4080.0, \"order_recency\": 15, \"order_seniority\": 75, \"stock\": 41, \"Segments\": \"Cold\"}, {\"ID\": 8235, \"view_item_list_1d\": 1693, \"view_item_list_7d\": 10226, \"view_item_list_30d\": 45884, \"view_item_1d\": 23, \"view_item_7d\": 94, \"view_item_30d\": 562, \"add_to_cart_1d\": 1, \"add_to_cart_7d\": 3, \"add_to_cart_30d\": 32, \"begin_checkout_1d\": 0, \"begin_checkout_7d\": 2, \"begin_checkout_30d\": 43, \"purchase_1d\": 0, \"purchase_7d\": 1, \"purchase_30d\": 9, \"qty_sold\": 24, \"nbre_commande\": 24, \"product_marge\": 9792.0, \"order_recency\": 2, \"order_seniority\": 72, \"stock\": 36, \"Segments\": \"Hot Old\"}, {\"ID\": 8236, \"view_item_list_1d\": 1007, \"view_item_list_7d\": 6594, \"view_item_list_30d\": 29972, \"view_item_1d\": 18, \"view_item_7d\": 70, \"view_item_30d\": 307, \"add_to_cart_1d\": 3, \"add_to_cart_7d\": 4, \"add_to_cart_30d\": 8, \"begin_checkout_1d\": 1, \"begin_checkout_7d\": 1, \"begin_checkout_30d\": 3, \"purchase_1d\": 0, \"purchase_7d\": 0, \"purchase_30d\": 1, \"qty_sold\": 3, \"nbre_commande\": 3, \"product_marge\": 1224.0, \"order_recency\": 22, \"order_seniority\": 88, \"stock\": 65, \"Segments\": \"Cold\"}, {\"ID\": 8240, \"view_item_list_1d\": 990, \"view_item_list_7d\": 7037, \"view_item_list_30d\": 37534, \"view_item_1d\": 4, \"view_item_7d\": 51, \"view_item_30d\": 293, \"add_to_cart_1d\": 0, \"add_to_cart_7d\": 1, \"add_to_cart_30d\": 7, \"begin_checkout_1d\": 0, \"begin_checkout_7d\": 0, \"begin_checkout_30d\": 5, \"purchase_1d\": 0, \"purchase_7d\": 0, \"purchase_30d\": 1, \"qty_sold\": 7, \"nbre_commande\": 7, \"product_marge\": 2772.0, \"order_recency\": 27, \"order_seniority\": 169, \"stock\": 62, \"Segments\": \"Cold\"}, {\"ID\": 8241, \"view_item_list_1d\": 994, \"view_item_list_7d\": 6982, \"view_item_list_30d\": 39640, \"view_item_1d\": 29, \"view_item_7d\": 210, \"view_item_30d\": 580, \"add_to_cart_1d\": 0, \"add_to_cart_7d\": 1, \"add_to_cart_30d\": 6, \"begin_checkout_1d\": 0, \"begin_checkout_7d\": 1, \"begin_checkout_30d\": 12, \"purchase_1d\": 0, \"purchase_7d\": 1, \"purchase_30d\": 1, \"qty_sold\": 8, \"nbre_commande\": 8, \"product_marge\": 3304.0, \"order_recency\": 7, \"order_seniority\": 188, \"stock\": 59, \"Segments\": \"Cold\"}, {\"ID\": 8242, \"view_item_list_1d\": 1018, \"view_item_list_7d\": 7014, \"view_item_list_30d\": 39887, \"view_item_1d\": 44, \"view_item_7d\": 195, \"view_item_30d\": 757, \"add_to_cart_1d\": 1, \"add_to_cart_7d\": 6, \"add_to_cart_30d\": 23, \"begin_checkout_1d\": 1, \"begin_checkout_7d\": 1, \"begin_checkout_30d\": 26, \"purchase_1d\": 0, \"purchase_7d\": 0, \"purchase_30d\": 1, \"qty_sold\": 23, \"nbre_commande\": 23, \"product_marge\": 9499.0, \"order_recency\": 9, \"order_seniority\": 182, \"stock\": 10, \"Segments\": \"Cold\"}, {\"ID\": 8243, \"view_item_list_1d\": 682, \"view_item_list_7d\": 4254, \"view_item_list_30d\": 20747, \"view_item_1d\": 7, \"view_item_7d\": 53, \"view_item_30d\": 218, \"add_to_cart_1d\": 0, \"add_to_cart_7d\": 1, \"add_to_cart_30d\": 3, \"begin_checkout_1d\": 0, \"begin_checkout_7d\": 0, \"begin_checkout_30d\": 0, \"purchase_1d\": 0, \"purchase_7d\": 0, \"purchase_30d\": 0, \"qty_sold\": 5, \"nbre_commande\": 5, \"product_marge\": 815.0, \"order_recency\": 96, \"order_seniority\": 126, \"stock\": 66, \"Segments\": \"Cold\"}, {\"ID\": 8244, \"view_item_list_1d\": 945, \"view_item_list_7d\": 6793, \"view_item_list_30d\": 36900, \"view_item_1d\": 68, \"view_item_7d\": 224, \"view_item_30d\": 788, \"add_to_cart_1d\": 0, \"add_to_cart_7d\": 0, \"add_to_cart_30d\": 4, \"begin_checkout_1d\": 0, \"begin_checkout_7d\": 0, \"begin_checkout_30d\": 2, \"purchase_1d\": 0, \"purchase_7d\": 0, \"purchase_30d\": 0, \"qty_sold\": 12, \"nbre_commande\": 12, \"product_marge\": 3456.0, \"order_recency\": 49, \"order_seniority\": 170, \"stock\": 46, \"Segments\": \"Cold\"}, {\"ID\": 8246, \"view_item_list_1d\": 1372, \"view_item_list_7d\": 7722, \"view_item_list_30d\": 37219, \"view_item_1d\": 44, \"view_item_7d\": 380, \"view_item_30d\": 1248, \"add_to_cart_1d\": 1, \"add_to_cart_7d\": 14, \"add_to_cart_30d\": 55, \"begin_checkout_1d\": 0, \"begin_checkout_7d\": 13, \"begin_checkout_30d\": 63, \"purchase_1d\": 0, \"purchase_7d\": 2, \"purchase_30d\": 7, \"qty_sold\": 25, \"nbre_commande\": 25, \"product_marge\": 6975.0, \"order_recency\": 2, \"order_seniority\": 83, \"stock\": 155, \"Segments\": \"Hot Old\"}, {\"ID\": 8249, \"view_item_list_1d\": 2183, \"view_item_list_7d\": 15704, \"view_item_list_30d\": 60915, \"view_item_1d\": 146, \"view_item_7d\": 1264, \"view_item_30d\": 6563, \"add_to_cart_1d\": 2, \"add_to_cart_7d\": 10, \"add_to_cart_30d\": 262, \"begin_checkout_1d\": 2, \"begin_checkout_7d\": 25, \"begin_checkout_30d\": 341, \"purchase_1d\": 0, \"purchase_7d\": 3, \"purchase_30d\": 54, \"qty_sold\": 103, \"nbre_commande\": 102, \"product_marge\": 39964.0, \"order_recency\": 3, \"order_seniority\": 95, \"stock\": 1, \"Segments\": \"Top Hot\"}, {\"ID\": 8270, \"view_item_list_1d\": 3731, \"view_item_list_7d\": 26649, \"view_item_list_30d\": 113383, \"view_item_1d\": 256, \"view_item_7d\": 1398, \"view_item_30d\": 6077, \"add_to_cart_1d\": 4, \"add_to_cart_7d\": 9, \"add_to_cart_30d\": 55, \"begin_checkout_1d\": 9, \"begin_checkout_7d\": 20, \"begin_checkout_30d\": 59, \"purchase_1d\": 2, \"purchase_7d\": 3, \"purchase_30d\": 9, \"qty_sold\": 45, \"nbre_commande\": 43, \"product_marge\": 12960.0, \"order_recency\": 1, \"order_seniority\": 61, \"stock\": null, \"Segments\": \"Medium Hot\"}, {\"ID\": 8281, \"view_item_list_1d\": 396, \"view_item_list_7d\": 2505, \"view_item_list_30d\": 12277, \"view_item_1d\": 26, \"view_item_7d\": 114, \"view_item_30d\": 462, \"add_to_cart_1d\": 0, \"add_to_cart_7d\": 4, \"add_to_cart_30d\": 19, \"begin_checkout_1d\": 0, \"begin_checkout_7d\": 5, \"begin_checkout_30d\": 17, \"purchase_1d\": 0, \"purchase_7d\": 0, \"purchase_30d\": 0, \"qty_sold\": 21, \"nbre_commande\": 21, \"product_marge\": 2016.0, \"order_recency\": 46, \"order_seniority\": 129, \"stock\": 88, \"Segments\": \"Cold\"}]}}, {\"actions\": false, \"mode\": \"vega-lite\"});\n",
       "</script>"
      ],
      "text/plain": [
       "alt.Chart(...)"
      ]
     },
     "execution_count": 33,
     "metadata": {},
     "output_type": "execute_result"
    }
   ],
   "source": [
    "_deepnote_run_altair(unseen_predictions, \"\"\"{\"$schema\":\"https://vega.github.io/schema/vega-lite/v4.json\",\"mark\":{\"type\":\"bar\",\"tooltip\":true},\"height\":220,\"autosize\":{\"type\":\"fit\"},\"data\":{\"name\":\"placeholder\"},\"encoding\":{\"x\":{\"field\":\"COUNT(*)\",\"type\":\"quantitative\",\"sort\":null,\"aggregate\":\"count\",\"scale\":{\"type\":\"linear\",\"zero\":false}},\"y\":{\"field\":\"Segments\",\"type\":\"nominal\",\"sort\":null,\"scale\":{\"type\":\"linear\",\"zero\":true}},\"color\":{\"field\":\"\",\"type\":\"nominal\",\"sort\":null,\"scale\":{\"type\":\"linear\",\"zero\":false}}}}\"\"\")"
   ]
  },
  {
   "cell_type": "code",
   "execution_count": null,
   "metadata": {
    "cell_id": "dd263e5372b6446ebb275d92d50c0e58",
    "deepnote_cell_height": 66,
    "deepnote_cell_type": "code",
    "tags": []
   },
   "outputs": [],
   "source": []
  },
  {
   "cell_type": "code",
   "execution_count": null,
   "metadata": {
    "cell_id": "d47d1841a8be4a019a9d144fcbb70986",
    "deepnote_cell_height": 652.65625,
    "deepnote_cell_type": "code",
    "deepnote_to_be_reexecuted": false,
    "execution_millis": 106,
    "execution_start": 1654077107783,
    "source_hash": "237db500",
    "tags": []
   },
   "outputs": [
    {
     "data": {
      "application/vnd.deepnote.dataframe.v3+json": {
       "column_count": 18,
       "columns": [
        {
         "dtype": "int64",
         "name": "ID",
         "stats": {
          "histogram": [
           {
            "bin_end": 2158.3,
            "bin_start": 1478,
            "count": 49
           },
           {
            "bin_end": 2838.6,
            "bin_start": 2158.3,
            "count": 11
           },
           {
            "bin_end": 3518.8999999999996,
            "bin_start": 2838.6,
            "count": 5
           },
           {
            "bin_end": 4199.2,
            "bin_start": 3518.8999999999996,
            "count": 6
           },
           {
            "bin_end": 4879.5,
            "bin_start": 4199.2,
            "count": 64
           },
           {
            "bin_end": 5559.799999999999,
            "bin_start": 4879.5,
            "count": 51
           },
           {
            "bin_end": 6240.099999999999,
            "bin_start": 5559.799999999999,
            "count": 40
           },
           {
            "bin_end": 6920.4,
            "bin_start": 6240.099999999999,
            "count": 50
           },
           {
            "bin_end": 7600.7,
            "bin_start": 6920.4,
            "count": 135
           },
           {
            "bin_end": 8281,
            "bin_start": 7600.7,
            "count": 221
           }
          ],
          "max": "8281",
          "min": "1478",
          "nan_count": 0,
          "unique_count": 632
         }
        },
        {
         "dtype": "object",
         "name": "Title",
         "stats": {
          "categories": [
           {
            "count": 7,
            "name": "Legging Esther"
           },
           {
            "count": 5,
            "name": "Pantalon Esther"
           },
           {
            "count": 620,
            "name": "473 others"
           }
          ],
          "nan_count": 0,
          "unique_count": 475
         }
        },
        {
         "dtype": "object",
         "name": "Color",
         "stats": {
          "categories": [
           {
            "count": 51,
            "name": "Black"
           },
           {
            "count": 579,
            "name": "146 others"
           },
           {
            "count": 2,
            "name": "Missing"
           }
          ],
          "nan_count": 2,
          "unique_count": 147
         }
        },
        {
         "dtype": "object",
         "name": "Product Type",
         "stats": {
          "categories": [
           {
            "count": 107,
            "name": "Pantalon"
           },
           {
            "count": 74,
            "name": "Robe"
           },
           {
            "count": 451,
            "name": "38 others"
           }
          ],
          "nan_count": 0,
          "unique_count": 40
         }
        },
        {
         "dtype": "int64",
         "name": "Shippping",
         "stats": {
          "histogram": [
           {
            "bin_end": -0.4,
            "bin_start": -0.5,
            "count": 0
           },
           {
            "bin_end": -0.3,
            "bin_start": -0.4,
            "count": 0
           },
           {
            "bin_end": -0.19999999999999996,
            "bin_start": -0.3,
            "count": 0
           },
           {
            "bin_end": -0.09999999999999998,
            "bin_start": -0.19999999999999996,
            "count": 0
           },
           {
            "bin_end": 0,
            "bin_start": -0.09999999999999998,
            "count": 0
           },
           {
            "bin_end": 0.10000000000000009,
            "bin_start": 0,
            "count": 632
           },
           {
            "bin_end": 0.20000000000000007,
            "bin_start": 0.10000000000000009,
            "count": 0
           },
           {
            "bin_end": 0.30000000000000004,
            "bin_start": 0.20000000000000007,
            "count": 0
           },
           {
            "bin_end": 0.4,
            "bin_start": 0.30000000000000004,
            "count": 0
           },
           {
            "bin_end": 0.5,
            "bin_start": 0.4,
            "count": 0
           }
          ],
          "max": "0",
          "min": "0",
          "nan_count": 0,
          "unique_count": 1
         }
        },
        {
         "dtype": "object",
         "name": "custom_label_0",
         "stats": {
          "categories": [
           {
            "count": 287,
            "name": "Last Chance Winter"
           },
           {
            "count": 227,
            "name": "Spring Summer 2022"
           },
           {
            "count": 118,
            "name": "Fall Winter 21"
           }
          ],
          "nan_count": 0,
          "unique_count": 3
         }
        },
        {
         "dtype": "object",
         "name": "Description",
         "stats": {
          "categories": [
           {
            "count": 4,
            "name": "Alliant protection contre le froid et style, ces mitaines en cachemire seront parfaites pour cet hiver."
           },
           {
            "count": 625,
            "name": "576 others"
           },
           {
            "count": 3,
            "name": "Missing"
           }
          ],
          "nan_count": 3,
          "unique_count": 577
         }
        },
        {
         "dtype": "object",
         "name": "availability",
         "stats": {
          "categories": [
           {
            "count": 632,
            "name": "In Stock"
           }
          ],
          "nan_count": 0,
          "unique_count": 1
         }
        },
        {
         "dtype": "object",
         "name": "Condition",
         "stats": {
          "categories": [
           {
            "count": 632,
            "name": "New"
           }
          ],
          "nan_count": 0,
          "unique_count": 1
         }
        },
        {
         "dtype": "float64",
         "name": "Sale Price",
         "stats": {
          "histogram": [
           {
            "bin_end": 159,
            "bin_start": 32.5,
            "count": 267
           },
           {
            "bin_end": 285.5,
            "bin_start": 159,
            "count": 218
           },
           {
            "bin_end": 412,
            "bin_start": 285.5,
            "count": 109
           },
           {
            "bin_end": 538.5,
            "bin_start": 412,
            "count": 26
           },
           {
            "bin_end": 665,
            "bin_start": 538.5,
            "count": 2
           },
           {
            "bin_end": 791.5,
            "bin_start": 665,
            "count": 4
           },
           {
            "bin_end": 918,
            "bin_start": 791.5,
            "count": 3
           },
           {
            "bin_end": 1044.5,
            "bin_start": 918,
            "count": 2
           },
           {
            "bin_end": 1171,
            "bin_start": 1044.5,
            "count": 0
           },
           {
            "bin_end": 1297.5,
            "bin_start": 1171,
            "count": 1
           }
          ],
          "max": "1297.5",
          "min": "32.5",
          "nan_count": 0,
          "unique_count": 158
         }
        },
        {
         "dtype": "float64",
         "name": "Price",
         "stats": {
          "histogram": [
           {
            "bin_end": 318,
            "bin_start": 65,
            "count": 437
           },
           {
            "bin_end": 571,
            "bin_start": 318,
            "count": 162
           },
           {
            "bin_end": 824,
            "bin_start": 571,
            "count": 27
           },
           {
            "bin_end": 1077,
            "bin_start": 824,
            "count": 2
           },
           {
            "bin_end": 1330,
            "bin_start": 1077,
            "count": 0
           },
           {
            "bin_end": 1583,
            "bin_start": 1330,
            "count": 1
           },
           {
            "bin_end": 1836,
            "bin_start": 1583,
            "count": 2
           },
           {
            "bin_end": 2089,
            "bin_start": 1836,
            "count": 0
           },
           {
            "bin_end": 2342,
            "bin_start": 2089,
            "count": 0
           },
           {
            "bin_end": 2595,
            "bin_start": 2342,
            "count": 1
           }
          ],
          "max": "2595.0",
          "min": "65.0",
          "nan_count": 0,
          "unique_count": 97
         }
        },
        {
         "dtype": "object",
         "name": "Brand",
         "stats": {
          "categories": [
           {
            "count": 632,
            "name": "Mes Demoiselles"
           }
          ],
          "nan_count": 0,
          "unique_count": 1
         }
        },
        {
         "dtype": "object",
         "name": "gtin",
         "stats": {
          "categories": [
           {
            "count": 632,
            "name": "FB_GENERIC_TAXABLE"
           }
          ],
          "nan_count": 0,
          "unique_count": 1
         }
        },
        {
         "dtype": "object",
         "name": "identifier_exists",
         "stats": {
          "categories": [
           {
            "count": 632,
            "name": "YES"
           }
          ],
          "nan_count": 0,
          "unique_count": 1
         }
        },
        {
         "dtype": "object",
         "name": "link",
         "stats": {
          "categories": [
           {
            "count": 1,
            "name": "https://www.mesdemoisellesparis.com/fr/pantalon/6328-33295-multicolore-abell-pantalon.html#/33-taille-38/1499-couleur-abell_multicolor"
           },
           {
            "count": 1,
            "name": "https://www.mesdemoisellesparis.com/fr/manteau/6337-33326-bleu-nuit-arsine-manteau.html#/37-taille-36/1517-couleur-arsine_midnight"
           },
           {
            "count": 630,
            "name": "630 others"
           }
          ],
          "nan_count": 0,
          "unique_count": 632
         }
        },
        {
         "dtype": "object",
         "name": "image_link",
         "stats": {
          "categories": [
           {
            "count": 1,
            "name": "https://media.mesdemoisellesparis.com/18969-facebook_catalog/multicolore-abell-pantalon.jpg"
           },
           {
            "count": 1,
            "name": "https://media.mesdemoisellesparis.com/19373-facebook_catalog/bleu-nuit-arsine-manteau.jpg"
           },
           {
            "count": 630,
            "name": "630 others"
           }
          ],
          "nan_count": 0,
          "unique_count": 632
         }
        },
        {
         "dtype": "object",
         "name": "URL de l'image 1",
         "stats": {
          "categories": [
           {
            "count": 1,
            "name": "https://media.mesdemoisellesparis.com/18968-facebook_catalog/multicolore-abell-pantalon.jpg"
           },
           {
            "count": 623,
            "name": "623 others"
           },
           {
            "count": 8,
            "name": "Missing"
           }
          ],
          "nan_count": 8,
          "unique_count": 624
         }
        },
        {
         "dtype": "object",
         "name": "Neutre",
         "stats": {
          "categories": [
           {
            "count": 632,
            "name": "neutre"
           }
          ],
          "nan_count": 0,
          "unique_count": 1
         }
        },
        {
         "dtype": "int64",
         "name": "_deepnote_index_column"
        }
       ],
       "row_count": 632,
       "rows": [
        {
         "Brand": "Mes Demoiselles",
         "Color": "Multicolor",
         "Condition": "New",
         "Description": "Confectionné dans un mélange de matière noble, ce pantalon est parfait pour apporter une touche de couleur à vos tenues. Sa coupe droite apporte une allure bohème irrésistible. Composition: 40% viscose 25% coton 20% soie 15% lurexConseils d'entretien:- Lavage à la main- Pas de sèche-linge- Repasser délicatement",
         "ID": 6328,
         "Neutre": "neutre",
         "Price": 255,
         "Product Type": "Pantalon",
         "Sale Price": 127.5,
         "Shippping": 0,
         "Title": "Pantalon Abell",
         "URL de l'image 1": "https://media.mesdemoisellesparis.com/18968-facebook_catalog/multicolore-abell-pantalon.jpg",
         "_deepnote_index_column": 0,
         "availability": "In Stock",
         "custom_label_0": "Last Chance Winter",
         "gtin": "FB_GENERIC_TAXABLE",
         "identifier_exists": "YES",
         "image_link": "https://media.mesdemoisellesparis.com/18969-facebook_catalog/multicolore-abell-pantalon.jpg",
         "link": "https://www.mesdemoisellesparis.com/fr/pantalon/6328-33295-multicolore-abell-pantalon.html#/33-taille-38/1499-couleur-abell_multicolor"
        },
        {
         "Brand": "Mes Demoiselles",
         "Color": "Midnight",
         "Condition": "New",
         "Description": "Veste stylée réalisée en mouton retourné synthétique, qui adopte une coupe droite. Les manches se terminent par une boutonnière pour un esprit plus contemporain.Son allure décontractée enchanteront vos sorties hivernales. Ce modèle est réversible. Composition:100% cuir de mouton Conseils d'entretien:- Lavage à la main ou entretien par un professionnel- Pas de sèche-linge",
         "ID": 6337,
         "Neutre": "neutre",
         "Price": 1370,
         "Product Type": "Manteau",
         "Sale Price": 685,
         "Shippping": 0,
         "Title": "Manteau Arsine",
         "URL de l'image 1": "https://media.mesdemoisellesparis.com/19374-facebook_catalog/bleu-nuit-arsine-manteau.jpg",
         "_deepnote_index_column": 1,
         "availability": "In Stock",
         "custom_label_0": "Last Chance Winter",
         "gtin": "FB_GENERIC_TAXABLE",
         "identifier_exists": "YES",
         "image_link": "https://media.mesdemoisellesparis.com/19373-facebook_catalog/bleu-nuit-arsine-manteau.jpg",
         "link": "https://www.mesdemoisellesparis.com/fr/manteau/6337-33326-bleu-nuit-arsine-manteau.html#/37-taille-36/1517-couleur-arsine_midnight"
        },
        {
         "Brand": "Mes Demoiselles",
         "Color": "Ecru/ocre",
         "Condition": "New",
         "Description": "Cette robe mélodieuse et romantique, elle s'inscrit dans les codes Mes Demoiselles. Son coton est agrémenté de broderies florales beige pour plus de douceur. Les manches sont longues, souples et se terminent par un élastique.  Composition: 100% coton Conseils d'entretien:- Lavage à la main- Pas de sèche-linge- Repasser délicatement",
         "ID": 6372,
         "Neutre": "neutre",
         "Price": 220,
         "Product Type": "Robe",
         "Sale Price": 110,
         "Shippping": 0,
         "Title": "Robe Begonia",
         "URL de l'image 1": "https://media.mesdemoisellesparis.com/18977-facebook_catalog/ocre-begonia-robe.jpg",
         "_deepnote_index_column": 2,
         "availability": "In Stock",
         "custom_label_0": "Last Chance Winter",
         "gtin": "FB_GENERIC_TAXABLE",
         "identifier_exists": "YES",
         "image_link": "https://media.mesdemoisellesparis.com/20032-facebook_catalog/ocre-begonia-robe.jpg",
         "link": "https://www.mesdemoisellesparis.com/fr/robe/6372-37131-ocre-begonia-robe.html#/38-taille-40/1486-couleur-basilic_ecru_ocre"
        },
        {
         "Brand": "Mes Demoiselles",
         "Color": "Blue",
         "Condition": "New",
         "Description": "Ce long kimono en soie, emblème de la maison, possède des lignes douces et romantiques.Une ceinture ajuste la taille et souligne la silhouette.Composition: 100% soieConseil d'entretien:- Lavage à la main- Pas de sèche-linge- Ne pas repasser",
         "ID": 6378,
         "Neutre": "neutre",
         "Price": 205,
         "Product Type": "Kimono",
         "Sale Price": 102.5,
         "Shippping": 0,
         "Title": "Kimono Benson",
         "URL de l'image 1": "https://media.mesdemoisellesparis.com/19376-facebook_catalog/imprime-bleu-benson-kimono.jpg",
         "_deepnote_index_column": 3,
         "availability": "In Stock",
         "custom_label_0": "Last Chance Winter",
         "gtin": "FB_GENERIC_TAXABLE",
         "identifier_exists": "YES",
         "image_link": "https://media.mesdemoisellesparis.com/19375-facebook_catalog/imprime-bleu-benson-kimono.jpg",
         "link": "https://www.mesdemoisellesparis.com/fr/kimono/6378-33427-imprime-bleu-benson-kimono.html#/37-taille-36/1507-couleur-bradley_blue"
        },
        {
         "Brand": "Mes Demoiselles",
         "Color": "Blue",
         "Condition": "New",
         "Description": "Féminine et éthérée, cette combinaison associe douces rayures tons sur tons apportant style et tendance au modèle.Elle se boutonne sur la partie haute du modèleComposition: 100% soie Conseils d'entretien: - Lavage à la main - Pas de sèche-linge - Ne pa repasser",
         "ID": 6392,
         "Neutre": "neutre",
         "Price": 255,
         "Product Type": "Combinaison",
         "Sale Price": 127.5,
         "Shippping": 0,
         "Title": "Combinaison Bradley",
         "URL de l'image 1": "https://media.mesdemoisellesparis.com/18925-facebook_catalog/imprime-bleu-bradley-combinaison.jpg",
         "_deepnote_index_column": 4,
         "availability": "In Stock",
         "custom_label_0": "Last Chance Winter",
         "gtin": "FB_GENERIC_TAXABLE",
         "identifier_exists": "YES",
         "image_link": "https://media.mesdemoisellesparis.com/18923-facebook_catalog/imprime-bleu-bradley-combinaison.jpg",
         "link": "https://www.mesdemoisellesparis.com/fr/combinaison/6392-33479-imprime-bleu-bradley-combinaison.html#/33-taille-38/1507-couleur-bradley_blue"
        },
        {
         "Brand": "Mes Demoiselles",
         "Color": "Boro Print",
         "Condition": "New",
         "Description": "Ce kimono en soie, emblème de la maison, se pare d'un patchwork.Sa taille est délicatement accentuée par une ceinture à nouer.Laissez vous séduire par sa coupe féminine. Composition: 100% soieConseils d'entretien:- Lavage à la main- Pas de sèche-linge- Ne pas repasser.",
         "ID": 6410,
         "Neutre": "neutre",
         "Price": 265,
         "Product Type": "Kimono",
         "Sale Price": 132.5,
         "Shippping": 0,
         "Title": "Kimono Bungo",
         "URL de l'image 1": "https://media.mesdemoisellesparis.com/18920-facebook_catalog/imprime-bleu-bungo-kimono.jpg",
         "_deepnote_index_column": 5,
         "availability": "In Stock",
         "custom_label_0": "Last Chance Winter",
         "gtin": "FB_GENERIC_TAXABLE",
         "identifier_exists": "YES",
         "image_link": "https://media.mesdemoisellesparis.com/20268-facebook_catalog/imprime-bleu-bungo-kimono.jpg",
         "link": "https://www.mesdemoisellesparis.com/fr/kimono/6410-33526-imprime-bleu-bungo-kimono.html#/33-taille-38/1500-couleur-botan_boro"
        },
        {
         "Brand": "Mes Demoiselles",
         "Color": "Safran",
         "Condition": "New",
         "Description": "Léger et féminin, cet blouse est réalisé en soieSon col V et ses manches trois quart flatte la silhouette pour un look décontracté. Composition: 100% soie  Conseils d'entretien :- Lavage à la main- Pas de sèche-linge- Repasser délicatement",
         "ID": 6414,
         "Neutre": "neutre",
         "Price": 260,
         "Product Type": "Robe",
         "Sale Price": 130,
         "Shippping": 0,
         "Title": "Robe Caftan",
         "URL de l'image 1": "https://media.mesdemoisellesparis.com/18859-facebook_catalog/safran-caftan-robe.jpg",
         "_deepnote_index_column": 6,
         "availability": "In Stock",
         "custom_label_0": "Last Chance Winter",
         "gtin": "FB_GENERIC_TAXABLE",
         "identifier_exists": "YES",
         "image_link": "https://media.mesdemoisellesparis.com/20482-facebook_catalog/safran-caftan-robe.jpg",
         "link": "https://www.mesdemoisellesparis.com/fr/robe/6414-33536-safran-caftan-robe.html#/33-taille-38/1503-couleur-caftan_safran"
        },
        {
         "Brand": "Mes Demoiselles",
         "Color": "Tie Print",
         "Condition": "New",
         "Description": "Ce débardeur Cameo est composé de soie souple qui a été traitée dans une teinte brunâtre. Il présente une coupe ample, une encolure dégagée et de larges bretelles. Composition : 100 % soie  Conseils d'entretien : - Lavage à la main - Pas de séchage machine - Repassage délicat - Chlorage interdit",
         "ID": 6421,
         "Neutre": "neutre",
         "Price": 160,
         "Product Type": "Top",
         "Sale Price": 80,
         "Shippping": 0,
         "Title": "Top Cameo",
         "URL de l'image 1": "https://media.mesdemoisellesparis.com/18938-facebook_catalog/imprime-cameo-top.jpg",
         "_deepnote_index_column": 7,
         "availability": "In Stock",
         "custom_label_0": "Last Chance Winter",
         "gtin": "FB_GENERIC_TAXABLE",
         "identifier_exists": "YES",
         "image_link": "https://media.mesdemoisellesparis.com/20483-facebook_catalog/imprime-cameo-top.jpg",
         "link": "https://www.mesdemoisellesparis.com/fr/top/6421-33567-imprime-cameo-top.html#/33-taille-38/1530-couleur-school_tie_print"
        },
        {
         "Brand": "Mes Demoiselles",
         "Color": "Safran",
         "Condition": "New",
         "Description": "Incontournable du vestiaire, cette blouse en cache coeur est confectionnée en soie. Son look chic et décontracté offre à la silhouette une allure naturelle et féminine. Composition: 100% soieConseils d'entretien:- Lavage à la main- Pas de sèche-linge- Repasser délicatement",
         "ID": 6422,
         "Neutre": "neutre",
         "Price": 225,
         "Product Type": "Blouse",
         "Sale Price": 112.5,
         "Shippping": 0,
         "Title": "Blouse Carmen",
         "URL de l'image 1": "https://media.mesdemoisellesparis.com/19017-facebook_catalog/safran-carmen-blouse.jpg",
         "_deepnote_index_column": 8,
         "availability": "In Stock",
         "custom_label_0": "Last Chance Winter",
         "gtin": "FB_GENERIC_TAXABLE",
         "identifier_exists": "YES",
         "image_link": "https://media.mesdemoisellesparis.com/19406-facebook_catalog/safran-carmen-blouse.jpg",
         "link": "https://www.mesdemoisellesparis.com/fr/blouse/6422-33572-safran-carmen-blouse.html#/33-taille-38/1503-couleur-caftan_safran"
        },
        {
         "Brand": "Mes Demoiselles",
         "Color": "Khaki",
         "Condition": "New",
         "Description": "Interprétation à la fois décontractée et raffinée du célèbre jogging pour un look résolument urbain. La taille est structurée et des plis plat en exaltent le style complété par des poches fendues sur le côté.Composition: 100% soieConseils d'entretien:- Lavage à la main- Pas de sèche-linge- Ne pas repasser.",
         "ID": 6433,
         "Neutre": "neutre",
         "Price": 220,
         "Product Type": "Pantalon",
         "Sale Price": 110,
         "Shippping": 0,
         "Title": "Pantalon Cavalerie",
         "URL de l'image 1": "https://media.mesdemoisellesparis.com/19149-facebook_catalog/khaki-cavalerie-pantalon.jpg",
         "_deepnote_index_column": 9,
         "availability": "In Stock",
         "custom_label_0": "Last Chance Winter",
         "gtin": "FB_GENERIC_TAXABLE",
         "identifier_exists": "YES",
         "image_link": "https://media.mesdemoisellesparis.com/19148-facebook_catalog/khaki-cavalerie-pantalon.jpg",
         "link": "https://www.mesdemoisellesparis.com/fr/pantalon/6433-33616-khaki-cavalerie-pantalon.html#/38-taille-40/1501-couleur-caftan_khaki"
        }
       ]
      },
      "text/html": [
       "<div>\n",
       "<style scoped>\n",
       "    .dataframe tbody tr th:only-of-type {\n",
       "        vertical-align: middle;\n",
       "    }\n",
       "\n",
       "    .dataframe tbody tr th {\n",
       "        vertical-align: top;\n",
       "    }\n",
       "\n",
       "    .dataframe thead th {\n",
       "        text-align: right;\n",
       "    }\n",
       "</style>\n",
       "<table border=\"1\" class=\"dataframe\">\n",
       "  <thead>\n",
       "    <tr style=\"text-align: right;\">\n",
       "      <th></th>\n",
       "      <th>ID</th>\n",
       "      <th>Title</th>\n",
       "      <th>Color</th>\n",
       "      <th>Product Type</th>\n",
       "      <th>Shippping</th>\n",
       "      <th>custom_label_0</th>\n",
       "      <th>Description</th>\n",
       "      <th>availability</th>\n",
       "      <th>Condition</th>\n",
       "      <th>Sale Price</th>\n",
       "      <th>Price</th>\n",
       "      <th>Brand</th>\n",
       "      <th>gtin</th>\n",
       "      <th>identifier_exists</th>\n",
       "      <th>link</th>\n",
       "      <th>image_link</th>\n",
       "      <th>URL de l'image 1</th>\n",
       "      <th>Neutre</th>\n",
       "    </tr>\n",
       "  </thead>\n",
       "  <tbody>\n",
       "    <tr>\n",
       "      <th>0</th>\n",
       "      <td>6328</td>\n",
       "      <td>Pantalon Abell</td>\n",
       "      <td>Multicolor</td>\n",
       "      <td>Pantalon</td>\n",
       "      <td>0</td>\n",
       "      <td>Last Chance Winter</td>\n",
       "      <td>Confectionné dans un mélange de matière noble,...</td>\n",
       "      <td>In Stock</td>\n",
       "      <td>New</td>\n",
       "      <td>127.5</td>\n",
       "      <td>255.0</td>\n",
       "      <td>Mes Demoiselles</td>\n",
       "      <td>FB_GENERIC_TAXABLE</td>\n",
       "      <td>YES</td>\n",
       "      <td>https://www.mesdemoisellesparis.com/fr/pantalo...</td>\n",
       "      <td>https://media.mesdemoisellesparis.com/18969-fa...</td>\n",
       "      <td>https://media.mesdemoisellesparis.com/18968-fa...</td>\n",
       "      <td>neutre</td>\n",
       "    </tr>\n",
       "    <tr>\n",
       "      <th>1</th>\n",
       "      <td>6337</td>\n",
       "      <td>Manteau Arsine</td>\n",
       "      <td>Midnight</td>\n",
       "      <td>Manteau</td>\n",
       "      <td>0</td>\n",
       "      <td>Last Chance Winter</td>\n",
       "      <td>Veste stylée réalisée en mouton retourné synth...</td>\n",
       "      <td>In Stock</td>\n",
       "      <td>New</td>\n",
       "      <td>685.0</td>\n",
       "      <td>1370.0</td>\n",
       "      <td>Mes Demoiselles</td>\n",
       "      <td>FB_GENERIC_TAXABLE</td>\n",
       "      <td>YES</td>\n",
       "      <td>https://www.mesdemoisellesparis.com/fr/manteau...</td>\n",
       "      <td>https://media.mesdemoisellesparis.com/19373-fa...</td>\n",
       "      <td>https://media.mesdemoisellesparis.com/19374-fa...</td>\n",
       "      <td>neutre</td>\n",
       "    </tr>\n",
       "    <tr>\n",
       "      <th>2</th>\n",
       "      <td>6372</td>\n",
       "      <td>Robe Begonia</td>\n",
       "      <td>Ecru/ocre</td>\n",
       "      <td>Robe</td>\n",
       "      <td>0</td>\n",
       "      <td>Last Chance Winter</td>\n",
       "      <td>Cette robe mélodieuse et romantique, elle s'in...</td>\n",
       "      <td>In Stock</td>\n",
       "      <td>New</td>\n",
       "      <td>110.0</td>\n",
       "      <td>220.0</td>\n",
       "      <td>Mes Demoiselles</td>\n",
       "      <td>FB_GENERIC_TAXABLE</td>\n",
       "      <td>YES</td>\n",
       "      <td>https://www.mesdemoisellesparis.com/fr/robe/63...</td>\n",
       "      <td>https://media.mesdemoisellesparis.com/20032-fa...</td>\n",
       "      <td>https://media.mesdemoisellesparis.com/18977-fa...</td>\n",
       "      <td>neutre</td>\n",
       "    </tr>\n",
       "    <tr>\n",
       "      <th>3</th>\n",
       "      <td>6378</td>\n",
       "      <td>Kimono Benson</td>\n",
       "      <td>Blue</td>\n",
       "      <td>Kimono</td>\n",
       "      <td>0</td>\n",
       "      <td>Last Chance Winter</td>\n",
       "      <td>Ce long kimono en soie, emblème de la maison, ...</td>\n",
       "      <td>In Stock</td>\n",
       "      <td>New</td>\n",
       "      <td>102.5</td>\n",
       "      <td>205.0</td>\n",
       "      <td>Mes Demoiselles</td>\n",
       "      <td>FB_GENERIC_TAXABLE</td>\n",
       "      <td>YES</td>\n",
       "      <td>https://www.mesdemoisellesparis.com/fr/kimono/...</td>\n",
       "      <td>https://media.mesdemoisellesparis.com/19375-fa...</td>\n",
       "      <td>https://media.mesdemoisellesparis.com/19376-fa...</td>\n",
       "      <td>neutre</td>\n",
       "    </tr>\n",
       "    <tr>\n",
       "      <th>4</th>\n",
       "      <td>6392</td>\n",
       "      <td>Combinaison Bradley</td>\n",
       "      <td>Blue</td>\n",
       "      <td>Combinaison</td>\n",
       "      <td>0</td>\n",
       "      <td>Last Chance Winter</td>\n",
       "      <td>Féminine et éthérée, cette combinaison associe...</td>\n",
       "      <td>In Stock</td>\n",
       "      <td>New</td>\n",
       "      <td>127.5</td>\n",
       "      <td>255.0</td>\n",
       "      <td>Mes Demoiselles</td>\n",
       "      <td>FB_GENERIC_TAXABLE</td>\n",
       "      <td>YES</td>\n",
       "      <td>https://www.mesdemoisellesparis.com/fr/combina...</td>\n",
       "      <td>https://media.mesdemoisellesparis.com/18923-fa...</td>\n",
       "      <td>https://media.mesdemoisellesparis.com/18925-fa...</td>\n",
       "      <td>neutre</td>\n",
       "    </tr>\n",
       "    <tr>\n",
       "      <th>...</th>\n",
       "      <td>...</td>\n",
       "      <td>...</td>\n",
       "      <td>...</td>\n",
       "      <td>...</td>\n",
       "      <td>...</td>\n",
       "      <td>...</td>\n",
       "      <td>...</td>\n",
       "      <td>...</td>\n",
       "      <td>...</td>\n",
       "      <td>...</td>\n",
       "      <td>...</td>\n",
       "      <td>...</td>\n",
       "      <td>...</td>\n",
       "      <td>...</td>\n",
       "      <td>...</td>\n",
       "      <td>...</td>\n",
       "      <td>...</td>\n",
       "      <td>...</td>\n",
       "    </tr>\n",
       "    <tr>\n",
       "      <th>627</th>\n",
       "      <td>8244</td>\n",
       "      <td>Pull Kerwel</td>\n",
       "      <td>Black</td>\n",
       "      <td>Pull</td>\n",
       "      <td>0</td>\n",
       "      <td>Spring Summer 2022</td>\n",
       "      <td>Façon poncho, facile à enfiler sur vos tenues ...</td>\n",
       "      <td>In Stock</td>\n",
       "      <td>New</td>\n",
       "      <td>345.0</td>\n",
       "      <td>345.0</td>\n",
       "      <td>Mes Demoiselles</td>\n",
       "      <td>FB_GENERIC_TAXABLE</td>\n",
       "      <td>YES</td>\n",
       "      <td>https://www.mesdemoisellesparis.com/fr/pull/82...</td>\n",
       "      <td>https://media.mesdemoisellesparis.com/20022-fa...</td>\n",
       "      <td>https://media.mesdemoisellesparis.com/20018-fa...</td>\n",
       "      <td>neutre</td>\n",
       "    </tr>\n",
       "    <tr>\n",
       "      <th>628</th>\n",
       "      <td>8246</td>\n",
       "      <td>Escarpins Giennah</td>\n",
       "      <td>Black</td>\n",
       "      <td>Escarpins</td>\n",
       "      <td>0</td>\n",
       "      <td>Spring Summer 2022</td>\n",
       "      <td>Avec cette paire de sandales, notre maison ins...</td>\n",
       "      <td>In Stock</td>\n",
       "      <td>New</td>\n",
       "      <td>335.0</td>\n",
       "      <td>335.0</td>\n",
       "      <td>Mes Demoiselles</td>\n",
       "      <td>FB_GENERIC_TAXABLE</td>\n",
       "      <td>YES</td>\n",
       "      <td>https://www.mesdemoisellesparis.com/fr/escarpi...</td>\n",
       "      <td>https://media.mesdemoisellesparis.com/20801-fa...</td>\n",
       "      <td>https://media.mesdemoisellesparis.com/20800-fa...</td>\n",
       "      <td>neutre</td>\n",
       "    </tr>\n",
       "    <tr>\n",
       "      <th>629</th>\n",
       "      <td>8270</td>\n",
       "      <td>Robe Phale</td>\n",
       "      <td>Charcoal/Ecru</td>\n",
       "      <td>Robe</td>\n",
       "      <td>0</td>\n",
       "      <td>Spring Summer 2022</td>\n",
       "      <td>Dans la famille des robes, osez ce modèle qui ...</td>\n",
       "      <td>In Stock</td>\n",
       "      <td>New</td>\n",
       "      <td>345.0</td>\n",
       "      <td>345.0</td>\n",
       "      <td>Mes Demoiselles</td>\n",
       "      <td>FB_GENERIC_TAXABLE</td>\n",
       "      <td>YES</td>\n",
       "      <td>https://www.mesdemoisellesparis.com/fr/robe/82...</td>\n",
       "      <td>https://media.mesdemoisellesparis.com/21298-fa...</td>\n",
       "      <td>https://media.mesdemoisellesparis.com/21295-fa...</td>\n",
       "      <td>neutre</td>\n",
       "    </tr>\n",
       "    <tr>\n",
       "      <th>630</th>\n",
       "      <td>8281</td>\n",
       "      <td>Ensemble Meka</td>\n",
       "      <td>Terre De Sienne</td>\n",
       "      <td>Ensemble</td>\n",
       "      <td>0</td>\n",
       "      <td>Spring Summer 2022</td>\n",
       "      <td>Issu du charme de la lingerie féminine notre e...</td>\n",
       "      <td>In Stock</td>\n",
       "      <td>New</td>\n",
       "      <td>115.0</td>\n",
       "      <td>115.0</td>\n",
       "      <td>Mes Demoiselles</td>\n",
       "      <td>FB_GENERIC_TAXABLE</td>\n",
       "      <td>YES</td>\n",
       "      <td>https://www.mesdemoisellesparis.com/fr/ensembl...</td>\n",
       "      <td>https://media.mesdemoisellesparis.com/20675-fa...</td>\n",
       "      <td>https://media.mesdemoisellesparis.com/20674-fa...</td>\n",
       "      <td>neutre</td>\n",
       "    </tr>\n",
       "    <tr>\n",
       "      <th>631</th>\n",
       "      <td>8120</td>\n",
       "      <td>Kimono Suki</td>\n",
       "      <td>Neutre</td>\n",
       "      <td>Kimono</td>\n",
       "      <td>0</td>\n",
       "      <td>Spring Summer 2022</td>\n",
       "      <td>Issu du charme de la lingerie féminine notre e...</td>\n",
       "      <td>In Stock</td>\n",
       "      <td>New</td>\n",
       "      <td>385.0</td>\n",
       "      <td>385.0</td>\n",
       "      <td>Mes Demoiselles</td>\n",
       "      <td>FB_GENERIC_TAXABLE</td>\n",
       "      <td>YES</td>\n",
       "      <td>https://www.mesdemoisellesparis.com/fr/kimono/...</td>\n",
       "      <td>https://media.mesdemoisellesparis.com/20857-co...</td>\n",
       "      <td>https://media.mesdemoisellesparis.com/20857-co...</td>\n",
       "      <td>neutre</td>\n",
       "    </tr>\n",
       "  </tbody>\n",
       "</table>\n",
       "<p>632 rows × 18 columns</p>\n",
       "</div>"
      ],
      "text/plain": [
       "       ID                Title            Color Product Type  Shippping  \\\n",
       "0    6328       Pantalon Abell       Multicolor     Pantalon          0   \n",
       "1    6337       Manteau Arsine         Midnight      Manteau          0   \n",
       "2    6372         Robe Begonia        Ecru/ocre         Robe          0   \n",
       "3    6378        Kimono Benson             Blue       Kimono          0   \n",
       "4    6392  Combinaison Bradley             Blue  Combinaison          0   \n",
       "..    ...                  ...              ...          ...        ...   \n",
       "627  8244          Pull Kerwel            Black         Pull          0   \n",
       "628  8246    Escarpins Giennah            Black    Escarpins          0   \n",
       "629  8270           Robe Phale    Charcoal/Ecru         Robe          0   \n",
       "630  8281        Ensemble Meka  Terre De Sienne     Ensemble          0   \n",
       "631  8120          Kimono Suki           Neutre       Kimono          0   \n",
       "\n",
       "         custom_label_0                                        Description  \\\n",
       "0    Last Chance Winter  Confectionné dans un mélange de matière noble,...   \n",
       "1    Last Chance Winter  Veste stylée réalisée en mouton retourné synth...   \n",
       "2    Last Chance Winter  Cette robe mélodieuse et romantique, elle s'in...   \n",
       "3    Last Chance Winter  Ce long kimono en soie, emblème de la maison, ...   \n",
       "4    Last Chance Winter  Féminine et éthérée, cette combinaison associe...   \n",
       "..                  ...                                                ...   \n",
       "627  Spring Summer 2022  Façon poncho, facile à enfiler sur vos tenues ...   \n",
       "628  Spring Summer 2022  Avec cette paire de sandales, notre maison ins...   \n",
       "629  Spring Summer 2022  Dans la famille des robes, osez ce modèle qui ...   \n",
       "630  Spring Summer 2022  Issu du charme de la lingerie féminine notre e...   \n",
       "631  Spring Summer 2022  Issu du charme de la lingerie féminine notre e...   \n",
       "\n",
       "    availability Condition  Sale Price   Price            Brand  \\\n",
       "0       In Stock       New       127.5   255.0  Mes Demoiselles   \n",
       "1       In Stock       New       685.0  1370.0  Mes Demoiselles   \n",
       "2       In Stock       New       110.0   220.0  Mes Demoiselles   \n",
       "3       In Stock       New       102.5   205.0  Mes Demoiselles   \n",
       "4       In Stock       New       127.5   255.0  Mes Demoiselles   \n",
       "..           ...       ...         ...     ...              ...   \n",
       "627     In Stock       New       345.0   345.0  Mes Demoiselles   \n",
       "628     In Stock       New       335.0   335.0  Mes Demoiselles   \n",
       "629     In Stock       New       345.0   345.0  Mes Demoiselles   \n",
       "630     In Stock       New       115.0   115.0  Mes Demoiselles   \n",
       "631     In Stock       New       385.0   385.0  Mes Demoiselles   \n",
       "\n",
       "                   gtin identifier_exists  \\\n",
       "0    FB_GENERIC_TAXABLE               YES   \n",
       "1    FB_GENERIC_TAXABLE               YES   \n",
       "2    FB_GENERIC_TAXABLE               YES   \n",
       "3    FB_GENERIC_TAXABLE               YES   \n",
       "4    FB_GENERIC_TAXABLE               YES   \n",
       "..                  ...               ...   \n",
       "627  FB_GENERIC_TAXABLE               YES   \n",
       "628  FB_GENERIC_TAXABLE               YES   \n",
       "629  FB_GENERIC_TAXABLE               YES   \n",
       "630  FB_GENERIC_TAXABLE               YES   \n",
       "631  FB_GENERIC_TAXABLE               YES   \n",
       "\n",
       "                                                  link  \\\n",
       "0    https://www.mesdemoisellesparis.com/fr/pantalo...   \n",
       "1    https://www.mesdemoisellesparis.com/fr/manteau...   \n",
       "2    https://www.mesdemoisellesparis.com/fr/robe/63...   \n",
       "3    https://www.mesdemoisellesparis.com/fr/kimono/...   \n",
       "4    https://www.mesdemoisellesparis.com/fr/combina...   \n",
       "..                                                 ...   \n",
       "627  https://www.mesdemoisellesparis.com/fr/pull/82...   \n",
       "628  https://www.mesdemoisellesparis.com/fr/escarpi...   \n",
       "629  https://www.mesdemoisellesparis.com/fr/robe/82...   \n",
       "630  https://www.mesdemoisellesparis.com/fr/ensembl...   \n",
       "631  https://www.mesdemoisellesparis.com/fr/kimono/...   \n",
       "\n",
       "                                            image_link  \\\n",
       "0    https://media.mesdemoisellesparis.com/18969-fa...   \n",
       "1    https://media.mesdemoisellesparis.com/19373-fa...   \n",
       "2    https://media.mesdemoisellesparis.com/20032-fa...   \n",
       "3    https://media.mesdemoisellesparis.com/19375-fa...   \n",
       "4    https://media.mesdemoisellesparis.com/18923-fa...   \n",
       "..                                                 ...   \n",
       "627  https://media.mesdemoisellesparis.com/20022-fa...   \n",
       "628  https://media.mesdemoisellesparis.com/20801-fa...   \n",
       "629  https://media.mesdemoisellesparis.com/21298-fa...   \n",
       "630  https://media.mesdemoisellesparis.com/20675-fa...   \n",
       "631  https://media.mesdemoisellesparis.com/20857-co...   \n",
       "\n",
       "                                      URL de l'image 1  Neutre  \n",
       "0    https://media.mesdemoisellesparis.com/18968-fa...  neutre  \n",
       "1    https://media.mesdemoisellesparis.com/19374-fa...  neutre  \n",
       "2    https://media.mesdemoisellesparis.com/18977-fa...  neutre  \n",
       "3    https://media.mesdemoisellesparis.com/19376-fa...  neutre  \n",
       "4    https://media.mesdemoisellesparis.com/18925-fa...  neutre  \n",
       "..                                                 ...     ...  \n",
       "627  https://media.mesdemoisellesparis.com/20018-fa...  neutre  \n",
       "628  https://media.mesdemoisellesparis.com/20800-fa...  neutre  \n",
       "629  https://media.mesdemoisellesparis.com/21295-fa...  neutre  \n",
       "630  https://media.mesdemoisellesparis.com/20674-fa...  neutre  \n",
       "631  https://media.mesdemoisellesparis.com/20857-co...  neutre  \n",
       "\n",
       "[632 rows x 18 columns]"
      ]
     },
     "execution_count": 34,
     "metadata": {},
     "output_type": "execute_result"
    }
   ],
   "source": [
    "#Load data that contains the item picture\n",
    "base_image=pd.read_csv('base_image.csv',sep=',')\n",
    "base_image"
   ]
  },
  {
   "cell_type": "code",
   "execution_count": null,
   "metadata": {
    "cell_id": "01a3d7e2128f451f83c16027c8d45253",
    "deepnote_cell_height": 652.65625,
    "deepnote_cell_type": "code",
    "deepnote_to_be_reexecuted": false,
    "execution_millis": 146,
    "execution_start": 1654077111951,
    "source_hash": "1706c03e",
    "tags": []
   },
   "outputs": [
    {
     "data": {
      "application/vnd.deepnote.dataframe.v3+json": {
       "column_count": 24,
       "columns": [
        {
         "dtype": "Int64",
         "name": "ID",
         "stats": {
          "categories": [
           {
            "count": 1,
            "name": "7563"
           },
           {
            "count": 1,
            "name": "7564"
           },
           {
            "count": 239,
            "name": "239 others"
           }
          ],
          "nan_count": 0,
          "unique_count": 241
         }
        },
        {
         "dtype": "Int64",
         "name": "view_item_list_1d",
         "stats": {
          "categories": [
           {
            "count": 2,
            "name": "2068"
           },
           {
            "count": 2,
            "name": "641"
           },
           {
            "count": 237,
            "name": "230 others"
           }
          ],
          "nan_count": 0,
          "unique_count": 232
         }
        },
        {
         "dtype": "Int64",
         "name": "view_item_list_7d",
         "stats": {
          "categories": [
           {
            "count": 2,
            "name": "3746"
           },
           {
            "count": 2,
            "name": "3788"
           },
           {
            "count": 237,
            "name": "237 others"
           }
          ],
          "nan_count": 0,
          "unique_count": 239
         }
        },
        {
         "dtype": "Int64",
         "name": "view_item_list_30d",
         "stats": {
          "categories": [
           {
            "count": 2,
            "name": "39887"
           },
           {
            "count": 1,
            "name": "65850"
           },
           {
            "count": 238,
            "name": "238 others"
           }
          ],
          "nan_count": 0,
          "unique_count": 240
         }
        },
        {
         "dtype": "Int64",
         "name": "view_item_1d",
         "stats": {
          "categories": [
           {
            "count": 11,
            "name": "19"
           },
           {
            "count": 7,
            "name": "4"
           },
           {
            "count": 223,
            "name": "114 others"
           }
          ],
          "nan_count": 0,
          "unique_count": 116
         }
        },
        {
         "dtype": "Int64",
         "name": "view_item_7d",
         "stats": {
          "categories": [
           {
            "count": 4,
            "name": "51"
           },
           {
            "count": 4,
            "name": "96"
           },
           {
            "count": 233,
            "name": "202 others"
           }
          ],
          "nan_count": 0,
          "unique_count": 204
         }
        },
        {
         "dtype": "Int64",
         "name": "view_item_30d",
         "stats": {
          "categories": [
           {
            "count": 3,
            "name": "788"
           },
           {
            "count": 2,
            "name": "286"
           },
           {
            "count": 236,
            "name": "225 others"
           }
          ],
          "nan_count": 0,
          "unique_count": 227
         }
        },
        {
         "dtype": "Int64",
         "name": "add_to_cart_1d",
         "stats": {
          "categories": [
           {
            "count": 122,
            "name": "0"
           },
           {
            "count": 48,
            "name": "1"
           },
           {
            "count": 71,
            "name": "9 others"
           }
          ],
          "nan_count": 0,
          "unique_count": 11
         }
        },
        {
         "dtype": "Int64",
         "name": "add_to_cart_7d",
         "stats": {
          "categories": [
           {
            "count": 25,
            "name": "2"
           },
           {
            "count": 23,
            "name": "1"
           },
           {
            "count": 193,
            "name": "35 others"
           }
          ],
          "nan_count": 0,
          "unique_count": 37
         }
        },
        {
         "dtype": "Int64",
         "name": "add_to_cart_30d",
         "stats": {
          "categories": [
           {
            "count": 9,
            "name": "7"
           },
           {
            "count": 8,
            "name": "8"
           },
           {
            "count": 224,
            "name": "95 others"
           }
          ],
          "nan_count": 0,
          "unique_count": 97
         }
        },
        {
         "dtype": "Int64",
         "name": "begin_checkout_1d",
         "stats": {
          "categories": [
           {
            "count": 150,
            "name": "0"
           },
           {
            "count": 30,
            "name": "1"
           },
           {
            "count": 61,
            "name": "15 others"
           }
          ],
          "nan_count": 0,
          "unique_count": 17
         }
        },
        {
         "dtype": "Int64",
         "name": "begin_checkout_7d",
         "stats": {
          "categories": [
           {
            "count": 44,
            "name": "0"
           },
           {
            "count": 23,
            "name": "1"
           },
           {
            "count": 174,
            "name": "42 others"
           }
          ],
          "nan_count": 0,
          "unique_count": 44
         }
        },
        {
         "dtype": "Int64",
         "name": "begin_checkout_30d",
         "stats": {
          "categories": [
           {
            "count": 8,
            "name": "2"
           },
           {
            "count": 7,
            "name": "3"
           },
           {
            "count": 226,
            "name": "91 others"
           }
          ],
          "nan_count": 0,
          "unique_count": 93
         }
        },
        {
         "dtype": "Int64",
         "name": "purchase_1d",
         "stats": {
          "categories": [
           {
            "count": 198,
            "name": "0"
           },
           {
            "count": 34,
            "name": "1"
           },
           {
            "count": 9,
            "name": "2 others"
           }
          ],
          "nan_count": 0,
          "unique_count": 4
         }
        },
        {
         "dtype": "Int64",
         "name": "purchase_7d",
         "stats": {
          "categories": [
           {
            "count": 110,
            "name": "0"
           },
           {
            "count": 62,
            "name": "1"
           },
           {
            "count": 69,
            "name": "8 others"
           }
          ],
          "nan_count": 0,
          "unique_count": 10
         }
        },
        {
         "dtype": "Int64",
         "name": "purchase_30d",
         "stats": {
          "categories": [
           {
            "count": 35,
            "name": "1"
           },
           {
            "count": 32,
            "name": "0"
           },
           {
            "count": 174,
            "name": "27 others"
           }
          ],
          "nan_count": 0,
          "unique_count": 29
         }
        },
        {
         "dtype": "Int64",
         "name": "qty_sold",
         "stats": {
          "categories": [
           {
            "count": 10,
            "name": "22"
           },
           {
            "count": 9,
            "name": "6"
           },
           {
            "count": 222,
            "name": "66 others"
           }
          ],
          "nan_count": 0,
          "unique_count": 68
         }
        },
        {
         "dtype": "Int64",
         "name": "nbre_commande",
         "stats": {
          "categories": [
           {
            "count": 11,
            "name": "17"
           },
           {
            "count": 10,
            "name": "6"
           },
           {
            "count": 220,
            "name": "66 others"
           }
          ],
          "nan_count": 0,
          "unique_count": 68
         }
        },
        {
         "dtype": "float64",
         "name": "product_marge",
         "stats": {
          "histogram": [
           {
            "bin_end": 4090,
            "bin_start": 104,
            "count": 106
           },
           {
            "bin_end": 8076,
            "bin_start": 4090,
            "count": 75
           },
           {
            "bin_end": 12062,
            "bin_start": 8076,
            "count": 31
           },
           {
            "bin_end": 16048,
            "bin_start": 12062,
            "count": 13
           },
           {
            "bin_end": 20034,
            "bin_start": 16048,
            "count": 7
           },
           {
            "bin_end": 24020,
            "bin_start": 20034,
            "count": 5
           },
           {
            "bin_end": 28006,
            "bin_start": 24020,
            "count": 1
           },
           {
            "bin_end": 31992,
            "bin_start": 28006,
            "count": 1
           },
           {
            "bin_end": 35978,
            "bin_start": 31992,
            "count": 1
           },
           {
            "bin_end": 39964,
            "bin_start": 35978,
            "count": 1
           }
          ],
          "max": "39964.0",
          "min": "104.0",
          "nan_count": 0,
          "unique_count": 204
         }
        },
        {
         "dtype": "Int64",
         "name": "order_recency",
         "stats": {
          "categories": [
           {
            "count": 48,
            "name": "1"
           },
           {
            "count": 25,
            "name": "2"
           },
           {
            "count": 168,
            "name": "50 others"
           }
          ],
          "nan_count": 0,
          "unique_count": 52
         }
        },
        {
         "dtype": "Int64",
         "name": "order_seniority",
         "stats": {
          "categories": [
           {
            "count": 18,
            "name": "61"
           },
           {
            "count": 16,
            "name": "145"
           },
           {
            "count": 207,
            "name": "74 others"
           }
          ],
          "nan_count": 0,
          "unique_count": 76
         }
        },
        {
         "dtype": "Int64",
         "name": "stock",
         "stats": {
          "categories": [
           {
            "count": 9,
            "name": "2"
           },
           {
            "count": 213,
            "name": "85 others"
           },
           {
            "count": 19,
            "name": "Missing"
           }
          ],
          "nan_count": 19,
          "unique_count": 86
         }
        },
        {
         "dtype": "object",
         "name": "Segments",
         "stats": {
          "categories": [
           {
            "count": 122,
            "name": "Cold"
           },
           {
            "count": 63,
            "name": "Hot Old"
           },
           {
            "count": 56,
            "name": "2 others"
           }
          ],
          "nan_count": 0,
          "unique_count": 4
         }
        },
        {
         "dtype": "object",
         "name": "URL de l'image 1",
         "stats": {
          "categories": [
           {
            "count": 1,
            "name": "https://media.mesdemoisellesparis.com/20553-facebook_catalog/printemps-ete-2022-top-mara-imprime.jpg"
           },
           {
            "count": 218,
            "name": "218 others"
           },
           {
            "count": 22,
            "name": "Missing"
           }
          ],
          "nan_count": 22,
          "unique_count": 219
         }
        },
        {
         "dtype": "int64",
         "name": "_deepnote_index_column"
        }
       ],
       "row_count": 241,
       "rows": [
        {
         "ID": 7563,
         "Segments": "Hot Old",
         "URL de l'image 1": "nan",
         "_deepnote_index_column": 0,
         "add_to_cart_1d": 0,
         "add_to_cart_30d": 44,
         "add_to_cart_7d": 1,
         "begin_checkout_1d": 0,
         "begin_checkout_30d": 31,
         "begin_checkout_7d": 2,
         "nbre_commande": 42,
         "order_recency": 4,
         "order_seniority": 145,
         "product_marge": 17346,
         "purchase_1d": 0,
         "purchase_30d": 4,
         "purchase_7d": 1,
         "qty_sold": 42,
         "stock": "<NA>",
         "view_item_1d": 78,
         "view_item_30d": 5215,
         "view_item_7d": 625,
         "view_item_list_1d": 2068,
         "view_item_list_30d": 65850,
         "view_item_list_7d": 15669
        },
        {
         "ID": 7564,
         "Segments": "Cold",
         "URL de l'image 1": "https://media.mesdemoisellesparis.com/20553-facebook_catalog/printemps-ete-2022-top-mara-imprime.jpg",
         "_deepnote_index_column": 1,
         "add_to_cart_1d": 1,
         "add_to_cart_30d": 7,
         "add_to_cart_7d": 1,
         "begin_checkout_1d": 0,
         "begin_checkout_30d": 3,
         "begin_checkout_7d": 0,
         "nbre_commande": 9,
         "order_recency": 52,
         "order_seniority": 143,
         "product_marge": 2061,
         "purchase_1d": 0,
         "purchase_30d": 0,
         "purchase_7d": 0,
         "qty_sold": 9,
         "stock": "275",
         "view_item_1d": 37,
         "view_item_30d": 393,
         "view_item_7d": 118,
         "view_item_list_1d": 691,
         "view_item_list_30d": 23470,
         "view_item_list_7d": 4457
        },
        {
         "ID": 7565,
         "Segments": "Cold",
         "URL de l'image 1": "https://media.mesdemoisellesparis.com/20588-facebook_catalog/printemps-ete-2022-short-mia-imprime.jpg",
         "_deepnote_index_column": 2,
         "add_to_cart_1d": 0,
         "add_to_cart_30d": 2,
         "add_to_cart_7d": 0,
         "begin_checkout_1d": 0,
         "begin_checkout_30d": 0,
         "begin_checkout_7d": 0,
         "nbre_commande": 1,
         "order_recency": 121,
         "order_seniority": 121,
         "product_marge": 104,
         "purchase_1d": 0,
         "purchase_30d": 0,
         "purchase_7d": 0,
         "qty_sold": 1,
         "stock": "43",
         "view_item_1d": 10,
         "view_item_30d": 294,
         "view_item_7d": 72,
         "view_item_list_1d": 470,
         "view_item_list_30d": 15126,
         "view_item_list_7d": 2851
        },
        {
         "ID": 7566,
         "Segments": "Cold",
         "URL de l'image 1": "https://media.mesdemoisellesparis.com/20653-facebook_catalog/printemps-ete-2022-coussin-meneo-imprime.jpg",
         "_deepnote_index_column": 3,
         "add_to_cart_1d": 0,
         "add_to_cart_30d": 1,
         "add_to_cart_7d": 0,
         "begin_checkout_1d": 0,
         "begin_checkout_30d": 0,
         "begin_checkout_7d": 0,
         "nbre_commande": 1,
         "order_recency": 57,
         "order_seniority": 57,
         "product_marge": 104,
         "purchase_1d": 0,
         "purchase_30d": 0,
         "purchase_7d": 0,
         "qty_sold": 2,
         "stock": "72",
         "view_item_1d": 5,
         "view_item_30d": 131,
         "view_item_7d": 27,
         "view_item_list_1d": 456,
         "view_item_list_30d": 16646,
         "view_item_list_7d": 3004
        },
        {
         "ID": 7567,
         "Segments": "Cold",
         "URL de l'image 1": "https://media.mesdemoisellesparis.com/20552-facebook_catalog/printemps-ete-2022-kimono-mianni-imprime.jpg",
         "_deepnote_index_column": 4,
         "add_to_cart_1d": 1,
         "add_to_cart_30d": 33,
         "add_to_cart_7d": 4,
         "begin_checkout_1d": 0,
         "begin_checkout_30d": 27,
         "begin_checkout_7d": 4,
         "nbre_commande": 15,
         "order_recency": 19,
         "order_seniority": 144,
         "product_marge": 3570,
         "purchase_1d": 0,
         "purchase_30d": 3,
         "purchase_7d": 0,
         "qty_sold": 15,
         "stock": "12",
         "view_item_1d": 68,
         "view_item_30d": 5137,
         "view_item_7d": 689,
         "view_item_list_1d": 832,
         "view_item_list_30d": 27711,
         "view_item_list_7d": 5234
        },
        {
         "ID": 7568,
         "Segments": "Hot Old",
         "URL de l'image 1": "nan",
         "_deepnote_index_column": 5,
         "add_to_cart_1d": 0,
         "add_to_cart_30d": 22,
         "add_to_cart_7d": 0,
         "begin_checkout_1d": 0,
         "begin_checkout_30d": 42,
         "begin_checkout_7d": 0,
         "nbre_commande": 69,
         "order_recency": 11,
         "order_seniority": 140,
         "product_marge": 22701,
         "purchase_1d": 0,
         "purchase_30d": 6,
         "purchase_7d": 0,
         "qty_sold": 69,
         "stock": "<NA>",
         "view_item_1d": 101,
         "view_item_30d": 3801,
         "view_item_7d": 713,
         "view_item_list_1d": 1086,
         "view_item_list_30d": 37567,
         "view_item_list_7d": 8405
        },
        {
         "ID": 7569,
         "Segments": "Cold",
         "URL de l'image 1": "nan",
         "_deepnote_index_column": 6,
         "add_to_cart_1d": 0,
         "add_to_cart_30d": 8,
         "add_to_cart_7d": 4,
         "begin_checkout_1d": 0,
         "begin_checkout_30d": 12,
         "begin_checkout_7d": 3,
         "nbre_commande": 5,
         "order_recency": 2,
         "order_seniority": 34,
         "product_marge": 1145,
         "purchase_1d": 0,
         "purchase_30d": 2,
         "purchase_7d": 1,
         "qty_sold": 5,
         "stock": "<NA>",
         "view_item_1d": 6,
         "view_item_30d": 278,
         "view_item_7d": 78,
         "view_item_list_1d": 13,
         "view_item_list_30d": 527,
         "view_item_list_7d": 108
        },
        {
         "ID": 7570,
         "Segments": "Cold",
         "URL de l'image 1": "https://media.mesdemoisellesparis.com/20543-facebook_catalog/printemps-ete-2022-veste-madonna-ecru.jpg",
         "_deepnote_index_column": 7,
         "add_to_cart_1d": 2,
         "add_to_cart_30d": 27,
         "add_to_cart_7d": 6,
         "begin_checkout_1d": 1,
         "begin_checkout_30d": 28,
         "begin_checkout_7d": 4,
         "nbre_commande": 28,
         "order_recency": 20,
         "order_seniority": 143,
         "product_marge": 6412,
         "purchase_1d": 0,
         "purchase_30d": 4,
         "purchase_7d": 0,
         "qty_sold": 28,
         "stock": "13",
         "view_item_1d": 19,
         "view_item_30d": 458,
         "view_item_7d": 104,
         "view_item_list_1d": 563,
         "view_item_list_30d": 19889,
         "view_item_list_7d": 3588
        },
        {
         "ID": 7571,
         "Segments": "Cold",
         "URL de l'image 1": "https://media.mesdemoisellesparis.com/20570-facebook_catalog/printemps-ete-2022-short-marilu.jpg",
         "_deepnote_index_column": 8,
         "add_to_cart_1d": 0,
         "add_to_cart_30d": 10,
         "add_to_cart_7d": 3,
         "begin_checkout_1d": 0,
         "begin_checkout_30d": 5,
         "begin_checkout_7d": 3,
         "nbre_commande": 6,
         "order_recency": 3,
         "order_seniority": 143,
         "product_marge": 1326,
         "purchase_1d": 0,
         "purchase_30d": 1,
         "purchase_7d": 1,
         "qty_sold": 6,
         "stock": "57",
         "view_item_1d": 2,
         "view_item_30d": 227,
         "view_item_7d": 51,
         "view_item_list_1d": 497,
         "view_item_list_30d": 16498,
         "view_item_list_7d": 3170
        },
        {
         "ID": 7572,
         "Segments": "Cold",
         "URL de l'image 1": "nan",
         "_deepnote_index_column": 9,
         "add_to_cart_1d": 0,
         "add_to_cart_30d": 7,
         "add_to_cart_7d": 1,
         "begin_checkout_1d": 0,
         "begin_checkout_30d": 5,
         "begin_checkout_7d": 0,
         "nbre_commande": 5,
         "order_recency": 11,
         "order_seniority": 71,
         "product_marge": 1105,
         "purchase_1d": 0,
         "purchase_30d": 1,
         "purchase_7d": 0,
         "qty_sold": 5,
         "stock": "52",
         "view_item_1d": 4,
         "view_item_30d": 286,
         "view_item_7d": 64,
         "view_item_list_1d": 657,
         "view_item_list_30d": 19465,
         "view_item_list_7d": 3793
        }
       ]
      },
      "text/html": [
       "<div>\n",
       "<style scoped>\n",
       "    .dataframe tbody tr th:only-of-type {\n",
       "        vertical-align: middle;\n",
       "    }\n",
       "\n",
       "    .dataframe tbody tr th {\n",
       "        vertical-align: top;\n",
       "    }\n",
       "\n",
       "    .dataframe thead th {\n",
       "        text-align: right;\n",
       "    }\n",
       "</style>\n",
       "<table border=\"1\" class=\"dataframe\">\n",
       "  <thead>\n",
       "    <tr style=\"text-align: right;\">\n",
       "      <th></th>\n",
       "      <th>ID</th>\n",
       "      <th>view_item_list_1d</th>\n",
       "      <th>view_item_list_7d</th>\n",
       "      <th>view_item_list_30d</th>\n",
       "      <th>view_item_1d</th>\n",
       "      <th>view_item_7d</th>\n",
       "      <th>view_item_30d</th>\n",
       "      <th>add_to_cart_1d</th>\n",
       "      <th>add_to_cart_7d</th>\n",
       "      <th>add_to_cart_30d</th>\n",
       "      <th>...</th>\n",
       "      <th>purchase_7d</th>\n",
       "      <th>purchase_30d</th>\n",
       "      <th>qty_sold</th>\n",
       "      <th>nbre_commande</th>\n",
       "      <th>product_marge</th>\n",
       "      <th>order_recency</th>\n",
       "      <th>order_seniority</th>\n",
       "      <th>stock</th>\n",
       "      <th>Segments</th>\n",
       "      <th>URL de l'image 1</th>\n",
       "    </tr>\n",
       "  </thead>\n",
       "  <tbody>\n",
       "    <tr>\n",
       "      <th>0</th>\n",
       "      <td>7563</td>\n",
       "      <td>2068</td>\n",
       "      <td>15669</td>\n",
       "      <td>65850</td>\n",
       "      <td>78</td>\n",
       "      <td>625</td>\n",
       "      <td>5215</td>\n",
       "      <td>0</td>\n",
       "      <td>1</td>\n",
       "      <td>44</td>\n",
       "      <td>...</td>\n",
       "      <td>1</td>\n",
       "      <td>4</td>\n",
       "      <td>42</td>\n",
       "      <td>42</td>\n",
       "      <td>17346.0</td>\n",
       "      <td>4</td>\n",
       "      <td>145</td>\n",
       "      <td>&lt;NA&gt;</td>\n",
       "      <td>Hot Old</td>\n",
       "      <td>NaN</td>\n",
       "    </tr>\n",
       "    <tr>\n",
       "      <th>1</th>\n",
       "      <td>7564</td>\n",
       "      <td>691</td>\n",
       "      <td>4457</td>\n",
       "      <td>23470</td>\n",
       "      <td>37</td>\n",
       "      <td>118</td>\n",
       "      <td>393</td>\n",
       "      <td>1</td>\n",
       "      <td>1</td>\n",
       "      <td>7</td>\n",
       "      <td>...</td>\n",
       "      <td>0</td>\n",
       "      <td>0</td>\n",
       "      <td>9</td>\n",
       "      <td>9</td>\n",
       "      <td>2061.0</td>\n",
       "      <td>52</td>\n",
       "      <td>143</td>\n",
       "      <td>275</td>\n",
       "      <td>Cold</td>\n",
       "      <td>https://media.mesdemoisellesparis.com/20553-fa...</td>\n",
       "    </tr>\n",
       "    <tr>\n",
       "      <th>2</th>\n",
       "      <td>7565</td>\n",
       "      <td>470</td>\n",
       "      <td>2851</td>\n",
       "      <td>15126</td>\n",
       "      <td>10</td>\n",
       "      <td>72</td>\n",
       "      <td>294</td>\n",
       "      <td>0</td>\n",
       "      <td>0</td>\n",
       "      <td>2</td>\n",
       "      <td>...</td>\n",
       "      <td>0</td>\n",
       "      <td>0</td>\n",
       "      <td>1</td>\n",
       "      <td>1</td>\n",
       "      <td>104.0</td>\n",
       "      <td>121</td>\n",
       "      <td>121</td>\n",
       "      <td>43</td>\n",
       "      <td>Cold</td>\n",
       "      <td>https://media.mesdemoisellesparis.com/20588-fa...</td>\n",
       "    </tr>\n",
       "    <tr>\n",
       "      <th>3</th>\n",
       "      <td>7566</td>\n",
       "      <td>456</td>\n",
       "      <td>3004</td>\n",
       "      <td>16646</td>\n",
       "      <td>5</td>\n",
       "      <td>27</td>\n",
       "      <td>131</td>\n",
       "      <td>0</td>\n",
       "      <td>0</td>\n",
       "      <td>1</td>\n",
       "      <td>...</td>\n",
       "      <td>0</td>\n",
       "      <td>0</td>\n",
       "      <td>2</td>\n",
       "      <td>1</td>\n",
       "      <td>104.0</td>\n",
       "      <td>57</td>\n",
       "      <td>57</td>\n",
       "      <td>72</td>\n",
       "      <td>Cold</td>\n",
       "      <td>https://media.mesdemoisellesparis.com/20653-fa...</td>\n",
       "    </tr>\n",
       "    <tr>\n",
       "      <th>4</th>\n",
       "      <td>7567</td>\n",
       "      <td>832</td>\n",
       "      <td>5234</td>\n",
       "      <td>27711</td>\n",
       "      <td>68</td>\n",
       "      <td>689</td>\n",
       "      <td>5137</td>\n",
       "      <td>1</td>\n",
       "      <td>4</td>\n",
       "      <td>33</td>\n",
       "      <td>...</td>\n",
       "      <td>0</td>\n",
       "      <td>3</td>\n",
       "      <td>15</td>\n",
       "      <td>15</td>\n",
       "      <td>3570.0</td>\n",
       "      <td>19</td>\n",
       "      <td>144</td>\n",
       "      <td>12</td>\n",
       "      <td>Cold</td>\n",
       "      <td>https://media.mesdemoisellesparis.com/20552-fa...</td>\n",
       "    </tr>\n",
       "    <tr>\n",
       "      <th>...</th>\n",
       "      <td>...</td>\n",
       "      <td>...</td>\n",
       "      <td>...</td>\n",
       "      <td>...</td>\n",
       "      <td>...</td>\n",
       "      <td>...</td>\n",
       "      <td>...</td>\n",
       "      <td>...</td>\n",
       "      <td>...</td>\n",
       "      <td>...</td>\n",
       "      <td>...</td>\n",
       "      <td>...</td>\n",
       "      <td>...</td>\n",
       "      <td>...</td>\n",
       "      <td>...</td>\n",
       "      <td>...</td>\n",
       "      <td>...</td>\n",
       "      <td>...</td>\n",
       "      <td>...</td>\n",
       "      <td>...</td>\n",
       "      <td>...</td>\n",
       "    </tr>\n",
       "    <tr>\n",
       "      <th>236</th>\n",
       "      <td>8244</td>\n",
       "      <td>945</td>\n",
       "      <td>6793</td>\n",
       "      <td>36900</td>\n",
       "      <td>68</td>\n",
       "      <td>224</td>\n",
       "      <td>788</td>\n",
       "      <td>0</td>\n",
       "      <td>0</td>\n",
       "      <td>4</td>\n",
       "      <td>...</td>\n",
       "      <td>0</td>\n",
       "      <td>0</td>\n",
       "      <td>12</td>\n",
       "      <td>12</td>\n",
       "      <td>3456.0</td>\n",
       "      <td>49</td>\n",
       "      <td>170</td>\n",
       "      <td>46</td>\n",
       "      <td>Cold</td>\n",
       "      <td>https://media.mesdemoisellesparis.com/20018-fa...</td>\n",
       "    </tr>\n",
       "    <tr>\n",
       "      <th>237</th>\n",
       "      <td>8246</td>\n",
       "      <td>1372</td>\n",
       "      <td>7722</td>\n",
       "      <td>37219</td>\n",
       "      <td>44</td>\n",
       "      <td>380</td>\n",
       "      <td>1248</td>\n",
       "      <td>1</td>\n",
       "      <td>14</td>\n",
       "      <td>55</td>\n",
       "      <td>...</td>\n",
       "      <td>2</td>\n",
       "      <td>7</td>\n",
       "      <td>25</td>\n",
       "      <td>25</td>\n",
       "      <td>6975.0</td>\n",
       "      <td>2</td>\n",
       "      <td>83</td>\n",
       "      <td>155</td>\n",
       "      <td>Hot Old</td>\n",
       "      <td>https://media.mesdemoisellesparis.com/20800-fa...</td>\n",
       "    </tr>\n",
       "    <tr>\n",
       "      <th>238</th>\n",
       "      <td>8249</td>\n",
       "      <td>2183</td>\n",
       "      <td>15704</td>\n",
       "      <td>60915</td>\n",
       "      <td>146</td>\n",
       "      <td>1264</td>\n",
       "      <td>6563</td>\n",
       "      <td>2</td>\n",
       "      <td>10</td>\n",
       "      <td>262</td>\n",
       "      <td>...</td>\n",
       "      <td>3</td>\n",
       "      <td>54</td>\n",
       "      <td>103</td>\n",
       "      <td>102</td>\n",
       "      <td>39964.0</td>\n",
       "      <td>3</td>\n",
       "      <td>95</td>\n",
       "      <td>1</td>\n",
       "      <td>Top Hot</td>\n",
       "      <td>NaN</td>\n",
       "    </tr>\n",
       "    <tr>\n",
       "      <th>239</th>\n",
       "      <td>8270</td>\n",
       "      <td>3731</td>\n",
       "      <td>26649</td>\n",
       "      <td>113383</td>\n",
       "      <td>256</td>\n",
       "      <td>1398</td>\n",
       "      <td>6077</td>\n",
       "      <td>4</td>\n",
       "      <td>9</td>\n",
       "      <td>55</td>\n",
       "      <td>...</td>\n",
       "      <td>3</td>\n",
       "      <td>9</td>\n",
       "      <td>45</td>\n",
       "      <td>43</td>\n",
       "      <td>12960.0</td>\n",
       "      <td>1</td>\n",
       "      <td>61</td>\n",
       "      <td>&lt;NA&gt;</td>\n",
       "      <td>Medium Hot</td>\n",
       "      <td>https://media.mesdemoisellesparis.com/21295-fa...</td>\n",
       "    </tr>\n",
       "    <tr>\n",
       "      <th>240</th>\n",
       "      <td>8281</td>\n",
       "      <td>396</td>\n",
       "      <td>2505</td>\n",
       "      <td>12277</td>\n",
       "      <td>26</td>\n",
       "      <td>114</td>\n",
       "      <td>462</td>\n",
       "      <td>0</td>\n",
       "      <td>4</td>\n",
       "      <td>19</td>\n",
       "      <td>...</td>\n",
       "      <td>0</td>\n",
       "      <td>0</td>\n",
       "      <td>21</td>\n",
       "      <td>21</td>\n",
       "      <td>2016.0</td>\n",
       "      <td>46</td>\n",
       "      <td>129</td>\n",
       "      <td>88</td>\n",
       "      <td>Cold</td>\n",
       "      <td>https://media.mesdemoisellesparis.com/20674-fa...</td>\n",
       "    </tr>\n",
       "  </tbody>\n",
       "</table>\n",
       "<p>241 rows × 24 columns</p>\n",
       "</div>"
      ],
      "text/plain": [
       "       ID  view_item_list_1d  view_item_list_7d  view_item_list_30d  \\\n",
       "0    7563               2068              15669               65850   \n",
       "1    7564                691               4457               23470   \n",
       "2    7565                470               2851               15126   \n",
       "3    7566                456               3004               16646   \n",
       "4    7567                832               5234               27711   \n",
       "..    ...                ...                ...                 ...   \n",
       "236  8244                945               6793               36900   \n",
       "237  8246               1372               7722               37219   \n",
       "238  8249               2183              15704               60915   \n",
       "239  8270               3731              26649              113383   \n",
       "240  8281                396               2505               12277   \n",
       "\n",
       "     view_item_1d  view_item_7d  view_item_30d  add_to_cart_1d  \\\n",
       "0              78           625           5215               0   \n",
       "1              37           118            393               1   \n",
       "2              10            72            294               0   \n",
       "3               5            27            131               0   \n",
       "4              68           689           5137               1   \n",
       "..            ...           ...            ...             ...   \n",
       "236            68           224            788               0   \n",
       "237            44           380           1248               1   \n",
       "238           146          1264           6563               2   \n",
       "239           256          1398           6077               4   \n",
       "240            26           114            462               0   \n",
       "\n",
       "     add_to_cart_7d  add_to_cart_30d  ...  purchase_7d  purchase_30d  \\\n",
       "0                 1               44  ...            1             4   \n",
       "1                 1                7  ...            0             0   \n",
       "2                 0                2  ...            0             0   \n",
       "3                 0                1  ...            0             0   \n",
       "4                 4               33  ...            0             3   \n",
       "..              ...              ...  ...          ...           ...   \n",
       "236               0                4  ...            0             0   \n",
       "237              14               55  ...            2             7   \n",
       "238              10              262  ...            3            54   \n",
       "239               9               55  ...            3             9   \n",
       "240               4               19  ...            0             0   \n",
       "\n",
       "     qty_sold  nbre_commande  product_marge  order_recency  order_seniority  \\\n",
       "0          42             42        17346.0              4              145   \n",
       "1           9              9         2061.0             52              143   \n",
       "2           1              1          104.0            121              121   \n",
       "3           2              1          104.0             57               57   \n",
       "4          15             15         3570.0             19              144   \n",
       "..        ...            ...            ...            ...              ...   \n",
       "236        12             12         3456.0             49              170   \n",
       "237        25             25         6975.0              2               83   \n",
       "238       103            102        39964.0              3               95   \n",
       "239        45             43        12960.0              1               61   \n",
       "240        21             21         2016.0             46              129   \n",
       "\n",
       "     stock    Segments                                   URL de l'image 1  \n",
       "0     <NA>     Hot Old                                                NaN  \n",
       "1      275        Cold  https://media.mesdemoisellesparis.com/20553-fa...  \n",
       "2       43        Cold  https://media.mesdemoisellesparis.com/20588-fa...  \n",
       "3       72        Cold  https://media.mesdemoisellesparis.com/20653-fa...  \n",
       "4       12        Cold  https://media.mesdemoisellesparis.com/20552-fa...  \n",
       "..     ...         ...                                                ...  \n",
       "236     46        Cold  https://media.mesdemoisellesparis.com/20018-fa...  \n",
       "237    155     Hot Old  https://media.mesdemoisellesparis.com/20800-fa...  \n",
       "238      1     Top Hot                                                NaN  \n",
       "239   <NA>  Medium Hot  https://media.mesdemoisellesparis.com/21295-fa...  \n",
       "240     88        Cold  https://media.mesdemoisellesparis.com/20674-fa...  \n",
       "\n",
       "[241 rows x 24 columns]"
      ]
     },
     "execution_count": 35,
     "metadata": {},
     "output_type": "execute_result"
    }
   ],
   "source": [
    "#join our table with the url image column\n",
    "final=unseen_predictions.merge(base_image[['ID','URL de l\\'image 1']],how='left',on='ID')\n",
    "final"
   ]
  },
  {
   "cell_type": "code",
   "execution_count": null,
   "metadata": {
    "cell_id": "6bfef51130c24dbe83ea11c529b82130",
    "deepnote_cell_height": 99,
    "deepnote_cell_type": "code",
    "deepnote_to_be_reexecuted": false,
    "execution_millis": 2,
    "execution_start": 1654077115650,
    "source_hash": "960a8bf1",
    "tags": []
   },
   "outputs": [],
   "source": [
    "#rename column \"URL de l\\'image 1\"\n",
    "final=final.rename(columns={\"URL de l\\'image 1\": \"image\"})"
   ]
  },
  {
   "cell_type": "code",
   "execution_count": null,
   "metadata": {
    "cell_id": "94f2a53cba5e43059aee9042fa42d5ca",
    "deepnote_cell_height": 261,
    "deepnote_cell_type": "code",
    "deepnote_to_be_reexecuted": false,
    "execution_millis": 1475,
    "execution_start": 1654077118582,
    "source_hash": "b4085fdc",
    "tags": []
   },
   "outputs": [],
   "source": [
    "mdp_ref= pd.io.gbq.read_gbq('''\n",
    "select\n",
    "    distinct cast(a.item_id as int64) as ID,\n",
    "    b.reference\n",
    "from `mdp-paris.dbt_pipeline_prod.con_product_segmentation` a\n",
    "left join\n",
    "    `mdp-paris.dbt_pipeline_prod.stg_presta_product_performance` b\n",
    "    on a.item_id = b.product_id\n",
    "where collection = 'Collection 2022'\n",
    "\n",
    "''', project_id=credentials.project_id, dialect='standard', credentials = credentials )"
   ]
  },
  {
   "cell_type": "code",
   "execution_count": null,
   "metadata": {
    "cell_id": "5cf0770583c34c0ebd30a393fd3dd026",
    "deepnote_cell_height": 99,
    "deepnote_cell_type": "code",
    "deepnote_to_be_reexecuted": false,
    "execution_millis": 0,
    "execution_start": 1654077124294,
    "source_hash": "e9ec8b40",
    "tags": []
   },
   "outputs": [],
   "source": [
    "#Display dataframe\n",
    "final= final.merge(mdp_ref,how='left',on='ID')"
   ]
  },
  {
   "cell_type": "code",
   "execution_count": null,
   "metadata": {
    "cell_id": "06909bf7960144498b968f7669d6cdf5",
    "deepnote_cell_height": 616.65625,
    "deepnote_cell_type": "code",
    "deepnote_to_be_reexecuted": false,
    "execution_millis": 55,
    "execution_start": 1654077127346,
    "source_hash": "e9dd6221",
    "tags": []
   },
   "outputs": [
    {
     "data": {
      "application/vnd.deepnote.dataframe.v3+json": {
       "column_count": 25,
       "columns": [
        {
         "dtype": "Int64",
         "name": "ID",
         "stats": {
          "categories": [
           {
            "count": 1,
            "name": "7563"
           },
           {
            "count": 1,
            "name": "7564"
           },
           {
            "count": 239,
            "name": "239 others"
           }
          ],
          "nan_count": 0,
          "unique_count": 241
         }
        },
        {
         "dtype": "Int64",
         "name": "view_item_list_1d",
         "stats": {
          "categories": [
           {
            "count": 2,
            "name": "2068"
           },
           {
            "count": 2,
            "name": "641"
           },
           {
            "count": 237,
            "name": "230 others"
           }
          ],
          "nan_count": 0,
          "unique_count": 232
         }
        },
        {
         "dtype": "Int64",
         "name": "view_item_list_7d",
         "stats": {
          "categories": [
           {
            "count": 2,
            "name": "3746"
           },
           {
            "count": 2,
            "name": "3788"
           },
           {
            "count": 237,
            "name": "237 others"
           }
          ],
          "nan_count": 0,
          "unique_count": 239
         }
        },
        {
         "dtype": "Int64",
         "name": "view_item_list_30d",
         "stats": {
          "categories": [
           {
            "count": 2,
            "name": "39887"
           },
           {
            "count": 1,
            "name": "65850"
           },
           {
            "count": 238,
            "name": "238 others"
           }
          ],
          "nan_count": 0,
          "unique_count": 240
         }
        },
        {
         "dtype": "Int64",
         "name": "view_item_1d",
         "stats": {
          "categories": [
           {
            "count": 11,
            "name": "19"
           },
           {
            "count": 7,
            "name": "4"
           },
           {
            "count": 223,
            "name": "114 others"
           }
          ],
          "nan_count": 0,
          "unique_count": 116
         }
        },
        {
         "dtype": "Int64",
         "name": "view_item_7d",
         "stats": {
          "categories": [
           {
            "count": 4,
            "name": "51"
           },
           {
            "count": 4,
            "name": "96"
           },
           {
            "count": 233,
            "name": "202 others"
           }
          ],
          "nan_count": 0,
          "unique_count": 204
         }
        },
        {
         "dtype": "Int64",
         "name": "view_item_30d",
         "stats": {
          "categories": [
           {
            "count": 3,
            "name": "788"
           },
           {
            "count": 2,
            "name": "286"
           },
           {
            "count": 236,
            "name": "225 others"
           }
          ],
          "nan_count": 0,
          "unique_count": 227
         }
        },
        {
         "dtype": "Int64",
         "name": "add_to_cart_1d",
         "stats": {
          "categories": [
           {
            "count": 122,
            "name": "0"
           },
           {
            "count": 48,
            "name": "1"
           },
           {
            "count": 71,
            "name": "9 others"
           }
          ],
          "nan_count": 0,
          "unique_count": 11
         }
        },
        {
         "dtype": "Int64",
         "name": "add_to_cart_7d",
         "stats": {
          "categories": [
           {
            "count": 25,
            "name": "2"
           },
           {
            "count": 23,
            "name": "1"
           },
           {
            "count": 193,
            "name": "35 others"
           }
          ],
          "nan_count": 0,
          "unique_count": 37
         }
        },
        {
         "dtype": "Int64",
         "name": "add_to_cart_30d",
         "stats": {
          "categories": [
           {
            "count": 9,
            "name": "7"
           },
           {
            "count": 8,
            "name": "8"
           },
           {
            "count": 224,
            "name": "95 others"
           }
          ],
          "nan_count": 0,
          "unique_count": 97
         }
        },
        {
         "dtype": "Int64",
         "name": "begin_checkout_1d",
         "stats": {
          "categories": [
           {
            "count": 150,
            "name": "0"
           },
           {
            "count": 30,
            "name": "1"
           },
           {
            "count": 61,
            "name": "15 others"
           }
          ],
          "nan_count": 0,
          "unique_count": 17
         }
        },
        {
         "dtype": "Int64",
         "name": "begin_checkout_7d",
         "stats": {
          "categories": [
           {
            "count": 44,
            "name": "0"
           },
           {
            "count": 23,
            "name": "1"
           },
           {
            "count": 174,
            "name": "42 others"
           }
          ],
          "nan_count": 0,
          "unique_count": 44
         }
        },
        {
         "dtype": "Int64",
         "name": "begin_checkout_30d",
         "stats": {
          "categories": [
           {
            "count": 8,
            "name": "2"
           },
           {
            "count": 7,
            "name": "3"
           },
           {
            "count": 226,
            "name": "91 others"
           }
          ],
          "nan_count": 0,
          "unique_count": 93
         }
        },
        {
         "dtype": "Int64",
         "name": "purchase_1d",
         "stats": {
          "categories": [
           {
            "count": 198,
            "name": "0"
           },
           {
            "count": 34,
            "name": "1"
           },
           {
            "count": 9,
            "name": "2 others"
           }
          ],
          "nan_count": 0,
          "unique_count": 4
         }
        },
        {
         "dtype": "Int64",
         "name": "purchase_7d",
         "stats": {
          "categories": [
           {
            "count": 110,
            "name": "0"
           },
           {
            "count": 62,
            "name": "1"
           },
           {
            "count": 69,
            "name": "8 others"
           }
          ],
          "nan_count": 0,
          "unique_count": 10
         }
        },
        {
         "dtype": "Int64",
         "name": "purchase_30d",
         "stats": {
          "categories": [
           {
            "count": 35,
            "name": "1"
           },
           {
            "count": 32,
            "name": "0"
           },
           {
            "count": 174,
            "name": "27 others"
           }
          ],
          "nan_count": 0,
          "unique_count": 29
         }
        },
        {
         "dtype": "Int64",
         "name": "qty_sold",
         "stats": {
          "categories": [
           {
            "count": 10,
            "name": "22"
           },
           {
            "count": 9,
            "name": "6"
           },
           {
            "count": 222,
            "name": "66 others"
           }
          ],
          "nan_count": 0,
          "unique_count": 68
         }
        },
        {
         "dtype": "Int64",
         "name": "nbre_commande",
         "stats": {
          "categories": [
           {
            "count": 11,
            "name": "17"
           },
           {
            "count": 10,
            "name": "6"
           },
           {
            "count": 220,
            "name": "66 others"
           }
          ],
          "nan_count": 0,
          "unique_count": 68
         }
        },
        {
         "dtype": "float64",
         "name": "product_marge",
         "stats": {
          "histogram": [
           {
            "bin_end": 4090,
            "bin_start": 104,
            "count": 106
           },
           {
            "bin_end": 8076,
            "bin_start": 4090,
            "count": 75
           },
           {
            "bin_end": 12062,
            "bin_start": 8076,
            "count": 31
           },
           {
            "bin_end": 16048,
            "bin_start": 12062,
            "count": 13
           },
           {
            "bin_end": 20034,
            "bin_start": 16048,
            "count": 7
           },
           {
            "bin_end": 24020,
            "bin_start": 20034,
            "count": 5
           },
           {
            "bin_end": 28006,
            "bin_start": 24020,
            "count": 1
           },
           {
            "bin_end": 31992,
            "bin_start": 28006,
            "count": 1
           },
           {
            "bin_end": 35978,
            "bin_start": 31992,
            "count": 1
           },
           {
            "bin_end": 39964,
            "bin_start": 35978,
            "count": 1
           }
          ],
          "max": "39964.0",
          "min": "104.0",
          "nan_count": 0,
          "unique_count": 204
         }
        },
        {
         "dtype": "Int64",
         "name": "order_recency",
         "stats": {
          "categories": [
           {
            "count": 48,
            "name": "1"
           },
           {
            "count": 25,
            "name": "2"
           },
           {
            "count": 168,
            "name": "50 others"
           }
          ],
          "nan_count": 0,
          "unique_count": 52
         }
        },
        {
         "dtype": "Int64",
         "name": "order_seniority",
         "stats": {
          "categories": [
           {
            "count": 18,
            "name": "61"
           },
           {
            "count": 16,
            "name": "145"
           },
           {
            "count": 207,
            "name": "74 others"
           }
          ],
          "nan_count": 0,
          "unique_count": 76
         }
        },
        {
         "dtype": "Int64",
         "name": "stock",
         "stats": {
          "categories": [
           {
            "count": 9,
            "name": "2"
           },
           {
            "count": 213,
            "name": "85 others"
           },
           {
            "count": 19,
            "name": "Missing"
           }
          ],
          "nan_count": 19,
          "unique_count": 86
         }
        },
        {
         "dtype": "object",
         "name": "Segments",
         "stats": {
          "categories": [
           {
            "count": 122,
            "name": "Cold"
           },
           {
            "count": 63,
            "name": "Hot Old"
           },
           {
            "count": 56,
            "name": "2 others"
           }
          ],
          "nan_count": 0,
          "unique_count": 4
         }
        },
        {
         "dtype": "object",
         "name": "image",
         "stats": {
          "categories": [
           {
            "count": 1,
            "name": "https://media.mesdemoisellesparis.com/20553-facebook_catalog/printemps-ete-2022-top-mara-imprime.jpg"
           },
           {
            "count": 218,
            "name": "218 others"
           },
           {
            "count": 22,
            "name": "Missing"
           }
          ],
          "nan_count": 22,
          "unique_count": 219
         }
        },
        {
         "dtype": "object",
         "name": "reference",
         "stats": {
          "categories": [
           {
            "count": 1,
            "name": "22S_MONATELLA-TERRE DE SIENNE"
           },
           {
            "count": 1,
            "name": "22S_MARA-TERRE DE SIENNE"
           },
           {
            "count": 239,
            "name": "239 others"
           }
          ],
          "nan_count": 0,
          "unique_count": 241
         }
        },
        {
         "dtype": "int64",
         "name": "_deepnote_index_column"
        }
       ],
       "row_count": 241,
       "rows": [
        {
         "ID": 7563,
         "Segments": "Hot Old",
         "_deepnote_index_column": 0,
         "add_to_cart_1d": 0,
         "add_to_cart_30d": 44,
         "add_to_cart_7d": 1,
         "begin_checkout_1d": 0,
         "begin_checkout_30d": 31,
         "begin_checkout_7d": 2,
         "image": "nan",
         "nbre_commande": 42,
         "order_recency": 4,
         "order_seniority": 145,
         "product_marge": 17346,
         "purchase_1d": 0,
         "purchase_30d": 4,
         "purchase_7d": 1,
         "qty_sold": 42,
         "reference": "22S_MONATELLA-TERRE DE SIENNE",
         "stock": "<NA>",
         "view_item_1d": 78,
         "view_item_30d": 5215,
         "view_item_7d": 625,
         "view_item_list_1d": 2068,
         "view_item_list_30d": 65850,
         "view_item_list_7d": 15669
        },
        {
         "ID": 7564,
         "Segments": "Cold",
         "_deepnote_index_column": 1,
         "add_to_cart_1d": 1,
         "add_to_cart_30d": 7,
         "add_to_cart_7d": 1,
         "begin_checkout_1d": 0,
         "begin_checkout_30d": 3,
         "begin_checkout_7d": 0,
         "image": "https://media.mesdemoisellesparis.com/20553-facebook_catalog/printemps-ete-2022-top-mara-imprime.jpg",
         "nbre_commande": 9,
         "order_recency": 52,
         "order_seniority": 143,
         "product_marge": 2061,
         "purchase_1d": 0,
         "purchase_30d": 0,
         "purchase_7d": 0,
         "qty_sold": 9,
         "reference": "22S_MARA-TERRE DE SIENNE",
         "stock": "275",
         "view_item_1d": 37,
         "view_item_30d": 393,
         "view_item_7d": 118,
         "view_item_list_1d": 691,
         "view_item_list_30d": 23470,
         "view_item_list_7d": 4457
        },
        {
         "ID": 7565,
         "Segments": "Cold",
         "_deepnote_index_column": 2,
         "add_to_cart_1d": 0,
         "add_to_cart_30d": 2,
         "add_to_cart_7d": 0,
         "begin_checkout_1d": 0,
         "begin_checkout_30d": 0,
         "begin_checkout_7d": 0,
         "image": "https://media.mesdemoisellesparis.com/20588-facebook_catalog/printemps-ete-2022-short-mia-imprime.jpg",
         "nbre_commande": 1,
         "order_recency": 121,
         "order_seniority": 121,
         "product_marge": 104,
         "purchase_1d": 0,
         "purchase_30d": 0,
         "purchase_7d": 0,
         "qty_sold": 1,
         "reference": "22S_MIA-TERRE DE SIENNE",
         "stock": "43",
         "view_item_1d": 10,
         "view_item_30d": 294,
         "view_item_7d": 72,
         "view_item_list_1d": 470,
         "view_item_list_30d": 15126,
         "view_item_list_7d": 2851
        },
        {
         "ID": 7566,
         "Segments": "Cold",
         "_deepnote_index_column": 3,
         "add_to_cart_1d": 0,
         "add_to_cart_30d": 1,
         "add_to_cart_7d": 0,
         "begin_checkout_1d": 0,
         "begin_checkout_30d": 0,
         "begin_checkout_7d": 0,
         "image": "https://media.mesdemoisellesparis.com/20653-facebook_catalog/printemps-ete-2022-coussin-meneo-imprime.jpg",
         "nbre_commande": 1,
         "order_recency": 57,
         "order_seniority": 57,
         "product_marge": 104,
         "purchase_1d": 0,
         "purchase_30d": 0,
         "purchase_7d": 0,
         "qty_sold": 2,
         "reference": "22S_MENEO-TERRE DE SIENNE",
         "stock": "72",
         "view_item_1d": 5,
         "view_item_30d": 131,
         "view_item_7d": 27,
         "view_item_list_1d": 456,
         "view_item_list_30d": 16646,
         "view_item_list_7d": 3004
        },
        {
         "ID": 7567,
         "Segments": "Cold",
         "_deepnote_index_column": 4,
         "add_to_cart_1d": 1,
         "add_to_cart_30d": 33,
         "add_to_cart_7d": 4,
         "begin_checkout_1d": 0,
         "begin_checkout_30d": 27,
         "begin_checkout_7d": 4,
         "image": "https://media.mesdemoisellesparis.com/20552-facebook_catalog/printemps-ete-2022-kimono-mianni-imprime.jpg",
         "nbre_commande": 15,
         "order_recency": 19,
         "order_seniority": 144,
         "product_marge": 3570,
         "purchase_1d": 0,
         "purchase_30d": 3,
         "purchase_7d": 0,
         "qty_sold": 15,
         "reference": "22S_MIANNI-TERRE DE SIENNE",
         "stock": "12",
         "view_item_1d": 68,
         "view_item_30d": 5137,
         "view_item_7d": 689,
         "view_item_list_1d": 832,
         "view_item_list_30d": 27711,
         "view_item_list_7d": 5234
        },
        {
         "ID": 7568,
         "Segments": "Hot Old",
         "_deepnote_index_column": 5,
         "add_to_cart_1d": 0,
         "add_to_cart_30d": 22,
         "add_to_cart_7d": 0,
         "begin_checkout_1d": 0,
         "begin_checkout_30d": 42,
         "begin_checkout_7d": 0,
         "image": "nan",
         "nbre_commande": 69,
         "order_recency": 11,
         "order_seniority": 140,
         "product_marge": 22701,
         "purchase_1d": 0,
         "purchase_30d": 6,
         "purchase_7d": 0,
         "qty_sold": 69,
         "reference": "22S_MALLEGRA-TERRE DE SIENNE",
         "stock": "<NA>",
         "view_item_1d": 101,
         "view_item_30d": 3801,
         "view_item_7d": 713,
         "view_item_list_1d": 1086,
         "view_item_list_30d": 37567,
         "view_item_list_7d": 8405
        },
        {
         "ID": 7569,
         "Segments": "Cold",
         "_deepnote_index_column": 6,
         "add_to_cart_1d": 0,
         "add_to_cart_30d": 8,
         "add_to_cart_7d": 4,
         "begin_checkout_1d": 0,
         "begin_checkout_30d": 12,
         "begin_checkout_7d": 3,
         "image": "nan",
         "nbre_commande": 5,
         "order_recency": 2,
         "order_seniority": 34,
         "product_marge": 1145,
         "purchase_1d": 0,
         "purchase_30d": 2,
         "purchase_7d": 1,
         "qty_sold": 5,
         "reference": "22S_MADONNA-CLAY",
         "stock": "<NA>",
         "view_item_1d": 6,
         "view_item_30d": 278,
         "view_item_7d": 78,
         "view_item_list_1d": 13,
         "view_item_list_30d": 527,
         "view_item_list_7d": 108
        },
        {
         "ID": 7570,
         "Segments": "Cold",
         "_deepnote_index_column": 7,
         "add_to_cart_1d": 2,
         "add_to_cart_30d": 27,
         "add_to_cart_7d": 6,
         "begin_checkout_1d": 1,
         "begin_checkout_30d": 28,
         "begin_checkout_7d": 4,
         "image": "https://media.mesdemoisellesparis.com/20543-facebook_catalog/printemps-ete-2022-veste-madonna-ecru.jpg",
         "nbre_commande": 28,
         "order_recency": 20,
         "order_seniority": 143,
         "product_marge": 6412,
         "purchase_1d": 0,
         "purchase_30d": 4,
         "purchase_7d": 0,
         "qty_sold": 28,
         "reference": "22S_MADONNA-ECRU",
         "stock": "13",
         "view_item_1d": 19,
         "view_item_30d": 458,
         "view_item_7d": 104,
         "view_item_list_1d": 563,
         "view_item_list_30d": 19889,
         "view_item_list_7d": 3588
        },
        {
         "ID": 7571,
         "Segments": "Cold",
         "_deepnote_index_column": 8,
         "add_to_cart_1d": 0,
         "add_to_cart_30d": 10,
         "add_to_cart_7d": 3,
         "begin_checkout_1d": 0,
         "begin_checkout_30d": 5,
         "begin_checkout_7d": 3,
         "image": "https://media.mesdemoisellesparis.com/20570-facebook_catalog/printemps-ete-2022-short-marilu.jpg",
         "nbre_commande": 6,
         "order_recency": 3,
         "order_seniority": 143,
         "product_marge": 1326,
         "purchase_1d": 0,
         "purchase_30d": 1,
         "purchase_7d": 1,
         "qty_sold": 6,
         "reference": "22S_MARILU-CLAY",
         "stock": "57",
         "view_item_1d": 2,
         "view_item_30d": 227,
         "view_item_7d": 51,
         "view_item_list_1d": 497,
         "view_item_list_30d": 16498,
         "view_item_list_7d": 3170
        },
        {
         "ID": 7572,
         "Segments": "Cold",
         "_deepnote_index_column": 9,
         "add_to_cart_1d": 0,
         "add_to_cart_30d": 7,
         "add_to_cart_7d": 1,
         "begin_checkout_1d": 0,
         "begin_checkout_30d": 5,
         "begin_checkout_7d": 0,
         "image": "nan",
         "nbre_commande": 5,
         "order_recency": 11,
         "order_seniority": 71,
         "product_marge": 1105,
         "purchase_1d": 0,
         "purchase_30d": 1,
         "purchase_7d": 0,
         "qty_sold": 5,
         "reference": "22S_MARILU-ECRU",
         "stock": "52",
         "view_item_1d": 4,
         "view_item_30d": 286,
         "view_item_7d": 64,
         "view_item_list_1d": 657,
         "view_item_list_30d": 19465,
         "view_item_list_7d": 3793
        }
       ]
      },
      "text/html": [
       "<div>\n",
       "<style scoped>\n",
       "    .dataframe tbody tr th:only-of-type {\n",
       "        vertical-align: middle;\n",
       "    }\n",
       "\n",
       "    .dataframe tbody tr th {\n",
       "        vertical-align: top;\n",
       "    }\n",
       "\n",
       "    .dataframe thead th {\n",
       "        text-align: right;\n",
       "    }\n",
       "</style>\n",
       "<table border=\"1\" class=\"dataframe\">\n",
       "  <thead>\n",
       "    <tr style=\"text-align: right;\">\n",
       "      <th></th>\n",
       "      <th>ID</th>\n",
       "      <th>view_item_list_1d</th>\n",
       "      <th>view_item_list_7d</th>\n",
       "      <th>view_item_list_30d</th>\n",
       "      <th>view_item_1d</th>\n",
       "      <th>view_item_7d</th>\n",
       "      <th>view_item_30d</th>\n",
       "      <th>add_to_cart_1d</th>\n",
       "      <th>add_to_cart_7d</th>\n",
       "      <th>add_to_cart_30d</th>\n",
       "      <th>...</th>\n",
       "      <th>purchase_30d</th>\n",
       "      <th>qty_sold</th>\n",
       "      <th>nbre_commande</th>\n",
       "      <th>product_marge</th>\n",
       "      <th>order_recency</th>\n",
       "      <th>order_seniority</th>\n",
       "      <th>stock</th>\n",
       "      <th>Segments</th>\n",
       "      <th>image</th>\n",
       "      <th>reference</th>\n",
       "    </tr>\n",
       "  </thead>\n",
       "  <tbody>\n",
       "    <tr>\n",
       "      <th>0</th>\n",
       "      <td>7563</td>\n",
       "      <td>2068</td>\n",
       "      <td>15669</td>\n",
       "      <td>65850</td>\n",
       "      <td>78</td>\n",
       "      <td>625</td>\n",
       "      <td>5215</td>\n",
       "      <td>0</td>\n",
       "      <td>1</td>\n",
       "      <td>44</td>\n",
       "      <td>...</td>\n",
       "      <td>4</td>\n",
       "      <td>42</td>\n",
       "      <td>42</td>\n",
       "      <td>17346.0</td>\n",
       "      <td>4</td>\n",
       "      <td>145</td>\n",
       "      <td>&lt;NA&gt;</td>\n",
       "      <td>Hot Old</td>\n",
       "      <td>NaN</td>\n",
       "      <td>22S_MONATELLA-TERRE DE SIENNE</td>\n",
       "    </tr>\n",
       "    <tr>\n",
       "      <th>1</th>\n",
       "      <td>7564</td>\n",
       "      <td>691</td>\n",
       "      <td>4457</td>\n",
       "      <td>23470</td>\n",
       "      <td>37</td>\n",
       "      <td>118</td>\n",
       "      <td>393</td>\n",
       "      <td>1</td>\n",
       "      <td>1</td>\n",
       "      <td>7</td>\n",
       "      <td>...</td>\n",
       "      <td>0</td>\n",
       "      <td>9</td>\n",
       "      <td>9</td>\n",
       "      <td>2061.0</td>\n",
       "      <td>52</td>\n",
       "      <td>143</td>\n",
       "      <td>275</td>\n",
       "      <td>Cold</td>\n",
       "      <td>https://media.mesdemoisellesparis.com/20553-fa...</td>\n",
       "      <td>22S_MARA-TERRE DE SIENNE</td>\n",
       "    </tr>\n",
       "    <tr>\n",
       "      <th>2</th>\n",
       "      <td>7565</td>\n",
       "      <td>470</td>\n",
       "      <td>2851</td>\n",
       "      <td>15126</td>\n",
       "      <td>10</td>\n",
       "      <td>72</td>\n",
       "      <td>294</td>\n",
       "      <td>0</td>\n",
       "      <td>0</td>\n",
       "      <td>2</td>\n",
       "      <td>...</td>\n",
       "      <td>0</td>\n",
       "      <td>1</td>\n",
       "      <td>1</td>\n",
       "      <td>104.0</td>\n",
       "      <td>121</td>\n",
       "      <td>121</td>\n",
       "      <td>43</td>\n",
       "      <td>Cold</td>\n",
       "      <td>https://media.mesdemoisellesparis.com/20588-fa...</td>\n",
       "      <td>22S_MIA-TERRE DE SIENNE</td>\n",
       "    </tr>\n",
       "    <tr>\n",
       "      <th>3</th>\n",
       "      <td>7566</td>\n",
       "      <td>456</td>\n",
       "      <td>3004</td>\n",
       "      <td>16646</td>\n",
       "      <td>5</td>\n",
       "      <td>27</td>\n",
       "      <td>131</td>\n",
       "      <td>0</td>\n",
       "      <td>0</td>\n",
       "      <td>1</td>\n",
       "      <td>...</td>\n",
       "      <td>0</td>\n",
       "      <td>2</td>\n",
       "      <td>1</td>\n",
       "      <td>104.0</td>\n",
       "      <td>57</td>\n",
       "      <td>57</td>\n",
       "      <td>72</td>\n",
       "      <td>Cold</td>\n",
       "      <td>https://media.mesdemoisellesparis.com/20653-fa...</td>\n",
       "      <td>22S_MENEO-TERRE DE SIENNE</td>\n",
       "    </tr>\n",
       "    <tr>\n",
       "      <th>4</th>\n",
       "      <td>7567</td>\n",
       "      <td>832</td>\n",
       "      <td>5234</td>\n",
       "      <td>27711</td>\n",
       "      <td>68</td>\n",
       "      <td>689</td>\n",
       "      <td>5137</td>\n",
       "      <td>1</td>\n",
       "      <td>4</td>\n",
       "      <td>33</td>\n",
       "      <td>...</td>\n",
       "      <td>3</td>\n",
       "      <td>15</td>\n",
       "      <td>15</td>\n",
       "      <td>3570.0</td>\n",
       "      <td>19</td>\n",
       "      <td>144</td>\n",
       "      <td>12</td>\n",
       "      <td>Cold</td>\n",
       "      <td>https://media.mesdemoisellesparis.com/20552-fa...</td>\n",
       "      <td>22S_MIANNI-TERRE DE SIENNE</td>\n",
       "    </tr>\n",
       "    <tr>\n",
       "      <th>...</th>\n",
       "      <td>...</td>\n",
       "      <td>...</td>\n",
       "      <td>...</td>\n",
       "      <td>...</td>\n",
       "      <td>...</td>\n",
       "      <td>...</td>\n",
       "      <td>...</td>\n",
       "      <td>...</td>\n",
       "      <td>...</td>\n",
       "      <td>...</td>\n",
       "      <td>...</td>\n",
       "      <td>...</td>\n",
       "      <td>...</td>\n",
       "      <td>...</td>\n",
       "      <td>...</td>\n",
       "      <td>...</td>\n",
       "      <td>...</td>\n",
       "      <td>...</td>\n",
       "      <td>...</td>\n",
       "      <td>...</td>\n",
       "      <td>...</td>\n",
       "    </tr>\n",
       "    <tr>\n",
       "      <th>236</th>\n",
       "      <td>8244</td>\n",
       "      <td>945</td>\n",
       "      <td>6793</td>\n",
       "      <td>36900</td>\n",
       "      <td>68</td>\n",
       "      <td>224</td>\n",
       "      <td>788</td>\n",
       "      <td>0</td>\n",
       "      <td>0</td>\n",
       "      <td>4</td>\n",
       "      <td>...</td>\n",
       "      <td>0</td>\n",
       "      <td>12</td>\n",
       "      <td>12</td>\n",
       "      <td>3456.0</td>\n",
       "      <td>49</td>\n",
       "      <td>170</td>\n",
       "      <td>46</td>\n",
       "      <td>Cold</td>\n",
       "      <td>https://media.mesdemoisellesparis.com/20018-fa...</td>\n",
       "      <td>22S_KERWEL-BLACK</td>\n",
       "    </tr>\n",
       "    <tr>\n",
       "      <th>237</th>\n",
       "      <td>8246</td>\n",
       "      <td>1372</td>\n",
       "      <td>7722</td>\n",
       "      <td>37219</td>\n",
       "      <td>44</td>\n",
       "      <td>380</td>\n",
       "      <td>1248</td>\n",
       "      <td>1</td>\n",
       "      <td>14</td>\n",
       "      <td>55</td>\n",
       "      <td>...</td>\n",
       "      <td>7</td>\n",
       "      <td>25</td>\n",
       "      <td>25</td>\n",
       "      <td>6975.0</td>\n",
       "      <td>2</td>\n",
       "      <td>83</td>\n",
       "      <td>155</td>\n",
       "      <td>Hot Old</td>\n",
       "      <td>https://media.mesdemoisellesparis.com/20800-fa...</td>\n",
       "      <td>22S_GIENNAH-BLACK</td>\n",
       "    </tr>\n",
       "    <tr>\n",
       "      <th>238</th>\n",
       "      <td>8249</td>\n",
       "      <td>2183</td>\n",
       "      <td>15704</td>\n",
       "      <td>60915</td>\n",
       "      <td>146</td>\n",
       "      <td>1264</td>\n",
       "      <td>6563</td>\n",
       "      <td>2</td>\n",
       "      <td>10</td>\n",
       "      <td>262</td>\n",
       "      <td>...</td>\n",
       "      <td>54</td>\n",
       "      <td>103</td>\n",
       "      <td>102</td>\n",
       "      <td>39964.0</td>\n",
       "      <td>3</td>\n",
       "      <td>95</td>\n",
       "      <td>1</td>\n",
       "      <td>Top Hot</td>\n",
       "      <td>NaN</td>\n",
       "      <td>22S_PERKINS-SUNSET COMBO</td>\n",
       "    </tr>\n",
       "    <tr>\n",
       "      <th>239</th>\n",
       "      <td>8270</td>\n",
       "      <td>3731</td>\n",
       "      <td>26649</td>\n",
       "      <td>113383</td>\n",
       "      <td>256</td>\n",
       "      <td>1398</td>\n",
       "      <td>6077</td>\n",
       "      <td>4</td>\n",
       "      <td>9</td>\n",
       "      <td>55</td>\n",
       "      <td>...</td>\n",
       "      <td>9</td>\n",
       "      <td>45</td>\n",
       "      <td>43</td>\n",
       "      <td>12960.0</td>\n",
       "      <td>1</td>\n",
       "      <td>61</td>\n",
       "      <td>&lt;NA&gt;</td>\n",
       "      <td>Medium Hot</td>\n",
       "      <td>https://media.mesdemoisellesparis.com/21295-fa...</td>\n",
       "      <td>22S_PHALE-CHARCOAL/ECRU</td>\n",
       "    </tr>\n",
       "    <tr>\n",
       "      <th>240</th>\n",
       "      <td>8281</td>\n",
       "      <td>396</td>\n",
       "      <td>2505</td>\n",
       "      <td>12277</td>\n",
       "      <td>26</td>\n",
       "      <td>114</td>\n",
       "      <td>462</td>\n",
       "      <td>0</td>\n",
       "      <td>4</td>\n",
       "      <td>19</td>\n",
       "      <td>...</td>\n",
       "      <td>0</td>\n",
       "      <td>21</td>\n",
       "      <td>21</td>\n",
       "      <td>2016.0</td>\n",
       "      <td>46</td>\n",
       "      <td>129</td>\n",
       "      <td>88</td>\n",
       "      <td>Cold</td>\n",
       "      <td>https://media.mesdemoisellesparis.com/20674-fa...</td>\n",
       "      <td>22S_SET MEKA-TERRE DE SIENNE</td>\n",
       "    </tr>\n",
       "  </tbody>\n",
       "</table>\n",
       "<p>241 rows × 25 columns</p>\n",
       "</div>"
      ],
      "text/plain": [
       "       ID  view_item_list_1d  view_item_list_7d  view_item_list_30d  \\\n",
       "0    7563               2068              15669               65850   \n",
       "1    7564                691               4457               23470   \n",
       "2    7565                470               2851               15126   \n",
       "3    7566                456               3004               16646   \n",
       "4    7567                832               5234               27711   \n",
       "..    ...                ...                ...                 ...   \n",
       "236  8244                945               6793               36900   \n",
       "237  8246               1372               7722               37219   \n",
       "238  8249               2183              15704               60915   \n",
       "239  8270               3731              26649              113383   \n",
       "240  8281                396               2505               12277   \n",
       "\n",
       "     view_item_1d  view_item_7d  view_item_30d  add_to_cart_1d  \\\n",
       "0              78           625           5215               0   \n",
       "1              37           118            393               1   \n",
       "2              10            72            294               0   \n",
       "3               5            27            131               0   \n",
       "4              68           689           5137               1   \n",
       "..            ...           ...            ...             ...   \n",
       "236            68           224            788               0   \n",
       "237            44           380           1248               1   \n",
       "238           146          1264           6563               2   \n",
       "239           256          1398           6077               4   \n",
       "240            26           114            462               0   \n",
       "\n",
       "     add_to_cart_7d  add_to_cart_30d  ...  purchase_30d  qty_sold  \\\n",
       "0                 1               44  ...             4        42   \n",
       "1                 1                7  ...             0         9   \n",
       "2                 0                2  ...             0         1   \n",
       "3                 0                1  ...             0         2   \n",
       "4                 4               33  ...             3        15   \n",
       "..              ...              ...  ...           ...       ...   \n",
       "236               0                4  ...             0        12   \n",
       "237              14               55  ...             7        25   \n",
       "238              10              262  ...            54       103   \n",
       "239               9               55  ...             9        45   \n",
       "240               4               19  ...             0        21   \n",
       "\n",
       "     nbre_commande  product_marge  order_recency  order_seniority  stock  \\\n",
       "0               42        17346.0              4              145   <NA>   \n",
       "1                9         2061.0             52              143    275   \n",
       "2                1          104.0            121              121     43   \n",
       "3                1          104.0             57               57     72   \n",
       "4               15         3570.0             19              144     12   \n",
       "..             ...            ...            ...              ...    ...   \n",
       "236             12         3456.0             49              170     46   \n",
       "237             25         6975.0              2               83    155   \n",
       "238            102        39964.0              3               95      1   \n",
       "239             43        12960.0              1               61   <NA>   \n",
       "240             21         2016.0             46              129     88   \n",
       "\n",
       "       Segments                                              image  \\\n",
       "0       Hot Old                                                NaN   \n",
       "1          Cold  https://media.mesdemoisellesparis.com/20553-fa...   \n",
       "2          Cold  https://media.mesdemoisellesparis.com/20588-fa...   \n",
       "3          Cold  https://media.mesdemoisellesparis.com/20653-fa...   \n",
       "4          Cold  https://media.mesdemoisellesparis.com/20552-fa...   \n",
       "..          ...                                                ...   \n",
       "236        Cold  https://media.mesdemoisellesparis.com/20018-fa...   \n",
       "237     Hot Old  https://media.mesdemoisellesparis.com/20800-fa...   \n",
       "238     Top Hot                                                NaN   \n",
       "239  Medium Hot  https://media.mesdemoisellesparis.com/21295-fa...   \n",
       "240        Cold  https://media.mesdemoisellesparis.com/20674-fa...   \n",
       "\n",
       "                         reference  \n",
       "0    22S_MONATELLA-TERRE DE SIENNE  \n",
       "1         22S_MARA-TERRE DE SIENNE  \n",
       "2          22S_MIA-TERRE DE SIENNE  \n",
       "3        22S_MENEO-TERRE DE SIENNE  \n",
       "4       22S_MIANNI-TERRE DE SIENNE  \n",
       "..                             ...  \n",
       "236               22S_KERWEL-BLACK  \n",
       "237              22S_GIENNAH-BLACK  \n",
       "238       22S_PERKINS-SUNSET COMBO  \n",
       "239        22S_PHALE-CHARCOAL/ECRU  \n",
       "240   22S_SET MEKA-TERRE DE SIENNE  \n",
       "\n",
       "[241 rows x 25 columns]"
      ]
     },
     "execution_count": 39,
     "metadata": {},
     "output_type": "execute_result"
    }
   ],
   "source": [
    "final"
   ]
  },
  {
   "cell_type": "code",
   "execution_count": null,
   "metadata": {
    "cell_id": "c4025e5a6f6446c0994197534734c98f",
    "deepnote_cell_height": 136.1875,
    "deepnote_cell_type": "code",
    "deepnote_to_be_reexecuted": false,
    "execution_millis": 6,
    "execution_start": 1654077132123,
    "source_hash": "c53e22a9",
    "tags": []
   },
   "outputs": [
    {
     "data": {
      "text/plain": [
       "['kmeans.joblib']"
      ]
     },
     "execution_count": 40,
     "metadata": {},
     "output_type": "execute_result"
    }
   ],
   "source": [
    "import joblib\n",
    "joblib.dump(kmeans, 'kmeans.joblib')"
   ]
  },
  {
   "cell_type": "markdown",
   "metadata": {
    "cell_id": "2ad9f86b36a44b60af019702ba54570e",
    "deepnote_cell_type": "text-cell-h3",
    "formattedRanges": [],
    "is_collapsed": false,
    "tags": []
   },
   "source": [
    "### push data into BigQuery"
   ]
  },
  {
   "cell_type": "code",
   "execution_count": null,
   "metadata": {
    "cell_id": "373aaefb23ef450d812977a1fb325d30",
    "deepnote_cell_height": 165.859375,
    "deepnote_cell_type": "code",
    "deepnote_to_be_reexecuted": true,
    "execution_millis": 6269,
    "execution_start": 1653298769471,
    "source_hash": "37f4d547",
    "tags": []
   },
   "outputs": [
    {
     "name": "stderr",
     "output_type": "stream",
     "text": [
      "100%|██████████| 1/1 [00:00<00:00, 318.04it/s]\n"
     ]
    }
   ],
   "source": [
    "# Push Data to BigQuery\n",
    "import pandas_gbq\n",
    "table_id= 'reportings.hot_cold_product'\n",
    "final.to_gbq(table_id,if_exists='replace', credentials=credentials)"
   ]
  },
  {
   "cell_type": "markdown",
   "metadata": {
    "created_in_deepnote_cell": true,
    "deepnote_cell_type": "markdown",
    "tags": []
   },
   "source": [
    "<a style='text-decoration:none;line-height:16px;display:flex;color:#5B5B62;padding:10px;justify-content:end;' href='https://deepnote.com?utm_source=created-in-deepnote-cell&projectId=08a4d91e-cdf8-4f34-a2e4-ebb5990d58fe' target=\"_blank\">\n",
    "<img alt='Created in deepnote.com' style='display:inline;max-height:16px;margin:0px;margin-right:7.5px;' src='data:image/svg+xml;base64,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' > </img>\n",
    "Created in <span style='font-weight:600;margin-left:4px;'>Deepnote</span></a>"
   ]
  }
 ],
 "metadata": {
  "deepnote": {},
  "deepnote_execution_queue": [],
  "deepnote_notebook_id": "6fada961-32d9-4c99-9888-aab800ee182b",
  "kernelspec": {
   "display_name": "Python 3",
   "language": "python",
   "name": "python3"
  },
  "language_info": {
   "codemirror_mode": {
    "name": "ipython",
    "version": 3
   },
   "file_extension": ".py",
   "mimetype": "text/x-python",
   "name": "python",
   "nbconvert_exporter": "python",
   "pygments_lexer": "ipython3",
   "version": "3.8.3"
  }
 },
 "nbformat": 4,
 "nbformat_minor": 2
}
